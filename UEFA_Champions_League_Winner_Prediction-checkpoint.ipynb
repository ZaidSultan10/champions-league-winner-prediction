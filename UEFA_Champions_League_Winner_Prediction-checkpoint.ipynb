{
 "cells": [
  {
   "cell_type": "code",
   "execution_count": 1,
   "id": "e590d4ea",
   "metadata": {},
   "outputs": [],
   "source": [
    "# loading dataset\n",
    "\n",
    "import pandas as pd\n",
    "import numpy as np\n",
    "import matplotlib.pyplot as plt\n",
    "import seaborn as sns\n",
    "\n"
   ]
  },
  {
   "cell_type": "code",
   "execution_count": 2,
   "id": "531a7954",
   "metadata": {},
   "outputs": [],
   "source": [
    "uefa_raw_df = pd.read_csv('UEFA Champions League 2004-2021.csv')"
   ]
  },
  {
   "cell_type": "code",
   "execution_count": 3,
   "id": "87aacc11",
   "metadata": {},
   "outputs": [
    {
     "data": {
      "text/html": [
       "<div>\n",
       "<style scoped>\n",
       "    .dataframe tbody tr th:only-of-type {\n",
       "        vertical-align: middle;\n",
       "    }\n",
       "\n",
       "    .dataframe tbody tr th {\n",
       "        vertical-align: top;\n",
       "    }\n",
       "\n",
       "    .dataframe thead th {\n",
       "        text-align: right;\n",
       "    }\n",
       "</style>\n",
       "<table border=\"1\" class=\"dataframe\">\n",
       "  <thead>\n",
       "    <tr style=\"text-align: right;\">\n",
       "      <th></th>\n",
       "      <th>Unnamed: 0</th>\n",
       "      <th>homeTeam</th>\n",
       "      <th>homeScore</th>\n",
       "      <th>awayteam</th>\n",
       "      <th>awayscore</th>\n",
       "      <th>round</th>\n",
       "      <th>group</th>\n",
       "      <th>date</th>\n",
       "    </tr>\n",
       "  </thead>\n",
       "  <tbody>\n",
       "    <tr>\n",
       "      <th>0</th>\n",
       "      <td>0</td>\n",
       "      <td>Club Brugge</td>\n",
       "      <td>1</td>\n",
       "      <td>Juventus</td>\n",
       "      <td>2</td>\n",
       "      <td>round : 1</td>\n",
       "      <td>A</td>\n",
       "      <td>2005-09-14</td>\n",
       "    </tr>\n",
       "    <tr>\n",
       "      <th>1</th>\n",
       "      <td>1</td>\n",
       "      <td>SK Rapid Wien</td>\n",
       "      <td>0</td>\n",
       "      <td>Bayern München</td>\n",
       "      <td>1</td>\n",
       "      <td>round : 1</td>\n",
       "      <td>A</td>\n",
       "      <td>2005-09-14</td>\n",
       "    </tr>\n",
       "    <tr>\n",
       "      <th>2</th>\n",
       "      <td>2</td>\n",
       "      <td>Arsenal</td>\n",
       "      <td>2</td>\n",
       "      <td>FC Thun</td>\n",
       "      <td>1</td>\n",
       "      <td>round : 1</td>\n",
       "      <td>B</td>\n",
       "      <td>2005-09-14</td>\n",
       "    </tr>\n",
       "    <tr>\n",
       "      <th>3</th>\n",
       "      <td>3</td>\n",
       "      <td>Sparta Praha</td>\n",
       "      <td>1</td>\n",
       "      <td>Ajax</td>\n",
       "      <td>1</td>\n",
       "      <td>round : 1</td>\n",
       "      <td>B</td>\n",
       "      <td>2005-09-14</td>\n",
       "    </tr>\n",
       "    <tr>\n",
       "      <th>4</th>\n",
       "      <td>4</td>\n",
       "      <td>Udinese</td>\n",
       "      <td>3</td>\n",
       "      <td>Panathinaikos</td>\n",
       "      <td>0</td>\n",
       "      <td>round : 1</td>\n",
       "      <td>C</td>\n",
       "      <td>2005-09-14</td>\n",
       "    </tr>\n",
       "  </tbody>\n",
       "</table>\n",
       "</div>"
      ],
      "text/plain": [
       "   Unnamed: 0       homeTeam homeScore        awayteam awayscore      round  \\\n",
       "0           0    Club Brugge         1        Juventus         2  round : 1   \n",
       "1           1  SK Rapid Wien         0  Bayern München         1  round : 1   \n",
       "2           2        Arsenal         2         FC Thun         1  round : 1   \n",
       "3           3   Sparta Praha         1            Ajax         1  round : 1   \n",
       "4           4        Udinese         3   Panathinaikos         0  round : 1   \n",
       "\n",
       "  group        date  \n",
       "0     A  2005-09-14  \n",
       "1     A  2005-09-14  \n",
       "2     B  2005-09-14  \n",
       "3     B  2005-09-14  \n",
       "4     C  2005-09-14  "
      ]
     },
     "execution_count": 3,
     "metadata": {},
     "output_type": "execute_result"
    }
   ],
   "source": [
    "uefa_raw_df.head()"
   ]
  },
  {
   "cell_type": "code",
   "execution_count": null,
   "id": "28a42c57",
   "metadata": {},
   "outputs": [],
   "source": []
  }
 ],
 "metadata": {
  "kernelspec": {
   "display_name": "Python 3",
   "language": "python",
   "name": "python3"
  },
  "language_info": {
   "codemirror_mode": {
    "name": "ipython",
    "version": 3
   },
   "file_extension": ".py",
   "mimetype": "text/x-python",
   "name": "python",
   "nbconvert_exporter": "python",
   "pygments_lexer": "ipython3",
   "version": "3.8.8"
  }
 },
 "nbformat": 4,
 "nbformat_minor": 5
}
