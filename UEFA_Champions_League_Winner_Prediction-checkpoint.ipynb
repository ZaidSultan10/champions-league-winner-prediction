{
 "cells": [
  {
   "cell_type": "code",
   "execution_count": 1101,
   "id": "e590d4ea",
   "metadata": {},
   "outputs": [],
   "source": [
    "# loading dataset\n",
    "# clean data\n",
    "#visualize\n",
    "#model\n",
    "\n",
    "#Q1 best performing teams in each group\n",
    "#Q2 most goals scored by a team in group stages\n",
    "#Q3 top 10 player with most goals (done)\n",
    "#Q4 consistency of top 4 teams in group stages\n",
    "#Q5 overall stats of the best and worst performing team \n",
    "#Q6 worst performing team \n",
    "#Q7 best performing team \n",
    "#Q8 team which conceded least goals and most goals\n",
    "#Q9 best team to win round of 16\n",
    "#Q10 teams who won both legs \n",
    "#Q11 teams who won one leg but qualified\n",
    "#Q12 team stats of top four\n",
    "#Q13 top 10 players with most assists (done)\n",
    "#Q14 top 10 best defenders (done)\n",
    "\n",
    "\n",
    "\n",
    "import pandas as pd\n",
    "import numpy as np\n",
    "import matplotlib.pyplot as plt\n",
    "import seaborn as sns\n",
    "import plotly.express as px\n",
    "\n"
   ]
  },
  {
   "cell_type": "code",
   "execution_count": 1102,
   "id": "531a7954",
   "metadata": {},
   "outputs": [],
   "source": [
    "uefa_raw_df = pd.read_csv('../UEFA Champions League 2004-2021.csv')"
   ]
  },
  {
   "cell_type": "code",
   "execution_count": 1103,
   "id": "87aacc11",
   "metadata": {},
   "outputs": [
    {
     "data": {
      "text/html": [
       "<div>\n",
       "<style scoped>\n",
       "    .dataframe tbody tr th:only-of-type {\n",
       "        vertical-align: middle;\n",
       "    }\n",
       "\n",
       "    .dataframe tbody tr th {\n",
       "        vertical-align: top;\n",
       "    }\n",
       "\n",
       "    .dataframe thead th {\n",
       "        text-align: right;\n",
       "    }\n",
       "</style>\n",
       "<table border=\"1\" class=\"dataframe\">\n",
       "  <thead>\n",
       "    <tr style=\"text-align: right;\">\n",
       "      <th></th>\n",
       "      <th>Unnamed: 0</th>\n",
       "      <th>homeTeam</th>\n",
       "      <th>homeScore</th>\n",
       "      <th>awayteam</th>\n",
       "      <th>awayscore</th>\n",
       "      <th>round</th>\n",
       "      <th>group</th>\n",
       "      <th>date</th>\n",
       "    </tr>\n",
       "  </thead>\n",
       "  <tbody>\n",
       "    <tr>\n",
       "      <th>0</th>\n",
       "      <td>0</td>\n",
       "      <td>Club Brugge</td>\n",
       "      <td>1</td>\n",
       "      <td>Juventus</td>\n",
       "      <td>2</td>\n",
       "      <td>round : 1</td>\n",
       "      <td>A</td>\n",
       "      <td>2005-09-14</td>\n",
       "    </tr>\n",
       "    <tr>\n",
       "      <th>1</th>\n",
       "      <td>1</td>\n",
       "      <td>SK Rapid Wien</td>\n",
       "      <td>0</td>\n",
       "      <td>Bayern München</td>\n",
       "      <td>1</td>\n",
       "      <td>round : 1</td>\n",
       "      <td>A</td>\n",
       "      <td>2005-09-14</td>\n",
       "    </tr>\n",
       "    <tr>\n",
       "      <th>2</th>\n",
       "      <td>2</td>\n",
       "      <td>Arsenal</td>\n",
       "      <td>2</td>\n",
       "      <td>FC Thun</td>\n",
       "      <td>1</td>\n",
       "      <td>round : 1</td>\n",
       "      <td>B</td>\n",
       "      <td>2005-09-14</td>\n",
       "    </tr>\n",
       "    <tr>\n",
       "      <th>3</th>\n",
       "      <td>3</td>\n",
       "      <td>Sparta Praha</td>\n",
       "      <td>1</td>\n",
       "      <td>Ajax</td>\n",
       "      <td>1</td>\n",
       "      <td>round : 1</td>\n",
       "      <td>B</td>\n",
       "      <td>2005-09-14</td>\n",
       "    </tr>\n",
       "    <tr>\n",
       "      <th>4</th>\n",
       "      <td>4</td>\n",
       "      <td>Udinese</td>\n",
       "      <td>3</td>\n",
       "      <td>Panathinaikos</td>\n",
       "      <td>0</td>\n",
       "      <td>round : 1</td>\n",
       "      <td>C</td>\n",
       "      <td>2005-09-14</td>\n",
       "    </tr>\n",
       "  </tbody>\n",
       "</table>\n",
       "</div>"
      ],
      "text/plain": [
       "   Unnamed: 0       homeTeam homeScore        awayteam awayscore      round  \\\n",
       "0           0    Club Brugge         1        Juventus         2  round : 1   \n",
       "1           1  SK Rapid Wien         0  Bayern München         1  round : 1   \n",
       "2           2        Arsenal         2         FC Thun         1  round : 1   \n",
       "3           3   Sparta Praha         1            Ajax         1  round : 1   \n",
       "4           4        Udinese         3   Panathinaikos         0  round : 1   \n",
       "\n",
       "  group        date  \n",
       "0     A  2005-09-14  \n",
       "1     A  2005-09-14  \n",
       "2     B  2005-09-14  \n",
       "3     B  2005-09-14  \n",
       "4     C  2005-09-14  "
      ]
     },
     "execution_count": 1103,
     "metadata": {},
     "output_type": "execute_result"
    }
   ],
   "source": [
    "uefa_raw_df.head()"
   ]
  },
  {
   "cell_type": "code",
   "execution_count": 1104,
   "id": "28a42c57",
   "metadata": {},
   "outputs": [
    {
     "name": "stdout",
     "output_type": "stream",
     "text": [
      "<class 'pandas.core.frame.DataFrame'>\n",
      "RangeIndex: 1738 entries, 0 to 1737\n",
      "Data columns (total 8 columns):\n",
      " #   Column      Non-Null Count  Dtype \n",
      "---  ------      --------------  ----- \n",
      " 0   Unnamed: 0  1738 non-null   int64 \n",
      " 1   homeTeam    1738 non-null   object\n",
      " 2   homeScore   1738 non-null   object\n",
      " 3   awayteam    1738 non-null   object\n",
      " 4   awayscore   1738 non-null   object\n",
      " 5   round       1738 non-null   object\n",
      " 6   group       1280 non-null   object\n",
      " 7   date        1738 non-null   object\n",
      "dtypes: int64(1), object(7)\n",
      "memory usage: 108.8+ KB\n"
     ]
    }
   ],
   "source": [
    "uefa_raw_df.info()"
   ]
  },
  {
   "cell_type": "code",
   "execution_count": 1105,
   "id": "47a3f96c",
   "metadata": {},
   "outputs": [
    {
     "data": {
      "text/plain": [
       "(1738, 8)"
      ]
     },
     "execution_count": 1105,
     "metadata": {},
     "output_type": "execute_result"
    }
   ],
   "source": [
    "uefa_raw_df.shape"
   ]
  },
  {
   "cell_type": "code",
   "execution_count": 1106,
   "id": "3580373b",
   "metadata": {},
   "outputs": [
    {
     "data": {
      "text/html": [
       "<div>\n",
       "<style scoped>\n",
       "    .dataframe tbody tr th:only-of-type {\n",
       "        vertical-align: middle;\n",
       "    }\n",
       "\n",
       "    .dataframe tbody tr th {\n",
       "        vertical-align: top;\n",
       "    }\n",
       "\n",
       "    .dataframe thead th {\n",
       "        text-align: right;\n",
       "    }\n",
       "</style>\n",
       "<table border=\"1\" class=\"dataframe\">\n",
       "  <thead>\n",
       "    <tr style=\"text-align: right;\">\n",
       "      <th></th>\n",
       "      <th>Unnamed: 0</th>\n",
       "      <th>homeTeam</th>\n",
       "      <th>homeScore</th>\n",
       "      <th>awayteam</th>\n",
       "      <th>awayscore</th>\n",
       "      <th>round</th>\n",
       "      <th>group</th>\n",
       "      <th>date</th>\n",
       "    </tr>\n",
       "  </thead>\n",
       "  <tbody>\n",
       "    <tr>\n",
       "      <th>0</th>\n",
       "      <td>0</td>\n",
       "      <td>Club Brugge</td>\n",
       "      <td>1</td>\n",
       "      <td>Juventus</td>\n",
       "      <td>2</td>\n",
       "      <td>round : 1</td>\n",
       "      <td>A</td>\n",
       "      <td>2005-09-14</td>\n",
       "    </tr>\n",
       "    <tr>\n",
       "      <th>1</th>\n",
       "      <td>1</td>\n",
       "      <td>SK Rapid Wien</td>\n",
       "      <td>0</td>\n",
       "      <td>Bayern München</td>\n",
       "      <td>1</td>\n",
       "      <td>round : 1</td>\n",
       "      <td>A</td>\n",
       "      <td>2005-09-14</td>\n",
       "    </tr>\n",
       "    <tr>\n",
       "      <th>2</th>\n",
       "      <td>2</td>\n",
       "      <td>Arsenal</td>\n",
       "      <td>2</td>\n",
       "      <td>FC Thun</td>\n",
       "      <td>1</td>\n",
       "      <td>round : 1</td>\n",
       "      <td>B</td>\n",
       "      <td>2005-09-14</td>\n",
       "    </tr>\n",
       "    <tr>\n",
       "      <th>3</th>\n",
       "      <td>3</td>\n",
       "      <td>Sparta Praha</td>\n",
       "      <td>1</td>\n",
       "      <td>Ajax</td>\n",
       "      <td>1</td>\n",
       "      <td>round : 1</td>\n",
       "      <td>B</td>\n",
       "      <td>2005-09-14</td>\n",
       "    </tr>\n",
       "    <tr>\n",
       "      <th>4</th>\n",
       "      <td>4</td>\n",
       "      <td>Udinese</td>\n",
       "      <td>3</td>\n",
       "      <td>Panathinaikos</td>\n",
       "      <td>0</td>\n",
       "      <td>round : 1</td>\n",
       "      <td>C</td>\n",
       "      <td>2005-09-14</td>\n",
       "    </tr>\n",
       "  </tbody>\n",
       "</table>\n",
       "</div>"
      ],
      "text/plain": [
       "   Unnamed: 0       homeTeam homeScore        awayteam awayscore      round  \\\n",
       "0           0    Club Brugge         1        Juventus         2  round : 1   \n",
       "1           1  SK Rapid Wien         0  Bayern München         1  round : 1   \n",
       "2           2        Arsenal         2         FC Thun         1  round : 1   \n",
       "3           3   Sparta Praha         1            Ajax         1  round : 1   \n",
       "4           4        Udinese         3   Panathinaikos         0  round : 1   \n",
       "\n",
       "  group        date  \n",
       "0     A  2005-09-14  \n",
       "1     A  2005-09-14  \n",
       "2     B  2005-09-14  \n",
       "3     B  2005-09-14  \n",
       "4     C  2005-09-14  "
      ]
     },
     "execution_count": 1106,
     "metadata": {},
     "output_type": "execute_result"
    }
   ],
   "source": [
    "uefa_raw_df.head()"
   ]
  },
  {
   "cell_type": "code",
   "execution_count": 1107,
   "id": "48bcb973",
   "metadata": {},
   "outputs": [],
   "source": [
    "uefa_player_raw_df = pd.read_csv('../UEFA_CL_Player_stats.csv')"
   ]
  },
  {
   "cell_type": "code",
   "execution_count": 1108,
   "id": "82eb2744",
   "metadata": {},
   "outputs": [
    {
     "data": {
      "text/html": [
       "<div>\n",
       "<style scoped>\n",
       "    .dataframe tbody tr th:only-of-type {\n",
       "        vertical-align: middle;\n",
       "    }\n",
       "\n",
       "    .dataframe tbody tr th {\n",
       "        vertical-align: top;\n",
       "    }\n",
       "\n",
       "    .dataframe thead th {\n",
       "        text-align: right;\n",
       "    }\n",
       "</style>\n",
       "<table border=\"1\" class=\"dataframe\">\n",
       "  <thead>\n",
       "    <tr style=\"text-align: right;\">\n",
       "      <th></th>\n",
       "      <th>Unnamed: 0</th>\n",
       "      <th>name</th>\n",
       "      <th>season</th>\n",
       "      <th>season year</th>\n",
       "      <th>team</th>\n",
       "      <th>rating</th>\n",
       "      <th>goals</th>\n",
       "      <th>bigChancesCreated</th>\n",
       "      <th>bigChancesMissed</th>\n",
       "      <th>assists</th>\n",
       "      <th>...</th>\n",
       "      <th>scoringFrequency</th>\n",
       "      <th>yellowRedCards</th>\n",
       "      <th>savesCaught</th>\n",
       "      <th>savesParried</th>\n",
       "      <th>totalOwnHalfPasses</th>\n",
       "      <th>totalOppositionHalfPasses</th>\n",
       "      <th>totwAppearances</th>\n",
       "      <th>appearances</th>\n",
       "      <th>substitutionsIn</th>\n",
       "      <th>substitutionsOut</th>\n",
       "    </tr>\n",
       "  </thead>\n",
       "  <tbody>\n",
       "    <tr>\n",
       "      <th>0</th>\n",
       "      <td>0</td>\n",
       "      <td>Robin van Persie</td>\n",
       "      <td>Champions League 13/14</td>\n",
       "      <td>13/14</td>\n",
       "      <td>manchester-united</td>\n",
       "      <td>NaN</td>\n",
       "      <td>4</td>\n",
       "      <td>NaN</td>\n",
       "      <td>NaN</td>\n",
       "      <td>NaN</td>\n",
       "      <td>...</td>\n",
       "      <td>NaN</td>\n",
       "      <td>NaN</td>\n",
       "      <td>NaN</td>\n",
       "      <td>NaN</td>\n",
       "      <td>NaN</td>\n",
       "      <td>NaN</td>\n",
       "      <td>NaN</td>\n",
       "      <td>6</td>\n",
       "      <td>NaN</td>\n",
       "      <td>NaN</td>\n",
       "    </tr>\n",
       "    <tr>\n",
       "      <th>1</th>\n",
       "      <td>1</td>\n",
       "      <td>Ashley Cole</td>\n",
       "      <td>Champions League 13/14</td>\n",
       "      <td>13/14</td>\n",
       "      <td>chelsea</td>\n",
       "      <td>NaN</td>\n",
       "      <td>0</td>\n",
       "      <td>NaN</td>\n",
       "      <td>NaN</td>\n",
       "      <td>0.0</td>\n",
       "      <td>...</td>\n",
       "      <td>NaN</td>\n",
       "      <td>0.0</td>\n",
       "      <td>NaN</td>\n",
       "      <td>NaN</td>\n",
       "      <td>NaN</td>\n",
       "      <td>NaN</td>\n",
       "      <td>NaN</td>\n",
       "      <td>5</td>\n",
       "      <td>0.0</td>\n",
       "      <td>1.0</td>\n",
       "    </tr>\n",
       "    <tr>\n",
       "      <th>2</th>\n",
       "      <td>2</td>\n",
       "      <td>José Antonio Reyes</td>\n",
       "      <td>UEFA Champions League 15/16</td>\n",
       "      <td>15/16</td>\n",
       "      <td>sevilla</td>\n",
       "      <td>7.25</td>\n",
       "      <td>0</td>\n",
       "      <td>0.0</td>\n",
       "      <td>1.0</td>\n",
       "      <td>0.0</td>\n",
       "      <td>...</td>\n",
       "      <td>NaN</td>\n",
       "      <td>0.0</td>\n",
       "      <td>0.0</td>\n",
       "      <td>0.0</td>\n",
       "      <td>23.0</td>\n",
       "      <td>68.0</td>\n",
       "      <td>NaN</td>\n",
       "      <td>2</td>\n",
       "      <td>NaN</td>\n",
       "      <td>NaN</td>\n",
       "    </tr>\n",
       "    <tr>\n",
       "      <th>3</th>\n",
       "      <td>3</td>\n",
       "      <td>Roman Weidenfeller</td>\n",
       "      <td>Champions League 13/14</td>\n",
       "      <td>13/14</td>\n",
       "      <td>borussia-dortmund</td>\n",
       "      <td>NaN</td>\n",
       "      <td>0</td>\n",
       "      <td>NaN</td>\n",
       "      <td>NaN</td>\n",
       "      <td>0.0</td>\n",
       "      <td>...</td>\n",
       "      <td>NaN</td>\n",
       "      <td>0.0</td>\n",
       "      <td>NaN</td>\n",
       "      <td>NaN</td>\n",
       "      <td>NaN</td>\n",
       "      <td>NaN</td>\n",
       "      <td>NaN</td>\n",
       "      <td>9</td>\n",
       "      <td>0.0</td>\n",
       "      <td>0.0</td>\n",
       "    </tr>\n",
       "    <tr>\n",
       "      <th>4</th>\n",
       "      <td>4</td>\n",
       "      <td>Roman Weidenfeller</td>\n",
       "      <td>Champions League 14/15</td>\n",
       "      <td>14/15</td>\n",
       "      <td>borussia-dortmund</td>\n",
       "      <td>NaN</td>\n",
       "      <td>0</td>\n",
       "      <td>NaN</td>\n",
       "      <td>NaN</td>\n",
       "      <td>0.0</td>\n",
       "      <td>...</td>\n",
       "      <td>NaN</td>\n",
       "      <td>0.0</td>\n",
       "      <td>NaN</td>\n",
       "      <td>NaN</td>\n",
       "      <td>NaN</td>\n",
       "      <td>NaN</td>\n",
       "      <td>NaN</td>\n",
       "      <td>7</td>\n",
       "      <td>0.0</td>\n",
       "      <td>0.0</td>\n",
       "    </tr>\n",
       "  </tbody>\n",
       "</table>\n",
       "<p>5 rows × 109 columns</p>\n",
       "</div>"
      ],
      "text/plain": [
       "   Unnamed: 0                name                       season season year  \\\n",
       "0           0    Robin van Persie       Champions League 13/14       13/14   \n",
       "1           1         Ashley Cole       Champions League 13/14       13/14   \n",
       "2           2  José Antonio Reyes  UEFA Champions League 15/16       15/16   \n",
       "3           3  Roman Weidenfeller       Champions League 13/14       13/14   \n",
       "4           4  Roman Weidenfeller       Champions League 14/15       14/15   \n",
       "\n",
       "                team  rating  goals  bigChancesCreated  bigChancesMissed  \\\n",
       "0  manchester-united     NaN      4                NaN               NaN   \n",
       "1            chelsea     NaN      0                NaN               NaN   \n",
       "2            sevilla    7.25      0                0.0               1.0   \n",
       "3  borussia-dortmund     NaN      0                NaN               NaN   \n",
       "4  borussia-dortmund     NaN      0                NaN               NaN   \n",
       "\n",
       "   assists  ...  scoringFrequency  yellowRedCards  savesCaught  savesParried  \\\n",
       "0      NaN  ...               NaN             NaN          NaN           NaN   \n",
       "1      0.0  ...               NaN             0.0          NaN           NaN   \n",
       "2      0.0  ...               NaN             0.0          0.0           0.0   \n",
       "3      0.0  ...               NaN             0.0          NaN           NaN   \n",
       "4      0.0  ...               NaN             0.0          NaN           NaN   \n",
       "\n",
       "   totalOwnHalfPasses  totalOppositionHalfPasses  totwAppearances  \\\n",
       "0                 NaN                        NaN              NaN   \n",
       "1                 NaN                        NaN              NaN   \n",
       "2                23.0                       68.0              NaN   \n",
       "3                 NaN                        NaN              NaN   \n",
       "4                 NaN                        NaN              NaN   \n",
       "\n",
       "   appearances  substitutionsIn  substitutionsOut  \n",
       "0            6              NaN               NaN  \n",
       "1            5              0.0               1.0  \n",
       "2            2              NaN               NaN  \n",
       "3            9              0.0               0.0  \n",
       "4            7              0.0               0.0  \n",
       "\n",
       "[5 rows x 109 columns]"
      ]
     },
     "execution_count": 1108,
     "metadata": {},
     "output_type": "execute_result"
    }
   ],
   "source": [
    "uefa_player_raw_df.head()"
   ]
  },
  {
   "cell_type": "code",
   "execution_count": 1109,
   "id": "555a8656",
   "metadata": {},
   "outputs": [
    {
     "data": {
      "text/plain": [
       "Index(['Unnamed: 0', 'name', 'season', 'season year', 'team', 'rating',\n",
       "       'goals', 'bigChancesCreated', 'bigChancesMissed', 'assists',\n",
       "       ...\n",
       "       'scoringFrequency', 'yellowRedCards', 'savesCaught', 'savesParried',\n",
       "       'totalOwnHalfPasses', 'totalOppositionHalfPasses', 'totwAppearances',\n",
       "       'appearances', 'substitutionsIn', 'substitutionsOut'],\n",
       "      dtype='object', length=109)"
      ]
     },
     "execution_count": 1109,
     "metadata": {},
     "output_type": "execute_result"
    }
   ],
   "source": [
    "uefa_player_raw_df.columns"
   ]
  },
  {
   "cell_type": "code",
   "execution_count": 1110,
   "id": "4827a627",
   "metadata": {},
   "outputs": [
    {
     "name": "stdout",
     "output_type": "stream",
     "text": [
      "<class 'pandas.core.frame.DataFrame'>\n",
      "RangeIndex: 5733 entries, 0 to 5732\n",
      "Columns: 109 entries, Unnamed: 0 to substitutionsOut\n",
      "dtypes: float64(101), int64(4), object(4)\n",
      "memory usage: 4.8+ MB\n"
     ]
    }
   ],
   "source": [
    "uefa_player_raw_df.info()"
   ]
  },
  {
   "cell_type": "code",
   "execution_count": 1111,
   "id": "1551cb61",
   "metadata": {},
   "outputs": [
    {
     "data": {
      "text/plain": [
       "Unnamed: 0                      0\n",
       "name                            0\n",
       "season                          0\n",
       "season year                     0\n",
       "team                            0\n",
       "                             ... \n",
       "totalOppositionHalfPasses    1664\n",
       "totwAppearances              4543\n",
       "appearances                     0\n",
       "substitutionsIn              4167\n",
       "substitutionsOut             4167\n",
       "Length: 109, dtype: int64"
      ]
     },
     "execution_count": 1111,
     "metadata": {},
     "output_type": "execute_result"
    }
   ],
   "source": [
    "uefa_player_raw_df.isnull().sum()"
   ]
  },
  {
   "cell_type": "code",
   "execution_count": 1112,
   "id": "1d58f358",
   "metadata": {},
   "outputs": [
    {
     "data": {
      "text/plain": [
       "Unnamed: 0      0\n",
       "homeTeam        0\n",
       "homeScore       0\n",
       "awayteam        0\n",
       "awayscore       0\n",
       "round           0\n",
       "group         458\n",
       "date            0\n",
       "dtype: int64"
      ]
     },
     "execution_count": 1112,
     "metadata": {},
     "output_type": "execute_result"
    }
   ],
   "source": [
    "uefa_raw_df.isnull().sum()"
   ]
  },
  {
   "cell_type": "code",
   "execution_count": 1113,
   "id": "fa2d991f",
   "metadata": {},
   "outputs": [
    {
     "data": {
      "text/plain": [
       "(5733, 109)"
      ]
     },
     "execution_count": 1113,
     "metadata": {},
     "output_type": "execute_result"
    }
   ],
   "source": [
    "uefa_player_raw_df.shape"
   ]
  },
  {
   "cell_type": "code",
   "execution_count": 1114,
   "id": "3b1c8e0f",
   "metadata": {},
   "outputs": [],
   "source": [
    "uefa_player_needed_df = uefa_player_raw_df[(uefa_player_raw_df['season year'] == '19/20')]"
   ]
  },
  {
   "cell_type": "code",
   "execution_count": 1115,
   "id": "bb8fa793",
   "metadata": {},
   "outputs": [
    {
     "data": {
      "text/plain": [
       "(685, 109)"
      ]
     },
     "execution_count": 1115,
     "metadata": {},
     "output_type": "execute_result"
    }
   ],
   "source": [
    "uefa_player_needed_df.shape"
   ]
  },
  {
   "cell_type": "code",
   "execution_count": 1116,
   "id": "da7ea99c",
   "metadata": {},
   "outputs": [],
   "source": [
    "import datetime as dt\n",
    "uefa_raw_df['date'] = pd.to_datetime(uefa_raw_df['date'])"
   ]
  },
  {
   "cell_type": "code",
   "execution_count": 1117,
   "id": "484abce4",
   "metadata": {},
   "outputs": [],
   "source": [
    "uefa_raw_df['year'] = uefa_raw_df['date'].dt.year"
   ]
  },
  {
   "cell_type": "code",
   "execution_count": 1118,
   "id": "c73ba529",
   "metadata": {},
   "outputs": [
    {
     "data": {
      "text/html": [
       "<div>\n",
       "<style scoped>\n",
       "    .dataframe tbody tr th:only-of-type {\n",
       "        vertical-align: middle;\n",
       "    }\n",
       "\n",
       "    .dataframe tbody tr th {\n",
       "        vertical-align: top;\n",
       "    }\n",
       "\n",
       "    .dataframe thead th {\n",
       "        text-align: right;\n",
       "    }\n",
       "</style>\n",
       "<table border=\"1\" class=\"dataframe\">\n",
       "  <thead>\n",
       "    <tr style=\"text-align: right;\">\n",
       "      <th></th>\n",
       "      <th>Unnamed: 0</th>\n",
       "      <th>homeTeam</th>\n",
       "      <th>homeScore</th>\n",
       "      <th>awayteam</th>\n",
       "      <th>awayscore</th>\n",
       "      <th>round</th>\n",
       "      <th>group</th>\n",
       "      <th>date</th>\n",
       "      <th>year</th>\n",
       "    </tr>\n",
       "  </thead>\n",
       "  <tbody>\n",
       "    <tr>\n",
       "      <th>0</th>\n",
       "      <td>0</td>\n",
       "      <td>Club Brugge</td>\n",
       "      <td>1</td>\n",
       "      <td>Juventus</td>\n",
       "      <td>2</td>\n",
       "      <td>round : 1</td>\n",
       "      <td>A</td>\n",
       "      <td>2005-09-14</td>\n",
       "      <td>2005</td>\n",
       "    </tr>\n",
       "    <tr>\n",
       "      <th>1</th>\n",
       "      <td>1</td>\n",
       "      <td>SK Rapid Wien</td>\n",
       "      <td>0</td>\n",
       "      <td>Bayern München</td>\n",
       "      <td>1</td>\n",
       "      <td>round : 1</td>\n",
       "      <td>A</td>\n",
       "      <td>2005-09-14</td>\n",
       "      <td>2005</td>\n",
       "    </tr>\n",
       "    <tr>\n",
       "      <th>2</th>\n",
       "      <td>2</td>\n",
       "      <td>Arsenal</td>\n",
       "      <td>2</td>\n",
       "      <td>FC Thun</td>\n",
       "      <td>1</td>\n",
       "      <td>round : 1</td>\n",
       "      <td>B</td>\n",
       "      <td>2005-09-14</td>\n",
       "      <td>2005</td>\n",
       "    </tr>\n",
       "    <tr>\n",
       "      <th>3</th>\n",
       "      <td>3</td>\n",
       "      <td>Sparta Praha</td>\n",
       "      <td>1</td>\n",
       "      <td>Ajax</td>\n",
       "      <td>1</td>\n",
       "      <td>round : 1</td>\n",
       "      <td>B</td>\n",
       "      <td>2005-09-14</td>\n",
       "      <td>2005</td>\n",
       "    </tr>\n",
       "    <tr>\n",
       "      <th>4</th>\n",
       "      <td>4</td>\n",
       "      <td>Udinese</td>\n",
       "      <td>3</td>\n",
       "      <td>Panathinaikos</td>\n",
       "      <td>0</td>\n",
       "      <td>round : 1</td>\n",
       "      <td>C</td>\n",
       "      <td>2005-09-14</td>\n",
       "      <td>2005</td>\n",
       "    </tr>\n",
       "  </tbody>\n",
       "</table>\n",
       "</div>"
      ],
      "text/plain": [
       "   Unnamed: 0       homeTeam homeScore        awayteam awayscore      round  \\\n",
       "0           0    Club Brugge         1        Juventus         2  round : 1   \n",
       "1           1  SK Rapid Wien         0  Bayern München         1  round : 1   \n",
       "2           2        Arsenal         2         FC Thun         1  round : 1   \n",
       "3           3   Sparta Praha         1            Ajax         1  round : 1   \n",
       "4           4        Udinese         3   Panathinaikos         0  round : 1   \n",
       "\n",
       "  group       date  year  \n",
       "0     A 2005-09-14  2005  \n",
       "1     A 2005-09-14  2005  \n",
       "2     B 2005-09-14  2005  \n",
       "3     B 2005-09-14  2005  \n",
       "4     C 2005-09-14  2005  "
      ]
     },
     "execution_count": 1118,
     "metadata": {},
     "output_type": "execute_result"
    }
   ],
   "source": [
    "uefa_raw_df.head()"
   ]
  },
  {
   "cell_type": "code",
   "execution_count": 1119,
   "id": "ac07497e",
   "metadata": {},
   "outputs": [],
   "source": [
    "uefa_needed_df = uefa_raw_df[(uefa_raw_df['year'] ==2019)]"
   ]
  },
  {
   "cell_type": "code",
   "execution_count": 1120,
   "id": "9f07745c",
   "metadata": {},
   "outputs": [
    {
     "data": {
      "text/plain": [
       "(109, 9)"
      ]
     },
     "execution_count": 1120,
     "metadata": {},
     "output_type": "execute_result"
    }
   ],
   "source": [
    "uefa_needed_df.shape"
   ]
  },
  {
   "cell_type": "code",
   "execution_count": 1121,
   "id": "72eda3a5",
   "metadata": {},
   "outputs": [
    {
     "data": {
      "text/html": [
       "<div>\n",
       "<style scoped>\n",
       "    .dataframe tbody tr th:only-of-type {\n",
       "        vertical-align: middle;\n",
       "    }\n",
       "\n",
       "    .dataframe tbody tr th {\n",
       "        vertical-align: top;\n",
       "    }\n",
       "\n",
       "    .dataframe thead th {\n",
       "        text-align: right;\n",
       "    }\n",
       "</style>\n",
       "<table border=\"1\" class=\"dataframe\">\n",
       "  <thead>\n",
       "    <tr style=\"text-align: right;\">\n",
       "      <th></th>\n",
       "      <th>Unnamed: 0</th>\n",
       "      <th>homeTeam</th>\n",
       "      <th>homeScore</th>\n",
       "      <th>awayteam</th>\n",
       "      <th>awayscore</th>\n",
       "      <th>round</th>\n",
       "      <th>group</th>\n",
       "      <th>date</th>\n",
       "      <th>year</th>\n",
       "    </tr>\n",
       "  </thead>\n",
       "  <tbody>\n",
       "    <tr>\n",
       "      <th>1497</th>\n",
       "      <td>1497</td>\n",
       "      <td>Manchester United</td>\n",
       "      <td>0</td>\n",
       "      <td>Paris Saint-Germain</td>\n",
       "      <td>2</td>\n",
       "      <td>round : 18</td>\n",
       "      <td>NaN</td>\n",
       "      <td>2019-02-12</td>\n",
       "      <td>2019</td>\n",
       "    </tr>\n",
       "    <tr>\n",
       "      <th>1498</th>\n",
       "      <td>1498</td>\n",
       "      <td>Roma</td>\n",
       "      <td>2</td>\n",
       "      <td>FC Porto</td>\n",
       "      <td>1</td>\n",
       "      <td>round : 18</td>\n",
       "      <td>NaN</td>\n",
       "      <td>2019-02-12</td>\n",
       "      <td>2019</td>\n",
       "    </tr>\n",
       "    <tr>\n",
       "      <th>1499</th>\n",
       "      <td>1499</td>\n",
       "      <td>Ajax</td>\n",
       "      <td>1</td>\n",
       "      <td>Real Madrid</td>\n",
       "      <td>2</td>\n",
       "      <td>round : 18</td>\n",
       "      <td>NaN</td>\n",
       "      <td>2019-02-13</td>\n",
       "      <td>2019</td>\n",
       "    </tr>\n",
       "    <tr>\n",
       "      <th>1500</th>\n",
       "      <td>1500</td>\n",
       "      <td>Tottenham</td>\n",
       "      <td>3</td>\n",
       "      <td>Borussia Dortmund</td>\n",
       "      <td>0</td>\n",
       "      <td>round : 18</td>\n",
       "      <td>NaN</td>\n",
       "      <td>2019-02-13</td>\n",
       "      <td>2019</td>\n",
       "    </tr>\n",
       "    <tr>\n",
       "      <th>1501</th>\n",
       "      <td>1501</td>\n",
       "      <td>Liverpool</td>\n",
       "      <td>0</td>\n",
       "      <td>Bayern München</td>\n",
       "      <td>0</td>\n",
       "      <td>round : 18</td>\n",
       "      <td>NaN</td>\n",
       "      <td>2019-02-19</td>\n",
       "      <td>2019</td>\n",
       "    </tr>\n",
       "  </tbody>\n",
       "</table>\n",
       "</div>"
      ],
      "text/plain": [
       "      Unnamed: 0           homeTeam homeScore             awayteam awayscore  \\\n",
       "1497        1497  Manchester United         0  Paris Saint-Germain         2   \n",
       "1498        1498               Roma         2             FC Porto         1   \n",
       "1499        1499               Ajax         1          Real Madrid         2   \n",
       "1500        1500          Tottenham         3    Borussia Dortmund         0   \n",
       "1501        1501          Liverpool         0       Bayern München         0   \n",
       "\n",
       "           round group       date  year  \n",
       "1497  round : 18   NaN 2019-02-12  2019  \n",
       "1498  round : 18   NaN 2019-02-12  2019  \n",
       "1499  round : 18   NaN 2019-02-13  2019  \n",
       "1500  round : 18   NaN 2019-02-13  2019  \n",
       "1501  round : 18   NaN 2019-02-19  2019  "
      ]
     },
     "execution_count": 1121,
     "metadata": {},
     "output_type": "execute_result"
    }
   ],
   "source": [
    "uefa_needed_df.head()"
   ]
  },
  {
   "cell_type": "code",
   "execution_count": 1122,
   "id": "028f4532",
   "metadata": {},
   "outputs": [
    {
     "data": {
      "text/plain": [
       "29"
      ]
     },
     "execution_count": 1122,
     "metadata": {},
     "output_type": "execute_result"
    }
   ],
   "source": [
    "uefa_needed_df['group'].isnull().sum()"
   ]
  },
  {
   "cell_type": "code",
   "execution_count": 1123,
   "id": "09a98f2c",
   "metadata": {},
   "outputs": [],
   "source": [
    "uefa_group_stage_df = uefa_needed_df.drop(uefa_needed_df[uefa_needed_df['group'].isnull()].index, axis=0)"
   ]
  },
  {
   "cell_type": "code",
   "execution_count": 1124,
   "id": "5087b609",
   "metadata": {},
   "outputs": [
    {
     "data": {
      "text/plain": [
       "(80, 9)"
      ]
     },
     "execution_count": 1124,
     "metadata": {},
     "output_type": "execute_result"
    }
   ],
   "source": [
    "uefa_group_stage_df.shape"
   ]
  },
  {
   "cell_type": "code",
   "execution_count": 1125,
   "id": "94b974a4",
   "metadata": {},
   "outputs": [
    {
     "data": {
      "text/html": [
       "<div>\n",
       "<style scoped>\n",
       "    .dataframe tbody tr th:only-of-type {\n",
       "        vertical-align: middle;\n",
       "    }\n",
       "\n",
       "    .dataframe tbody tr th {\n",
       "        vertical-align: top;\n",
       "    }\n",
       "\n",
       "    .dataframe thead th {\n",
       "        text-align: right;\n",
       "    }\n",
       "</style>\n",
       "<table border=\"1\" class=\"dataframe\">\n",
       "  <thead>\n",
       "    <tr style=\"text-align: right;\">\n",
       "      <th></th>\n",
       "      <th>Unnamed: 0</th>\n",
       "      <th>homeTeam</th>\n",
       "      <th>homeScore</th>\n",
       "      <th>awayteam</th>\n",
       "      <th>awayscore</th>\n",
       "      <th>round</th>\n",
       "      <th>group</th>\n",
       "      <th>date</th>\n",
       "      <th>year</th>\n",
       "    </tr>\n",
       "  </thead>\n",
       "  <tbody>\n",
       "    <tr>\n",
       "      <th>1526</th>\n",
       "      <td>1526</td>\n",
       "      <td>Club Brugge</td>\n",
       "      <td>0</td>\n",
       "      <td>Galatasaray</td>\n",
       "      <td>0</td>\n",
       "      <td>round : 1</td>\n",
       "      <td>A</td>\n",
       "      <td>2019-09-18</td>\n",
       "      <td>2019</td>\n",
       "    </tr>\n",
       "    <tr>\n",
       "      <th>1527</th>\n",
       "      <td>1527</td>\n",
       "      <td>Paris Saint-Germain</td>\n",
       "      <td>3</td>\n",
       "      <td>Real Madrid</td>\n",
       "      <td>0</td>\n",
       "      <td>round : 1</td>\n",
       "      <td>A</td>\n",
       "      <td>2019-09-18</td>\n",
       "      <td>2019</td>\n",
       "    </tr>\n",
       "    <tr>\n",
       "      <th>1528</th>\n",
       "      <td>1528</td>\n",
       "      <td>Olympiacos</td>\n",
       "      <td>2</td>\n",
       "      <td>Tottenham</td>\n",
       "      <td>2</td>\n",
       "      <td>round : 1</td>\n",
       "      <td>B</td>\n",
       "      <td>2019-09-18</td>\n",
       "      <td>2019</td>\n",
       "    </tr>\n",
       "    <tr>\n",
       "      <th>1529</th>\n",
       "      <td>1529</td>\n",
       "      <td>Bayern München</td>\n",
       "      <td>3</td>\n",
       "      <td>FK Crvena zvezda</td>\n",
       "      <td>0</td>\n",
       "      <td>round : 1</td>\n",
       "      <td>B</td>\n",
       "      <td>2019-09-18</td>\n",
       "      <td>2019</td>\n",
       "    </tr>\n",
       "    <tr>\n",
       "      <th>1530</th>\n",
       "      <td>1530</td>\n",
       "      <td>GNK Dinamo Zagreb</td>\n",
       "      <td>4</td>\n",
       "      <td>Atalanta</td>\n",
       "      <td>0</td>\n",
       "      <td>round : 1</td>\n",
       "      <td>C</td>\n",
       "      <td>2019-09-18</td>\n",
       "      <td>2019</td>\n",
       "    </tr>\n",
       "  </tbody>\n",
       "</table>\n",
       "</div>"
      ],
      "text/plain": [
       "      Unnamed: 0             homeTeam homeScore          awayteam awayscore  \\\n",
       "1526        1526          Club Brugge         0       Galatasaray         0   \n",
       "1527        1527  Paris Saint-Germain         3       Real Madrid         0   \n",
       "1528        1528           Olympiacos         2         Tottenham         2   \n",
       "1529        1529       Bayern München         3  FK Crvena zvezda         0   \n",
       "1530        1530    GNK Dinamo Zagreb         4          Atalanta         0   \n",
       "\n",
       "          round group       date  year  \n",
       "1526  round : 1     A 2019-09-18  2019  \n",
       "1527  round : 1     A 2019-09-18  2019  \n",
       "1528  round : 1     B 2019-09-18  2019  \n",
       "1529  round : 1     B 2019-09-18  2019  \n",
       "1530  round : 1     C 2019-09-18  2019  "
      ]
     },
     "execution_count": 1125,
     "metadata": {},
     "output_type": "execute_result"
    }
   ],
   "source": [
    "uefa_group_stage_df.head()"
   ]
  },
  {
   "cell_type": "code",
   "execution_count": 1126,
   "id": "98dcdb6e",
   "metadata": {},
   "outputs": [
    {
     "data": {
      "text/plain": [
       "(685, 109)"
      ]
     },
     "execution_count": 1126,
     "metadata": {},
     "output_type": "execute_result"
    }
   ],
   "source": [
    "uefa_player_needed_df.shape"
   ]
  },
  {
   "cell_type": "code",
   "execution_count": 1127,
   "id": "324177d2",
   "metadata": {},
   "outputs": [],
   "source": [
    "sorted_player_list = uefa_player_needed_df.sort_values(by=['rating'],ascending=False)"
   ]
  },
  {
   "cell_type": "code",
   "execution_count": 1128,
   "id": "e15c1d9d",
   "metadata": {},
   "outputs": [
    {
     "data": {
      "text/plain": [
       "6.7714285714286"
      ]
     },
     "execution_count": 1128,
     "metadata": {},
     "output_type": "execute_result"
    }
   ],
   "source": [
    "sorted_player_list['rating'].median()"
   ]
  },
  {
   "cell_type": "code",
   "execution_count": 1129,
   "id": "fadbfa0e",
   "metadata": {},
   "outputs": [
    {
     "data": {
      "text/html": [
       "<div>\n",
       "<style scoped>\n",
       "    .dataframe tbody tr th:only-of-type {\n",
       "        vertical-align: middle;\n",
       "    }\n",
       "\n",
       "    .dataframe tbody tr th {\n",
       "        vertical-align: top;\n",
       "    }\n",
       "\n",
       "    .dataframe thead th {\n",
       "        text-align: right;\n",
       "    }\n",
       "</style>\n",
       "<table border=\"1\" class=\"dataframe\">\n",
       "  <thead>\n",
       "    <tr style=\"text-align: right;\">\n",
       "      <th></th>\n",
       "      <th>Unnamed: 0</th>\n",
       "      <th>name</th>\n",
       "      <th>season</th>\n",
       "      <th>season year</th>\n",
       "      <th>team</th>\n",
       "      <th>rating</th>\n",
       "      <th>goals</th>\n",
       "      <th>bigChancesCreated</th>\n",
       "      <th>bigChancesMissed</th>\n",
       "      <th>assists</th>\n",
       "      <th>...</th>\n",
       "      <th>scoringFrequency</th>\n",
       "      <th>yellowRedCards</th>\n",
       "      <th>savesCaught</th>\n",
       "      <th>savesParried</th>\n",
       "      <th>totalOwnHalfPasses</th>\n",
       "      <th>totalOppositionHalfPasses</th>\n",
       "      <th>totwAppearances</th>\n",
       "      <th>appearances</th>\n",
       "      <th>substitutionsIn</th>\n",
       "      <th>substitutionsOut</th>\n",
       "    </tr>\n",
       "  </thead>\n",
       "  <tbody>\n",
       "    <tr>\n",
       "      <th>2072</th>\n",
       "      <td>2072</td>\n",
       "      <td>Robert Lewandowski</td>\n",
       "      <td>UEFA Champions League 19/20</td>\n",
       "      <td>19/20</td>\n",
       "      <td>bayern-munchen</td>\n",
       "      <td>8.350000</td>\n",
       "      <td>15</td>\n",
       "      <td>6.0</td>\n",
       "      <td>11.0</td>\n",
       "      <td>5.0</td>\n",
       "      <td>...</td>\n",
       "      <td>59.133333</td>\n",
       "      <td>0.0</td>\n",
       "      <td>0.0</td>\n",
       "      <td>0.0</td>\n",
       "      <td>34.0</td>\n",
       "      <td>220.0</td>\n",
       "      <td>2.0</td>\n",
       "      <td>10</td>\n",
       "      <td>NaN</td>\n",
       "      <td>NaN</td>\n",
       "    </tr>\n",
       "    <tr>\n",
       "      <th>702</th>\n",
       "      <td>702</td>\n",
       "      <td>Lionel Messi</td>\n",
       "      <td>UEFA Champions League 19/20</td>\n",
       "      <td>19/20</td>\n",
       "      <td>barcelona</td>\n",
       "      <td>8.012500</td>\n",
       "      <td>3</td>\n",
       "      <td>7.0</td>\n",
       "      <td>4.0</td>\n",
       "      <td>3.0</td>\n",
       "      <td>...</td>\n",
       "      <td>220.333333</td>\n",
       "      <td>0.0</td>\n",
       "      <td>0.0</td>\n",
       "      <td>0.0</td>\n",
       "      <td>59.0</td>\n",
       "      <td>337.0</td>\n",
       "      <td>3.0</td>\n",
       "      <td>8</td>\n",
       "      <td>NaN</td>\n",
       "      <td>NaN</td>\n",
       "    </tr>\n",
       "    <tr>\n",
       "      <th>2885</th>\n",
       "      <td>2885</td>\n",
       "      <td>Neto</td>\n",
       "      <td>UEFA Champions League 19/20</td>\n",
       "      <td>19/20</td>\n",
       "      <td>barcelona</td>\n",
       "      <td>8.000000</td>\n",
       "      <td>0</td>\n",
       "      <td>0.0</td>\n",
       "      <td>0.0</td>\n",
       "      <td>0.0</td>\n",
       "      <td>...</td>\n",
       "      <td>0.000000</td>\n",
       "      <td>0.0</td>\n",
       "      <td>0.0</td>\n",
       "      <td>2.0</td>\n",
       "      <td>31.0</td>\n",
       "      <td>8.0</td>\n",
       "      <td>0.0</td>\n",
       "      <td>1</td>\n",
       "      <td>NaN</td>\n",
       "      <td>NaN</td>\n",
       "    </tr>\n",
       "    <tr>\n",
       "      <th>1449</th>\n",
       "      <td>1449</td>\n",
       "      <td>Toni Kroos</td>\n",
       "      <td>UEFA Champions League 19/20</td>\n",
       "      <td>19/20</td>\n",
       "      <td>real-madrid</td>\n",
       "      <td>7.966667</td>\n",
       "      <td>1</td>\n",
       "      <td>2.0</td>\n",
       "      <td>1.0</td>\n",
       "      <td>1.0</td>\n",
       "      <td>...</td>\n",
       "      <td>540.000000</td>\n",
       "      <td>0.0</td>\n",
       "      <td>0.0</td>\n",
       "      <td>0.0</td>\n",
       "      <td>155.0</td>\n",
       "      <td>372.0</td>\n",
       "      <td>2.0</td>\n",
       "      <td>6</td>\n",
       "      <td>NaN</td>\n",
       "      <td>NaN</td>\n",
       "    </tr>\n",
       "    <tr>\n",
       "      <th>3241</th>\n",
       "      <td>3241</td>\n",
       "      <td>Harry Kane</td>\n",
       "      <td>UEFA Champions League 19/20</td>\n",
       "      <td>19/20</td>\n",
       "      <td>tottenham</td>\n",
       "      <td>7.960000</td>\n",
       "      <td>6</td>\n",
       "      <td>3.0</td>\n",
       "      <td>4.0</td>\n",
       "      <td>0.0</td>\n",
       "      <td>...</td>\n",
       "      <td>75.000000</td>\n",
       "      <td>0.0</td>\n",
       "      <td>0.0</td>\n",
       "      <td>0.0</td>\n",
       "      <td>12.0</td>\n",
       "      <td>91.0</td>\n",
       "      <td>1.0</td>\n",
       "      <td>5</td>\n",
       "      <td>NaN</td>\n",
       "      <td>NaN</td>\n",
       "    </tr>\n",
       "  </tbody>\n",
       "</table>\n",
       "<p>5 rows × 109 columns</p>\n",
       "</div>"
      ],
      "text/plain": [
       "      Unnamed: 0                name                       season season year  \\\n",
       "2072        2072  Robert Lewandowski  UEFA Champions League 19/20       19/20   \n",
       "702          702        Lionel Messi  UEFA Champions League 19/20       19/20   \n",
       "2885        2885                Neto  UEFA Champions League 19/20       19/20   \n",
       "1449        1449          Toni Kroos  UEFA Champions League 19/20       19/20   \n",
       "3241        3241          Harry Kane  UEFA Champions League 19/20       19/20   \n",
       "\n",
       "                team    rating  goals  bigChancesCreated  bigChancesMissed  \\\n",
       "2072  bayern-munchen  8.350000     15                6.0              11.0   \n",
       "702        barcelona  8.012500      3                7.0               4.0   \n",
       "2885       barcelona  8.000000      0                0.0               0.0   \n",
       "1449     real-madrid  7.966667      1                2.0               1.0   \n",
       "3241       tottenham  7.960000      6                3.0               4.0   \n",
       "\n",
       "      assists  ...  scoringFrequency  yellowRedCards  savesCaught  \\\n",
       "2072      5.0  ...         59.133333             0.0          0.0   \n",
       "702       3.0  ...        220.333333             0.0          0.0   \n",
       "2885      0.0  ...          0.000000             0.0          0.0   \n",
       "1449      1.0  ...        540.000000             0.0          0.0   \n",
       "3241      0.0  ...         75.000000             0.0          0.0   \n",
       "\n",
       "      savesParried  totalOwnHalfPasses  totalOppositionHalfPasses  \\\n",
       "2072           0.0                34.0                      220.0   \n",
       "702            0.0                59.0                      337.0   \n",
       "2885           2.0                31.0                        8.0   \n",
       "1449           0.0               155.0                      372.0   \n",
       "3241           0.0                12.0                       91.0   \n",
       "\n",
       "      totwAppearances  appearances  substitutionsIn  substitutionsOut  \n",
       "2072              2.0           10              NaN               NaN  \n",
       "702               3.0            8              NaN               NaN  \n",
       "2885              0.0            1              NaN               NaN  \n",
       "1449              2.0            6              NaN               NaN  \n",
       "3241              1.0            5              NaN               NaN  \n",
       "\n",
       "[5 rows x 109 columns]"
      ]
     },
     "execution_count": 1129,
     "metadata": {},
     "output_type": "execute_result"
    }
   ],
   "source": [
    "sorted_player_list.head()"
   ]
  },
  {
   "cell_type": "code",
   "execution_count": 1130,
   "id": "bf0bb96a",
   "metadata": {},
   "outputs": [],
   "source": [
    "value_player_list = sorted_player_list[sorted_player_list['rating'] > sorted_player_list['rating'].median()]"
   ]
  },
  {
   "cell_type": "code",
   "execution_count": 1131,
   "id": "94895168",
   "metadata": {},
   "outputs": [
    {
     "data": {
      "text/plain": [
       "(342, 109)"
      ]
     },
     "execution_count": 1131,
     "metadata": {},
     "output_type": "execute_result"
    }
   ],
   "source": [
    "value_player_list.shape"
   ]
  },
  {
   "cell_type": "code",
   "execution_count": 1132,
   "id": "06b5faad",
   "metadata": {},
   "outputs": [
    {
     "data": {
      "text/html": [
       "<div>\n",
       "<style scoped>\n",
       "    .dataframe tbody tr th:only-of-type {\n",
       "        vertical-align: middle;\n",
       "    }\n",
       "\n",
       "    .dataframe tbody tr th {\n",
       "        vertical-align: top;\n",
       "    }\n",
       "\n",
       "    .dataframe thead th {\n",
       "        text-align: right;\n",
       "    }\n",
       "</style>\n",
       "<table border=\"1\" class=\"dataframe\">\n",
       "  <thead>\n",
       "    <tr style=\"text-align: right;\">\n",
       "      <th></th>\n",
       "      <th>Unnamed: 0</th>\n",
       "      <th>name</th>\n",
       "      <th>season</th>\n",
       "      <th>season year</th>\n",
       "      <th>team</th>\n",
       "      <th>rating</th>\n",
       "      <th>goals</th>\n",
       "      <th>bigChancesCreated</th>\n",
       "      <th>bigChancesMissed</th>\n",
       "      <th>assists</th>\n",
       "      <th>...</th>\n",
       "      <th>totalLongBalls</th>\n",
       "      <th>goalsConceded</th>\n",
       "      <th>tacklesWon</th>\n",
       "      <th>tacklesWonPercentage</th>\n",
       "      <th>scoringFrequency</th>\n",
       "      <th>savesCaught</th>\n",
       "      <th>savesParried</th>\n",
       "      <th>totalOwnHalfPasses</th>\n",
       "      <th>totalOppositionHalfPasses</th>\n",
       "      <th>appearances</th>\n",
       "    </tr>\n",
       "  </thead>\n",
       "  <tbody>\n",
       "    <tr>\n",
       "      <th>2072</th>\n",
       "      <td>2072</td>\n",
       "      <td>Robert Lewandowski</td>\n",
       "      <td>UEFA Champions League 19/20</td>\n",
       "      <td>19/20</td>\n",
       "      <td>bayern-munchen</td>\n",
       "      <td>8.350000</td>\n",
       "      <td>15</td>\n",
       "      <td>6.0</td>\n",
       "      <td>11.0</td>\n",
       "      <td>5.0</td>\n",
       "      <td>...</td>\n",
       "      <td>6.0</td>\n",
       "      <td>7.0</td>\n",
       "      <td>6.0</td>\n",
       "      <td>60.000000</td>\n",
       "      <td>59.133333</td>\n",
       "      <td>0.0</td>\n",
       "      <td>0.0</td>\n",
       "      <td>34.0</td>\n",
       "      <td>220.0</td>\n",
       "      <td>10</td>\n",
       "    </tr>\n",
       "    <tr>\n",
       "      <th>702</th>\n",
       "      <td>702</td>\n",
       "      <td>Lionel Messi</td>\n",
       "      <td>UEFA Champions League 19/20</td>\n",
       "      <td>19/20</td>\n",
       "      <td>barcelona</td>\n",
       "      <td>8.012500</td>\n",
       "      <td>3</td>\n",
       "      <td>7.0</td>\n",
       "      <td>4.0</td>\n",
       "      <td>3.0</td>\n",
       "      <td>...</td>\n",
       "      <td>24.0</td>\n",
       "      <td>13.0</td>\n",
       "      <td>1.0</td>\n",
       "      <td>50.000000</td>\n",
       "      <td>220.333333</td>\n",
       "      <td>0.0</td>\n",
       "      <td>0.0</td>\n",
       "      <td>59.0</td>\n",
       "      <td>337.0</td>\n",
       "      <td>8</td>\n",
       "    </tr>\n",
       "    <tr>\n",
       "      <th>2885</th>\n",
       "      <td>2885</td>\n",
       "      <td>Neto</td>\n",
       "      <td>UEFA Champions League 19/20</td>\n",
       "      <td>19/20</td>\n",
       "      <td>barcelona</td>\n",
       "      <td>8.000000</td>\n",
       "      <td>0</td>\n",
       "      <td>0.0</td>\n",
       "      <td>0.0</td>\n",
       "      <td>0.0</td>\n",
       "      <td>...</td>\n",
       "      <td>22.0</td>\n",
       "      <td>1.0</td>\n",
       "      <td>0.0</td>\n",
       "      <td>0.000000</td>\n",
       "      <td>0.000000</td>\n",
       "      <td>0.0</td>\n",
       "      <td>2.0</td>\n",
       "      <td>31.0</td>\n",
       "      <td>8.0</td>\n",
       "      <td>1</td>\n",
       "    </tr>\n",
       "    <tr>\n",
       "      <th>1449</th>\n",
       "      <td>1449</td>\n",
       "      <td>Toni Kroos</td>\n",
       "      <td>UEFA Champions League 19/20</td>\n",
       "      <td>19/20</td>\n",
       "      <td>real-madrid</td>\n",
       "      <td>7.966667</td>\n",
       "      <td>1</td>\n",
       "      <td>2.0</td>\n",
       "      <td>1.0</td>\n",
       "      <td>1.0</td>\n",
       "      <td>...</td>\n",
       "      <td>57.0</td>\n",
       "      <td>9.0</td>\n",
       "      <td>12.0</td>\n",
       "      <td>80.000000</td>\n",
       "      <td>540.000000</td>\n",
       "      <td>0.0</td>\n",
       "      <td>0.0</td>\n",
       "      <td>155.0</td>\n",
       "      <td>372.0</td>\n",
       "      <td>6</td>\n",
       "    </tr>\n",
       "    <tr>\n",
       "      <th>3241</th>\n",
       "      <td>3241</td>\n",
       "      <td>Harry Kane</td>\n",
       "      <td>UEFA Champions League 19/20</td>\n",
       "      <td>19/20</td>\n",
       "      <td>tottenham</td>\n",
       "      <td>7.960000</td>\n",
       "      <td>6</td>\n",
       "      <td>3.0</td>\n",
       "      <td>4.0</td>\n",
       "      <td>0.0</td>\n",
       "      <td>...</td>\n",
       "      <td>8.0</td>\n",
       "      <td>11.0</td>\n",
       "      <td>3.0</td>\n",
       "      <td>100.000000</td>\n",
       "      <td>75.000000</td>\n",
       "      <td>0.0</td>\n",
       "      <td>0.0</td>\n",
       "      <td>12.0</td>\n",
       "      <td>91.0</td>\n",
       "      <td>5</td>\n",
       "    </tr>\n",
       "    <tr>\n",
       "      <th>...</th>\n",
       "      <td>...</td>\n",
       "      <td>...</td>\n",
       "      <td>...</td>\n",
       "      <td>...</td>\n",
       "      <td>...</td>\n",
       "      <td>...</td>\n",
       "      <td>...</td>\n",
       "      <td>...</td>\n",
       "      <td>...</td>\n",
       "      <td>...</td>\n",
       "      <td>...</td>\n",
       "      <td>...</td>\n",
       "      <td>...</td>\n",
       "      <td>...</td>\n",
       "      <td>...</td>\n",
       "      <td>...</td>\n",
       "      <td>...</td>\n",
       "      <td>...</td>\n",
       "      <td>...</td>\n",
       "      <td>...</td>\n",
       "      <td>...</td>\n",
       "    </tr>\n",
       "    <tr>\n",
       "      <th>2871</th>\n",
       "      <td>2871</td>\n",
       "      <td>Kevin Kampl</td>\n",
       "      <td>UEFA Champions League 19/20</td>\n",
       "      <td>19/20</td>\n",
       "      <td>rb-leipzig</td>\n",
       "      <td>6.775000</td>\n",
       "      <td>0</td>\n",
       "      <td>0.0</td>\n",
       "      <td>0.0</td>\n",
       "      <td>0.0</td>\n",
       "      <td>...</td>\n",
       "      <td>6.0</td>\n",
       "      <td>5.0</td>\n",
       "      <td>1.0</td>\n",
       "      <td>25.000000</td>\n",
       "      <td>0.000000</td>\n",
       "      <td>0.0</td>\n",
       "      <td>0.0</td>\n",
       "      <td>79.0</td>\n",
       "      <td>177.0</td>\n",
       "      <td>4</td>\n",
       "    </tr>\n",
       "    <tr>\n",
       "      <th>4861</th>\n",
       "      <td>4861</td>\n",
       "      <td>Hans Hateboer</td>\n",
       "      <td>UEFA Champions League 19/20</td>\n",
       "      <td>19/20</td>\n",
       "      <td>atalanta</td>\n",
       "      <td>6.775000</td>\n",
       "      <td>2</td>\n",
       "      <td>2.0</td>\n",
       "      <td>1.0</td>\n",
       "      <td>1.0</td>\n",
       "      <td>...</td>\n",
       "      <td>17.0</td>\n",
       "      <td>12.0</td>\n",
       "      <td>3.0</td>\n",
       "      <td>37.500000</td>\n",
       "      <td>295.500000</td>\n",
       "      <td>0.0</td>\n",
       "      <td>0.0</td>\n",
       "      <td>80.0</td>\n",
       "      <td>139.0</td>\n",
       "      <td>9</td>\n",
       "    </tr>\n",
       "    <tr>\n",
       "      <th>5285</th>\n",
       "      <td>5285</td>\n",
       "      <td>Ousmane Dembélé</td>\n",
       "      <td>UEFA Champions League 19/20</td>\n",
       "      <td>19/20</td>\n",
       "      <td>barcelona</td>\n",
       "      <td>6.775000</td>\n",
       "      <td>0</td>\n",
       "      <td>1.0</td>\n",
       "      <td>0.0</td>\n",
       "      <td>0.0</td>\n",
       "      <td>...</td>\n",
       "      <td>4.0</td>\n",
       "      <td>0.0</td>\n",
       "      <td>0.0</td>\n",
       "      <td>0.000000</td>\n",
       "      <td>0.000000</td>\n",
       "      <td>0.0</td>\n",
       "      <td>0.0</td>\n",
       "      <td>8.0</td>\n",
       "      <td>59.0</td>\n",
       "      <td>4</td>\n",
       "    </tr>\n",
       "    <tr>\n",
       "      <th>4163</th>\n",
       "      <td>4163</td>\n",
       "      <td>Kenny Tete</td>\n",
       "      <td>UEFA Champions League 19/20</td>\n",
       "      <td>19/20</td>\n",
       "      <td>olympique-lyonnais</td>\n",
       "      <td>6.775000</td>\n",
       "      <td>0</td>\n",
       "      <td>1.0</td>\n",
       "      <td>0.0</td>\n",
       "      <td>0.0</td>\n",
       "      <td>...</td>\n",
       "      <td>8.0</td>\n",
       "      <td>3.0</td>\n",
       "      <td>2.0</td>\n",
       "      <td>66.666667</td>\n",
       "      <td>0.000000</td>\n",
       "      <td>0.0</td>\n",
       "      <td>0.0</td>\n",
       "      <td>25.0</td>\n",
       "      <td>43.0</td>\n",
       "      <td>5</td>\n",
       "    </tr>\n",
       "    <tr>\n",
       "      <th>5148</th>\n",
       "      <td>5148</td>\n",
       "      <td>Jeff Reine-Adélaïde</td>\n",
       "      <td>UEFA Champions League 19/20</td>\n",
       "      <td>19/20</td>\n",
       "      <td>olympique-lyonnais</td>\n",
       "      <td>6.775000</td>\n",
       "      <td>0</td>\n",
       "      <td>0.0</td>\n",
       "      <td>0.0</td>\n",
       "      <td>0.0</td>\n",
       "      <td>...</td>\n",
       "      <td>9.0</td>\n",
       "      <td>4.0</td>\n",
       "      <td>4.0</td>\n",
       "      <td>80.000000</td>\n",
       "      <td>0.000000</td>\n",
       "      <td>0.0</td>\n",
       "      <td>0.0</td>\n",
       "      <td>38.0</td>\n",
       "      <td>131.0</td>\n",
       "      <td>8</td>\n",
       "    </tr>\n",
       "  </tbody>\n",
       "</table>\n",
       "<p>342 rows × 96 columns</p>\n",
       "</div>"
      ],
      "text/plain": [
       "      Unnamed: 0                 name                       season  \\\n",
       "2072        2072   Robert Lewandowski  UEFA Champions League 19/20   \n",
       "702          702         Lionel Messi  UEFA Champions League 19/20   \n",
       "2885        2885                 Neto  UEFA Champions League 19/20   \n",
       "1449        1449           Toni Kroos  UEFA Champions League 19/20   \n",
       "3241        3241           Harry Kane  UEFA Champions League 19/20   \n",
       "...          ...                  ...                          ...   \n",
       "2871        2871          Kevin Kampl  UEFA Champions League 19/20   \n",
       "4861        4861        Hans Hateboer  UEFA Champions League 19/20   \n",
       "5285        5285      Ousmane Dembélé  UEFA Champions League 19/20   \n",
       "4163        4163           Kenny Tete  UEFA Champions League 19/20   \n",
       "5148        5148  Jeff Reine-Adélaïde  UEFA Champions League 19/20   \n",
       "\n",
       "     season year                team    rating  goals  bigChancesCreated  \\\n",
       "2072       19/20      bayern-munchen  8.350000     15                6.0   \n",
       "702        19/20           barcelona  8.012500      3                7.0   \n",
       "2885       19/20           barcelona  8.000000      0                0.0   \n",
       "1449       19/20         real-madrid  7.966667      1                2.0   \n",
       "3241       19/20           tottenham  7.960000      6                3.0   \n",
       "...          ...                 ...       ...    ...                ...   \n",
       "2871       19/20          rb-leipzig  6.775000      0                0.0   \n",
       "4861       19/20            atalanta  6.775000      2                2.0   \n",
       "5285       19/20           barcelona  6.775000      0                1.0   \n",
       "4163       19/20  olympique-lyonnais  6.775000      0                1.0   \n",
       "5148       19/20  olympique-lyonnais  6.775000      0                0.0   \n",
       "\n",
       "      bigChancesMissed  assists  ...  totalLongBalls  goalsConceded  \\\n",
       "2072              11.0      5.0  ...             6.0            7.0   \n",
       "702                4.0      3.0  ...            24.0           13.0   \n",
       "2885               0.0      0.0  ...            22.0            1.0   \n",
       "1449               1.0      1.0  ...            57.0            9.0   \n",
       "3241               4.0      0.0  ...             8.0           11.0   \n",
       "...                ...      ...  ...             ...            ...   \n",
       "2871               0.0      0.0  ...             6.0            5.0   \n",
       "4861               1.0      1.0  ...            17.0           12.0   \n",
       "5285               0.0      0.0  ...             4.0            0.0   \n",
       "4163               0.0      0.0  ...             8.0            3.0   \n",
       "5148               0.0      0.0  ...             9.0            4.0   \n",
       "\n",
       "      tacklesWon  tacklesWonPercentage  scoringFrequency  savesCaught  \\\n",
       "2072         6.0             60.000000         59.133333          0.0   \n",
       "702          1.0             50.000000        220.333333          0.0   \n",
       "2885         0.0              0.000000          0.000000          0.0   \n",
       "1449        12.0             80.000000        540.000000          0.0   \n",
       "3241         3.0            100.000000         75.000000          0.0   \n",
       "...          ...                   ...               ...          ...   \n",
       "2871         1.0             25.000000          0.000000          0.0   \n",
       "4861         3.0             37.500000        295.500000          0.0   \n",
       "5285         0.0              0.000000          0.000000          0.0   \n",
       "4163         2.0             66.666667          0.000000          0.0   \n",
       "5148         4.0             80.000000          0.000000          0.0   \n",
       "\n",
       "      savesParried  totalOwnHalfPasses  totalOppositionHalfPasses  appearances  \n",
       "2072           0.0                34.0                      220.0           10  \n",
       "702            0.0                59.0                      337.0            8  \n",
       "2885           2.0                31.0                        8.0            1  \n",
       "1449           0.0               155.0                      372.0            6  \n",
       "3241           0.0                12.0                       91.0            5  \n",
       "...            ...                 ...                        ...          ...  \n",
       "2871           0.0                79.0                      177.0            4  \n",
       "4861           0.0                80.0                      139.0            9  \n",
       "5285           0.0                 8.0                       59.0            4  \n",
       "4163           0.0                25.0                       43.0            5  \n",
       "5148           0.0                38.0                      131.0            8  \n",
       "\n",
       "[342 rows x 96 columns]"
      ]
     },
     "execution_count": 1132,
     "metadata": {},
     "output_type": "execute_result"
    }
   ],
   "source": [
    "value_player_list.drop(columns =['substitutionsOut','substitutionsIn','totwAppearances','yellowRedCards','offsides','ownGoals','hitWoodwork','accurateChippedPasses','totalChippedPasses','possessionWonAttThird','shotsFromOutsideTheBox','shotsFromInsideTheBox','directRedCards'])"
   ]
  },
  {
   "cell_type": "code",
   "execution_count": 1133,
   "id": "f34f8c59",
   "metadata": {},
   "outputs": [],
   "source": [
    "#Q3 player with most goals\n",
    "\n",
    "top_10_scorers = value_player_list.nlargest(10,'goals')"
   ]
  },
  {
   "cell_type": "code",
   "execution_count": 1134,
   "id": "da5e2242",
   "metadata": {},
   "outputs": [
    {
     "data": {
      "text/html": [
       "<div>\n",
       "<style scoped>\n",
       "    .dataframe tbody tr th:only-of-type {\n",
       "        vertical-align: middle;\n",
       "    }\n",
       "\n",
       "    .dataframe tbody tr th {\n",
       "        vertical-align: top;\n",
       "    }\n",
       "\n",
       "    .dataframe thead th {\n",
       "        text-align: right;\n",
       "    }\n",
       "</style>\n",
       "<table border=\"1\" class=\"dataframe\">\n",
       "  <thead>\n",
       "    <tr style=\"text-align: right;\">\n",
       "      <th></th>\n",
       "      <th>Unnamed: 0</th>\n",
       "      <th>name</th>\n",
       "      <th>season</th>\n",
       "      <th>season year</th>\n",
       "      <th>team</th>\n",
       "      <th>rating</th>\n",
       "      <th>goals</th>\n",
       "      <th>bigChancesCreated</th>\n",
       "      <th>bigChancesMissed</th>\n",
       "      <th>assists</th>\n",
       "      <th>...</th>\n",
       "      <th>scoringFrequency</th>\n",
       "      <th>yellowRedCards</th>\n",
       "      <th>savesCaught</th>\n",
       "      <th>savesParried</th>\n",
       "      <th>totalOwnHalfPasses</th>\n",
       "      <th>totalOppositionHalfPasses</th>\n",
       "      <th>totwAppearances</th>\n",
       "      <th>appearances</th>\n",
       "      <th>substitutionsIn</th>\n",
       "      <th>substitutionsOut</th>\n",
       "    </tr>\n",
       "  </thead>\n",
       "  <tbody>\n",
       "    <tr>\n",
       "      <th>2072</th>\n",
       "      <td>2072</td>\n",
       "      <td>Robert Lewandowski</td>\n",
       "      <td>UEFA Champions League 19/20</td>\n",
       "      <td>19/20</td>\n",
       "      <td>bayern-munchen</td>\n",
       "      <td>8.350000</td>\n",
       "      <td>15</td>\n",
       "      <td>6.0</td>\n",
       "      <td>11.0</td>\n",
       "      <td>5.0</td>\n",
       "      <td>...</td>\n",
       "      <td>59.133333</td>\n",
       "      <td>0.0</td>\n",
       "      <td>0.0</td>\n",
       "      <td>0.0</td>\n",
       "      <td>34.0</td>\n",
       "      <td>220.0</td>\n",
       "      <td>2.0</td>\n",
       "      <td>10</td>\n",
       "      <td>NaN</td>\n",
       "      <td>NaN</td>\n",
       "    </tr>\n",
       "    <tr>\n",
       "      <th>5416</th>\n",
       "      <td>5416</td>\n",
       "      <td>Erling Braut Haaland</td>\n",
       "      <td>UEFA Champions League 19/20</td>\n",
       "      <td>19/20</td>\n",
       "      <td>borussia-dortmund</td>\n",
       "      <td>7.475000</td>\n",
       "      <td>10</td>\n",
       "      <td>1.0</td>\n",
       "      <td>2.0</td>\n",
       "      <td>1.0</td>\n",
       "      <td>...</td>\n",
       "      <td>55.400000</td>\n",
       "      <td>0.0</td>\n",
       "      <td>0.0</td>\n",
       "      <td>0.0</td>\n",
       "      <td>35.0</td>\n",
       "      <td>96.0</td>\n",
       "      <td>1.0</td>\n",
       "      <td>8</td>\n",
       "      <td>NaN</td>\n",
       "      <td>NaN</td>\n",
       "    </tr>\n",
       "    <tr>\n",
       "      <th>4112</th>\n",
       "      <td>4112</td>\n",
       "      <td>Serge Gnabry</td>\n",
       "      <td>UEFA Champions League 19/20</td>\n",
       "      <td>19/20</td>\n",
       "      <td>bayern-munchen</td>\n",
       "      <td>7.740000</td>\n",
       "      <td>9</td>\n",
       "      <td>2.0</td>\n",
       "      <td>0.0</td>\n",
       "      <td>2.0</td>\n",
       "      <td>...</td>\n",
       "      <td>85.111111</td>\n",
       "      <td>0.0</td>\n",
       "      <td>0.0</td>\n",
       "      <td>0.0</td>\n",
       "      <td>116.0</td>\n",
       "      <td>272.0</td>\n",
       "      <td>2.0</td>\n",
       "      <td>10</td>\n",
       "      <td>NaN</td>\n",
       "      <td>NaN</td>\n",
       "    </tr>\n",
       "    <tr>\n",
       "      <th>3241</th>\n",
       "      <td>3241</td>\n",
       "      <td>Harry Kane</td>\n",
       "      <td>UEFA Champions League 19/20</td>\n",
       "      <td>19/20</td>\n",
       "      <td>tottenham</td>\n",
       "      <td>7.960000</td>\n",
       "      <td>6</td>\n",
       "      <td>3.0</td>\n",
       "      <td>4.0</td>\n",
       "      <td>0.0</td>\n",
       "      <td>...</td>\n",
       "      <td>75.000000</td>\n",
       "      <td>0.0</td>\n",
       "      <td>0.0</td>\n",
       "      <td>0.0</td>\n",
       "      <td>12.0</td>\n",
       "      <td>91.0</td>\n",
       "      <td>1.0</td>\n",
       "      <td>5</td>\n",
       "      <td>NaN</td>\n",
       "      <td>NaN</td>\n",
       "    </tr>\n",
       "    <tr>\n",
       "      <th>5153</th>\n",
       "      <td>5153</td>\n",
       "      <td>Gabriel Jesus</td>\n",
       "      <td>UEFA Champions League 19/20</td>\n",
       "      <td>19/20</td>\n",
       "      <td>manchester-city</td>\n",
       "      <td>7.562500</td>\n",
       "      <td>6</td>\n",
       "      <td>4.0</td>\n",
       "      <td>6.0</td>\n",
       "      <td>3.0</td>\n",
       "      <td>...</td>\n",
       "      <td>99.500000</td>\n",
       "      <td>0.0</td>\n",
       "      <td>0.0</td>\n",
       "      <td>0.0</td>\n",
       "      <td>45.0</td>\n",
       "      <td>148.0</td>\n",
       "      <td>1.0</td>\n",
       "      <td>8</td>\n",
       "      <td>NaN</td>\n",
       "      <td>NaN</td>\n",
       "    </tr>\n",
       "    <tr>\n",
       "      <th>3674</th>\n",
       "      <td>3674</td>\n",
       "      <td>Raheem Sterling</td>\n",
       "      <td>UEFA Champions League 19/20</td>\n",
       "      <td>19/20</td>\n",
       "      <td>manchester-city</td>\n",
       "      <td>7.522222</td>\n",
       "      <td>6</td>\n",
       "      <td>4.0</td>\n",
       "      <td>6.0</td>\n",
       "      <td>3.0</td>\n",
       "      <td>...</td>\n",
       "      <td>99.833333</td>\n",
       "      <td>0.0</td>\n",
       "      <td>0.0</td>\n",
       "      <td>0.0</td>\n",
       "      <td>37.0</td>\n",
       "      <td>186.0</td>\n",
       "      <td>1.0</td>\n",
       "      <td>9</td>\n",
       "      <td>NaN</td>\n",
       "      <td>NaN</td>\n",
       "    </tr>\n",
       "    <tr>\n",
       "      <th>1653</th>\n",
       "      <td>1653</td>\n",
       "      <td>Dries Mertens</td>\n",
       "      <td>UEFA Champions League 19/20</td>\n",
       "      <td>19/20</td>\n",
       "      <td>napoli</td>\n",
       "      <td>7.450000</td>\n",
       "      <td>6</td>\n",
       "      <td>0.0</td>\n",
       "      <td>2.0</td>\n",
       "      <td>1.0</td>\n",
       "      <td>...</td>\n",
       "      <td>97.666667</td>\n",
       "      <td>0.0</td>\n",
       "      <td>0.0</td>\n",
       "      <td>0.0</td>\n",
       "      <td>61.0</td>\n",
       "      <td>139.0</td>\n",
       "      <td>0.0</td>\n",
       "      <td>8</td>\n",
       "      <td>NaN</td>\n",
       "      <td>NaN</td>\n",
       "    </tr>\n",
       "    <tr>\n",
       "      <th>3705</th>\n",
       "      <td>3705</td>\n",
       "      <td>Memphis Depay</td>\n",
       "      <td>UEFA Champions League 19/20</td>\n",
       "      <td>19/20</td>\n",
       "      <td>olympique-lyonnais</td>\n",
       "      <td>7.275000</td>\n",
       "      <td>6</td>\n",
       "      <td>0.0</td>\n",
       "      <td>2.0</td>\n",
       "      <td>0.0</td>\n",
       "      <td>...</td>\n",
       "      <td>99.000000</td>\n",
       "      <td>0.0</td>\n",
       "      <td>0.0</td>\n",
       "      <td>0.0</td>\n",
       "      <td>63.0</td>\n",
       "      <td>201.0</td>\n",
       "      <td>0.0</td>\n",
       "      <td>8</td>\n",
       "      <td>NaN</td>\n",
       "      <td>NaN</td>\n",
       "    </tr>\n",
       "    <tr>\n",
       "      <th>970</th>\n",
       "      <td>970</td>\n",
       "      <td>Luis Suárez</td>\n",
       "      <td>UEFA Champions League 19/20</td>\n",
       "      <td>19/20</td>\n",
       "      <td>atletico-madrid</td>\n",
       "      <td>7.600000</td>\n",
       "      <td>5</td>\n",
       "      <td>1.0</td>\n",
       "      <td>2.0</td>\n",
       "      <td>2.0</td>\n",
       "      <td>...</td>\n",
       "      <td>113.200000</td>\n",
       "      <td>0.0</td>\n",
       "      <td>0.0</td>\n",
       "      <td>0.0</td>\n",
       "      <td>51.0</td>\n",
       "      <td>129.0</td>\n",
       "      <td>1.0</td>\n",
       "      <td>7</td>\n",
       "      <td>NaN</td>\n",
       "      <td>NaN</td>\n",
       "    </tr>\n",
       "    <tr>\n",
       "      <th>2036</th>\n",
       "      <td>2036</td>\n",
       "      <td>Josip Iličić</td>\n",
       "      <td>UEFA Champions League 19/20</td>\n",
       "      <td>19/20</td>\n",
       "      <td>atalanta</td>\n",
       "      <td>7.542857</td>\n",
       "      <td>5</td>\n",
       "      <td>3.0</td>\n",
       "      <td>1.0</td>\n",
       "      <td>0.0</td>\n",
       "      <td>...</td>\n",
       "      <td>103.200000</td>\n",
       "      <td>0.0</td>\n",
       "      <td>0.0</td>\n",
       "      <td>0.0</td>\n",
       "      <td>56.0</td>\n",
       "      <td>190.0</td>\n",
       "      <td>NaN</td>\n",
       "      <td>7</td>\n",
       "      <td>NaN</td>\n",
       "      <td>NaN</td>\n",
       "    </tr>\n",
       "  </tbody>\n",
       "</table>\n",
       "<p>10 rows × 109 columns</p>\n",
       "</div>"
      ],
      "text/plain": [
       "      Unnamed: 0                  name                       season  \\\n",
       "2072        2072    Robert Lewandowski  UEFA Champions League 19/20   \n",
       "5416        5416  Erling Braut Haaland  UEFA Champions League 19/20   \n",
       "4112        4112          Serge Gnabry  UEFA Champions League 19/20   \n",
       "3241        3241            Harry Kane  UEFA Champions League 19/20   \n",
       "5153        5153         Gabriel Jesus  UEFA Champions League 19/20   \n",
       "3674        3674       Raheem Sterling  UEFA Champions League 19/20   \n",
       "1653        1653         Dries Mertens  UEFA Champions League 19/20   \n",
       "3705        3705         Memphis Depay  UEFA Champions League 19/20   \n",
       "970          970           Luis Suárez  UEFA Champions League 19/20   \n",
       "2036        2036          Josip Iličić  UEFA Champions League 19/20   \n",
       "\n",
       "     season year                team    rating  goals  bigChancesCreated  \\\n",
       "2072       19/20      bayern-munchen  8.350000     15                6.0   \n",
       "5416       19/20   borussia-dortmund  7.475000     10                1.0   \n",
       "4112       19/20      bayern-munchen  7.740000      9                2.0   \n",
       "3241       19/20           tottenham  7.960000      6                3.0   \n",
       "5153       19/20     manchester-city  7.562500      6                4.0   \n",
       "3674       19/20     manchester-city  7.522222      6                4.0   \n",
       "1653       19/20              napoli  7.450000      6                0.0   \n",
       "3705       19/20  olympique-lyonnais  7.275000      6                0.0   \n",
       "970        19/20     atletico-madrid  7.600000      5                1.0   \n",
       "2036       19/20            atalanta  7.542857      5                3.0   \n",
       "\n",
       "      bigChancesMissed  assists  ...  scoringFrequency  yellowRedCards  \\\n",
       "2072              11.0      5.0  ...         59.133333             0.0   \n",
       "5416               2.0      1.0  ...         55.400000             0.0   \n",
       "4112               0.0      2.0  ...         85.111111             0.0   \n",
       "3241               4.0      0.0  ...         75.000000             0.0   \n",
       "5153               6.0      3.0  ...         99.500000             0.0   \n",
       "3674               6.0      3.0  ...         99.833333             0.0   \n",
       "1653               2.0      1.0  ...         97.666667             0.0   \n",
       "3705               2.0      0.0  ...         99.000000             0.0   \n",
       "970                2.0      2.0  ...        113.200000             0.0   \n",
       "2036               1.0      0.0  ...        103.200000             0.0   \n",
       "\n",
       "      savesCaught  savesParried  totalOwnHalfPasses  \\\n",
       "2072          0.0           0.0                34.0   \n",
       "5416          0.0           0.0                35.0   \n",
       "4112          0.0           0.0               116.0   \n",
       "3241          0.0           0.0                12.0   \n",
       "5153          0.0           0.0                45.0   \n",
       "3674          0.0           0.0                37.0   \n",
       "1653          0.0           0.0                61.0   \n",
       "3705          0.0           0.0                63.0   \n",
       "970           0.0           0.0                51.0   \n",
       "2036          0.0           0.0                56.0   \n",
       "\n",
       "      totalOppositionHalfPasses  totwAppearances  appearances  \\\n",
       "2072                      220.0              2.0           10   \n",
       "5416                       96.0              1.0            8   \n",
       "4112                      272.0              2.0           10   \n",
       "3241                       91.0              1.0            5   \n",
       "5153                      148.0              1.0            8   \n",
       "3674                      186.0              1.0            9   \n",
       "1653                      139.0              0.0            8   \n",
       "3705                      201.0              0.0            8   \n",
       "970                       129.0              1.0            7   \n",
       "2036                      190.0              NaN            7   \n",
       "\n",
       "      substitutionsIn  substitutionsOut  \n",
       "2072              NaN               NaN  \n",
       "5416              NaN               NaN  \n",
       "4112              NaN               NaN  \n",
       "3241              NaN               NaN  \n",
       "5153              NaN               NaN  \n",
       "3674              NaN               NaN  \n",
       "1653              NaN               NaN  \n",
       "3705              NaN               NaN  \n",
       "970               NaN               NaN  \n",
       "2036              NaN               NaN  \n",
       "\n",
       "[10 rows x 109 columns]"
      ]
     },
     "execution_count": 1134,
     "metadata": {},
     "output_type": "execute_result"
    }
   ],
   "source": [
    "top_10_scorers"
   ]
  },
  {
   "cell_type": "code",
   "execution_count": 1135,
   "id": "1f6eceb0",
   "metadata": {},
   "outputs": [
    {
     "data": {
      "text/plain": [
       "<AxesSubplot:xlabel='name', ylabel='goals'>"
      ]
     },
     "execution_count": 1135,
     "metadata": {},
     "output_type": "execute_result"
    },
    {
     "data": {
      "image/png": "[encoded data removed]",
      "text/plain": [
       "<Figure size 1440x576 with 1 Axes>"
      ]
     },
     "metadata": {
      "needs_background": "light"
     },
     "output_type": "display_data"
    }
   ],
   "source": [
    "plt.figure(figsize=(20,8))\n",
    "sns.barplot(x=\"name\", y=\"goals\", data=top_10_scorers)"
   ]
  },
  {
   "cell_type": "code",
   "execution_count": 1136,
   "id": "8ef6079b",
   "metadata": {},
   "outputs": [
    {
     "data": {
      "text/plain": [
       "<AxesSubplot:ylabel='goals'>"
      ]
     },
     "execution_count": 1136,
     "metadata": {},
     "output_type": "execute_result"
    },
    {
     "data": {
      "image/png": "[encoded data removed]",
      "text/plain": [
       "<Figure size 1152x576 with 1 Axes>"
      ]
     },
     "metadata": {},
     "output_type": "display_data"
    }
   ],
   "source": [
    "top_10_scorers.plot(x='name',y='goals',kind='pie',figsize=(16,8))"
   ]
  },
  {
   "cell_type": "code",
   "execution_count": 1137,
   "id": "735dca1a",
   "metadata": {},
   "outputs": [
    {
     "data": {
      "application/vnd.plotly.v1+json": {
       "config": {
        "plotlyServerURL": "https://plot.ly"
       },
       "data": [
        {
         "hovertemplate": "name=%{x}<br>goals=%{y}<extra></extra>",
         "legendgroup": "",
         "line": {
          "color": "#636efa",
          "dash": "solid"
         },
         "marker": {
          "symbol": "circle"
         },
         "mode": "lines",
         "name": "",
         "orientation": "v",
         "showlegend": false,
         "type": "scatter",
         "x": [
          "Robert Lewandowski",
          "Erling Braut Haaland",
          "Serge Gnabry",
          "Harry Kane",
          "Gabriel Jesus",
          "Raheem Sterling",
          "Dries Mertens",
          "Memphis Depay",
          "Luis Suárez",
          "Josip Iličić"
         ],
         "xaxis": "x",
         "y": [
          15,
          10,
          9,
          6,
          6,
          6,
          6,
          6,
          5,
          5
         ],
         "yaxis": "y"
        }
       ],
       "layout": {
        "legend": {
         "tracegroupgap": 0
        },
        "template": {
         "data": {
          "bar": [
           {
            "error_x": {
             "color": "#2a3f5f"
            },
            "error_y": {
             "color": "#2a3f5f"
            },
            "marker": {
             "line": {
              "color": "#E5ECF6",
              "width": 0.5
             },
             "pattern": {
              "fillmode": "overlay",
              "size": 10,
              "solidity": 0.2
             }
            },
            "type": "bar"
           }
          ],
          "barpolar": [
           {
            "marker": {
             "line": {
              "color": "#E5ECF6",
              "width": 0.5
             },
             "pattern": {
              "fillmode": "overlay",
              "size": 10,
              "solidity": 0.2
             }
            },
            "type": "barpolar"
           }
          ],
          "carpet": [
           {
            "aaxis": {
             "endlinecolor": "#2a3f5f",
             "gridcolor": "white",
             "linecolor": "white",
             "minorgridcolor": "white",
             "startlinecolor": "#2a3f5f"
            },
            "baxis": {
             "endlinecolor": "#2a3f5f",
             "gridcolor": "white",
             "linecolor": "white",
             "minorgridcolor": "white",
             "startlinecolor": "#2a3f5f"
            },
            "type": "carpet"
           }
          ],
          "choropleth": [
           {
            "colorbar": {
             "outlinewidth": 0,
             "ticks": ""
            },
            "type": "choropleth"
           }
          ],
          "contour": [
           {
            "colorbar": {
             "outlinewidth": 0,
             "ticks": ""
            },
            "colorscale": [
             [
              0,
              "#0d0887"
             ],
             [
              0.1111111111111111,
              "#46039f"
             ],
             [
              0.2222222222222222,
              "#7201a8"
             ],
             [
              0.3333333333333333,
              "#9c179e"
             ],
             [
              0.4444444444444444,
              "#bd3786"
             ],
             [
              0.5555555555555556,
              "#d8576b"
             ],
             [
              0.6666666666666666,
              "#ed7953"
             ],
             [
              0.7777777777777778,
              "#fb9f3a"
             ],
             [
              0.8888888888888888,
              "#fdca26"
             ],
             [
              1,
              "#f0f921"
             ]
            ],
            "type": "contour"
           }
          ],
          "contourcarpet": [
           {
            "colorbar": {
             "outlinewidth": 0,
             "ticks": ""
            },
            "type": "contourcarpet"
           }
          ],
          "heatmap": [
           {
            "colorbar": {
             "outlinewidth": 0,
             "ticks": ""
            },
            "colorscale": [
             [
              0,
              "#0d0887"
             ],
             [
              0.1111111111111111,
              "#46039f"
             ],
             [
              0.2222222222222222,
              "#7201a8"
             ],
             [
              0.3333333333333333,
              "#9c179e"
             ],
             [
              0.4444444444444444,
              "#bd3786"
             ],
             [
              0.5555555555555556,
              "#d8576b"
             ],
             [
              0.6666666666666666,
              "#ed7953"
             ],
             [
              0.7777777777777778,
              "#fb9f3a"
             ],
             [
              0.8888888888888888,
              "#fdca26"
             ],
             [
              1,
              "#f0f921"
             ]
            ],
            "type": "heatmap"
           }
          ],
          "heatmapgl": [
           {
            "colorbar": {
             "outlinewidth": 0,
             "ticks": ""
            },
            "colorscale": [
             [
              0,
              "#0d0887"
             ],
             [
              0.1111111111111111,
              "#46039f"
             ],
             [
              0.2222222222222222,
              "#7201a8"
             ],
             [
              0.3333333333333333,
              "#9c179e"
             ],
             [
              0.4444444444444444,
              "#bd3786"
             ],
             [
              0.5555555555555556,
              "#d8576b"
             ],
             [
              0.6666666666666666,
              "#ed7953"
             ],
             [
              0.7777777777777778,
              "#fb9f3a"
             ],
             [
              0.8888888888888888,
              "#fdca26"
             ],
             [
              1,
              "#f0f921"
             ]
            ],
            "type": "heatmapgl"
           }
          ],
          "histogram": [
           {
            "marker": {
             "pattern": {
              "fillmode": "overlay",
              "size": 10,
              "solidity": 0.2
             }
            },
            "type": "histogram"
           }
          ],
          "histogram2d": [
           {
            "colorbar": {
             "outlinewidth": 0,
             "ticks": ""
            },
            "colorscale": [
             [
              0,
              "#0d0887"
             ],
             [
              0.1111111111111111,
              "#46039f"
             ],
             [
              0.2222222222222222,
              "#7201a8"
             ],
             [
              0.3333333333333333,
              "#9c179e"
             ],
             [
              0.4444444444444444,
              "#bd3786"
             ],
             [
              0.5555555555555556,
              "#d8576b"
             ],
             [
              0.6666666666666666,
              "#ed7953"
             ],
             [
              0.7777777777777778,
              "#fb9f3a"
             ],
             [
              0.8888888888888888,
              "#fdca26"
             ],
             [
              1,
              "#f0f921"
             ]
            ],
            "type": "histogram2d"
           }
          ],
          "histogram2dcontour": [
           {
            "colorbar": {
             "outlinewidth": 0,
             "ticks": ""
            },
            "colorscale": [
             [
              0,
              "#0d0887"
             ],
             [
              0.1111111111111111,
              "#46039f"
             ],
             [
              0.2222222222222222,
              "#7201a8"
             ],
             [
              0.3333333333333333,
              "#9c179e"
             ],
             [
              0.4444444444444444,
              "#bd3786"
             ],
             [
              0.5555555555555556,
              "#d8576b"
             ],
             [
              0.6666666666666666,
              "#ed7953"
             ],
             [
              0.7777777777777778,
              "#fb9f3a"
             ],
             [
              0.8888888888888888,
              "#fdca26"
             ],
             [
              1,
              "#f0f921"
             ]
            ],
            "type": "histogram2dcontour"
           }
          ],
          "mesh3d": [
           {
            "colorbar": {
             "outlinewidth": 0,
             "ticks": ""
            },
            "type": "mesh3d"
           }
          ],
          "parcoords": [
           {
            "line": {
             "colorbar": {
              "outlinewidth": 0,
              "ticks": ""
             }
            },
            "type": "parcoords"
           }
          ],
          "pie": [
           {
            "automargin": true,
            "type": "pie"
           }
          ],
          "scatter": [
           {
            "marker": {
             "colorbar": {
              "outlinewidth": 0,
              "ticks": ""
             }
            },
            "type": "scatter"
           }
          ],
          "scatter3d": [
           {
            "line": {
             "colorbar": {
              "outlinewidth": 0,
              "ticks": ""
             }
            },
            "marker": {
             "colorbar": {
              "outlinewidth": 0,
              "ticks": ""
             }
            },
            "type": "scatter3d"
           }
          ],
          "scattercarpet": [
           {
            "marker": {
             "colorbar": {
              "outlinewidth": 0,
              "ticks": ""
             }
            },
            "type": "scattercarpet"
           }
          ],
          "scattergeo": [
           {
            "marker": {
             "colorbar": {
              "outlinewidth": 0,
              "ticks": ""
             }
            },
            "type": "scattergeo"
           }
          ],
          "scattergl": [
           {
            "marker": {
             "colorbar": {
              "outlinewidth": 0,
              "ticks": ""
             }
            },
            "type": "scattergl"
           }
          ],
          "scattermapbox": [
           {
            "marker": {
             "colorbar": {
              "outlinewidth": 0,
              "ticks": ""
             }
            },
            "type": "scattermapbox"
           }
          ],
          "scatterpolar": [
           {
            "marker": {
             "colorbar": {
              "outlinewidth": 0,
              "ticks": ""
             }
            },
            "type": "scatterpolar"
           }
          ],
          "scatterpolargl": [
           {
            "marker": {
             "colorbar": {
              "outlinewidth": 0,
              "ticks": ""
             }
            },
            "type": "scatterpolargl"
           }
          ],
          "scatterternary": [
           {
            "marker": {
             "colorbar": {
              "outlinewidth": 0,
              "ticks": ""
             }
            },
            "type": "scatterternary"
           }
          ],
          "surface": [
           {
            "colorbar": {
             "outlinewidth": 0,
             "ticks": ""
            },
            "colorscale": [
             [
              0,
              "#0d0887"
             ],
             [
              0.1111111111111111,
              "#46039f"
             ],
             [
              0.2222222222222222,
              "#7201a8"
             ],
             [
              0.3333333333333333,
              "#9c179e"
             ],
             [
              0.4444444444444444,
              "#bd3786"
             ],
             [
              0.5555555555555556,
              "#d8576b"
             ],
             [
              0.6666666666666666,
              "#ed7953"
             ],
             [
              0.7777777777777778,
              "#fb9f3a"
             ],
             [
              0.8888888888888888,
              "#fdca26"
             ],
             [
              1,
              "#f0f921"
             ]
            ],
            "type": "surface"
           }
          ],
          "table": [
           {
            "cells": {
             "fill": {
              "color": "#EBF0F8"
             },
             "line": {
              "color": "white"
             }
            },
            "header": {
             "fill": {
              "color": "#C8D4E3"
             },
             "line": {
              "color": "white"
             }
            },
            "type": "table"
           }
          ]
         },
         "layout": {
          "annotationdefaults": {
           "arrowcolor": "#2a3f5f",
           "arrowhead": 0,
           "arrowwidth": 1
          },
          "autotypenumbers": "strict",
          "coloraxis": {
           "colorbar": {
            "outlinewidth": 0,
            "ticks": ""
           }
          },
          "colorscale": {
           "diverging": [
            [
             0,
             "#8e0152"
            ],
            [
             0.1,
             "#c51b7d"
            ],
            [
             0.2,
             "#de77ae"
            ],
            [
             0.3,
             "#f1b6da"
            ],
            [
             0.4,
             "#fde0ef"
            ],
            [
             0.5,
             "#f7f7f7"
            ],
            [
             0.6,
             "#e6f5d0"
            ],
            [
             0.7,
             "#b8e186"
            ],
            [
             0.8,
             "#7fbc41"
            ],
            [
             0.9,
             "#4d9221"
            ],
            [
             1,
             "#276419"
            ]
           ],
           "sequential": [
            [
             0,
             "#0d0887"
            ],
            [
             0.1111111111111111,
             "#46039f"
            ],
            [
             0.2222222222222222,
             "#7201a8"
            ],
            [
             0.3333333333333333,
             "#9c179e"
            ],
            [
             0.4444444444444444,
             "#bd3786"
            ],
            [
             0.5555555555555556,
             "#d8576b"
            ],
            [
             0.6666666666666666,
             "#ed7953"
            ],
            [
             0.7777777777777778,
             "#fb9f3a"
            ],
            [
             0.8888888888888888,
             "#fdca26"
            ],
            [
             1,
             "#f0f921"
            ]
           ],
           "sequentialminus": [
            [
             0,
             "#0d0887"
            ],
            [
             0.1111111111111111,
             "#46039f"
            ],
            [
             0.2222222222222222,
             "#7201a8"
            ],
            [
             0.3333333333333333,
             "#9c179e"
            ],
            [
             0.4444444444444444,
             "#bd3786"
            ],
            [
             0.5555555555555556,
             "#d8576b"
            ],
            [
             0.6666666666666666,
             "#ed7953"
            ],
            [
             0.7777777777777778,
             "#fb9f3a"
            ],
            [
             0.8888888888888888,
             "#fdca26"
            ],
            [
             1,
             "#f0f921"
            ]
           ]
          },
          "colorway": [
           "#636efa",
           "#EF553B",
           "#00cc96",
           "#ab63fa",
           "#FFA15A",
           "#19d3f3",
           "#FF6692",
           "#B6E880",
           "#FF97FF",
           "#FECB52"
          ],
          "font": {
           "color": "#2a3f5f"
          },
          "geo": {
           "bgcolor": "white",
           "lakecolor": "white",
           "landcolor": "#E5ECF6",
           "showlakes": true,
           "showland": true,
           "subunitcolor": "white"
          },
          "hoverlabel": {
           "align": "left"
          },
          "hovermode": "closest",
          "mapbox": {
           "style": "light"
          },
          "paper_bgcolor": "white",
          "plot_bgcolor": "#E5ECF6",
          "polar": {
           "angularaxis": {
            "gridcolor": "white",
            "linecolor": "white",
            "ticks": ""
           },
           "bgcolor": "#E5ECF6",
           "radialaxis": {
            "gridcolor": "white",
            "linecolor": "white",
            "ticks": ""
           }
          },
          "scene": {
           "xaxis": {
            "backgroundcolor": "#E5ECF6",
            "gridcolor": "white",
            "gridwidth": 2,
            "linecolor": "white",
            "showbackground": true,
            "ticks": "",
            "zerolinecolor": "white"
           },
           "yaxis": {
            "backgroundcolor": "#E5ECF6",
            "gridcolor": "white",
            "gridwidth": 2,
            "linecolor": "white",
            "showbackground": true,
            "ticks": "",
            "zerolinecolor": "white"
           },
           "zaxis": {
            "backgroundcolor": "#E5ECF6",
            "gridcolor": "white",
            "gridwidth": 2,
            "linecolor": "white",
            "showbackground": true,
            "ticks": "",
            "zerolinecolor": "white"
           }
          },
          "shapedefaults": {
           "line": {
            "color": "#2a3f5f"
           }
          },
          "ternary": {
           "aaxis": {
            "gridcolor": "white",
            "linecolor": "white",
            "ticks": ""
           },
           "baxis": {
            "gridcolor": "white",
            "linecolor": "white",
            "ticks": ""
           },
           "bgcolor": "#E5ECF6",
           "caxis": {
            "gridcolor": "white",
            "linecolor": "white",
            "ticks": ""
           }
          },
          "title": {
           "x": 0.05
          },
          "xaxis": {
           "automargin": true,
           "gridcolor": "white",
           "linecolor": "white",
           "ticks": "",
           "title": {
            "standoff": 15
           },
           "zerolinecolor": "white",
           "zerolinewidth": 2
          },
          "yaxis": {
           "automargin": true,
           "gridcolor": "white",
           "linecolor": "white",
           "ticks": "",
           "title": {
            "standoff": 15
           },
           "zerolinecolor": "white",
           "zerolinewidth": 2
          }
         }
        },
        "title": {
         "text": "top 10 scorers of uefa champions league 19/20"
        },
        "xaxis": {
         "anchor": "y",
         "domain": [
          0,
          1
         ],
         "title": {
          "text": "name"
         }
        },
        "yaxis": {
         "anchor": "x",
         "domain": [
          0,
          1
         ],
         "title": {
          "text": "goals"
         }
        }
       }
      },
      "text/html": [
       "<div>                            <div id=\"a24f990e-7ae1-493d-999f-d400e69f1dcd\" class=\"plotly-graph-div\" style=\"height:525px; width:100%;\"></div>            <script type=\"text/javascript\">                require([\"plotly\"], function(Plotly) {                    window.PLOTLYENV=window.PLOTLYENV || {};                                    if (document.getElementById(\"a24f990e-7ae1-493d-999f-d400e69f1dcd\")) {                    Plotly.newPlot(                        \"a24f990e-7ae1-493d-999f-d400e69f1dcd\",                        [{\"hovertemplate\":\"name=%{x}<br>goals=%{y}<extra></extra>\",\"legendgroup\":\"\",\"line\":{\"color\":\"#636efa\",\"dash\":\"solid\"},\"marker\":{\"symbol\":\"circle\"},\"mode\":\"lines\",\"name\":\"\",\"orientation\":\"v\",\"showlegend\":false,\"type\":\"scatter\",\"x\":[\"Robert Lewandowski\",\"Erling Braut Haaland\",\"Serge Gnabry\",\"Harry Kane\",\"Gabriel Jesus\",\"Raheem Sterling\",\"Dries Mertens\",\"Memphis Depay\",\"Luis Su\\u00e1rez\",\"Josip Ili\\u010di\\u0107\"],\"xaxis\":\"x\",\"y\":[15,10,9,6,6,6,6,6,5,5],\"yaxis\":\"y\"}],                        {\"legend\":{\"tracegroupgap\":0},\"template\":{\"data\":{\"bar\":[{\"error_x\":{\"color\":\"#2a3f5f\"},\"error_y\":{\"color\":\"#2a3f5f\"},\"marker\":{\"line\":{\"color\":\"#E5ECF6\",\"width\":0.5},\"pattern\":{\"fillmode\":\"overlay\",\"size\":10,\"solidity\":0.2}},\"type\":\"bar\"}],\"barpolar\":[{\"marker\":{\"line\":{\"color\":\"#E5ECF6\",\"width\":0.5},\"pattern\":{\"fillmode\":\"overlay\",\"size\":10,\"solidity\":0.2}},\"type\":\"barpolar\"}],\"carpet\":[{\"aaxis\":{\"endlinecolor\":\"#2a3f5f\",\"gridcolor\":\"white\",\"linecolor\":\"white\",\"minorgridcolor\":\"white\",\"startlinecolor\":\"#2a3f5f\"},\"baxis\":{\"endlinecolor\":\"#2a3f5f\",\"gridcolor\":\"white\",\"linecolor\":\"white\",\"minorgridcolor\":\"white\",\"startlinecolor\":\"#2a3f5f\"},\"type\":\"carpet\"}],\"choropleth\":[{\"colorbar\":{\"outlinewidth\":0,\"ticks\":\"\"},\"type\":\"choropleth\"}],\"contour\":[{\"colorbar\":{\"outlinewidth\":0,\"ticks\":\"\"},\"colorscale\":[[0.0,\"#0d0887\"],[0.1111111111111111,\"#46039f\"],[0.2222222222222222,\"#7201a8\"],[0.3333333333333333,\"#9c179e\"],[0.4444444444444444,\"#bd3786\"],[0.5555555555555556,\"#d8576b\"],[0.6666666666666666,\"#ed7953\"],[0.7777777777777778,\"#fb9f3a\"],[0.8888888888888888,\"#fdca26\"],[1.0,\"#f0f921\"]],\"type\":\"contour\"}],\"contourcarpet\":[{\"colorbar\":{\"outlinewidth\":0,\"ticks\":\"\"},\"type\":\"contourcarpet\"}],\"heatmap\":[{\"colorbar\":{\"outlinewidth\":0,\"ticks\":\"\"},\"colorscale\":[[0.0,\"#0d0887\"],[0.1111111111111111,\"#46039f\"],[0.2222222222222222,\"#7201a8\"],[0.3333333333333333,\"#9c179e\"],[0.4444444444444444,\"#bd3786\"],[0.5555555555555556,\"#d8576b\"],[0.6666666666666666,\"#ed7953\"],[0.7777777777777778,\"#fb9f3a\"],[0.8888888888888888,\"#fdca26\"],[1.0,\"#f0f921\"]],\"type\":\"heatmap\"}],\"heatmapgl\":[{\"colorbar\":{\"outlinewidth\":0,\"ticks\":\"\"},\"colorscale\":[[0.0,\"#0d0887\"],[0.1111111111111111,\"#46039f\"],[0.2222222222222222,\"#7201a8\"],[0.3333333333333333,\"#9c179e\"],[0.4444444444444444,\"#bd3786\"],[0.5555555555555556,\"#d8576b\"],[0.6666666666666666,\"#ed7953\"],[0.7777777777777778,\"#fb9f3a\"],[0.8888888888888888,\"#fdca26\"],[1.0,\"#f0f921\"]],\"type\":\"heatmapgl\"}],\"histogram\":[{\"marker\":{\"pattern\":{\"fillmode\":\"overlay\",\"size\":10,\"solidity\":0.2}},\"type\":\"histogram\"}],\"histogram2d\":[{\"colorbar\":{\"outlinewidth\":0,\"ticks\":\"\"},\"colorscale\":[[0.0,\"#0d0887\"],[0.1111111111111111,\"#46039f\"],[0.2222222222222222,\"#7201a8\"],[0.3333333333333333,\"#9c179e\"],[0.4444444444444444,\"#bd3786\"],[0.5555555555555556,\"#d8576b\"],[0.6666666666666666,\"#ed7953\"],[0.7777777777777778,\"#fb9f3a\"],[0.8888888888888888,\"#fdca26\"],[1.0,\"#f0f921\"]],\"type\":\"histogram2d\"}],\"histogram2dcontour\":[{\"colorbar\":{\"outlinewidth\":0,\"ticks\":\"\"},\"colorscale\":[[0.0,\"#0d0887\"],[0.1111111111111111,\"#46039f\"],[0.2222222222222222,\"#7201a8\"],[0.3333333333333333,\"#9c179e\"],[0.4444444444444444,\"#bd3786\"],[0.5555555555555556,\"#d8576b\"],[0.6666666666666666,\"#ed7953\"],[0.7777777777777778,\"#fb9f3a\"],[0.8888888888888888,\"#fdca26\"],[1.0,\"#f0f921\"]],\"type\":\"histogram2dcontour\"}],\"mesh3d\":[{\"colorbar\":{\"outlinewidth\":0,\"ticks\":\"\"},\"type\":\"mesh3d\"}],\"parcoords\":[{\"line\":{\"colorbar\":{\"outlinewidth\":0,\"ticks\":\"\"}},\"type\":\"parcoords\"}],\"pie\":[{\"automargin\":true,\"type\":\"pie\"}],\"scatter\":[{\"marker\":{\"colorbar\":{\"outlinewidth\":0,\"ticks\":\"\"}},\"type\":\"scatter\"}],\"scatter3d\":[{\"line\":{\"colorbar\":{\"outlinewidth\":0,\"ticks\":\"\"}},\"marker\":{\"colorbar\":{\"outlinewidth\":0,\"ticks\":\"\"}},\"type\":\"scatter3d\"}],\"scattercarpet\":[{\"marker\":{\"colorbar\":{\"outlinewidth\":0,\"ticks\":\"\"}},\"type\":\"scattercarpet\"}],\"scattergeo\":[{\"marker\":{\"colorbar\":{\"outlinewidth\":0,\"ticks\":\"\"}},\"type\":\"scattergeo\"}],\"scattergl\":[{\"marker\":{\"colorbar\":{\"outlinewidth\":0,\"ticks\":\"\"}},\"type\":\"scattergl\"}],\"scattermapbox\":[{\"marker\":{\"colorbar\":{\"outlinewidth\":0,\"ticks\":\"\"}},\"type\":\"scattermapbox\"}],\"scatterpolar\":[{\"marker\":{\"colorbar\":{\"outlinewidth\":0,\"ticks\":\"\"}},\"type\":\"scatterpolar\"}],\"scatterpolargl\":[{\"marker\":{\"colorbar\":{\"outlinewidth\":0,\"ticks\":\"\"}},\"type\":\"scatterpolargl\"}],\"scatterternary\":[{\"marker\":{\"colorbar\":{\"outlinewidth\":0,\"ticks\":\"\"}},\"type\":\"scatterternary\"}],\"surface\":[{\"colorbar\":{\"outlinewidth\":0,\"ticks\":\"\"},\"colorscale\":[[0.0,\"#0d0887\"],[0.1111111111111111,\"#46039f\"],[0.2222222222222222,\"#7201a8\"],[0.3333333333333333,\"#9c179e\"],[0.4444444444444444,\"#bd3786\"],[0.5555555555555556,\"#d8576b\"],[0.6666666666666666,\"#ed7953\"],[0.7777777777777778,\"#fb9f3a\"],[0.8888888888888888,\"#fdca26\"],[1.0,\"#f0f921\"]],\"type\":\"surface\"}],\"table\":[{\"cells\":{\"fill\":{\"color\":\"#EBF0F8\"},\"line\":{\"color\":\"white\"}},\"header\":{\"fill\":{\"color\":\"#C8D4E3\"},\"line\":{\"color\":\"white\"}},\"type\":\"table\"}]},\"layout\":{\"annotationdefaults\":{\"arrowcolor\":\"#2a3f5f\",\"arrowhead\":0,\"arrowwidth\":1},\"autotypenumbers\":\"strict\",\"coloraxis\":{\"colorbar\":{\"outlinewidth\":0,\"ticks\":\"\"}},\"colorscale\":{\"diverging\":[[0,\"#8e0152\"],[0.1,\"#c51b7d\"],[0.2,\"#de77ae\"],[0.3,\"#f1b6da\"],[0.4,\"#fde0ef\"],[0.5,\"#f7f7f7\"],[0.6,\"#e6f5d0\"],[0.7,\"#b8e186\"],[0.8,\"#7fbc41\"],[0.9,\"#4d9221\"],[1,\"#276419\"]],\"sequential\":[[0.0,\"#0d0887\"],[0.1111111111111111,\"#46039f\"],[0.2222222222222222,\"#7201a8\"],[0.3333333333333333,\"#9c179e\"],[0.4444444444444444,\"#bd3786\"],[0.5555555555555556,\"#d8576b\"],[0.6666666666666666,\"#ed7953\"],[0.7777777777777778,\"#fb9f3a\"],[0.8888888888888888,\"#fdca26\"],[1.0,\"#f0f921\"]],\"sequentialminus\":[[0.0,\"#0d0887\"],[0.1111111111111111,\"#46039f\"],[0.2222222222222222,\"#7201a8\"],[0.3333333333333333,\"#9c179e\"],[0.4444444444444444,\"#bd3786\"],[0.5555555555555556,\"#d8576b\"],[0.6666666666666666,\"#ed7953\"],[0.7777777777777778,\"#fb9f3a\"],[0.8888888888888888,\"#fdca26\"],[1.0,\"#f0f921\"]]},\"colorway\":[\"#636efa\",\"#EF553B\",\"#00cc96\",\"#ab63fa\",\"#FFA15A\",\"#19d3f3\",\"#FF6692\",\"#B6E880\",\"#FF97FF\",\"#FECB52\"],\"font\":{\"color\":\"#2a3f5f\"},\"geo\":{\"bgcolor\":\"white\",\"lakecolor\":\"white\",\"landcolor\":\"#E5ECF6\",\"showlakes\":true,\"showland\":true,\"subunitcolor\":\"white\"},\"hoverlabel\":{\"align\":\"left\"},\"hovermode\":\"closest\",\"mapbox\":{\"style\":\"light\"},\"paper_bgcolor\":\"white\",\"plot_bgcolor\":\"#E5ECF6\",\"polar\":{\"angularaxis\":{\"gridcolor\":\"white\",\"linecolor\":\"white\",\"ticks\":\"\"},\"bgcolor\":\"#E5ECF6\",\"radialaxis\":{\"gridcolor\":\"white\",\"linecolor\":\"white\",\"ticks\":\"\"}},\"scene\":{\"xaxis\":{\"backgroundcolor\":\"#E5ECF6\",\"gridcolor\":\"white\",\"gridwidth\":2,\"linecolor\":\"white\",\"showbackground\":true,\"ticks\":\"\",\"zerolinecolor\":\"white\"},\"yaxis\":{\"backgroundcolor\":\"#E5ECF6\",\"gridcolor\":\"white\",\"gridwidth\":2,\"linecolor\":\"white\",\"showbackground\":true,\"ticks\":\"\",\"zerolinecolor\":\"white\"},\"zaxis\":{\"backgroundcolor\":\"#E5ECF6\",\"gridcolor\":\"white\",\"gridwidth\":2,\"linecolor\":\"white\",\"showbackground\":true,\"ticks\":\"\",\"zerolinecolor\":\"white\"}},\"shapedefaults\":{\"line\":{\"color\":\"#2a3f5f\"}},\"ternary\":{\"aaxis\":{\"gridcolor\":\"white\",\"linecolor\":\"white\",\"ticks\":\"\"},\"baxis\":{\"gridcolor\":\"white\",\"linecolor\":\"white\",\"ticks\":\"\"},\"bgcolor\":\"#E5ECF6\",\"caxis\":{\"gridcolor\":\"white\",\"linecolor\":\"white\",\"ticks\":\"\"}},\"title\":{\"x\":0.05},\"xaxis\":{\"automargin\":true,\"gridcolor\":\"white\",\"linecolor\":\"white\",\"ticks\":\"\",\"title\":{\"standoff\":15},\"zerolinecolor\":\"white\",\"zerolinewidth\":2},\"yaxis\":{\"automargin\":true,\"gridcolor\":\"white\",\"linecolor\":\"white\",\"ticks\":\"\",\"title\":{\"standoff\":15},\"zerolinecolor\":\"white\",\"zerolinewidth\":2}}},\"title\":{\"text\":\"top 10 scorers of uefa champions league 19/20\"},\"xaxis\":{\"anchor\":\"y\",\"domain\":[0.0,1.0],\"title\":{\"text\":\"name\"}},\"yaxis\":{\"anchor\":\"x\",\"domain\":[0.0,1.0],\"title\":{\"text\":\"goals\"}}},                        {\"responsive\": true}                    ).then(function(){\n",
       "                            \n",
       "var gd = document.getElementById('a24f990e-7ae1-493d-999f-d400e69f1dcd');\n",
       "var x = new MutationObserver(function (mutations, observer) {{\n",
       "        var display = window.getComputedStyle(gd).display;\n",
       "        if (!display || display === 'none') {{\n",
       "            console.log([gd, 'removed!']);\n",
       "            Plotly.purge(gd);\n",
       "            observer.disconnect();\n",
       "        }}\n",
       "}});\n",
       "\n",
       "// Listen for the removal of the full notebook cells\n",
       "var notebookContainer = gd.closest('#notebook-container');\n",
       "if (notebookContainer) {{\n",
       "    x.observe(notebookContainer, {childList: true});\n",
       "}}\n",
       "\n",
       "// Listen for the clearing of the current output cell\n",
       "var outputEl = gd.closest('.output');\n",
       "if (outputEl) {{\n",
       "    x.observe(outputEl, {childList: true});\n",
       "}}\n",
       "\n",
       "                        })                };                });            </script>        </div>"
      ]
     },
     "metadata": {},
     "output_type": "display_data"
    }
   ],
   "source": [
    "fig = px.line(top_10_scorers, x=\"name\", y=\"goals\", title='top 10 scorers of uefa champions league 19/20')\n",
    "fig.show()"
   ]
  },
  {
   "cell_type": "code",
   "execution_count": 1138,
   "id": "ebe29758",
   "metadata": {},
   "outputs": [],
   "source": [
    "top_10_assists = value_player_list.nlargest(10,'assists')"
   ]
  },
  {
   "cell_type": "code",
   "execution_count": 1139,
   "id": "fde0ce57",
   "metadata": {},
   "outputs": [
    {
     "data": {
      "text/html": [
       "<div>\n",
       "<style scoped>\n",
       "    .dataframe tbody tr th:only-of-type {\n",
       "        vertical-align: middle;\n",
       "    }\n",
       "\n",
       "    .dataframe tbody tr th {\n",
       "        vertical-align: top;\n",
       "    }\n",
       "\n",
       "    .dataframe thead th {\n",
       "        text-align: right;\n",
       "    }\n",
       "</style>\n",
       "<table border=\"1\" class=\"dataframe\">\n",
       "  <thead>\n",
       "    <tr style=\"text-align: right;\">\n",
       "      <th></th>\n",
       "      <th>Unnamed: 0</th>\n",
       "      <th>name</th>\n",
       "      <th>season</th>\n",
       "      <th>season year</th>\n",
       "      <th>team</th>\n",
       "      <th>rating</th>\n",
       "      <th>goals</th>\n",
       "      <th>bigChancesCreated</th>\n",
       "      <th>bigChancesMissed</th>\n",
       "      <th>assists</th>\n",
       "      <th>...</th>\n",
       "      <th>scoringFrequency</th>\n",
       "      <th>yellowRedCards</th>\n",
       "      <th>savesCaught</th>\n",
       "      <th>savesParried</th>\n",
       "      <th>totalOwnHalfPasses</th>\n",
       "      <th>totalOppositionHalfPasses</th>\n",
       "      <th>totwAppearances</th>\n",
       "      <th>appearances</th>\n",
       "      <th>substitutionsIn</th>\n",
       "      <th>substitutionsOut</th>\n",
       "    </tr>\n",
       "  </thead>\n",
       "  <tbody>\n",
       "    <tr>\n",
       "      <th>1565</th>\n",
       "      <td>1565</td>\n",
       "      <td>Ángel Di María</td>\n",
       "      <td>UEFA Champions League 19/20</td>\n",
       "      <td>19/20</td>\n",
       "      <td>paris-saint-germain</td>\n",
       "      <td>7.733333</td>\n",
       "      <td>3</td>\n",
       "      <td>11.0</td>\n",
       "      <td>4.0</td>\n",
       "      <td>6.0</td>\n",
       "      <td>...</td>\n",
       "      <td>250.000000</td>\n",
       "      <td>0.0</td>\n",
       "      <td>0.0</td>\n",
       "      <td>0.0</td>\n",
       "      <td>97.0</td>\n",
       "      <td>259.0</td>\n",
       "      <td>0.0</td>\n",
       "      <td>9</td>\n",
       "      <td>NaN</td>\n",
       "      <td>NaN</td>\n",
       "    </tr>\n",
       "    <tr>\n",
       "      <th>2072</th>\n",
       "      <td>2072</td>\n",
       "      <td>Robert Lewandowski</td>\n",
       "      <td>UEFA Champions League 19/20</td>\n",
       "      <td>19/20</td>\n",
       "      <td>bayern-munchen</td>\n",
       "      <td>8.350000</td>\n",
       "      <td>15</td>\n",
       "      <td>6.0</td>\n",
       "      <td>11.0</td>\n",
       "      <td>5.0</td>\n",
       "      <td>...</td>\n",
       "      <td>59.133333</td>\n",
       "      <td>0.0</td>\n",
       "      <td>0.0</td>\n",
       "      <td>0.0</td>\n",
       "      <td>34.0</td>\n",
       "      <td>220.0</td>\n",
       "      <td>2.0</td>\n",
       "      <td>10</td>\n",
       "      <td>NaN</td>\n",
       "      <td>NaN</td>\n",
       "    </tr>\n",
       "    <tr>\n",
       "      <th>5353</th>\n",
       "      <td>5353</td>\n",
       "      <td>Kylian Mbappé</td>\n",
       "      <td>UEFA Champions League 19/20</td>\n",
       "      <td>19/20</td>\n",
       "      <td>paris-saint-germain</td>\n",
       "      <td>7.230000</td>\n",
       "      <td>5</td>\n",
       "      <td>7.0</td>\n",
       "      <td>10.0</td>\n",
       "      <td>5.0</td>\n",
       "      <td>...</td>\n",
       "      <td>130.400000</td>\n",
       "      <td>0.0</td>\n",
       "      <td>0.0</td>\n",
       "      <td>0.0</td>\n",
       "      <td>46.0</td>\n",
       "      <td>211.0</td>\n",
       "      <td>1.0</td>\n",
       "      <td>10</td>\n",
       "      <td>NaN</td>\n",
       "      <td>NaN</td>\n",
       "    </tr>\n",
       "    <tr>\n",
       "      <th>3476</th>\n",
       "      <td>3476</td>\n",
       "      <td>Neymar</td>\n",
       "      <td>UEFA Champions League 19/20</td>\n",
       "      <td>19/20</td>\n",
       "      <td>paris-saint-germain</td>\n",
       "      <td>7.714286</td>\n",
       "      <td>3</td>\n",
       "      <td>4.0</td>\n",
       "      <td>4.0</td>\n",
       "      <td>4.0</td>\n",
       "      <td>...</td>\n",
       "      <td>195.000000</td>\n",
       "      <td>0.0</td>\n",
       "      <td>0.0</td>\n",
       "      <td>0.0</td>\n",
       "      <td>68.0</td>\n",
       "      <td>282.0</td>\n",
       "      <td>1.0</td>\n",
       "      <td>7</td>\n",
       "      <td>NaN</td>\n",
       "      <td>NaN</td>\n",
       "    </tr>\n",
       "    <tr>\n",
       "      <th>4472</th>\n",
       "      <td>4472</td>\n",
       "      <td>Joshua Kimmich</td>\n",
       "      <td>UEFA Champions League 19/20</td>\n",
       "      <td>19/20</td>\n",
       "      <td>bayern-munchen</td>\n",
       "      <td>7.554545</td>\n",
       "      <td>2</td>\n",
       "      <td>4.0</td>\n",
       "      <td>0.0</td>\n",
       "      <td>4.0</td>\n",
       "      <td>...</td>\n",
       "      <td>451.500000</td>\n",
       "      <td>0.0</td>\n",
       "      <td>0.0</td>\n",
       "      <td>0.0</td>\n",
       "      <td>325.0</td>\n",
       "      <td>494.0</td>\n",
       "      <td>0.0</td>\n",
       "      <td>11</td>\n",
       "      <td>NaN</td>\n",
       "      <td>NaN</td>\n",
       "    </tr>\n",
       "    <tr>\n",
       "      <th>4403</th>\n",
       "      <td>4403</td>\n",
       "      <td>Hakim Ziyech</td>\n",
       "      <td>UEFA Champions League 19/20</td>\n",
       "      <td>19/20</td>\n",
       "      <td>chelsea</td>\n",
       "      <td>7.500000</td>\n",
       "      <td>2</td>\n",
       "      <td>4.0</td>\n",
       "      <td>1.0</td>\n",
       "      <td>4.0</td>\n",
       "      <td>...</td>\n",
       "      <td>249.500000</td>\n",
       "      <td>0.0</td>\n",
       "      <td>0.0</td>\n",
       "      <td>0.0</td>\n",
       "      <td>72.0</td>\n",
       "      <td>253.0</td>\n",
       "      <td>1.0</td>\n",
       "      <td>6</td>\n",
       "      <td>NaN</td>\n",
       "      <td>NaN</td>\n",
       "    </tr>\n",
       "    <tr>\n",
       "      <th>3967</th>\n",
       "      <td>3967</td>\n",
       "      <td>Riyad Mahrez</td>\n",
       "      <td>UEFA Champions League 19/20</td>\n",
       "      <td>19/20</td>\n",
       "      <td>manchester-city</td>\n",
       "      <td>7.457143</td>\n",
       "      <td>1</td>\n",
       "      <td>5.0</td>\n",
       "      <td>2.0</td>\n",
       "      <td>4.0</td>\n",
       "      <td>...</td>\n",
       "      <td>572.000000</td>\n",
       "      <td>0.0</td>\n",
       "      <td>0.0</td>\n",
       "      <td>0.0</td>\n",
       "      <td>81.0</td>\n",
       "      <td>253.0</td>\n",
       "      <td>1.0</td>\n",
       "      <td>7</td>\n",
       "      <td>NaN</td>\n",
       "      <td>NaN</td>\n",
       "    </tr>\n",
       "    <tr>\n",
       "      <th>5451</th>\n",
       "      <td>5451</td>\n",
       "      <td>Houssem Aouar</td>\n",
       "      <td>UEFA Champions League 19/20</td>\n",
       "      <td>19/20</td>\n",
       "      <td>olympique-lyonnais</td>\n",
       "      <td>7.062500</td>\n",
       "      <td>1</td>\n",
       "      <td>5.0</td>\n",
       "      <td>0.0</td>\n",
       "      <td>4.0</td>\n",
       "      <td>...</td>\n",
       "      <td>713.000000</td>\n",
       "      <td>0.0</td>\n",
       "      <td>0.0</td>\n",
       "      <td>0.0</td>\n",
       "      <td>99.0</td>\n",
       "      <td>212.0</td>\n",
       "      <td>0.0</td>\n",
       "      <td>8</td>\n",
       "      <td>NaN</td>\n",
       "      <td>NaN</td>\n",
       "    </tr>\n",
       "    <tr>\n",
       "      <th>702</th>\n",
       "      <td>702</td>\n",
       "      <td>Lionel Messi</td>\n",
       "      <td>UEFA Champions League 19/20</td>\n",
       "      <td>19/20</td>\n",
       "      <td>barcelona</td>\n",
       "      <td>8.012500</td>\n",
       "      <td>3</td>\n",
       "      <td>7.0</td>\n",
       "      <td>4.0</td>\n",
       "      <td>3.0</td>\n",
       "      <td>...</td>\n",
       "      <td>220.333333</td>\n",
       "      <td>0.0</td>\n",
       "      <td>0.0</td>\n",
       "      <td>0.0</td>\n",
       "      <td>59.0</td>\n",
       "      <td>337.0</td>\n",
       "      <td>3.0</td>\n",
       "      <td>8</td>\n",
       "      <td>NaN</td>\n",
       "      <td>NaN</td>\n",
       "    </tr>\n",
       "    <tr>\n",
       "      <th>5091</th>\n",
       "      <td>5091</td>\n",
       "      <td>Hee-Chan Hwang</td>\n",
       "      <td>UEFA Champions League 19/20</td>\n",
       "      <td>19/20</td>\n",
       "      <td>rb-leipzig</td>\n",
       "      <td>7.700000</td>\n",
       "      <td>3</td>\n",
       "      <td>4.0</td>\n",
       "      <td>0.0</td>\n",
       "      <td>3.0</td>\n",
       "      <td>...</td>\n",
       "      <td>180.000000</td>\n",
       "      <td>0.0</td>\n",
       "      <td>0.0</td>\n",
       "      <td>0.0</td>\n",
       "      <td>32.0</td>\n",
       "      <td>140.0</td>\n",
       "      <td>1.0</td>\n",
       "      <td>6</td>\n",
       "      <td>NaN</td>\n",
       "      <td>NaN</td>\n",
       "    </tr>\n",
       "  </tbody>\n",
       "</table>\n",
       "<p>10 rows × 109 columns</p>\n",
       "</div>"
      ],
      "text/plain": [
       "      Unnamed: 0                name                       season season year  \\\n",
       "1565        1565      Ángel Di María  UEFA Champions League 19/20       19/20   \n",
       "2072        2072  Robert Lewandowski  UEFA Champions League 19/20       19/20   \n",
       "5353        5353       Kylian Mbappé  UEFA Champions League 19/20       19/20   \n",
       "3476        3476              Neymar  UEFA Champions League 19/20       19/20   \n",
       "4472        4472      Joshua Kimmich  UEFA Champions League 19/20       19/20   \n",
       "4403        4403        Hakim Ziyech  UEFA Champions League 19/20       19/20   \n",
       "3967        3967        Riyad Mahrez  UEFA Champions League 19/20       19/20   \n",
       "5451        5451       Houssem Aouar  UEFA Champions League 19/20       19/20   \n",
       "702          702        Lionel Messi  UEFA Champions League 19/20       19/20   \n",
       "5091        5091      Hee-Chan Hwang  UEFA Champions League 19/20       19/20   \n",
       "\n",
       "                     team    rating  goals  bigChancesCreated  \\\n",
       "1565  paris-saint-germain  7.733333      3               11.0   \n",
       "2072       bayern-munchen  8.350000     15                6.0   \n",
       "5353  paris-saint-germain  7.230000      5                7.0   \n",
       "3476  paris-saint-germain  7.714286      3                4.0   \n",
       "4472       bayern-munchen  7.554545      2                4.0   \n",
       "4403              chelsea  7.500000      2                4.0   \n",
       "3967      manchester-city  7.457143      1                5.0   \n",
       "5451   olympique-lyonnais  7.062500      1                5.0   \n",
       "702             barcelona  8.012500      3                7.0   \n",
       "5091           rb-leipzig  7.700000      3                4.0   \n",
       "\n",
       "      bigChancesMissed  assists  ...  scoringFrequency  yellowRedCards  \\\n",
       "1565               4.0      6.0  ...        250.000000             0.0   \n",
       "2072              11.0      5.0  ...         59.133333             0.0   \n",
       "5353              10.0      5.0  ...        130.400000             0.0   \n",
       "3476               4.0      4.0  ...        195.000000             0.0   \n",
       "4472               0.0      4.0  ...        451.500000             0.0   \n",
       "4403               1.0      4.0  ...        249.500000             0.0   \n",
       "3967               2.0      4.0  ...        572.000000             0.0   \n",
       "5451               0.0      4.0  ...        713.000000             0.0   \n",
       "702                4.0      3.0  ...        220.333333             0.0   \n",
       "5091               0.0      3.0  ...        180.000000             0.0   \n",
       "\n",
       "      savesCaught  savesParried  totalOwnHalfPasses  \\\n",
       "1565          0.0           0.0                97.0   \n",
       "2072          0.0           0.0                34.0   \n",
       "5353          0.0           0.0                46.0   \n",
       "3476          0.0           0.0                68.0   \n",
       "4472          0.0           0.0               325.0   \n",
       "4403          0.0           0.0                72.0   \n",
       "3967          0.0           0.0                81.0   \n",
       "5451          0.0           0.0                99.0   \n",
       "702           0.0           0.0                59.0   \n",
       "5091          0.0           0.0                32.0   \n",
       "\n",
       "      totalOppositionHalfPasses  totwAppearances  appearances  \\\n",
       "1565                      259.0              0.0            9   \n",
       "2072                      220.0              2.0           10   \n",
       "5353                      211.0              1.0           10   \n",
       "3476                      282.0              1.0            7   \n",
       "4472                      494.0              0.0           11   \n",
       "4403                      253.0              1.0            6   \n",
       "3967                      253.0              1.0            7   \n",
       "5451                      212.0              0.0            8   \n",
       "702                       337.0              3.0            8   \n",
       "5091                      140.0              1.0            6   \n",
       "\n",
       "      substitutionsIn  substitutionsOut  \n",
       "1565              NaN               NaN  \n",
       "2072              NaN               NaN  \n",
       "5353              NaN               NaN  \n",
       "3476              NaN               NaN  \n",
       "4472              NaN               NaN  \n",
       "4403              NaN               NaN  \n",
       "3967              NaN               NaN  \n",
       "5451              NaN               NaN  \n",
       "702               NaN               NaN  \n",
       "5091              NaN               NaN  \n",
       "\n",
       "[10 rows x 109 columns]"
      ]
     },
     "execution_count": 1139,
     "metadata": {},
     "output_type": "execute_result"
    }
   ],
   "source": [
    "top_10_assists"
   ]
  },
  {
   "cell_type": "code",
   "execution_count": 1140,
   "id": "6b213292",
   "metadata": {},
   "outputs": [
    {
     "data": {
      "text/plain": [
       "<AxesSubplot:xlabel='name', ylabel='assists'>"
      ]
     },
     "execution_count": 1140,
     "metadata": {},
     "output_type": "execute_result"
    },
    {
     "data": {
      "image/png": "[encoded data removed]",
      "text/plain": [
       "<Figure size 1440x576 with 1 Axes>"
      ]
     },
     "metadata": {
      "needs_background": "light"
     },
     "output_type": "display_data"
    }
   ],
   "source": [
    "plt.figure(figsize=(20,8))\n",
    "sns.barplot(x=\"name\", y=\"assists\", data=top_10_assists)"
   ]
  },
  {
   "cell_type": "code",
   "execution_count": 1141,
   "id": "2d00b78e",
   "metadata": {},
   "outputs": [
    {
     "data": {
      "application/vnd.plotly.v1+json": {
       "config": {
        "plotlyServerURL": "https://plot.ly"
       },
       "data": [
        {
         "hovertemplate": "name=%{x}<br>assists=%{y}<extra></extra>",
         "legendgroup": "",
         "line": {
          "color": "#636efa",
          "dash": "solid"
         },
         "marker": {
          "symbol": "circle"
         },
         "mode": "lines",
         "name": "",
         "orientation": "v",
         "showlegend": false,
         "type": "scatter",
         "x": [
          "Ángel Di María",
          "Robert Lewandowski",
          "Kylian Mbappé",
          "Neymar",
          "Joshua Kimmich",
          "Hakim Ziyech",
          "Riyad Mahrez",
          "Houssem Aouar",
          "Lionel Messi",
          "Hee-Chan Hwang"
         ],
         "xaxis": "x",
         "y": [
          6,
          5,
          5,
          4,
          4,
          4,
          4,
          4,
          3,
          3
         ],
         "yaxis": "y"
        }
       ],
       "layout": {
        "legend": {
         "tracegroupgap": 0
        },
        "template": {
         "data": {
          "bar": [
           {
            "error_x": {
             "color": "#2a3f5f"
            },
            "error_y": {
             "color": "#2a3f5f"
            },
            "marker": {
             "line": {
              "color": "#E5ECF6",
              "width": 0.5
             },
             "pattern": {
              "fillmode": "overlay",
              "size": 10,
              "solidity": 0.2
             }
            },
            "type": "bar"
           }
          ],
          "barpolar": [
           {
            "marker": {
             "line": {
              "color": "#E5ECF6",
              "width": 0.5
             },
             "pattern": {
              "fillmode": "overlay",
              "size": 10,
              "solidity": 0.2
             }
            },
            "type": "barpolar"
           }
          ],
          "carpet": [
           {
            "aaxis": {
             "endlinecolor": "#2a3f5f",
             "gridcolor": "white",
             "linecolor": "white",
             "minorgridcolor": "white",
             "startlinecolor": "#2a3f5f"
            },
            "baxis": {
             "endlinecolor": "#2a3f5f",
             "gridcolor": "white",
             "linecolor": "white",
             "minorgridcolor": "white",
             "startlinecolor": "#2a3f5f"
            },
            "type": "carpet"
           }
          ],
          "choropleth": [
           {
            "colorbar": {
             "outlinewidth": 0,
             "ticks": ""
            },
            "type": "choropleth"
           }
          ],
          "contour": [
           {
            "colorbar": {
             "outlinewidth": 0,
             "ticks": ""
            },
            "colorscale": [
             [
              0,
              "#0d0887"
             ],
             [
              0.1111111111111111,
              "#46039f"
             ],
             [
              0.2222222222222222,
              "#7201a8"
             ],
             [
              0.3333333333333333,
              "#9c179e"
             ],
             [
              0.4444444444444444,
              "#bd3786"
             ],
             [
              0.5555555555555556,
              "#d8576b"
             ],
             [
              0.6666666666666666,
              "#ed7953"
             ],
             [
              0.7777777777777778,
              "#fb9f3a"
             ],
             [
              0.8888888888888888,
              "#fdca26"
             ],
             [
              1,
              "#f0f921"
             ]
            ],
            "type": "contour"
           }
          ],
          "contourcarpet": [
           {
            "colorbar": {
             "outlinewidth": 0,
             "ticks": ""
            },
            "type": "contourcarpet"
           }
          ],
          "heatmap": [
           {
            "colorbar": {
             "outlinewidth": 0,
             "ticks": ""
            },
            "colorscale": [
             [
              0,
              "#0d0887"
             ],
             [
              0.1111111111111111,
              "#46039f"
             ],
             [
              0.2222222222222222,
              "#7201a8"
             ],
             [
              0.3333333333333333,
              "#9c179e"
             ],
             [
              0.4444444444444444,
              "#bd3786"
             ],
             [
              0.5555555555555556,
              "#d8576b"
             ],
             [
              0.6666666666666666,
              "#ed7953"
             ],
             [
              0.7777777777777778,
              "#fb9f3a"
             ],
             [
              0.8888888888888888,
              "#fdca26"
             ],
             [
              1,
              "#f0f921"
             ]
            ],
            "type": "heatmap"
           }
          ],
          "heatmapgl": [
           {
            "colorbar": {
             "outlinewidth": 0,
             "ticks": ""
            },
            "colorscale": [
             [
              0,
              "#0d0887"
             ],
             [
              0.1111111111111111,
              "#46039f"
             ],
             [
              0.2222222222222222,
              "#7201a8"
             ],
             [
              0.3333333333333333,
              "#9c179e"
             ],
             [
              0.4444444444444444,
              "#bd3786"
             ],
             [
              0.5555555555555556,
              "#d8576b"
             ],
             [
              0.6666666666666666,
              "#ed7953"
             ],
             [
              0.7777777777777778,
              "#fb9f3a"
             ],
             [
              0.8888888888888888,
              "#fdca26"
             ],
             [
              1,
              "#f0f921"
             ]
            ],
            "type": "heatmapgl"
           }
          ],
          "histogram": [
           {
            "marker": {
             "pattern": {
              "fillmode": "overlay",
              "size": 10,
              "solidity": 0.2
             }
            },
            "type": "histogram"
           }
          ],
          "histogram2d": [
           {
            "colorbar": {
             "outlinewidth": 0,
             "ticks": ""
            },
            "colorscale": [
             [
              0,
              "#0d0887"
             ],
             [
              0.1111111111111111,
              "#46039f"
             ],
             [
              0.2222222222222222,
              "#7201a8"
             ],
             [
              0.3333333333333333,
              "#9c179e"
             ],
             [
              0.4444444444444444,
              "#bd3786"
             ],
             [
              0.5555555555555556,
              "#d8576b"
             ],
             [
              0.6666666666666666,
              "#ed7953"
             ],
             [
              0.7777777777777778,
              "#fb9f3a"
             ],
             [
              0.8888888888888888,
              "#fdca26"
             ],
             [
              1,
              "#f0f921"
             ]
            ],
            "type": "histogram2d"
           }
          ],
          "histogram2dcontour": [
           {
            "colorbar": {
             "outlinewidth": 0,
             "ticks": ""
            },
            "colorscale": [
             [
              0,
              "#0d0887"
             ],
             [
              0.1111111111111111,
              "#46039f"
             ],
             [
              0.2222222222222222,
              "#7201a8"
             ],
             [
              0.3333333333333333,
              "#9c179e"
             ],
             [
              0.4444444444444444,
              "#bd3786"
             ],
             [
              0.5555555555555556,
              "#d8576b"
             ],
             [
              0.6666666666666666,
              "#ed7953"
             ],
             [
              0.7777777777777778,
              "#fb9f3a"
             ],
             [
              0.8888888888888888,
              "#fdca26"
             ],
             [
              1,
              "#f0f921"
             ]
            ],
            "type": "histogram2dcontour"
           }
          ],
          "mesh3d": [
           {
            "colorbar": {
             "outlinewidth": 0,
             "ticks": ""
            },
            "type": "mesh3d"
           }
          ],
          "parcoords": [
           {
            "line": {
             "colorbar": {
              "outlinewidth": 0,
              "ticks": ""
             }
            },
            "type": "parcoords"
           }
          ],
          "pie": [
           {
            "automargin": true,
            "type": "pie"
           }
          ],
          "scatter": [
           {
            "marker": {
             "colorbar": {
              "outlinewidth": 0,
              "ticks": ""
             }
            },
            "type": "scatter"
           }
          ],
          "scatter3d": [
           {
            "line": {
             "colorbar": {
              "outlinewidth": 0,
              "ticks": ""
             }
            },
            "marker": {
             "colorbar": {
              "outlinewidth": 0,
              "ticks": ""
             }
            },
            "type": "scatter3d"
           }
          ],
          "scattercarpet": [
           {
            "marker": {
             "colorbar": {
              "outlinewidth": 0,
              "ticks": ""
             }
            },
            "type": "scattercarpet"
           }
          ],
          "scattergeo": [
           {
            "marker": {
             "colorbar": {
              "outlinewidth": 0,
              "ticks": ""
             }
            },
            "type": "scattergeo"
           }
          ],
          "scattergl": [
           {
            "marker": {
             "colorbar": {
              "outlinewidth": 0,
              "ticks": ""
             }
            },
            "type": "scattergl"
           }
          ],
          "scattermapbox": [
           {
            "marker": {
             "colorbar": {
              "outlinewidth": 0,
              "ticks": ""
             }
            },
            "type": "scattermapbox"
           }
          ],
          "scatterpolar": [
           {
            "marker": {
             "colorbar": {
              "outlinewidth": 0,
              "ticks": ""
             }
            },
            "type": "scatterpolar"
           }
          ],
          "scatterpolargl": [
           {
            "marker": {
             "colorbar": {
              "outlinewidth": 0,
              "ticks": ""
             }
            },
            "type": "scatterpolargl"
           }
          ],
          "scatterternary": [
           {
            "marker": {
             "colorbar": {
              "outlinewidth": 0,
              "ticks": ""
             }
            },
            "type": "scatterternary"
           }
          ],
          "surface": [
           {
            "colorbar": {
             "outlinewidth": 0,
             "ticks": ""
            },
            "colorscale": [
             [
              0,
              "#0d0887"
             ],
             [
              0.1111111111111111,
              "#46039f"
             ],
             [
              0.2222222222222222,
              "#7201a8"
             ],
             [
              0.3333333333333333,
              "#9c179e"
             ],
             [
              0.4444444444444444,
              "#bd3786"
             ],
             [
              0.5555555555555556,
              "#d8576b"
             ],
             [
              0.6666666666666666,
              "#ed7953"
             ],
             [
              0.7777777777777778,
              "#fb9f3a"
             ],
             [
              0.8888888888888888,
              "#fdca26"
             ],
             [
              1,
              "#f0f921"
             ]
            ],
            "type": "surface"
           }
          ],
          "table": [
           {
            "cells": {
             "fill": {
              "color": "#EBF0F8"
             },
             "line": {
              "color": "white"
             }
            },
            "header": {
             "fill": {
              "color": "#C8D4E3"
             },
             "line": {
              "color": "white"
             }
            },
            "type": "table"
           }
          ]
         },
         "layout": {
          "annotationdefaults": {
           "arrowcolor": "#2a3f5f",
           "arrowhead": 0,
           "arrowwidth": 1
          },
          "autotypenumbers": "strict",
          "coloraxis": {
           "colorbar": {
            "outlinewidth": 0,
            "ticks": ""
           }
          },
          "colorscale": {
           "diverging": [
            [
             0,
             "#8e0152"
            ],
            [
             0.1,
             "#c51b7d"
            ],
            [
             0.2,
             "#de77ae"
            ],
            [
             0.3,
             "#f1b6da"
            ],
            [
             0.4,
             "#fde0ef"
            ],
            [
             0.5,
             "#f7f7f7"
            ],
            [
             0.6,
             "#e6f5d0"
            ],
            [
             0.7,
             "#b8e186"
            ],
            [
             0.8,
             "#7fbc41"
            ],
            [
             0.9,
             "#4d9221"
            ],
            [
             1,
             "#276419"
            ]
           ],
           "sequential": [
            [
             0,
             "#0d0887"
            ],
            [
             0.1111111111111111,
             "#46039f"
            ],
            [
             0.2222222222222222,
             "#7201a8"
            ],
            [
             0.3333333333333333,
             "#9c179e"
            ],
            [
             0.4444444444444444,
             "#bd3786"
            ],
            [
             0.5555555555555556,
             "#d8576b"
            ],
            [
             0.6666666666666666,
             "#ed7953"
            ],
            [
             0.7777777777777778,
             "#fb9f3a"
            ],
            [
             0.8888888888888888,
             "#fdca26"
            ],
            [
             1,
             "#f0f921"
            ]
           ],
           "sequentialminus": [
            [
             0,
             "#0d0887"
            ],
            [
             0.1111111111111111,
             "#46039f"
            ],
            [
             0.2222222222222222,
             "#7201a8"
            ],
            [
             0.3333333333333333,
             "#9c179e"
            ],
            [
             0.4444444444444444,
             "#bd3786"
            ],
            [
             0.5555555555555556,
             "#d8576b"
            ],
            [
             0.6666666666666666,
             "#ed7953"
            ],
            [
             0.7777777777777778,
             "#fb9f3a"
            ],
            [
             0.8888888888888888,
             "#fdca26"
            ],
            [
             1,
             "#f0f921"
            ]
           ]
          },
          "colorway": [
           "#636efa",
           "#EF553B",
           "#00cc96",
           "#ab63fa",
           "#FFA15A",
           "#19d3f3",
           "#FF6692",
           "#B6E880",
           "#FF97FF",
           "#FECB52"
          ],
          "font": {
           "color": "#2a3f5f"
          },
          "geo": {
           "bgcolor": "white",
           "lakecolor": "white",
           "landcolor": "#E5ECF6",
           "showlakes": true,
           "showland": true,
           "subunitcolor": "white"
          },
          "hoverlabel": {
           "align": "left"
          },
          "hovermode": "closest",
          "mapbox": {
           "style": "light"
          },
          "paper_bgcolor": "white",
          "plot_bgcolor": "#E5ECF6",
          "polar": {
           "angularaxis": {
            "gridcolor": "white",
            "linecolor": "white",
            "ticks": ""
           },
           "bgcolor": "#E5ECF6",
           "radialaxis": {
            "gridcolor": "white",
            "linecolor": "white",
            "ticks": ""
           }
          },
          "scene": {
           "xaxis": {
            "backgroundcolor": "#E5ECF6",
            "gridcolor": "white",
            "gridwidth": 2,
            "linecolor": "white",
            "showbackground": true,
            "ticks": "",
            "zerolinecolor": "white"
           },
           "yaxis": {
            "backgroundcolor": "#E5ECF6",
            "gridcolor": "white",
            "gridwidth": 2,
            "linecolor": "white",
            "showbackground": true,
            "ticks": "",
            "zerolinecolor": "white"
           },
           "zaxis": {
            "backgroundcolor": "#E5ECF6",
            "gridcolor": "white",
            "gridwidth": 2,
            "linecolor": "white",
            "showbackground": true,
            "ticks": "",
            "zerolinecolor": "white"
           }
          },
          "shapedefaults": {
           "line": {
            "color": "#2a3f5f"
           }
          },
          "ternary": {
           "aaxis": {
            "gridcolor": "white",
            "linecolor": "white",
            "ticks": ""
           },
           "baxis": {
            "gridcolor": "white",
            "linecolor": "white",
            "ticks": ""
           },
           "bgcolor": "#E5ECF6",
           "caxis": {
            "gridcolor": "white",
            "linecolor": "white",
            "ticks": ""
           }
          },
          "title": {
           "x": 0.05
          },
          "xaxis": {
           "automargin": true,
           "gridcolor": "white",
           "linecolor": "white",
           "ticks": "",
           "title": {
            "standoff": 15
           },
           "zerolinecolor": "white",
           "zerolinewidth": 2
          },
          "yaxis": {
           "automargin": true,
           "gridcolor": "white",
           "linecolor": "white",
           "ticks": "",
           "title": {
            "standoff": 15
           },
           "zerolinecolor": "white",
           "zerolinewidth": 2
          }
         }
        },
        "title": {
         "text": "top 10 assist providers of uefa champions league 19/20"
        },
        "xaxis": {
         "anchor": "y",
         "domain": [
          0,
          1
         ],
         "title": {
          "text": "name"
         }
        },
        "yaxis": {
         "anchor": "x",
         "domain": [
          0,
          1
         ],
         "title": {
          "text": "assists"
         }
        }
       }
      },
      "text/html": [
       "<div>                            <div id=\"139c496f-acfc-4b03-a3a0-0c0ad63a5bd3\" class=\"plotly-graph-div\" style=\"height:525px; width:100%;\"></div>            <script type=\"text/javascript\">                require([\"plotly\"], function(Plotly) {                    window.PLOTLYENV=window.PLOTLYENV || {};                                    if (document.getElementById(\"139c496f-acfc-4b03-a3a0-0c0ad63a5bd3\")) {                    Plotly.newPlot(                        \"139c496f-acfc-4b03-a3a0-0c0ad63a5bd3\",                        [{\"hovertemplate\":\"name=%{x}<br>assists=%{y}<extra></extra>\",\"legendgroup\":\"\",\"line\":{\"color\":\"#636efa\",\"dash\":\"solid\"},\"marker\":{\"symbol\":\"circle\"},\"mode\":\"lines\",\"name\":\"\",\"orientation\":\"v\",\"showlegend\":false,\"type\":\"scatter\",\"x\":[\"\\u00c1ngel Di Mar\\u00eda\",\"Robert Lewandowski\",\"Kylian Mbapp\\u00e9\",\"Neymar\",\"Joshua Kimmich\",\"Hakim Ziyech\",\"Riyad Mahrez\",\"Houssem Aouar\",\"Lionel Messi\",\"Hee-Chan Hwang\"],\"xaxis\":\"x\",\"y\":[6.0,5.0,5.0,4.0,4.0,4.0,4.0,4.0,3.0,3.0],\"yaxis\":\"y\"}],                        {\"legend\":{\"tracegroupgap\":0},\"template\":{\"data\":{\"bar\":[{\"error_x\":{\"color\":\"#2a3f5f\"},\"error_y\":{\"color\":\"#2a3f5f\"},\"marker\":{\"line\":{\"color\":\"#E5ECF6\",\"width\":0.5},\"pattern\":{\"fillmode\":\"overlay\",\"size\":10,\"solidity\":0.2}},\"type\":\"bar\"}],\"barpolar\":[{\"marker\":{\"line\":{\"color\":\"#E5ECF6\",\"width\":0.5},\"pattern\":{\"fillmode\":\"overlay\",\"size\":10,\"solidity\":0.2}},\"type\":\"barpolar\"}],\"carpet\":[{\"aaxis\":{\"endlinecolor\":\"#2a3f5f\",\"gridcolor\":\"white\",\"linecolor\":\"white\",\"minorgridcolor\":\"white\",\"startlinecolor\":\"#2a3f5f\"},\"baxis\":{\"endlinecolor\":\"#2a3f5f\",\"gridcolor\":\"white\",\"linecolor\":\"white\",\"minorgridcolor\":\"white\",\"startlinecolor\":\"#2a3f5f\"},\"type\":\"carpet\"}],\"choropleth\":[{\"colorbar\":{\"outlinewidth\":0,\"ticks\":\"\"},\"type\":\"choropleth\"}],\"contour\":[{\"colorbar\":{\"outlinewidth\":0,\"ticks\":\"\"},\"colorscale\":[[0.0,\"#0d0887\"],[0.1111111111111111,\"#46039f\"],[0.2222222222222222,\"#7201a8\"],[0.3333333333333333,\"#9c179e\"],[0.4444444444444444,\"#bd3786\"],[0.5555555555555556,\"#d8576b\"],[0.6666666666666666,\"#ed7953\"],[0.7777777777777778,\"#fb9f3a\"],[0.8888888888888888,\"#fdca26\"],[1.0,\"#f0f921\"]],\"type\":\"contour\"}],\"contourcarpet\":[{\"colorbar\":{\"outlinewidth\":0,\"ticks\":\"\"},\"type\":\"contourcarpet\"}],\"heatmap\":[{\"colorbar\":{\"outlinewidth\":0,\"ticks\":\"\"},\"colorscale\":[[0.0,\"#0d0887\"],[0.1111111111111111,\"#46039f\"],[0.2222222222222222,\"#7201a8\"],[0.3333333333333333,\"#9c179e\"],[0.4444444444444444,\"#bd3786\"],[0.5555555555555556,\"#d8576b\"],[0.6666666666666666,\"#ed7953\"],[0.7777777777777778,\"#fb9f3a\"],[0.8888888888888888,\"#fdca26\"],[1.0,\"#f0f921\"]],\"type\":\"heatmap\"}],\"heatmapgl\":[{\"colorbar\":{\"outlinewidth\":0,\"ticks\":\"\"},\"colorscale\":[[0.0,\"#0d0887\"],[0.1111111111111111,\"#46039f\"],[0.2222222222222222,\"#7201a8\"],[0.3333333333333333,\"#9c179e\"],[0.4444444444444444,\"#bd3786\"],[0.5555555555555556,\"#d8576b\"],[0.6666666666666666,\"#ed7953\"],[0.7777777777777778,\"#fb9f3a\"],[0.8888888888888888,\"#fdca26\"],[1.0,\"#f0f921\"]],\"type\":\"heatmapgl\"}],\"histogram\":[{\"marker\":{\"pattern\":{\"fillmode\":\"overlay\",\"size\":10,\"solidity\":0.2}},\"type\":\"histogram\"}],\"histogram2d\":[{\"colorbar\":{\"outlinewidth\":0,\"ticks\":\"\"},\"colorscale\":[[0.0,\"#0d0887\"],[0.1111111111111111,\"#46039f\"],[0.2222222222222222,\"#7201a8\"],[0.3333333333333333,\"#9c179e\"],[0.4444444444444444,\"#bd3786\"],[0.5555555555555556,\"#d8576b\"],[0.6666666666666666,\"#ed7953\"],[0.7777777777777778,\"#fb9f3a\"],[0.8888888888888888,\"#fdca26\"],[1.0,\"#f0f921\"]],\"type\":\"histogram2d\"}],\"histogram2dcontour\":[{\"colorbar\":{\"outlinewidth\":0,\"ticks\":\"\"},\"colorscale\":[[0.0,\"#0d0887\"],[0.1111111111111111,\"#46039f\"],[0.2222222222222222,\"#7201a8\"],[0.3333333333333333,\"#9c179e\"],[0.4444444444444444,\"#bd3786\"],[0.5555555555555556,\"#d8576b\"],[0.6666666666666666,\"#ed7953\"],[0.7777777777777778,\"#fb9f3a\"],[0.8888888888888888,\"#fdca26\"],[1.0,\"#f0f921\"]],\"type\":\"histogram2dcontour\"}],\"mesh3d\":[{\"colorbar\":{\"outlinewidth\":0,\"ticks\":\"\"},\"type\":\"mesh3d\"}],\"parcoords\":[{\"line\":{\"colorbar\":{\"outlinewidth\":0,\"ticks\":\"\"}},\"type\":\"parcoords\"}],\"pie\":[{\"automargin\":true,\"type\":\"pie\"}],\"scatter\":[{\"marker\":{\"colorbar\":{\"outlinewidth\":0,\"ticks\":\"\"}},\"type\":\"scatter\"}],\"scatter3d\":[{\"line\":{\"colorbar\":{\"outlinewidth\":0,\"ticks\":\"\"}},\"marker\":{\"colorbar\":{\"outlinewidth\":0,\"ticks\":\"\"}},\"type\":\"scatter3d\"}],\"scattercarpet\":[{\"marker\":{\"colorbar\":{\"outlinewidth\":0,\"ticks\":\"\"}},\"type\":\"scattercarpet\"}],\"scattergeo\":[{\"marker\":{\"colorbar\":{\"outlinewidth\":0,\"ticks\":\"\"}},\"type\":\"scattergeo\"}],\"scattergl\":[{\"marker\":{\"colorbar\":{\"outlinewidth\":0,\"ticks\":\"\"}},\"type\":\"scattergl\"}],\"scattermapbox\":[{\"marker\":{\"colorbar\":{\"outlinewidth\":0,\"ticks\":\"\"}},\"type\":\"scattermapbox\"}],\"scatterpolar\":[{\"marker\":{\"colorbar\":{\"outlinewidth\":0,\"ticks\":\"\"}},\"type\":\"scatterpolar\"}],\"scatterpolargl\":[{\"marker\":{\"colorbar\":{\"outlinewidth\":0,\"ticks\":\"\"}},\"type\":\"scatterpolargl\"}],\"scatterternary\":[{\"marker\":{\"colorbar\":{\"outlinewidth\":0,\"ticks\":\"\"}},\"type\":\"scatterternary\"}],\"surface\":[{\"colorbar\":{\"outlinewidth\":0,\"ticks\":\"\"},\"colorscale\":[[0.0,\"#0d0887\"],[0.1111111111111111,\"#46039f\"],[0.2222222222222222,\"#7201a8\"],[0.3333333333333333,\"#9c179e\"],[0.4444444444444444,\"#bd3786\"],[0.5555555555555556,\"#d8576b\"],[0.6666666666666666,\"#ed7953\"],[0.7777777777777778,\"#fb9f3a\"],[0.8888888888888888,\"#fdca26\"],[1.0,\"#f0f921\"]],\"type\":\"surface\"}],\"table\":[{\"cells\":{\"fill\":{\"color\":\"#EBF0F8\"},\"line\":{\"color\":\"white\"}},\"header\":{\"fill\":{\"color\":\"#C8D4E3\"},\"line\":{\"color\":\"white\"}},\"type\":\"table\"}]},\"layout\":{\"annotationdefaults\":{\"arrowcolor\":\"#2a3f5f\",\"arrowhead\":0,\"arrowwidth\":1},\"autotypenumbers\":\"strict\",\"coloraxis\":{\"colorbar\":{\"outlinewidth\":0,\"ticks\":\"\"}},\"colorscale\":{\"diverging\":[[0,\"#8e0152\"],[0.1,\"#c51b7d\"],[0.2,\"#de77ae\"],[0.3,\"#f1b6da\"],[0.4,\"#fde0ef\"],[0.5,\"#f7f7f7\"],[0.6,\"#e6f5d0\"],[0.7,\"#b8e186\"],[0.8,\"#7fbc41\"],[0.9,\"#4d9221\"],[1,\"#276419\"]],\"sequential\":[[0.0,\"#0d0887\"],[0.1111111111111111,\"#46039f\"],[0.2222222222222222,\"#7201a8\"],[0.3333333333333333,\"#9c179e\"],[0.4444444444444444,\"#bd3786\"],[0.5555555555555556,\"#d8576b\"],[0.6666666666666666,\"#ed7953\"],[0.7777777777777778,\"#fb9f3a\"],[0.8888888888888888,\"#fdca26\"],[1.0,\"#f0f921\"]],\"sequentialminus\":[[0.0,\"#0d0887\"],[0.1111111111111111,\"#46039f\"],[0.2222222222222222,\"#7201a8\"],[0.3333333333333333,\"#9c179e\"],[0.4444444444444444,\"#bd3786\"],[0.5555555555555556,\"#d8576b\"],[0.6666666666666666,\"#ed7953\"],[0.7777777777777778,\"#fb9f3a\"],[0.8888888888888888,\"#fdca26\"],[1.0,\"#f0f921\"]]},\"colorway\":[\"#636efa\",\"#EF553B\",\"#00cc96\",\"#ab63fa\",\"#FFA15A\",\"#19d3f3\",\"#FF6692\",\"#B6E880\",\"#FF97FF\",\"#FECB52\"],\"font\":{\"color\":\"#2a3f5f\"},\"geo\":{\"bgcolor\":\"white\",\"lakecolor\":\"white\",\"landcolor\":\"#E5ECF6\",\"showlakes\":true,\"showland\":true,\"subunitcolor\":\"white\"},\"hoverlabel\":{\"align\":\"left\"},\"hovermode\":\"closest\",\"mapbox\":{\"style\":\"light\"},\"paper_bgcolor\":\"white\",\"plot_bgcolor\":\"#E5ECF6\",\"polar\":{\"angularaxis\":{\"gridcolor\":\"white\",\"linecolor\":\"white\",\"ticks\":\"\"},\"bgcolor\":\"#E5ECF6\",\"radialaxis\":{\"gridcolor\":\"white\",\"linecolor\":\"white\",\"ticks\":\"\"}},\"scene\":{\"xaxis\":{\"backgroundcolor\":\"#E5ECF6\",\"gridcolor\":\"white\",\"gridwidth\":2,\"linecolor\":\"white\",\"showbackground\":true,\"ticks\":\"\",\"zerolinecolor\":\"white\"},\"yaxis\":{\"backgroundcolor\":\"#E5ECF6\",\"gridcolor\":\"white\",\"gridwidth\":2,\"linecolor\":\"white\",\"showbackground\":true,\"ticks\":\"\",\"zerolinecolor\":\"white\"},\"zaxis\":{\"backgroundcolor\":\"#E5ECF6\",\"gridcolor\":\"white\",\"gridwidth\":2,\"linecolor\":\"white\",\"showbackground\":true,\"ticks\":\"\",\"zerolinecolor\":\"white\"}},\"shapedefaults\":{\"line\":{\"color\":\"#2a3f5f\"}},\"ternary\":{\"aaxis\":{\"gridcolor\":\"white\",\"linecolor\":\"white\",\"ticks\":\"\"},\"baxis\":{\"gridcolor\":\"white\",\"linecolor\":\"white\",\"ticks\":\"\"},\"bgcolor\":\"#E5ECF6\",\"caxis\":{\"gridcolor\":\"white\",\"linecolor\":\"white\",\"ticks\":\"\"}},\"title\":{\"x\":0.05},\"xaxis\":{\"automargin\":true,\"gridcolor\":\"white\",\"linecolor\":\"white\",\"ticks\":\"\",\"title\":{\"standoff\":15},\"zerolinecolor\":\"white\",\"zerolinewidth\":2},\"yaxis\":{\"automargin\":true,\"gridcolor\":\"white\",\"linecolor\":\"white\",\"ticks\":\"\",\"title\":{\"standoff\":15},\"zerolinecolor\":\"white\",\"zerolinewidth\":2}}},\"title\":{\"text\":\"top 10 assist providers of uefa champions league 19/20\"},\"xaxis\":{\"anchor\":\"y\",\"domain\":[0.0,1.0],\"title\":{\"text\":\"name\"}},\"yaxis\":{\"anchor\":\"x\",\"domain\":[0.0,1.0],\"title\":{\"text\":\"assists\"}}},                        {\"responsive\": true}                    ).then(function(){\n",
       "                            \n",
       "var gd = document.getElementById('139c496f-acfc-4b03-a3a0-0c0ad63a5bd3');\n",
       "var x = new MutationObserver(function (mutations, observer) {{\n",
       "        var display = window.getComputedStyle(gd).display;\n",
       "        if (!display || display === 'none') {{\n",
       "            console.log([gd, 'removed!']);\n",
       "            Plotly.purge(gd);\n",
       "            observer.disconnect();\n",
       "        }}\n",
       "}});\n",
       "\n",
       "// Listen for the removal of the full notebook cells\n",
       "var notebookContainer = gd.closest('#notebook-container');\n",
       "if (notebookContainer) {{\n",
       "    x.observe(notebookContainer, {childList: true});\n",
       "}}\n",
       "\n",
       "// Listen for the clearing of the current output cell\n",
       "var outputEl = gd.closest('.output');\n",
       "if (outputEl) {{\n",
       "    x.observe(outputEl, {childList: true});\n",
       "}}\n",
       "\n",
       "                        })                };                });            </script>        </div>"
      ]
     },
     "metadata": {},
     "output_type": "display_data"
    }
   ],
   "source": [
    "fig = px.line(top_10_assists, x=\"name\", y=\"assists\", title='top 10 assist providers of uefa champions league 19/20')\n",
    "fig.show()"
   ]
  },
  {
   "cell_type": "code",
   "execution_count": 1142,
   "id": "3327f325",
   "metadata": {},
   "outputs": [
    {
     "data": {
      "application/vnd.plotly.v1+json": {
       "config": {
        "plotlyServerURL": "https://plot.ly"
       },
       "data": [
        {
         "alignmentgroup": "True",
         "hovertemplate": "name=%{x}<br>assists=%{y}<extra></extra>",
         "legendgroup": "Ángel Di María",
         "marker": {
          "color": "#636efa"
         },
         "name": "Ángel Di María",
         "notched": true,
         "offsetgroup": "Ángel Di María",
         "orientation": "v",
         "showlegend": true,
         "type": "box",
         "x": [
          "Ángel Di María"
         ],
         "x0": " ",
         "xaxis": "x",
         "y": [
          6
         ],
         "y0": " ",
         "yaxis": "y"
        },
        {
         "alignmentgroup": "True",
         "hovertemplate": "name=%{x}<br>assists=%{y}<extra></extra>",
         "legendgroup": "Robert Lewandowski",
         "marker": {
          "color": "#EF553B"
         },
         "name": "Robert Lewandowski",
         "notched": true,
         "offsetgroup": "Robert Lewandowski",
         "orientation": "v",
         "showlegend": true,
         "type": "box",
         "x": [
          "Robert Lewandowski"
         ],
         "x0": " ",
         "xaxis": "x",
         "y": [
          5
         ],
         "y0": " ",
         "yaxis": "y"
        },
        {
         "alignmentgroup": "True",
         "hovertemplate": "name=%{x}<br>assists=%{y}<extra></extra>",
         "legendgroup": "Kylian Mbappé",
         "marker": {
          "color": "#00cc96"
         },
         "name": "Kylian Mbappé",
         "notched": true,
         "offsetgroup": "Kylian Mbappé",
         "orientation": "v",
         "showlegend": true,
         "type": "box",
         "x": [
          "Kylian Mbappé"
         ],
         "x0": " ",
         "xaxis": "x",
         "y": [
          5
         ],
         "y0": " ",
         "yaxis": "y"
        },
        {
         "alignmentgroup": "True",
         "hovertemplate": "name=%{x}<br>assists=%{y}<extra></extra>",
         "legendgroup": "Neymar",
         "marker": {
          "color": "#ab63fa"
         },
         "name": "Neymar",
         "notched": true,
         "offsetgroup": "Neymar",
         "orientation": "v",
         "showlegend": true,
         "type": "box",
         "x": [
          "Neymar"
         ],
         "x0": " ",
         "xaxis": "x",
         "y": [
          4
         ],
         "y0": " ",
         "yaxis": "y"
        },
        {
         "alignmentgroup": "True",
         "hovertemplate": "name=%{x}<br>assists=%{y}<extra></extra>",
         "legendgroup": "Joshua Kimmich",
         "marker": {
          "color": "#FFA15A"
         },
         "name": "Joshua Kimmich",
         "notched": true,
         "offsetgroup": "Joshua Kimmich",
         "orientation": "v",
         "showlegend": true,
         "type": "box",
         "x": [
          "Joshua Kimmich"
         ],
         "x0": " ",
         "xaxis": "x",
         "y": [
          4
         ],
         "y0": " ",
         "yaxis": "y"
        },
        {
         "alignmentgroup": "True",
         "hovertemplate": "name=%{x}<br>assists=%{y}<extra></extra>",
         "legendgroup": "Hakim Ziyech",
         "marker": {
          "color": "#19d3f3"
         },
         "name": "Hakim Ziyech",
         "notched": true,
         "offsetgroup": "Hakim Ziyech",
         "orientation": "v",
         "showlegend": true,
         "type": "box",
         "x": [
          "Hakim Ziyech"
         ],
         "x0": " ",
         "xaxis": "x",
         "y": [
          4
         ],
         "y0": " ",
         "yaxis": "y"
        },
        {
         "alignmentgroup": "True",
         "hovertemplate": "name=%{x}<br>assists=%{y}<extra></extra>",
         "legendgroup": "Riyad Mahrez",
         "marker": {
          "color": "#FF6692"
         },
         "name": "Riyad Mahrez",
         "notched": true,
         "offsetgroup": "Riyad Mahrez",
         "orientation": "v",
         "showlegend": true,
         "type": "box",
         "x": [
          "Riyad Mahrez"
         ],
         "x0": " ",
         "xaxis": "x",
         "y": [
          4
         ],
         "y0": " ",
         "yaxis": "y"
        },
        {
         "alignmentgroup": "True",
         "hovertemplate": "name=%{x}<br>assists=%{y}<extra></extra>",
         "legendgroup": "Houssem Aouar",
         "marker": {
          "color": "#B6E880"
         },
         "name": "Houssem Aouar",
         "notched": true,
         "offsetgroup": "Houssem Aouar",
         "orientation": "v",
         "showlegend": true,
         "type": "box",
         "x": [
          "Houssem Aouar"
         ],
         "x0": " ",
         "xaxis": "x",
         "y": [
          4
         ],
         "y0": " ",
         "yaxis": "y"
        },
        {
         "alignmentgroup": "True",
         "hovertemplate": "name=%{x}<br>assists=%{y}<extra></extra>",
         "legendgroup": "Lionel Messi",
         "marker": {
          "color": "#FF97FF"
         },
         "name": "Lionel Messi",
         "notched": true,
         "offsetgroup": "Lionel Messi",
         "orientation": "v",
         "showlegend": true,
         "type": "box",
         "x": [
          "Lionel Messi"
         ],
         "x0": " ",
         "xaxis": "x",
         "y": [
          3
         ],
         "y0": " ",
         "yaxis": "y"
        },
        {
         "alignmentgroup": "True",
         "hovertemplate": "name=%{x}<br>assists=%{y}<extra></extra>",
         "legendgroup": "Hee-Chan Hwang",
         "marker": {
          "color": "#FECB52"
         },
         "name": "Hee-Chan Hwang",
         "notched": true,
         "offsetgroup": "Hee-Chan Hwang",
         "orientation": "v",
         "showlegend": true,
         "type": "box",
         "x": [
          "Hee-Chan Hwang"
         ],
         "x0": " ",
         "xaxis": "x",
         "y": [
          3
         ],
         "y0": " ",
         "yaxis": "y"
        }
       ],
       "layout": {
        "boxmode": "overlay",
        "legend": {
         "title": {
          "text": "name"
         },
         "tracegroupgap": 0
        },
        "margin": {
         "t": 60
        },
        "template": {
         "data": {
          "bar": [
           {
            "error_x": {
             "color": "#2a3f5f"
            },
            "error_y": {
             "color": "#2a3f5f"
            },
            "marker": {
             "line": {
              "color": "#E5ECF6",
              "width": 0.5
             },
             "pattern": {
              "fillmode": "overlay",
              "size": 10,
              "solidity": 0.2
             }
            },
            "type": "bar"
           }
          ],
          "barpolar": [
           {
            "marker": {
             "line": {
              "color": "#E5ECF6",
              "width": 0.5
             },
             "pattern": {
              "fillmode": "overlay",
              "size": 10,
              "solidity": 0.2
             }
            },
            "type": "barpolar"
           }
          ],
          "carpet": [
           {
            "aaxis": {
             "endlinecolor": "#2a3f5f",
             "gridcolor": "white",
             "linecolor": "white",
             "minorgridcolor": "white",
             "startlinecolor": "#2a3f5f"
            },
            "baxis": {
             "endlinecolor": "#2a3f5f",
             "gridcolor": "white",
             "linecolor": "white",
             "minorgridcolor": "white",
             "startlinecolor": "#2a3f5f"
            },
            "type": "carpet"
           }
          ],
          "choropleth": [
           {
            "colorbar": {
             "outlinewidth": 0,
             "ticks": ""
            },
            "type": "choropleth"
           }
          ],
          "contour": [
           {
            "colorbar": {
             "outlinewidth": 0,
             "ticks": ""
            },
            "colorscale": [
             [
              0,
              "#0d0887"
             ],
             [
              0.1111111111111111,
              "#46039f"
             ],
             [
              0.2222222222222222,
              "#7201a8"
             ],
             [
              0.3333333333333333,
              "#9c179e"
             ],
             [
              0.4444444444444444,
              "#bd3786"
             ],
             [
              0.5555555555555556,
              "#d8576b"
             ],
             [
              0.6666666666666666,
              "#ed7953"
             ],
             [
              0.7777777777777778,
              "#fb9f3a"
             ],
             [
              0.8888888888888888,
              "#fdca26"
             ],
             [
              1,
              "#f0f921"
             ]
            ],
            "type": "contour"
           }
          ],
          "contourcarpet": [
           {
            "colorbar": {
             "outlinewidth": 0,
             "ticks": ""
            },
            "type": "contourcarpet"
           }
          ],
          "heatmap": [
           {
            "colorbar": {
             "outlinewidth": 0,
             "ticks": ""
            },
            "colorscale": [
             [
              0,
              "#0d0887"
             ],
             [
              0.1111111111111111,
              "#46039f"
             ],
             [
              0.2222222222222222,
              "#7201a8"
             ],
             [
              0.3333333333333333,
              "#9c179e"
             ],
             [
              0.4444444444444444,
              "#bd3786"
             ],
             [
              0.5555555555555556,
              "#d8576b"
             ],
             [
              0.6666666666666666,
              "#ed7953"
             ],
             [
              0.7777777777777778,
              "#fb9f3a"
             ],
             [
              0.8888888888888888,
              "#fdca26"
             ],
             [
              1,
              "#f0f921"
             ]
            ],
            "type": "heatmap"
           }
          ],
          "heatmapgl": [
           {
            "colorbar": {
             "outlinewidth": 0,
             "ticks": ""
            },
            "colorscale": [
             [
              0,
              "#0d0887"
             ],
             [
              0.1111111111111111,
              "#46039f"
             ],
             [
              0.2222222222222222,
              "#7201a8"
             ],
             [
              0.3333333333333333,
              "#9c179e"
             ],
             [
              0.4444444444444444,
              "#bd3786"
             ],
             [
              0.5555555555555556,
              "#d8576b"
             ],
             [
              0.6666666666666666,
              "#ed7953"
             ],
             [
              0.7777777777777778,
              "#fb9f3a"
             ],
             [
              0.8888888888888888,
              "#fdca26"
             ],
             [
              1,
              "#f0f921"
             ]
            ],
            "type": "heatmapgl"
           }
          ],
          "histogram": [
           {
            "marker": {
             "pattern": {
              "fillmode": "overlay",
              "size": 10,
              "solidity": 0.2
             }
            },
            "type": "histogram"
           }
          ],
          "histogram2d": [
           {
            "colorbar": {
             "outlinewidth": 0,
             "ticks": ""
            },
            "colorscale": [
             [
              0,
              "#0d0887"
             ],
             [
              0.1111111111111111,
              "#46039f"
             ],
             [
              0.2222222222222222,
              "#7201a8"
             ],
             [
              0.3333333333333333,
              "#9c179e"
             ],
             [
              0.4444444444444444,
              "#bd3786"
             ],
             [
              0.5555555555555556,
              "#d8576b"
             ],
             [
              0.6666666666666666,
              "#ed7953"
             ],
             [
              0.7777777777777778,
              "#fb9f3a"
             ],
             [
              0.8888888888888888,
              "#fdca26"
             ],
             [
              1,
              "#f0f921"
             ]
            ],
            "type": "histogram2d"
           }
          ],
          "histogram2dcontour": [
           {
            "colorbar": {
             "outlinewidth": 0,
             "ticks": ""
            },
            "colorscale": [
             [
              0,
              "#0d0887"
             ],
             [
              0.1111111111111111,
              "#46039f"
             ],
             [
              0.2222222222222222,
              "#7201a8"
             ],
             [
              0.3333333333333333,
              "#9c179e"
             ],
             [
              0.4444444444444444,
              "#bd3786"
             ],
             [
              0.5555555555555556,
              "#d8576b"
             ],
             [
              0.6666666666666666,
              "#ed7953"
             ],
             [
              0.7777777777777778,
              "#fb9f3a"
             ],
             [
              0.8888888888888888,
              "#fdca26"
             ],
             [
              1,
              "#f0f921"
             ]
            ],
            "type": "histogram2dcontour"
           }
          ],
          "mesh3d": [
           {
            "colorbar": {
             "outlinewidth": 0,
             "ticks": ""
            },
            "type": "mesh3d"
           }
          ],
          "parcoords": [
           {
            "line": {
             "colorbar": {
              "outlinewidth": 0,
              "ticks": ""
             }
            },
            "type": "parcoords"
           }
          ],
          "pie": [
           {
            "automargin": true,
            "type": "pie"
           }
          ],
          "scatter": [
           {
            "marker": {
             "colorbar": {
              "outlinewidth": 0,
              "ticks": ""
             }
            },
            "type": "scatter"
           }
          ],
          "scatter3d": [
           {
            "line": {
             "colorbar": {
              "outlinewidth": 0,
              "ticks": ""
             }
            },
            "marker": {
             "colorbar": {
              "outlinewidth": 0,
              "ticks": ""
             }
            },
            "type": "scatter3d"
           }
          ],
          "scattercarpet": [
           {
            "marker": {
             "colorbar": {
              "outlinewidth": 0,
              "ticks": ""
             }
            },
            "type": "scattercarpet"
           }
          ],
          "scattergeo": [
           {
            "marker": {
             "colorbar": {
              "outlinewidth": 0,
              "ticks": ""
             }
            },
            "type": "scattergeo"
           }
          ],
          "scattergl": [
           {
            "marker": {
             "colorbar": {
              "outlinewidth": 0,
              "ticks": ""
             }
            },
            "type": "scattergl"
           }
          ],
          "scattermapbox": [
           {
            "marker": {
             "colorbar": {
              "outlinewidth": 0,
              "ticks": ""
             }
            },
            "type": "scattermapbox"
           }
          ],
          "scatterpolar": [
           {
            "marker": {
             "colorbar": {
              "outlinewidth": 0,
              "ticks": ""
             }
            },
            "type": "scatterpolar"
           }
          ],
          "scatterpolargl": [
           {
            "marker": {
             "colorbar": {
              "outlinewidth": 0,
              "ticks": ""
             }
            },
            "type": "scatterpolargl"
           }
          ],
          "scatterternary": [
           {
            "marker": {
             "colorbar": {
              "outlinewidth": 0,
              "ticks": ""
             }
            },
            "type": "scatterternary"
           }
          ],
          "surface": [
           {
            "colorbar": {
             "outlinewidth": 0,
             "ticks": ""
            },
            "colorscale": [
             [
              0,
              "#0d0887"
             ],
             [
              0.1111111111111111,
              "#46039f"
             ],
             [
              0.2222222222222222,
              "#7201a8"
             ],
             [
              0.3333333333333333,
              "#9c179e"
             ],
             [
              0.4444444444444444,
              "#bd3786"
             ],
             [
              0.5555555555555556,
              "#d8576b"
             ],
             [
              0.6666666666666666,
              "#ed7953"
             ],
             [
              0.7777777777777778,
              "#fb9f3a"
             ],
             [
              0.8888888888888888,
              "#fdca26"
             ],
             [
              1,
              "#f0f921"
             ]
            ],
            "type": "surface"
           }
          ],
          "table": [
           {
            "cells": {
             "fill": {
              "color": "#EBF0F8"
             },
             "line": {
              "color": "white"
             }
            },
            "header": {
             "fill": {
              "color": "#C8D4E3"
             },
             "line": {
              "color": "white"
             }
            },
            "type": "table"
           }
          ]
         },
         "layout": {
          "annotationdefaults": {
           "arrowcolor": "#2a3f5f",
           "arrowhead": 0,
           "arrowwidth": 1
          },
          "autotypenumbers": "strict",
          "coloraxis": {
           "colorbar": {
            "outlinewidth": 0,
            "ticks": ""
           }
          },
          "colorscale": {
           "diverging": [
            [
             0,
             "#8e0152"
            ],
            [
             0.1,
             "#c51b7d"
            ],
            [
             0.2,
             "#de77ae"
            ],
            [
             0.3,
             "#f1b6da"
            ],
            [
             0.4,
             "#fde0ef"
            ],
            [
             0.5,
             "#f7f7f7"
            ],
            [
             0.6,
             "#e6f5d0"
            ],
            [
             0.7,
             "#b8e186"
            ],
            [
             0.8,
             "#7fbc41"
            ],
            [
             0.9,
             "#4d9221"
            ],
            [
             1,
             "#276419"
            ]
           ],
           "sequential": [
            [
             0,
             "#0d0887"
            ],
            [
             0.1111111111111111,
             "#46039f"
            ],
            [
             0.2222222222222222,
             "#7201a8"
            ],
            [
             0.3333333333333333,
             "#9c179e"
            ],
            [
             0.4444444444444444,
             "#bd3786"
            ],
            [
             0.5555555555555556,
             "#d8576b"
            ],
            [
             0.6666666666666666,
             "#ed7953"
            ],
            [
             0.7777777777777778,
             "#fb9f3a"
            ],
            [
             0.8888888888888888,
             "#fdca26"
            ],
            [
             1,
             "#f0f921"
            ]
           ],
           "sequentialminus": [
            [
             0,
             "#0d0887"
            ],
            [
             0.1111111111111111,
             "#46039f"
            ],
            [
             0.2222222222222222,
             "#7201a8"
            ],
            [
             0.3333333333333333,
             "#9c179e"
            ],
            [
             0.4444444444444444,
             "#bd3786"
            ],
            [
             0.5555555555555556,
             "#d8576b"
            ],
            [
             0.6666666666666666,
             "#ed7953"
            ],
            [
             0.7777777777777778,
             "#fb9f3a"
            ],
            [
             0.8888888888888888,
             "#fdca26"
            ],
            [
             1,
             "#f0f921"
            ]
           ]
          },
          "colorway": [
           "#636efa",
           "#EF553B",
           "#00cc96",
           "#ab63fa",
           "#FFA15A",
           "#19d3f3",
           "#FF6692",
           "#B6E880",
           "#FF97FF",
           "#FECB52"
          ],
          "font": {
           "color": "#2a3f5f"
          },
          "geo": {
           "bgcolor": "white",
           "lakecolor": "white",
           "landcolor": "#E5ECF6",
           "showlakes": true,
           "showland": true,
           "subunitcolor": "white"
          },
          "hoverlabel": {
           "align": "left"
          },
          "hovermode": "closest",
          "mapbox": {
           "style": "light"
          },
          "paper_bgcolor": "white",
          "plot_bgcolor": "#E5ECF6",
          "polar": {
           "angularaxis": {
            "gridcolor": "white",
            "linecolor": "white",
            "ticks": ""
           },
           "bgcolor": "#E5ECF6",
           "radialaxis": {
            "gridcolor": "white",
            "linecolor": "white",
            "ticks": ""
           }
          },
          "scene": {
           "xaxis": {
            "backgroundcolor": "#E5ECF6",
            "gridcolor": "white",
            "gridwidth": 2,
            "linecolor": "white",
            "showbackground": true,
            "ticks": "",
            "zerolinecolor": "white"
           },
           "yaxis": {
            "backgroundcolor": "#E5ECF6",
            "gridcolor": "white",
            "gridwidth": 2,
            "linecolor": "white",
            "showbackground": true,
            "ticks": "",
            "zerolinecolor": "white"
           },
           "zaxis": {
            "backgroundcolor": "#E5ECF6",
            "gridcolor": "white",
            "gridwidth": 2,
            "linecolor": "white",
            "showbackground": true,
            "ticks": "",
            "zerolinecolor": "white"
           }
          },
          "shapedefaults": {
           "line": {
            "color": "#2a3f5f"
           }
          },
          "ternary": {
           "aaxis": {
            "gridcolor": "white",
            "linecolor": "white",
            "ticks": ""
           },
           "baxis": {
            "gridcolor": "white",
            "linecolor": "white",
            "ticks": ""
           },
           "bgcolor": "#E5ECF6",
           "caxis": {
            "gridcolor": "white",
            "linecolor": "white",
            "ticks": ""
           }
          },
          "title": {
           "x": 0.05
          },
          "xaxis": {
           "automargin": true,
           "gridcolor": "white",
           "linecolor": "white",
           "ticks": "",
           "title": {
            "standoff": 15
           },
           "zerolinecolor": "white",
           "zerolinewidth": 2
          },
          "yaxis": {
           "automargin": true,
           "gridcolor": "white",
           "linecolor": "white",
           "ticks": "",
           "title": {
            "standoff": 15
           },
           "zerolinecolor": "white",
           "zerolinewidth": 2
          }
         }
        },
        "xaxis": {
         "anchor": "y",
         "categoryarray": [
          "Ángel Di María",
          "Robert Lewandowski",
          "Kylian Mbappé",
          "Neymar",
          "Joshua Kimmich",
          "Hakim Ziyech",
          "Riyad Mahrez",
          "Houssem Aouar",
          "Lionel Messi",
          "Hee-Chan Hwang"
         ],
         "categoryorder": "array",
         "domain": [
          0,
          1
         ],
         "title": {
          "text": "name"
         }
        },
        "yaxis": {
         "anchor": "x",
         "domain": [
          0,
          1
         ],
         "title": {
          "text": "assists"
         }
        }
       }
      },
      "text/html": [
       "<div>                            <div id=\"57b43974-c465-4243-8a08-a129a5f1799a\" class=\"plotly-graph-div\" style=\"height:525px; width:100%;\"></div>            <script type=\"text/javascript\">                require([\"plotly\"], function(Plotly) {                    window.PLOTLYENV=window.PLOTLYENV || {};                                    if (document.getElementById(\"57b43974-c465-4243-8a08-a129a5f1799a\")) {                    Plotly.newPlot(                        \"57b43974-c465-4243-8a08-a129a5f1799a\",                        [{\"alignmentgroup\":\"True\",\"hovertemplate\":\"name=%{x}<br>assists=%{y}<extra></extra>\",\"legendgroup\":\"\\u00c1ngel Di Mar\\u00eda\",\"marker\":{\"color\":\"#636efa\"},\"name\":\"\\u00c1ngel Di Mar\\u00eda\",\"notched\":true,\"offsetgroup\":\"\\u00c1ngel Di Mar\\u00eda\",\"orientation\":\"v\",\"showlegend\":true,\"type\":\"box\",\"x\":[\"\\u00c1ngel Di Mar\\u00eda\"],\"x0\":\" \",\"xaxis\":\"x\",\"y\":[6.0],\"y0\":\" \",\"yaxis\":\"y\"},{\"alignmentgroup\":\"True\",\"hovertemplate\":\"name=%{x}<br>assists=%{y}<extra></extra>\",\"legendgroup\":\"Robert Lewandowski\",\"marker\":{\"color\":\"#EF553B\"},\"name\":\"Robert Lewandowski\",\"notched\":true,\"offsetgroup\":\"Robert Lewandowski\",\"orientation\":\"v\",\"showlegend\":true,\"type\":\"box\",\"x\":[\"Robert Lewandowski\"],\"x0\":\" \",\"xaxis\":\"x\",\"y\":[5.0],\"y0\":\" \",\"yaxis\":\"y\"},{\"alignmentgroup\":\"True\",\"hovertemplate\":\"name=%{x}<br>assists=%{y}<extra></extra>\",\"legendgroup\":\"Kylian Mbapp\\u00e9\",\"marker\":{\"color\":\"#00cc96\"},\"name\":\"Kylian Mbapp\\u00e9\",\"notched\":true,\"offsetgroup\":\"Kylian Mbapp\\u00e9\",\"orientation\":\"v\",\"showlegend\":true,\"type\":\"box\",\"x\":[\"Kylian Mbapp\\u00e9\"],\"x0\":\" \",\"xaxis\":\"x\",\"y\":[5.0],\"y0\":\" \",\"yaxis\":\"y\"},{\"alignmentgroup\":\"True\",\"hovertemplate\":\"name=%{x}<br>assists=%{y}<extra></extra>\",\"legendgroup\":\"Neymar\",\"marker\":{\"color\":\"#ab63fa\"},\"name\":\"Neymar\",\"notched\":true,\"offsetgroup\":\"Neymar\",\"orientation\":\"v\",\"showlegend\":true,\"type\":\"box\",\"x\":[\"Neymar\"],\"x0\":\" \",\"xaxis\":\"x\",\"y\":[4.0],\"y0\":\" \",\"yaxis\":\"y\"},{\"alignmentgroup\":\"True\",\"hovertemplate\":\"name=%{x}<br>assists=%{y}<extra></extra>\",\"legendgroup\":\"Joshua Kimmich\",\"marker\":{\"color\":\"#FFA15A\"},\"name\":\"Joshua Kimmich\",\"notched\":true,\"offsetgroup\":\"Joshua Kimmich\",\"orientation\":\"v\",\"showlegend\":true,\"type\":\"box\",\"x\":[\"Joshua Kimmich\"],\"x0\":\" \",\"xaxis\":\"x\",\"y\":[4.0],\"y0\":\" \",\"yaxis\":\"y\"},{\"alignmentgroup\":\"True\",\"hovertemplate\":\"name=%{x}<br>assists=%{y}<extra></extra>\",\"legendgroup\":\"Hakim Ziyech\",\"marker\":{\"color\":\"#19d3f3\"},\"name\":\"Hakim Ziyech\",\"notched\":true,\"offsetgroup\":\"Hakim Ziyech\",\"orientation\":\"v\",\"showlegend\":true,\"type\":\"box\",\"x\":[\"Hakim Ziyech\"],\"x0\":\" \",\"xaxis\":\"x\",\"y\":[4.0],\"y0\":\" \",\"yaxis\":\"y\"},{\"alignmentgroup\":\"True\",\"hovertemplate\":\"name=%{x}<br>assists=%{y}<extra></extra>\",\"legendgroup\":\"Riyad Mahrez\",\"marker\":{\"color\":\"#FF6692\"},\"name\":\"Riyad Mahrez\",\"notched\":true,\"offsetgroup\":\"Riyad Mahrez\",\"orientation\":\"v\",\"showlegend\":true,\"type\":\"box\",\"x\":[\"Riyad Mahrez\"],\"x0\":\" \",\"xaxis\":\"x\",\"y\":[4.0],\"y0\":\" \",\"yaxis\":\"y\"},{\"alignmentgroup\":\"True\",\"hovertemplate\":\"name=%{x}<br>assists=%{y}<extra></extra>\",\"legendgroup\":\"Houssem Aouar\",\"marker\":{\"color\":\"#B6E880\"},\"name\":\"Houssem Aouar\",\"notched\":true,\"offsetgroup\":\"Houssem Aouar\",\"orientation\":\"v\",\"showlegend\":true,\"type\":\"box\",\"x\":[\"Houssem Aouar\"],\"x0\":\" \",\"xaxis\":\"x\",\"y\":[4.0],\"y0\":\" \",\"yaxis\":\"y\"},{\"alignmentgroup\":\"True\",\"hovertemplate\":\"name=%{x}<br>assists=%{y}<extra></extra>\",\"legendgroup\":\"Lionel Messi\",\"marker\":{\"color\":\"#FF97FF\"},\"name\":\"Lionel Messi\",\"notched\":true,\"offsetgroup\":\"Lionel Messi\",\"orientation\":\"v\",\"showlegend\":true,\"type\":\"box\",\"x\":[\"Lionel Messi\"],\"x0\":\" \",\"xaxis\":\"x\",\"y\":[3.0],\"y0\":\" \",\"yaxis\":\"y\"},{\"alignmentgroup\":\"True\",\"hovertemplate\":\"name=%{x}<br>assists=%{y}<extra></extra>\",\"legendgroup\":\"Hee-Chan Hwang\",\"marker\":{\"color\":\"#FECB52\"},\"name\":\"Hee-Chan Hwang\",\"notched\":true,\"offsetgroup\":\"Hee-Chan Hwang\",\"orientation\":\"v\",\"showlegend\":true,\"type\":\"box\",\"x\":[\"Hee-Chan Hwang\"],\"x0\":\" \",\"xaxis\":\"x\",\"y\":[3.0],\"y0\":\" \",\"yaxis\":\"y\"}],                        {\"boxmode\":\"overlay\",\"legend\":{\"title\":{\"text\":\"name\"},\"tracegroupgap\":0},\"margin\":{\"t\":60},\"template\":{\"data\":{\"bar\":[{\"error_x\":{\"color\":\"#2a3f5f\"},\"error_y\":{\"color\":\"#2a3f5f\"},\"marker\":{\"line\":{\"color\":\"#E5ECF6\",\"width\":0.5},\"pattern\":{\"fillmode\":\"overlay\",\"size\":10,\"solidity\":0.2}},\"type\":\"bar\"}],\"barpolar\":[{\"marker\":{\"line\":{\"color\":\"#E5ECF6\",\"width\":0.5},\"pattern\":{\"fillmode\":\"overlay\",\"size\":10,\"solidity\":0.2}},\"type\":\"barpolar\"}],\"carpet\":[{\"aaxis\":{\"endlinecolor\":\"#2a3f5f\",\"gridcolor\":\"white\",\"linecolor\":\"white\",\"minorgridcolor\":\"white\",\"startlinecolor\":\"#2a3f5f\"},\"baxis\":{\"endlinecolor\":\"#2a3f5f\",\"gridcolor\":\"white\",\"linecolor\":\"white\",\"minorgridcolor\":\"white\",\"startlinecolor\":\"#2a3f5f\"},\"type\":\"carpet\"}],\"choropleth\":[{\"colorbar\":{\"outlinewidth\":0,\"ticks\":\"\"},\"type\":\"choropleth\"}],\"contour\":[{\"colorbar\":{\"outlinewidth\":0,\"ticks\":\"\"},\"colorscale\":[[0.0,\"#0d0887\"],[0.1111111111111111,\"#46039f\"],[0.2222222222222222,\"#7201a8\"],[0.3333333333333333,\"#9c179e\"],[0.4444444444444444,\"#bd3786\"],[0.5555555555555556,\"#d8576b\"],[0.6666666666666666,\"#ed7953\"],[0.7777777777777778,\"#fb9f3a\"],[0.8888888888888888,\"#fdca26\"],[1.0,\"#f0f921\"]],\"type\":\"contour\"}],\"contourcarpet\":[{\"colorbar\":{\"outlinewidth\":0,\"ticks\":\"\"},\"type\":\"contourcarpet\"}],\"heatmap\":[{\"colorbar\":{\"outlinewidth\":0,\"ticks\":\"\"},\"colorscale\":[[0.0,\"#0d0887\"],[0.1111111111111111,\"#46039f\"],[0.2222222222222222,\"#7201a8\"],[0.3333333333333333,\"#9c179e\"],[0.4444444444444444,\"#bd3786\"],[0.5555555555555556,\"#d8576b\"],[0.6666666666666666,\"#ed7953\"],[0.7777777777777778,\"#fb9f3a\"],[0.8888888888888888,\"#fdca26\"],[1.0,\"#f0f921\"]],\"type\":\"heatmap\"}],\"heatmapgl\":[{\"colorbar\":{\"outlinewidth\":0,\"ticks\":\"\"},\"colorscale\":[[0.0,\"#0d0887\"],[0.1111111111111111,\"#46039f\"],[0.2222222222222222,\"#7201a8\"],[0.3333333333333333,\"#9c179e\"],[0.4444444444444444,\"#bd3786\"],[0.5555555555555556,\"#d8576b\"],[0.6666666666666666,\"#ed7953\"],[0.7777777777777778,\"#fb9f3a\"],[0.8888888888888888,\"#fdca26\"],[1.0,\"#f0f921\"]],\"type\":\"heatmapgl\"}],\"histogram\":[{\"marker\":{\"pattern\":{\"fillmode\":\"overlay\",\"size\":10,\"solidity\":0.2}},\"type\":\"histogram\"}],\"histogram2d\":[{\"colorbar\":{\"outlinewidth\":0,\"ticks\":\"\"},\"colorscale\":[[0.0,\"#0d0887\"],[0.1111111111111111,\"#46039f\"],[0.2222222222222222,\"#7201a8\"],[0.3333333333333333,\"#9c179e\"],[0.4444444444444444,\"#bd3786\"],[0.5555555555555556,\"#d8576b\"],[0.6666666666666666,\"#ed7953\"],[0.7777777777777778,\"#fb9f3a\"],[0.8888888888888888,\"#fdca26\"],[1.0,\"#f0f921\"]],\"type\":\"histogram2d\"}],\"histogram2dcontour\":[{\"colorbar\":{\"outlinewidth\":0,\"ticks\":\"\"},\"colorscale\":[[0.0,\"#0d0887\"],[0.1111111111111111,\"#46039f\"],[0.2222222222222222,\"#7201a8\"],[0.3333333333333333,\"#9c179e\"],[0.4444444444444444,\"#bd3786\"],[0.5555555555555556,\"#d8576b\"],[0.6666666666666666,\"#ed7953\"],[0.7777777777777778,\"#fb9f3a\"],[0.8888888888888888,\"#fdca26\"],[1.0,\"#f0f921\"]],\"type\":\"histogram2dcontour\"}],\"mesh3d\":[{\"colorbar\":{\"outlinewidth\":0,\"ticks\":\"\"},\"type\":\"mesh3d\"}],\"parcoords\":[{\"line\":{\"colorbar\":{\"outlinewidth\":0,\"ticks\":\"\"}},\"type\":\"parcoords\"}],\"pie\":[{\"automargin\":true,\"type\":\"pie\"}],\"scatter\":[{\"marker\":{\"colorbar\":{\"outlinewidth\":0,\"ticks\":\"\"}},\"type\":\"scatter\"}],\"scatter3d\":[{\"line\":{\"colorbar\":{\"outlinewidth\":0,\"ticks\":\"\"}},\"marker\":{\"colorbar\":{\"outlinewidth\":0,\"ticks\":\"\"}},\"type\":\"scatter3d\"}],\"scattercarpet\":[{\"marker\":{\"colorbar\":{\"outlinewidth\":0,\"ticks\":\"\"}},\"type\":\"scattercarpet\"}],\"scattergeo\":[{\"marker\":{\"colorbar\":{\"outlinewidth\":0,\"ticks\":\"\"}},\"type\":\"scattergeo\"}],\"scattergl\":[{\"marker\":{\"colorbar\":{\"outlinewidth\":0,\"ticks\":\"\"}},\"type\":\"scattergl\"}],\"scattermapbox\":[{\"marker\":{\"colorbar\":{\"outlinewidth\":0,\"ticks\":\"\"}},\"type\":\"scattermapbox\"}],\"scatterpolar\":[{\"marker\":{\"colorbar\":{\"outlinewidth\":0,\"ticks\":\"\"}},\"type\":\"scatterpolar\"}],\"scatterpolargl\":[{\"marker\":{\"colorbar\":{\"outlinewidth\":0,\"ticks\":\"\"}},\"type\":\"scatterpolargl\"}],\"scatterternary\":[{\"marker\":{\"colorbar\":{\"outlinewidth\":0,\"ticks\":\"\"}},\"type\":\"scatterternary\"}],\"surface\":[{\"colorbar\":{\"outlinewidth\":0,\"ticks\":\"\"},\"colorscale\":[[0.0,\"#0d0887\"],[0.1111111111111111,\"#46039f\"],[0.2222222222222222,\"#7201a8\"],[0.3333333333333333,\"#9c179e\"],[0.4444444444444444,\"#bd3786\"],[0.5555555555555556,\"#d8576b\"],[0.6666666666666666,\"#ed7953\"],[0.7777777777777778,\"#fb9f3a\"],[0.8888888888888888,\"#fdca26\"],[1.0,\"#f0f921\"]],\"type\":\"surface\"}],\"table\":[{\"cells\":{\"fill\":{\"color\":\"#EBF0F8\"},\"line\":{\"color\":\"white\"}},\"header\":{\"fill\":{\"color\":\"#C8D4E3\"},\"line\":{\"color\":\"white\"}},\"type\":\"table\"}]},\"layout\":{\"annotationdefaults\":{\"arrowcolor\":\"#2a3f5f\",\"arrowhead\":0,\"arrowwidth\":1},\"autotypenumbers\":\"strict\",\"coloraxis\":{\"colorbar\":{\"outlinewidth\":0,\"ticks\":\"\"}},\"colorscale\":{\"diverging\":[[0,\"#8e0152\"],[0.1,\"#c51b7d\"],[0.2,\"#de77ae\"],[0.3,\"#f1b6da\"],[0.4,\"#fde0ef\"],[0.5,\"#f7f7f7\"],[0.6,\"#e6f5d0\"],[0.7,\"#b8e186\"],[0.8,\"#7fbc41\"],[0.9,\"#4d9221\"],[1,\"#276419\"]],\"sequential\":[[0.0,\"#0d0887\"],[0.1111111111111111,\"#46039f\"],[0.2222222222222222,\"#7201a8\"],[0.3333333333333333,\"#9c179e\"],[0.4444444444444444,\"#bd3786\"],[0.5555555555555556,\"#d8576b\"],[0.6666666666666666,\"#ed7953\"],[0.7777777777777778,\"#fb9f3a\"],[0.8888888888888888,\"#fdca26\"],[1.0,\"#f0f921\"]],\"sequentialminus\":[[0.0,\"#0d0887\"],[0.1111111111111111,\"#46039f\"],[0.2222222222222222,\"#7201a8\"],[0.3333333333333333,\"#9c179e\"],[0.4444444444444444,\"#bd3786\"],[0.5555555555555556,\"#d8576b\"],[0.6666666666666666,\"#ed7953\"],[0.7777777777777778,\"#fb9f3a\"],[0.8888888888888888,\"#fdca26\"],[1.0,\"#f0f921\"]]},\"colorway\":[\"#636efa\",\"#EF553B\",\"#00cc96\",\"#ab63fa\",\"#FFA15A\",\"#19d3f3\",\"#FF6692\",\"#B6E880\",\"#FF97FF\",\"#FECB52\"],\"font\":{\"color\":\"#2a3f5f\"},\"geo\":{\"bgcolor\":\"white\",\"lakecolor\":\"white\",\"landcolor\":\"#E5ECF6\",\"showlakes\":true,\"showland\":true,\"subunitcolor\":\"white\"},\"hoverlabel\":{\"align\":\"left\"},\"hovermode\":\"closest\",\"mapbox\":{\"style\":\"light\"},\"paper_bgcolor\":\"white\",\"plot_bgcolor\":\"#E5ECF6\",\"polar\":{\"angularaxis\":{\"gridcolor\":\"white\",\"linecolor\":\"white\",\"ticks\":\"\"},\"bgcolor\":\"#E5ECF6\",\"radialaxis\":{\"gridcolor\":\"white\",\"linecolor\":\"white\",\"ticks\":\"\"}},\"scene\":{\"xaxis\":{\"backgroundcolor\":\"#E5ECF6\",\"gridcolor\":\"white\",\"gridwidth\":2,\"linecolor\":\"white\",\"showbackground\":true,\"ticks\":\"\",\"zerolinecolor\":\"white\"},\"yaxis\":{\"backgroundcolor\":\"#E5ECF6\",\"gridcolor\":\"white\",\"gridwidth\":2,\"linecolor\":\"white\",\"showbackground\":true,\"ticks\":\"\",\"zerolinecolor\":\"white\"},\"zaxis\":{\"backgroundcolor\":\"#E5ECF6\",\"gridcolor\":\"white\",\"gridwidth\":2,\"linecolor\":\"white\",\"showbackground\":true,\"ticks\":\"\",\"zerolinecolor\":\"white\"}},\"shapedefaults\":{\"line\":{\"color\":\"#2a3f5f\"}},\"ternary\":{\"aaxis\":{\"gridcolor\":\"white\",\"linecolor\":\"white\",\"ticks\":\"\"},\"baxis\":{\"gridcolor\":\"white\",\"linecolor\":\"white\",\"ticks\":\"\"},\"bgcolor\":\"#E5ECF6\",\"caxis\":{\"gridcolor\":\"white\",\"linecolor\":\"white\",\"ticks\":\"\"}},\"title\":{\"x\":0.05},\"xaxis\":{\"automargin\":true,\"gridcolor\":\"white\",\"linecolor\":\"white\",\"ticks\":\"\",\"title\":{\"standoff\":15},\"zerolinecolor\":\"white\",\"zerolinewidth\":2},\"yaxis\":{\"automargin\":true,\"gridcolor\":\"white\",\"linecolor\":\"white\",\"ticks\":\"\",\"title\":{\"standoff\":15},\"zerolinecolor\":\"white\",\"zerolinewidth\":2}}},\"xaxis\":{\"anchor\":\"y\",\"categoryarray\":[\"\\u00c1ngel Di Mar\\u00eda\",\"Robert Lewandowski\",\"Kylian Mbapp\\u00e9\",\"Neymar\",\"Joshua Kimmich\",\"Hakim Ziyech\",\"Riyad Mahrez\",\"Houssem Aouar\",\"Lionel Messi\",\"Hee-Chan Hwang\"],\"categoryorder\":\"array\",\"domain\":[0.0,1.0],\"title\":{\"text\":\"name\"}},\"yaxis\":{\"anchor\":\"x\",\"domain\":[0.0,1.0],\"title\":{\"text\":\"assists\"}}},                        {\"responsive\": true}                    ).then(function(){\n",
       "                            \n",
       "var gd = document.getElementById('57b43974-c465-4243-8a08-a129a5f1799a');\n",
       "var x = new MutationObserver(function (mutations, observer) {{\n",
       "        var display = window.getComputedStyle(gd).display;\n",
       "        if (!display || display === 'none') {{\n",
       "            console.log([gd, 'removed!']);\n",
       "            Plotly.purge(gd);\n",
       "            observer.disconnect();\n",
       "        }}\n",
       "}});\n",
       "\n",
       "// Listen for the removal of the full notebook cells\n",
       "var notebookContainer = gd.closest('#notebook-container');\n",
       "if (notebookContainer) {{\n",
       "    x.observe(notebookContainer, {childList: true});\n",
       "}}\n",
       "\n",
       "// Listen for the clearing of the current output cell\n",
       "var outputEl = gd.closest('.output');\n",
       "if (outputEl) {{\n",
       "    x.observe(outputEl, {childList: true});\n",
       "}}\n",
       "\n",
       "                        })                };                });            </script>        </div>"
      ]
     },
     "metadata": {},
     "output_type": "display_data"
    }
   ],
   "source": [
    "fig = px.box(top_10_assists, x=\"name\", y=\"assists\",color='name', notched=True)\n",
    "fig.show()"
   ]
  },
  {
   "cell_type": "code",
   "execution_count": 1143,
   "id": "4d59dd94",
   "metadata": {},
   "outputs": [],
   "source": [
    "top_10_defenders = value_player_list.nlargest(10,'interceptions')"
   ]
  },
  {
   "cell_type": "code",
   "execution_count": 1144,
   "id": "f3ffb82e",
   "metadata": {},
   "outputs": [
    {
     "data": {
      "text/html": [
       "<div>\n",
       "<style scoped>\n",
       "    .dataframe tbody tr th:only-of-type {\n",
       "        vertical-align: middle;\n",
       "    }\n",
       "\n",
       "    .dataframe tbody tr th {\n",
       "        vertical-align: top;\n",
       "    }\n",
       "\n",
       "    .dataframe thead th {\n",
       "        text-align: right;\n",
       "    }\n",
       "</style>\n",
       "<table border=\"1\" class=\"dataframe\">\n",
       "  <thead>\n",
       "    <tr style=\"text-align: right;\">\n",
       "      <th></th>\n",
       "      <th>name</th>\n",
       "      <th>interceptions</th>\n",
       "    </tr>\n",
       "  </thead>\n",
       "  <tbody>\n",
       "    <tr>\n",
       "      <th>945</th>\n",
       "      <td>Mats Hummels</td>\n",
       "      <td>30.0</td>\n",
       "    </tr>\n",
       "    <tr>\n",
       "      <th>2446</th>\n",
       "      <td>Thiago Alcántara</td>\n",
       "      <td>23.0</td>\n",
       "    </tr>\n",
       "    <tr>\n",
       "      <th>4614</th>\n",
       "      <td>Wílmar Barrios</td>\n",
       "      <td>23.0</td>\n",
       "    </tr>\n",
       "    <tr>\n",
       "      <th>907</th>\n",
       "      <td>Sven Bender</td>\n",
       "      <td>19.0</td>\n",
       "    </tr>\n",
       "    <tr>\n",
       "      <th>5089</th>\n",
       "      <td>Fabián Ruiz</td>\n",
       "      <td>19.0</td>\n",
       "    </tr>\n",
       "    <tr>\n",
       "      <th>3971</th>\n",
       "      <td>Nicolás Tagliafico</td>\n",
       "      <td>18.0</td>\n",
       "    </tr>\n",
       "    <tr>\n",
       "      <th>5165</th>\n",
       "      <td>Maximilian Wöber</td>\n",
       "      <td>18.0</td>\n",
       "    </tr>\n",
       "    <tr>\n",
       "      <th>3939</th>\n",
       "      <td>Marquinhos</td>\n",
       "      <td>17.0</td>\n",
       "    </tr>\n",
       "    <tr>\n",
       "      <th>1504</th>\n",
       "      <td>Miralem Pjanić</td>\n",
       "      <td>17.0</td>\n",
       "    </tr>\n",
       "    <tr>\n",
       "      <th>2825</th>\n",
       "      <td>José Luis Palomino</td>\n",
       "      <td>17.0</td>\n",
       "    </tr>\n",
       "  </tbody>\n",
       "</table>\n",
       "</div>"
      ],
      "text/plain": [
       "                    name  interceptions\n",
       "945         Mats Hummels           30.0\n",
       "2446    Thiago Alcántara           23.0\n",
       "4614      Wílmar Barrios           23.0\n",
       "907          Sven Bender           19.0\n",
       "5089         Fabián Ruiz           19.0\n",
       "3971  Nicolás Tagliafico           18.0\n",
       "5165    Maximilian Wöber           18.0\n",
       "3939          Marquinhos           17.0\n",
       "1504      Miralem Pjanić           17.0\n",
       "2825  José Luis Palomino           17.0"
      ]
     },
     "execution_count": 1144,
     "metadata": {},
     "output_type": "execute_result"
    }
   ],
   "source": [
    "top_10_defenders[['name','interceptions']]"
   ]
  },
  {
   "cell_type": "code",
   "execution_count": null,
   "id": "908372af",
   "metadata": {},
   "outputs": [],
   "source": []
  },
  {
   "cell_type": "code",
   "execution_count": 1145,
   "id": "18aa5f30",
   "metadata": {},
   "outputs": [
    {
     "data": {
      "text/plain": [
       "<AxesSubplot:xlabel='name', ylabel='interceptions'>"
      ]
     },
     "execution_count": 1145,
     "metadata": {},
     "output_type": "execute_result"
    },
    {
     "data": {
      "image/png": "[encoded data removed]",
      "text/plain": [
       "<Figure size 1440x576 with 1 Axes>"
      ]
     },
     "metadata": {
      "needs_background": "light"
     },
     "output_type": "display_data"
    }
   ],
   "source": [
    "plt.figure(figsize=(20,8))\n",
    "sns.barplot(x=\"name\", y=\"interceptions\", data=top_10_defenders)"
   ]
  },
  {
   "cell_type": "code",
   "execution_count": 1146,
   "id": "80057895",
   "metadata": {},
   "outputs": [
    {
     "data": {
      "application/vnd.plotly.v1+json": {
       "config": {
        "plotlyServerURL": "https://plot.ly"
       },
       "data": [
        {
         "alignmentgroup": "True",
         "hovertemplate": "name=%{x}<br>interceptions=%{y}<extra></extra>",
         "legendgroup": "Mats Hummels",
         "marker": {
          "color": "#636efa"
         },
         "name": "Mats Hummels",
         "notched": true,
         "offsetgroup": "Mats Hummels",
         "orientation": "v",
         "showlegend": true,
         "type": "box",
         "x": [
          "Mats Hummels"
         ],
         "x0": " ",
         "xaxis": "x",
         "y": [
          30
         ],
         "y0": " ",
         "yaxis": "y"
        },
        {
         "alignmentgroup": "True",
         "hovertemplate": "name=%{x}<br>interceptions=%{y}<extra></extra>",
         "legendgroup": "Thiago Alcántara",
         "marker": {
          "color": "#EF553B"
         },
         "name": "Thiago Alcántara",
         "notched": true,
         "offsetgroup": "Thiago Alcántara",
         "orientation": "v",
         "showlegend": true,
         "type": "box",
         "x": [
          "Thiago Alcántara"
         ],
         "x0": " ",
         "xaxis": "x",
         "y": [
          23
         ],
         "y0": " ",
         "yaxis": "y"
        },
        {
         "alignmentgroup": "True",
         "hovertemplate": "name=%{x}<br>interceptions=%{y}<extra></extra>",
         "legendgroup": "Wílmar Barrios",
         "marker": {
          "color": "#00cc96"
         },
         "name": "Wílmar Barrios",
         "notched": true,
         "offsetgroup": "Wílmar Barrios",
         "orientation": "v",
         "showlegend": true,
         "type": "box",
         "x": [
          "Wílmar Barrios"
         ],
         "x0": " ",
         "xaxis": "x",
         "y": [
          23
         ],
         "y0": " ",
         "yaxis": "y"
        },
        {
         "alignmentgroup": "True",
         "hovertemplate": "name=%{x}<br>interceptions=%{y}<extra></extra>",
         "legendgroup": "Sven Bender",
         "marker": {
          "color": "#ab63fa"
         },
         "name": "Sven Bender",
         "notched": true,
         "offsetgroup": "Sven Bender",
         "orientation": "v",
         "showlegend": true,
         "type": "box",
         "x": [
          "Sven Bender"
         ],
         "x0": " ",
         "xaxis": "x",
         "y": [
          19
         ],
         "y0": " ",
         "yaxis": "y"
        },
        {
         "alignmentgroup": "True",
         "hovertemplate": "name=%{x}<br>interceptions=%{y}<extra></extra>",
         "legendgroup": "Fabián Ruiz",
         "marker": {
          "color": "#FFA15A"
         },
         "name": "Fabián Ruiz",
         "notched": true,
         "offsetgroup": "Fabián Ruiz",
         "orientation": "v",
         "showlegend": true,
         "type": "box",
         "x": [
          "Fabián Ruiz"
         ],
         "x0": " ",
         "xaxis": "x",
         "y": [
          19
         ],
         "y0": " ",
         "yaxis": "y"
        },
        {
         "alignmentgroup": "True",
         "hovertemplate": "name=%{x}<br>interceptions=%{y}<extra></extra>",
         "legendgroup": "Nicolás Tagliafico",
         "marker": {
          "color": "#19d3f3"
         },
         "name": "Nicolás Tagliafico",
         "notched": true,
         "offsetgroup": "Nicolás Tagliafico",
         "orientation": "v",
         "showlegend": true,
         "type": "box",
         "x": [
          "Nicolás Tagliafico"
         ],
         "x0": " ",
         "xaxis": "x",
         "y": [
          18
         ],
         "y0": " ",
         "yaxis": "y"
        },
        {
         "alignmentgroup": "True",
         "hovertemplate": "name=%{x}<br>interceptions=%{y}<extra></extra>",
         "legendgroup": "Maximilian Wöber",
         "marker": {
          "color": "#FF6692"
         },
         "name": "Maximilian Wöber",
         "notched": true,
         "offsetgroup": "Maximilian Wöber",
         "orientation": "v",
         "showlegend": true,
         "type": "box",
         "x": [
          "Maximilian Wöber"
         ],
         "x0": " ",
         "xaxis": "x",
         "y": [
          18
         ],
         "y0": " ",
         "yaxis": "y"
        },
        {
         "alignmentgroup": "True",
         "hovertemplate": "name=%{x}<br>interceptions=%{y}<extra></extra>",
         "legendgroup": "Marquinhos",
         "marker": {
          "color": "#B6E880"
         },
         "name": "Marquinhos",
         "notched": true,
         "offsetgroup": "Marquinhos",
         "orientation": "v",
         "showlegend": true,
         "type": "box",
         "x": [
          "Marquinhos"
         ],
         "x0": " ",
         "xaxis": "x",
         "y": [
          17
         ],
         "y0": " ",
         "yaxis": "y"
        },
        {
         "alignmentgroup": "True",
         "hovertemplate": "name=%{x}<br>interceptions=%{y}<extra></extra>",
         "legendgroup": "Miralem Pjanić",
         "marker": {
          "color": "#FF97FF"
         },
         "name": "Miralem Pjanić",
         "notched": true,
         "offsetgroup": "Miralem Pjanić",
         "orientation": "v",
         "showlegend": true,
         "type": "box",
         "x": [
          "Miralem Pjanić"
         ],
         "x0": " ",
         "xaxis": "x",
         "y": [
          17
         ],
         "y0": " ",
         "yaxis": "y"
        },
        {
         "alignmentgroup": "True",
         "hovertemplate": "name=%{x}<br>interceptions=%{y}<extra></extra>",
         "legendgroup": "José Luis Palomino",
         "marker": {
          "color": "#FECB52"
         },
         "name": "José Luis Palomino",
         "notched": true,
         "offsetgroup": "José Luis Palomino",
         "orientation": "v",
         "showlegend": true,
         "type": "box",
         "x": [
          "José Luis Palomino"
         ],
         "x0": " ",
         "xaxis": "x",
         "y": [
          17
         ],
         "y0": " ",
         "yaxis": "y"
        }
       ],
       "layout": {
        "boxmode": "overlay",
        "legend": {
         "title": {
          "text": "name"
         },
         "tracegroupgap": 0
        },
        "margin": {
         "t": 60
        },
        "template": {
         "data": {
          "bar": [
           {
            "error_x": {
             "color": "#2a3f5f"
            },
            "error_y": {
             "color": "#2a3f5f"
            },
            "marker": {
             "line": {
              "color": "#E5ECF6",
              "width": 0.5
             },
             "pattern": {
              "fillmode": "overlay",
              "size": 10,
              "solidity": 0.2
             }
            },
            "type": "bar"
           }
          ],
          "barpolar": [
           {
            "marker": {
             "line": {
              "color": "#E5ECF6",
              "width": 0.5
             },
             "pattern": {
              "fillmode": "overlay",
              "size": 10,
              "solidity": 0.2
             }
            },
            "type": "barpolar"
           }
          ],
          "carpet": [
           {
            "aaxis": {
             "endlinecolor": "#2a3f5f",
             "gridcolor": "white",
             "linecolor": "white",
             "minorgridcolor": "white",
             "startlinecolor": "#2a3f5f"
            },
            "baxis": {
             "endlinecolor": "#2a3f5f",
             "gridcolor": "white",
             "linecolor": "white",
             "minorgridcolor": "white",
             "startlinecolor": "#2a3f5f"
            },
            "type": "carpet"
           }
          ],
          "choropleth": [
           {
            "colorbar": {
             "outlinewidth": 0,
             "ticks": ""
            },
            "type": "choropleth"
           }
          ],
          "contour": [
           {
            "colorbar": {
             "outlinewidth": 0,
             "ticks": ""
            },
            "colorscale": [
             [
              0,
              "#0d0887"
             ],
             [
              0.1111111111111111,
              "#46039f"
             ],
             [
              0.2222222222222222,
              "#7201a8"
             ],
             [
              0.3333333333333333,
              "#9c179e"
             ],
             [
              0.4444444444444444,
              "#bd3786"
             ],
             [
              0.5555555555555556,
              "#d8576b"
             ],
             [
              0.6666666666666666,
              "#ed7953"
             ],
             [
              0.7777777777777778,
              "#fb9f3a"
             ],
             [
              0.8888888888888888,
              "#fdca26"
             ],
             [
              1,
              "#f0f921"
             ]
            ],
            "type": "contour"
           }
          ],
          "contourcarpet": [
           {
            "colorbar": {
             "outlinewidth": 0,
             "ticks": ""
            },
            "type": "contourcarpet"
           }
          ],
          "heatmap": [
           {
            "colorbar": {
             "outlinewidth": 0,
             "ticks": ""
            },
            "colorscale": [
             [
              0,
              "#0d0887"
             ],
             [
              0.1111111111111111,
              "#46039f"
             ],
             [
              0.2222222222222222,
              "#7201a8"
             ],
             [
              0.3333333333333333,
              "#9c179e"
             ],
             [
              0.4444444444444444,
              "#bd3786"
             ],
             [
              0.5555555555555556,
              "#d8576b"
             ],
             [
              0.6666666666666666,
              "#ed7953"
             ],
             [
              0.7777777777777778,
              "#fb9f3a"
             ],
             [
              0.8888888888888888,
              "#fdca26"
             ],
             [
              1,
              "#f0f921"
             ]
            ],
            "type": "heatmap"
           }
          ],
          "heatmapgl": [
           {
            "colorbar": {
             "outlinewidth": 0,
             "ticks": ""
            },
            "colorscale": [
             [
              0,
              "#0d0887"
             ],
             [
              0.1111111111111111,
              "#46039f"
             ],
             [
              0.2222222222222222,
              "#7201a8"
             ],
             [
              0.3333333333333333,
              "#9c179e"
             ],
             [
              0.4444444444444444,
              "#bd3786"
             ],
             [
              0.5555555555555556,
              "#d8576b"
             ],
             [
              0.6666666666666666,
              "#ed7953"
             ],
             [
              0.7777777777777778,
              "#fb9f3a"
             ],
             [
              0.8888888888888888,
              "#fdca26"
             ],
             [
              1,
              "#f0f921"
             ]
            ],
            "type": "heatmapgl"
           }
          ],
          "histogram": [
           {
            "marker": {
             "pattern": {
              "fillmode": "overlay",
              "size": 10,
              "solidity": 0.2
             }
            },
            "type": "histogram"
           }
          ],
          "histogram2d": [
           {
            "colorbar": {
             "outlinewidth": 0,
             "ticks": ""
            },
            "colorscale": [
             [
              0,
              "#0d0887"
             ],
             [
              0.1111111111111111,
              "#46039f"
             ],
             [
              0.2222222222222222,
              "#7201a8"
             ],
             [
              0.3333333333333333,
              "#9c179e"
             ],
             [
              0.4444444444444444,
              "#bd3786"
             ],
             [
              0.5555555555555556,
              "#d8576b"
             ],
             [
              0.6666666666666666,
              "#ed7953"
             ],
             [
              0.7777777777777778,
              "#fb9f3a"
             ],
             [
              0.8888888888888888,
              "#fdca26"
             ],
             [
              1,
              "#f0f921"
             ]
            ],
            "type": "histogram2d"
           }
          ],
          "histogram2dcontour": [
           {
            "colorbar": {
             "outlinewidth": 0,
             "ticks": ""
            },
            "colorscale": [
             [
              0,
              "#0d0887"
             ],
             [
              0.1111111111111111,
              "#46039f"
             ],
             [
              0.2222222222222222,
              "#7201a8"
             ],
             [
              0.3333333333333333,
              "#9c179e"
             ],
             [
              0.4444444444444444,
              "#bd3786"
             ],
             [
              0.5555555555555556,
              "#d8576b"
             ],
             [
              0.6666666666666666,
              "#ed7953"
             ],
             [
              0.7777777777777778,
              "#fb9f3a"
             ],
             [
              0.8888888888888888,
              "#fdca26"
             ],
             [
              1,
              "#f0f921"
             ]
            ],
            "type": "histogram2dcontour"
           }
          ],
          "mesh3d": [
           {
            "colorbar": {
             "outlinewidth": 0,
             "ticks": ""
            },
            "type": "mesh3d"
           }
          ],
          "parcoords": [
           {
            "line": {
             "colorbar": {
              "outlinewidth": 0,
              "ticks": ""
             }
            },
            "type": "parcoords"
           }
          ],
          "pie": [
           {
            "automargin": true,
            "type": "pie"
           }
          ],
          "scatter": [
           {
            "marker": {
             "colorbar": {
              "outlinewidth": 0,
              "ticks": ""
             }
            },
            "type": "scatter"
           }
          ],
          "scatter3d": [
           {
            "line": {
             "colorbar": {
              "outlinewidth": 0,
              "ticks": ""
             }
            },
            "marker": {
             "colorbar": {
              "outlinewidth": 0,
              "ticks": ""
             }
            },
            "type": "scatter3d"
           }
          ],
          "scattercarpet": [
           {
            "marker": {
             "colorbar": {
              "outlinewidth": 0,
              "ticks": ""
             }
            },
            "type": "scattercarpet"
           }
          ],
          "scattergeo": [
           {
            "marker": {
             "colorbar": {
              "outlinewidth": 0,
              "ticks": ""
             }
            },
            "type": "scattergeo"
           }
          ],
          "scattergl": [
           {
            "marker": {
             "colorbar": {
              "outlinewidth": 0,
              "ticks": ""
             }
            },
            "type": "scattergl"
           }
          ],
          "scattermapbox": [
           {
            "marker": {
             "colorbar": {
              "outlinewidth": 0,
              "ticks": ""
             }
            },
            "type": "scattermapbox"
           }
          ],
          "scatterpolar": [
           {
            "marker": {
             "colorbar": {
              "outlinewidth": 0,
              "ticks": ""
             }
            },
            "type": "scatterpolar"
           }
          ],
          "scatterpolargl": [
           {
            "marker": {
             "colorbar": {
              "outlinewidth": 0,
              "ticks": ""
             }
            },
            "type": "scatterpolargl"
           }
          ],
          "scatterternary": [
           {
            "marker": {
             "colorbar": {
              "outlinewidth": 0,
              "ticks": ""
             }
            },
            "type": "scatterternary"
           }
          ],
          "surface": [
           {
            "colorbar": {
             "outlinewidth": 0,
             "ticks": ""
            },
            "colorscale": [
             [
              0,
              "#0d0887"
             ],
             [
              0.1111111111111111,
              "#46039f"
             ],
             [
              0.2222222222222222,
              "#7201a8"
             ],
             [
              0.3333333333333333,
              "#9c179e"
             ],
             [
              0.4444444444444444,
              "#bd3786"
             ],
             [
              0.5555555555555556,
              "#d8576b"
             ],
             [
              0.6666666666666666,
              "#ed7953"
             ],
             [
              0.7777777777777778,
              "#fb9f3a"
             ],
             [
              0.8888888888888888,
              "#fdca26"
             ],
             [
              1,
              "#f0f921"
             ]
            ],
            "type": "surface"
           }
          ],
          "table": [
           {
            "cells": {
             "fill": {
              "color": "#EBF0F8"
             },
             "line": {
              "color": "white"
             }
            },
            "header": {
             "fill": {
              "color": "#C8D4E3"
             },
             "line": {
              "color": "white"
             }
            },
            "type": "table"
           }
          ]
         },
         "layout": {
          "annotationdefaults": {
           "arrowcolor": "#2a3f5f",
           "arrowhead": 0,
           "arrowwidth": 1
          },
          "autotypenumbers": "strict",
          "coloraxis": {
           "colorbar": {
            "outlinewidth": 0,
            "ticks": ""
           }
          },
          "colorscale": {
           "diverging": [
            [
             0,
             "#8e0152"
            ],
            [
             0.1,
             "#c51b7d"
            ],
            [
             0.2,
             "#de77ae"
            ],
            [
             0.3,
             "#f1b6da"
            ],
            [
             0.4,
             "#fde0ef"
            ],
            [
             0.5,
             "#f7f7f7"
            ],
            [
             0.6,
             "#e6f5d0"
            ],
            [
             0.7,
             "#b8e186"
            ],
            [
             0.8,
             "#7fbc41"
            ],
            [
             0.9,
             "#4d9221"
            ],
            [
             1,
             "#276419"
            ]
           ],
           "sequential": [
            [
             0,
             "#0d0887"
            ],
            [
             0.1111111111111111,
             "#46039f"
            ],
            [
             0.2222222222222222,
             "#7201a8"
            ],
            [
             0.3333333333333333,
             "#9c179e"
            ],
            [
             0.4444444444444444,
             "#bd3786"
            ],
            [
             0.5555555555555556,
             "#d8576b"
            ],
            [
             0.6666666666666666,
             "#ed7953"
            ],
            [
             0.7777777777777778,
             "#fb9f3a"
            ],
            [
             0.8888888888888888,
             "#fdca26"
            ],
            [
             1,
             "#f0f921"
            ]
           ],
           "sequentialminus": [
            [
             0,
             "#0d0887"
            ],
            [
             0.1111111111111111,
             "#46039f"
            ],
            [
             0.2222222222222222,
             "#7201a8"
            ],
            [
             0.3333333333333333,
             "#9c179e"
            ],
            [
             0.4444444444444444,
             "#bd3786"
            ],
            [
             0.5555555555555556,
             "#d8576b"
            ],
            [
             0.6666666666666666,
             "#ed7953"
            ],
            [
             0.7777777777777778,
             "#fb9f3a"
            ],
            [
             0.8888888888888888,
             "#fdca26"
            ],
            [
             1,
             "#f0f921"
            ]
           ]
          },
          "colorway": [
           "#636efa",
           "#EF553B",
           "#00cc96",
           "#ab63fa",
           "#FFA15A",
           "#19d3f3",
           "#FF6692",
           "#B6E880",
           "#FF97FF",
           "#FECB52"
          ],
          "font": {
           "color": "#2a3f5f"
          },
          "geo": {
           "bgcolor": "white",
           "lakecolor": "white",
           "landcolor": "#E5ECF6",
           "showlakes": true,
           "showland": true,
           "subunitcolor": "white"
          },
          "hoverlabel": {
           "align": "left"
          },
          "hovermode": "closest",
          "mapbox": {
           "style": "light"
          },
          "paper_bgcolor": "white",
          "plot_bgcolor": "#E5ECF6",
          "polar": {
           "angularaxis": {
            "gridcolor": "white",
            "linecolor": "white",
            "ticks": ""
           },
           "bgcolor": "#E5ECF6",
           "radialaxis": {
            "gridcolor": "white",
            "linecolor": "white",
            "ticks": ""
           }
          },
          "scene": {
           "xaxis": {
            "backgroundcolor": "#E5ECF6",
            "gridcolor": "white",
            "gridwidth": 2,
            "linecolor": "white",
            "showbackground": true,
            "ticks": "",
            "zerolinecolor": "white"
           },
           "yaxis": {
            "backgroundcolor": "#E5ECF6",
            "gridcolor": "white",
            "gridwidth": 2,
            "linecolor": "white",
            "showbackground": true,
            "ticks": "",
            "zerolinecolor": "white"
           },
           "zaxis": {
            "backgroundcolor": "#E5ECF6",
            "gridcolor": "white",
            "gridwidth": 2,
            "linecolor": "white",
            "showbackground": true,
            "ticks": "",
            "zerolinecolor": "white"
           }
          },
          "shapedefaults": {
           "line": {
            "color": "#2a3f5f"
           }
          },
          "ternary": {
           "aaxis": {
            "gridcolor": "white",
            "linecolor": "white",
            "ticks": ""
           },
           "baxis": {
            "gridcolor": "white",
            "linecolor": "white",
            "ticks": ""
           },
           "bgcolor": "#E5ECF6",
           "caxis": {
            "gridcolor": "white",
            "linecolor": "white",
            "ticks": ""
           }
          },
          "title": {
           "x": 0.05
          },
          "xaxis": {
           "automargin": true,
           "gridcolor": "white",
           "linecolor": "white",
           "ticks": "",
           "title": {
            "standoff": 15
           },
           "zerolinecolor": "white",
           "zerolinewidth": 2
          },
          "yaxis": {
           "automargin": true,
           "gridcolor": "white",
           "linecolor": "white",
           "ticks": "",
           "title": {
            "standoff": 15
           },
           "zerolinecolor": "white",
           "zerolinewidth": 2
          }
         }
        },
        "xaxis": {
         "anchor": "y",
         "categoryarray": [
          "Mats Hummels",
          "Thiago Alcántara",
          "Wílmar Barrios",
          "Sven Bender",
          "Fabián Ruiz",
          "Nicolás Tagliafico",
          "Maximilian Wöber",
          "Marquinhos",
          "Miralem Pjanić",
          "José Luis Palomino"
         ],
         "categoryorder": "array",
         "domain": [
          0,
          1
         ],
         "title": {
          "text": "name"
         }
        },
        "yaxis": {
         "anchor": "x",
         "domain": [
          0,
          1
         ],
         "title": {
          "text": "interceptions"
         }
        }
       }
      },
      "text/html": [
       "<div>                            <div id=\"fef29523-271b-41ae-8335-0df59874dca8\" class=\"plotly-graph-div\" style=\"height:525px; width:100%;\"></div>            <script type=\"text/javascript\">                require([\"plotly\"], function(Plotly) {                    window.PLOTLYENV=window.PLOTLYENV || {};                                    if (document.getElementById(\"fef29523-271b-41ae-8335-0df59874dca8\")) {                    Plotly.newPlot(                        \"fef29523-271b-41ae-8335-0df59874dca8\",                        [{\"alignmentgroup\":\"True\",\"hovertemplate\":\"name=%{x}<br>interceptions=%{y}<extra></extra>\",\"legendgroup\":\"Mats Hummels\",\"marker\":{\"color\":\"#636efa\"},\"name\":\"Mats Hummels\",\"notched\":true,\"offsetgroup\":\"Mats Hummels\",\"orientation\":\"v\",\"showlegend\":true,\"type\":\"box\",\"x\":[\"Mats Hummels\"],\"x0\":\" \",\"xaxis\":\"x\",\"y\":[30.0],\"y0\":\" \",\"yaxis\":\"y\"},{\"alignmentgroup\":\"True\",\"hovertemplate\":\"name=%{x}<br>interceptions=%{y}<extra></extra>\",\"legendgroup\":\"Thiago Alc\\u00e1ntara\",\"marker\":{\"color\":\"#EF553B\"},\"name\":\"Thiago Alc\\u00e1ntara\",\"notched\":true,\"offsetgroup\":\"Thiago Alc\\u00e1ntara\",\"orientation\":\"v\",\"showlegend\":true,\"type\":\"box\",\"x\":[\"Thiago Alc\\u00e1ntara\"],\"x0\":\" \",\"xaxis\":\"x\",\"y\":[23.0],\"y0\":\" \",\"yaxis\":\"y\"},{\"alignmentgroup\":\"True\",\"hovertemplate\":\"name=%{x}<br>interceptions=%{y}<extra></extra>\",\"legendgroup\":\"W\\u00edlmar Barrios\",\"marker\":{\"color\":\"#00cc96\"},\"name\":\"W\\u00edlmar Barrios\",\"notched\":true,\"offsetgroup\":\"W\\u00edlmar Barrios\",\"orientation\":\"v\",\"showlegend\":true,\"type\":\"box\",\"x\":[\"W\\u00edlmar Barrios\"],\"x0\":\" \",\"xaxis\":\"x\",\"y\":[23.0],\"y0\":\" \",\"yaxis\":\"y\"},{\"alignmentgroup\":\"True\",\"hovertemplate\":\"name=%{x}<br>interceptions=%{y}<extra></extra>\",\"legendgroup\":\"Sven Bender\",\"marker\":{\"color\":\"#ab63fa\"},\"name\":\"Sven Bender\",\"notched\":true,\"offsetgroup\":\"Sven Bender\",\"orientation\":\"v\",\"showlegend\":true,\"type\":\"box\",\"x\":[\"Sven Bender\"],\"x0\":\" \",\"xaxis\":\"x\",\"y\":[19.0],\"y0\":\" \",\"yaxis\":\"y\"},{\"alignmentgroup\":\"True\",\"hovertemplate\":\"name=%{x}<br>interceptions=%{y}<extra></extra>\",\"legendgroup\":\"Fabi\\u00e1n Ruiz\",\"marker\":{\"color\":\"#FFA15A\"},\"name\":\"Fabi\\u00e1n Ruiz\",\"notched\":true,\"offsetgroup\":\"Fabi\\u00e1n Ruiz\",\"orientation\":\"v\",\"showlegend\":true,\"type\":\"box\",\"x\":[\"Fabi\\u00e1n Ruiz\"],\"x0\":\" \",\"xaxis\":\"x\",\"y\":[19.0],\"y0\":\" \",\"yaxis\":\"y\"},{\"alignmentgroup\":\"True\",\"hovertemplate\":\"name=%{x}<br>interceptions=%{y}<extra></extra>\",\"legendgroup\":\"Nicol\\u00e1s Tagliafico\",\"marker\":{\"color\":\"#19d3f3\"},\"name\":\"Nicol\\u00e1s Tagliafico\",\"notched\":true,\"offsetgroup\":\"Nicol\\u00e1s Tagliafico\",\"orientation\":\"v\",\"showlegend\":true,\"type\":\"box\",\"x\":[\"Nicol\\u00e1s Tagliafico\"],\"x0\":\" \",\"xaxis\":\"x\",\"y\":[18.0],\"y0\":\" \",\"yaxis\":\"y\"},{\"alignmentgroup\":\"True\",\"hovertemplate\":\"name=%{x}<br>interceptions=%{y}<extra></extra>\",\"legendgroup\":\"Maximilian W\\u00f6ber\",\"marker\":{\"color\":\"#FF6692\"},\"name\":\"Maximilian W\\u00f6ber\",\"notched\":true,\"offsetgroup\":\"Maximilian W\\u00f6ber\",\"orientation\":\"v\",\"showlegend\":true,\"type\":\"box\",\"x\":[\"Maximilian W\\u00f6ber\"],\"x0\":\" \",\"xaxis\":\"x\",\"y\":[18.0],\"y0\":\" \",\"yaxis\":\"y\"},{\"alignmentgroup\":\"True\",\"hovertemplate\":\"name=%{x}<br>interceptions=%{y}<extra></extra>\",\"legendgroup\":\"Marquinhos\",\"marker\":{\"color\":\"#B6E880\"},\"name\":\"Marquinhos\",\"notched\":true,\"offsetgroup\":\"Marquinhos\",\"orientation\":\"v\",\"showlegend\":true,\"type\":\"box\",\"x\":[\"Marquinhos\"],\"x0\":\" \",\"xaxis\":\"x\",\"y\":[17.0],\"y0\":\" \",\"yaxis\":\"y\"},{\"alignmentgroup\":\"True\",\"hovertemplate\":\"name=%{x}<br>interceptions=%{y}<extra></extra>\",\"legendgroup\":\"Miralem Pjani\\u0107\",\"marker\":{\"color\":\"#FF97FF\"},\"name\":\"Miralem Pjani\\u0107\",\"notched\":true,\"offsetgroup\":\"Miralem Pjani\\u0107\",\"orientation\":\"v\",\"showlegend\":true,\"type\":\"box\",\"x\":[\"Miralem Pjani\\u0107\"],\"x0\":\" \",\"xaxis\":\"x\",\"y\":[17.0],\"y0\":\" \",\"yaxis\":\"y\"},{\"alignmentgroup\":\"True\",\"hovertemplate\":\"name=%{x}<br>interceptions=%{y}<extra></extra>\",\"legendgroup\":\"Jos\\u00e9 Luis Palomino\",\"marker\":{\"color\":\"#FECB52\"},\"name\":\"Jos\\u00e9 Luis Palomino\",\"notched\":true,\"offsetgroup\":\"Jos\\u00e9 Luis Palomino\",\"orientation\":\"v\",\"showlegend\":true,\"type\":\"box\",\"x\":[\"Jos\\u00e9 Luis Palomino\"],\"x0\":\" \",\"xaxis\":\"x\",\"y\":[17.0],\"y0\":\" \",\"yaxis\":\"y\"}],                        {\"boxmode\":\"overlay\",\"legend\":{\"title\":{\"text\":\"name\"},\"tracegroupgap\":0},\"margin\":{\"t\":60},\"template\":{\"data\":{\"bar\":[{\"error_x\":{\"color\":\"#2a3f5f\"},\"error_y\":{\"color\":\"#2a3f5f\"},\"marker\":{\"line\":{\"color\":\"#E5ECF6\",\"width\":0.5},\"pattern\":{\"fillmode\":\"overlay\",\"size\":10,\"solidity\":0.2}},\"type\":\"bar\"}],\"barpolar\":[{\"marker\":{\"line\":{\"color\":\"#E5ECF6\",\"width\":0.5},\"pattern\":{\"fillmode\":\"overlay\",\"size\":10,\"solidity\":0.2}},\"type\":\"barpolar\"}],\"carpet\":[{\"aaxis\":{\"endlinecolor\":\"#2a3f5f\",\"gridcolor\":\"white\",\"linecolor\":\"white\",\"minorgridcolor\":\"white\",\"startlinecolor\":\"#2a3f5f\"},\"baxis\":{\"endlinecolor\":\"#2a3f5f\",\"gridcolor\":\"white\",\"linecolor\":\"white\",\"minorgridcolor\":\"white\",\"startlinecolor\":\"#2a3f5f\"},\"type\":\"carpet\"}],\"choropleth\":[{\"colorbar\":{\"outlinewidth\":0,\"ticks\":\"\"},\"type\":\"choropleth\"}],\"contour\":[{\"colorbar\":{\"outlinewidth\":0,\"ticks\":\"\"},\"colorscale\":[[0.0,\"#0d0887\"],[0.1111111111111111,\"#46039f\"],[0.2222222222222222,\"#7201a8\"],[0.3333333333333333,\"#9c179e\"],[0.4444444444444444,\"#bd3786\"],[0.5555555555555556,\"#d8576b\"],[0.6666666666666666,\"#ed7953\"],[0.7777777777777778,\"#fb9f3a\"],[0.8888888888888888,\"#fdca26\"],[1.0,\"#f0f921\"]],\"type\":\"contour\"}],\"contourcarpet\":[{\"colorbar\":{\"outlinewidth\":0,\"ticks\":\"\"},\"type\":\"contourcarpet\"}],\"heatmap\":[{\"colorbar\":{\"outlinewidth\":0,\"ticks\":\"\"},\"colorscale\":[[0.0,\"#0d0887\"],[0.1111111111111111,\"#46039f\"],[0.2222222222222222,\"#7201a8\"],[0.3333333333333333,\"#9c179e\"],[0.4444444444444444,\"#bd3786\"],[0.5555555555555556,\"#d8576b\"],[0.6666666666666666,\"#ed7953\"],[0.7777777777777778,\"#fb9f3a\"],[0.8888888888888888,\"#fdca26\"],[1.0,\"#f0f921\"]],\"type\":\"heatmap\"}],\"heatmapgl\":[{\"colorbar\":{\"outlinewidth\":0,\"ticks\":\"\"},\"colorscale\":[[0.0,\"#0d0887\"],[0.1111111111111111,\"#46039f\"],[0.2222222222222222,\"#7201a8\"],[0.3333333333333333,\"#9c179e\"],[0.4444444444444444,\"#bd3786\"],[0.5555555555555556,\"#d8576b\"],[0.6666666666666666,\"#ed7953\"],[0.7777777777777778,\"#fb9f3a\"],[0.8888888888888888,\"#fdca26\"],[1.0,\"#f0f921\"]],\"type\":\"heatmapgl\"}],\"histogram\":[{\"marker\":{\"pattern\":{\"fillmode\":\"overlay\",\"size\":10,\"solidity\":0.2}},\"type\":\"histogram\"}],\"histogram2d\":[{\"colorbar\":{\"outlinewidth\":0,\"ticks\":\"\"},\"colorscale\":[[0.0,\"#0d0887\"],[0.1111111111111111,\"#46039f\"],[0.2222222222222222,\"#7201a8\"],[0.3333333333333333,\"#9c179e\"],[0.4444444444444444,\"#bd3786\"],[0.5555555555555556,\"#d8576b\"],[0.6666666666666666,\"#ed7953\"],[0.7777777777777778,\"#fb9f3a\"],[0.8888888888888888,\"#fdca26\"],[1.0,\"#f0f921\"]],\"type\":\"histogram2d\"}],\"histogram2dcontour\":[{\"colorbar\":{\"outlinewidth\":0,\"ticks\":\"\"},\"colorscale\":[[0.0,\"#0d0887\"],[0.1111111111111111,\"#46039f\"],[0.2222222222222222,\"#7201a8\"],[0.3333333333333333,\"#9c179e\"],[0.4444444444444444,\"#bd3786\"],[0.5555555555555556,\"#d8576b\"],[0.6666666666666666,\"#ed7953\"],[0.7777777777777778,\"#fb9f3a\"],[0.8888888888888888,\"#fdca26\"],[1.0,\"#f0f921\"]],\"type\":\"histogram2dcontour\"}],\"mesh3d\":[{\"colorbar\":{\"outlinewidth\":0,\"ticks\":\"\"},\"type\":\"mesh3d\"}],\"parcoords\":[{\"line\":{\"colorbar\":{\"outlinewidth\":0,\"ticks\":\"\"}},\"type\":\"parcoords\"}],\"pie\":[{\"automargin\":true,\"type\":\"pie\"}],\"scatter\":[{\"marker\":{\"colorbar\":{\"outlinewidth\":0,\"ticks\":\"\"}},\"type\":\"scatter\"}],\"scatter3d\":[{\"line\":{\"colorbar\":{\"outlinewidth\":0,\"ticks\":\"\"}},\"marker\":{\"colorbar\":{\"outlinewidth\":0,\"ticks\":\"\"}},\"type\":\"scatter3d\"}],\"scattercarpet\":[{\"marker\":{\"colorbar\":{\"outlinewidth\":0,\"ticks\":\"\"}},\"type\":\"scattercarpet\"}],\"scattergeo\":[{\"marker\":{\"colorbar\":{\"outlinewidth\":0,\"ticks\":\"\"}},\"type\":\"scattergeo\"}],\"scattergl\":[{\"marker\":{\"colorbar\":{\"outlinewidth\":0,\"ticks\":\"\"}},\"type\":\"scattergl\"}],\"scattermapbox\":[{\"marker\":{\"colorbar\":{\"outlinewidth\":0,\"ticks\":\"\"}},\"type\":\"scattermapbox\"}],\"scatterpolar\":[{\"marker\":{\"colorbar\":{\"outlinewidth\":0,\"ticks\":\"\"}},\"type\":\"scatterpolar\"}],\"scatterpolargl\":[{\"marker\":{\"colorbar\":{\"outlinewidth\":0,\"ticks\":\"\"}},\"type\":\"scatterpolargl\"}],\"scatterternary\":[{\"marker\":{\"colorbar\":{\"outlinewidth\":0,\"ticks\":\"\"}},\"type\":\"scatterternary\"}],\"surface\":[{\"colorbar\":{\"outlinewidth\":0,\"ticks\":\"\"},\"colorscale\":[[0.0,\"#0d0887\"],[0.1111111111111111,\"#46039f\"],[0.2222222222222222,\"#7201a8\"],[0.3333333333333333,\"#9c179e\"],[0.4444444444444444,\"#bd3786\"],[0.5555555555555556,\"#d8576b\"],[0.6666666666666666,\"#ed7953\"],[0.7777777777777778,\"#fb9f3a\"],[0.8888888888888888,\"#fdca26\"],[1.0,\"#f0f921\"]],\"type\":\"surface\"}],\"table\":[{\"cells\":{\"fill\":{\"color\":\"#EBF0F8\"},\"line\":{\"color\":\"white\"}},\"header\":{\"fill\":{\"color\":\"#C8D4E3\"},\"line\":{\"color\":\"white\"}},\"type\":\"table\"}]},\"layout\":{\"annotationdefaults\":{\"arrowcolor\":\"#2a3f5f\",\"arrowhead\":0,\"arrowwidth\":1},\"autotypenumbers\":\"strict\",\"coloraxis\":{\"colorbar\":{\"outlinewidth\":0,\"ticks\":\"\"}},\"colorscale\":{\"diverging\":[[0,\"#8e0152\"],[0.1,\"#c51b7d\"],[0.2,\"#de77ae\"],[0.3,\"#f1b6da\"],[0.4,\"#fde0ef\"],[0.5,\"#f7f7f7\"],[0.6,\"#e6f5d0\"],[0.7,\"#b8e186\"],[0.8,\"#7fbc41\"],[0.9,\"#4d9221\"],[1,\"#276419\"]],\"sequential\":[[0.0,\"#0d0887\"],[0.1111111111111111,\"#46039f\"],[0.2222222222222222,\"#7201a8\"],[0.3333333333333333,\"#9c179e\"],[0.4444444444444444,\"#bd3786\"],[0.5555555555555556,\"#d8576b\"],[0.6666666666666666,\"#ed7953\"],[0.7777777777777778,\"#fb9f3a\"],[0.8888888888888888,\"#fdca26\"],[1.0,\"#f0f921\"]],\"sequentialminus\":[[0.0,\"#0d0887\"],[0.1111111111111111,\"#46039f\"],[0.2222222222222222,\"#7201a8\"],[0.3333333333333333,\"#9c179e\"],[0.4444444444444444,\"#bd3786\"],[0.5555555555555556,\"#d8576b\"],[0.6666666666666666,\"#ed7953\"],[0.7777777777777778,\"#fb9f3a\"],[0.8888888888888888,\"#fdca26\"],[1.0,\"#f0f921\"]]},\"colorway\":[\"#636efa\",\"#EF553B\",\"#00cc96\",\"#ab63fa\",\"#FFA15A\",\"#19d3f3\",\"#FF6692\",\"#B6E880\",\"#FF97FF\",\"#FECB52\"],\"font\":{\"color\":\"#2a3f5f\"},\"geo\":{\"bgcolor\":\"white\",\"lakecolor\":\"white\",\"landcolor\":\"#E5ECF6\",\"showlakes\":true,\"showland\":true,\"subunitcolor\":\"white\"},\"hoverlabel\":{\"align\":\"left\"},\"hovermode\":\"closest\",\"mapbox\":{\"style\":\"light\"},\"paper_bgcolor\":\"white\",\"plot_bgcolor\":\"#E5ECF6\",\"polar\":{\"angularaxis\":{\"gridcolor\":\"white\",\"linecolor\":\"white\",\"ticks\":\"\"},\"bgcolor\":\"#E5ECF6\",\"radialaxis\":{\"gridcolor\":\"white\",\"linecolor\":\"white\",\"ticks\":\"\"}},\"scene\":{\"xaxis\":{\"backgroundcolor\":\"#E5ECF6\",\"gridcolor\":\"white\",\"gridwidth\":2,\"linecolor\":\"white\",\"showbackground\":true,\"ticks\":\"\",\"zerolinecolor\":\"white\"},\"yaxis\":{\"backgroundcolor\":\"#E5ECF6\",\"gridcolor\":\"white\",\"gridwidth\":2,\"linecolor\":\"white\",\"showbackground\":true,\"ticks\":\"\",\"zerolinecolor\":\"white\"},\"zaxis\":{\"backgroundcolor\":\"#E5ECF6\",\"gridcolor\":\"white\",\"gridwidth\":2,\"linecolor\":\"white\",\"showbackground\":true,\"ticks\":\"\",\"zerolinecolor\":\"white\"}},\"shapedefaults\":{\"line\":{\"color\":\"#2a3f5f\"}},\"ternary\":{\"aaxis\":{\"gridcolor\":\"white\",\"linecolor\":\"white\",\"ticks\":\"\"},\"baxis\":{\"gridcolor\":\"white\",\"linecolor\":\"white\",\"ticks\":\"\"},\"bgcolor\":\"#E5ECF6\",\"caxis\":{\"gridcolor\":\"white\",\"linecolor\":\"white\",\"ticks\":\"\"}},\"title\":{\"x\":0.05},\"xaxis\":{\"automargin\":true,\"gridcolor\":\"white\",\"linecolor\":\"white\",\"ticks\":\"\",\"title\":{\"standoff\":15},\"zerolinecolor\":\"white\",\"zerolinewidth\":2},\"yaxis\":{\"automargin\":true,\"gridcolor\":\"white\",\"linecolor\":\"white\",\"ticks\":\"\",\"title\":{\"standoff\":15},\"zerolinecolor\":\"white\",\"zerolinewidth\":2}}},\"xaxis\":{\"anchor\":\"y\",\"categoryarray\":[\"Mats Hummels\",\"Thiago Alc\\u00e1ntara\",\"W\\u00edlmar Barrios\",\"Sven Bender\",\"Fabi\\u00e1n Ruiz\",\"Nicol\\u00e1s Tagliafico\",\"Maximilian W\\u00f6ber\",\"Marquinhos\",\"Miralem Pjani\\u0107\",\"Jos\\u00e9 Luis Palomino\"],\"categoryorder\":\"array\",\"domain\":[0.0,1.0],\"title\":{\"text\":\"name\"}},\"yaxis\":{\"anchor\":\"x\",\"domain\":[0.0,1.0],\"title\":{\"text\":\"interceptions\"}}},                        {\"responsive\": true}                    ).then(function(){\n",
       "                            \n",
       "var gd = document.getElementById('fef29523-271b-41ae-8335-0df59874dca8');\n",
       "var x = new MutationObserver(function (mutations, observer) {{\n",
       "        var display = window.getComputedStyle(gd).display;\n",
       "        if (!display || display === 'none') {{\n",
       "            console.log([gd, 'removed!']);\n",
       "            Plotly.purge(gd);\n",
       "            observer.disconnect();\n",
       "        }}\n",
       "}});\n",
       "\n",
       "// Listen for the removal of the full notebook cells\n",
       "var notebookContainer = gd.closest('#notebook-container');\n",
       "if (notebookContainer) {{\n",
       "    x.observe(notebookContainer, {childList: true});\n",
       "}}\n",
       "\n",
       "// Listen for the clearing of the current output cell\n",
       "var outputEl = gd.closest('.output');\n",
       "if (outputEl) {{\n",
       "    x.observe(outputEl, {childList: true});\n",
       "}}\n",
       "\n",
       "                        })                };                });            </script>        </div>"
      ]
     },
     "metadata": {},
     "output_type": "display_data"
    }
   ],
   "source": [
    "fig = px.box(top_10_defenders, x=\"name\", y=\"interceptions\",color='name', notched=True)\n",
    "fig.show()"
   ]
  },
  {
   "cell_type": "code",
   "execution_count": 1147,
   "id": "a28478a7",
   "metadata": {},
   "outputs": [],
   "source": [
    "top_10_keepers = value_player_list.nlargest(10,'saves')"
   ]
  },
  {
   "cell_type": "code",
   "execution_count": 1148,
   "id": "ae3d3c86",
   "metadata": {},
   "outputs": [
    {
     "data": {
      "text/html": [
       "<div>\n",
       "<style scoped>\n",
       "    .dataframe tbody tr th:only-of-type {\n",
       "        vertical-align: middle;\n",
       "    }\n",
       "\n",
       "    .dataframe tbody tr th {\n",
       "        vertical-align: top;\n",
       "    }\n",
       "\n",
       "    .dataframe thead th {\n",
       "        text-align: right;\n",
       "    }\n",
       "</style>\n",
       "<table border=\"1\" class=\"dataframe\">\n",
       "  <thead>\n",
       "    <tr style=\"text-align: right;\">\n",
       "      <th></th>\n",
       "      <th>name</th>\n",
       "      <th>saves</th>\n",
       "    </tr>\n",
       "  </thead>\n",
       "  <tbody>\n",
       "    <tr>\n",
       "      <th>1548</th>\n",
       "      <td>Fernando Muslera</td>\n",
       "      <td>33.0</td>\n",
       "    </tr>\n",
       "    <tr>\n",
       "      <th>1815</th>\n",
       "      <td>Péter Gulácsi</td>\n",
       "      <td>33.0</td>\n",
       "    </tr>\n",
       "    <tr>\n",
       "      <th>2823</th>\n",
       "      <td>Milan Borjan</td>\n",
       "      <td>33.0</td>\n",
       "    </tr>\n",
       "    <tr>\n",
       "      <th>1590</th>\n",
       "      <td>Guilherme Marinato</td>\n",
       "      <td>29.0</td>\n",
       "    </tr>\n",
       "    <tr>\n",
       "      <th>499</th>\n",
       "      <td>Manuel Neuer</td>\n",
       "      <td>28.0</td>\n",
       "    </tr>\n",
       "    <tr>\n",
       "      <th>2924</th>\n",
       "      <td>Marc-André ter Stegen</td>\n",
       "      <td>27.0</td>\n",
       "    </tr>\n",
       "    <tr>\n",
       "      <th>5099</th>\n",
       "      <td>André Onana</td>\n",
       "      <td>26.0</td>\n",
       "    </tr>\n",
       "    <tr>\n",
       "      <th>5707</th>\n",
       "      <td>Ondrej Kolar</td>\n",
       "      <td>26.0</td>\n",
       "    </tr>\n",
       "    <tr>\n",
       "      <th>1839</th>\n",
       "      <td>Roman Bürki</td>\n",
       "      <td>26.0</td>\n",
       "    </tr>\n",
       "    <tr>\n",
       "      <th>2684</th>\n",
       "      <td>Jan Oblak</td>\n",
       "      <td>23.0</td>\n",
       "    </tr>\n",
       "  </tbody>\n",
       "</table>\n",
       "</div>"
      ],
      "text/plain": [
       "                       name  saves\n",
       "1548       Fernando Muslera   33.0\n",
       "1815          Péter Gulácsi   33.0\n",
       "2823           Milan Borjan   33.0\n",
       "1590     Guilherme Marinato   29.0\n",
       "499            Manuel Neuer   28.0\n",
       "2924  Marc-André ter Stegen   27.0\n",
       "5099            André Onana   26.0\n",
       "5707           Ondrej Kolar   26.0\n",
       "1839            Roman Bürki   26.0\n",
       "2684              Jan Oblak   23.0"
      ]
     },
     "execution_count": 1148,
     "metadata": {},
     "output_type": "execute_result"
    }
   ],
   "source": [
    "top_10_keepers[['name','saves']]"
   ]
  },
  {
   "cell_type": "code",
   "execution_count": 1149,
   "id": "ca50705f",
   "metadata": {},
   "outputs": [
    {
     "data": {
      "application/vnd.plotly.v1+json": {
       "config": {
        "plotlyServerURL": "https://plot.ly"
       },
       "data": [
        {
         "alignmentgroup": "True",
         "hovertemplate": "name=%{x}<br>saves=%{y}<extra></extra>",
         "legendgroup": "Fernando Muslera",
         "marker": {
          "color": "#636efa"
         },
         "name": "Fernando Muslera",
         "notched": true,
         "offsetgroup": "Fernando Muslera",
         "orientation": "v",
         "showlegend": true,
         "type": "box",
         "x": [
          "Fernando Muslera"
         ],
         "x0": " ",
         "xaxis": "x",
         "y": [
          33
         ],
         "y0": " ",
         "yaxis": "y"
        },
        {
         "alignmentgroup": "True",
         "hovertemplate": "name=%{x}<br>saves=%{y}<extra></extra>",
         "legendgroup": "Péter Gulácsi",
         "marker": {
          "color": "#EF553B"
         },
         "name": "Péter Gulácsi",
         "notched": true,
         "offsetgroup": "Péter Gulácsi",
         "orientation": "v",
         "showlegend": true,
         "type": "box",
         "x": [
          "Péter Gulácsi"
         ],
         "x0": " ",
         "xaxis": "x",
         "y": [
          33
         ],
         "y0": " ",
         "yaxis": "y"
        },
        {
         "alignmentgroup": "True",
         "hovertemplate": "name=%{x}<br>saves=%{y}<extra></extra>",
         "legendgroup": "Milan Borjan",
         "marker": {
          "color": "#00cc96"
         },
         "name": "Milan Borjan",
         "notched": true,
         "offsetgroup": "Milan Borjan",
         "orientation": "v",
         "showlegend": true,
         "type": "box",
         "x": [
          "Milan Borjan"
         ],
         "x0": " ",
         "xaxis": "x",
         "y": [
          33
         ],
         "y0": " ",
         "yaxis": "y"
        },
        {
         "alignmentgroup": "True",
         "hovertemplate": "name=%{x}<br>saves=%{y}<extra></extra>",
         "legendgroup": "Guilherme Marinato",
         "marker": {
          "color": "#ab63fa"
         },
         "name": "Guilherme Marinato",
         "notched": true,
         "offsetgroup": "Guilherme Marinato",
         "orientation": "v",
         "showlegend": true,
         "type": "box",
         "x": [
          "Guilherme Marinato"
         ],
         "x0": " ",
         "xaxis": "x",
         "y": [
          29
         ],
         "y0": " ",
         "yaxis": "y"
        },
        {
         "alignmentgroup": "True",
         "hovertemplate": "name=%{x}<br>saves=%{y}<extra></extra>",
         "legendgroup": "Manuel Neuer",
         "marker": {
          "color": "#FFA15A"
         },
         "name": "Manuel Neuer",
         "notched": true,
         "offsetgroup": "Manuel Neuer",
         "orientation": "v",
         "showlegend": true,
         "type": "box",
         "x": [
          "Manuel Neuer"
         ],
         "x0": " ",
         "xaxis": "x",
         "y": [
          28
         ],
         "y0": " ",
         "yaxis": "y"
        },
        {
         "alignmentgroup": "True",
         "hovertemplate": "name=%{x}<br>saves=%{y}<extra></extra>",
         "legendgroup": "Marc-André ter Stegen",
         "marker": {
          "color": "#19d3f3"
         },
         "name": "Marc-André ter Stegen",
         "notched": true,
         "offsetgroup": "Marc-André ter Stegen",
         "orientation": "v",
         "showlegend": true,
         "type": "box",
         "x": [
          "Marc-André ter Stegen"
         ],
         "x0": " ",
         "xaxis": "x",
         "y": [
          27
         ],
         "y0": " ",
         "yaxis": "y"
        },
        {
         "alignmentgroup": "True",
         "hovertemplate": "name=%{x}<br>saves=%{y}<extra></extra>",
         "legendgroup": "André Onana",
         "marker": {
          "color": "#FF6692"
         },
         "name": "André Onana",
         "notched": true,
         "offsetgroup": "André Onana",
         "orientation": "v",
         "showlegend": true,
         "type": "box",
         "x": [
          "André Onana"
         ],
         "x0": " ",
         "xaxis": "x",
         "y": [
          26
         ],
         "y0": " ",
         "yaxis": "y"
        },
        {
         "alignmentgroup": "True",
         "hovertemplate": "name=%{x}<br>saves=%{y}<extra></extra>",
         "legendgroup": "Ondrej Kolar",
         "marker": {
          "color": "#B6E880"
         },
         "name": "Ondrej Kolar",
         "notched": true,
         "offsetgroup": "Ondrej Kolar",
         "orientation": "v",
         "showlegend": true,
         "type": "box",
         "x": [
          "Ondrej Kolar"
         ],
         "x0": " ",
         "xaxis": "x",
         "y": [
          26
         ],
         "y0": " ",
         "yaxis": "y"
        },
        {
         "alignmentgroup": "True",
         "hovertemplate": "name=%{x}<br>saves=%{y}<extra></extra>",
         "legendgroup": "Roman Bürki",
         "marker": {
          "color": "#FF97FF"
         },
         "name": "Roman Bürki",
         "notched": true,
         "offsetgroup": "Roman Bürki",
         "orientation": "v",
         "showlegend": true,
         "type": "box",
         "x": [
          "Roman Bürki"
         ],
         "x0": " ",
         "xaxis": "x",
         "y": [
          26
         ],
         "y0": " ",
         "yaxis": "y"
        },
        {
         "alignmentgroup": "True",
         "hovertemplate": "name=%{x}<br>saves=%{y}<extra></extra>",
         "legendgroup": "Jan Oblak",
         "marker": {
          "color": "#FECB52"
         },
         "name": "Jan Oblak",
         "notched": true,
         "offsetgroup": "Jan Oblak",
         "orientation": "v",
         "showlegend": true,
         "type": "box",
         "x": [
          "Jan Oblak"
         ],
         "x0": " ",
         "xaxis": "x",
         "y": [
          23
         ],
         "y0": " ",
         "yaxis": "y"
        }
       ],
       "layout": {
        "boxmode": "overlay",
        "legend": {
         "title": {
          "text": "name"
         },
         "tracegroupgap": 0
        },
        "margin": {
         "t": 60
        },
        "template": {
         "data": {
          "bar": [
           {
            "error_x": {
             "color": "#2a3f5f"
            },
            "error_y": {
             "color": "#2a3f5f"
            },
            "marker": {
             "line": {
              "color": "#E5ECF6",
              "width": 0.5
             },
             "pattern": {
              "fillmode": "overlay",
              "size": 10,
              "solidity": 0.2
             }
            },
            "type": "bar"
           }
          ],
          "barpolar": [
           {
            "marker": {
             "line": {
              "color": "#E5ECF6",
              "width": 0.5
             },
             "pattern": {
              "fillmode": "overlay",
              "size": 10,
              "solidity": 0.2
             }
            },
            "type": "barpolar"
           }
          ],
          "carpet": [
           {
            "aaxis": {
             "endlinecolor": "#2a3f5f",
             "gridcolor": "white",
             "linecolor": "white",
             "minorgridcolor": "white",
             "startlinecolor": "#2a3f5f"
            },
            "baxis": {
             "endlinecolor": "#2a3f5f",
             "gridcolor": "white",
             "linecolor": "white",
             "minorgridcolor": "white",
             "startlinecolor": "#2a3f5f"
            },
            "type": "carpet"
           }
          ],
          "choropleth": [
           {
            "colorbar": {
             "outlinewidth": 0,
             "ticks": ""
            },
            "type": "choropleth"
           }
          ],
          "contour": [
           {
            "colorbar": {
             "outlinewidth": 0,
             "ticks": ""
            },
            "colorscale": [
             [
              0,
              "#0d0887"
             ],
             [
              0.1111111111111111,
              "#46039f"
             ],
             [
              0.2222222222222222,
              "#7201a8"
             ],
             [
              0.3333333333333333,
              "#9c179e"
             ],
             [
              0.4444444444444444,
              "#bd3786"
             ],
             [
              0.5555555555555556,
              "#d8576b"
             ],
             [
              0.6666666666666666,
              "#ed7953"
             ],
             [
              0.7777777777777778,
              "#fb9f3a"
             ],
             [
              0.8888888888888888,
              "#fdca26"
             ],
             [
              1,
              "#f0f921"
             ]
            ],
            "type": "contour"
           }
          ],
          "contourcarpet": [
           {
            "colorbar": {
             "outlinewidth": 0,
             "ticks": ""
            },
            "type": "contourcarpet"
           }
          ],
          "heatmap": [
           {
            "colorbar": {
             "outlinewidth": 0,
             "ticks": ""
            },
            "colorscale": [
             [
              0,
              "#0d0887"
             ],
             [
              0.1111111111111111,
              "#46039f"
             ],
             [
              0.2222222222222222,
              "#7201a8"
             ],
             [
              0.3333333333333333,
              "#9c179e"
             ],
             [
              0.4444444444444444,
              "#bd3786"
             ],
             [
              0.5555555555555556,
              "#d8576b"
             ],
             [
              0.6666666666666666,
              "#ed7953"
             ],
             [
              0.7777777777777778,
              "#fb9f3a"
             ],
             [
              0.8888888888888888,
              "#fdca26"
             ],
             [
              1,
              "#f0f921"
             ]
            ],
            "type": "heatmap"
           }
          ],
          "heatmapgl": [
           {
            "colorbar": {
             "outlinewidth": 0,
             "ticks": ""
            },
            "colorscale": [
             [
              0,
              "#0d0887"
             ],
             [
              0.1111111111111111,
              "#46039f"
             ],
             [
              0.2222222222222222,
              "#7201a8"
             ],
             [
              0.3333333333333333,
              "#9c179e"
             ],
             [
              0.4444444444444444,
              "#bd3786"
             ],
             [
              0.5555555555555556,
              "#d8576b"
             ],
             [
              0.6666666666666666,
              "#ed7953"
             ],
             [
              0.7777777777777778,
              "#fb9f3a"
             ],
             [
              0.8888888888888888,
              "#fdca26"
             ],
             [
              1,
              "#f0f921"
             ]
            ],
            "type": "heatmapgl"
           }
          ],
          "histogram": [
           {
            "marker": {
             "pattern": {
              "fillmode": "overlay",
              "size": 10,
              "solidity": 0.2
             }
            },
            "type": "histogram"
           }
          ],
          "histogram2d": [
           {
            "colorbar": {
             "outlinewidth": 0,
             "ticks": ""
            },
            "colorscale": [
             [
              0,
              "#0d0887"
             ],
             [
              0.1111111111111111,
              "#46039f"
             ],
             [
              0.2222222222222222,
              "#7201a8"
             ],
             [
              0.3333333333333333,
              "#9c179e"
             ],
             [
              0.4444444444444444,
              "#bd3786"
             ],
             [
              0.5555555555555556,
              "#d8576b"
             ],
             [
              0.6666666666666666,
              "#ed7953"
             ],
             [
              0.7777777777777778,
              "#fb9f3a"
             ],
             [
              0.8888888888888888,
              "#fdca26"
             ],
             [
              1,
              "#f0f921"
             ]
            ],
            "type": "histogram2d"
           }
          ],
          "histogram2dcontour": [
           {
            "colorbar": {
             "outlinewidth": 0,
             "ticks": ""
            },
            "colorscale": [
             [
              0,
              "#0d0887"
             ],
             [
              0.1111111111111111,
              "#46039f"
             ],
             [
              0.2222222222222222,
              "#7201a8"
             ],
             [
              0.3333333333333333,
              "#9c179e"
             ],
             [
              0.4444444444444444,
              "#bd3786"
             ],
             [
              0.5555555555555556,
              "#d8576b"
             ],
             [
              0.6666666666666666,
              "#ed7953"
             ],
             [
              0.7777777777777778,
              "#fb9f3a"
             ],
             [
              0.8888888888888888,
              "#fdca26"
             ],
             [
              1,
              "#f0f921"
             ]
            ],
            "type": "histogram2dcontour"
           }
          ],
          "mesh3d": [
           {
            "colorbar": {
             "outlinewidth": 0,
             "ticks": ""
            },
            "type": "mesh3d"
           }
          ],
          "parcoords": [
           {
            "line": {
             "colorbar": {
              "outlinewidth": 0,
              "ticks": ""
             }
            },
            "type": "parcoords"
           }
          ],
          "pie": [
           {
            "automargin": true,
            "type": "pie"
           }
          ],
          "scatter": [
           {
            "marker": {
             "colorbar": {
              "outlinewidth": 0,
              "ticks": ""
             }
            },
            "type": "scatter"
           }
          ],
          "scatter3d": [
           {
            "line": {
             "colorbar": {
              "outlinewidth": 0,
              "ticks": ""
             }
            },
            "marker": {
             "colorbar": {
              "outlinewidth": 0,
              "ticks": ""
             }
            },
            "type": "scatter3d"
           }
          ],
          "scattercarpet": [
           {
            "marker": {
             "colorbar": {
              "outlinewidth": 0,
              "ticks": ""
             }
            },
            "type": "scattercarpet"
           }
          ],
          "scattergeo": [
           {
            "marker": {
             "colorbar": {
              "outlinewidth": 0,
              "ticks": ""
             }
            },
            "type": "scattergeo"
           }
          ],
          "scattergl": [
           {
            "marker": {
             "colorbar": {
              "outlinewidth": 0,
              "ticks": ""
             }
            },
            "type": "scattergl"
           }
          ],
          "scattermapbox": [
           {
            "marker": {
             "colorbar": {
              "outlinewidth": 0,
              "ticks": ""
             }
            },
            "type": "scattermapbox"
           }
          ],
          "scatterpolar": [
           {
            "marker": {
             "colorbar": {
              "outlinewidth": 0,
              "ticks": ""
             }
            },
            "type": "scatterpolar"
           }
          ],
          "scatterpolargl": [
           {
            "marker": {
             "colorbar": {
              "outlinewidth": 0,
              "ticks": ""
             }
            },
            "type": "scatterpolargl"
           }
          ],
          "scatterternary": [
           {
            "marker": {
             "colorbar": {
              "outlinewidth": 0,
              "ticks": ""
             }
            },
            "type": "scatterternary"
           }
          ],
          "surface": [
           {
            "colorbar": {
             "outlinewidth": 0,
             "ticks": ""
            },
            "colorscale": [
             [
              0,
              "#0d0887"
             ],
             [
              0.1111111111111111,
              "#46039f"
             ],
             [
              0.2222222222222222,
              "#7201a8"
             ],
             [
              0.3333333333333333,
              "#9c179e"
             ],
             [
              0.4444444444444444,
              "#bd3786"
             ],
             [
              0.5555555555555556,
              "#d8576b"
             ],
             [
              0.6666666666666666,
              "#ed7953"
             ],
             [
              0.7777777777777778,
              "#fb9f3a"
             ],
             [
              0.8888888888888888,
              "#fdca26"
             ],
             [
              1,
              "#f0f921"
             ]
            ],
            "type": "surface"
           }
          ],
          "table": [
           {
            "cells": {
             "fill": {
              "color": "#EBF0F8"
             },
             "line": {
              "color": "white"
             }
            },
            "header": {
             "fill": {
              "color": "#C8D4E3"
             },
             "line": {
              "color": "white"
             }
            },
            "type": "table"
           }
          ]
         },
         "layout": {
          "annotationdefaults": {
           "arrowcolor": "#2a3f5f",
           "arrowhead": 0,
           "arrowwidth": 1
          },
          "autotypenumbers": "strict",
          "coloraxis": {
           "colorbar": {
            "outlinewidth": 0,
            "ticks": ""
           }
          },
          "colorscale": {
           "diverging": [
            [
             0,
             "#8e0152"
            ],
            [
             0.1,
             "#c51b7d"
            ],
            [
             0.2,
             "#de77ae"
            ],
            [
             0.3,
             "#f1b6da"
            ],
            [
             0.4,
             "#fde0ef"
            ],
            [
             0.5,
             "#f7f7f7"
            ],
            [
             0.6,
             "#e6f5d0"
            ],
            [
             0.7,
             "#b8e186"
            ],
            [
             0.8,
             "#7fbc41"
            ],
            [
             0.9,
             "#4d9221"
            ],
            [
             1,
             "#276419"
            ]
           ],
           "sequential": [
            [
             0,
             "#0d0887"
            ],
            [
             0.1111111111111111,
             "#46039f"
            ],
            [
             0.2222222222222222,
             "#7201a8"
            ],
            [
             0.3333333333333333,
             "#9c179e"
            ],
            [
             0.4444444444444444,
             "#bd3786"
            ],
            [
             0.5555555555555556,
             "#d8576b"
            ],
            [
             0.6666666666666666,
             "#ed7953"
            ],
            [
             0.7777777777777778,
             "#fb9f3a"
            ],
            [
             0.8888888888888888,
             "#fdca26"
            ],
            [
             1,
             "#f0f921"
            ]
           ],
           "sequentialminus": [
            [
             0,
             "#0d0887"
            ],
            [
             0.1111111111111111,
             "#46039f"
            ],
            [
             0.2222222222222222,
             "#7201a8"
            ],
            [
             0.3333333333333333,
             "#9c179e"
            ],
            [
             0.4444444444444444,
             "#bd3786"
            ],
            [
             0.5555555555555556,
             "#d8576b"
            ],
            [
             0.6666666666666666,
             "#ed7953"
            ],
            [
             0.7777777777777778,
             "#fb9f3a"
            ],
            [
             0.8888888888888888,
             "#fdca26"
            ],
            [
             1,
             "#f0f921"
            ]
           ]
          },
          "colorway": [
           "#636efa",
           "#EF553B",
           "#00cc96",
           "#ab63fa",
           "#FFA15A",
           "#19d3f3",
           "#FF6692",
           "#B6E880",
           "#FF97FF",
           "#FECB52"
          ],
          "font": {
           "color": "#2a3f5f"
          },
          "geo": {
           "bgcolor": "white",
           "lakecolor": "white",
           "landcolor": "#E5ECF6",
           "showlakes": true,
           "showland": true,
           "subunitcolor": "white"
          },
          "hoverlabel": {
           "align": "left"
          },
          "hovermode": "closest",
          "mapbox": {
           "style": "light"
          },
          "paper_bgcolor": "white",
          "plot_bgcolor": "#E5ECF6",
          "polar": {
           "angularaxis": {
            "gridcolor": "white",
            "linecolor": "white",
            "ticks": ""
           },
           "bgcolor": "#E5ECF6",
           "radialaxis": {
            "gridcolor": "white",
            "linecolor": "white",
            "ticks": ""
           }
          },
          "scene": {
           "xaxis": {
            "backgroundcolor": "#E5ECF6",
            "gridcolor": "white",
            "gridwidth": 2,
            "linecolor": "white",
            "showbackground": true,
            "ticks": "",
            "zerolinecolor": "white"
           },
           "yaxis": {
            "backgroundcolor": "#E5ECF6",
            "gridcolor": "white",
            "gridwidth": 2,
            "linecolor": "white",
            "showbackground": true,
            "ticks": "",
            "zerolinecolor": "white"
           },
           "zaxis": {
            "backgroundcolor": "#E5ECF6",
            "gridcolor": "white",
            "gridwidth": 2,
            "linecolor": "white",
            "showbackground": true,
            "ticks": "",
            "zerolinecolor": "white"
           }
          },
          "shapedefaults": {
           "line": {
            "color": "#2a3f5f"
           }
          },
          "ternary": {
           "aaxis": {
            "gridcolor": "white",
            "linecolor": "white",
            "ticks": ""
           },
           "baxis": {
            "gridcolor": "white",
            "linecolor": "white",
            "ticks": ""
           },
           "bgcolor": "#E5ECF6",
           "caxis": {
            "gridcolor": "white",
            "linecolor": "white",
            "ticks": ""
           }
          },
          "title": {
           "x": 0.05
          },
          "xaxis": {
           "automargin": true,
           "gridcolor": "white",
           "linecolor": "white",
           "ticks": "",
           "title": {
            "standoff": 15
           },
           "zerolinecolor": "white",
           "zerolinewidth": 2
          },
          "yaxis": {
           "automargin": true,
           "gridcolor": "white",
           "linecolor": "white",
           "ticks": "",
           "title": {
            "standoff": 15
           },
           "zerolinecolor": "white",
           "zerolinewidth": 2
          }
         }
        },
        "xaxis": {
         "anchor": "y",
         "categoryarray": [
          "Fernando Muslera",
          "Péter Gulácsi",
          "Milan Borjan",
          "Guilherme Marinato",
          "Manuel Neuer",
          "Marc-André ter Stegen",
          "André Onana",
          "Ondrej Kolar",
          "Roman Bürki",
          "Jan Oblak"
         ],
         "categoryorder": "array",
         "domain": [
          0,
          1
         ],
         "title": {
          "text": "name"
         }
        },
        "yaxis": {
         "anchor": "x",
         "domain": [
          0,
          1
         ],
         "title": {
          "text": "saves"
         }
        }
       }
      },
      "text/html": [
       "<div>                            <div id=\"92515843-f28a-42f4-8d97-b4da967457fa\" class=\"plotly-graph-div\" style=\"height:525px; width:100%;\"></div>            <script type=\"text/javascript\">                require([\"plotly\"], function(Plotly) {                    window.PLOTLYENV=window.PLOTLYENV || {};                                    if (document.getElementById(\"92515843-f28a-42f4-8d97-b4da967457fa\")) {                    Plotly.newPlot(                        \"92515843-f28a-42f4-8d97-b4da967457fa\",                        [{\"alignmentgroup\":\"True\",\"hovertemplate\":\"name=%{x}<br>saves=%{y}<extra></extra>\",\"legendgroup\":\"Fernando Muslera\",\"marker\":{\"color\":\"#636efa\"},\"name\":\"Fernando Muslera\",\"notched\":true,\"offsetgroup\":\"Fernando Muslera\",\"orientation\":\"v\",\"showlegend\":true,\"type\":\"box\",\"x\":[\"Fernando Muslera\"],\"x0\":\" \",\"xaxis\":\"x\",\"y\":[33.0],\"y0\":\" \",\"yaxis\":\"y\"},{\"alignmentgroup\":\"True\",\"hovertemplate\":\"name=%{x}<br>saves=%{y}<extra></extra>\",\"legendgroup\":\"P\\u00e9ter Gul\\u00e1csi\",\"marker\":{\"color\":\"#EF553B\"},\"name\":\"P\\u00e9ter Gul\\u00e1csi\",\"notched\":true,\"offsetgroup\":\"P\\u00e9ter Gul\\u00e1csi\",\"orientation\":\"v\",\"showlegend\":true,\"type\":\"box\",\"x\":[\"P\\u00e9ter Gul\\u00e1csi\"],\"x0\":\" \",\"xaxis\":\"x\",\"y\":[33.0],\"y0\":\" \",\"yaxis\":\"y\"},{\"alignmentgroup\":\"True\",\"hovertemplate\":\"name=%{x}<br>saves=%{y}<extra></extra>\",\"legendgroup\":\"Milan Borjan\",\"marker\":{\"color\":\"#00cc96\"},\"name\":\"Milan Borjan\",\"notched\":true,\"offsetgroup\":\"Milan Borjan\",\"orientation\":\"v\",\"showlegend\":true,\"type\":\"box\",\"x\":[\"Milan Borjan\"],\"x0\":\" \",\"xaxis\":\"x\",\"y\":[33.0],\"y0\":\" \",\"yaxis\":\"y\"},{\"alignmentgroup\":\"True\",\"hovertemplate\":\"name=%{x}<br>saves=%{y}<extra></extra>\",\"legendgroup\":\"Guilherme Marinato\",\"marker\":{\"color\":\"#ab63fa\"},\"name\":\"Guilherme Marinato\",\"notched\":true,\"offsetgroup\":\"Guilherme Marinato\",\"orientation\":\"v\",\"showlegend\":true,\"type\":\"box\",\"x\":[\"Guilherme Marinato\"],\"x0\":\" \",\"xaxis\":\"x\",\"y\":[29.0],\"y0\":\" \",\"yaxis\":\"y\"},{\"alignmentgroup\":\"True\",\"hovertemplate\":\"name=%{x}<br>saves=%{y}<extra></extra>\",\"legendgroup\":\"Manuel Neuer\",\"marker\":{\"color\":\"#FFA15A\"},\"name\":\"Manuel Neuer\",\"notched\":true,\"offsetgroup\":\"Manuel Neuer\",\"orientation\":\"v\",\"showlegend\":true,\"type\":\"box\",\"x\":[\"Manuel Neuer\"],\"x0\":\" \",\"xaxis\":\"x\",\"y\":[28.0],\"y0\":\" \",\"yaxis\":\"y\"},{\"alignmentgroup\":\"True\",\"hovertemplate\":\"name=%{x}<br>saves=%{y}<extra></extra>\",\"legendgroup\":\"Marc-Andr\\u00e9 ter Stegen\",\"marker\":{\"color\":\"#19d3f3\"},\"name\":\"Marc-Andr\\u00e9 ter Stegen\",\"notched\":true,\"offsetgroup\":\"Marc-Andr\\u00e9 ter Stegen\",\"orientation\":\"v\",\"showlegend\":true,\"type\":\"box\",\"x\":[\"Marc-Andr\\u00e9 ter Stegen\"],\"x0\":\" \",\"xaxis\":\"x\",\"y\":[27.0],\"y0\":\" \",\"yaxis\":\"y\"},{\"alignmentgroup\":\"True\",\"hovertemplate\":\"name=%{x}<br>saves=%{y}<extra></extra>\",\"legendgroup\":\"Andr\\u00e9 Onana\",\"marker\":{\"color\":\"#FF6692\"},\"name\":\"Andr\\u00e9 Onana\",\"notched\":true,\"offsetgroup\":\"Andr\\u00e9 Onana\",\"orientation\":\"v\",\"showlegend\":true,\"type\":\"box\",\"x\":[\"Andr\\u00e9 Onana\"],\"x0\":\" \",\"xaxis\":\"x\",\"y\":[26.0],\"y0\":\" \",\"yaxis\":\"y\"},{\"alignmentgroup\":\"True\",\"hovertemplate\":\"name=%{x}<br>saves=%{y}<extra></extra>\",\"legendgroup\":\"Ondrej Kolar\",\"marker\":{\"color\":\"#B6E880\"},\"name\":\"Ondrej Kolar\",\"notched\":true,\"offsetgroup\":\"Ondrej Kolar\",\"orientation\":\"v\",\"showlegend\":true,\"type\":\"box\",\"x\":[\"Ondrej Kolar\"],\"x0\":\" \",\"xaxis\":\"x\",\"y\":[26.0],\"y0\":\" \",\"yaxis\":\"y\"},{\"alignmentgroup\":\"True\",\"hovertemplate\":\"name=%{x}<br>saves=%{y}<extra></extra>\",\"legendgroup\":\"Roman B\\u00fcrki\",\"marker\":{\"color\":\"#FF97FF\"},\"name\":\"Roman B\\u00fcrki\",\"notched\":true,\"offsetgroup\":\"Roman B\\u00fcrki\",\"orientation\":\"v\",\"showlegend\":true,\"type\":\"box\",\"x\":[\"Roman B\\u00fcrki\"],\"x0\":\" \",\"xaxis\":\"x\",\"y\":[26.0],\"y0\":\" \",\"yaxis\":\"y\"},{\"alignmentgroup\":\"True\",\"hovertemplate\":\"name=%{x}<br>saves=%{y}<extra></extra>\",\"legendgroup\":\"Jan Oblak\",\"marker\":{\"color\":\"#FECB52\"},\"name\":\"Jan Oblak\",\"notched\":true,\"offsetgroup\":\"Jan Oblak\",\"orientation\":\"v\",\"showlegend\":true,\"type\":\"box\",\"x\":[\"Jan Oblak\"],\"x0\":\" \",\"xaxis\":\"x\",\"y\":[23.0],\"y0\":\" \",\"yaxis\":\"y\"}],                        {\"boxmode\":\"overlay\",\"legend\":{\"title\":{\"text\":\"name\"},\"tracegroupgap\":0},\"margin\":{\"t\":60},\"template\":{\"data\":{\"bar\":[{\"error_x\":{\"color\":\"#2a3f5f\"},\"error_y\":{\"color\":\"#2a3f5f\"},\"marker\":{\"line\":{\"color\":\"#E5ECF6\",\"width\":0.5},\"pattern\":{\"fillmode\":\"overlay\",\"size\":10,\"solidity\":0.2}},\"type\":\"bar\"}],\"barpolar\":[{\"marker\":{\"line\":{\"color\":\"#E5ECF6\",\"width\":0.5},\"pattern\":{\"fillmode\":\"overlay\",\"size\":10,\"solidity\":0.2}},\"type\":\"barpolar\"}],\"carpet\":[{\"aaxis\":{\"endlinecolor\":\"#2a3f5f\",\"gridcolor\":\"white\",\"linecolor\":\"white\",\"minorgridcolor\":\"white\",\"startlinecolor\":\"#2a3f5f\"},\"baxis\":{\"endlinecolor\":\"#2a3f5f\",\"gridcolor\":\"white\",\"linecolor\":\"white\",\"minorgridcolor\":\"white\",\"startlinecolor\":\"#2a3f5f\"},\"type\":\"carpet\"}],\"choropleth\":[{\"colorbar\":{\"outlinewidth\":0,\"ticks\":\"\"},\"type\":\"choropleth\"}],\"contour\":[{\"colorbar\":{\"outlinewidth\":0,\"ticks\":\"\"},\"colorscale\":[[0.0,\"#0d0887\"],[0.1111111111111111,\"#46039f\"],[0.2222222222222222,\"#7201a8\"],[0.3333333333333333,\"#9c179e\"],[0.4444444444444444,\"#bd3786\"],[0.5555555555555556,\"#d8576b\"],[0.6666666666666666,\"#ed7953\"],[0.7777777777777778,\"#fb9f3a\"],[0.8888888888888888,\"#fdca26\"],[1.0,\"#f0f921\"]],\"type\":\"contour\"}],\"contourcarpet\":[{\"colorbar\":{\"outlinewidth\":0,\"ticks\":\"\"},\"type\":\"contourcarpet\"}],\"heatmap\":[{\"colorbar\":{\"outlinewidth\":0,\"ticks\":\"\"},\"colorscale\":[[0.0,\"#0d0887\"],[0.1111111111111111,\"#46039f\"],[0.2222222222222222,\"#7201a8\"],[0.3333333333333333,\"#9c179e\"],[0.4444444444444444,\"#bd3786\"],[0.5555555555555556,\"#d8576b\"],[0.6666666666666666,\"#ed7953\"],[0.7777777777777778,\"#fb9f3a\"],[0.8888888888888888,\"#fdca26\"],[1.0,\"#f0f921\"]],\"type\":\"heatmap\"}],\"heatmapgl\":[{\"colorbar\":{\"outlinewidth\":0,\"ticks\":\"\"},\"colorscale\":[[0.0,\"#0d0887\"],[0.1111111111111111,\"#46039f\"],[0.2222222222222222,\"#7201a8\"],[0.3333333333333333,\"#9c179e\"],[0.4444444444444444,\"#bd3786\"],[0.5555555555555556,\"#d8576b\"],[0.6666666666666666,\"#ed7953\"],[0.7777777777777778,\"#fb9f3a\"],[0.8888888888888888,\"#fdca26\"],[1.0,\"#f0f921\"]],\"type\":\"heatmapgl\"}],\"histogram\":[{\"marker\":{\"pattern\":{\"fillmode\":\"overlay\",\"size\":10,\"solidity\":0.2}},\"type\":\"histogram\"}],\"histogram2d\":[{\"colorbar\":{\"outlinewidth\":0,\"ticks\":\"\"},\"colorscale\":[[0.0,\"#0d0887\"],[0.1111111111111111,\"#46039f\"],[0.2222222222222222,\"#7201a8\"],[0.3333333333333333,\"#9c179e\"],[0.4444444444444444,\"#bd3786\"],[0.5555555555555556,\"#d8576b\"],[0.6666666666666666,\"#ed7953\"],[0.7777777777777778,\"#fb9f3a\"],[0.8888888888888888,\"#fdca26\"],[1.0,\"#f0f921\"]],\"type\":\"histogram2d\"}],\"histogram2dcontour\":[{\"colorbar\":{\"outlinewidth\":0,\"ticks\":\"\"},\"colorscale\":[[0.0,\"#0d0887\"],[0.1111111111111111,\"#46039f\"],[0.2222222222222222,\"#7201a8\"],[0.3333333333333333,\"#9c179e\"],[0.4444444444444444,\"#bd3786\"],[0.5555555555555556,\"#d8576b\"],[0.6666666666666666,\"#ed7953\"],[0.7777777777777778,\"#fb9f3a\"],[0.8888888888888888,\"#fdca26\"],[1.0,\"#f0f921\"]],\"type\":\"histogram2dcontour\"}],\"mesh3d\":[{\"colorbar\":{\"outlinewidth\":0,\"ticks\":\"\"},\"type\":\"mesh3d\"}],\"parcoords\":[{\"line\":{\"colorbar\":{\"outlinewidth\":0,\"ticks\":\"\"}},\"type\":\"parcoords\"}],\"pie\":[{\"automargin\":true,\"type\":\"pie\"}],\"scatter\":[{\"marker\":{\"colorbar\":{\"outlinewidth\":0,\"ticks\":\"\"}},\"type\":\"scatter\"}],\"scatter3d\":[{\"line\":{\"colorbar\":{\"outlinewidth\":0,\"ticks\":\"\"}},\"marker\":{\"colorbar\":{\"outlinewidth\":0,\"ticks\":\"\"}},\"type\":\"scatter3d\"}],\"scattercarpet\":[{\"marker\":{\"colorbar\":{\"outlinewidth\":0,\"ticks\":\"\"}},\"type\":\"scattercarpet\"}],\"scattergeo\":[{\"marker\":{\"colorbar\":{\"outlinewidth\":0,\"ticks\":\"\"}},\"type\":\"scattergeo\"}],\"scattergl\":[{\"marker\":{\"colorbar\":{\"outlinewidth\":0,\"ticks\":\"\"}},\"type\":\"scattergl\"}],\"scattermapbox\":[{\"marker\":{\"colorbar\":{\"outlinewidth\":0,\"ticks\":\"\"}},\"type\":\"scattermapbox\"}],\"scatterpolar\":[{\"marker\":{\"colorbar\":{\"outlinewidth\":0,\"ticks\":\"\"}},\"type\":\"scatterpolar\"}],\"scatterpolargl\":[{\"marker\":{\"colorbar\":{\"outlinewidth\":0,\"ticks\":\"\"}},\"type\":\"scatterpolargl\"}],\"scatterternary\":[{\"marker\":{\"colorbar\":{\"outlinewidth\":0,\"ticks\":\"\"}},\"type\":\"scatterternary\"}],\"surface\":[{\"colorbar\":{\"outlinewidth\":0,\"ticks\":\"\"},\"colorscale\":[[0.0,\"#0d0887\"],[0.1111111111111111,\"#46039f\"],[0.2222222222222222,\"#7201a8\"],[0.3333333333333333,\"#9c179e\"],[0.4444444444444444,\"#bd3786\"],[0.5555555555555556,\"#d8576b\"],[0.6666666666666666,\"#ed7953\"],[0.7777777777777778,\"#fb9f3a\"],[0.8888888888888888,\"#fdca26\"],[1.0,\"#f0f921\"]],\"type\":\"surface\"}],\"table\":[{\"cells\":{\"fill\":{\"color\":\"#EBF0F8\"},\"line\":{\"color\":\"white\"}},\"header\":{\"fill\":{\"color\":\"#C8D4E3\"},\"line\":{\"color\":\"white\"}},\"type\":\"table\"}]},\"layout\":{\"annotationdefaults\":{\"arrowcolor\":\"#2a3f5f\",\"arrowhead\":0,\"arrowwidth\":1},\"autotypenumbers\":\"strict\",\"coloraxis\":{\"colorbar\":{\"outlinewidth\":0,\"ticks\":\"\"}},\"colorscale\":{\"diverging\":[[0,\"#8e0152\"],[0.1,\"#c51b7d\"],[0.2,\"#de77ae\"],[0.3,\"#f1b6da\"],[0.4,\"#fde0ef\"],[0.5,\"#f7f7f7\"],[0.6,\"#e6f5d0\"],[0.7,\"#b8e186\"],[0.8,\"#7fbc41\"],[0.9,\"#4d9221\"],[1,\"#276419\"]],\"sequential\":[[0.0,\"#0d0887\"],[0.1111111111111111,\"#46039f\"],[0.2222222222222222,\"#7201a8\"],[0.3333333333333333,\"#9c179e\"],[0.4444444444444444,\"#bd3786\"],[0.5555555555555556,\"#d8576b\"],[0.6666666666666666,\"#ed7953\"],[0.7777777777777778,\"#fb9f3a\"],[0.8888888888888888,\"#fdca26\"],[1.0,\"#f0f921\"]],\"sequentialminus\":[[0.0,\"#0d0887\"],[0.1111111111111111,\"#46039f\"],[0.2222222222222222,\"#7201a8\"],[0.3333333333333333,\"#9c179e\"],[0.4444444444444444,\"#bd3786\"],[0.5555555555555556,\"#d8576b\"],[0.6666666666666666,\"#ed7953\"],[0.7777777777777778,\"#fb9f3a\"],[0.8888888888888888,\"#fdca26\"],[1.0,\"#f0f921\"]]},\"colorway\":[\"#636efa\",\"#EF553B\",\"#00cc96\",\"#ab63fa\",\"#FFA15A\",\"#19d3f3\",\"#FF6692\",\"#B6E880\",\"#FF97FF\",\"#FECB52\"],\"font\":{\"color\":\"#2a3f5f\"},\"geo\":{\"bgcolor\":\"white\",\"lakecolor\":\"white\",\"landcolor\":\"#E5ECF6\",\"showlakes\":true,\"showland\":true,\"subunitcolor\":\"white\"},\"hoverlabel\":{\"align\":\"left\"},\"hovermode\":\"closest\",\"mapbox\":{\"style\":\"light\"},\"paper_bgcolor\":\"white\",\"plot_bgcolor\":\"#E5ECF6\",\"polar\":{\"angularaxis\":{\"gridcolor\":\"white\",\"linecolor\":\"white\",\"ticks\":\"\"},\"bgcolor\":\"#E5ECF6\",\"radialaxis\":{\"gridcolor\":\"white\",\"linecolor\":\"white\",\"ticks\":\"\"}},\"scene\":{\"xaxis\":{\"backgroundcolor\":\"#E5ECF6\",\"gridcolor\":\"white\",\"gridwidth\":2,\"linecolor\":\"white\",\"showbackground\":true,\"ticks\":\"\",\"zerolinecolor\":\"white\"},\"yaxis\":{\"backgroundcolor\":\"#E5ECF6\",\"gridcolor\":\"white\",\"gridwidth\":2,\"linecolor\":\"white\",\"showbackground\":true,\"ticks\":\"\",\"zerolinecolor\":\"white\"},\"zaxis\":{\"backgroundcolor\":\"#E5ECF6\",\"gridcolor\":\"white\",\"gridwidth\":2,\"linecolor\":\"white\",\"showbackground\":true,\"ticks\":\"\",\"zerolinecolor\":\"white\"}},\"shapedefaults\":{\"line\":{\"color\":\"#2a3f5f\"}},\"ternary\":{\"aaxis\":{\"gridcolor\":\"white\",\"linecolor\":\"white\",\"ticks\":\"\"},\"baxis\":{\"gridcolor\":\"white\",\"linecolor\":\"white\",\"ticks\":\"\"},\"bgcolor\":\"#E5ECF6\",\"caxis\":{\"gridcolor\":\"white\",\"linecolor\":\"white\",\"ticks\":\"\"}},\"title\":{\"x\":0.05},\"xaxis\":{\"automargin\":true,\"gridcolor\":\"white\",\"linecolor\":\"white\",\"ticks\":\"\",\"title\":{\"standoff\":15},\"zerolinecolor\":\"white\",\"zerolinewidth\":2},\"yaxis\":{\"automargin\":true,\"gridcolor\":\"white\",\"linecolor\":\"white\",\"ticks\":\"\",\"title\":{\"standoff\":15},\"zerolinecolor\":\"white\",\"zerolinewidth\":2}}},\"xaxis\":{\"anchor\":\"y\",\"categoryarray\":[\"Fernando Muslera\",\"P\\u00e9ter Gul\\u00e1csi\",\"Milan Borjan\",\"Guilherme Marinato\",\"Manuel Neuer\",\"Marc-Andr\\u00e9 ter Stegen\",\"Andr\\u00e9 Onana\",\"Ondrej Kolar\",\"Roman B\\u00fcrki\",\"Jan Oblak\"],\"categoryorder\":\"array\",\"domain\":[0.0,1.0],\"title\":{\"text\":\"name\"}},\"yaxis\":{\"anchor\":\"x\",\"domain\":[0.0,1.0],\"title\":{\"text\":\"saves\"}}},                        {\"responsive\": true}                    ).then(function(){\n",
       "                            \n",
       "var gd = document.getElementById('92515843-f28a-42f4-8d97-b4da967457fa');\n",
       "var x = new MutationObserver(function (mutations, observer) {{\n",
       "        var display = window.getComputedStyle(gd).display;\n",
       "        if (!display || display === 'none') {{\n",
       "            console.log([gd, 'removed!']);\n",
       "            Plotly.purge(gd);\n",
       "            observer.disconnect();\n",
       "        }}\n",
       "}});\n",
       "\n",
       "// Listen for the removal of the full notebook cells\n",
       "var notebookContainer = gd.closest('#notebook-container');\n",
       "if (notebookContainer) {{\n",
       "    x.observe(notebookContainer, {childList: true});\n",
       "}}\n",
       "\n",
       "// Listen for the clearing of the current output cell\n",
       "var outputEl = gd.closest('.output');\n",
       "if (outputEl) {{\n",
       "    x.observe(outputEl, {childList: true});\n",
       "}}\n",
       "\n",
       "                        })                };                });            </script>        </div>"
      ]
     },
     "metadata": {},
     "output_type": "display_data"
    }
   ],
   "source": [
    "fig = px.box(top_10_keepers, x=\"name\", y=\"saves\",color='name', notched=True)\n",
    "fig.show()"
   ]
  },
  {
   "cell_type": "code",
   "execution_count": 1150,
   "id": "ad3c192d",
   "metadata": {},
   "outputs": [
    {
     "data": {
      "text/html": [
       "<div>\n",
       "<style scoped>\n",
       "    .dataframe tbody tr th:only-of-type {\n",
       "        vertical-align: middle;\n",
       "    }\n",
       "\n",
       "    .dataframe tbody tr th {\n",
       "        vertical-align: top;\n",
       "    }\n",
       "\n",
       "    .dataframe thead th {\n",
       "        text-align: right;\n",
       "    }\n",
       "</style>\n",
       "<table border=\"1\" class=\"dataframe\">\n",
       "  <thead>\n",
       "    <tr style=\"text-align: right;\">\n",
       "      <th></th>\n",
       "      <th>Unnamed: 0</th>\n",
       "      <th>homeTeam</th>\n",
       "      <th>homeScore</th>\n",
       "      <th>awayteam</th>\n",
       "      <th>awayscore</th>\n",
       "      <th>round</th>\n",
       "      <th>group</th>\n",
       "      <th>date</th>\n",
       "      <th>year</th>\n",
       "    </tr>\n",
       "  </thead>\n",
       "  <tbody>\n",
       "    <tr>\n",
       "      <th>1526</th>\n",
       "      <td>1526</td>\n",
       "      <td>Club Brugge</td>\n",
       "      <td>0</td>\n",
       "      <td>Galatasaray</td>\n",
       "      <td>0</td>\n",
       "      <td>round : 1</td>\n",
       "      <td>A</td>\n",
       "      <td>2019-09-18</td>\n",
       "      <td>2019</td>\n",
       "    </tr>\n",
       "    <tr>\n",
       "      <th>1527</th>\n",
       "      <td>1527</td>\n",
       "      <td>Paris Saint-Germain</td>\n",
       "      <td>3</td>\n",
       "      <td>Real Madrid</td>\n",
       "      <td>0</td>\n",
       "      <td>round : 1</td>\n",
       "      <td>A</td>\n",
       "      <td>2019-09-18</td>\n",
       "      <td>2019</td>\n",
       "    </tr>\n",
       "    <tr>\n",
       "      <th>1528</th>\n",
       "      <td>1528</td>\n",
       "      <td>Olympiacos</td>\n",
       "      <td>2</td>\n",
       "      <td>Tottenham</td>\n",
       "      <td>2</td>\n",
       "      <td>round : 1</td>\n",
       "      <td>B</td>\n",
       "      <td>2019-09-18</td>\n",
       "      <td>2019</td>\n",
       "    </tr>\n",
       "    <tr>\n",
       "      <th>1529</th>\n",
       "      <td>1529</td>\n",
       "      <td>Bayern München</td>\n",
       "      <td>3</td>\n",
       "      <td>FK Crvena zvezda</td>\n",
       "      <td>0</td>\n",
       "      <td>round : 1</td>\n",
       "      <td>B</td>\n",
       "      <td>2019-09-18</td>\n",
       "      <td>2019</td>\n",
       "    </tr>\n",
       "    <tr>\n",
       "      <th>1530</th>\n",
       "      <td>1530</td>\n",
       "      <td>GNK Dinamo Zagreb</td>\n",
       "      <td>4</td>\n",
       "      <td>Atalanta</td>\n",
       "      <td>0</td>\n",
       "      <td>round : 1</td>\n",
       "      <td>C</td>\n",
       "      <td>2019-09-18</td>\n",
       "      <td>2019</td>\n",
       "    </tr>\n",
       "  </tbody>\n",
       "</table>\n",
       "</div>"
      ],
      "text/plain": [
       "      Unnamed: 0             homeTeam homeScore          awayteam awayscore  \\\n",
       "1526        1526          Club Brugge         0       Galatasaray         0   \n",
       "1527        1527  Paris Saint-Germain         3       Real Madrid         0   \n",
       "1528        1528           Olympiacos         2         Tottenham         2   \n",
       "1529        1529       Bayern München         3  FK Crvena zvezda         0   \n",
       "1530        1530    GNK Dinamo Zagreb         4          Atalanta         0   \n",
       "\n",
       "          round group       date  year  \n",
       "1526  round : 1     A 2019-09-18  2019  \n",
       "1527  round : 1     A 2019-09-18  2019  \n",
       "1528  round : 1     B 2019-09-18  2019  \n",
       "1529  round : 1     B 2019-09-18  2019  \n",
       "1530  round : 1     C 2019-09-18  2019  "
      ]
     },
     "execution_count": 1150,
     "metadata": {},
     "output_type": "execute_result"
    }
   ],
   "source": [
    "uefa_group_stage_df.head()"
   ]
  },
  {
   "cell_type": "code",
   "execution_count": 1151,
   "id": "cdb07476",
   "metadata": {},
   "outputs": [
    {
     "data": {
      "text/plain": [
       "(80, 9)"
      ]
     },
     "execution_count": 1151,
     "metadata": {},
     "output_type": "execute_result"
    }
   ],
   "source": [
    "uefa_group_stage_df.shape"
   ]
  },
  {
   "cell_type": "code",
   "execution_count": 1152,
   "id": "75a28ef8",
   "metadata": {},
   "outputs": [],
   "source": [
    "uefa_group_stage_df['month'] = uefa_group_stage_df['date'].dt.month"
   ]
  },
  {
   "cell_type": "code",
   "execution_count": 1153,
   "id": "ad88e2aa",
   "metadata": {},
   "outputs": [
    {
     "data": {
      "text/html": [
       "<div>\n",
       "<style scoped>\n",
       "    .dataframe tbody tr th:only-of-type {\n",
       "        vertical-align: middle;\n",
       "    }\n",
       "\n",
       "    .dataframe tbody tr th {\n",
       "        vertical-align: top;\n",
       "    }\n",
       "\n",
       "    .dataframe thead th {\n",
       "        text-align: right;\n",
       "    }\n",
       "</style>\n",
       "<table border=\"1\" class=\"dataframe\">\n",
       "  <thead>\n",
       "    <tr style=\"text-align: right;\">\n",
       "      <th></th>\n",
       "      <th>Unnamed: 0</th>\n",
       "      <th>homeTeam</th>\n",
       "      <th>homeScore</th>\n",
       "      <th>awayteam</th>\n",
       "      <th>awayscore</th>\n",
       "      <th>round</th>\n",
       "      <th>group</th>\n",
       "      <th>date</th>\n",
       "      <th>year</th>\n",
       "      <th>month</th>\n",
       "    </tr>\n",
       "  </thead>\n",
       "  <tbody>\n",
       "    <tr>\n",
       "      <th>1526</th>\n",
       "      <td>1526</td>\n",
       "      <td>Club Brugge</td>\n",
       "      <td>0</td>\n",
       "      <td>Galatasaray</td>\n",
       "      <td>0</td>\n",
       "      <td>round : 1</td>\n",
       "      <td>A</td>\n",
       "      <td>2019-09-18</td>\n",
       "      <td>2019</td>\n",
       "      <td>9</td>\n",
       "    </tr>\n",
       "    <tr>\n",
       "      <th>1527</th>\n",
       "      <td>1527</td>\n",
       "      <td>Paris Saint-Germain</td>\n",
       "      <td>3</td>\n",
       "      <td>Real Madrid</td>\n",
       "      <td>0</td>\n",
       "      <td>round : 1</td>\n",
       "      <td>A</td>\n",
       "      <td>2019-09-18</td>\n",
       "      <td>2019</td>\n",
       "      <td>9</td>\n",
       "    </tr>\n",
       "    <tr>\n",
       "      <th>1528</th>\n",
       "      <td>1528</td>\n",
       "      <td>Olympiacos</td>\n",
       "      <td>2</td>\n",
       "      <td>Tottenham</td>\n",
       "      <td>2</td>\n",
       "      <td>round : 1</td>\n",
       "      <td>B</td>\n",
       "      <td>2019-09-18</td>\n",
       "      <td>2019</td>\n",
       "      <td>9</td>\n",
       "    </tr>\n",
       "    <tr>\n",
       "      <th>1529</th>\n",
       "      <td>1529</td>\n",
       "      <td>Bayern München</td>\n",
       "      <td>3</td>\n",
       "      <td>FK Crvena zvezda</td>\n",
       "      <td>0</td>\n",
       "      <td>round : 1</td>\n",
       "      <td>B</td>\n",
       "      <td>2019-09-18</td>\n",
       "      <td>2019</td>\n",
       "      <td>9</td>\n",
       "    </tr>\n",
       "    <tr>\n",
       "      <th>1530</th>\n",
       "      <td>1530</td>\n",
       "      <td>GNK Dinamo Zagreb</td>\n",
       "      <td>4</td>\n",
       "      <td>Atalanta</td>\n",
       "      <td>0</td>\n",
       "      <td>round : 1</td>\n",
       "      <td>C</td>\n",
       "      <td>2019-09-18</td>\n",
       "      <td>2019</td>\n",
       "      <td>9</td>\n",
       "    </tr>\n",
       "  </tbody>\n",
       "</table>\n",
       "</div>"
      ],
      "text/plain": [
       "      Unnamed: 0             homeTeam homeScore          awayteam awayscore  \\\n",
       "1526        1526          Club Brugge         0       Galatasaray         0   \n",
       "1527        1527  Paris Saint-Germain         3       Real Madrid         0   \n",
       "1528        1528           Olympiacos         2         Tottenham         2   \n",
       "1529        1529       Bayern München         3  FK Crvena zvezda         0   \n",
       "1530        1530    GNK Dinamo Zagreb         4          Atalanta         0   \n",
       "\n",
       "          round group       date  year  month  \n",
       "1526  round : 1     A 2019-09-18  2019      9  \n",
       "1527  round : 1     A 2019-09-18  2019      9  \n",
       "1528  round : 1     B 2019-09-18  2019      9  \n",
       "1529  round : 1     B 2019-09-18  2019      9  \n",
       "1530  round : 1     C 2019-09-18  2019      9  "
      ]
     },
     "execution_count": 1153,
     "metadata": {},
     "output_type": "execute_result"
    }
   ],
   "source": [
    "uefa_group_stage_df.head()"
   ]
  },
  {
   "cell_type": "code",
   "execution_count": null,
   "id": "255cc40d",
   "metadata": {},
   "outputs": [],
   "source": []
  },
  {
   "cell_type": "code",
   "execution_count": null,
   "id": "b033286d",
   "metadata": {},
   "outputs": [],
   "source": []
  },
  {
   "cell_type": "code",
   "execution_count": null,
   "id": "b1203334",
   "metadata": {},
   "outputs": [],
   "source": []
  },
  {
   "cell_type": "code",
   "execution_count": null,
   "id": "9d35b99b",
   "metadata": {},
   "outputs": [],
   "source": []
  },
  {
   "cell_type": "code",
   "execution_count": null,
   "id": "6b937621",
   "metadata": {},
   "outputs": [],
   "source": []
  },
  {
   "cell_type": "code",
   "execution_count": null,
   "id": "e402f42d",
   "metadata": {},
   "outputs": [],
   "source": []
  },
  {
   "cell_type": "code",
   "execution_count": 1154,
   "id": "f5ccd571",
   "metadata": {},
   "outputs": [],
   "source": [
    "uefa_group_stage_df['homeScore'] = uefa_group_stage_df['homeScore'].astype(int) \n",
    "#home_scores = uefa_group_stage_df[uefa_group_stage_df['homeTeam'] == 'GNK Dinamo Zagreb']\n",
    "#rr = uefa_group_stage_df.groupby('homeTeam')['homeScore']"
   ]
  },
  {
   "cell_type": "code",
   "execution_count": 1155,
   "id": "020e7f5d",
   "metadata": {},
   "outputs": [],
   "source": [
    "uefa_group_stage_df['awayscore'] = uefa_group_stage_df['awayscore'].astype(int)"
   ]
  },
  {
   "cell_type": "code",
   "execution_count": 1156,
   "id": "6919c62f",
   "metadata": {},
   "outputs": [],
   "source": [
    "home_scores = uefa_group_stage_df.groupby('homeTeam')['homeScore'].sum()"
   ]
  },
  {
   "cell_type": "code",
   "execution_count": 1157,
   "id": "8869ce17",
   "metadata": {},
   "outputs": [
    {
     "data": {
      "text/html": [
       "<div>\n",
       "<style scoped>\n",
       "    .dataframe tbody tr th:only-of-type {\n",
       "        vertical-align: middle;\n",
       "    }\n",
       "\n",
       "    .dataframe tbody tr th {\n",
       "        vertical-align: top;\n",
       "    }\n",
       "\n",
       "    .dataframe thead th {\n",
       "        text-align: right;\n",
       "    }\n",
       "</style>\n",
       "<table border=\"1\" class=\"dataframe\">\n",
       "  <thead>\n",
       "    <tr style=\"text-align: right;\">\n",
       "      <th></th>\n",
       "      <th>homeTeam</th>\n",
       "      <th>homeScore</th>\n",
       "    </tr>\n",
       "  </thead>\n",
       "  <tbody>\n",
       "    <tr>\n",
       "      <th>0</th>\n",
       "      <td>Ajax</td>\n",
       "      <td>3</td>\n",
       "    </tr>\n",
       "    <tr>\n",
       "      <th>1</th>\n",
       "      <td>Atalanta</td>\n",
       "      <td>4</td>\n",
       "    </tr>\n",
       "    <tr>\n",
       "      <th>2</th>\n",
       "      <td>Atlético Madrid</td>\n",
       "      <td>3</td>\n",
       "    </tr>\n",
       "    <tr>\n",
       "      <th>3</th>\n",
       "      <td>Barcelona</td>\n",
       "      <td>5</td>\n",
       "    </tr>\n",
       "    <tr>\n",
       "      <th>4</th>\n",
       "      <td>Bayer 04 Leverkusen</td>\n",
       "      <td>3</td>\n",
       "    </tr>\n",
       "    <tr>\n",
       "      <th>5</th>\n",
       "      <td>Bayern München</td>\n",
       "      <td>5</td>\n",
       "    </tr>\n",
       "    <tr>\n",
       "      <th>6</th>\n",
       "      <td>Borussia Dortmund</td>\n",
       "      <td>3</td>\n",
       "    </tr>\n",
       "    <tr>\n",
       "      <th>7</th>\n",
       "      <td>Chelsea</td>\n",
       "      <td>4</td>\n",
       "    </tr>\n",
       "    <tr>\n",
       "      <th>8</th>\n",
       "      <td>Club Brugge</td>\n",
       "      <td>0</td>\n",
       "    </tr>\n",
       "    <tr>\n",
       "      <th>9</th>\n",
       "      <td>FK Crvena zvezda</td>\n",
       "      <td>3</td>\n",
       "    </tr>\n",
       "    <tr>\n",
       "      <th>10</th>\n",
       "      <td>GNK Dinamo Zagreb</td>\n",
       "      <td>7</td>\n",
       "    </tr>\n",
       "    <tr>\n",
       "      <th>11</th>\n",
       "      <td>Galatasaray</td>\n",
       "      <td>1</td>\n",
       "    </tr>\n",
       "    <tr>\n",
       "      <th>12</th>\n",
       "      <td>Inter</td>\n",
       "      <td>3</td>\n",
       "    </tr>\n",
       "    <tr>\n",
       "      <th>13</th>\n",
       "      <td>Juventus</td>\n",
       "      <td>6</td>\n",
       "    </tr>\n",
       "    <tr>\n",
       "      <th>14</th>\n",
       "      <td>KRC Genk</td>\n",
       "      <td>2</td>\n",
       "    </tr>\n",
       "    <tr>\n",
       "      <th>15</th>\n",
       "      <td>Lille OSC</td>\n",
       "      <td>2</td>\n",
       "    </tr>\n",
       "    <tr>\n",
       "      <th>16</th>\n",
       "      <td>Liverpool</td>\n",
       "      <td>7</td>\n",
       "    </tr>\n",
       "    <tr>\n",
       "      <th>17</th>\n",
       "      <td>Lokomotiv Moscow</td>\n",
       "      <td>1</td>\n",
       "    </tr>\n",
       "    <tr>\n",
       "      <th>18</th>\n",
       "      <td>Manchester City</td>\n",
       "      <td>8</td>\n",
       "    </tr>\n",
       "    <tr>\n",
       "      <th>19</th>\n",
       "      <td>Napoli</td>\n",
       "      <td>3</td>\n",
       "    </tr>\n",
       "    <tr>\n",
       "      <th>20</th>\n",
       "      <td>Olympiacos</td>\n",
       "      <td>4</td>\n",
       "    </tr>\n",
       "    <tr>\n",
       "      <th>21</th>\n",
       "      <td>Olympique Lyonnais</td>\n",
       "      <td>4</td>\n",
       "    </tr>\n",
       "    <tr>\n",
       "      <th>22</th>\n",
       "      <td>Paris Saint-Germain</td>\n",
       "      <td>4</td>\n",
       "    </tr>\n",
       "    <tr>\n",
       "      <th>23</th>\n",
       "      <td>RB Leipzig</td>\n",
       "      <td>4</td>\n",
       "    </tr>\n",
       "    <tr>\n",
       "      <th>24</th>\n",
       "      <td>Real Madrid</td>\n",
       "      <td>10</td>\n",
       "    </tr>\n",
       "    <tr>\n",
       "      <th>25</th>\n",
       "      <td>Red Bull Salzburg</td>\n",
       "      <td>8</td>\n",
       "    </tr>\n",
       "    <tr>\n",
       "      <th>26</th>\n",
       "      <td>SL Benfica</td>\n",
       "      <td>3</td>\n",
       "    </tr>\n",
       "    <tr>\n",
       "      <th>27</th>\n",
       "      <td>Shakhtar Donetsk</td>\n",
       "      <td>2</td>\n",
       "    </tr>\n",
       "    <tr>\n",
       "      <th>28</th>\n",
       "      <td>Slavia Praha</td>\n",
       "      <td>2</td>\n",
       "    </tr>\n",
       "    <tr>\n",
       "      <th>29</th>\n",
       "      <td>Tottenham</td>\n",
       "      <td>11</td>\n",
       "    </tr>\n",
       "    <tr>\n",
       "      <th>30</th>\n",
       "      <td>Valencia</td>\n",
       "      <td>6</td>\n",
       "    </tr>\n",
       "    <tr>\n",
       "      <th>31</th>\n",
       "      <td>Zenit St. Petersburg</td>\n",
       "      <td>5</td>\n",
       "    </tr>\n",
       "  </tbody>\n",
       "</table>\n",
       "</div>"
      ],
      "text/plain": [
       "                homeTeam  homeScore\n",
       "0                   Ajax          3\n",
       "1               Atalanta          4\n",
       "2        Atlético Madrid          3\n",
       "3              Barcelona          5\n",
       "4    Bayer 04 Leverkusen          3\n",
       "5         Bayern München          5\n",
       "6      Borussia Dortmund          3\n",
       "7                Chelsea          4\n",
       "8            Club Brugge          0\n",
       "9       FK Crvena zvezda          3\n",
       "10     GNK Dinamo Zagreb          7\n",
       "11           Galatasaray          1\n",
       "12                 Inter          3\n",
       "13              Juventus          6\n",
       "14              KRC Genk          2\n",
       "15             Lille OSC          2\n",
       "16             Liverpool          7\n",
       "17      Lokomotiv Moscow          1\n",
       "18       Manchester City          8\n",
       "19                Napoli          3\n",
       "20            Olympiacos          4\n",
       "21    Olympique Lyonnais          4\n",
       "22   Paris Saint-Germain          4\n",
       "23            RB Leipzig          4\n",
       "24           Real Madrid         10\n",
       "25     Red Bull Salzburg          8\n",
       "26            SL Benfica          3\n",
       "27      Shakhtar Donetsk          2\n",
       "28          Slavia Praha          2\n",
       "29             Tottenham         11\n",
       "30              Valencia          6\n",
       "31  Zenit St. Petersburg          5"
      ]
     },
     "execution_count": 1157,
     "metadata": {},
     "output_type": "execute_result"
    }
   ],
   "source": [
    "home_scores.reset_index()"
   ]
  },
  {
   "cell_type": "code",
   "execution_count": 1158,
   "id": "ea628018",
   "metadata": {},
   "outputs": [],
   "source": [
    "away_scores = uefa_group_stage_df.groupby('awayteam')['awayscore'].sum()"
   ]
  },
  {
   "cell_type": "code",
   "execution_count": 1159,
   "id": "2819d3b9",
   "metadata": {},
   "outputs": [
    {
     "data": {
      "text/html": [
       "<div>\n",
       "<style scoped>\n",
       "    .dataframe tbody tr th:only-of-type {\n",
       "        vertical-align: middle;\n",
       "    }\n",
       "\n",
       "    .dataframe tbody tr th {\n",
       "        vertical-align: top;\n",
       "    }\n",
       "\n",
       "    .dataframe thead th {\n",
       "        text-align: right;\n",
       "    }\n",
       "</style>\n",
       "<table border=\"1\" class=\"dataframe\">\n",
       "  <thead>\n",
       "    <tr style=\"text-align: right;\">\n",
       "      <th></th>\n",
       "      <th>awayteam</th>\n",
       "      <th>awayscore</th>\n",
       "    </tr>\n",
       "  </thead>\n",
       "  <tbody>\n",
       "    <tr>\n",
       "      <th>0</th>\n",
       "      <td>Ajax</td>\n",
       "      <td>9</td>\n",
       "    </tr>\n",
       "    <tr>\n",
       "      <th>1</th>\n",
       "      <td>Atalanta</td>\n",
       "      <td>1</td>\n",
       "    </tr>\n",
       "    <tr>\n",
       "      <th>2</th>\n",
       "      <td>Atlético Madrid</td>\n",
       "      <td>3</td>\n",
       "    </tr>\n",
       "    <tr>\n",
       "      <th>3</th>\n",
       "      <td>Barcelona</td>\n",
       "      <td>2</td>\n",
       "    </tr>\n",
       "    <tr>\n",
       "      <th>4</th>\n",
       "      <td>Bayer 04 Leverkusen</td>\n",
       "      <td>2</td>\n",
       "    </tr>\n",
       "    <tr>\n",
       "      <th>5</th>\n",
       "      <td>Bayern München</td>\n",
       "      <td>16</td>\n",
       "    </tr>\n",
       "    <tr>\n",
       "      <th>6</th>\n",
       "      <td>Borussia Dortmund</td>\n",
       "      <td>3</td>\n",
       "    </tr>\n",
       "    <tr>\n",
       "      <th>7</th>\n",
       "      <td>Chelsea</td>\n",
       "      <td>5</td>\n",
       "    </tr>\n",
       "    <tr>\n",
       "      <th>8</th>\n",
       "      <td>Club Brugge</td>\n",
       "      <td>3</td>\n",
       "    </tr>\n",
       "    <tr>\n",
       "      <th>9</th>\n",
       "      <td>FK Crvena zvezda</td>\n",
       "      <td>0</td>\n",
       "    </tr>\n",
       "    <tr>\n",
       "      <th>10</th>\n",
       "      <td>GNK Dinamo Zagreb</td>\n",
       "      <td>2</td>\n",
       "    </tr>\n",
       "    <tr>\n",
       "      <th>11</th>\n",
       "      <td>Galatasaray</td>\n",
       "      <td>0</td>\n",
       "    </tr>\n",
       "    <tr>\n",
       "      <th>12</th>\n",
       "      <td>Inter</td>\n",
       "      <td>6</td>\n",
       "    </tr>\n",
       "    <tr>\n",
       "      <th>13</th>\n",
       "      <td>Juventus</td>\n",
       "      <td>4</td>\n",
       "    </tr>\n",
       "    <tr>\n",
       "      <th>14</th>\n",
       "      <td>KRC Genk</td>\n",
       "      <td>3</td>\n",
       "    </tr>\n",
       "    <tr>\n",
       "      <th>15</th>\n",
       "      <td>Lille OSC</td>\n",
       "      <td>1</td>\n",
       "    </tr>\n",
       "    <tr>\n",
       "      <th>16</th>\n",
       "      <td>Liverpool</td>\n",
       "      <td>4</td>\n",
       "    </tr>\n",
       "    <tr>\n",
       "      <th>17</th>\n",
       "      <td>Lokomotiv Moscow</td>\n",
       "      <td>3</td>\n",
       "    </tr>\n",
       "    <tr>\n",
       "      <th>18</th>\n",
       "      <td>Manchester City</td>\n",
       "      <td>4</td>\n",
       "    </tr>\n",
       "    <tr>\n",
       "      <th>19</th>\n",
       "      <td>Napoli</td>\n",
       "      <td>4</td>\n",
       "    </tr>\n",
       "    <tr>\n",
       "      <th>20</th>\n",
       "      <td>Olympiacos</td>\n",
       "      <td>3</td>\n",
       "    </tr>\n",
       "    <tr>\n",
       "      <th>21</th>\n",
       "      <td>Olympique Lyonnais</td>\n",
       "      <td>3</td>\n",
       "    </tr>\n",
       "    <tr>\n",
       "      <th>22</th>\n",
       "      <td>Paris Saint-Germain</td>\n",
       "      <td>8</td>\n",
       "    </tr>\n",
       "    <tr>\n",
       "      <th>23</th>\n",
       "      <td>RB Leipzig</td>\n",
       "      <td>4</td>\n",
       "    </tr>\n",
       "    <tr>\n",
       "      <th>24</th>\n",
       "      <td>Real Madrid</td>\n",
       "      <td>1</td>\n",
       "    </tr>\n",
       "    <tr>\n",
       "      <th>25</th>\n",
       "      <td>Red Bull Salzburg</td>\n",
       "      <td>8</td>\n",
       "    </tr>\n",
       "    <tr>\n",
       "      <th>26</th>\n",
       "      <td>SL Benfica</td>\n",
       "      <td>4</td>\n",
       "    </tr>\n",
       "    <tr>\n",
       "      <th>27</th>\n",
       "      <td>Shakhtar Donetsk</td>\n",
       "      <td>6</td>\n",
       "    </tr>\n",
       "    <tr>\n",
       "      <th>28</th>\n",
       "      <td>Slavia Praha</td>\n",
       "      <td>1</td>\n",
       "    </tr>\n",
       "    <tr>\n",
       "      <th>29</th>\n",
       "      <td>Tottenham</td>\n",
       "      <td>6</td>\n",
       "    </tr>\n",
       "    <tr>\n",
       "      <th>30</th>\n",
       "      <td>Valencia</td>\n",
       "      <td>2</td>\n",
       "    </tr>\n",
       "    <tr>\n",
       "      <th>31</th>\n",
       "      <td>Zenit St. Petersburg</td>\n",
       "      <td>2</td>\n",
       "    </tr>\n",
       "  </tbody>\n",
       "</table>\n",
       "</div>"
      ],
      "text/plain": [
       "                awayteam  awayscore\n",
       "0                   Ajax          9\n",
       "1               Atalanta          1\n",
       "2        Atlético Madrid          3\n",
       "3              Barcelona          2\n",
       "4    Bayer 04 Leverkusen          2\n",
       "5         Bayern München         16\n",
       "6      Borussia Dortmund          3\n",
       "7                Chelsea          5\n",
       "8            Club Brugge          3\n",
       "9       FK Crvena zvezda          0\n",
       "10     GNK Dinamo Zagreb          2\n",
       "11           Galatasaray          0\n",
       "12                 Inter          6\n",
       "13              Juventus          4\n",
       "14              KRC Genk          3\n",
       "15             Lille OSC          1\n",
       "16             Liverpool          4\n",
       "17      Lokomotiv Moscow          3\n",
       "18       Manchester City          4\n",
       "19                Napoli          4\n",
       "20            Olympiacos          3\n",
       "21    Olympique Lyonnais          3\n",
       "22   Paris Saint-Germain          8\n",
       "23            RB Leipzig          4\n",
       "24           Real Madrid          1\n",
       "25     Red Bull Salzburg          8\n",
       "26            SL Benfica          4\n",
       "27      Shakhtar Donetsk          6\n",
       "28          Slavia Praha          1\n",
       "29             Tottenham          6\n",
       "30              Valencia          2\n",
       "31  Zenit St. Petersburg          2"
      ]
     },
     "execution_count": 1159,
     "metadata": {},
     "output_type": "execute_result"
    }
   ],
   "source": [
    "away_scores.reset_index()"
   ]
  },
  {
   "cell_type": "code",
   "execution_count": null,
   "id": "27ba9544",
   "metadata": {},
   "outputs": [],
   "source": []
  },
  {
   "cell_type": "code",
   "execution_count": null,
   "id": "c9288c61",
   "metadata": {},
   "outputs": [],
   "source": []
  },
  {
   "cell_type": "code",
   "execution_count": null,
   "id": "f6ab5fdc",
   "metadata": {},
   "outputs": [],
   "source": []
  },
  {
   "cell_type": "code",
   "execution_count": 1164,
   "id": "7f383b01",
   "metadata": {},
   "outputs": [],
   "source": [
    "total_scores_scored_by_team = pd.merge(home_scores,away_scores,left_index=True,right_index=True,how='left')"
   ]
  },
  {
   "cell_type": "code",
   "execution_count": 1166,
   "id": "9c8da984",
   "metadata": {},
   "outputs": [
    {
     "data": {
      "text/html": [
       "<div>\n",
       "<style scoped>\n",
       "    .dataframe tbody tr th:only-of-type {\n",
       "        vertical-align: middle;\n",
       "    }\n",
       "\n",
       "    .dataframe tbody tr th {\n",
       "        vertical-align: top;\n",
       "    }\n",
       "\n",
       "    .dataframe thead th {\n",
       "        text-align: right;\n",
       "    }\n",
       "</style>\n",
       "<table border=\"1\" class=\"dataframe\">\n",
       "  <thead>\n",
       "    <tr style=\"text-align: right;\">\n",
       "      <th></th>\n",
       "      <th>homeTeam</th>\n",
       "      <th>homeScore</th>\n",
       "      <th>awayscore</th>\n",
       "    </tr>\n",
       "  </thead>\n",
       "  <tbody>\n",
       "    <tr>\n",
       "      <th>0</th>\n",
       "      <td>Ajax</td>\n",
       "      <td>3</td>\n",
       "      <td>9</td>\n",
       "    </tr>\n",
       "    <tr>\n",
       "      <th>1</th>\n",
       "      <td>Atalanta</td>\n",
       "      <td>4</td>\n",
       "      <td>1</td>\n",
       "    </tr>\n",
       "    <tr>\n",
       "      <th>2</th>\n",
       "      <td>Atlético Madrid</td>\n",
       "      <td>3</td>\n",
       "      <td>3</td>\n",
       "    </tr>\n",
       "    <tr>\n",
       "      <th>3</th>\n",
       "      <td>Barcelona</td>\n",
       "      <td>5</td>\n",
       "      <td>2</td>\n",
       "    </tr>\n",
       "    <tr>\n",
       "      <th>4</th>\n",
       "      <td>Bayer 04 Leverkusen</td>\n",
       "      <td>3</td>\n",
       "      <td>2</td>\n",
       "    </tr>\n",
       "    <tr>\n",
       "      <th>5</th>\n",
       "      <td>Bayern München</td>\n",
       "      <td>5</td>\n",
       "      <td>16</td>\n",
       "    </tr>\n",
       "    <tr>\n",
       "      <th>6</th>\n",
       "      <td>Borussia Dortmund</td>\n",
       "      <td>3</td>\n",
       "      <td>3</td>\n",
       "    </tr>\n",
       "    <tr>\n",
       "      <th>7</th>\n",
       "      <td>Chelsea</td>\n",
       "      <td>4</td>\n",
       "      <td>5</td>\n",
       "    </tr>\n",
       "    <tr>\n",
       "      <th>8</th>\n",
       "      <td>Club Brugge</td>\n",
       "      <td>0</td>\n",
       "      <td>3</td>\n",
       "    </tr>\n",
       "    <tr>\n",
       "      <th>9</th>\n",
       "      <td>FK Crvena zvezda</td>\n",
       "      <td>3</td>\n",
       "      <td>0</td>\n",
       "    </tr>\n",
       "    <tr>\n",
       "      <th>10</th>\n",
       "      <td>GNK Dinamo Zagreb</td>\n",
       "      <td>7</td>\n",
       "      <td>2</td>\n",
       "    </tr>\n",
       "    <tr>\n",
       "      <th>11</th>\n",
       "      <td>Galatasaray</td>\n",
       "      <td>1</td>\n",
       "      <td>0</td>\n",
       "    </tr>\n",
       "    <tr>\n",
       "      <th>12</th>\n",
       "      <td>Inter</td>\n",
       "      <td>3</td>\n",
       "      <td>6</td>\n",
       "    </tr>\n",
       "    <tr>\n",
       "      <th>13</th>\n",
       "      <td>Juventus</td>\n",
       "      <td>6</td>\n",
       "      <td>4</td>\n",
       "    </tr>\n",
       "    <tr>\n",
       "      <th>14</th>\n",
       "      <td>KRC Genk</td>\n",
       "      <td>2</td>\n",
       "      <td>3</td>\n",
       "    </tr>\n",
       "    <tr>\n",
       "      <th>15</th>\n",
       "      <td>Lille OSC</td>\n",
       "      <td>2</td>\n",
       "      <td>1</td>\n",
       "    </tr>\n",
       "    <tr>\n",
       "      <th>16</th>\n",
       "      <td>Liverpool</td>\n",
       "      <td>7</td>\n",
       "      <td>4</td>\n",
       "    </tr>\n",
       "    <tr>\n",
       "      <th>17</th>\n",
       "      <td>Lokomotiv Moscow</td>\n",
       "      <td>1</td>\n",
       "      <td>3</td>\n",
       "    </tr>\n",
       "    <tr>\n",
       "      <th>18</th>\n",
       "      <td>Manchester City</td>\n",
       "      <td>8</td>\n",
       "      <td>4</td>\n",
       "    </tr>\n",
       "    <tr>\n",
       "      <th>19</th>\n",
       "      <td>Napoli</td>\n",
       "      <td>3</td>\n",
       "      <td>4</td>\n",
       "    </tr>\n",
       "    <tr>\n",
       "      <th>20</th>\n",
       "      <td>Olympiacos</td>\n",
       "      <td>4</td>\n",
       "      <td>3</td>\n",
       "    </tr>\n",
       "    <tr>\n",
       "      <th>21</th>\n",
       "      <td>Olympique Lyonnais</td>\n",
       "      <td>4</td>\n",
       "      <td>3</td>\n",
       "    </tr>\n",
       "    <tr>\n",
       "      <th>22</th>\n",
       "      <td>Paris Saint-Germain</td>\n",
       "      <td>4</td>\n",
       "      <td>8</td>\n",
       "    </tr>\n",
       "    <tr>\n",
       "      <th>23</th>\n",
       "      <td>RB Leipzig</td>\n",
       "      <td>4</td>\n",
       "      <td>4</td>\n",
       "    </tr>\n",
       "    <tr>\n",
       "      <th>24</th>\n",
       "      <td>Real Madrid</td>\n",
       "      <td>10</td>\n",
       "      <td>1</td>\n",
       "    </tr>\n",
       "    <tr>\n",
       "      <th>25</th>\n",
       "      <td>Red Bull Salzburg</td>\n",
       "      <td>8</td>\n",
       "      <td>8</td>\n",
       "    </tr>\n",
       "    <tr>\n",
       "      <th>26</th>\n",
       "      <td>SL Benfica</td>\n",
       "      <td>3</td>\n",
       "      <td>4</td>\n",
       "    </tr>\n",
       "    <tr>\n",
       "      <th>27</th>\n",
       "      <td>Shakhtar Donetsk</td>\n",
       "      <td>2</td>\n",
       "      <td>6</td>\n",
       "    </tr>\n",
       "    <tr>\n",
       "      <th>28</th>\n",
       "      <td>Slavia Praha</td>\n",
       "      <td>2</td>\n",
       "      <td>1</td>\n",
       "    </tr>\n",
       "    <tr>\n",
       "      <th>29</th>\n",
       "      <td>Tottenham</td>\n",
       "      <td>11</td>\n",
       "      <td>6</td>\n",
       "    </tr>\n",
       "    <tr>\n",
       "      <th>30</th>\n",
       "      <td>Valencia</td>\n",
       "      <td>6</td>\n",
       "      <td>2</td>\n",
       "    </tr>\n",
       "    <tr>\n",
       "      <th>31</th>\n",
       "      <td>Zenit St. Petersburg</td>\n",
       "      <td>5</td>\n",
       "      <td>2</td>\n",
       "    </tr>\n",
       "  </tbody>\n",
       "</table>\n",
       "</div>"
      ],
      "text/plain": [
       "                homeTeam  homeScore  awayscore\n",
       "0                   Ajax          3          9\n",
       "1               Atalanta          4          1\n",
       "2        Atlético Madrid          3          3\n",
       "3              Barcelona          5          2\n",
       "4    Bayer 04 Leverkusen          3          2\n",
       "5         Bayern München          5         16\n",
       "6      Borussia Dortmund          3          3\n",
       "7                Chelsea          4          5\n",
       "8            Club Brugge          0          3\n",
       "9       FK Crvena zvezda          3          0\n",
       "10     GNK Dinamo Zagreb          7          2\n",
       "11           Galatasaray          1          0\n",
       "12                 Inter          3          6\n",
       "13              Juventus          6          4\n",
       "14              KRC Genk          2          3\n",
       "15             Lille OSC          2          1\n",
       "16             Liverpool          7          4\n",
       "17      Lokomotiv Moscow          1          3\n",
       "18       Manchester City          8          4\n",
       "19                Napoli          3          4\n",
       "20            Olympiacos          4          3\n",
       "21    Olympique Lyonnais          4          3\n",
       "22   Paris Saint-Germain          4          8\n",
       "23            RB Leipzig          4          4\n",
       "24           Real Madrid         10          1\n",
       "25     Red Bull Salzburg          8          8\n",
       "26            SL Benfica          3          4\n",
       "27      Shakhtar Donetsk          2          6\n",
       "28          Slavia Praha          2          1\n",
       "29             Tottenham         11          6\n",
       "30              Valencia          6          2\n",
       "31  Zenit St. Petersburg          5          2"
      ]
     },
     "execution_count": 1166,
     "metadata": {},
     "output_type": "execute_result"
    }
   ],
   "source": [
    "total_scores_scored_by_team.reset_index()"
   ]
  },
  {
   "cell_type": "code",
   "execution_count": null,
   "id": "ebbba79d",
   "metadata": {},
   "outputs": [],
   "source": [
    "#final_df_total_scored = "
   ]
  }
 ],
 "metadata": {
  "kernelspec": {
   "display_name": "Python 3",
   "language": "python",
   "name": "python3"
  },
  "language_info": {
   "codemirror_mode": {
    "name": "ipython",
    "version": 3
   },
   "file_extension": ".py",
   "mimetype": "text/x-python",
   "name": "python",
   "nbconvert_exporter": "python",
   "pygments_lexer": "ipython3",
   "version": "3.8.8"
  }
 },
 "nbformat": 4,
 "nbformat_minor": 5
}
