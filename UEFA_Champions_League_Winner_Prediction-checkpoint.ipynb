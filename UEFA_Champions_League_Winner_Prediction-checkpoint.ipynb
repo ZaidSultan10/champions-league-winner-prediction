{
 "cells": [
  {
   "cell_type": "code",
   "execution_count": 1241,
   "id": "e590d4ea",
   "metadata": {},
   "outputs": [],
   "source": [
    "# loading dataset\n",
    "# clean data\n",
    "#visualize\n",
    "#model\n",
    "\n",
    "#Q1 best performing teams in each group\n",
    "#Q2 most goals scored by a team in group stages\n",
    "#Q3 top 10 player with most goals (done)\n",
    "#Q4 consistency of top 4 teams in group stages\n",
    "#Q5 overall stats of the best and worst performing team \n",
    "#Q6 worst performing team \n",
    "#Q7 best performing team \n",
    "#Q8 team which conceded least goals and most goals\n",
    "#Q9 best team to win round of 16\n",
    "#Q10 teams who won both legs \n",
    "#Q11 teams who won one leg but qualified\n",
    "#Q12 team stats of top four\n",
    "#Q13 top 10 players with most assists (done)\n",
    "#Q14 top 10 best defenders (done)\n",
    "\n",
    "\n",
    "\n",
    "import pandas as pd\n",
    "import numpy as np\n",
    "import matplotlib.pyplot as plt\n",
    "import seaborn as sns\n",
    "import plotly.express as px\n",
    "\n"
   ]
  },
  {
   "cell_type": "code",
   "execution_count": 1242,
   "id": "531a7954",
   "metadata": {},
   "outputs": [],
   "source": [
    "uefa_raw_df = pd.read_csv('../UEFA Champions League 2004-2021.csv')"
   ]
  },
  {
   "cell_type": "code",
   "execution_count": 1243,
   "id": "87aacc11",
   "metadata": {},
   "outputs": [
    {
     "data": {
      "text/html": [
       "<div>\n",
       "<style scoped>\n",
       "    .dataframe tbody tr th:only-of-type {\n",
       "        vertical-align: middle;\n",
       "    }\n",
       "\n",
       "    .dataframe tbody tr th {\n",
       "        vertical-align: top;\n",
       "    }\n",
       "\n",
       "    .dataframe thead th {\n",
       "        text-align: right;\n",
       "    }\n",
       "</style>\n",
       "<table border=\"1\" class=\"dataframe\">\n",
       "  <thead>\n",
       "    <tr style=\"text-align: right;\">\n",
       "      <th></th>\n",
       "      <th>Unnamed: 0</th>\n",
       "      <th>homeTeam</th>\n",
       "      <th>homeScore</th>\n",
       "      <th>awayteam</th>\n",
       "      <th>awayscore</th>\n",
       "      <th>round</th>\n",
       "      <th>group</th>\n",
       "      <th>date</th>\n",
       "    </tr>\n",
       "  </thead>\n",
       "  <tbody>\n",
       "    <tr>\n",
       "      <th>0</th>\n",
       "      <td>0</td>\n",
       "      <td>Club Brugge</td>\n",
       "      <td>1</td>\n",
       "      <td>Juventus</td>\n",
       "      <td>2</td>\n",
       "      <td>round : 1</td>\n",
       "      <td>A</td>\n",
       "      <td>2005-09-14</td>\n",
       "    </tr>\n",
       "    <tr>\n",
       "      <th>1</th>\n",
       "      <td>1</td>\n",
       "      <td>SK Rapid Wien</td>\n",
       "      <td>0</td>\n",
       "      <td>Bayern München</td>\n",
       "      <td>1</td>\n",
       "      <td>round : 1</td>\n",
       "      <td>A</td>\n",
       "      <td>2005-09-14</td>\n",
       "    </tr>\n",
       "    <tr>\n",
       "      <th>2</th>\n",
       "      <td>2</td>\n",
       "      <td>Arsenal</td>\n",
       "      <td>2</td>\n",
       "      <td>FC Thun</td>\n",
       "      <td>1</td>\n",
       "      <td>round : 1</td>\n",
       "      <td>B</td>\n",
       "      <td>2005-09-14</td>\n",
       "    </tr>\n",
       "    <tr>\n",
       "      <th>3</th>\n",
       "      <td>3</td>\n",
       "      <td>Sparta Praha</td>\n",
       "      <td>1</td>\n",
       "      <td>Ajax</td>\n",
       "      <td>1</td>\n",
       "      <td>round : 1</td>\n",
       "      <td>B</td>\n",
       "      <td>2005-09-14</td>\n",
       "    </tr>\n",
       "    <tr>\n",
       "      <th>4</th>\n",
       "      <td>4</td>\n",
       "      <td>Udinese</td>\n",
       "      <td>3</td>\n",
       "      <td>Panathinaikos</td>\n",
       "      <td>0</td>\n",
       "      <td>round : 1</td>\n",
       "      <td>C</td>\n",
       "      <td>2005-09-14</td>\n",
       "    </tr>\n",
       "  </tbody>\n",
       "</table>\n",
       "</div>"
      ],
      "text/plain": [
       "   Unnamed: 0       homeTeam homeScore        awayteam awayscore      round  \\\n",
       "0           0    Club Brugge         1        Juventus         2  round : 1   \n",
       "1           1  SK Rapid Wien         0  Bayern München         1  round : 1   \n",
       "2           2        Arsenal         2         FC Thun         1  round : 1   \n",
       "3           3   Sparta Praha         1            Ajax         1  round : 1   \n",
       "4           4        Udinese         3   Panathinaikos         0  round : 1   \n",
       "\n",
       "  group        date  \n",
       "0     A  2005-09-14  \n",
       "1     A  2005-09-14  \n",
       "2     B  2005-09-14  \n",
       "3     B  2005-09-14  \n",
       "4     C  2005-09-14  "
      ]
     },
     "execution_count": 1243,
     "metadata": {},
     "output_type": "execute_result"
    }
   ],
   "source": [
    "uefa_raw_df.head()"
   ]
  },
  {
   "cell_type": "code",
   "execution_count": 1244,
   "id": "28a42c57",
   "metadata": {},
   "outputs": [
    {
     "name": "stdout",
     "output_type": "stream",
     "text": [
      "<class 'pandas.core.frame.DataFrame'>\n",
      "RangeIndex: 1738 entries, 0 to 1737\n",
      "Data columns (total 8 columns):\n",
      " #   Column      Non-Null Count  Dtype \n",
      "---  ------      --------------  ----- \n",
      " 0   Unnamed: 0  1738 non-null   int64 \n",
      " 1   homeTeam    1738 non-null   object\n",
      " 2   homeScore   1738 non-null   object\n",
      " 3   awayteam    1738 non-null   object\n",
      " 4   awayscore   1738 non-null   object\n",
      " 5   round       1738 non-null   object\n",
      " 6   group       1280 non-null   object\n",
      " 7   date        1738 non-null   object\n",
      "dtypes: int64(1), object(7)\n",
      "memory usage: 108.8+ KB\n"
     ]
    }
   ],
   "source": [
    "uefa_raw_df.info()"
   ]
  },
  {
   "cell_type": "code",
   "execution_count": 1245,
   "id": "47a3f96c",
   "metadata": {},
   "outputs": [
    {
     "data": {
      "text/plain": [
       "(1738, 8)"
      ]
     },
     "execution_count": 1245,
     "metadata": {},
     "output_type": "execute_result"
    }
   ],
   "source": [
    "uefa_raw_df.shape"
   ]
  },
  {
   "cell_type": "code",
   "execution_count": 1246,
   "id": "3580373b",
   "metadata": {},
   "outputs": [
    {
     "data": {
      "text/html": [
       "<div>\n",
       "<style scoped>\n",
       "    .dataframe tbody tr th:only-of-type {\n",
       "        vertical-align: middle;\n",
       "    }\n",
       "\n",
       "    .dataframe tbody tr th {\n",
       "        vertical-align: top;\n",
       "    }\n",
       "\n",
       "    .dataframe thead th {\n",
       "        text-align: right;\n",
       "    }\n",
       "</style>\n",
       "<table border=\"1\" class=\"dataframe\">\n",
       "  <thead>\n",
       "    <tr style=\"text-align: right;\">\n",
       "      <th></th>\n",
       "      <th>Unnamed: 0</th>\n",
       "      <th>homeTeam</th>\n",
       "      <th>homeScore</th>\n",
       "      <th>awayteam</th>\n",
       "      <th>awayscore</th>\n",
       "      <th>round</th>\n",
       "      <th>group</th>\n",
       "      <th>date</th>\n",
       "    </tr>\n",
       "  </thead>\n",
       "  <tbody>\n",
       "    <tr>\n",
       "      <th>0</th>\n",
       "      <td>0</td>\n",
       "      <td>Club Brugge</td>\n",
       "      <td>1</td>\n",
       "      <td>Juventus</td>\n",
       "      <td>2</td>\n",
       "      <td>round : 1</td>\n",
       "      <td>A</td>\n",
       "      <td>2005-09-14</td>\n",
       "    </tr>\n",
       "    <tr>\n",
       "      <th>1</th>\n",
       "      <td>1</td>\n",
       "      <td>SK Rapid Wien</td>\n",
       "      <td>0</td>\n",
       "      <td>Bayern München</td>\n",
       "      <td>1</td>\n",
       "      <td>round : 1</td>\n",
       "      <td>A</td>\n",
       "      <td>2005-09-14</td>\n",
       "    </tr>\n",
       "    <tr>\n",
       "      <th>2</th>\n",
       "      <td>2</td>\n",
       "      <td>Arsenal</td>\n",
       "      <td>2</td>\n",
       "      <td>FC Thun</td>\n",
       "      <td>1</td>\n",
       "      <td>round : 1</td>\n",
       "      <td>B</td>\n",
       "      <td>2005-09-14</td>\n",
       "    </tr>\n",
       "    <tr>\n",
       "      <th>3</th>\n",
       "      <td>3</td>\n",
       "      <td>Sparta Praha</td>\n",
       "      <td>1</td>\n",
       "      <td>Ajax</td>\n",
       "      <td>1</td>\n",
       "      <td>round : 1</td>\n",
       "      <td>B</td>\n",
       "      <td>2005-09-14</td>\n",
       "    </tr>\n",
       "    <tr>\n",
       "      <th>4</th>\n",
       "      <td>4</td>\n",
       "      <td>Udinese</td>\n",
       "      <td>3</td>\n",
       "      <td>Panathinaikos</td>\n",
       "      <td>0</td>\n",
       "      <td>round : 1</td>\n",
       "      <td>C</td>\n",
       "      <td>2005-09-14</td>\n",
       "    </tr>\n",
       "  </tbody>\n",
       "</table>\n",
       "</div>"
      ],
      "text/plain": [
       "   Unnamed: 0       homeTeam homeScore        awayteam awayscore      round  \\\n",
       "0           0    Club Brugge         1        Juventus         2  round : 1   \n",
       "1           1  SK Rapid Wien         0  Bayern München         1  round : 1   \n",
       "2           2        Arsenal         2         FC Thun         1  round : 1   \n",
       "3           3   Sparta Praha         1            Ajax         1  round : 1   \n",
       "4           4        Udinese         3   Panathinaikos         0  round : 1   \n",
       "\n",
       "  group        date  \n",
       "0     A  2005-09-14  \n",
       "1     A  2005-09-14  \n",
       "2     B  2005-09-14  \n",
       "3     B  2005-09-14  \n",
       "4     C  2005-09-14  "
      ]
     },
     "execution_count": 1246,
     "metadata": {},
     "output_type": "execute_result"
    }
   ],
   "source": [
    "uefa_raw_df.head()"
   ]
  },
  {
   "cell_type": "code",
   "execution_count": 1247,
   "id": "48bcb973",
   "metadata": {},
   "outputs": [],
   "source": [
    "uefa_player_raw_df = pd.read_csv('../UEFA_CL_Player_stats.csv')"
   ]
  },
  {
   "cell_type": "code",
   "execution_count": 1248,
   "id": "8ea617a6",
   "metadata": {},
   "outputs": [
    {
     "data": {
      "text/html": [
       "<div>\n",
       "<style scoped>\n",
       "    .dataframe tbody tr th:only-of-type {\n",
       "        vertical-align: middle;\n",
       "    }\n",
       "\n",
       "    .dataframe tbody tr th {\n",
       "        vertical-align: top;\n",
       "    }\n",
       "\n",
       "    .dataframe thead th {\n",
       "        text-align: right;\n",
       "    }\n",
       "</style>\n",
       "<table border=\"1\" class=\"dataframe\">\n",
       "  <thead>\n",
       "    <tr style=\"text-align: right;\">\n",
       "      <th></th>\n",
       "      <th>Unnamed: 0</th>\n",
       "      <th>name</th>\n",
       "      <th>season</th>\n",
       "      <th>season year</th>\n",
       "      <th>team</th>\n",
       "      <th>rating</th>\n",
       "      <th>goals</th>\n",
       "      <th>bigChancesCreated</th>\n",
       "      <th>bigChancesMissed</th>\n",
       "      <th>assists</th>\n",
       "      <th>...</th>\n",
       "      <th>scoringFrequency</th>\n",
       "      <th>yellowRedCards</th>\n",
       "      <th>savesCaught</th>\n",
       "      <th>savesParried</th>\n",
       "      <th>totalOwnHalfPasses</th>\n",
       "      <th>totalOppositionHalfPasses</th>\n",
       "      <th>totwAppearances</th>\n",
       "      <th>appearances</th>\n",
       "      <th>substitutionsIn</th>\n",
       "      <th>substitutionsOut</th>\n",
       "    </tr>\n",
       "  </thead>\n",
       "  <tbody>\n",
       "    <tr>\n",
       "      <th>0</th>\n",
       "      <td>0</td>\n",
       "      <td>Robin van Persie</td>\n",
       "      <td>Champions League 13/14</td>\n",
       "      <td>13/14</td>\n",
       "      <td>manchester-united</td>\n",
       "      <td>NaN</td>\n",
       "      <td>4</td>\n",
       "      <td>NaN</td>\n",
       "      <td>NaN</td>\n",
       "      <td>NaN</td>\n",
       "      <td>...</td>\n",
       "      <td>NaN</td>\n",
       "      <td>NaN</td>\n",
       "      <td>NaN</td>\n",
       "      <td>NaN</td>\n",
       "      <td>NaN</td>\n",
       "      <td>NaN</td>\n",
       "      <td>NaN</td>\n",
       "      <td>6</td>\n",
       "      <td>NaN</td>\n",
       "      <td>NaN</td>\n",
       "    </tr>\n",
       "    <tr>\n",
       "      <th>1</th>\n",
       "      <td>1</td>\n",
       "      <td>Ashley Cole</td>\n",
       "      <td>Champions League 13/14</td>\n",
       "      <td>13/14</td>\n",
       "      <td>chelsea</td>\n",
       "      <td>NaN</td>\n",
       "      <td>0</td>\n",
       "      <td>NaN</td>\n",
       "      <td>NaN</td>\n",
       "      <td>0.0</td>\n",
       "      <td>...</td>\n",
       "      <td>NaN</td>\n",
       "      <td>0.0</td>\n",
       "      <td>NaN</td>\n",
       "      <td>NaN</td>\n",
       "      <td>NaN</td>\n",
       "      <td>NaN</td>\n",
       "      <td>NaN</td>\n",
       "      <td>5</td>\n",
       "      <td>0.0</td>\n",
       "      <td>1.0</td>\n",
       "    </tr>\n",
       "    <tr>\n",
       "      <th>2</th>\n",
       "      <td>2</td>\n",
       "      <td>José Antonio Reyes</td>\n",
       "      <td>UEFA Champions League 15/16</td>\n",
       "      <td>15/16</td>\n",
       "      <td>sevilla</td>\n",
       "      <td>7.25</td>\n",
       "      <td>0</td>\n",
       "      <td>0.0</td>\n",
       "      <td>1.0</td>\n",
       "      <td>0.0</td>\n",
       "      <td>...</td>\n",
       "      <td>NaN</td>\n",
       "      <td>0.0</td>\n",
       "      <td>0.0</td>\n",
       "      <td>0.0</td>\n",
       "      <td>23.0</td>\n",
       "      <td>68.0</td>\n",
       "      <td>NaN</td>\n",
       "      <td>2</td>\n",
       "      <td>NaN</td>\n",
       "      <td>NaN</td>\n",
       "    </tr>\n",
       "    <tr>\n",
       "      <th>3</th>\n",
       "      <td>3</td>\n",
       "      <td>Roman Weidenfeller</td>\n",
       "      <td>Champions League 13/14</td>\n",
       "      <td>13/14</td>\n",
       "      <td>borussia-dortmund</td>\n",
       "      <td>NaN</td>\n",
       "      <td>0</td>\n",
       "      <td>NaN</td>\n",
       "      <td>NaN</td>\n",
       "      <td>0.0</td>\n",
       "      <td>...</td>\n",
       "      <td>NaN</td>\n",
       "      <td>0.0</td>\n",
       "      <td>NaN</td>\n",
       "      <td>NaN</td>\n",
       "      <td>NaN</td>\n",
       "      <td>NaN</td>\n",
       "      <td>NaN</td>\n",
       "      <td>9</td>\n",
       "      <td>0.0</td>\n",
       "      <td>0.0</td>\n",
       "    </tr>\n",
       "    <tr>\n",
       "      <th>4</th>\n",
       "      <td>4</td>\n",
       "      <td>Roman Weidenfeller</td>\n",
       "      <td>Champions League 14/15</td>\n",
       "      <td>14/15</td>\n",
       "      <td>borussia-dortmund</td>\n",
       "      <td>NaN</td>\n",
       "      <td>0</td>\n",
       "      <td>NaN</td>\n",
       "      <td>NaN</td>\n",
       "      <td>0.0</td>\n",
       "      <td>...</td>\n",
       "      <td>NaN</td>\n",
       "      <td>0.0</td>\n",
       "      <td>NaN</td>\n",
       "      <td>NaN</td>\n",
       "      <td>NaN</td>\n",
       "      <td>NaN</td>\n",
       "      <td>NaN</td>\n",
       "      <td>7</td>\n",
       "      <td>0.0</td>\n",
       "      <td>0.0</td>\n",
       "    </tr>\n",
       "  </tbody>\n",
       "</table>\n",
       "<p>5 rows × 109 columns</p>\n",
       "</div>"
      ],
      "text/plain": [
       "   Unnamed: 0                name                       season season year  \\\n",
       "0           0    Robin van Persie       Champions League 13/14       13/14   \n",
       "1           1         Ashley Cole       Champions League 13/14       13/14   \n",
       "2           2  José Antonio Reyes  UEFA Champions League 15/16       15/16   \n",
       "3           3  Roman Weidenfeller       Champions League 13/14       13/14   \n",
       "4           4  Roman Weidenfeller       Champions League 14/15       14/15   \n",
       "\n",
       "                team  rating  goals  bigChancesCreated  bigChancesMissed  \\\n",
       "0  manchester-united     NaN      4                NaN               NaN   \n",
       "1            chelsea     NaN      0                NaN               NaN   \n",
       "2            sevilla    7.25      0                0.0               1.0   \n",
       "3  borussia-dortmund     NaN      0                NaN               NaN   \n",
       "4  borussia-dortmund     NaN      0                NaN               NaN   \n",
       "\n",
       "   assists  ...  scoringFrequency  yellowRedCards  savesCaught  savesParried  \\\n",
       "0      NaN  ...               NaN             NaN          NaN           NaN   \n",
       "1      0.0  ...               NaN             0.0          NaN           NaN   \n",
       "2      0.0  ...               NaN             0.0          0.0           0.0   \n",
       "3      0.0  ...               NaN             0.0          NaN           NaN   \n",
       "4      0.0  ...               NaN             0.0          NaN           NaN   \n",
       "\n",
       "   totalOwnHalfPasses  totalOppositionHalfPasses  totwAppearances  \\\n",
       "0                 NaN                        NaN              NaN   \n",
       "1                 NaN                        NaN              NaN   \n",
       "2                23.0                       68.0              NaN   \n",
       "3                 NaN                        NaN              NaN   \n",
       "4                 NaN                        NaN              NaN   \n",
       "\n",
       "   appearances  substitutionsIn  substitutionsOut  \n",
       "0            6              NaN               NaN  \n",
       "1            5              0.0               1.0  \n",
       "2            2              NaN               NaN  \n",
       "3            9              0.0               0.0  \n",
       "4            7              0.0               0.0  \n",
       "\n",
       "[5 rows x 109 columns]"
      ]
     },
     "execution_count": 1248,
     "metadata": {},
     "output_type": "execute_result"
    }
   ],
   "source": [
    "uefa_player_raw_df.head()"
   ]
  },
  {
   "cell_type": "code",
   "execution_count": 1249,
   "id": "6e3adbd3",
   "metadata": {},
   "outputs": [
    {
     "data": {
      "text/plain": [
       "Index(['Unnamed: 0', 'name', 'season', 'season year', 'team', 'rating',\n",
       "       'goals', 'bigChancesCreated', 'bigChancesMissed', 'assists',\n",
       "       ...\n",
       "       'scoringFrequency', 'yellowRedCards', 'savesCaught', 'savesParried',\n",
       "       'totalOwnHalfPasses', 'totalOppositionHalfPasses', 'totwAppearances',\n",
       "       'appearances', 'substitutionsIn', 'substitutionsOut'],\n",
       "      dtype='object', length=109)"
      ]
     },
     "execution_count": 1249,
     "metadata": {},
     "output_type": "execute_result"
    }
   ],
   "source": [
    "uefa_player_raw_df.columns"
   ]
  },
  {
   "cell_type": "code",
   "execution_count": 1250,
   "id": "2535f975",
   "metadata": {},
   "outputs": [
    {
     "name": "stdout",
     "output_type": "stream",
     "text": [
      "<class 'pandas.core.frame.DataFrame'>\n",
      "RangeIndex: 5733 entries, 0 to 5732\n",
      "Columns: 109 entries, Unnamed: 0 to substitutionsOut\n",
      "dtypes: float64(101), int64(4), object(4)\n",
      "memory usage: 4.8+ MB\n"
     ]
    }
   ],
   "source": [
    "uefa_player_raw_df.info()"
   ]
  },
  {
   "cell_type": "code",
   "execution_count": 1251,
   "id": "6ac87aef",
   "metadata": {},
   "outputs": [
    {
     "data": {
      "text/plain": [
       "Unnamed: 0                      0\n",
       "name                            0\n",
       "season                          0\n",
       "season year                     0\n",
       "team                            0\n",
       "                             ... \n",
       "totalOppositionHalfPasses    1664\n",
       "totwAppearances              4543\n",
       "appearances                     0\n",
       "substitutionsIn              4167\n",
       "substitutionsOut             4167\n",
       "Length: 109, dtype: int64"
      ]
     },
     "execution_count": 1251,
     "metadata": {},
     "output_type": "execute_result"
    }
   ],
   "source": [
    "uefa_player_raw_df.isnull().sum()"
   ]
  },
  {
   "cell_type": "code",
   "execution_count": 1252,
   "id": "9f59ecf1",
   "metadata": {},
   "outputs": [
    {
     "data": {
      "text/plain": [
       "Unnamed: 0      0\n",
       "homeTeam        0\n",
       "homeScore       0\n",
       "awayteam        0\n",
       "awayscore       0\n",
       "round           0\n",
       "group         458\n",
       "date            0\n",
       "dtype: int64"
      ]
     },
     "execution_count": 1252,
     "metadata": {},
     "output_type": "execute_result"
    }
   ],
   "source": [
    "uefa_raw_df.isnull().sum()"
   ]
  },
  {
   "cell_type": "code",
   "execution_count": 1253,
   "id": "11f7960a",
   "metadata": {},
   "outputs": [
    {
     "data": {
      "text/plain": [
       "(5733, 109)"
      ]
     },
     "execution_count": 1253,
     "metadata": {},
     "output_type": "execute_result"
    }
   ],
   "source": [
    "uefa_player_raw_df.shape"
   ]
  },
  {
   "cell_type": "code",
   "execution_count": 1254,
   "id": "b5e08149",
   "metadata": {},
   "outputs": [],
   "source": [
    "uefa_player_needed_df = uefa_player_raw_df[(uefa_player_raw_df['season year'] == '19/20')]"
   ]
  },
  {
   "cell_type": "code",
   "execution_count": 1255,
   "id": "cec62b19",
   "metadata": {},
   "outputs": [
    {
     "data": {
      "text/plain": [
       "(685, 109)"
      ]
     },
     "execution_count": 1255,
     "metadata": {},
     "output_type": "execute_result"
    }
   ],
   "source": [
    "uefa_player_needed_df.shape"
   ]
  },
  {
   "cell_type": "code",
   "execution_count": 1256,
   "id": "c50c16e7",
   "metadata": {},
   "outputs": [],
   "source": [
    "import datetime as dt\n",
    "uefa_raw_df['date'] = pd.to_datetime(uefa_raw_df['date'])"
   ]
  },
  {
   "cell_type": "code",
   "execution_count": 1257,
   "id": "898ccc5f",
   "metadata": {},
   "outputs": [],
   "source": [
    "uefa_raw_df['year'] = uefa_raw_df['date'].dt.year"
   ]
  },
  {
   "cell_type": "code",
   "execution_count": 1258,
   "id": "f042fb8b",
   "metadata": {},
   "outputs": [
    {
     "data": {
      "text/html": [
       "<div>\n",
       "<style scoped>\n",
       "    .dataframe tbody tr th:only-of-type {\n",
       "        vertical-align: middle;\n",
       "    }\n",
       "\n",
       "    .dataframe tbody tr th {\n",
       "        vertical-align: top;\n",
       "    }\n",
       "\n",
       "    .dataframe thead th {\n",
       "        text-align: right;\n",
       "    }\n",
       "</style>\n",
       "<table border=\"1\" class=\"dataframe\">\n",
       "  <thead>\n",
       "    <tr style=\"text-align: right;\">\n",
       "      <th></th>\n",
       "      <th>Unnamed: 0</th>\n",
       "      <th>homeTeam</th>\n",
       "      <th>homeScore</th>\n",
       "      <th>awayteam</th>\n",
       "      <th>awayscore</th>\n",
       "      <th>round</th>\n",
       "      <th>group</th>\n",
       "      <th>date</th>\n",
       "      <th>year</th>\n",
       "    </tr>\n",
       "  </thead>\n",
       "  <tbody>\n",
       "    <tr>\n",
       "      <th>0</th>\n",
       "      <td>0</td>\n",
       "      <td>Club Brugge</td>\n",
       "      <td>1</td>\n",
       "      <td>Juventus</td>\n",
       "      <td>2</td>\n",
       "      <td>round : 1</td>\n",
       "      <td>A</td>\n",
       "      <td>2005-09-14</td>\n",
       "      <td>2005</td>\n",
       "    </tr>\n",
       "    <tr>\n",
       "      <th>1</th>\n",
       "      <td>1</td>\n",
       "      <td>SK Rapid Wien</td>\n",
       "      <td>0</td>\n",
       "      <td>Bayern München</td>\n",
       "      <td>1</td>\n",
       "      <td>round : 1</td>\n",
       "      <td>A</td>\n",
       "      <td>2005-09-14</td>\n",
       "      <td>2005</td>\n",
       "    </tr>\n",
       "    <tr>\n",
       "      <th>2</th>\n",
       "      <td>2</td>\n",
       "      <td>Arsenal</td>\n",
       "      <td>2</td>\n",
       "      <td>FC Thun</td>\n",
       "      <td>1</td>\n",
       "      <td>round : 1</td>\n",
       "      <td>B</td>\n",
       "      <td>2005-09-14</td>\n",
       "      <td>2005</td>\n",
       "    </tr>\n",
       "    <tr>\n",
       "      <th>3</th>\n",
       "      <td>3</td>\n",
       "      <td>Sparta Praha</td>\n",
       "      <td>1</td>\n",
       "      <td>Ajax</td>\n",
       "      <td>1</td>\n",
       "      <td>round : 1</td>\n",
       "      <td>B</td>\n",
       "      <td>2005-09-14</td>\n",
       "      <td>2005</td>\n",
       "    </tr>\n",
       "    <tr>\n",
       "      <th>4</th>\n",
       "      <td>4</td>\n",
       "      <td>Udinese</td>\n",
       "      <td>3</td>\n",
       "      <td>Panathinaikos</td>\n",
       "      <td>0</td>\n",
       "      <td>round : 1</td>\n",
       "      <td>C</td>\n",
       "      <td>2005-09-14</td>\n",
       "      <td>2005</td>\n",
       "    </tr>\n",
       "  </tbody>\n",
       "</table>\n",
       "</div>"
      ],
      "text/plain": [
       "   Unnamed: 0       homeTeam homeScore        awayteam awayscore      round  \\\n",
       "0           0    Club Brugge         1        Juventus         2  round : 1   \n",
       "1           1  SK Rapid Wien         0  Bayern München         1  round : 1   \n",
       "2           2        Arsenal         2         FC Thun         1  round : 1   \n",
       "3           3   Sparta Praha         1            Ajax         1  round : 1   \n",
       "4           4        Udinese         3   Panathinaikos         0  round : 1   \n",
       "\n",
       "  group       date  year  \n",
       "0     A 2005-09-14  2005  \n",
       "1     A 2005-09-14  2005  \n",
       "2     B 2005-09-14  2005  \n",
       "3     B 2005-09-14  2005  \n",
       "4     C 2005-09-14  2005  "
      ]
     },
     "execution_count": 1258,
     "metadata": {},
     "output_type": "execute_result"
    }
   ],
   "source": [
    "uefa_raw_df.head()"
   ]
  },
  {
   "cell_type": "code",
   "execution_count": 1259,
   "id": "bc1f3d16",
   "metadata": {},
   "outputs": [],
   "source": [
    "uefa_needed_df = uefa_raw_df[(uefa_raw_df['year'] ==2019)]"
   ]
  },
  {
   "cell_type": "code",
   "execution_count": 1260,
   "id": "0954cde1",
   "metadata": {},
   "outputs": [
    {
     "data": {
      "text/plain": [
       "(109, 9)"
      ]
     },
     "execution_count": 1260,
     "metadata": {},
     "output_type": "execute_result"
    }
   ],
   "source": [
    "uefa_needed_df.shape"
   ]
  },
  {
   "cell_type": "code",
   "execution_count": 1261,
   "id": "cdbc3553",
   "metadata": {},
   "outputs": [
    {
     "data": {
      "text/html": [
       "<div>\n",
       "<style scoped>\n",
       "    .dataframe tbody tr th:only-of-type {\n",
       "        vertical-align: middle;\n",
       "    }\n",
       "\n",
       "    .dataframe tbody tr th {\n",
       "        vertical-align: top;\n",
       "    }\n",
       "\n",
       "    .dataframe thead th {\n",
       "        text-align: right;\n",
       "    }\n",
       "</style>\n",
       "<table border=\"1\" class=\"dataframe\">\n",
       "  <thead>\n",
       "    <tr style=\"text-align: right;\">\n",
       "      <th></th>\n",
       "      <th>Unnamed: 0</th>\n",
       "      <th>homeTeam</th>\n",
       "      <th>homeScore</th>\n",
       "      <th>awayteam</th>\n",
       "      <th>awayscore</th>\n",
       "      <th>round</th>\n",
       "      <th>group</th>\n",
       "      <th>date</th>\n",
       "      <th>year</th>\n",
       "    </tr>\n",
       "  </thead>\n",
       "  <tbody>\n",
       "    <tr>\n",
       "      <th>1497</th>\n",
       "      <td>1497</td>\n",
       "      <td>Manchester United</td>\n",
       "      <td>0</td>\n",
       "      <td>Paris Saint-Germain</td>\n",
       "      <td>2</td>\n",
       "      <td>round : 18</td>\n",
       "      <td>NaN</td>\n",
       "      <td>2019-02-12</td>\n",
       "      <td>2019</td>\n",
       "    </tr>\n",
       "    <tr>\n",
       "      <th>1498</th>\n",
       "      <td>1498</td>\n",
       "      <td>Roma</td>\n",
       "      <td>2</td>\n",
       "      <td>FC Porto</td>\n",
       "      <td>1</td>\n",
       "      <td>round : 18</td>\n",
       "      <td>NaN</td>\n",
       "      <td>2019-02-12</td>\n",
       "      <td>2019</td>\n",
       "    </tr>\n",
       "    <tr>\n",
       "      <th>1499</th>\n",
       "      <td>1499</td>\n",
       "      <td>Ajax</td>\n",
       "      <td>1</td>\n",
       "      <td>Real Madrid</td>\n",
       "      <td>2</td>\n",
       "      <td>round : 18</td>\n",
       "      <td>NaN</td>\n",
       "      <td>2019-02-13</td>\n",
       "      <td>2019</td>\n",
       "    </tr>\n",
       "    <tr>\n",
       "      <th>1500</th>\n",
       "      <td>1500</td>\n",
       "      <td>Tottenham</td>\n",
       "      <td>3</td>\n",
       "      <td>Borussia Dortmund</td>\n",
       "      <td>0</td>\n",
       "      <td>round : 18</td>\n",
       "      <td>NaN</td>\n",
       "      <td>2019-02-13</td>\n",
       "      <td>2019</td>\n",
       "    </tr>\n",
       "    <tr>\n",
       "      <th>1501</th>\n",
       "      <td>1501</td>\n",
       "      <td>Liverpool</td>\n",
       "      <td>0</td>\n",
       "      <td>Bayern München</td>\n",
       "      <td>0</td>\n",
       "      <td>round : 18</td>\n",
       "      <td>NaN</td>\n",
       "      <td>2019-02-19</td>\n",
       "      <td>2019</td>\n",
       "    </tr>\n",
       "  </tbody>\n",
       "</table>\n",
       "</div>"
      ],
      "text/plain": [
       "      Unnamed: 0           homeTeam homeScore             awayteam awayscore  \\\n",
       "1497        1497  Manchester United         0  Paris Saint-Germain         2   \n",
       "1498        1498               Roma         2             FC Porto         1   \n",
       "1499        1499               Ajax         1          Real Madrid         2   \n",
       "1500        1500          Tottenham         3    Borussia Dortmund         0   \n",
       "1501        1501          Liverpool         0       Bayern München         0   \n",
       "\n",
       "           round group       date  year  \n",
       "1497  round : 18   NaN 2019-02-12  2019  \n",
       "1498  round : 18   NaN 2019-02-12  2019  \n",
       "1499  round : 18   NaN 2019-02-13  2019  \n",
       "1500  round : 18   NaN 2019-02-13  2019  \n",
       "1501  round : 18   NaN 2019-02-19  2019  "
      ]
     },
     "execution_count": 1261,
     "metadata": {},
     "output_type": "execute_result"
    }
   ],
   "source": [
    "uefa_needed_df.head()"
   ]
  },
  {
   "cell_type": "code",
   "execution_count": 1262,
   "id": "dc8d1108",
   "metadata": {},
   "outputs": [
    {
     "data": {
      "text/plain": [
       "29"
      ]
     },
     "execution_count": 1262,
     "metadata": {},
     "output_type": "execute_result"
    }
   ],
   "source": [
    "uefa_needed_df['group'].isnull().sum()"
   ]
  },
  {
   "cell_type": "code",
   "execution_count": 1263,
   "id": "d459e5f6",
   "metadata": {},
   "outputs": [],
   "source": [
    "uefa_group_stage_df = uefa_needed_df.drop(uefa_needed_df[uefa_needed_df['group'].isnull()].index, axis=0)"
   ]
  },
  {
   "cell_type": "code",
   "execution_count": 1264,
   "id": "992a446b",
   "metadata": {},
   "outputs": [
    {
     "data": {
      "text/plain": [
       "(80, 9)"
      ]
     },
     "execution_count": 1264,
     "metadata": {},
     "output_type": "execute_result"
    }
   ],
   "source": [
    "uefa_group_stage_df.shape"
   ]
  },
  {
   "cell_type": "code",
   "execution_count": 1265,
   "id": "8a8c5146",
   "metadata": {},
   "outputs": [
    {
     "data": {
      "text/html": [
       "<div>\n",
       "<style scoped>\n",
       "    .dataframe tbody tr th:only-of-type {\n",
       "        vertical-align: middle;\n",
       "    }\n",
       "\n",
       "    .dataframe tbody tr th {\n",
       "        vertical-align: top;\n",
       "    }\n",
       "\n",
       "    .dataframe thead th {\n",
       "        text-align: right;\n",
       "    }\n",
       "</style>\n",
       "<table border=\"1\" class=\"dataframe\">\n",
       "  <thead>\n",
       "    <tr style=\"text-align: right;\">\n",
       "      <th></th>\n",
       "      <th>Unnamed: 0</th>\n",
       "      <th>homeTeam</th>\n",
       "      <th>homeScore</th>\n",
       "      <th>awayteam</th>\n",
       "      <th>awayscore</th>\n",
       "      <th>round</th>\n",
       "      <th>group</th>\n",
       "      <th>date</th>\n",
       "      <th>year</th>\n",
       "    </tr>\n",
       "  </thead>\n",
       "  <tbody>\n",
       "    <tr>\n",
       "      <th>1526</th>\n",
       "      <td>1526</td>\n",
       "      <td>Club Brugge</td>\n",
       "      <td>0</td>\n",
       "      <td>Galatasaray</td>\n",
       "      <td>0</td>\n",
       "      <td>round : 1</td>\n",
       "      <td>A</td>\n",
       "      <td>2019-09-18</td>\n",
       "      <td>2019</td>\n",
       "    </tr>\n",
       "    <tr>\n",
       "      <th>1527</th>\n",
       "      <td>1527</td>\n",
       "      <td>Paris Saint-Germain</td>\n",
       "      <td>3</td>\n",
       "      <td>Real Madrid</td>\n",
       "      <td>0</td>\n",
       "      <td>round : 1</td>\n",
       "      <td>A</td>\n",
       "      <td>2019-09-18</td>\n",
       "      <td>2019</td>\n",
       "    </tr>\n",
       "    <tr>\n",
       "      <th>1528</th>\n",
       "      <td>1528</td>\n",
       "      <td>Olympiacos</td>\n",
       "      <td>2</td>\n",
       "      <td>Tottenham</td>\n",
       "      <td>2</td>\n",
       "      <td>round : 1</td>\n",
       "      <td>B</td>\n",
       "      <td>2019-09-18</td>\n",
       "      <td>2019</td>\n",
       "    </tr>\n",
       "    <tr>\n",
       "      <th>1529</th>\n",
       "      <td>1529</td>\n",
       "      <td>Bayern München</td>\n",
       "      <td>3</td>\n",
       "      <td>FK Crvena zvezda</td>\n",
       "      <td>0</td>\n",
       "      <td>round : 1</td>\n",
       "      <td>B</td>\n",
       "      <td>2019-09-18</td>\n",
       "      <td>2019</td>\n",
       "    </tr>\n",
       "    <tr>\n",
       "      <th>1530</th>\n",
       "      <td>1530</td>\n",
       "      <td>GNK Dinamo Zagreb</td>\n",
       "      <td>4</td>\n",
       "      <td>Atalanta</td>\n",
       "      <td>0</td>\n",
       "      <td>round : 1</td>\n",
       "      <td>C</td>\n",
       "      <td>2019-09-18</td>\n",
       "      <td>2019</td>\n",
       "    </tr>\n",
       "  </tbody>\n",
       "</table>\n",
       "</div>"
      ],
      "text/plain": [
       "      Unnamed: 0             homeTeam homeScore          awayteam awayscore  \\\n",
       "1526        1526          Club Brugge         0       Galatasaray         0   \n",
       "1527        1527  Paris Saint-Germain         3       Real Madrid         0   \n",
       "1528        1528           Olympiacos         2         Tottenham         2   \n",
       "1529        1529       Bayern München         3  FK Crvena zvezda         0   \n",
       "1530        1530    GNK Dinamo Zagreb         4          Atalanta         0   \n",
       "\n",
       "          round group       date  year  \n",
       "1526  round : 1     A 2019-09-18  2019  \n",
       "1527  round : 1     A 2019-09-18  2019  \n",
       "1528  round : 1     B 2019-09-18  2019  \n",
       "1529  round : 1     B 2019-09-18  2019  \n",
       "1530  round : 1     C 2019-09-18  2019  "
      ]
     },
     "execution_count": 1265,
     "metadata": {},
     "output_type": "execute_result"
    }
   ],
   "source": [
    "uefa_group_stage_df.head()"
   ]
  },
  {
   "cell_type": "code",
   "execution_count": 1266,
   "id": "52ad9d1c",
   "metadata": {},
   "outputs": [
    {
     "data": {
      "text/plain": [
       "(685, 109)"
      ]
     },
     "execution_count": 1266,
     "metadata": {},
     "output_type": "execute_result"
    }
   ],
   "source": [
    "uefa_player_needed_df.shape"
   ]
  },
  {
   "cell_type": "code",
   "execution_count": 1267,
   "id": "a646da3f",
   "metadata": {},
   "outputs": [],
   "source": [
    "sorted_player_list = uefa_player_needed_df.sort_values(by=['rating'],ascending=False)"
   ]
  },
  {
   "cell_type": "code",
   "execution_count": 1268,
   "id": "d1a4a9ed",
   "metadata": {},
   "outputs": [
    {
     "data": {
      "text/plain": [
       "6.7714285714286"
      ]
     },
     "execution_count": 1268,
     "metadata": {},
     "output_type": "execute_result"
    }
   ],
   "source": [
    "sorted_player_list['rating'].median()"
   ]
  },
  {
   "cell_type": "code",
   "execution_count": 1269,
   "id": "70f0b583",
   "metadata": {},
   "outputs": [
    {
     "data": {
      "text/html": [
       "<div>\n",
       "<style scoped>\n",
       "    .dataframe tbody tr th:only-of-type {\n",
       "        vertical-align: middle;\n",
       "    }\n",
       "\n",
       "    .dataframe tbody tr th {\n",
       "        vertical-align: top;\n",
       "    }\n",
       "\n",
       "    .dataframe thead th {\n",
       "        text-align: right;\n",
       "    }\n",
       "</style>\n",
       "<table border=\"1\" class=\"dataframe\">\n",
       "  <thead>\n",
       "    <tr style=\"text-align: right;\">\n",
       "      <th></th>\n",
       "      <th>Unnamed: 0</th>\n",
       "      <th>name</th>\n",
       "      <th>season</th>\n",
       "      <th>season year</th>\n",
       "      <th>team</th>\n",
       "      <th>rating</th>\n",
       "      <th>goals</th>\n",
       "      <th>bigChancesCreated</th>\n",
       "      <th>bigChancesMissed</th>\n",
       "      <th>assists</th>\n",
       "      <th>...</th>\n",
       "      <th>scoringFrequency</th>\n",
       "      <th>yellowRedCards</th>\n",
       "      <th>savesCaught</th>\n",
       "      <th>savesParried</th>\n",
       "      <th>totalOwnHalfPasses</th>\n",
       "      <th>totalOppositionHalfPasses</th>\n",
       "      <th>totwAppearances</th>\n",
       "      <th>appearances</th>\n",
       "      <th>substitutionsIn</th>\n",
       "      <th>substitutionsOut</th>\n",
       "    </tr>\n",
       "  </thead>\n",
       "  <tbody>\n",
       "    <tr>\n",
       "      <th>2072</th>\n",
       "      <td>2072</td>\n",
       "      <td>Robert Lewandowski</td>\n",
       "      <td>UEFA Champions League 19/20</td>\n",
       "      <td>19/20</td>\n",
       "      <td>bayern-munchen</td>\n",
       "      <td>8.350000</td>\n",
       "      <td>15</td>\n",
       "      <td>6.0</td>\n",
       "      <td>11.0</td>\n",
       "      <td>5.0</td>\n",
       "      <td>...</td>\n",
       "      <td>59.133333</td>\n",
       "      <td>0.0</td>\n",
       "      <td>0.0</td>\n",
       "      <td>0.0</td>\n",
       "      <td>34.0</td>\n",
       "      <td>220.0</td>\n",
       "      <td>2.0</td>\n",
       "      <td>10</td>\n",
       "      <td>NaN</td>\n",
       "      <td>NaN</td>\n",
       "    </tr>\n",
       "    <tr>\n",
       "      <th>702</th>\n",
       "      <td>702</td>\n",
       "      <td>Lionel Messi</td>\n",
       "      <td>UEFA Champions League 19/20</td>\n",
       "      <td>19/20</td>\n",
       "      <td>barcelona</td>\n",
       "      <td>8.012500</td>\n",
       "      <td>3</td>\n",
       "      <td>7.0</td>\n",
       "      <td>4.0</td>\n",
       "      <td>3.0</td>\n",
       "      <td>...</td>\n",
       "      <td>220.333333</td>\n",
       "      <td>0.0</td>\n",
       "      <td>0.0</td>\n",
       "      <td>0.0</td>\n",
       "      <td>59.0</td>\n",
       "      <td>337.0</td>\n",
       "      <td>3.0</td>\n",
       "      <td>8</td>\n",
       "      <td>NaN</td>\n",
       "      <td>NaN</td>\n",
       "    </tr>\n",
       "    <tr>\n",
       "      <th>2885</th>\n",
       "      <td>2885</td>\n",
       "      <td>Neto</td>\n",
       "      <td>UEFA Champions League 19/20</td>\n",
       "      <td>19/20</td>\n",
       "      <td>barcelona</td>\n",
       "      <td>8.000000</td>\n",
       "      <td>0</td>\n",
       "      <td>0.0</td>\n",
       "      <td>0.0</td>\n",
       "      <td>0.0</td>\n",
       "      <td>...</td>\n",
       "      <td>0.000000</td>\n",
       "      <td>0.0</td>\n",
       "      <td>0.0</td>\n",
       "      <td>2.0</td>\n",
       "      <td>31.0</td>\n",
       "      <td>8.0</td>\n",
       "      <td>0.0</td>\n",
       "      <td>1</td>\n",
       "      <td>NaN</td>\n",
       "      <td>NaN</td>\n",
       "    </tr>\n",
       "    <tr>\n",
       "      <th>1449</th>\n",
       "      <td>1449</td>\n",
       "      <td>Toni Kroos</td>\n",
       "      <td>UEFA Champions League 19/20</td>\n",
       "      <td>19/20</td>\n",
       "      <td>real-madrid</td>\n",
       "      <td>7.966667</td>\n",
       "      <td>1</td>\n",
       "      <td>2.0</td>\n",
       "      <td>1.0</td>\n",
       "      <td>1.0</td>\n",
       "      <td>...</td>\n",
       "      <td>540.000000</td>\n",
       "      <td>0.0</td>\n",
       "      <td>0.0</td>\n",
       "      <td>0.0</td>\n",
       "      <td>155.0</td>\n",
       "      <td>372.0</td>\n",
       "      <td>2.0</td>\n",
       "      <td>6</td>\n",
       "      <td>NaN</td>\n",
       "      <td>NaN</td>\n",
       "    </tr>\n",
       "    <tr>\n",
       "      <th>3241</th>\n",
       "      <td>3241</td>\n",
       "      <td>Harry Kane</td>\n",
       "      <td>UEFA Champions League 19/20</td>\n",
       "      <td>19/20</td>\n",
       "      <td>tottenham</td>\n",
       "      <td>7.960000</td>\n",
       "      <td>6</td>\n",
       "      <td>3.0</td>\n",
       "      <td>4.0</td>\n",
       "      <td>0.0</td>\n",
       "      <td>...</td>\n",
       "      <td>75.000000</td>\n",
       "      <td>0.0</td>\n",
       "      <td>0.0</td>\n",
       "      <td>0.0</td>\n",
       "      <td>12.0</td>\n",
       "      <td>91.0</td>\n",
       "      <td>1.0</td>\n",
       "      <td>5</td>\n",
       "      <td>NaN</td>\n",
       "      <td>NaN</td>\n",
       "    </tr>\n",
       "  </tbody>\n",
       "</table>\n",
       "<p>5 rows × 109 columns</p>\n",
       "</div>"
      ],
      "text/plain": [
       "      Unnamed: 0                name                       season season year  \\\n",
       "2072        2072  Robert Lewandowski  UEFA Champions League 19/20       19/20   \n",
       "702          702        Lionel Messi  UEFA Champions League 19/20       19/20   \n",
       "2885        2885                Neto  UEFA Champions League 19/20       19/20   \n",
       "1449        1449          Toni Kroos  UEFA Champions League 19/20       19/20   \n",
       "3241        3241          Harry Kane  UEFA Champions League 19/20       19/20   \n",
       "\n",
       "                team    rating  goals  bigChancesCreated  bigChancesMissed  \\\n",
       "2072  bayern-munchen  8.350000     15                6.0              11.0   \n",
       "702        barcelona  8.012500      3                7.0               4.0   \n",
       "2885       barcelona  8.000000      0                0.0               0.0   \n",
       "1449     real-madrid  7.966667      1                2.0               1.0   \n",
       "3241       tottenham  7.960000      6                3.0               4.0   \n",
       "\n",
       "      assists  ...  scoringFrequency  yellowRedCards  savesCaught  \\\n",
       "2072      5.0  ...         59.133333             0.0          0.0   \n",
       "702       3.0  ...        220.333333             0.0          0.0   \n",
       "2885      0.0  ...          0.000000             0.0          0.0   \n",
       "1449      1.0  ...        540.000000             0.0          0.0   \n",
       "3241      0.0  ...         75.000000             0.0          0.0   \n",
       "\n",
       "      savesParried  totalOwnHalfPasses  totalOppositionHalfPasses  \\\n",
       "2072           0.0                34.0                      220.0   \n",
       "702            0.0                59.0                      337.0   \n",
       "2885           2.0                31.0                        8.0   \n",
       "1449           0.0               155.0                      372.0   \n",
       "3241           0.0                12.0                       91.0   \n",
       "\n",
       "      totwAppearances  appearances  substitutionsIn  substitutionsOut  \n",
       "2072              2.0           10              NaN               NaN  \n",
       "702               3.0            8              NaN               NaN  \n",
       "2885              0.0            1              NaN               NaN  \n",
       "1449              2.0            6              NaN               NaN  \n",
       "3241              1.0            5              NaN               NaN  \n",
       "\n",
       "[5 rows x 109 columns]"
      ]
     },
     "execution_count": 1269,
     "metadata": {},
     "output_type": "execute_result"
    }
   ],
   "source": [
    "sorted_player_list.head()"
   ]
  },
  {
   "cell_type": "code",
   "execution_count": 1270,
   "id": "e7c42797",
   "metadata": {},
   "outputs": [],
   "source": [
    "value_player_list = sorted_player_list[sorted_player_list['rating'] > sorted_player_list['rating'].median()]"
   ]
  },
  {
   "cell_type": "code",
   "execution_count": 1271,
   "id": "888dc07e",
   "metadata": {},
   "outputs": [
    {
     "data": {
      "text/plain": [
       "(342, 109)"
      ]
     },
     "execution_count": 1271,
     "metadata": {},
     "output_type": "execute_result"
    }
   ],
   "source": [
    "value_player_list.shape"
   ]
  },
  {
   "cell_type": "code",
   "execution_count": 1272,
   "id": "9f5d118f",
   "metadata": {},
   "outputs": [
    {
     "data": {
      "text/html": [
       "<div>\n",
       "<style scoped>\n",
       "    .dataframe tbody tr th:only-of-type {\n",
       "        vertical-align: middle;\n",
       "    }\n",
       "\n",
       "    .dataframe tbody tr th {\n",
       "        vertical-align: top;\n",
       "    }\n",
       "\n",
       "    .dataframe thead th {\n",
       "        text-align: right;\n",
       "    }\n",
       "</style>\n",
       "<table border=\"1\" class=\"dataframe\">\n",
       "  <thead>\n",
       "    <tr style=\"text-align: right;\">\n",
       "      <th></th>\n",
       "      <th>Unnamed: 0</th>\n",
       "      <th>name</th>\n",
       "      <th>season</th>\n",
       "      <th>season year</th>\n",
       "      <th>team</th>\n",
       "      <th>rating</th>\n",
       "      <th>goals</th>\n",
       "      <th>bigChancesCreated</th>\n",
       "      <th>bigChancesMissed</th>\n",
       "      <th>assists</th>\n",
       "      <th>...</th>\n",
       "      <th>totalLongBalls</th>\n",
       "      <th>goalsConceded</th>\n",
       "      <th>tacklesWon</th>\n",
       "      <th>tacklesWonPercentage</th>\n",
       "      <th>scoringFrequency</th>\n",
       "      <th>savesCaught</th>\n",
       "      <th>savesParried</th>\n",
       "      <th>totalOwnHalfPasses</th>\n",
       "      <th>totalOppositionHalfPasses</th>\n",
       "      <th>appearances</th>\n",
       "    </tr>\n",
       "  </thead>\n",
       "  <tbody>\n",
       "    <tr>\n",
       "      <th>2072</th>\n",
       "      <td>2072</td>\n",
       "      <td>Robert Lewandowski</td>\n",
       "      <td>UEFA Champions League 19/20</td>\n",
       "      <td>19/20</td>\n",
       "      <td>bayern-munchen</td>\n",
       "      <td>8.350000</td>\n",
       "      <td>15</td>\n",
       "      <td>6.0</td>\n",
       "      <td>11.0</td>\n",
       "      <td>5.0</td>\n",
       "      <td>...</td>\n",
       "      <td>6.0</td>\n",
       "      <td>7.0</td>\n",
       "      <td>6.0</td>\n",
       "      <td>60.000000</td>\n",
       "      <td>59.133333</td>\n",
       "      <td>0.0</td>\n",
       "      <td>0.0</td>\n",
       "      <td>34.0</td>\n",
       "      <td>220.0</td>\n",
       "      <td>10</td>\n",
       "    </tr>\n",
       "    <tr>\n",
       "      <th>702</th>\n",
       "      <td>702</td>\n",
       "      <td>Lionel Messi</td>\n",
       "      <td>UEFA Champions League 19/20</td>\n",
       "      <td>19/20</td>\n",
       "      <td>barcelona</td>\n",
       "      <td>8.012500</td>\n",
       "      <td>3</td>\n",
       "      <td>7.0</td>\n",
       "      <td>4.0</td>\n",
       "      <td>3.0</td>\n",
       "      <td>...</td>\n",
       "      <td>24.0</td>\n",
       "      <td>13.0</td>\n",
       "      <td>1.0</td>\n",
       "      <td>50.000000</td>\n",
       "      <td>220.333333</td>\n",
       "      <td>0.0</td>\n",
       "      <td>0.0</td>\n",
       "      <td>59.0</td>\n",
       "      <td>337.0</td>\n",
       "      <td>8</td>\n",
       "    </tr>\n",
       "    <tr>\n",
       "      <th>2885</th>\n",
       "      <td>2885</td>\n",
       "      <td>Neto</td>\n",
       "      <td>UEFA Champions League 19/20</td>\n",
       "      <td>19/20</td>\n",
       "      <td>barcelona</td>\n",
       "      <td>8.000000</td>\n",
       "      <td>0</td>\n",
       "      <td>0.0</td>\n",
       "      <td>0.0</td>\n",
       "      <td>0.0</td>\n",
       "      <td>...</td>\n",
       "      <td>22.0</td>\n",
       "      <td>1.0</td>\n",
       "      <td>0.0</td>\n",
       "      <td>0.000000</td>\n",
       "      <td>0.000000</td>\n",
       "      <td>0.0</td>\n",
       "      <td>2.0</td>\n",
       "      <td>31.0</td>\n",
       "      <td>8.0</td>\n",
       "      <td>1</td>\n",
       "    </tr>\n",
       "    <tr>\n",
       "      <th>1449</th>\n",
       "      <td>1449</td>\n",
       "      <td>Toni Kroos</td>\n",
       "      <td>UEFA Champions League 19/20</td>\n",
       "      <td>19/20</td>\n",
       "      <td>real-madrid</td>\n",
       "      <td>7.966667</td>\n",
       "      <td>1</td>\n",
       "      <td>2.0</td>\n",
       "      <td>1.0</td>\n",
       "      <td>1.0</td>\n",
       "      <td>...</td>\n",
       "      <td>57.0</td>\n",
       "      <td>9.0</td>\n",
       "      <td>12.0</td>\n",
       "      <td>80.000000</td>\n",
       "      <td>540.000000</td>\n",
       "      <td>0.0</td>\n",
       "      <td>0.0</td>\n",
       "      <td>155.0</td>\n",
       "      <td>372.0</td>\n",
       "      <td>6</td>\n",
       "    </tr>\n",
       "    <tr>\n",
       "      <th>3241</th>\n",
       "      <td>3241</td>\n",
       "      <td>Harry Kane</td>\n",
       "      <td>UEFA Champions League 19/20</td>\n",
       "      <td>19/20</td>\n",
       "      <td>tottenham</td>\n",
       "      <td>7.960000</td>\n",
       "      <td>6</td>\n",
       "      <td>3.0</td>\n",
       "      <td>4.0</td>\n",
       "      <td>0.0</td>\n",
       "      <td>...</td>\n",
       "      <td>8.0</td>\n",
       "      <td>11.0</td>\n",
       "      <td>3.0</td>\n",
       "      <td>100.000000</td>\n",
       "      <td>75.000000</td>\n",
       "      <td>0.0</td>\n",
       "      <td>0.0</td>\n",
       "      <td>12.0</td>\n",
       "      <td>91.0</td>\n",
       "      <td>5</td>\n",
       "    </tr>\n",
       "    <tr>\n",
       "      <th>...</th>\n",
       "      <td>...</td>\n",
       "      <td>...</td>\n",
       "      <td>...</td>\n",
       "      <td>...</td>\n",
       "      <td>...</td>\n",
       "      <td>...</td>\n",
       "      <td>...</td>\n",
       "      <td>...</td>\n",
       "      <td>...</td>\n",
       "      <td>...</td>\n",
       "      <td>...</td>\n",
       "      <td>...</td>\n",
       "      <td>...</td>\n",
       "      <td>...</td>\n",
       "      <td>...</td>\n",
       "      <td>...</td>\n",
       "      <td>...</td>\n",
       "      <td>...</td>\n",
       "      <td>...</td>\n",
       "      <td>...</td>\n",
       "      <td>...</td>\n",
       "    </tr>\n",
       "    <tr>\n",
       "      <th>2871</th>\n",
       "      <td>2871</td>\n",
       "      <td>Kevin Kampl</td>\n",
       "      <td>UEFA Champions League 19/20</td>\n",
       "      <td>19/20</td>\n",
       "      <td>rb-leipzig</td>\n",
       "      <td>6.775000</td>\n",
       "      <td>0</td>\n",
       "      <td>0.0</td>\n",
       "      <td>0.0</td>\n",
       "      <td>0.0</td>\n",
       "      <td>...</td>\n",
       "      <td>6.0</td>\n",
       "      <td>5.0</td>\n",
       "      <td>1.0</td>\n",
       "      <td>25.000000</td>\n",
       "      <td>0.000000</td>\n",
       "      <td>0.0</td>\n",
       "      <td>0.0</td>\n",
       "      <td>79.0</td>\n",
       "      <td>177.0</td>\n",
       "      <td>4</td>\n",
       "    </tr>\n",
       "    <tr>\n",
       "      <th>4861</th>\n",
       "      <td>4861</td>\n",
       "      <td>Hans Hateboer</td>\n",
       "      <td>UEFA Champions League 19/20</td>\n",
       "      <td>19/20</td>\n",
       "      <td>atalanta</td>\n",
       "      <td>6.775000</td>\n",
       "      <td>2</td>\n",
       "      <td>2.0</td>\n",
       "      <td>1.0</td>\n",
       "      <td>1.0</td>\n",
       "      <td>...</td>\n",
       "      <td>17.0</td>\n",
       "      <td>12.0</td>\n",
       "      <td>3.0</td>\n",
       "      <td>37.500000</td>\n",
       "      <td>295.500000</td>\n",
       "      <td>0.0</td>\n",
       "      <td>0.0</td>\n",
       "      <td>80.0</td>\n",
       "      <td>139.0</td>\n",
       "      <td>9</td>\n",
       "    </tr>\n",
       "    <tr>\n",
       "      <th>5285</th>\n",
       "      <td>5285</td>\n",
       "      <td>Ousmane Dembélé</td>\n",
       "      <td>UEFA Champions League 19/20</td>\n",
       "      <td>19/20</td>\n",
       "      <td>barcelona</td>\n",
       "      <td>6.775000</td>\n",
       "      <td>0</td>\n",
       "      <td>1.0</td>\n",
       "      <td>0.0</td>\n",
       "      <td>0.0</td>\n",
       "      <td>...</td>\n",
       "      <td>4.0</td>\n",
       "      <td>0.0</td>\n",
       "      <td>0.0</td>\n",
       "      <td>0.000000</td>\n",
       "      <td>0.000000</td>\n",
       "      <td>0.0</td>\n",
       "      <td>0.0</td>\n",
       "      <td>8.0</td>\n",
       "      <td>59.0</td>\n",
       "      <td>4</td>\n",
       "    </tr>\n",
       "    <tr>\n",
       "      <th>4163</th>\n",
       "      <td>4163</td>\n",
       "      <td>Kenny Tete</td>\n",
       "      <td>UEFA Champions League 19/20</td>\n",
       "      <td>19/20</td>\n",
       "      <td>olympique-lyonnais</td>\n",
       "      <td>6.775000</td>\n",
       "      <td>0</td>\n",
       "      <td>1.0</td>\n",
       "      <td>0.0</td>\n",
       "      <td>0.0</td>\n",
       "      <td>...</td>\n",
       "      <td>8.0</td>\n",
       "      <td>3.0</td>\n",
       "      <td>2.0</td>\n",
       "      <td>66.666667</td>\n",
       "      <td>0.000000</td>\n",
       "      <td>0.0</td>\n",
       "      <td>0.0</td>\n",
       "      <td>25.0</td>\n",
       "      <td>43.0</td>\n",
       "      <td>5</td>\n",
       "    </tr>\n",
       "    <tr>\n",
       "      <th>5148</th>\n",
       "      <td>5148</td>\n",
       "      <td>Jeff Reine-Adélaïde</td>\n",
       "      <td>UEFA Champions League 19/20</td>\n",
       "      <td>19/20</td>\n",
       "      <td>olympique-lyonnais</td>\n",
       "      <td>6.775000</td>\n",
       "      <td>0</td>\n",
       "      <td>0.0</td>\n",
       "      <td>0.0</td>\n",
       "      <td>0.0</td>\n",
       "      <td>...</td>\n",
       "      <td>9.0</td>\n",
       "      <td>4.0</td>\n",
       "      <td>4.0</td>\n",
       "      <td>80.000000</td>\n",
       "      <td>0.000000</td>\n",
       "      <td>0.0</td>\n",
       "      <td>0.0</td>\n",
       "      <td>38.0</td>\n",
       "      <td>131.0</td>\n",
       "      <td>8</td>\n",
       "    </tr>\n",
       "  </tbody>\n",
       "</table>\n",
       "<p>342 rows × 96 columns</p>\n",
       "</div>"
      ],
      "text/plain": [
       "      Unnamed: 0                 name                       season  \\\n",
       "2072        2072   Robert Lewandowski  UEFA Champions League 19/20   \n",
       "702          702         Lionel Messi  UEFA Champions League 19/20   \n",
       "2885        2885                 Neto  UEFA Champions League 19/20   \n",
       "1449        1449           Toni Kroos  UEFA Champions League 19/20   \n",
       "3241        3241           Harry Kane  UEFA Champions League 19/20   \n",
       "...          ...                  ...                          ...   \n",
       "2871        2871          Kevin Kampl  UEFA Champions League 19/20   \n",
       "4861        4861        Hans Hateboer  UEFA Champions League 19/20   \n",
       "5285        5285      Ousmane Dembélé  UEFA Champions League 19/20   \n",
       "4163        4163           Kenny Tete  UEFA Champions League 19/20   \n",
       "5148        5148  Jeff Reine-Adélaïde  UEFA Champions League 19/20   \n",
       "\n",
       "     season year                team    rating  goals  bigChancesCreated  \\\n",
       "2072       19/20      bayern-munchen  8.350000     15                6.0   \n",
       "702        19/20           barcelona  8.012500      3                7.0   \n",
       "2885       19/20           barcelona  8.000000      0                0.0   \n",
       "1449       19/20         real-madrid  7.966667      1                2.0   \n",
       "3241       19/20           tottenham  7.960000      6                3.0   \n",
       "...          ...                 ...       ...    ...                ...   \n",
       "2871       19/20          rb-leipzig  6.775000      0                0.0   \n",
       "4861       19/20            atalanta  6.775000      2                2.0   \n",
       "5285       19/20           barcelona  6.775000      0                1.0   \n",
       "4163       19/20  olympique-lyonnais  6.775000      0                1.0   \n",
       "5148       19/20  olympique-lyonnais  6.775000      0                0.0   \n",
       "\n",
       "      bigChancesMissed  assists  ...  totalLongBalls  goalsConceded  \\\n",
       "2072              11.0      5.0  ...             6.0            7.0   \n",
       "702                4.0      3.0  ...            24.0           13.0   \n",
       "2885               0.0      0.0  ...            22.0            1.0   \n",
       "1449               1.0      1.0  ...            57.0            9.0   \n",
       "3241               4.0      0.0  ...             8.0           11.0   \n",
       "...                ...      ...  ...             ...            ...   \n",
       "2871               0.0      0.0  ...             6.0            5.0   \n",
       "4861               1.0      1.0  ...            17.0           12.0   \n",
       "5285               0.0      0.0  ...             4.0            0.0   \n",
       "4163               0.0      0.0  ...             8.0            3.0   \n",
       "5148               0.0      0.0  ...             9.0            4.0   \n",
       "\n",
       "      tacklesWon  tacklesWonPercentage  scoringFrequency  savesCaught  \\\n",
       "2072         6.0             60.000000         59.133333          0.0   \n",
       "702          1.0             50.000000        220.333333          0.0   \n",
       "2885         0.0              0.000000          0.000000          0.0   \n",
       "1449        12.0             80.000000        540.000000          0.0   \n",
       "3241         3.0            100.000000         75.000000          0.0   \n",
       "...          ...                   ...               ...          ...   \n",
       "2871         1.0             25.000000          0.000000          0.0   \n",
       "4861         3.0             37.500000        295.500000          0.0   \n",
       "5285         0.0              0.000000          0.000000          0.0   \n",
       "4163         2.0             66.666667          0.000000          0.0   \n",
       "5148         4.0             80.000000          0.000000          0.0   \n",
       "\n",
       "      savesParried  totalOwnHalfPasses  totalOppositionHalfPasses  appearances  \n",
       "2072           0.0                34.0                      220.0           10  \n",
       "702            0.0                59.0                      337.0            8  \n",
       "2885           2.0                31.0                        8.0            1  \n",
       "1449           0.0               155.0                      372.0            6  \n",
       "3241           0.0                12.0                       91.0            5  \n",
       "...            ...                 ...                        ...          ...  \n",
       "2871           0.0                79.0                      177.0            4  \n",
       "4861           0.0                80.0                      139.0            9  \n",
       "5285           0.0                 8.0                       59.0            4  \n",
       "4163           0.0                25.0                       43.0            5  \n",
       "5148           0.0                38.0                      131.0            8  \n",
       "\n",
       "[342 rows x 96 columns]"
      ]
     },
     "execution_count": 1272,
     "metadata": {},
     "output_type": "execute_result"
    }
   ],
   "source": [
    "value_player_list.drop(columns =['substitutionsOut','substitutionsIn','totwAppearances','yellowRedCards','offsides','ownGoals','hitWoodwork','accurateChippedPasses','totalChippedPasses','possessionWonAttThird','shotsFromOutsideTheBox','shotsFromInsideTheBox','directRedCards'])"
   ]
  },
  {
   "cell_type": "code",
   "execution_count": 1273,
   "id": "24617cfd",
   "metadata": {},
   "outputs": [],
   "source": [
    "#Q3 player with most goals\n",
    "\n",
    "top_10_scorers = value_player_list.nlargest(10,'goals')"
   ]
  },
  {
   "cell_type": "code",
   "execution_count": 1274,
   "id": "6b8f38a6",
   "metadata": {},
   "outputs": [
    {
     "data": {
      "text/html": [
       "<div>\n",
       "<style scoped>\n",
       "    .dataframe tbody tr th:only-of-type {\n",
       "        vertical-align: middle;\n",
       "    }\n",
       "\n",
       "    .dataframe tbody tr th {\n",
       "        vertical-align: top;\n",
       "    }\n",
       "\n",
       "    .dataframe thead th {\n",
       "        text-align: right;\n",
       "    }\n",
       "</style>\n",
       "<table border=\"1\" class=\"dataframe\">\n",
       "  <thead>\n",
       "    <tr style=\"text-align: right;\">\n",
       "      <th></th>\n",
       "      <th>Unnamed: 0</th>\n",
       "      <th>name</th>\n",
       "      <th>season</th>\n",
       "      <th>season year</th>\n",
       "      <th>team</th>\n",
       "      <th>rating</th>\n",
       "      <th>goals</th>\n",
       "      <th>bigChancesCreated</th>\n",
       "      <th>bigChancesMissed</th>\n",
       "      <th>assists</th>\n",
       "      <th>...</th>\n",
       "      <th>scoringFrequency</th>\n",
       "      <th>yellowRedCards</th>\n",
       "      <th>savesCaught</th>\n",
       "      <th>savesParried</th>\n",
       "      <th>totalOwnHalfPasses</th>\n",
       "      <th>totalOppositionHalfPasses</th>\n",
       "      <th>totwAppearances</th>\n",
       "      <th>appearances</th>\n",
       "      <th>substitutionsIn</th>\n",
       "      <th>substitutionsOut</th>\n",
       "    </tr>\n",
       "  </thead>\n",
       "  <tbody>\n",
       "    <tr>\n",
       "      <th>2072</th>\n",
       "      <td>2072</td>\n",
       "      <td>Robert Lewandowski</td>\n",
       "      <td>UEFA Champions League 19/20</td>\n",
       "      <td>19/20</td>\n",
       "      <td>bayern-munchen</td>\n",
       "      <td>8.350000</td>\n",
       "      <td>15</td>\n",
       "      <td>6.0</td>\n",
       "      <td>11.0</td>\n",
       "      <td>5.0</td>\n",
       "      <td>...</td>\n",
       "      <td>59.133333</td>\n",
       "      <td>0.0</td>\n",
       "      <td>0.0</td>\n",
       "      <td>0.0</td>\n",
       "      <td>34.0</td>\n",
       "      <td>220.0</td>\n",
       "      <td>2.0</td>\n",
       "      <td>10</td>\n",
       "      <td>NaN</td>\n",
       "      <td>NaN</td>\n",
       "    </tr>\n",
       "    <tr>\n",
       "      <th>5416</th>\n",
       "      <td>5416</td>\n",
       "      <td>Erling Braut Haaland</td>\n",
       "      <td>UEFA Champions League 19/20</td>\n",
       "      <td>19/20</td>\n",
       "      <td>borussia-dortmund</td>\n",
       "      <td>7.475000</td>\n",
       "      <td>10</td>\n",
       "      <td>1.0</td>\n",
       "      <td>2.0</td>\n",
       "      <td>1.0</td>\n",
       "      <td>...</td>\n",
       "      <td>55.400000</td>\n",
       "      <td>0.0</td>\n",
       "      <td>0.0</td>\n",
       "      <td>0.0</td>\n",
       "      <td>35.0</td>\n",
       "      <td>96.0</td>\n",
       "      <td>1.0</td>\n",
       "      <td>8</td>\n",
       "      <td>NaN</td>\n",
       "      <td>NaN</td>\n",
       "    </tr>\n",
       "    <tr>\n",
       "      <th>4112</th>\n",
       "      <td>4112</td>\n",
       "      <td>Serge Gnabry</td>\n",
       "      <td>UEFA Champions League 19/20</td>\n",
       "      <td>19/20</td>\n",
       "      <td>bayern-munchen</td>\n",
       "      <td>7.740000</td>\n",
       "      <td>9</td>\n",
       "      <td>2.0</td>\n",
       "      <td>0.0</td>\n",
       "      <td>2.0</td>\n",
       "      <td>...</td>\n",
       "      <td>85.111111</td>\n",
       "      <td>0.0</td>\n",
       "      <td>0.0</td>\n",
       "      <td>0.0</td>\n",
       "      <td>116.0</td>\n",
       "      <td>272.0</td>\n",
       "      <td>2.0</td>\n",
       "      <td>10</td>\n",
       "      <td>NaN</td>\n",
       "      <td>NaN</td>\n",
       "    </tr>\n",
       "    <tr>\n",
       "      <th>3241</th>\n",
       "      <td>3241</td>\n",
       "      <td>Harry Kane</td>\n",
       "      <td>UEFA Champions League 19/20</td>\n",
       "      <td>19/20</td>\n",
       "      <td>tottenham</td>\n",
       "      <td>7.960000</td>\n",
       "      <td>6</td>\n",
       "      <td>3.0</td>\n",
       "      <td>4.0</td>\n",
       "      <td>0.0</td>\n",
       "      <td>...</td>\n",
       "      <td>75.000000</td>\n",
       "      <td>0.0</td>\n",
       "      <td>0.0</td>\n",
       "      <td>0.0</td>\n",
       "      <td>12.0</td>\n",
       "      <td>91.0</td>\n",
       "      <td>1.0</td>\n",
       "      <td>5</td>\n",
       "      <td>NaN</td>\n",
       "      <td>NaN</td>\n",
       "    </tr>\n",
       "    <tr>\n",
       "      <th>5153</th>\n",
       "      <td>5153</td>\n",
       "      <td>Gabriel Jesus</td>\n",
       "      <td>UEFA Champions League 19/20</td>\n",
       "      <td>19/20</td>\n",
       "      <td>manchester-city</td>\n",
       "      <td>7.562500</td>\n",
       "      <td>6</td>\n",
       "      <td>4.0</td>\n",
       "      <td>6.0</td>\n",
       "      <td>3.0</td>\n",
       "      <td>...</td>\n",
       "      <td>99.500000</td>\n",
       "      <td>0.0</td>\n",
       "      <td>0.0</td>\n",
       "      <td>0.0</td>\n",
       "      <td>45.0</td>\n",
       "      <td>148.0</td>\n",
       "      <td>1.0</td>\n",
       "      <td>8</td>\n",
       "      <td>NaN</td>\n",
       "      <td>NaN</td>\n",
       "    </tr>\n",
       "    <tr>\n",
       "      <th>3674</th>\n",
       "      <td>3674</td>\n",
       "      <td>Raheem Sterling</td>\n",
       "      <td>UEFA Champions League 19/20</td>\n",
       "      <td>19/20</td>\n",
       "      <td>manchester-city</td>\n",
       "      <td>7.522222</td>\n",
       "      <td>6</td>\n",
       "      <td>4.0</td>\n",
       "      <td>6.0</td>\n",
       "      <td>3.0</td>\n",
       "      <td>...</td>\n",
       "      <td>99.833333</td>\n",
       "      <td>0.0</td>\n",
       "      <td>0.0</td>\n",
       "      <td>0.0</td>\n",
       "      <td>37.0</td>\n",
       "      <td>186.0</td>\n",
       "      <td>1.0</td>\n",
       "      <td>9</td>\n",
       "      <td>NaN</td>\n",
       "      <td>NaN</td>\n",
       "    </tr>\n",
       "    <tr>\n",
       "      <th>1653</th>\n",
       "      <td>1653</td>\n",
       "      <td>Dries Mertens</td>\n",
       "      <td>UEFA Champions League 19/20</td>\n",
       "      <td>19/20</td>\n",
       "      <td>napoli</td>\n",
       "      <td>7.450000</td>\n",
       "      <td>6</td>\n",
       "      <td>0.0</td>\n",
       "      <td>2.0</td>\n",
       "      <td>1.0</td>\n",
       "      <td>...</td>\n",
       "      <td>97.666667</td>\n",
       "      <td>0.0</td>\n",
       "      <td>0.0</td>\n",
       "      <td>0.0</td>\n",
       "      <td>61.0</td>\n",
       "      <td>139.0</td>\n",
       "      <td>0.0</td>\n",
       "      <td>8</td>\n",
       "      <td>NaN</td>\n",
       "      <td>NaN</td>\n",
       "    </tr>\n",
       "    <tr>\n",
       "      <th>3705</th>\n",
       "      <td>3705</td>\n",
       "      <td>Memphis Depay</td>\n",
       "      <td>UEFA Champions League 19/20</td>\n",
       "      <td>19/20</td>\n",
       "      <td>olympique-lyonnais</td>\n",
       "      <td>7.275000</td>\n",
       "      <td>6</td>\n",
       "      <td>0.0</td>\n",
       "      <td>2.0</td>\n",
       "      <td>0.0</td>\n",
       "      <td>...</td>\n",
       "      <td>99.000000</td>\n",
       "      <td>0.0</td>\n",
       "      <td>0.0</td>\n",
       "      <td>0.0</td>\n",
       "      <td>63.0</td>\n",
       "      <td>201.0</td>\n",
       "      <td>0.0</td>\n",
       "      <td>8</td>\n",
       "      <td>NaN</td>\n",
       "      <td>NaN</td>\n",
       "    </tr>\n",
       "    <tr>\n",
       "      <th>970</th>\n",
       "      <td>970</td>\n",
       "      <td>Luis Suárez</td>\n",
       "      <td>UEFA Champions League 19/20</td>\n",
       "      <td>19/20</td>\n",
       "      <td>atletico-madrid</td>\n",
       "      <td>7.600000</td>\n",
       "      <td>5</td>\n",
       "      <td>1.0</td>\n",
       "      <td>2.0</td>\n",
       "      <td>2.0</td>\n",
       "      <td>...</td>\n",
       "      <td>113.200000</td>\n",
       "      <td>0.0</td>\n",
       "      <td>0.0</td>\n",
       "      <td>0.0</td>\n",
       "      <td>51.0</td>\n",
       "      <td>129.0</td>\n",
       "      <td>1.0</td>\n",
       "      <td>7</td>\n",
       "      <td>NaN</td>\n",
       "      <td>NaN</td>\n",
       "    </tr>\n",
       "    <tr>\n",
       "      <th>2036</th>\n",
       "      <td>2036</td>\n",
       "      <td>Josip Iličić</td>\n",
       "      <td>UEFA Champions League 19/20</td>\n",
       "      <td>19/20</td>\n",
       "      <td>atalanta</td>\n",
       "      <td>7.542857</td>\n",
       "      <td>5</td>\n",
       "      <td>3.0</td>\n",
       "      <td>1.0</td>\n",
       "      <td>0.0</td>\n",
       "      <td>...</td>\n",
       "      <td>103.200000</td>\n",
       "      <td>0.0</td>\n",
       "      <td>0.0</td>\n",
       "      <td>0.0</td>\n",
       "      <td>56.0</td>\n",
       "      <td>190.0</td>\n",
       "      <td>NaN</td>\n",
       "      <td>7</td>\n",
       "      <td>NaN</td>\n",
       "      <td>NaN</td>\n",
       "    </tr>\n",
       "  </tbody>\n",
       "</table>\n",
       "<p>10 rows × 109 columns</p>\n",
       "</div>"
      ],
      "text/plain": [
       "      Unnamed: 0                  name                       season  \\\n",
       "2072        2072    Robert Lewandowski  UEFA Champions League 19/20   \n",
       "5416        5416  Erling Braut Haaland  UEFA Champions League 19/20   \n",
       "4112        4112          Serge Gnabry  UEFA Champions League 19/20   \n",
       "3241        3241            Harry Kane  UEFA Champions League 19/20   \n",
       "5153        5153         Gabriel Jesus  UEFA Champions League 19/20   \n",
       "3674        3674       Raheem Sterling  UEFA Champions League 19/20   \n",
       "1653        1653         Dries Mertens  UEFA Champions League 19/20   \n",
       "3705        3705         Memphis Depay  UEFA Champions League 19/20   \n",
       "970          970           Luis Suárez  UEFA Champions League 19/20   \n",
       "2036        2036          Josip Iličić  UEFA Champions League 19/20   \n",
       "\n",
       "     season year                team    rating  goals  bigChancesCreated  \\\n",
       "2072       19/20      bayern-munchen  8.350000     15                6.0   \n",
       "5416       19/20   borussia-dortmund  7.475000     10                1.0   \n",
       "4112       19/20      bayern-munchen  7.740000      9                2.0   \n",
       "3241       19/20           tottenham  7.960000      6                3.0   \n",
       "5153       19/20     manchester-city  7.562500      6                4.0   \n",
       "3674       19/20     manchester-city  7.522222      6                4.0   \n",
       "1653       19/20              napoli  7.450000      6                0.0   \n",
       "3705       19/20  olympique-lyonnais  7.275000      6                0.0   \n",
       "970        19/20     atletico-madrid  7.600000      5                1.0   \n",
       "2036       19/20            atalanta  7.542857      5                3.0   \n",
       "\n",
       "      bigChancesMissed  assists  ...  scoringFrequency  yellowRedCards  \\\n",
       "2072              11.0      5.0  ...         59.133333             0.0   \n",
       "5416               2.0      1.0  ...         55.400000             0.0   \n",
       "4112               0.0      2.0  ...         85.111111             0.0   \n",
       "3241               4.0      0.0  ...         75.000000             0.0   \n",
       "5153               6.0      3.0  ...         99.500000             0.0   \n",
       "3674               6.0      3.0  ...         99.833333             0.0   \n",
       "1653               2.0      1.0  ...         97.666667             0.0   \n",
       "3705               2.0      0.0  ...         99.000000             0.0   \n",
       "970                2.0      2.0  ...        113.200000             0.0   \n",
       "2036               1.0      0.0  ...        103.200000             0.0   \n",
       "\n",
       "      savesCaught  savesParried  totalOwnHalfPasses  \\\n",
       "2072          0.0           0.0                34.0   \n",
       "5416          0.0           0.0                35.0   \n",
       "4112          0.0           0.0               116.0   \n",
       "3241          0.0           0.0                12.0   \n",
       "5153          0.0           0.0                45.0   \n",
       "3674          0.0           0.0                37.0   \n",
       "1653          0.0           0.0                61.0   \n",
       "3705          0.0           0.0                63.0   \n",
       "970           0.0           0.0                51.0   \n",
       "2036          0.0           0.0                56.0   \n",
       "\n",
       "      totalOppositionHalfPasses  totwAppearances  appearances  \\\n",
       "2072                      220.0              2.0           10   \n",
       "5416                       96.0              1.0            8   \n",
       "4112                      272.0              2.0           10   \n",
       "3241                       91.0              1.0            5   \n",
       "5153                      148.0              1.0            8   \n",
       "3674                      186.0              1.0            9   \n",
       "1653                      139.0              0.0            8   \n",
       "3705                      201.0              0.0            8   \n",
       "970                       129.0              1.0            7   \n",
       "2036                      190.0              NaN            7   \n",
       "\n",
       "      substitutionsIn  substitutionsOut  \n",
       "2072              NaN               NaN  \n",
       "5416              NaN               NaN  \n",
       "4112              NaN               NaN  \n",
       "3241              NaN               NaN  \n",
       "5153              NaN               NaN  \n",
       "3674              NaN               NaN  \n",
       "1653              NaN               NaN  \n",
       "3705              NaN               NaN  \n",
       "970               NaN               NaN  \n",
       "2036              NaN               NaN  \n",
       "\n",
       "[10 rows x 109 columns]"
      ]
     },
     "execution_count": 1274,
     "metadata": {},
     "output_type": "execute_result"
    }
   ],
   "source": [
    "top_10_scorers"
   ]
  },
  {
   "cell_type": "code",
   "execution_count": 1275,
   "id": "5de23b83",
   "metadata": {},
   "outputs": [
    {
     "data": {
      "text/plain": [
       "<AxesSubplot:xlabel='name', ylabel='goals'>"
      ]
     },
     "execution_count": 1275,
     "metadata": {},
     "output_type": "execute_result"
    },
    {
     "data": {
      "image/png": "[encoded data removed]",
      "text/plain": [
       "<Figure size 1440x576 with 1 Axes>"
      ]
     },
     "metadata": {
      "needs_background": "light"
     },
     "output_type": "display_data"
    }
   ],
   "source": [
    "plt.figure(figsize=(20,8))\n",
    "sns.barplot(x=\"name\", y=\"goals\", data=top_10_scorers)"
   ]
  },
  {
   "cell_type": "code",
   "execution_count": 1276,
   "id": "b6209073",
   "metadata": {},
   "outputs": [
    {
     "data": {
      "text/plain": [
       "<AxesSubplot:ylabel='goals'>"
      ]
     },
     "execution_count": 1276,
     "metadata": {},
     "output_type": "execute_result"
    },
    {
     "data": {
      "image/png": "[encoded data removed]",
      "text/plain": [
       "<Figure size 1152x576 with 1 Axes>"
      ]
     },
     "metadata": {},
     "output_type": "display_data"
    }
   ],
   "source": [
    "top_10_scorers.plot(x='name',y='goals',kind='pie',figsize=(16,8))"
   ]
  },
  {
   "cell_type": "code",
   "execution_count": 1277,
   "id": "76e11530",
   "metadata": {},
   "outputs": [
    {
     "data": {
      "application/vnd.plotly.v1+json": {
       "config": {
        "plotlyServerURL": "https://plot.ly"
       },
       "data": [
        {
         "hovertemplate": "name=%{x}<br>goals=%{y}<extra></extra>",
         "legendgroup": "",
         "line": {
          "color": "#636efa",
          "dash": "solid"
         },
         "marker": {
          "symbol": "circle"
         },
         "mode": "lines",
         "name": "",
         "orientation": "v",
         "showlegend": false,
         "type": "scatter",
         "x": [
          "Robert Lewandowski",
          "Erling Braut Haaland",
          "Serge Gnabry",
          "Harry Kane",
          "Gabriel Jesus",
          "Raheem Sterling",
          "Dries Mertens",
          "Memphis Depay",
          "Luis Suárez",
          "Josip Iličić"
         ],
         "xaxis": "x",
         "y": [
          15,
          10,
          9,
          6,
          6,
          6,
          6,
          6,
          5,
          5
         ],
         "yaxis": "y"
        }
       ],
       "layout": {
        "legend": {
         "tracegroupgap": 0
        },
        "template": {
         "data": {
          "bar": [
           {
            "error_x": {
             "color": "#2a3f5f"
            },
            "error_y": {
             "color": "#2a3f5f"
            },
            "marker": {
             "line": {
              "color": "#E5ECF6",
              "width": 0.5
             },
             "pattern": {
              "fillmode": "overlay",
              "size": 10,
              "solidity": 0.2
             }
            },
            "type": "bar"
           }
          ],
          "barpolar": [
           {
            "marker": {
             "line": {
              "color": "#E5ECF6",
              "width": 0.5
             },
             "pattern": {
              "fillmode": "overlay",
              "size": 10,
              "solidity": 0.2
             }
            },
            "type": "barpolar"
           }
          ],
          "carpet": [
           {
            "aaxis": {
             "endlinecolor": "#2a3f5f",
             "gridcolor": "white",
             "linecolor": "white",
             "minorgridcolor": "white",
             "startlinecolor": "#2a3f5f"
            },
            "baxis": {
             "endlinecolor": "#2a3f5f",
             "gridcolor": "white",
             "linecolor": "white",
             "minorgridcolor": "white",
             "startlinecolor": "#2a3f5f"
            },
            "type": "carpet"
           }
          ],
          "choropleth": [
           {
            "colorbar": {
             "outlinewidth": 0,
             "ticks": ""
            },
            "type": "choropleth"
           }
          ],
          "contour": [
           {
            "colorbar": {
             "outlinewidth": 0,
             "ticks": ""
            },
            "colorscale": [
             [
              0,
              "#0d0887"
             ],
             [
              0.1111111111111111,
              "#46039f"
             ],
             [
              0.2222222222222222,
              "#7201a8"
             ],
             [
              0.3333333333333333,
              "#9c179e"
             ],
             [
              0.4444444444444444,
              "#bd3786"
             ],
             [
              0.5555555555555556,
              "#d8576b"
             ],
             [
              0.6666666666666666,
              "#ed7953"
             ],
             [
              0.7777777777777778,
              "#fb9f3a"
             ],
             [
              0.8888888888888888,
              "#fdca26"
             ],
             [
              1,
              "#f0f921"
             ]
            ],
            "type": "contour"
           }
          ],
          "contourcarpet": [
           {
            "colorbar": {
             "outlinewidth": 0,
             "ticks": ""
            },
            "type": "contourcarpet"
           }
          ],
          "heatmap": [
           {
            "colorbar": {
             "outlinewidth": 0,
             "ticks": ""
            },
            "colorscale": [
             [
              0,
              "#0d0887"
             ],
             [
              0.1111111111111111,
              "#46039f"
             ],
             [
              0.2222222222222222,
              "#7201a8"
             ],
             [
              0.3333333333333333,
              "#9c179e"
             ],
             [
              0.4444444444444444,
              "#bd3786"
             ],
             [
              0.5555555555555556,
              "#d8576b"
             ],
             [
              0.6666666666666666,
              "#ed7953"
             ],
             [
              0.7777777777777778,
              "#fb9f3a"
             ],
             [
              0.8888888888888888,
              "#fdca26"
             ],
             [
              1,
              "#f0f921"
             ]
            ],
            "type": "heatmap"
           }
          ],
          "heatmapgl": [
           {
            "colorbar": {
             "outlinewidth": 0,
             "ticks": ""
            },
            "colorscale": [
             [
              0,
              "#0d0887"
             ],
             [
              0.1111111111111111,
              "#46039f"
             ],
             [
              0.2222222222222222,
              "#7201a8"
             ],
             [
              0.3333333333333333,
              "#9c179e"
             ],
             [
              0.4444444444444444,
              "#bd3786"
             ],
             [
              0.5555555555555556,
              "#d8576b"
             ],
             [
              0.6666666666666666,
              "#ed7953"
             ],
             [
              0.7777777777777778,
              "#fb9f3a"
             ],
             [
              0.8888888888888888,
              "#fdca26"
             ],
             [
              1,
              "#f0f921"
             ]
            ],
            "type": "heatmapgl"
           }
          ],
          "histogram": [
           {
            "marker": {
             "pattern": {
              "fillmode": "overlay",
              "size": 10,
              "solidity": 0.2
             }
            },
            "type": "histogram"
           }
          ],
          "histogram2d": [
           {
            "colorbar": {
             "outlinewidth": 0,
             "ticks": ""
            },
            "colorscale": [
             [
              0,
              "#0d0887"
             ],
             [
              0.1111111111111111,
              "#46039f"
             ],
             [
              0.2222222222222222,
              "#7201a8"
             ],
             [
              0.3333333333333333,
              "#9c179e"
             ],
             [
              0.4444444444444444,
              "#bd3786"
             ],
             [
              0.5555555555555556,
              "#d8576b"
             ],
             [
              0.6666666666666666,
              "#ed7953"
             ],
             [
              0.7777777777777778,
              "#fb9f3a"
             ],
             [
              0.8888888888888888,
              "#fdca26"
             ],
             [
              1,
              "#f0f921"
             ]
            ],
            "type": "histogram2d"
           }
          ],
          "histogram2dcontour": [
           {
            "colorbar": {
             "outlinewidth": 0,
             "ticks": ""
            },
            "colorscale": [
             [
              0,
              "#0d0887"
             ],
             [
              0.1111111111111111,
              "#46039f"
             ],
             [
              0.2222222222222222,
              "#7201a8"
             ],
             [
              0.3333333333333333,
              "#9c179e"
             ],
             [
              0.4444444444444444,
              "#bd3786"
             ],
             [
              0.5555555555555556,
              "#d8576b"
             ],
             [
              0.6666666666666666,
              "#ed7953"
             ],
             [
              0.7777777777777778,
              "#fb9f3a"
             ],
             [
              0.8888888888888888,
              "#fdca26"
             ],
             [
              1,
              "#f0f921"
             ]
            ],
            "type": "histogram2dcontour"
           }
          ],
          "mesh3d": [
           {
            "colorbar": {
             "outlinewidth": 0,
             "ticks": ""
            },
            "type": "mesh3d"
           }
          ],
          "parcoords": [
           {
            "line": {
             "colorbar": {
              "outlinewidth": 0,
              "ticks": ""
             }
            },
            "type": "parcoords"
           }
          ],
          "pie": [
           {
            "automargin": true,
            "type": "pie"
           }
          ],
          "scatter": [
           {
            "marker": {
             "colorbar": {
              "outlinewidth": 0,
              "ticks": ""
             }
            },
            "type": "scatter"
           }
          ],
          "scatter3d": [
           {
            "line": {
             "colorbar": {
              "outlinewidth": 0,
              "ticks": ""
             }
            },
            "marker": {
             "colorbar": {
              "outlinewidth": 0,
              "ticks": ""
             }
            },
            "type": "scatter3d"
           }
          ],
          "scattercarpet": [
           {
            "marker": {
             "colorbar": {
              "outlinewidth": 0,
              "ticks": ""
             }
            },
            "type": "scattercarpet"
           }
          ],
          "scattergeo": [
           {
            "marker": {
             "colorbar": {
              "outlinewidth": 0,
              "ticks": ""
             }
            },
            "type": "scattergeo"
           }
          ],
          "scattergl": [
           {
            "marker": {
             "colorbar": {
              "outlinewidth": 0,
              "ticks": ""
             }
            },
            "type": "scattergl"
           }
          ],
          "scattermapbox": [
           {
            "marker": {
             "colorbar": {
              "outlinewidth": 0,
              "ticks": ""
             }
            },
            "type": "scattermapbox"
           }
          ],
          "scatterpolar": [
           {
            "marker": {
             "colorbar": {
              "outlinewidth": 0,
              "ticks": ""
             }
            },
            "type": "scatterpolar"
           }
          ],
          "scatterpolargl": [
           {
            "marker": {
             "colorbar": {
              "outlinewidth": 0,
              "ticks": ""
             }
            },
            "type": "scatterpolargl"
           }
          ],
          "scatterternary": [
           {
            "marker": {
             "colorbar": {
              "outlinewidth": 0,
              "ticks": ""
             }
            },
            "type": "scatterternary"
           }
          ],
          "surface": [
           {
            "colorbar": {
             "outlinewidth": 0,
             "ticks": ""
            },
            "colorscale": [
             [
              0,
              "#0d0887"
             ],
             [
              0.1111111111111111,
              "#46039f"
             ],
             [
              0.2222222222222222,
              "#7201a8"
             ],
             [
              0.3333333333333333,
              "#9c179e"
             ],
             [
              0.4444444444444444,
              "#bd3786"
             ],
             [
              0.5555555555555556,
              "#d8576b"
             ],
             [
              0.6666666666666666,
              "#ed7953"
             ],
             [
              0.7777777777777778,
              "#fb9f3a"
             ],
             [
              0.8888888888888888,
              "#fdca26"
             ],
             [
              1,
              "#f0f921"
             ]
            ],
            "type": "surface"
           }
          ],
          "table": [
           {
            "cells": {
             "fill": {
              "color": "#EBF0F8"
             },
             "line": {
              "color": "white"
             }
            },
            "header": {
             "fill": {
              "color": "#C8D4E3"
             },
             "line": {
              "color": "white"
             }
            },
            "type": "table"
           }
          ]
         },
         "layout": {
          "annotationdefaults": {
           "arrowcolor": "#2a3f5f",
           "arrowhead": 0,
           "arrowwidth": 1
          },
          "autotypenumbers": "strict",
          "coloraxis": {
           "colorbar": {
            "outlinewidth": 0,
            "ticks": ""
           }
          },
          "colorscale": {
           "diverging": [
            [
             0,
             "#8e0152"
            ],
            [
             0.1,
             "#c51b7d"
            ],
            [
             0.2,
             "#de77ae"
            ],
            [
             0.3,
             "#f1b6da"
            ],
            [
             0.4,
             "#fde0ef"
            ],
            [
             0.5,
             "#f7f7f7"
            ],
            [
             0.6,
             "#e6f5d0"
            ],
            [
             0.7,
             "#b8e186"
            ],
            [
             0.8,
             "#7fbc41"
            ],
            [
             0.9,
             "#4d9221"
            ],
            [
             1,
             "#276419"
            ]
           ],
           "sequential": [
            [
             0,
             "#0d0887"
            ],
            [
             0.1111111111111111,
             "#46039f"
            ],
            [
             0.2222222222222222,
             "#7201a8"
            ],
            [
             0.3333333333333333,
             "#9c179e"
            ],
            [
             0.4444444444444444,
             "#bd3786"
            ],
            [
             0.5555555555555556,
             "#d8576b"
            ],
            [
             0.6666666666666666,
             "#ed7953"
            ],
            [
             0.7777777777777778,
             "#fb9f3a"
            ],
            [
             0.8888888888888888,
             "#fdca26"
            ],
            [
             1,
             "#f0f921"
            ]
           ],
           "sequentialminus": [
            [
             0,
             "#0d0887"
            ],
            [
             0.1111111111111111,
             "#46039f"
            ],
            [
             0.2222222222222222,
             "#7201a8"
            ],
            [
             0.3333333333333333,
             "#9c179e"
            ],
            [
             0.4444444444444444,
             "#bd3786"
            ],
            [
             0.5555555555555556,
             "#d8576b"
            ],
            [
             0.6666666666666666,
             "#ed7953"
            ],
            [
             0.7777777777777778,
             "#fb9f3a"
            ],
            [
             0.8888888888888888,
             "#fdca26"
            ],
            [
             1,
             "#f0f921"
            ]
           ]
          },
          "colorway": [
           "#636efa",
           "#EF553B",
           "#00cc96",
           "#ab63fa",
           "#FFA15A",
           "#19d3f3",
           "#FF6692",
           "#B6E880",
           "#FF97FF",
           "#FECB52"
          ],
          "font": {
           "color": "#2a3f5f"
          },
          "geo": {
           "bgcolor": "white",
           "lakecolor": "white",
           "landcolor": "#E5ECF6",
           "showlakes": true,
           "showland": true,
           "subunitcolor": "white"
          },
          "hoverlabel": {
           "align": "left"
          },
          "hovermode": "closest",
          "mapbox": {
           "style": "light"
          },
          "paper_bgcolor": "white",
          "plot_bgcolor": "#E5ECF6",
          "polar": {
           "angularaxis": {
            "gridcolor": "white",
            "linecolor": "white",
            "ticks": ""
           },
           "bgcolor": "#E5ECF6",
           "radialaxis": {
            "gridcolor": "white",
            "linecolor": "white",
            "ticks": ""
           }
          },
          "scene": {
           "xaxis": {
            "backgroundcolor": "#E5ECF6",
            "gridcolor": "white",
            "gridwidth": 2,
            "linecolor": "white",
            "showbackground": true,
            "ticks": "",
            "zerolinecolor": "white"
           },
           "yaxis": {
            "backgroundcolor": "#E5ECF6",
            "gridcolor": "white",
            "gridwidth": 2,
            "linecolor": "white",
            "showbackground": true,
            "ticks": "",
            "zerolinecolor": "white"
           },
           "zaxis": {
            "backgroundcolor": "#E5ECF6",
            "gridcolor": "white",
            "gridwidth": 2,
            "linecolor": "white",
            "showbackground": true,
            "ticks": "",
            "zerolinecolor": "white"
           }
          },
          "shapedefaults": {
           "line": {
            "color": "#2a3f5f"
           }
          },
          "ternary": {
           "aaxis": {
            "gridcolor": "white",
            "linecolor": "white",
            "ticks": ""
           },
           "baxis": {
            "gridcolor": "white",
            "linecolor": "white",
            "ticks": ""
           },
           "bgcolor": "#E5ECF6",
           "caxis": {
            "gridcolor": "white",
            "linecolor": "white",
            "ticks": ""
           }
          },
          "title": {
           "x": 0.05
          },
          "xaxis": {
           "automargin": true,
           "gridcolor": "white",
           "linecolor": "white",
           "ticks": "",
           "title": {
            "standoff": 15
           },
           "zerolinecolor": "white",
           "zerolinewidth": 2
          },
          "yaxis": {
           "automargin": true,
           "gridcolor": "white",
           "linecolor": "white",
           "ticks": "",
           "title": {
            "standoff": 15
           },
           "zerolinecolor": "white",
           "zerolinewidth": 2
          }
         }
        },
        "title": {
         "text": "top 10 scorers of uefa champions league 19/20"
        },
        "xaxis": {
         "anchor": "y",
         "domain": [
          0,
          1
         ],
         "title": {
          "text": "name"
         }
        },
        "yaxis": {
         "anchor": "x",
         "domain": [
          0,
          1
         ],
         "title": {
          "text": "goals"
         }
        }
       }
      },
      "text/html": [
       "<div>                            <div id=\"7e02a91a-fef6-447e-8520-54b2438fb914\" class=\"plotly-graph-div\" style=\"height:525px; width:100%;\"></div>            <script type=\"text/javascript\">                require([\"plotly\"], function(Plotly) {                    window.PLOTLYENV=window.PLOTLYENV || {};                                    if (document.getElementById(\"7e02a91a-fef6-447e-8520-54b2438fb914\")) {                    Plotly.newPlot(                        \"7e02a91a-fef6-447e-8520-54b2438fb914\",                        [{\"hovertemplate\":\"name=%{x}<br>goals=%{y}<extra></extra>\",\"legendgroup\":\"\",\"line\":{\"color\":\"#636efa\",\"dash\":\"solid\"},\"marker\":{\"symbol\":\"circle\"},\"mode\":\"lines\",\"name\":\"\",\"orientation\":\"v\",\"showlegend\":false,\"type\":\"scatter\",\"x\":[\"Robert Lewandowski\",\"Erling Braut Haaland\",\"Serge Gnabry\",\"Harry Kane\",\"Gabriel Jesus\",\"Raheem Sterling\",\"Dries Mertens\",\"Memphis Depay\",\"Luis Su\\u00e1rez\",\"Josip Ili\\u010di\\u0107\"],\"xaxis\":\"x\",\"y\":[15,10,9,6,6,6,6,6,5,5],\"yaxis\":\"y\"}],                        {\"legend\":{\"tracegroupgap\":0},\"template\":{\"data\":{\"bar\":[{\"error_x\":{\"color\":\"#2a3f5f\"},\"error_y\":{\"color\":\"#2a3f5f\"},\"marker\":{\"line\":{\"color\":\"#E5ECF6\",\"width\":0.5},\"pattern\":{\"fillmode\":\"overlay\",\"size\":10,\"solidity\":0.2}},\"type\":\"bar\"}],\"barpolar\":[{\"marker\":{\"line\":{\"color\":\"#E5ECF6\",\"width\":0.5},\"pattern\":{\"fillmode\":\"overlay\",\"size\":10,\"solidity\":0.2}},\"type\":\"barpolar\"}],\"carpet\":[{\"aaxis\":{\"endlinecolor\":\"#2a3f5f\",\"gridcolor\":\"white\",\"linecolor\":\"white\",\"minorgridcolor\":\"white\",\"startlinecolor\":\"#2a3f5f\"},\"baxis\":{\"endlinecolor\":\"#2a3f5f\",\"gridcolor\":\"white\",\"linecolor\":\"white\",\"minorgridcolor\":\"white\",\"startlinecolor\":\"#2a3f5f\"},\"type\":\"carpet\"}],\"choropleth\":[{\"colorbar\":{\"outlinewidth\":0,\"ticks\":\"\"},\"type\":\"choropleth\"}],\"contour\":[{\"colorbar\":{\"outlinewidth\":0,\"ticks\":\"\"},\"colorscale\":[[0.0,\"#0d0887\"],[0.1111111111111111,\"#46039f\"],[0.2222222222222222,\"#7201a8\"],[0.3333333333333333,\"#9c179e\"],[0.4444444444444444,\"#bd3786\"],[0.5555555555555556,\"#d8576b\"],[0.6666666666666666,\"#ed7953\"],[0.7777777777777778,\"#fb9f3a\"],[0.8888888888888888,\"#fdca26\"],[1.0,\"#f0f921\"]],\"type\":\"contour\"}],\"contourcarpet\":[{\"colorbar\":{\"outlinewidth\":0,\"ticks\":\"\"},\"type\":\"contourcarpet\"}],\"heatmap\":[{\"colorbar\":{\"outlinewidth\":0,\"ticks\":\"\"},\"colorscale\":[[0.0,\"#0d0887\"],[0.1111111111111111,\"#46039f\"],[0.2222222222222222,\"#7201a8\"],[0.3333333333333333,\"#9c179e\"],[0.4444444444444444,\"#bd3786\"],[0.5555555555555556,\"#d8576b\"],[0.6666666666666666,\"#ed7953\"],[0.7777777777777778,\"#fb9f3a\"],[0.8888888888888888,\"#fdca26\"],[1.0,\"#f0f921\"]],\"type\":\"heatmap\"}],\"heatmapgl\":[{\"colorbar\":{\"outlinewidth\":0,\"ticks\":\"\"},\"colorscale\":[[0.0,\"#0d0887\"],[0.1111111111111111,\"#46039f\"],[0.2222222222222222,\"#7201a8\"],[0.3333333333333333,\"#9c179e\"],[0.4444444444444444,\"#bd3786\"],[0.5555555555555556,\"#d8576b\"],[0.6666666666666666,\"#ed7953\"],[0.7777777777777778,\"#fb9f3a\"],[0.8888888888888888,\"#fdca26\"],[1.0,\"#f0f921\"]],\"type\":\"heatmapgl\"}],\"histogram\":[{\"marker\":{\"pattern\":{\"fillmode\":\"overlay\",\"size\":10,\"solidity\":0.2}},\"type\":\"histogram\"}],\"histogram2d\":[{\"colorbar\":{\"outlinewidth\":0,\"ticks\":\"\"},\"colorscale\":[[0.0,\"#0d0887\"],[0.1111111111111111,\"#46039f\"],[0.2222222222222222,\"#7201a8\"],[0.3333333333333333,\"#9c179e\"],[0.4444444444444444,\"#bd3786\"],[0.5555555555555556,\"#d8576b\"],[0.6666666666666666,\"#ed7953\"],[0.7777777777777778,\"#fb9f3a\"],[0.8888888888888888,\"#fdca26\"],[1.0,\"#f0f921\"]],\"type\":\"histogram2d\"}],\"histogram2dcontour\":[{\"colorbar\":{\"outlinewidth\":0,\"ticks\":\"\"},\"colorscale\":[[0.0,\"#0d0887\"],[0.1111111111111111,\"#46039f\"],[0.2222222222222222,\"#7201a8\"],[0.3333333333333333,\"#9c179e\"],[0.4444444444444444,\"#bd3786\"],[0.5555555555555556,\"#d8576b\"],[0.6666666666666666,\"#ed7953\"],[0.7777777777777778,\"#fb9f3a\"],[0.8888888888888888,\"#fdca26\"],[1.0,\"#f0f921\"]],\"type\":\"histogram2dcontour\"}],\"mesh3d\":[{\"colorbar\":{\"outlinewidth\":0,\"ticks\":\"\"},\"type\":\"mesh3d\"}],\"parcoords\":[{\"line\":{\"colorbar\":{\"outlinewidth\":0,\"ticks\":\"\"}},\"type\":\"parcoords\"}],\"pie\":[{\"automargin\":true,\"type\":\"pie\"}],\"scatter\":[{\"marker\":{\"colorbar\":{\"outlinewidth\":0,\"ticks\":\"\"}},\"type\":\"scatter\"}],\"scatter3d\":[{\"line\":{\"colorbar\":{\"outlinewidth\":0,\"ticks\":\"\"}},\"marker\":{\"colorbar\":{\"outlinewidth\":0,\"ticks\":\"\"}},\"type\":\"scatter3d\"}],\"scattercarpet\":[{\"marker\":{\"colorbar\":{\"outlinewidth\":0,\"ticks\":\"\"}},\"type\":\"scattercarpet\"}],\"scattergeo\":[{\"marker\":{\"colorbar\":{\"outlinewidth\":0,\"ticks\":\"\"}},\"type\":\"scattergeo\"}],\"scattergl\":[{\"marker\":{\"colorbar\":{\"outlinewidth\":0,\"ticks\":\"\"}},\"type\":\"scattergl\"}],\"scattermapbox\":[{\"marker\":{\"colorbar\":{\"outlinewidth\":0,\"ticks\":\"\"}},\"type\":\"scattermapbox\"}],\"scatterpolar\":[{\"marker\":{\"colorbar\":{\"outlinewidth\":0,\"ticks\":\"\"}},\"type\":\"scatterpolar\"}],\"scatterpolargl\":[{\"marker\":{\"colorbar\":{\"outlinewidth\":0,\"ticks\":\"\"}},\"type\":\"scatterpolargl\"}],\"scatterternary\":[{\"marker\":{\"colorbar\":{\"outlinewidth\":0,\"ticks\":\"\"}},\"type\":\"scatterternary\"}],\"surface\":[{\"colorbar\":{\"outlinewidth\":0,\"ticks\":\"\"},\"colorscale\":[[0.0,\"#0d0887\"],[0.1111111111111111,\"#46039f\"],[0.2222222222222222,\"#7201a8\"],[0.3333333333333333,\"#9c179e\"],[0.4444444444444444,\"#bd3786\"],[0.5555555555555556,\"#d8576b\"],[0.6666666666666666,\"#ed7953\"],[0.7777777777777778,\"#fb9f3a\"],[0.8888888888888888,\"#fdca26\"],[1.0,\"#f0f921\"]],\"type\":\"surface\"}],\"table\":[{\"cells\":{\"fill\":{\"color\":\"#EBF0F8\"},\"line\":{\"color\":\"white\"}},\"header\":{\"fill\":{\"color\":\"#C8D4E3\"},\"line\":{\"color\":\"white\"}},\"type\":\"table\"}]},\"layout\":{\"annotationdefaults\":{\"arrowcolor\":\"#2a3f5f\",\"arrowhead\":0,\"arrowwidth\":1},\"autotypenumbers\":\"strict\",\"coloraxis\":{\"colorbar\":{\"outlinewidth\":0,\"ticks\":\"\"}},\"colorscale\":{\"diverging\":[[0,\"#8e0152\"],[0.1,\"#c51b7d\"],[0.2,\"#de77ae\"],[0.3,\"#f1b6da\"],[0.4,\"#fde0ef\"],[0.5,\"#f7f7f7\"],[0.6,\"#e6f5d0\"],[0.7,\"#b8e186\"],[0.8,\"#7fbc41\"],[0.9,\"#4d9221\"],[1,\"#276419\"]],\"sequential\":[[0.0,\"#0d0887\"],[0.1111111111111111,\"#46039f\"],[0.2222222222222222,\"#7201a8\"],[0.3333333333333333,\"#9c179e\"],[0.4444444444444444,\"#bd3786\"],[0.5555555555555556,\"#d8576b\"],[0.6666666666666666,\"#ed7953\"],[0.7777777777777778,\"#fb9f3a\"],[0.8888888888888888,\"#fdca26\"],[1.0,\"#f0f921\"]],\"sequentialminus\":[[0.0,\"#0d0887\"],[0.1111111111111111,\"#46039f\"],[0.2222222222222222,\"#7201a8\"],[0.3333333333333333,\"#9c179e\"],[0.4444444444444444,\"#bd3786\"],[0.5555555555555556,\"#d8576b\"],[0.6666666666666666,\"#ed7953\"],[0.7777777777777778,\"#fb9f3a\"],[0.8888888888888888,\"#fdca26\"],[1.0,\"#f0f921\"]]},\"colorway\":[\"#636efa\",\"#EF553B\",\"#00cc96\",\"#ab63fa\",\"#FFA15A\",\"#19d3f3\",\"#FF6692\",\"#B6E880\",\"#FF97FF\",\"#FECB52\"],\"font\":{\"color\":\"#2a3f5f\"},\"geo\":{\"bgcolor\":\"white\",\"lakecolor\":\"white\",\"landcolor\":\"#E5ECF6\",\"showlakes\":true,\"showland\":true,\"subunitcolor\":\"white\"},\"hoverlabel\":{\"align\":\"left\"},\"hovermode\":\"closest\",\"mapbox\":{\"style\":\"light\"},\"paper_bgcolor\":\"white\",\"plot_bgcolor\":\"#E5ECF6\",\"polar\":{\"angularaxis\":{\"gridcolor\":\"white\",\"linecolor\":\"white\",\"ticks\":\"\"},\"bgcolor\":\"#E5ECF6\",\"radialaxis\":{\"gridcolor\":\"white\",\"linecolor\":\"white\",\"ticks\":\"\"}},\"scene\":{\"xaxis\":{\"backgroundcolor\":\"#E5ECF6\",\"gridcolor\":\"white\",\"gridwidth\":2,\"linecolor\":\"white\",\"showbackground\":true,\"ticks\":\"\",\"zerolinecolor\":\"white\"},\"yaxis\":{\"backgroundcolor\":\"#E5ECF6\",\"gridcolor\":\"white\",\"gridwidth\":2,\"linecolor\":\"white\",\"showbackground\":true,\"ticks\":\"\",\"zerolinecolor\":\"white\"},\"zaxis\":{\"backgroundcolor\":\"#E5ECF6\",\"gridcolor\":\"white\",\"gridwidth\":2,\"linecolor\":\"white\",\"showbackground\":true,\"ticks\":\"\",\"zerolinecolor\":\"white\"}},\"shapedefaults\":{\"line\":{\"color\":\"#2a3f5f\"}},\"ternary\":{\"aaxis\":{\"gridcolor\":\"white\",\"linecolor\":\"white\",\"ticks\":\"\"},\"baxis\":{\"gridcolor\":\"white\",\"linecolor\":\"white\",\"ticks\":\"\"},\"bgcolor\":\"#E5ECF6\",\"caxis\":{\"gridcolor\":\"white\",\"linecolor\":\"white\",\"ticks\":\"\"}},\"title\":{\"x\":0.05},\"xaxis\":{\"automargin\":true,\"gridcolor\":\"white\",\"linecolor\":\"white\",\"ticks\":\"\",\"title\":{\"standoff\":15},\"zerolinecolor\":\"white\",\"zerolinewidth\":2},\"yaxis\":{\"automargin\":true,\"gridcolor\":\"white\",\"linecolor\":\"white\",\"ticks\":\"\",\"title\":{\"standoff\":15},\"zerolinecolor\":\"white\",\"zerolinewidth\":2}}},\"title\":{\"text\":\"top 10 scorers of uefa champions league 19/20\"},\"xaxis\":{\"anchor\":\"y\",\"domain\":[0.0,1.0],\"title\":{\"text\":\"name\"}},\"yaxis\":{\"anchor\":\"x\",\"domain\":[0.0,1.0],\"title\":{\"text\":\"goals\"}}},                        {\"responsive\": true}                    ).then(function(){\n",
       "                            \n",
       "var gd = document.getElementById('7e02a91a-fef6-447e-8520-54b2438fb914');\n",
       "var x = new MutationObserver(function (mutations, observer) {{\n",
       "        var display = window.getComputedStyle(gd).display;\n",
       "        if (!display || display === 'none') {{\n",
       "            console.log([gd, 'removed!']);\n",
       "            Plotly.purge(gd);\n",
       "            observer.disconnect();\n",
       "        }}\n",
       "}});\n",
       "\n",
       "// Listen for the removal of the full notebook cells\n",
       "var notebookContainer = gd.closest('#notebook-container');\n",
       "if (notebookContainer) {{\n",
       "    x.observe(notebookContainer, {childList: true});\n",
       "}}\n",
       "\n",
       "// Listen for the clearing of the current output cell\n",
       "var outputEl = gd.closest('.output');\n",
       "if (outputEl) {{\n",
       "    x.observe(outputEl, {childList: true});\n",
       "}}\n",
       "\n",
       "                        })                };                });            </script>        </div>"
      ]
     },
     "metadata": {},
     "output_type": "display_data"
    }
   ],
   "source": [
    "fig = px.line(top_10_scorers, x=\"name\", y=\"goals\", title='top 10 scorers of uefa champions league 19/20')\n",
    "fig.show()"
   ]
  },
  {
   "cell_type": "code",
   "execution_count": 1278,
   "id": "1de27161",
   "metadata": {},
   "outputs": [],
   "source": [
    "top_10_assists = value_player_list.nlargest(10,'assists')"
   ]
  },
  {
   "cell_type": "code",
   "execution_count": 1279,
   "id": "9b788cb3",
   "metadata": {},
   "outputs": [
    {
     "data": {
      "text/html": [
       "<div>\n",
       "<style scoped>\n",
       "    .dataframe tbody tr th:only-of-type {\n",
       "        vertical-align: middle;\n",
       "    }\n",
       "\n",
       "    .dataframe tbody tr th {\n",
       "        vertical-align: top;\n",
       "    }\n",
       "\n",
       "    .dataframe thead th {\n",
       "        text-align: right;\n",
       "    }\n",
       "</style>\n",
       "<table border=\"1\" class=\"dataframe\">\n",
       "  <thead>\n",
       "    <tr style=\"text-align: right;\">\n",
       "      <th></th>\n",
       "      <th>Unnamed: 0</th>\n",
       "      <th>name</th>\n",
       "      <th>season</th>\n",
       "      <th>season year</th>\n",
       "      <th>team</th>\n",
       "      <th>rating</th>\n",
       "      <th>goals</th>\n",
       "      <th>bigChancesCreated</th>\n",
       "      <th>bigChancesMissed</th>\n",
       "      <th>assists</th>\n",
       "      <th>...</th>\n",
       "      <th>scoringFrequency</th>\n",
       "      <th>yellowRedCards</th>\n",
       "      <th>savesCaught</th>\n",
       "      <th>savesParried</th>\n",
       "      <th>totalOwnHalfPasses</th>\n",
       "      <th>totalOppositionHalfPasses</th>\n",
       "      <th>totwAppearances</th>\n",
       "      <th>appearances</th>\n",
       "      <th>substitutionsIn</th>\n",
       "      <th>substitutionsOut</th>\n",
       "    </tr>\n",
       "  </thead>\n",
       "  <tbody>\n",
       "    <tr>\n",
       "      <th>1565</th>\n",
       "      <td>1565</td>\n",
       "      <td>Ángel Di María</td>\n",
       "      <td>UEFA Champions League 19/20</td>\n",
       "      <td>19/20</td>\n",
       "      <td>paris-saint-germain</td>\n",
       "      <td>7.733333</td>\n",
       "      <td>3</td>\n",
       "      <td>11.0</td>\n",
       "      <td>4.0</td>\n",
       "      <td>6.0</td>\n",
       "      <td>...</td>\n",
       "      <td>250.000000</td>\n",
       "      <td>0.0</td>\n",
       "      <td>0.0</td>\n",
       "      <td>0.0</td>\n",
       "      <td>97.0</td>\n",
       "      <td>259.0</td>\n",
       "      <td>0.0</td>\n",
       "      <td>9</td>\n",
       "      <td>NaN</td>\n",
       "      <td>NaN</td>\n",
       "    </tr>\n",
       "    <tr>\n",
       "      <th>2072</th>\n",
       "      <td>2072</td>\n",
       "      <td>Robert Lewandowski</td>\n",
       "      <td>UEFA Champions League 19/20</td>\n",
       "      <td>19/20</td>\n",
       "      <td>bayern-munchen</td>\n",
       "      <td>8.350000</td>\n",
       "      <td>15</td>\n",
       "      <td>6.0</td>\n",
       "      <td>11.0</td>\n",
       "      <td>5.0</td>\n",
       "      <td>...</td>\n",
       "      <td>59.133333</td>\n",
       "      <td>0.0</td>\n",
       "      <td>0.0</td>\n",
       "      <td>0.0</td>\n",
       "      <td>34.0</td>\n",
       "      <td>220.0</td>\n",
       "      <td>2.0</td>\n",
       "      <td>10</td>\n",
       "      <td>NaN</td>\n",
       "      <td>NaN</td>\n",
       "    </tr>\n",
       "    <tr>\n",
       "      <th>5353</th>\n",
       "      <td>5353</td>\n",
       "      <td>Kylian Mbappé</td>\n",
       "      <td>UEFA Champions League 19/20</td>\n",
       "      <td>19/20</td>\n",
       "      <td>paris-saint-germain</td>\n",
       "      <td>7.230000</td>\n",
       "      <td>5</td>\n",
       "      <td>7.0</td>\n",
       "      <td>10.0</td>\n",
       "      <td>5.0</td>\n",
       "      <td>...</td>\n",
       "      <td>130.400000</td>\n",
       "      <td>0.0</td>\n",
       "      <td>0.0</td>\n",
       "      <td>0.0</td>\n",
       "      <td>46.0</td>\n",
       "      <td>211.0</td>\n",
       "      <td>1.0</td>\n",
       "      <td>10</td>\n",
       "      <td>NaN</td>\n",
       "      <td>NaN</td>\n",
       "    </tr>\n",
       "    <tr>\n",
       "      <th>3476</th>\n",
       "      <td>3476</td>\n",
       "      <td>Neymar</td>\n",
       "      <td>UEFA Champions League 19/20</td>\n",
       "      <td>19/20</td>\n",
       "      <td>paris-saint-germain</td>\n",
       "      <td>7.714286</td>\n",
       "      <td>3</td>\n",
       "      <td>4.0</td>\n",
       "      <td>4.0</td>\n",
       "      <td>4.0</td>\n",
       "      <td>...</td>\n",
       "      <td>195.000000</td>\n",
       "      <td>0.0</td>\n",
       "      <td>0.0</td>\n",
       "      <td>0.0</td>\n",
       "      <td>68.0</td>\n",
       "      <td>282.0</td>\n",
       "      <td>1.0</td>\n",
       "      <td>7</td>\n",
       "      <td>NaN</td>\n",
       "      <td>NaN</td>\n",
       "    </tr>\n",
       "    <tr>\n",
       "      <th>4472</th>\n",
       "      <td>4472</td>\n",
       "      <td>Joshua Kimmich</td>\n",
       "      <td>UEFA Champions League 19/20</td>\n",
       "      <td>19/20</td>\n",
       "      <td>bayern-munchen</td>\n",
       "      <td>7.554545</td>\n",
       "      <td>2</td>\n",
       "      <td>4.0</td>\n",
       "      <td>0.0</td>\n",
       "      <td>4.0</td>\n",
       "      <td>...</td>\n",
       "      <td>451.500000</td>\n",
       "      <td>0.0</td>\n",
       "      <td>0.0</td>\n",
       "      <td>0.0</td>\n",
       "      <td>325.0</td>\n",
       "      <td>494.0</td>\n",
       "      <td>0.0</td>\n",
       "      <td>11</td>\n",
       "      <td>NaN</td>\n",
       "      <td>NaN</td>\n",
       "    </tr>\n",
       "    <tr>\n",
       "      <th>4403</th>\n",
       "      <td>4403</td>\n",
       "      <td>Hakim Ziyech</td>\n",
       "      <td>UEFA Champions League 19/20</td>\n",
       "      <td>19/20</td>\n",
       "      <td>chelsea</td>\n",
       "      <td>7.500000</td>\n",
       "      <td>2</td>\n",
       "      <td>4.0</td>\n",
       "      <td>1.0</td>\n",
       "      <td>4.0</td>\n",
       "      <td>...</td>\n",
       "      <td>249.500000</td>\n",
       "      <td>0.0</td>\n",
       "      <td>0.0</td>\n",
       "      <td>0.0</td>\n",
       "      <td>72.0</td>\n",
       "      <td>253.0</td>\n",
       "      <td>1.0</td>\n",
       "      <td>6</td>\n",
       "      <td>NaN</td>\n",
       "      <td>NaN</td>\n",
       "    </tr>\n",
       "    <tr>\n",
       "      <th>3967</th>\n",
       "      <td>3967</td>\n",
       "      <td>Riyad Mahrez</td>\n",
       "      <td>UEFA Champions League 19/20</td>\n",
       "      <td>19/20</td>\n",
       "      <td>manchester-city</td>\n",
       "      <td>7.457143</td>\n",
       "      <td>1</td>\n",
       "      <td>5.0</td>\n",
       "      <td>2.0</td>\n",
       "      <td>4.0</td>\n",
       "      <td>...</td>\n",
       "      <td>572.000000</td>\n",
       "      <td>0.0</td>\n",
       "      <td>0.0</td>\n",
       "      <td>0.0</td>\n",
       "      <td>81.0</td>\n",
       "      <td>253.0</td>\n",
       "      <td>1.0</td>\n",
       "      <td>7</td>\n",
       "      <td>NaN</td>\n",
       "      <td>NaN</td>\n",
       "    </tr>\n",
       "    <tr>\n",
       "      <th>5451</th>\n",
       "      <td>5451</td>\n",
       "      <td>Houssem Aouar</td>\n",
       "      <td>UEFA Champions League 19/20</td>\n",
       "      <td>19/20</td>\n",
       "      <td>olympique-lyonnais</td>\n",
       "      <td>7.062500</td>\n",
       "      <td>1</td>\n",
       "      <td>5.0</td>\n",
       "      <td>0.0</td>\n",
       "      <td>4.0</td>\n",
       "      <td>...</td>\n",
       "      <td>713.000000</td>\n",
       "      <td>0.0</td>\n",
       "      <td>0.0</td>\n",
       "      <td>0.0</td>\n",
       "      <td>99.0</td>\n",
       "      <td>212.0</td>\n",
       "      <td>0.0</td>\n",
       "      <td>8</td>\n",
       "      <td>NaN</td>\n",
       "      <td>NaN</td>\n",
       "    </tr>\n",
       "    <tr>\n",
       "      <th>702</th>\n",
       "      <td>702</td>\n",
       "      <td>Lionel Messi</td>\n",
       "      <td>UEFA Champions League 19/20</td>\n",
       "      <td>19/20</td>\n",
       "      <td>barcelona</td>\n",
       "      <td>8.012500</td>\n",
       "      <td>3</td>\n",
       "      <td>7.0</td>\n",
       "      <td>4.0</td>\n",
       "      <td>3.0</td>\n",
       "      <td>...</td>\n",
       "      <td>220.333333</td>\n",
       "      <td>0.0</td>\n",
       "      <td>0.0</td>\n",
       "      <td>0.0</td>\n",
       "      <td>59.0</td>\n",
       "      <td>337.0</td>\n",
       "      <td>3.0</td>\n",
       "      <td>8</td>\n",
       "      <td>NaN</td>\n",
       "      <td>NaN</td>\n",
       "    </tr>\n",
       "    <tr>\n",
       "      <th>5091</th>\n",
       "      <td>5091</td>\n",
       "      <td>Hee-Chan Hwang</td>\n",
       "      <td>UEFA Champions League 19/20</td>\n",
       "      <td>19/20</td>\n",
       "      <td>rb-leipzig</td>\n",
       "      <td>7.700000</td>\n",
       "      <td>3</td>\n",
       "      <td>4.0</td>\n",
       "      <td>0.0</td>\n",
       "      <td>3.0</td>\n",
       "      <td>...</td>\n",
       "      <td>180.000000</td>\n",
       "      <td>0.0</td>\n",
       "      <td>0.0</td>\n",
       "      <td>0.0</td>\n",
       "      <td>32.0</td>\n",
       "      <td>140.0</td>\n",
       "      <td>1.0</td>\n",
       "      <td>6</td>\n",
       "      <td>NaN</td>\n",
       "      <td>NaN</td>\n",
       "    </tr>\n",
       "  </tbody>\n",
       "</table>\n",
       "<p>10 rows × 109 columns</p>\n",
       "</div>"
      ],
      "text/plain": [
       "      Unnamed: 0                name                       season season year  \\\n",
       "1565        1565      Ángel Di María  UEFA Champions League 19/20       19/20   \n",
       "2072        2072  Robert Lewandowski  UEFA Champions League 19/20       19/20   \n",
       "5353        5353       Kylian Mbappé  UEFA Champions League 19/20       19/20   \n",
       "3476        3476              Neymar  UEFA Champions League 19/20       19/20   \n",
       "4472        4472      Joshua Kimmich  UEFA Champions League 19/20       19/20   \n",
       "4403        4403        Hakim Ziyech  UEFA Champions League 19/20       19/20   \n",
       "3967        3967        Riyad Mahrez  UEFA Champions League 19/20       19/20   \n",
       "5451        5451       Houssem Aouar  UEFA Champions League 19/20       19/20   \n",
       "702          702        Lionel Messi  UEFA Champions League 19/20       19/20   \n",
       "5091        5091      Hee-Chan Hwang  UEFA Champions League 19/20       19/20   \n",
       "\n",
       "                     team    rating  goals  bigChancesCreated  \\\n",
       "1565  paris-saint-germain  7.733333      3               11.0   \n",
       "2072       bayern-munchen  8.350000     15                6.0   \n",
       "5353  paris-saint-germain  7.230000      5                7.0   \n",
       "3476  paris-saint-germain  7.714286      3                4.0   \n",
       "4472       bayern-munchen  7.554545      2                4.0   \n",
       "4403              chelsea  7.500000      2                4.0   \n",
       "3967      manchester-city  7.457143      1                5.0   \n",
       "5451   olympique-lyonnais  7.062500      1                5.0   \n",
       "702             barcelona  8.012500      3                7.0   \n",
       "5091           rb-leipzig  7.700000      3                4.0   \n",
       "\n",
       "      bigChancesMissed  assists  ...  scoringFrequency  yellowRedCards  \\\n",
       "1565               4.0      6.0  ...        250.000000             0.0   \n",
       "2072              11.0      5.0  ...         59.133333             0.0   \n",
       "5353              10.0      5.0  ...        130.400000             0.0   \n",
       "3476               4.0      4.0  ...        195.000000             0.0   \n",
       "4472               0.0      4.0  ...        451.500000             0.0   \n",
       "4403               1.0      4.0  ...        249.500000             0.0   \n",
       "3967               2.0      4.0  ...        572.000000             0.0   \n",
       "5451               0.0      4.0  ...        713.000000             0.0   \n",
       "702                4.0      3.0  ...        220.333333             0.0   \n",
       "5091               0.0      3.0  ...        180.000000             0.0   \n",
       "\n",
       "      savesCaught  savesParried  totalOwnHalfPasses  \\\n",
       "1565          0.0           0.0                97.0   \n",
       "2072          0.0           0.0                34.0   \n",
       "5353          0.0           0.0                46.0   \n",
       "3476          0.0           0.0                68.0   \n",
       "4472          0.0           0.0               325.0   \n",
       "4403          0.0           0.0                72.0   \n",
       "3967          0.0           0.0                81.0   \n",
       "5451          0.0           0.0                99.0   \n",
       "702           0.0           0.0                59.0   \n",
       "5091          0.0           0.0                32.0   \n",
       "\n",
       "      totalOppositionHalfPasses  totwAppearances  appearances  \\\n",
       "1565                      259.0              0.0            9   \n",
       "2072                      220.0              2.0           10   \n",
       "5353                      211.0              1.0           10   \n",
       "3476                      282.0              1.0            7   \n",
       "4472                      494.0              0.0           11   \n",
       "4403                      253.0              1.0            6   \n",
       "3967                      253.0              1.0            7   \n",
       "5451                      212.0              0.0            8   \n",
       "702                       337.0              3.0            8   \n",
       "5091                      140.0              1.0            6   \n",
       "\n",
       "      substitutionsIn  substitutionsOut  \n",
       "1565              NaN               NaN  \n",
       "2072              NaN               NaN  \n",
       "5353              NaN               NaN  \n",
       "3476              NaN               NaN  \n",
       "4472              NaN               NaN  \n",
       "4403              NaN               NaN  \n",
       "3967              NaN               NaN  \n",
       "5451              NaN               NaN  \n",
       "702               NaN               NaN  \n",
       "5091              NaN               NaN  \n",
       "\n",
       "[10 rows x 109 columns]"
      ]
     },
     "execution_count": 1279,
     "metadata": {},
     "output_type": "execute_result"
    }
   ],
   "source": [
    "top_10_assists"
   ]
  },
  {
   "cell_type": "code",
   "execution_count": 1280,
   "id": "335adb4e",
   "metadata": {},
   "outputs": [
    {
     "data": {
      "text/plain": [
       "<AxesSubplot:xlabel='name', ylabel='assists'>"
      ]
     },
     "execution_count": 1280,
     "metadata": {},
     "output_type": "execute_result"
    },
    {
     "data": {
      "image/png": "[encoded data removed]",
      "text/plain": [
       "<Figure size 1440x576 with 1 Axes>"
      ]
     },
     "metadata": {
      "needs_background": "light"
     },
     "output_type": "display_data"
    }
   ],
   "source": [
    "plt.figure(figsize=(20,8))\n",
    "sns.barplot(x=\"name\", y=\"assists\", data=top_10_assists)"
   ]
  },
  {
   "cell_type": "code",
   "execution_count": 1281,
   "id": "8e03efc5",
   "metadata": {},
   "outputs": [
    {
     "data": {
      "application/vnd.plotly.v1+json": {
       "config": {
        "plotlyServerURL": "https://plot.ly"
       },
       "data": [
        {
         "hovertemplate": "name=%{x}<br>assists=%{y}<extra></extra>",
         "legendgroup": "",
         "line": {
          "color": "#636efa",
          "dash": "solid"
         },
         "marker": {
          "symbol": "circle"
         },
         "mode": "lines",
         "name": "",
         "orientation": "v",
         "showlegend": false,
         "type": "scatter",
         "x": [
          "Ángel Di María",
          "Robert Lewandowski",
          "Kylian Mbappé",
          "Neymar",
          "Joshua Kimmich",
          "Hakim Ziyech",
          "Riyad Mahrez",
          "Houssem Aouar",
          "Lionel Messi",
          "Hee-Chan Hwang"
         ],
         "xaxis": "x",
         "y": [
          6,
          5,
          5,
          4,
          4,
          4,
          4,
          4,
          3,
          3
         ],
         "yaxis": "y"
        }
       ],
       "layout": {
        "legend": {
         "tracegroupgap": 0
        },
        "template": {
         "data": {
          "bar": [
           {
            "error_x": {
             "color": "#2a3f5f"
            },
            "error_y": {
             "color": "#2a3f5f"
            },
            "marker": {
             "line": {
              "color": "#E5ECF6",
              "width": 0.5
             },
             "pattern": {
              "fillmode": "overlay",
              "size": 10,
              "solidity": 0.2
             }
            },
            "type": "bar"
           }
          ],
          "barpolar": [
           {
            "marker": {
             "line": {
              "color": "#E5ECF6",
              "width": 0.5
             },
             "pattern": {
              "fillmode": "overlay",
              "size": 10,
              "solidity": 0.2
             }
            },
            "type": "barpolar"
           }
          ],
          "carpet": [
           {
            "aaxis": {
             "endlinecolor": "#2a3f5f",
             "gridcolor": "white",
             "linecolor": "white",
             "minorgridcolor": "white",
             "startlinecolor": "#2a3f5f"
            },
            "baxis": {
             "endlinecolor": "#2a3f5f",
             "gridcolor": "white",
             "linecolor": "white",
             "minorgridcolor": "white",
             "startlinecolor": "#2a3f5f"
            },
            "type": "carpet"
           }
          ],
          "choropleth": [
           {
            "colorbar": {
             "outlinewidth": 0,
             "ticks": ""
            },
            "type": "choropleth"
           }
          ],
          "contour": [
           {
            "colorbar": {
             "outlinewidth": 0,
             "ticks": ""
            },
            "colorscale": [
             [
              0,
              "#0d0887"
             ],
             [
              0.1111111111111111,
              "#46039f"
             ],
             [
              0.2222222222222222,
              "#7201a8"
             ],
             [
              0.3333333333333333,
              "#9c179e"
             ],
             [
              0.4444444444444444,
              "#bd3786"
             ],
             [
              0.5555555555555556,
              "#d8576b"
             ],
             [
              0.6666666666666666,
              "#ed7953"
             ],
             [
              0.7777777777777778,
              "#fb9f3a"
             ],
             [
              0.8888888888888888,
              "#fdca26"
             ],
             [
              1,
              "#f0f921"
             ]
            ],
            "type": "contour"
           }
          ],
          "contourcarpet": [
           {
            "colorbar": {
             "outlinewidth": 0,
             "ticks": ""
            },
            "type": "contourcarpet"
           }
          ],
          "heatmap": [
           {
            "colorbar": {
             "outlinewidth": 0,
             "ticks": ""
            },
            "colorscale": [
             [
              0,
              "#0d0887"
             ],
             [
              0.1111111111111111,
              "#46039f"
             ],
             [
              0.2222222222222222,
              "#7201a8"
             ],
             [
              0.3333333333333333,
              "#9c179e"
             ],
             [
              0.4444444444444444,
              "#bd3786"
             ],
             [
              0.5555555555555556,
              "#d8576b"
             ],
             [
              0.6666666666666666,
              "#ed7953"
             ],
             [
              0.7777777777777778,
              "#fb9f3a"
             ],
             [
              0.8888888888888888,
              "#fdca26"
             ],
             [
              1,
              "#f0f921"
             ]
            ],
            "type": "heatmap"
           }
          ],
          "heatmapgl": [
           {
            "colorbar": {
             "outlinewidth": 0,
             "ticks": ""
            },
            "colorscale": [
             [
              0,
              "#0d0887"
             ],
             [
              0.1111111111111111,
              "#46039f"
             ],
             [
              0.2222222222222222,
              "#7201a8"
             ],
             [
              0.3333333333333333,
              "#9c179e"
             ],
             [
              0.4444444444444444,
              "#bd3786"
             ],
             [
              0.5555555555555556,
              "#d8576b"
             ],
             [
              0.6666666666666666,
              "#ed7953"
             ],
             [
              0.7777777777777778,
              "#fb9f3a"
             ],
             [
              0.8888888888888888,
              "#fdca26"
             ],
             [
              1,
              "#f0f921"
             ]
            ],
            "type": "heatmapgl"
           }
          ],
          "histogram": [
           {
            "marker": {
             "pattern": {
              "fillmode": "overlay",
              "size": 10,
              "solidity": 0.2
             }
            },
            "type": "histogram"
           }
          ],
          "histogram2d": [
           {
            "colorbar": {
             "outlinewidth": 0,
             "ticks": ""
            },
            "colorscale": [
             [
              0,
              "#0d0887"
             ],
             [
              0.1111111111111111,
              "#46039f"
             ],
             [
              0.2222222222222222,
              "#7201a8"
             ],
             [
              0.3333333333333333,
              "#9c179e"
             ],
             [
              0.4444444444444444,
              "#bd3786"
             ],
             [
              0.5555555555555556,
              "#d8576b"
             ],
             [
              0.6666666666666666,
              "#ed7953"
             ],
             [
              0.7777777777777778,
              "#fb9f3a"
             ],
             [
              0.8888888888888888,
              "#fdca26"
             ],
             [
              1,
              "#f0f921"
             ]
            ],
            "type": "histogram2d"
           }
          ],
          "histogram2dcontour": [
           {
            "colorbar": {
             "outlinewidth": 0,
             "ticks": ""
            },
            "colorscale": [
             [
              0,
              "#0d0887"
             ],
             [
              0.1111111111111111,
              "#46039f"
             ],
             [
              0.2222222222222222,
              "#7201a8"
             ],
             [
              0.3333333333333333,
              "#9c179e"
             ],
             [
              0.4444444444444444,
              "#bd3786"
             ],
             [
              0.5555555555555556,
              "#d8576b"
             ],
             [
              0.6666666666666666,
              "#ed7953"
             ],
             [
              0.7777777777777778,
              "#fb9f3a"
             ],
             [
              0.8888888888888888,
              "#fdca26"
             ],
             [
              1,
              "#f0f921"
             ]
            ],
            "type": "histogram2dcontour"
           }
          ],
          "mesh3d": [
           {
            "colorbar": {
             "outlinewidth": 0,
             "ticks": ""
            },
            "type": "mesh3d"
           }
          ],
          "parcoords": [
           {
            "line": {
             "colorbar": {
              "outlinewidth": 0,
              "ticks": ""
             }
            },
            "type": "parcoords"
           }
          ],
          "pie": [
           {
            "automargin": true,
            "type": "pie"
           }
          ],
          "scatter": [
           {
            "marker": {
             "colorbar": {
              "outlinewidth": 0,
              "ticks": ""
             }
            },
            "type": "scatter"
           }
          ],
          "scatter3d": [
           {
            "line": {
             "colorbar": {
              "outlinewidth": 0,
              "ticks": ""
             }
            },
            "marker": {
             "colorbar": {
              "outlinewidth": 0,
              "ticks": ""
             }
            },
            "type": "scatter3d"
           }
          ],
          "scattercarpet": [
           {
            "marker": {
             "colorbar": {
              "outlinewidth": 0,
              "ticks": ""
             }
            },
            "type": "scattercarpet"
           }
          ],
          "scattergeo": [
           {
            "marker": {
             "colorbar": {
              "outlinewidth": 0,
              "ticks": ""
             }
            },
            "type": "scattergeo"
           }
          ],
          "scattergl": [
           {
            "marker": {
             "colorbar": {
              "outlinewidth": 0,
              "ticks": ""
             }
            },
            "type": "scattergl"
           }
          ],
          "scattermapbox": [
           {
            "marker": {
             "colorbar": {
              "outlinewidth": 0,
              "ticks": ""
             }
            },
            "type": "scattermapbox"
           }
          ],
          "scatterpolar": [
           {
            "marker": {
             "colorbar": {
              "outlinewidth": 0,
              "ticks": ""
             }
            },
            "type": "scatterpolar"
           }
          ],
          "scatterpolargl": [
           {
            "marker": {
             "colorbar": {
              "outlinewidth": 0,
              "ticks": ""
             }
            },
            "type": "scatterpolargl"
           }
          ],
          "scatterternary": [
           {
            "marker": {
             "colorbar": {
              "outlinewidth": 0,
              "ticks": ""
             }
            },
            "type": "scatterternary"
           }
          ],
          "surface": [
           {
            "colorbar": {
             "outlinewidth": 0,
             "ticks": ""
            },
            "colorscale": [
             [
              0,
              "#0d0887"
             ],
             [
              0.1111111111111111,
              "#46039f"
             ],
             [
              0.2222222222222222,
              "#7201a8"
             ],
             [
              0.3333333333333333,
              "#9c179e"
             ],
             [
              0.4444444444444444,
              "#bd3786"
             ],
             [
              0.5555555555555556,
              "#d8576b"
             ],
             [
              0.6666666666666666,
              "#ed7953"
             ],
             [
              0.7777777777777778,
              "#fb9f3a"
             ],
             [
              0.8888888888888888,
              "#fdca26"
             ],
             [
              1,
              "#f0f921"
             ]
            ],
            "type": "surface"
           }
          ],
          "table": [
           {
            "cells": {
             "fill": {
              "color": "#EBF0F8"
             },
             "line": {
              "color": "white"
             }
            },
            "header": {
             "fill": {
              "color": "#C8D4E3"
             },
             "line": {
              "color": "white"
             }
            },
            "type": "table"
           }
          ]
         },
         "layout": {
          "annotationdefaults": {
           "arrowcolor": "#2a3f5f",
           "arrowhead": 0,
           "arrowwidth": 1
          },
          "autotypenumbers": "strict",
          "coloraxis": {
           "colorbar": {
            "outlinewidth": 0,
            "ticks": ""
           }
          },
          "colorscale": {
           "diverging": [
            [
             0,
             "#8e0152"
            ],
            [
             0.1,
             "#c51b7d"
            ],
            [
             0.2,
             "#de77ae"
            ],
            [
             0.3,
             "#f1b6da"
            ],
            [
             0.4,
             "#fde0ef"
            ],
            [
             0.5,
             "#f7f7f7"
            ],
            [
             0.6,
             "#e6f5d0"
            ],
            [
             0.7,
             "#b8e186"
            ],
            [
             0.8,
             "#7fbc41"
            ],
            [
             0.9,
             "#4d9221"
            ],
            [
             1,
             "#276419"
            ]
           ],
           "sequential": [
            [
             0,
             "#0d0887"
            ],
            [
             0.1111111111111111,
             "#46039f"
            ],
            [
             0.2222222222222222,
             "#7201a8"
            ],
            [
             0.3333333333333333,
             "#9c179e"
            ],
            [
             0.4444444444444444,
             "#bd3786"
            ],
            [
             0.5555555555555556,
             "#d8576b"
            ],
            [
             0.6666666666666666,
             "#ed7953"
            ],
            [
             0.7777777777777778,
             "#fb9f3a"
            ],
            [
             0.8888888888888888,
             "#fdca26"
            ],
            [
             1,
             "#f0f921"
            ]
           ],
           "sequentialminus": [
            [
             0,
             "#0d0887"
            ],
            [
             0.1111111111111111,
             "#46039f"
            ],
            [
             0.2222222222222222,
             "#7201a8"
            ],
            [
             0.3333333333333333,
             "#9c179e"
            ],
            [
             0.4444444444444444,
             "#bd3786"
            ],
            [
             0.5555555555555556,
             "#d8576b"
            ],
            [
             0.6666666666666666,
             "#ed7953"
            ],
            [
             0.7777777777777778,
             "#fb9f3a"
            ],
            [
             0.8888888888888888,
             "#fdca26"
            ],
            [
             1,
             "#f0f921"
            ]
           ]
          },
          "colorway": [
           "#636efa",
           "#EF553B",
           "#00cc96",
           "#ab63fa",
           "#FFA15A",
           "#19d3f3",
           "#FF6692",
           "#B6E880",
           "#FF97FF",
           "#FECB52"
          ],
          "font": {
           "color": "#2a3f5f"
          },
          "geo": {
           "bgcolor": "white",
           "lakecolor": "white",
           "landcolor": "#E5ECF6",
           "showlakes": true,
           "showland": true,
           "subunitcolor": "white"
          },
          "hoverlabel": {
           "align": "left"
          },
          "hovermode": "closest",
          "mapbox": {
           "style": "light"
          },
          "paper_bgcolor": "white",
          "plot_bgcolor": "#E5ECF6",
          "polar": {
           "angularaxis": {
            "gridcolor": "white",
            "linecolor": "white",
            "ticks": ""
           },
           "bgcolor": "#E5ECF6",
           "radialaxis": {
            "gridcolor": "white",
            "linecolor": "white",
            "ticks": ""
           }
          },
          "scene": {
           "xaxis": {
            "backgroundcolor": "#E5ECF6",
            "gridcolor": "white",
            "gridwidth": 2,
            "linecolor": "white",
            "showbackground": true,
            "ticks": "",
            "zerolinecolor": "white"
           },
           "yaxis": {
            "backgroundcolor": "#E5ECF6",
            "gridcolor": "white",
            "gridwidth": 2,
            "linecolor": "white",
            "showbackground": true,
            "ticks": "",
            "zerolinecolor": "white"
           },
           "zaxis": {
            "backgroundcolor": "#E5ECF6",
            "gridcolor": "white",
            "gridwidth": 2,
            "linecolor": "white",
            "showbackground": true,
            "ticks": "",
            "zerolinecolor": "white"
           }
          },
          "shapedefaults": {
           "line": {
            "color": "#2a3f5f"
           }
          },
          "ternary": {
           "aaxis": {
            "gridcolor": "white",
            "linecolor": "white",
            "ticks": ""
           },
           "baxis": {
            "gridcolor": "white",
            "linecolor": "white",
            "ticks": ""
           },
           "bgcolor": "#E5ECF6",
           "caxis": {
            "gridcolor": "white",
            "linecolor": "white",
            "ticks": ""
           }
          },
          "title": {
           "x": 0.05
          },
          "xaxis": {
           "automargin": true,
           "gridcolor": "white",
           "linecolor": "white",
           "ticks": "",
           "title": {
            "standoff": 15
           },
           "zerolinecolor": "white",
           "zerolinewidth": 2
          },
          "yaxis": {
           "automargin": true,
           "gridcolor": "white",
           "linecolor": "white",
           "ticks": "",
           "title": {
            "standoff": 15
           },
           "zerolinecolor": "white",
           "zerolinewidth": 2
          }
         }
        },
        "title": {
         "text": "top 10 assist providers of uefa champions league 19/20"
        },
        "xaxis": {
         "anchor": "y",
         "domain": [
          0,
          1
         ],
         "title": {
          "text": "name"
         }
        },
        "yaxis": {
         "anchor": "x",
         "domain": [
          0,
          1
         ],
         "title": {
          "text": "assists"
         }
        }
       }
      },
      "text/html": [
       "<div>                            <div id=\"bd45876e-c6f0-4fdc-a6aa-1b09e6be232d\" class=\"plotly-graph-div\" style=\"height:525px; width:100%;\"></div>            <script type=\"text/javascript\">                require([\"plotly\"], function(Plotly) {                    window.PLOTLYENV=window.PLOTLYENV || {};                                    if (document.getElementById(\"bd45876e-c6f0-4fdc-a6aa-1b09e6be232d\")) {                    Plotly.newPlot(                        \"bd45876e-c6f0-4fdc-a6aa-1b09e6be232d\",                        [{\"hovertemplate\":\"name=%{x}<br>assists=%{y}<extra></extra>\",\"legendgroup\":\"\",\"line\":{\"color\":\"#636efa\",\"dash\":\"solid\"},\"marker\":{\"symbol\":\"circle\"},\"mode\":\"lines\",\"name\":\"\",\"orientation\":\"v\",\"showlegend\":false,\"type\":\"scatter\",\"x\":[\"\\u00c1ngel Di Mar\\u00eda\",\"Robert Lewandowski\",\"Kylian Mbapp\\u00e9\",\"Neymar\",\"Joshua Kimmich\",\"Hakim Ziyech\",\"Riyad Mahrez\",\"Houssem Aouar\",\"Lionel Messi\",\"Hee-Chan Hwang\"],\"xaxis\":\"x\",\"y\":[6.0,5.0,5.0,4.0,4.0,4.0,4.0,4.0,3.0,3.0],\"yaxis\":\"y\"}],                        {\"legend\":{\"tracegroupgap\":0},\"template\":{\"data\":{\"bar\":[{\"error_x\":{\"color\":\"#2a3f5f\"},\"error_y\":{\"color\":\"#2a3f5f\"},\"marker\":{\"line\":{\"color\":\"#E5ECF6\",\"width\":0.5},\"pattern\":{\"fillmode\":\"overlay\",\"size\":10,\"solidity\":0.2}},\"type\":\"bar\"}],\"barpolar\":[{\"marker\":{\"line\":{\"color\":\"#E5ECF6\",\"width\":0.5},\"pattern\":{\"fillmode\":\"overlay\",\"size\":10,\"solidity\":0.2}},\"type\":\"barpolar\"}],\"carpet\":[{\"aaxis\":{\"endlinecolor\":\"#2a3f5f\",\"gridcolor\":\"white\",\"linecolor\":\"white\",\"minorgridcolor\":\"white\",\"startlinecolor\":\"#2a3f5f\"},\"baxis\":{\"endlinecolor\":\"#2a3f5f\",\"gridcolor\":\"white\",\"linecolor\":\"white\",\"minorgridcolor\":\"white\",\"startlinecolor\":\"#2a3f5f\"},\"type\":\"carpet\"}],\"choropleth\":[{\"colorbar\":{\"outlinewidth\":0,\"ticks\":\"\"},\"type\":\"choropleth\"}],\"contour\":[{\"colorbar\":{\"outlinewidth\":0,\"ticks\":\"\"},\"colorscale\":[[0.0,\"#0d0887\"],[0.1111111111111111,\"#46039f\"],[0.2222222222222222,\"#7201a8\"],[0.3333333333333333,\"#9c179e\"],[0.4444444444444444,\"#bd3786\"],[0.5555555555555556,\"#d8576b\"],[0.6666666666666666,\"#ed7953\"],[0.7777777777777778,\"#fb9f3a\"],[0.8888888888888888,\"#fdca26\"],[1.0,\"#f0f921\"]],\"type\":\"contour\"}],\"contourcarpet\":[{\"colorbar\":{\"outlinewidth\":0,\"ticks\":\"\"},\"type\":\"contourcarpet\"}],\"heatmap\":[{\"colorbar\":{\"outlinewidth\":0,\"ticks\":\"\"},\"colorscale\":[[0.0,\"#0d0887\"],[0.1111111111111111,\"#46039f\"],[0.2222222222222222,\"#7201a8\"],[0.3333333333333333,\"#9c179e\"],[0.4444444444444444,\"#bd3786\"],[0.5555555555555556,\"#d8576b\"],[0.6666666666666666,\"#ed7953\"],[0.7777777777777778,\"#fb9f3a\"],[0.8888888888888888,\"#fdca26\"],[1.0,\"#f0f921\"]],\"type\":\"heatmap\"}],\"heatmapgl\":[{\"colorbar\":{\"outlinewidth\":0,\"ticks\":\"\"},\"colorscale\":[[0.0,\"#0d0887\"],[0.1111111111111111,\"#46039f\"],[0.2222222222222222,\"#7201a8\"],[0.3333333333333333,\"#9c179e\"],[0.4444444444444444,\"#bd3786\"],[0.5555555555555556,\"#d8576b\"],[0.6666666666666666,\"#ed7953\"],[0.7777777777777778,\"#fb9f3a\"],[0.8888888888888888,\"#fdca26\"],[1.0,\"#f0f921\"]],\"type\":\"heatmapgl\"}],\"histogram\":[{\"marker\":{\"pattern\":{\"fillmode\":\"overlay\",\"size\":10,\"solidity\":0.2}},\"type\":\"histogram\"}],\"histogram2d\":[{\"colorbar\":{\"outlinewidth\":0,\"ticks\":\"\"},\"colorscale\":[[0.0,\"#0d0887\"],[0.1111111111111111,\"#46039f\"],[0.2222222222222222,\"#7201a8\"],[0.3333333333333333,\"#9c179e\"],[0.4444444444444444,\"#bd3786\"],[0.5555555555555556,\"#d8576b\"],[0.6666666666666666,\"#ed7953\"],[0.7777777777777778,\"#fb9f3a\"],[0.8888888888888888,\"#fdca26\"],[1.0,\"#f0f921\"]],\"type\":\"histogram2d\"}],\"histogram2dcontour\":[{\"colorbar\":{\"outlinewidth\":0,\"ticks\":\"\"},\"colorscale\":[[0.0,\"#0d0887\"],[0.1111111111111111,\"#46039f\"],[0.2222222222222222,\"#7201a8\"],[0.3333333333333333,\"#9c179e\"],[0.4444444444444444,\"#bd3786\"],[0.5555555555555556,\"#d8576b\"],[0.6666666666666666,\"#ed7953\"],[0.7777777777777778,\"#fb9f3a\"],[0.8888888888888888,\"#fdca26\"],[1.0,\"#f0f921\"]],\"type\":\"histogram2dcontour\"}],\"mesh3d\":[{\"colorbar\":{\"outlinewidth\":0,\"ticks\":\"\"},\"type\":\"mesh3d\"}],\"parcoords\":[{\"line\":{\"colorbar\":{\"outlinewidth\":0,\"ticks\":\"\"}},\"type\":\"parcoords\"}],\"pie\":[{\"automargin\":true,\"type\":\"pie\"}],\"scatter\":[{\"marker\":{\"colorbar\":{\"outlinewidth\":0,\"ticks\":\"\"}},\"type\":\"scatter\"}],\"scatter3d\":[{\"line\":{\"colorbar\":{\"outlinewidth\":0,\"ticks\":\"\"}},\"marker\":{\"colorbar\":{\"outlinewidth\":0,\"ticks\":\"\"}},\"type\":\"scatter3d\"}],\"scattercarpet\":[{\"marker\":{\"colorbar\":{\"outlinewidth\":0,\"ticks\":\"\"}},\"type\":\"scattercarpet\"}],\"scattergeo\":[{\"marker\":{\"colorbar\":{\"outlinewidth\":0,\"ticks\":\"\"}},\"type\":\"scattergeo\"}],\"scattergl\":[{\"marker\":{\"colorbar\":{\"outlinewidth\":0,\"ticks\":\"\"}},\"type\":\"scattergl\"}],\"scattermapbox\":[{\"marker\":{\"colorbar\":{\"outlinewidth\":0,\"ticks\":\"\"}},\"type\":\"scattermapbox\"}],\"scatterpolar\":[{\"marker\":{\"colorbar\":{\"outlinewidth\":0,\"ticks\":\"\"}},\"type\":\"scatterpolar\"}],\"scatterpolargl\":[{\"marker\":{\"colorbar\":{\"outlinewidth\":0,\"ticks\":\"\"}},\"type\":\"scatterpolargl\"}],\"scatterternary\":[{\"marker\":{\"colorbar\":{\"outlinewidth\":0,\"ticks\":\"\"}},\"type\":\"scatterternary\"}],\"surface\":[{\"colorbar\":{\"outlinewidth\":0,\"ticks\":\"\"},\"colorscale\":[[0.0,\"#0d0887\"],[0.1111111111111111,\"#46039f\"],[0.2222222222222222,\"#7201a8\"],[0.3333333333333333,\"#9c179e\"],[0.4444444444444444,\"#bd3786\"],[0.5555555555555556,\"#d8576b\"],[0.6666666666666666,\"#ed7953\"],[0.7777777777777778,\"#fb9f3a\"],[0.8888888888888888,\"#fdca26\"],[1.0,\"#f0f921\"]],\"type\":\"surface\"}],\"table\":[{\"cells\":{\"fill\":{\"color\":\"#EBF0F8\"},\"line\":{\"color\":\"white\"}},\"header\":{\"fill\":{\"color\":\"#C8D4E3\"},\"line\":{\"color\":\"white\"}},\"type\":\"table\"}]},\"layout\":{\"annotationdefaults\":{\"arrowcolor\":\"#2a3f5f\",\"arrowhead\":0,\"arrowwidth\":1},\"autotypenumbers\":\"strict\",\"coloraxis\":{\"colorbar\":{\"outlinewidth\":0,\"ticks\":\"\"}},\"colorscale\":{\"diverging\":[[0,\"#8e0152\"],[0.1,\"#c51b7d\"],[0.2,\"#de77ae\"],[0.3,\"#f1b6da\"],[0.4,\"#fde0ef\"],[0.5,\"#f7f7f7\"],[0.6,\"#e6f5d0\"],[0.7,\"#b8e186\"],[0.8,\"#7fbc41\"],[0.9,\"#4d9221\"],[1,\"#276419\"]],\"sequential\":[[0.0,\"#0d0887\"],[0.1111111111111111,\"#46039f\"],[0.2222222222222222,\"#7201a8\"],[0.3333333333333333,\"#9c179e\"],[0.4444444444444444,\"#bd3786\"],[0.5555555555555556,\"#d8576b\"],[0.6666666666666666,\"#ed7953\"],[0.7777777777777778,\"#fb9f3a\"],[0.8888888888888888,\"#fdca26\"],[1.0,\"#f0f921\"]],\"sequentialminus\":[[0.0,\"#0d0887\"],[0.1111111111111111,\"#46039f\"],[0.2222222222222222,\"#7201a8\"],[0.3333333333333333,\"#9c179e\"],[0.4444444444444444,\"#bd3786\"],[0.5555555555555556,\"#d8576b\"],[0.6666666666666666,\"#ed7953\"],[0.7777777777777778,\"#fb9f3a\"],[0.8888888888888888,\"#fdca26\"],[1.0,\"#f0f921\"]]},\"colorway\":[\"#636efa\",\"#EF553B\",\"#00cc96\",\"#ab63fa\",\"#FFA15A\",\"#19d3f3\",\"#FF6692\",\"#B6E880\",\"#FF97FF\",\"#FECB52\"],\"font\":{\"color\":\"#2a3f5f\"},\"geo\":{\"bgcolor\":\"white\",\"lakecolor\":\"white\",\"landcolor\":\"#E5ECF6\",\"showlakes\":true,\"showland\":true,\"subunitcolor\":\"white\"},\"hoverlabel\":{\"align\":\"left\"},\"hovermode\":\"closest\",\"mapbox\":{\"style\":\"light\"},\"paper_bgcolor\":\"white\",\"plot_bgcolor\":\"#E5ECF6\",\"polar\":{\"angularaxis\":{\"gridcolor\":\"white\",\"linecolor\":\"white\",\"ticks\":\"\"},\"bgcolor\":\"#E5ECF6\",\"radialaxis\":{\"gridcolor\":\"white\",\"linecolor\":\"white\",\"ticks\":\"\"}},\"scene\":{\"xaxis\":{\"backgroundcolor\":\"#E5ECF6\",\"gridcolor\":\"white\",\"gridwidth\":2,\"linecolor\":\"white\",\"showbackground\":true,\"ticks\":\"\",\"zerolinecolor\":\"white\"},\"yaxis\":{\"backgroundcolor\":\"#E5ECF6\",\"gridcolor\":\"white\",\"gridwidth\":2,\"linecolor\":\"white\",\"showbackground\":true,\"ticks\":\"\",\"zerolinecolor\":\"white\"},\"zaxis\":{\"backgroundcolor\":\"#E5ECF6\",\"gridcolor\":\"white\",\"gridwidth\":2,\"linecolor\":\"white\",\"showbackground\":true,\"ticks\":\"\",\"zerolinecolor\":\"white\"}},\"shapedefaults\":{\"line\":{\"color\":\"#2a3f5f\"}},\"ternary\":{\"aaxis\":{\"gridcolor\":\"white\",\"linecolor\":\"white\",\"ticks\":\"\"},\"baxis\":{\"gridcolor\":\"white\",\"linecolor\":\"white\",\"ticks\":\"\"},\"bgcolor\":\"#E5ECF6\",\"caxis\":{\"gridcolor\":\"white\",\"linecolor\":\"white\",\"ticks\":\"\"}},\"title\":{\"x\":0.05},\"xaxis\":{\"automargin\":true,\"gridcolor\":\"white\",\"linecolor\":\"white\",\"ticks\":\"\",\"title\":{\"standoff\":15},\"zerolinecolor\":\"white\",\"zerolinewidth\":2},\"yaxis\":{\"automargin\":true,\"gridcolor\":\"white\",\"linecolor\":\"white\",\"ticks\":\"\",\"title\":{\"standoff\":15},\"zerolinecolor\":\"white\",\"zerolinewidth\":2}}},\"title\":{\"text\":\"top 10 assist providers of uefa champions league 19/20\"},\"xaxis\":{\"anchor\":\"y\",\"domain\":[0.0,1.0],\"title\":{\"text\":\"name\"}},\"yaxis\":{\"anchor\":\"x\",\"domain\":[0.0,1.0],\"title\":{\"text\":\"assists\"}}},                        {\"responsive\": true}                    ).then(function(){\n",
       "                            \n",
       "var gd = document.getElementById('bd45876e-c6f0-4fdc-a6aa-1b09e6be232d');\n",
       "var x = new MutationObserver(function (mutations, observer) {{\n",
       "        var display = window.getComputedStyle(gd).display;\n",
       "        if (!display || display === 'none') {{\n",
       "            console.log([gd, 'removed!']);\n",
       "            Plotly.purge(gd);\n",
       "            observer.disconnect();\n",
       "        }}\n",
       "}});\n",
       "\n",
       "// Listen for the removal of the full notebook cells\n",
       "var notebookContainer = gd.closest('#notebook-container');\n",
       "if (notebookContainer) {{\n",
       "    x.observe(notebookContainer, {childList: true});\n",
       "}}\n",
       "\n",
       "// Listen for the clearing of the current output cell\n",
       "var outputEl = gd.closest('.output');\n",
       "if (outputEl) {{\n",
       "    x.observe(outputEl, {childList: true});\n",
       "}}\n",
       "\n",
       "                        })                };                });            </script>        </div>"
      ]
     },
     "metadata": {},
     "output_type": "display_data"
    }
   ],
   "source": [
    "fig = px.line(top_10_assists, x=\"name\", y=\"assists\", title='top 10 assist providers of uefa champions league 19/20')\n",
    "fig.show()"
   ]
  },
  {
   "cell_type": "code",
   "execution_count": 1282,
   "id": "0fd9c110",
   "metadata": {},
   "outputs": [
    {
     "data": {
      "application/vnd.plotly.v1+json": {
       "config": {
        "plotlyServerURL": "https://plot.ly"
       },
       "data": [
        {
         "alignmentgroup": "True",
         "hovertemplate": "name=%{x}<br>assists=%{y}<extra></extra>",
         "legendgroup": "Ángel Di María",
         "marker": {
          "color": "#636efa"
         },
         "name": "Ángel Di María",
         "notched": true,
         "offsetgroup": "Ángel Di María",
         "orientation": "v",
         "showlegend": true,
         "type": "box",
         "x": [
          "Ángel Di María"
         ],
         "x0": " ",
         "xaxis": "x",
         "y": [
          6
         ],
         "y0": " ",
         "yaxis": "y"
        },
        {
         "alignmentgroup": "True",
         "hovertemplate": "name=%{x}<br>assists=%{y}<extra></extra>",
         "legendgroup": "Robert Lewandowski",
         "marker": {
          "color": "#EF553B"
         },
         "name": "Robert Lewandowski",
         "notched": true,
         "offsetgroup": "Robert Lewandowski",
         "orientation": "v",
         "showlegend": true,
         "type": "box",
         "x": [
          "Robert Lewandowski"
         ],
         "x0": " ",
         "xaxis": "x",
         "y": [
          5
         ],
         "y0": " ",
         "yaxis": "y"
        },
        {
         "alignmentgroup": "True",
         "hovertemplate": "name=%{x}<br>assists=%{y}<extra></extra>",
         "legendgroup": "Kylian Mbappé",
         "marker": {
          "color": "#00cc96"
         },
         "name": "Kylian Mbappé",
         "notched": true,
         "offsetgroup": "Kylian Mbappé",
         "orientation": "v",
         "showlegend": true,
         "type": "box",
         "x": [
          "Kylian Mbappé"
         ],
         "x0": " ",
         "xaxis": "x",
         "y": [
          5
         ],
         "y0": " ",
         "yaxis": "y"
        },
        {
         "alignmentgroup": "True",
         "hovertemplate": "name=%{x}<br>assists=%{y}<extra></extra>",
         "legendgroup": "Neymar",
         "marker": {
          "color": "#ab63fa"
         },
         "name": "Neymar",
         "notched": true,
         "offsetgroup": "Neymar",
         "orientation": "v",
         "showlegend": true,
         "type": "box",
         "x": [
          "Neymar"
         ],
         "x0": " ",
         "xaxis": "x",
         "y": [
          4
         ],
         "y0": " ",
         "yaxis": "y"
        },
        {
         "alignmentgroup": "True",
         "hovertemplate": "name=%{x}<br>assists=%{y}<extra></extra>",
         "legendgroup": "Joshua Kimmich",
         "marker": {
          "color": "#FFA15A"
         },
         "name": "Joshua Kimmich",
         "notched": true,
         "offsetgroup": "Joshua Kimmich",
         "orientation": "v",
         "showlegend": true,
         "type": "box",
         "x": [
          "Joshua Kimmich"
         ],
         "x0": " ",
         "xaxis": "x",
         "y": [
          4
         ],
         "y0": " ",
         "yaxis": "y"
        },
        {
         "alignmentgroup": "True",
         "hovertemplate": "name=%{x}<br>assists=%{y}<extra></extra>",
         "legendgroup": "Hakim Ziyech",
         "marker": {
          "color": "#19d3f3"
         },
         "name": "Hakim Ziyech",
         "notched": true,
         "offsetgroup": "Hakim Ziyech",
         "orientation": "v",
         "showlegend": true,
         "type": "box",
         "x": [
          "Hakim Ziyech"
         ],
         "x0": " ",
         "xaxis": "x",
         "y": [
          4
         ],
         "y0": " ",
         "yaxis": "y"
        },
        {
         "alignmentgroup": "True",
         "hovertemplate": "name=%{x}<br>assists=%{y}<extra></extra>",
         "legendgroup": "Riyad Mahrez",
         "marker": {
          "color": "#FF6692"
         },
         "name": "Riyad Mahrez",
         "notched": true,
         "offsetgroup": "Riyad Mahrez",
         "orientation": "v",
         "showlegend": true,
         "type": "box",
         "x": [
          "Riyad Mahrez"
         ],
         "x0": " ",
         "xaxis": "x",
         "y": [
          4
         ],
         "y0": " ",
         "yaxis": "y"
        },
        {
         "alignmentgroup": "True",
         "hovertemplate": "name=%{x}<br>assists=%{y}<extra></extra>",
         "legendgroup": "Houssem Aouar",
         "marker": {
          "color": "#B6E880"
         },
         "name": "Houssem Aouar",
         "notched": true,
         "offsetgroup": "Houssem Aouar",
         "orientation": "v",
         "showlegend": true,
         "type": "box",
         "x": [
          "Houssem Aouar"
         ],
         "x0": " ",
         "xaxis": "x",
         "y": [
          4
         ],
         "y0": " ",
         "yaxis": "y"
        },
        {
         "alignmentgroup": "True",
         "hovertemplate": "name=%{x}<br>assists=%{y}<extra></extra>",
         "legendgroup": "Lionel Messi",
         "marker": {
          "color": "#FF97FF"
         },
         "name": "Lionel Messi",
         "notched": true,
         "offsetgroup": "Lionel Messi",
         "orientation": "v",
         "showlegend": true,
         "type": "box",
         "x": [
          "Lionel Messi"
         ],
         "x0": " ",
         "xaxis": "x",
         "y": [
          3
         ],
         "y0": " ",
         "yaxis": "y"
        },
        {
         "alignmentgroup": "True",
         "hovertemplate": "name=%{x}<br>assists=%{y}<extra></extra>",
         "legendgroup": "Hee-Chan Hwang",
         "marker": {
          "color": "#FECB52"
         },
         "name": "Hee-Chan Hwang",
         "notched": true,
         "offsetgroup": "Hee-Chan Hwang",
         "orientation": "v",
         "showlegend": true,
         "type": "box",
         "x": [
          "Hee-Chan Hwang"
         ],
         "x0": " ",
         "xaxis": "x",
         "y": [
          3
         ],
         "y0": " ",
         "yaxis": "y"
        }
       ],
       "layout": {
        "boxmode": "overlay",
        "legend": {
         "title": {
          "text": "name"
         },
         "tracegroupgap": 0
        },
        "margin": {
         "t": 60
        },
        "template": {
         "data": {
          "bar": [
           {
            "error_x": {
             "color": "#2a3f5f"
            },
            "error_y": {
             "color": "#2a3f5f"
            },
            "marker": {
             "line": {
              "color": "#E5ECF6",
              "width": 0.5
             },
             "pattern": {
              "fillmode": "overlay",
              "size": 10,
              "solidity": 0.2
             }
            },
            "type": "bar"
           }
          ],
          "barpolar": [
           {
            "marker": {
             "line": {
              "color": "#E5ECF6",
              "width": 0.5
             },
             "pattern": {
              "fillmode": "overlay",
              "size": 10,
              "solidity": 0.2
             }
            },
            "type": "barpolar"
           }
          ],
          "carpet": [
           {
            "aaxis": {
             "endlinecolor": "#2a3f5f",
             "gridcolor": "white",
             "linecolor": "white",
             "minorgridcolor": "white",
             "startlinecolor": "#2a3f5f"
            },
            "baxis": {
             "endlinecolor": "#2a3f5f",
             "gridcolor": "white",
             "linecolor": "white",
             "minorgridcolor": "white",
             "startlinecolor": "#2a3f5f"
            },
            "type": "carpet"
           }
          ],
          "choropleth": [
           {
            "colorbar": {
             "outlinewidth": 0,
             "ticks": ""
            },
            "type": "choropleth"
           }
          ],
          "contour": [
           {
            "colorbar": {
             "outlinewidth": 0,
             "ticks": ""
            },
            "colorscale": [
             [
              0,
              "#0d0887"
             ],
             [
              0.1111111111111111,
              "#46039f"
             ],
             [
              0.2222222222222222,
              "#7201a8"
             ],
             [
              0.3333333333333333,
              "#9c179e"
             ],
             [
              0.4444444444444444,
              "#bd3786"
             ],
             [
              0.5555555555555556,
              "#d8576b"
             ],
             [
              0.6666666666666666,
              "#ed7953"
             ],
             [
              0.7777777777777778,
              "#fb9f3a"
             ],
             [
              0.8888888888888888,
              "#fdca26"
             ],
             [
              1,
              "#f0f921"
             ]
            ],
            "type": "contour"
           }
          ],
          "contourcarpet": [
           {
            "colorbar": {
             "outlinewidth": 0,
             "ticks": ""
            },
            "type": "contourcarpet"
           }
          ],
          "heatmap": [
           {
            "colorbar": {
             "outlinewidth": 0,
             "ticks": ""
            },
            "colorscale": [
             [
              0,
              "#0d0887"
             ],
             [
              0.1111111111111111,
              "#46039f"
             ],
             [
              0.2222222222222222,
              "#7201a8"
             ],
             [
              0.3333333333333333,
              "#9c179e"
             ],
             [
              0.4444444444444444,
              "#bd3786"
             ],
             [
              0.5555555555555556,
              "#d8576b"
             ],
             [
              0.6666666666666666,
              "#ed7953"
             ],
             [
              0.7777777777777778,
              "#fb9f3a"
             ],
             [
              0.8888888888888888,
              "#fdca26"
             ],
             [
              1,
              "#f0f921"
             ]
            ],
            "type": "heatmap"
           }
          ],
          "heatmapgl": [
           {
            "colorbar": {
             "outlinewidth": 0,
             "ticks": ""
            },
            "colorscale": [
             [
              0,
              "#0d0887"
             ],
             [
              0.1111111111111111,
              "#46039f"
             ],
             [
              0.2222222222222222,
              "#7201a8"
             ],
             [
              0.3333333333333333,
              "#9c179e"
             ],
             [
              0.4444444444444444,
              "#bd3786"
             ],
             [
              0.5555555555555556,
              "#d8576b"
             ],
             [
              0.6666666666666666,
              "#ed7953"
             ],
             [
              0.7777777777777778,
              "#fb9f3a"
             ],
             [
              0.8888888888888888,
              "#fdca26"
             ],
             [
              1,
              "#f0f921"
             ]
            ],
            "type": "heatmapgl"
           }
          ],
          "histogram": [
           {
            "marker": {
             "pattern": {
              "fillmode": "overlay",
              "size": 10,
              "solidity": 0.2
             }
            },
            "type": "histogram"
           }
          ],
          "histogram2d": [
           {
            "colorbar": {
             "outlinewidth": 0,
             "ticks": ""
            },
            "colorscale": [
             [
              0,
              "#0d0887"
             ],
             [
              0.1111111111111111,
              "#46039f"
             ],
             [
              0.2222222222222222,
              "#7201a8"
             ],
             [
              0.3333333333333333,
              "#9c179e"
             ],
             [
              0.4444444444444444,
              "#bd3786"
             ],
             [
              0.5555555555555556,
              "#d8576b"
             ],
             [
              0.6666666666666666,
              "#ed7953"
             ],
             [
              0.7777777777777778,
              "#fb9f3a"
             ],
             [
              0.8888888888888888,
              "#fdca26"
             ],
             [
              1,
              "#f0f921"
             ]
            ],
            "type": "histogram2d"
           }
          ],
          "histogram2dcontour": [
           {
            "colorbar": {
             "outlinewidth": 0,
             "ticks": ""
            },
            "colorscale": [
             [
              0,
              "#0d0887"
             ],
             [
              0.1111111111111111,
              "#46039f"
             ],
             [
              0.2222222222222222,
              "#7201a8"
             ],
             [
              0.3333333333333333,
              "#9c179e"
             ],
             [
              0.4444444444444444,
              "#bd3786"
             ],
             [
              0.5555555555555556,
              "#d8576b"
             ],
             [
              0.6666666666666666,
              "#ed7953"
             ],
             [
              0.7777777777777778,
              "#fb9f3a"
             ],
             [
              0.8888888888888888,
              "#fdca26"
             ],
             [
              1,
              "#f0f921"
             ]
            ],
            "type": "histogram2dcontour"
           }
          ],
          "mesh3d": [
           {
            "colorbar": {
             "outlinewidth": 0,
             "ticks": ""
            },
            "type": "mesh3d"
           }
          ],
          "parcoords": [
           {
            "line": {
             "colorbar": {
              "outlinewidth": 0,
              "ticks": ""
             }
            },
            "type": "parcoords"
           }
          ],
          "pie": [
           {
            "automargin": true,
            "type": "pie"
           }
          ],
          "scatter": [
           {
            "marker": {
             "colorbar": {
              "outlinewidth": 0,
              "ticks": ""
             }
            },
            "type": "scatter"
           }
          ],
          "scatter3d": [
           {
            "line": {
             "colorbar": {
              "outlinewidth": 0,
              "ticks": ""
             }
            },
            "marker": {
             "colorbar": {
              "outlinewidth": 0,
              "ticks": ""
             }
            },
            "type": "scatter3d"
           }
          ],
          "scattercarpet": [
           {
            "marker": {
             "colorbar": {
              "outlinewidth": 0,
              "ticks": ""
             }
            },
            "type": "scattercarpet"
           }
          ],
          "scattergeo": [
           {
            "marker": {
             "colorbar": {
              "outlinewidth": 0,
              "ticks": ""
             }
            },
            "type": "scattergeo"
           }
          ],
          "scattergl": [
           {
            "marker": {
             "colorbar": {
              "outlinewidth": 0,
              "ticks": ""
             }
            },
            "type": "scattergl"
           }
          ],
          "scattermapbox": [
           {
            "marker": {
             "colorbar": {
              "outlinewidth": 0,
              "ticks": ""
             }
            },
            "type": "scattermapbox"
           }
          ],
          "scatterpolar": [
           {
            "marker": {
             "colorbar": {
              "outlinewidth": 0,
              "ticks": ""
             }
            },
            "type": "scatterpolar"
           }
          ],
          "scatterpolargl": [
           {
            "marker": {
             "colorbar": {
              "outlinewidth": 0,
              "ticks": ""
             }
            },
            "type": "scatterpolargl"
           }
          ],
          "scatterternary": [
           {
            "marker": {
             "colorbar": {
              "outlinewidth": 0,
              "ticks": ""
             }
            },
            "type": "scatterternary"
           }
          ],
          "surface": [
           {
            "colorbar": {
             "outlinewidth": 0,
             "ticks": ""
            },
            "colorscale": [
             [
              0,
              "#0d0887"
             ],
             [
              0.1111111111111111,
              "#46039f"
             ],
             [
              0.2222222222222222,
              "#7201a8"
             ],
             [
              0.3333333333333333,
              "#9c179e"
             ],
             [
              0.4444444444444444,
              "#bd3786"
             ],
             [
              0.5555555555555556,
              "#d8576b"
             ],
             [
              0.6666666666666666,
              "#ed7953"
             ],
             [
              0.7777777777777778,
              "#fb9f3a"
             ],
             [
              0.8888888888888888,
              "#fdca26"
             ],
             [
              1,
              "#f0f921"
             ]
            ],
            "type": "surface"
           }
          ],
          "table": [
           {
            "cells": {
             "fill": {
              "color": "#EBF0F8"
             },
             "line": {
              "color": "white"
             }
            },
            "header": {
             "fill": {
              "color": "#C8D4E3"
             },
             "line": {
              "color": "white"
             }
            },
            "type": "table"
           }
          ]
         },
         "layout": {
          "annotationdefaults": {
           "arrowcolor": "#2a3f5f",
           "arrowhead": 0,
           "arrowwidth": 1
          },
          "autotypenumbers": "strict",
          "coloraxis": {
           "colorbar": {
            "outlinewidth": 0,
            "ticks": ""
           }
          },
          "colorscale": {
           "diverging": [
            [
             0,
             "#8e0152"
            ],
            [
             0.1,
             "#c51b7d"
            ],
            [
             0.2,
             "#de77ae"
            ],
            [
             0.3,
             "#f1b6da"
            ],
            [
             0.4,
             "#fde0ef"
            ],
            [
             0.5,
             "#f7f7f7"
            ],
            [
             0.6,
             "#e6f5d0"
            ],
            [
             0.7,
             "#b8e186"
            ],
            [
             0.8,
             "#7fbc41"
            ],
            [
             0.9,
             "#4d9221"
            ],
            [
             1,
             "#276419"
            ]
           ],
           "sequential": [
            [
             0,
             "#0d0887"
            ],
            [
             0.1111111111111111,
             "#46039f"
            ],
            [
             0.2222222222222222,
             "#7201a8"
            ],
            [
             0.3333333333333333,
             "#9c179e"
            ],
            [
             0.4444444444444444,
             "#bd3786"
            ],
            [
             0.5555555555555556,
             "#d8576b"
            ],
            [
             0.6666666666666666,
             "#ed7953"
            ],
            [
             0.7777777777777778,
             "#fb9f3a"
            ],
            [
             0.8888888888888888,
             "#fdca26"
            ],
            [
             1,
             "#f0f921"
            ]
           ],
           "sequentialminus": [
            [
             0,
             "#0d0887"
            ],
            [
             0.1111111111111111,
             "#46039f"
            ],
            [
             0.2222222222222222,
             "#7201a8"
            ],
            [
             0.3333333333333333,
             "#9c179e"
            ],
            [
             0.4444444444444444,
             "#bd3786"
            ],
            [
             0.5555555555555556,
             "#d8576b"
            ],
            [
             0.6666666666666666,
             "#ed7953"
            ],
            [
             0.7777777777777778,
             "#fb9f3a"
            ],
            [
             0.8888888888888888,
             "#fdca26"
            ],
            [
             1,
             "#f0f921"
            ]
           ]
          },
          "colorway": [
           "#636efa",
           "#EF553B",
           "#00cc96",
           "#ab63fa",
           "#FFA15A",
           "#19d3f3",
           "#FF6692",
           "#B6E880",
           "#FF97FF",
           "#FECB52"
          ],
          "font": {
           "color": "#2a3f5f"
          },
          "geo": {
           "bgcolor": "white",
           "lakecolor": "white",
           "landcolor": "#E5ECF6",
           "showlakes": true,
           "showland": true,
           "subunitcolor": "white"
          },
          "hoverlabel": {
           "align": "left"
          },
          "hovermode": "closest",
          "mapbox": {
           "style": "light"
          },
          "paper_bgcolor": "white",
          "plot_bgcolor": "#E5ECF6",
          "polar": {
           "angularaxis": {
            "gridcolor": "white",
            "linecolor": "white",
            "ticks": ""
           },
           "bgcolor": "#E5ECF6",
           "radialaxis": {
            "gridcolor": "white",
            "linecolor": "white",
            "ticks": ""
           }
          },
          "scene": {
           "xaxis": {
            "backgroundcolor": "#E5ECF6",
            "gridcolor": "white",
            "gridwidth": 2,
            "linecolor": "white",
            "showbackground": true,
            "ticks": "",
            "zerolinecolor": "white"
           },
           "yaxis": {
            "backgroundcolor": "#E5ECF6",
            "gridcolor": "white",
            "gridwidth": 2,
            "linecolor": "white",
            "showbackground": true,
            "ticks": "",
            "zerolinecolor": "white"
           },
           "zaxis": {
            "backgroundcolor": "#E5ECF6",
            "gridcolor": "white",
            "gridwidth": 2,
            "linecolor": "white",
            "showbackground": true,
            "ticks": "",
            "zerolinecolor": "white"
           }
          },
          "shapedefaults": {
           "line": {
            "color": "#2a3f5f"
           }
          },
          "ternary": {
           "aaxis": {
            "gridcolor": "white",
            "linecolor": "white",
            "ticks": ""
           },
           "baxis": {
            "gridcolor": "white",
            "linecolor": "white",
            "ticks": ""
           },
           "bgcolor": "#E5ECF6",
           "caxis": {
            "gridcolor": "white",
            "linecolor": "white",
            "ticks": ""
           }
          },
          "title": {
           "x": 0.05
          },
          "xaxis": {
           "automargin": true,
           "gridcolor": "white",
           "linecolor": "white",
           "ticks": "",
           "title": {
            "standoff": 15
           },
           "zerolinecolor": "white",
           "zerolinewidth": 2
          },
          "yaxis": {
           "automargin": true,
           "gridcolor": "white",
           "linecolor": "white",
           "ticks": "",
           "title": {
            "standoff": 15
           },
           "zerolinecolor": "white",
           "zerolinewidth": 2
          }
         }
        },
        "xaxis": {
         "anchor": "y",
         "categoryarray": [
          "Ángel Di María",
          "Robert Lewandowski",
          "Kylian Mbappé",
          "Neymar",
          "Joshua Kimmich",
          "Hakim Ziyech",
          "Riyad Mahrez",
          "Houssem Aouar",
          "Lionel Messi",
          "Hee-Chan Hwang"
         ],
         "categoryorder": "array",
         "domain": [
          0,
          1
         ],
         "title": {
          "text": "name"
         }
        },
        "yaxis": {
         "anchor": "x",
         "domain": [
          0,
          1
         ],
         "title": {
          "text": "assists"
         }
        }
       }
      },
      "text/html": [
       "<div>                            <div id=\"667574ee-c4f5-4ee4-a85a-cc375eb08e63\" class=\"plotly-graph-div\" style=\"height:525px; width:100%;\"></div>            <script type=\"text/javascript\">                require([\"plotly\"], function(Plotly) {                    window.PLOTLYENV=window.PLOTLYENV || {};                                    if (document.getElementById(\"667574ee-c4f5-4ee4-a85a-cc375eb08e63\")) {                    Plotly.newPlot(                        \"667574ee-c4f5-4ee4-a85a-cc375eb08e63\",                        [{\"alignmentgroup\":\"True\",\"hovertemplate\":\"name=%{x}<br>assists=%{y}<extra></extra>\",\"legendgroup\":\"\\u00c1ngel Di Mar\\u00eda\",\"marker\":{\"color\":\"#636efa\"},\"name\":\"\\u00c1ngel Di Mar\\u00eda\",\"notched\":true,\"offsetgroup\":\"\\u00c1ngel Di Mar\\u00eda\",\"orientation\":\"v\",\"showlegend\":true,\"type\":\"box\",\"x\":[\"\\u00c1ngel Di Mar\\u00eda\"],\"x0\":\" \",\"xaxis\":\"x\",\"y\":[6.0],\"y0\":\" \",\"yaxis\":\"y\"},{\"alignmentgroup\":\"True\",\"hovertemplate\":\"name=%{x}<br>assists=%{y}<extra></extra>\",\"legendgroup\":\"Robert Lewandowski\",\"marker\":{\"color\":\"#EF553B\"},\"name\":\"Robert Lewandowski\",\"notched\":true,\"offsetgroup\":\"Robert Lewandowski\",\"orientation\":\"v\",\"showlegend\":true,\"type\":\"box\",\"x\":[\"Robert Lewandowski\"],\"x0\":\" \",\"xaxis\":\"x\",\"y\":[5.0],\"y0\":\" \",\"yaxis\":\"y\"},{\"alignmentgroup\":\"True\",\"hovertemplate\":\"name=%{x}<br>assists=%{y}<extra></extra>\",\"legendgroup\":\"Kylian Mbapp\\u00e9\",\"marker\":{\"color\":\"#00cc96\"},\"name\":\"Kylian Mbapp\\u00e9\",\"notched\":true,\"offsetgroup\":\"Kylian Mbapp\\u00e9\",\"orientation\":\"v\",\"showlegend\":true,\"type\":\"box\",\"x\":[\"Kylian Mbapp\\u00e9\"],\"x0\":\" \",\"xaxis\":\"x\",\"y\":[5.0],\"y0\":\" \",\"yaxis\":\"y\"},{\"alignmentgroup\":\"True\",\"hovertemplate\":\"name=%{x}<br>assists=%{y}<extra></extra>\",\"legendgroup\":\"Neymar\",\"marker\":{\"color\":\"#ab63fa\"},\"name\":\"Neymar\",\"notched\":true,\"offsetgroup\":\"Neymar\",\"orientation\":\"v\",\"showlegend\":true,\"type\":\"box\",\"x\":[\"Neymar\"],\"x0\":\" \",\"xaxis\":\"x\",\"y\":[4.0],\"y0\":\" \",\"yaxis\":\"y\"},{\"alignmentgroup\":\"True\",\"hovertemplate\":\"name=%{x}<br>assists=%{y}<extra></extra>\",\"legendgroup\":\"Joshua Kimmich\",\"marker\":{\"color\":\"#FFA15A\"},\"name\":\"Joshua Kimmich\",\"notched\":true,\"offsetgroup\":\"Joshua Kimmich\",\"orientation\":\"v\",\"showlegend\":true,\"type\":\"box\",\"x\":[\"Joshua Kimmich\"],\"x0\":\" \",\"xaxis\":\"x\",\"y\":[4.0],\"y0\":\" \",\"yaxis\":\"y\"},{\"alignmentgroup\":\"True\",\"hovertemplate\":\"name=%{x}<br>assists=%{y}<extra></extra>\",\"legendgroup\":\"Hakim Ziyech\",\"marker\":{\"color\":\"#19d3f3\"},\"name\":\"Hakim Ziyech\",\"notched\":true,\"offsetgroup\":\"Hakim Ziyech\",\"orientation\":\"v\",\"showlegend\":true,\"type\":\"box\",\"x\":[\"Hakim Ziyech\"],\"x0\":\" \",\"xaxis\":\"x\",\"y\":[4.0],\"y0\":\" \",\"yaxis\":\"y\"},{\"alignmentgroup\":\"True\",\"hovertemplate\":\"name=%{x}<br>assists=%{y}<extra></extra>\",\"legendgroup\":\"Riyad Mahrez\",\"marker\":{\"color\":\"#FF6692\"},\"name\":\"Riyad Mahrez\",\"notched\":true,\"offsetgroup\":\"Riyad Mahrez\",\"orientation\":\"v\",\"showlegend\":true,\"type\":\"box\",\"x\":[\"Riyad Mahrez\"],\"x0\":\" \",\"xaxis\":\"x\",\"y\":[4.0],\"y0\":\" \",\"yaxis\":\"y\"},{\"alignmentgroup\":\"True\",\"hovertemplate\":\"name=%{x}<br>assists=%{y}<extra></extra>\",\"legendgroup\":\"Houssem Aouar\",\"marker\":{\"color\":\"#B6E880\"},\"name\":\"Houssem Aouar\",\"notched\":true,\"offsetgroup\":\"Houssem Aouar\",\"orientation\":\"v\",\"showlegend\":true,\"type\":\"box\",\"x\":[\"Houssem Aouar\"],\"x0\":\" \",\"xaxis\":\"x\",\"y\":[4.0],\"y0\":\" \",\"yaxis\":\"y\"},{\"alignmentgroup\":\"True\",\"hovertemplate\":\"name=%{x}<br>assists=%{y}<extra></extra>\",\"legendgroup\":\"Lionel Messi\",\"marker\":{\"color\":\"#FF97FF\"},\"name\":\"Lionel Messi\",\"notched\":true,\"offsetgroup\":\"Lionel Messi\",\"orientation\":\"v\",\"showlegend\":true,\"type\":\"box\",\"x\":[\"Lionel Messi\"],\"x0\":\" \",\"xaxis\":\"x\",\"y\":[3.0],\"y0\":\" \",\"yaxis\":\"y\"},{\"alignmentgroup\":\"True\",\"hovertemplate\":\"name=%{x}<br>assists=%{y}<extra></extra>\",\"legendgroup\":\"Hee-Chan Hwang\",\"marker\":{\"color\":\"#FECB52\"},\"name\":\"Hee-Chan Hwang\",\"notched\":true,\"offsetgroup\":\"Hee-Chan Hwang\",\"orientation\":\"v\",\"showlegend\":true,\"type\":\"box\",\"x\":[\"Hee-Chan Hwang\"],\"x0\":\" \",\"xaxis\":\"x\",\"y\":[3.0],\"y0\":\" \",\"yaxis\":\"y\"}],                        {\"boxmode\":\"overlay\",\"legend\":{\"title\":{\"text\":\"name\"},\"tracegroupgap\":0},\"margin\":{\"t\":60},\"template\":{\"data\":{\"bar\":[{\"error_x\":{\"color\":\"#2a3f5f\"},\"error_y\":{\"color\":\"#2a3f5f\"},\"marker\":{\"line\":{\"color\":\"#E5ECF6\",\"width\":0.5},\"pattern\":{\"fillmode\":\"overlay\",\"size\":10,\"solidity\":0.2}},\"type\":\"bar\"}],\"barpolar\":[{\"marker\":{\"line\":{\"color\":\"#E5ECF6\",\"width\":0.5},\"pattern\":{\"fillmode\":\"overlay\",\"size\":10,\"solidity\":0.2}},\"type\":\"barpolar\"}],\"carpet\":[{\"aaxis\":{\"endlinecolor\":\"#2a3f5f\",\"gridcolor\":\"white\",\"linecolor\":\"white\",\"minorgridcolor\":\"white\",\"startlinecolor\":\"#2a3f5f\"},\"baxis\":{\"endlinecolor\":\"#2a3f5f\",\"gridcolor\":\"white\",\"linecolor\":\"white\",\"minorgridcolor\":\"white\",\"startlinecolor\":\"#2a3f5f\"},\"type\":\"carpet\"}],\"choropleth\":[{\"colorbar\":{\"outlinewidth\":0,\"ticks\":\"\"},\"type\":\"choropleth\"}],\"contour\":[{\"colorbar\":{\"outlinewidth\":0,\"ticks\":\"\"},\"colorscale\":[[0.0,\"#0d0887\"],[0.1111111111111111,\"#46039f\"],[0.2222222222222222,\"#7201a8\"],[0.3333333333333333,\"#9c179e\"],[0.4444444444444444,\"#bd3786\"],[0.5555555555555556,\"#d8576b\"],[0.6666666666666666,\"#ed7953\"],[0.7777777777777778,\"#fb9f3a\"],[0.8888888888888888,\"#fdca26\"],[1.0,\"#f0f921\"]],\"type\":\"contour\"}],\"contourcarpet\":[{\"colorbar\":{\"outlinewidth\":0,\"ticks\":\"\"},\"type\":\"contourcarpet\"}],\"heatmap\":[{\"colorbar\":{\"outlinewidth\":0,\"ticks\":\"\"},\"colorscale\":[[0.0,\"#0d0887\"],[0.1111111111111111,\"#46039f\"],[0.2222222222222222,\"#7201a8\"],[0.3333333333333333,\"#9c179e\"],[0.4444444444444444,\"#bd3786\"],[0.5555555555555556,\"#d8576b\"],[0.6666666666666666,\"#ed7953\"],[0.7777777777777778,\"#fb9f3a\"],[0.8888888888888888,\"#fdca26\"],[1.0,\"#f0f921\"]],\"type\":\"heatmap\"}],\"heatmapgl\":[{\"colorbar\":{\"outlinewidth\":0,\"ticks\":\"\"},\"colorscale\":[[0.0,\"#0d0887\"],[0.1111111111111111,\"#46039f\"],[0.2222222222222222,\"#7201a8\"],[0.3333333333333333,\"#9c179e\"],[0.4444444444444444,\"#bd3786\"],[0.5555555555555556,\"#d8576b\"],[0.6666666666666666,\"#ed7953\"],[0.7777777777777778,\"#fb9f3a\"],[0.8888888888888888,\"#fdca26\"],[1.0,\"#f0f921\"]],\"type\":\"heatmapgl\"}],\"histogram\":[{\"marker\":{\"pattern\":{\"fillmode\":\"overlay\",\"size\":10,\"solidity\":0.2}},\"type\":\"histogram\"}],\"histogram2d\":[{\"colorbar\":{\"outlinewidth\":0,\"ticks\":\"\"},\"colorscale\":[[0.0,\"#0d0887\"],[0.1111111111111111,\"#46039f\"],[0.2222222222222222,\"#7201a8\"],[0.3333333333333333,\"#9c179e\"],[0.4444444444444444,\"#bd3786\"],[0.5555555555555556,\"#d8576b\"],[0.6666666666666666,\"#ed7953\"],[0.7777777777777778,\"#fb9f3a\"],[0.8888888888888888,\"#fdca26\"],[1.0,\"#f0f921\"]],\"type\":\"histogram2d\"}],\"histogram2dcontour\":[{\"colorbar\":{\"outlinewidth\":0,\"ticks\":\"\"},\"colorscale\":[[0.0,\"#0d0887\"],[0.1111111111111111,\"#46039f\"],[0.2222222222222222,\"#7201a8\"],[0.3333333333333333,\"#9c179e\"],[0.4444444444444444,\"#bd3786\"],[0.5555555555555556,\"#d8576b\"],[0.6666666666666666,\"#ed7953\"],[0.7777777777777778,\"#fb9f3a\"],[0.8888888888888888,\"#fdca26\"],[1.0,\"#f0f921\"]],\"type\":\"histogram2dcontour\"}],\"mesh3d\":[{\"colorbar\":{\"outlinewidth\":0,\"ticks\":\"\"},\"type\":\"mesh3d\"}],\"parcoords\":[{\"line\":{\"colorbar\":{\"outlinewidth\":0,\"ticks\":\"\"}},\"type\":\"parcoords\"}],\"pie\":[{\"automargin\":true,\"type\":\"pie\"}],\"scatter\":[{\"marker\":{\"colorbar\":{\"outlinewidth\":0,\"ticks\":\"\"}},\"type\":\"scatter\"}],\"scatter3d\":[{\"line\":{\"colorbar\":{\"outlinewidth\":0,\"ticks\":\"\"}},\"marker\":{\"colorbar\":{\"outlinewidth\":0,\"ticks\":\"\"}},\"type\":\"scatter3d\"}],\"scattercarpet\":[{\"marker\":{\"colorbar\":{\"outlinewidth\":0,\"ticks\":\"\"}},\"type\":\"scattercarpet\"}],\"scattergeo\":[{\"marker\":{\"colorbar\":{\"outlinewidth\":0,\"ticks\":\"\"}},\"type\":\"scattergeo\"}],\"scattergl\":[{\"marker\":{\"colorbar\":{\"outlinewidth\":0,\"ticks\":\"\"}},\"type\":\"scattergl\"}],\"scattermapbox\":[{\"marker\":{\"colorbar\":{\"outlinewidth\":0,\"ticks\":\"\"}},\"type\":\"scattermapbox\"}],\"scatterpolar\":[{\"marker\":{\"colorbar\":{\"outlinewidth\":0,\"ticks\":\"\"}},\"type\":\"scatterpolar\"}],\"scatterpolargl\":[{\"marker\":{\"colorbar\":{\"outlinewidth\":0,\"ticks\":\"\"}},\"type\":\"scatterpolargl\"}],\"scatterternary\":[{\"marker\":{\"colorbar\":{\"outlinewidth\":0,\"ticks\":\"\"}},\"type\":\"scatterternary\"}],\"surface\":[{\"colorbar\":{\"outlinewidth\":0,\"ticks\":\"\"},\"colorscale\":[[0.0,\"#0d0887\"],[0.1111111111111111,\"#46039f\"],[0.2222222222222222,\"#7201a8\"],[0.3333333333333333,\"#9c179e\"],[0.4444444444444444,\"#bd3786\"],[0.5555555555555556,\"#d8576b\"],[0.6666666666666666,\"#ed7953\"],[0.7777777777777778,\"#fb9f3a\"],[0.8888888888888888,\"#fdca26\"],[1.0,\"#f0f921\"]],\"type\":\"surface\"}],\"table\":[{\"cells\":{\"fill\":{\"color\":\"#EBF0F8\"},\"line\":{\"color\":\"white\"}},\"header\":{\"fill\":{\"color\":\"#C8D4E3\"},\"line\":{\"color\":\"white\"}},\"type\":\"table\"}]},\"layout\":{\"annotationdefaults\":{\"arrowcolor\":\"#2a3f5f\",\"arrowhead\":0,\"arrowwidth\":1},\"autotypenumbers\":\"strict\",\"coloraxis\":{\"colorbar\":{\"outlinewidth\":0,\"ticks\":\"\"}},\"colorscale\":{\"diverging\":[[0,\"#8e0152\"],[0.1,\"#c51b7d\"],[0.2,\"#de77ae\"],[0.3,\"#f1b6da\"],[0.4,\"#fde0ef\"],[0.5,\"#f7f7f7\"],[0.6,\"#e6f5d0\"],[0.7,\"#b8e186\"],[0.8,\"#7fbc41\"],[0.9,\"#4d9221\"],[1,\"#276419\"]],\"sequential\":[[0.0,\"#0d0887\"],[0.1111111111111111,\"#46039f\"],[0.2222222222222222,\"#7201a8\"],[0.3333333333333333,\"#9c179e\"],[0.4444444444444444,\"#bd3786\"],[0.5555555555555556,\"#d8576b\"],[0.6666666666666666,\"#ed7953\"],[0.7777777777777778,\"#fb9f3a\"],[0.8888888888888888,\"#fdca26\"],[1.0,\"#f0f921\"]],\"sequentialminus\":[[0.0,\"#0d0887\"],[0.1111111111111111,\"#46039f\"],[0.2222222222222222,\"#7201a8\"],[0.3333333333333333,\"#9c179e\"],[0.4444444444444444,\"#bd3786\"],[0.5555555555555556,\"#d8576b\"],[0.6666666666666666,\"#ed7953\"],[0.7777777777777778,\"#fb9f3a\"],[0.8888888888888888,\"#fdca26\"],[1.0,\"#f0f921\"]]},\"colorway\":[\"#636efa\",\"#EF553B\",\"#00cc96\",\"#ab63fa\",\"#FFA15A\",\"#19d3f3\",\"#FF6692\",\"#B6E880\",\"#FF97FF\",\"#FECB52\"],\"font\":{\"color\":\"#2a3f5f\"},\"geo\":{\"bgcolor\":\"white\",\"lakecolor\":\"white\",\"landcolor\":\"#E5ECF6\",\"showlakes\":true,\"showland\":true,\"subunitcolor\":\"white\"},\"hoverlabel\":{\"align\":\"left\"},\"hovermode\":\"closest\",\"mapbox\":{\"style\":\"light\"},\"paper_bgcolor\":\"white\",\"plot_bgcolor\":\"#E5ECF6\",\"polar\":{\"angularaxis\":{\"gridcolor\":\"white\",\"linecolor\":\"white\",\"ticks\":\"\"},\"bgcolor\":\"#E5ECF6\",\"radialaxis\":{\"gridcolor\":\"white\",\"linecolor\":\"white\",\"ticks\":\"\"}},\"scene\":{\"xaxis\":{\"backgroundcolor\":\"#E5ECF6\",\"gridcolor\":\"white\",\"gridwidth\":2,\"linecolor\":\"white\",\"showbackground\":true,\"ticks\":\"\",\"zerolinecolor\":\"white\"},\"yaxis\":{\"backgroundcolor\":\"#E5ECF6\",\"gridcolor\":\"white\",\"gridwidth\":2,\"linecolor\":\"white\",\"showbackground\":true,\"ticks\":\"\",\"zerolinecolor\":\"white\"},\"zaxis\":{\"backgroundcolor\":\"#E5ECF6\",\"gridcolor\":\"white\",\"gridwidth\":2,\"linecolor\":\"white\",\"showbackground\":true,\"ticks\":\"\",\"zerolinecolor\":\"white\"}},\"shapedefaults\":{\"line\":{\"color\":\"#2a3f5f\"}},\"ternary\":{\"aaxis\":{\"gridcolor\":\"white\",\"linecolor\":\"white\",\"ticks\":\"\"},\"baxis\":{\"gridcolor\":\"white\",\"linecolor\":\"white\",\"ticks\":\"\"},\"bgcolor\":\"#E5ECF6\",\"caxis\":{\"gridcolor\":\"white\",\"linecolor\":\"white\",\"ticks\":\"\"}},\"title\":{\"x\":0.05},\"xaxis\":{\"automargin\":true,\"gridcolor\":\"white\",\"linecolor\":\"white\",\"ticks\":\"\",\"title\":{\"standoff\":15},\"zerolinecolor\":\"white\",\"zerolinewidth\":2},\"yaxis\":{\"automargin\":true,\"gridcolor\":\"white\",\"linecolor\":\"white\",\"ticks\":\"\",\"title\":{\"standoff\":15},\"zerolinecolor\":\"white\",\"zerolinewidth\":2}}},\"xaxis\":{\"anchor\":\"y\",\"categoryarray\":[\"\\u00c1ngel Di Mar\\u00eda\",\"Robert Lewandowski\",\"Kylian Mbapp\\u00e9\",\"Neymar\",\"Joshua Kimmich\",\"Hakim Ziyech\",\"Riyad Mahrez\",\"Houssem Aouar\",\"Lionel Messi\",\"Hee-Chan Hwang\"],\"categoryorder\":\"array\",\"domain\":[0.0,1.0],\"title\":{\"text\":\"name\"}},\"yaxis\":{\"anchor\":\"x\",\"domain\":[0.0,1.0],\"title\":{\"text\":\"assists\"}}},                        {\"responsive\": true}                    ).then(function(){\n",
       "                            \n",
       "var gd = document.getElementById('667574ee-c4f5-4ee4-a85a-cc375eb08e63');\n",
       "var x = new MutationObserver(function (mutations, observer) {{\n",
       "        var display = window.getComputedStyle(gd).display;\n",
       "        if (!display || display === 'none') {{\n",
       "            console.log([gd, 'removed!']);\n",
       "            Plotly.purge(gd);\n",
       "            observer.disconnect();\n",
       "        }}\n",
       "}});\n",
       "\n",
       "// Listen for the removal of the full notebook cells\n",
       "var notebookContainer = gd.closest('#notebook-container');\n",
       "if (notebookContainer) {{\n",
       "    x.observe(notebookContainer, {childList: true});\n",
       "}}\n",
       "\n",
       "// Listen for the clearing of the current output cell\n",
       "var outputEl = gd.closest('.output');\n",
       "if (outputEl) {{\n",
       "    x.observe(outputEl, {childList: true});\n",
       "}}\n",
       "\n",
       "                        })                };                });            </script>        </div>"
      ]
     },
     "metadata": {},
     "output_type": "display_data"
    }
   ],
   "source": [
    "fig = px.box(top_10_assists, x=\"name\", y=\"assists\",color='name', notched=True)\n",
    "fig.show()"
   ]
  },
  {
   "cell_type": "code",
   "execution_count": 1283,
   "id": "94e8f1ea",
   "metadata": {},
   "outputs": [],
   "source": [
    "top_10_defenders = value_player_list.nlargest(10,'interceptions')"
   ]
  },
  {
   "cell_type": "code",
   "execution_count": 1284,
   "id": "142bb448",
   "metadata": {},
   "outputs": [
    {
     "data": {
      "text/html": [
       "<div>\n",
       "<style scoped>\n",
       "    .dataframe tbody tr th:only-of-type {\n",
       "        vertical-align: middle;\n",
       "    }\n",
       "\n",
       "    .dataframe tbody tr th {\n",
       "        vertical-align: top;\n",
       "    }\n",
       "\n",
       "    .dataframe thead th {\n",
       "        text-align: right;\n",
       "    }\n",
       "</style>\n",
       "<table border=\"1\" class=\"dataframe\">\n",
       "  <thead>\n",
       "    <tr style=\"text-align: right;\">\n",
       "      <th></th>\n",
       "      <th>name</th>\n",
       "      <th>interceptions</th>\n",
       "    </tr>\n",
       "  </thead>\n",
       "  <tbody>\n",
       "    <tr>\n",
       "      <th>945</th>\n",
       "      <td>Mats Hummels</td>\n",
       "      <td>30.0</td>\n",
       "    </tr>\n",
       "    <tr>\n",
       "      <th>2446</th>\n",
       "      <td>Thiago Alcántara</td>\n",
       "      <td>23.0</td>\n",
       "    </tr>\n",
       "    <tr>\n",
       "      <th>4614</th>\n",
       "      <td>Wílmar Barrios</td>\n",
       "      <td>23.0</td>\n",
       "    </tr>\n",
       "    <tr>\n",
       "      <th>907</th>\n",
       "      <td>Sven Bender</td>\n",
       "      <td>19.0</td>\n",
       "    </tr>\n",
       "    <tr>\n",
       "      <th>5089</th>\n",
       "      <td>Fabián Ruiz</td>\n",
       "      <td>19.0</td>\n",
       "    </tr>\n",
       "    <tr>\n",
       "      <th>3971</th>\n",
       "      <td>Nicolás Tagliafico</td>\n",
       "      <td>18.0</td>\n",
       "    </tr>\n",
       "    <tr>\n",
       "      <th>5165</th>\n",
       "      <td>Maximilian Wöber</td>\n",
       "      <td>18.0</td>\n",
       "    </tr>\n",
       "    <tr>\n",
       "      <th>3939</th>\n",
       "      <td>Marquinhos</td>\n",
       "      <td>17.0</td>\n",
       "    </tr>\n",
       "    <tr>\n",
       "      <th>1504</th>\n",
       "      <td>Miralem Pjanić</td>\n",
       "      <td>17.0</td>\n",
       "    </tr>\n",
       "    <tr>\n",
       "      <th>2825</th>\n",
       "      <td>José Luis Palomino</td>\n",
       "      <td>17.0</td>\n",
       "    </tr>\n",
       "  </tbody>\n",
       "</table>\n",
       "</div>"
      ],
      "text/plain": [
       "                    name  interceptions\n",
       "945         Mats Hummels           30.0\n",
       "2446    Thiago Alcántara           23.0\n",
       "4614      Wílmar Barrios           23.0\n",
       "907          Sven Bender           19.0\n",
       "5089         Fabián Ruiz           19.0\n",
       "3971  Nicolás Tagliafico           18.0\n",
       "5165    Maximilian Wöber           18.0\n",
       "3939          Marquinhos           17.0\n",
       "1504      Miralem Pjanić           17.0\n",
       "2825  José Luis Palomino           17.0"
      ]
     },
     "execution_count": 1284,
     "metadata": {},
     "output_type": "execute_result"
    }
   ],
   "source": [
    "top_10_defenders[['name','interceptions']]"
   ]
  },
  {
   "cell_type": "code",
   "execution_count": null,
   "id": "f09f932b",
   "metadata": {},
   "outputs": [],
   "source": []
  },
  {
   "cell_type": "code",
   "execution_count": 1285,
   "id": "c281eb77",
   "metadata": {},
   "outputs": [
    {
     "data": {
      "text/plain": [
       "<AxesSubplot:xlabel='name', ylabel='interceptions'>"
      ]
     },
     "execution_count": 1285,
     "metadata": {},
     "output_type": "execute_result"
    },
    {
     "data": {
      "image/png": "[encoded data removed]",
      "text/plain": [
       "<Figure size 1440x576 with 1 Axes>"
      ]
     },
     "metadata": {
      "needs_background": "light"
     },
     "output_type": "display_data"
    }
   ],
   "source": [
    "plt.figure(figsize=(20,8))\n",
    "sns.barplot(x=\"name\", y=\"interceptions\", data=top_10_defenders)"
   ]
  },
  {
   "cell_type": "code",
   "execution_count": 1286,
   "id": "12a73f87",
   "metadata": {},
   "outputs": [
    {
     "data": {
      "application/vnd.plotly.v1+json": {
       "config": {
        "plotlyServerURL": "https://plot.ly"
       },
       "data": [
        {
         "alignmentgroup": "True",
         "hovertemplate": "name=%{x}<br>interceptions=%{y}<extra></extra>",
         "legendgroup": "Mats Hummels",
         "marker": {
          "color": "#636efa"
         },
         "name": "Mats Hummels",
         "notched": true,
         "offsetgroup": "Mats Hummels",
         "orientation": "v",
         "showlegend": true,
         "type": "box",
         "x": [
          "Mats Hummels"
         ],
         "x0": " ",
         "xaxis": "x",
         "y": [
          30
         ],
         "y0": " ",
         "yaxis": "y"
        },
        {
         "alignmentgroup": "True",
         "hovertemplate": "name=%{x}<br>interceptions=%{y}<extra></extra>",
         "legendgroup": "Thiago Alcántara",
         "marker": {
          "color": "#EF553B"
         },
         "name": "Thiago Alcántara",
         "notched": true,
         "offsetgroup": "Thiago Alcántara",
         "orientation": "v",
         "showlegend": true,
         "type": "box",
         "x": [
          "Thiago Alcántara"
         ],
         "x0": " ",
         "xaxis": "x",
         "y": [
          23
         ],
         "y0": " ",
         "yaxis": "y"
        },
        {
         "alignmentgroup": "True",
         "hovertemplate": "name=%{x}<br>interceptions=%{y}<extra></extra>",
         "legendgroup": "Wílmar Barrios",
         "marker": {
          "color": "#00cc96"
         },
         "name": "Wílmar Barrios",
         "notched": true,
         "offsetgroup": "Wílmar Barrios",
         "orientation": "v",
         "showlegend": true,
         "type": "box",
         "x": [
          "Wílmar Barrios"
         ],
         "x0": " ",
         "xaxis": "x",
         "y": [
          23
         ],
         "y0": " ",
         "yaxis": "y"
        },
        {
         "alignmentgroup": "True",
         "hovertemplate": "name=%{x}<br>interceptions=%{y}<extra></extra>",
         "legendgroup": "Sven Bender",
         "marker": {
          "color": "#ab63fa"
         },
         "name": "Sven Bender",
         "notched": true,
         "offsetgroup": "Sven Bender",
         "orientation": "v",
         "showlegend": true,
         "type": "box",
         "x": [
          "Sven Bender"
         ],
         "x0": " ",
         "xaxis": "x",
         "y": [
          19
         ],
         "y0": " ",
         "yaxis": "y"
        },
        {
         "alignmentgroup": "True",
         "hovertemplate": "name=%{x}<br>interceptions=%{y}<extra></extra>",
         "legendgroup": "Fabián Ruiz",
         "marker": {
          "color": "#FFA15A"
         },
         "name": "Fabián Ruiz",
         "notched": true,
         "offsetgroup": "Fabián Ruiz",
         "orientation": "v",
         "showlegend": true,
         "type": "box",
         "x": [
          "Fabián Ruiz"
         ],
         "x0": " ",
         "xaxis": "x",
         "y": [
          19
         ],
         "y0": " ",
         "yaxis": "y"
        },
        {
         "alignmentgroup": "True",
         "hovertemplate": "name=%{x}<br>interceptions=%{y}<extra></extra>",
         "legendgroup": "Nicolás Tagliafico",
         "marker": {
          "color": "#19d3f3"
         },
         "name": "Nicolás Tagliafico",
         "notched": true,
         "offsetgroup": "Nicolás Tagliafico",
         "orientation": "v",
         "showlegend": true,
         "type": "box",
         "x": [
          "Nicolás Tagliafico"
         ],
         "x0": " ",
         "xaxis": "x",
         "y": [
          18
         ],
         "y0": " ",
         "yaxis": "y"
        },
        {
         "alignmentgroup": "True",
         "hovertemplate": "name=%{x}<br>interceptions=%{y}<extra></extra>",
         "legendgroup": "Maximilian Wöber",
         "marker": {
          "color": "#FF6692"
         },
         "name": "Maximilian Wöber",
         "notched": true,
         "offsetgroup": "Maximilian Wöber",
         "orientation": "v",
         "showlegend": true,
         "type": "box",
         "x": [
          "Maximilian Wöber"
         ],
         "x0": " ",
         "xaxis": "x",
         "y": [
          18
         ],
         "y0": " ",
         "yaxis": "y"
        },
        {
         "alignmentgroup": "True",
         "hovertemplate": "name=%{x}<br>interceptions=%{y}<extra></extra>",
         "legendgroup": "Marquinhos",
         "marker": {
          "color": "#B6E880"
         },
         "name": "Marquinhos",
         "notched": true,
         "offsetgroup": "Marquinhos",
         "orientation": "v",
         "showlegend": true,
         "type": "box",
         "x": [
          "Marquinhos"
         ],
         "x0": " ",
         "xaxis": "x",
         "y": [
          17
         ],
         "y0": " ",
         "yaxis": "y"
        },
        {
         "alignmentgroup": "True",
         "hovertemplate": "name=%{x}<br>interceptions=%{y}<extra></extra>",
         "legendgroup": "Miralem Pjanić",
         "marker": {
          "color": "#FF97FF"
         },
         "name": "Miralem Pjanić",
         "notched": true,
         "offsetgroup": "Miralem Pjanić",
         "orientation": "v",
         "showlegend": true,
         "type": "box",
         "x": [
          "Miralem Pjanić"
         ],
         "x0": " ",
         "xaxis": "x",
         "y": [
          17
         ],
         "y0": " ",
         "yaxis": "y"
        },
        {
         "alignmentgroup": "True",
         "hovertemplate": "name=%{x}<br>interceptions=%{y}<extra></extra>",
         "legendgroup": "José Luis Palomino",
         "marker": {
          "color": "#FECB52"
         },
         "name": "José Luis Palomino",
         "notched": true,
         "offsetgroup": "José Luis Palomino",
         "orientation": "v",
         "showlegend": true,
         "type": "box",
         "x": [
          "José Luis Palomino"
         ],
         "x0": " ",
         "xaxis": "x",
         "y": [
          17
         ],
         "y0": " ",
         "yaxis": "y"
        }
       ],
       "layout": {
        "boxmode": "overlay",
        "legend": {
         "title": {
          "text": "name"
         },
         "tracegroupgap": 0
        },
        "margin": {
         "t": 60
        },
        "template": {
         "data": {
          "bar": [
           {
            "error_x": {
             "color": "#2a3f5f"
            },
            "error_y": {
             "color": "#2a3f5f"
            },
            "marker": {
             "line": {
              "color": "#E5ECF6",
              "width": 0.5
             },
             "pattern": {
              "fillmode": "overlay",
              "size": 10,
              "solidity": 0.2
             }
            },
            "type": "bar"
           }
          ],
          "barpolar": [
           {
            "marker": {
             "line": {
              "color": "#E5ECF6",
              "width": 0.5
             },
             "pattern": {
              "fillmode": "overlay",
              "size": 10,
              "solidity": 0.2
             }
            },
            "type": "barpolar"
           }
          ],
          "carpet": [
           {
            "aaxis": {
             "endlinecolor": "#2a3f5f",
             "gridcolor": "white",
             "linecolor": "white",
             "minorgridcolor": "white",
             "startlinecolor": "#2a3f5f"
            },
            "baxis": {
             "endlinecolor": "#2a3f5f",
             "gridcolor": "white",
             "linecolor": "white",
             "minorgridcolor": "white",
             "startlinecolor": "#2a3f5f"
            },
            "type": "carpet"
           }
          ],
          "choropleth": [
           {
            "colorbar": {
             "outlinewidth": 0,
             "ticks": ""
            },
            "type": "choropleth"
           }
          ],
          "contour": [
           {
            "colorbar": {
             "outlinewidth": 0,
             "ticks": ""
            },
            "colorscale": [
             [
              0,
              "#0d0887"
             ],
             [
              0.1111111111111111,
              "#46039f"
             ],
             [
              0.2222222222222222,
              "#7201a8"
             ],
             [
              0.3333333333333333,
              "#9c179e"
             ],
             [
              0.4444444444444444,
              "#bd3786"
             ],
             [
              0.5555555555555556,
              "#d8576b"
             ],
             [
              0.6666666666666666,
              "#ed7953"
             ],
             [
              0.7777777777777778,
              "#fb9f3a"
             ],
             [
              0.8888888888888888,
              "#fdca26"
             ],
             [
              1,
              "#f0f921"
             ]
            ],
            "type": "contour"
           }
          ],
          "contourcarpet": [
           {
            "colorbar": {
             "outlinewidth": 0,
             "ticks": ""
            },
            "type": "contourcarpet"
           }
          ],
          "heatmap": [
           {
            "colorbar": {
             "outlinewidth": 0,
             "ticks": ""
            },
            "colorscale": [
             [
              0,
              "#0d0887"
             ],
             [
              0.1111111111111111,
              "#46039f"
             ],
             [
              0.2222222222222222,
              "#7201a8"
             ],
             [
              0.3333333333333333,
              "#9c179e"
             ],
             [
              0.4444444444444444,
              "#bd3786"
             ],
             [
              0.5555555555555556,
              "#d8576b"
             ],
             [
              0.6666666666666666,
              "#ed7953"
             ],
             [
              0.7777777777777778,
              "#fb9f3a"
             ],
             [
              0.8888888888888888,
              "#fdca26"
             ],
             [
              1,
              "#f0f921"
             ]
            ],
            "type": "heatmap"
           }
          ],
          "heatmapgl": [
           {
            "colorbar": {
             "outlinewidth": 0,
             "ticks": ""
            },
            "colorscale": [
             [
              0,
              "#0d0887"
             ],
             [
              0.1111111111111111,
              "#46039f"
             ],
             [
              0.2222222222222222,
              "#7201a8"
             ],
             [
              0.3333333333333333,
              "#9c179e"
             ],
             [
              0.4444444444444444,
              "#bd3786"
             ],
             [
              0.5555555555555556,
              "#d8576b"
             ],
             [
              0.6666666666666666,
              "#ed7953"
             ],
             [
              0.7777777777777778,
              "#fb9f3a"
             ],
             [
              0.8888888888888888,
              "#fdca26"
             ],
             [
              1,
              "#f0f921"
             ]
            ],
            "type": "heatmapgl"
           }
          ],
          "histogram": [
           {
            "marker": {
             "pattern": {
              "fillmode": "overlay",
              "size": 10,
              "solidity": 0.2
             }
            },
            "type": "histogram"
           }
          ],
          "histogram2d": [
           {
            "colorbar": {
             "outlinewidth": 0,
             "ticks": ""
            },
            "colorscale": [
             [
              0,
              "#0d0887"
             ],
             [
              0.1111111111111111,
              "#46039f"
             ],
             [
              0.2222222222222222,
              "#7201a8"
             ],
             [
              0.3333333333333333,
              "#9c179e"
             ],
             [
              0.4444444444444444,
              "#bd3786"
             ],
             [
              0.5555555555555556,
              "#d8576b"
             ],
             [
              0.6666666666666666,
              "#ed7953"
             ],
             [
              0.7777777777777778,
              "#fb9f3a"
             ],
             [
              0.8888888888888888,
              "#fdca26"
             ],
             [
              1,
              "#f0f921"
             ]
            ],
            "type": "histogram2d"
           }
          ],
          "histogram2dcontour": [
           {
            "colorbar": {
             "outlinewidth": 0,
             "ticks": ""
            },
            "colorscale": [
             [
              0,
              "#0d0887"
             ],
             [
              0.1111111111111111,
              "#46039f"
             ],
             [
              0.2222222222222222,
              "#7201a8"
             ],
             [
              0.3333333333333333,
              "#9c179e"
             ],
             [
              0.4444444444444444,
              "#bd3786"
             ],
             [
              0.5555555555555556,
              "#d8576b"
             ],
             [
              0.6666666666666666,
              "#ed7953"
             ],
             [
              0.7777777777777778,
              "#fb9f3a"
             ],
             [
              0.8888888888888888,
              "#fdca26"
             ],
             [
              1,
              "#f0f921"
             ]
            ],
            "type": "histogram2dcontour"
           }
          ],
          "mesh3d": [
           {
            "colorbar": {
             "outlinewidth": 0,
             "ticks": ""
            },
            "type": "mesh3d"
           }
          ],
          "parcoords": [
           {
            "line": {
             "colorbar": {
              "outlinewidth": 0,
              "ticks": ""
             }
            },
            "type": "parcoords"
           }
          ],
          "pie": [
           {
            "automargin": true,
            "type": "pie"
           }
          ],
          "scatter": [
           {
            "marker": {
             "colorbar": {
              "outlinewidth": 0,
              "ticks": ""
             }
            },
            "type": "scatter"
           }
          ],
          "scatter3d": [
           {
            "line": {
             "colorbar": {
              "outlinewidth": 0,
              "ticks": ""
             }
            },
            "marker": {
             "colorbar": {
              "outlinewidth": 0,
              "ticks": ""
             }
            },
            "type": "scatter3d"
           }
          ],
          "scattercarpet": [
           {
            "marker": {
             "colorbar": {
              "outlinewidth": 0,
              "ticks": ""
             }
            },
            "type": "scattercarpet"
           }
          ],
          "scattergeo": [
           {
            "marker": {
             "colorbar": {
              "outlinewidth": 0,
              "ticks": ""
             }
            },
            "type": "scattergeo"
           }
          ],
          "scattergl": [
           {
            "marker": {
             "colorbar": {
              "outlinewidth": 0,
              "ticks": ""
             }
            },
            "type": "scattergl"
           }
          ],
          "scattermapbox": [
           {
            "marker": {
             "colorbar": {
              "outlinewidth": 0,
              "ticks": ""
             }
            },
            "type": "scattermapbox"
           }
          ],
          "scatterpolar": [
           {
            "marker": {
             "colorbar": {
              "outlinewidth": 0,
              "ticks": ""
             }
            },
            "type": "scatterpolar"
           }
          ],
          "scatterpolargl": [
           {
            "marker": {
             "colorbar": {
              "outlinewidth": 0,
              "ticks": ""
             }
            },
            "type": "scatterpolargl"
           }
          ],
          "scatterternary": [
           {
            "marker": {
             "colorbar": {
              "outlinewidth": 0,
              "ticks": ""
             }
            },
            "type": "scatterternary"
           }
          ],
          "surface": [
           {
            "colorbar": {
             "outlinewidth": 0,
             "ticks": ""
            },
            "colorscale": [
             [
              0,
              "#0d0887"
             ],
             [
              0.1111111111111111,
              "#46039f"
             ],
             [
              0.2222222222222222,
              "#7201a8"
             ],
             [
              0.3333333333333333,
              "#9c179e"
             ],
             [
              0.4444444444444444,
              "#bd3786"
             ],
             [
              0.5555555555555556,
              "#d8576b"
             ],
             [
              0.6666666666666666,
              "#ed7953"
             ],
             [
              0.7777777777777778,
              "#fb9f3a"
             ],
             [
              0.8888888888888888,
              "#fdca26"
             ],
             [
              1,
              "#f0f921"
             ]
            ],
            "type": "surface"
           }
          ],
          "table": [
           {
            "cells": {
             "fill": {
              "color": "#EBF0F8"
             },
             "line": {
              "color": "white"
             }
            },
            "header": {
             "fill": {
              "color": "#C8D4E3"
             },
             "line": {
              "color": "white"
             }
            },
            "type": "table"
           }
          ]
         },
         "layout": {
          "annotationdefaults": {
           "arrowcolor": "#2a3f5f",
           "arrowhead": 0,
           "arrowwidth": 1
          },
          "autotypenumbers": "strict",
          "coloraxis": {
           "colorbar": {
            "outlinewidth": 0,
            "ticks": ""
           }
          },
          "colorscale": {
           "diverging": [
            [
             0,
             "#8e0152"
            ],
            [
             0.1,
             "#c51b7d"
            ],
            [
             0.2,
             "#de77ae"
            ],
            [
             0.3,
             "#f1b6da"
            ],
            [
             0.4,
             "#fde0ef"
            ],
            [
             0.5,
             "#f7f7f7"
            ],
            [
             0.6,
             "#e6f5d0"
            ],
            [
             0.7,
             "#b8e186"
            ],
            [
             0.8,
             "#7fbc41"
            ],
            [
             0.9,
             "#4d9221"
            ],
            [
             1,
             "#276419"
            ]
           ],
           "sequential": [
            [
             0,
             "#0d0887"
            ],
            [
             0.1111111111111111,
             "#46039f"
            ],
            [
             0.2222222222222222,
             "#7201a8"
            ],
            [
             0.3333333333333333,
             "#9c179e"
            ],
            [
             0.4444444444444444,
             "#bd3786"
            ],
            [
             0.5555555555555556,
             "#d8576b"
            ],
            [
             0.6666666666666666,
             "#ed7953"
            ],
            [
             0.7777777777777778,
             "#fb9f3a"
            ],
            [
             0.8888888888888888,
             "#fdca26"
            ],
            [
             1,
             "#f0f921"
            ]
           ],
           "sequentialminus": [
            [
             0,
             "#0d0887"
            ],
            [
             0.1111111111111111,
             "#46039f"
            ],
            [
             0.2222222222222222,
             "#7201a8"
            ],
            [
             0.3333333333333333,
             "#9c179e"
            ],
            [
             0.4444444444444444,
             "#bd3786"
            ],
            [
             0.5555555555555556,
             "#d8576b"
            ],
            [
             0.6666666666666666,
             "#ed7953"
            ],
            [
             0.7777777777777778,
             "#fb9f3a"
            ],
            [
             0.8888888888888888,
             "#fdca26"
            ],
            [
             1,
             "#f0f921"
            ]
           ]
          },
          "colorway": [
           "#636efa",
           "#EF553B",
           "#00cc96",
           "#ab63fa",
           "#FFA15A",
           "#19d3f3",
           "#FF6692",
           "#B6E880",
           "#FF97FF",
           "#FECB52"
          ],
          "font": {
           "color": "#2a3f5f"
          },
          "geo": {
           "bgcolor": "white",
           "lakecolor": "white",
           "landcolor": "#E5ECF6",
           "showlakes": true,
           "showland": true,
           "subunitcolor": "white"
          },
          "hoverlabel": {
           "align": "left"
          },
          "hovermode": "closest",
          "mapbox": {
           "style": "light"
          },
          "paper_bgcolor": "white",
          "plot_bgcolor": "#E5ECF6",
          "polar": {
           "angularaxis": {
            "gridcolor": "white",
            "linecolor": "white",
            "ticks": ""
           },
           "bgcolor": "#E5ECF6",
           "radialaxis": {
            "gridcolor": "white",
            "linecolor": "white",
            "ticks": ""
           }
          },
          "scene": {
           "xaxis": {
            "backgroundcolor": "#E5ECF6",
            "gridcolor": "white",
            "gridwidth": 2,
            "linecolor": "white",
            "showbackground": true,
            "ticks": "",
            "zerolinecolor": "white"
           },
           "yaxis": {
            "backgroundcolor": "#E5ECF6",
            "gridcolor": "white",
            "gridwidth": 2,
            "linecolor": "white",
            "showbackground": true,
            "ticks": "",
            "zerolinecolor": "white"
           },
           "zaxis": {
            "backgroundcolor": "#E5ECF6",
            "gridcolor": "white",
            "gridwidth": 2,
            "linecolor": "white",
            "showbackground": true,
            "ticks": "",
            "zerolinecolor": "white"
           }
          },
          "shapedefaults": {
           "line": {
            "color": "#2a3f5f"
           }
          },
          "ternary": {
           "aaxis": {
            "gridcolor": "white",
            "linecolor": "white",
            "ticks": ""
           },
           "baxis": {
            "gridcolor": "white",
            "linecolor": "white",
            "ticks": ""
           },
           "bgcolor": "#E5ECF6",
           "caxis": {
            "gridcolor": "white",
            "linecolor": "white",
            "ticks": ""
           }
          },
          "title": {
           "x": 0.05
          },
          "xaxis": {
           "automargin": true,
           "gridcolor": "white",
           "linecolor": "white",
           "ticks": "",
           "title": {
            "standoff": 15
           },
           "zerolinecolor": "white",
           "zerolinewidth": 2
          },
          "yaxis": {
           "automargin": true,
           "gridcolor": "white",
           "linecolor": "white",
           "ticks": "",
           "title": {
            "standoff": 15
           },
           "zerolinecolor": "white",
           "zerolinewidth": 2
          }
         }
        },
        "xaxis": {
         "anchor": "y",
         "categoryarray": [
          "Mats Hummels",
          "Thiago Alcántara",
          "Wílmar Barrios",
          "Sven Bender",
          "Fabián Ruiz",
          "Nicolás Tagliafico",
          "Maximilian Wöber",
          "Marquinhos",
          "Miralem Pjanić",
          "José Luis Palomino"
         ],
         "categoryorder": "array",
         "domain": [
          0,
          1
         ],
         "title": {
          "text": "name"
         }
        },
        "yaxis": {
         "anchor": "x",
         "domain": [
          0,
          1
         ],
         "title": {
          "text": "interceptions"
         }
        }
       }
      },
      "text/html": [
       "<div>                            <div id=\"4df10ed0-d918-4b5c-80d0-a0cec6f5c824\" class=\"plotly-graph-div\" style=\"height:525px; width:100%;\"></div>            <script type=\"text/javascript\">                require([\"plotly\"], function(Plotly) {                    window.PLOTLYENV=window.PLOTLYENV || {};                                    if (document.getElementById(\"4df10ed0-d918-4b5c-80d0-a0cec6f5c824\")) {                    Plotly.newPlot(                        \"4df10ed0-d918-4b5c-80d0-a0cec6f5c824\",                        [{\"alignmentgroup\":\"True\",\"hovertemplate\":\"name=%{x}<br>interceptions=%{y}<extra></extra>\",\"legendgroup\":\"Mats Hummels\",\"marker\":{\"color\":\"#636efa\"},\"name\":\"Mats Hummels\",\"notched\":true,\"offsetgroup\":\"Mats Hummels\",\"orientation\":\"v\",\"showlegend\":true,\"type\":\"box\",\"x\":[\"Mats Hummels\"],\"x0\":\" \",\"xaxis\":\"x\",\"y\":[30.0],\"y0\":\" \",\"yaxis\":\"y\"},{\"alignmentgroup\":\"True\",\"hovertemplate\":\"name=%{x}<br>interceptions=%{y}<extra></extra>\",\"legendgroup\":\"Thiago Alc\\u00e1ntara\",\"marker\":{\"color\":\"#EF553B\"},\"name\":\"Thiago Alc\\u00e1ntara\",\"notched\":true,\"offsetgroup\":\"Thiago Alc\\u00e1ntara\",\"orientation\":\"v\",\"showlegend\":true,\"type\":\"box\",\"x\":[\"Thiago Alc\\u00e1ntara\"],\"x0\":\" \",\"xaxis\":\"x\",\"y\":[23.0],\"y0\":\" \",\"yaxis\":\"y\"},{\"alignmentgroup\":\"True\",\"hovertemplate\":\"name=%{x}<br>interceptions=%{y}<extra></extra>\",\"legendgroup\":\"W\\u00edlmar Barrios\",\"marker\":{\"color\":\"#00cc96\"},\"name\":\"W\\u00edlmar Barrios\",\"notched\":true,\"offsetgroup\":\"W\\u00edlmar Barrios\",\"orientation\":\"v\",\"showlegend\":true,\"type\":\"box\",\"x\":[\"W\\u00edlmar Barrios\"],\"x0\":\" \",\"xaxis\":\"x\",\"y\":[23.0],\"y0\":\" \",\"yaxis\":\"y\"},{\"alignmentgroup\":\"True\",\"hovertemplate\":\"name=%{x}<br>interceptions=%{y}<extra></extra>\",\"legendgroup\":\"Sven Bender\",\"marker\":{\"color\":\"#ab63fa\"},\"name\":\"Sven Bender\",\"notched\":true,\"offsetgroup\":\"Sven Bender\",\"orientation\":\"v\",\"showlegend\":true,\"type\":\"box\",\"x\":[\"Sven Bender\"],\"x0\":\" \",\"xaxis\":\"x\",\"y\":[19.0],\"y0\":\" \",\"yaxis\":\"y\"},{\"alignmentgroup\":\"True\",\"hovertemplate\":\"name=%{x}<br>interceptions=%{y}<extra></extra>\",\"legendgroup\":\"Fabi\\u00e1n Ruiz\",\"marker\":{\"color\":\"#FFA15A\"},\"name\":\"Fabi\\u00e1n Ruiz\",\"notched\":true,\"offsetgroup\":\"Fabi\\u00e1n Ruiz\",\"orientation\":\"v\",\"showlegend\":true,\"type\":\"box\",\"x\":[\"Fabi\\u00e1n Ruiz\"],\"x0\":\" \",\"xaxis\":\"x\",\"y\":[19.0],\"y0\":\" \",\"yaxis\":\"y\"},{\"alignmentgroup\":\"True\",\"hovertemplate\":\"name=%{x}<br>interceptions=%{y}<extra></extra>\",\"legendgroup\":\"Nicol\\u00e1s Tagliafico\",\"marker\":{\"color\":\"#19d3f3\"},\"name\":\"Nicol\\u00e1s Tagliafico\",\"notched\":true,\"offsetgroup\":\"Nicol\\u00e1s Tagliafico\",\"orientation\":\"v\",\"showlegend\":true,\"type\":\"box\",\"x\":[\"Nicol\\u00e1s Tagliafico\"],\"x0\":\" \",\"xaxis\":\"x\",\"y\":[18.0],\"y0\":\" \",\"yaxis\":\"y\"},{\"alignmentgroup\":\"True\",\"hovertemplate\":\"name=%{x}<br>interceptions=%{y}<extra></extra>\",\"legendgroup\":\"Maximilian W\\u00f6ber\",\"marker\":{\"color\":\"#FF6692\"},\"name\":\"Maximilian W\\u00f6ber\",\"notched\":true,\"offsetgroup\":\"Maximilian W\\u00f6ber\",\"orientation\":\"v\",\"showlegend\":true,\"type\":\"box\",\"x\":[\"Maximilian W\\u00f6ber\"],\"x0\":\" \",\"xaxis\":\"x\",\"y\":[18.0],\"y0\":\" \",\"yaxis\":\"y\"},{\"alignmentgroup\":\"True\",\"hovertemplate\":\"name=%{x}<br>interceptions=%{y}<extra></extra>\",\"legendgroup\":\"Marquinhos\",\"marker\":{\"color\":\"#B6E880\"},\"name\":\"Marquinhos\",\"notched\":true,\"offsetgroup\":\"Marquinhos\",\"orientation\":\"v\",\"showlegend\":true,\"type\":\"box\",\"x\":[\"Marquinhos\"],\"x0\":\" \",\"xaxis\":\"x\",\"y\":[17.0],\"y0\":\" \",\"yaxis\":\"y\"},{\"alignmentgroup\":\"True\",\"hovertemplate\":\"name=%{x}<br>interceptions=%{y}<extra></extra>\",\"legendgroup\":\"Miralem Pjani\\u0107\",\"marker\":{\"color\":\"#FF97FF\"},\"name\":\"Miralem Pjani\\u0107\",\"notched\":true,\"offsetgroup\":\"Miralem Pjani\\u0107\",\"orientation\":\"v\",\"showlegend\":true,\"type\":\"box\",\"x\":[\"Miralem Pjani\\u0107\"],\"x0\":\" \",\"xaxis\":\"x\",\"y\":[17.0],\"y0\":\" \",\"yaxis\":\"y\"},{\"alignmentgroup\":\"True\",\"hovertemplate\":\"name=%{x}<br>interceptions=%{y}<extra></extra>\",\"legendgroup\":\"Jos\\u00e9 Luis Palomino\",\"marker\":{\"color\":\"#FECB52\"},\"name\":\"Jos\\u00e9 Luis Palomino\",\"notched\":true,\"offsetgroup\":\"Jos\\u00e9 Luis Palomino\",\"orientation\":\"v\",\"showlegend\":true,\"type\":\"box\",\"x\":[\"Jos\\u00e9 Luis Palomino\"],\"x0\":\" \",\"xaxis\":\"x\",\"y\":[17.0],\"y0\":\" \",\"yaxis\":\"y\"}],                        {\"boxmode\":\"overlay\",\"legend\":{\"title\":{\"text\":\"name\"},\"tracegroupgap\":0},\"margin\":{\"t\":60},\"template\":{\"data\":{\"bar\":[{\"error_x\":{\"color\":\"#2a3f5f\"},\"error_y\":{\"color\":\"#2a3f5f\"},\"marker\":{\"line\":{\"color\":\"#E5ECF6\",\"width\":0.5},\"pattern\":{\"fillmode\":\"overlay\",\"size\":10,\"solidity\":0.2}},\"type\":\"bar\"}],\"barpolar\":[{\"marker\":{\"line\":{\"color\":\"#E5ECF6\",\"width\":0.5},\"pattern\":{\"fillmode\":\"overlay\",\"size\":10,\"solidity\":0.2}},\"type\":\"barpolar\"}],\"carpet\":[{\"aaxis\":{\"endlinecolor\":\"#2a3f5f\",\"gridcolor\":\"white\",\"linecolor\":\"white\",\"minorgridcolor\":\"white\",\"startlinecolor\":\"#2a3f5f\"},\"baxis\":{\"endlinecolor\":\"#2a3f5f\",\"gridcolor\":\"white\",\"linecolor\":\"white\",\"minorgridcolor\":\"white\",\"startlinecolor\":\"#2a3f5f\"},\"type\":\"carpet\"}],\"choropleth\":[{\"colorbar\":{\"outlinewidth\":0,\"ticks\":\"\"},\"type\":\"choropleth\"}],\"contour\":[{\"colorbar\":{\"outlinewidth\":0,\"ticks\":\"\"},\"colorscale\":[[0.0,\"#0d0887\"],[0.1111111111111111,\"#46039f\"],[0.2222222222222222,\"#7201a8\"],[0.3333333333333333,\"#9c179e\"],[0.4444444444444444,\"#bd3786\"],[0.5555555555555556,\"#d8576b\"],[0.6666666666666666,\"#ed7953\"],[0.7777777777777778,\"#fb9f3a\"],[0.8888888888888888,\"#fdca26\"],[1.0,\"#f0f921\"]],\"type\":\"contour\"}],\"contourcarpet\":[{\"colorbar\":{\"outlinewidth\":0,\"ticks\":\"\"},\"type\":\"contourcarpet\"}],\"heatmap\":[{\"colorbar\":{\"outlinewidth\":0,\"ticks\":\"\"},\"colorscale\":[[0.0,\"#0d0887\"],[0.1111111111111111,\"#46039f\"],[0.2222222222222222,\"#7201a8\"],[0.3333333333333333,\"#9c179e\"],[0.4444444444444444,\"#bd3786\"],[0.5555555555555556,\"#d8576b\"],[0.6666666666666666,\"#ed7953\"],[0.7777777777777778,\"#fb9f3a\"],[0.8888888888888888,\"#fdca26\"],[1.0,\"#f0f921\"]],\"type\":\"heatmap\"}],\"heatmapgl\":[{\"colorbar\":{\"outlinewidth\":0,\"ticks\":\"\"},\"colorscale\":[[0.0,\"#0d0887\"],[0.1111111111111111,\"#46039f\"],[0.2222222222222222,\"#7201a8\"],[0.3333333333333333,\"#9c179e\"],[0.4444444444444444,\"#bd3786\"],[0.5555555555555556,\"#d8576b\"],[0.6666666666666666,\"#ed7953\"],[0.7777777777777778,\"#fb9f3a\"],[0.8888888888888888,\"#fdca26\"],[1.0,\"#f0f921\"]],\"type\":\"heatmapgl\"}],\"histogram\":[{\"marker\":{\"pattern\":{\"fillmode\":\"overlay\",\"size\":10,\"solidity\":0.2}},\"type\":\"histogram\"}],\"histogram2d\":[{\"colorbar\":{\"outlinewidth\":0,\"ticks\":\"\"},\"colorscale\":[[0.0,\"#0d0887\"],[0.1111111111111111,\"#46039f\"],[0.2222222222222222,\"#7201a8\"],[0.3333333333333333,\"#9c179e\"],[0.4444444444444444,\"#bd3786\"],[0.5555555555555556,\"#d8576b\"],[0.6666666666666666,\"#ed7953\"],[0.7777777777777778,\"#fb9f3a\"],[0.8888888888888888,\"#fdca26\"],[1.0,\"#f0f921\"]],\"type\":\"histogram2d\"}],\"histogram2dcontour\":[{\"colorbar\":{\"outlinewidth\":0,\"ticks\":\"\"},\"colorscale\":[[0.0,\"#0d0887\"],[0.1111111111111111,\"#46039f\"],[0.2222222222222222,\"#7201a8\"],[0.3333333333333333,\"#9c179e\"],[0.4444444444444444,\"#bd3786\"],[0.5555555555555556,\"#d8576b\"],[0.6666666666666666,\"#ed7953\"],[0.7777777777777778,\"#fb9f3a\"],[0.8888888888888888,\"#fdca26\"],[1.0,\"#f0f921\"]],\"type\":\"histogram2dcontour\"}],\"mesh3d\":[{\"colorbar\":{\"outlinewidth\":0,\"ticks\":\"\"},\"type\":\"mesh3d\"}],\"parcoords\":[{\"line\":{\"colorbar\":{\"outlinewidth\":0,\"ticks\":\"\"}},\"type\":\"parcoords\"}],\"pie\":[{\"automargin\":true,\"type\":\"pie\"}],\"scatter\":[{\"marker\":{\"colorbar\":{\"outlinewidth\":0,\"ticks\":\"\"}},\"type\":\"scatter\"}],\"scatter3d\":[{\"line\":{\"colorbar\":{\"outlinewidth\":0,\"ticks\":\"\"}},\"marker\":{\"colorbar\":{\"outlinewidth\":0,\"ticks\":\"\"}},\"type\":\"scatter3d\"}],\"scattercarpet\":[{\"marker\":{\"colorbar\":{\"outlinewidth\":0,\"ticks\":\"\"}},\"type\":\"scattercarpet\"}],\"scattergeo\":[{\"marker\":{\"colorbar\":{\"outlinewidth\":0,\"ticks\":\"\"}},\"type\":\"scattergeo\"}],\"scattergl\":[{\"marker\":{\"colorbar\":{\"outlinewidth\":0,\"ticks\":\"\"}},\"type\":\"scattergl\"}],\"scattermapbox\":[{\"marker\":{\"colorbar\":{\"outlinewidth\":0,\"ticks\":\"\"}},\"type\":\"scattermapbox\"}],\"scatterpolar\":[{\"marker\":{\"colorbar\":{\"outlinewidth\":0,\"ticks\":\"\"}},\"type\":\"scatterpolar\"}],\"scatterpolargl\":[{\"marker\":{\"colorbar\":{\"outlinewidth\":0,\"ticks\":\"\"}},\"type\":\"scatterpolargl\"}],\"scatterternary\":[{\"marker\":{\"colorbar\":{\"outlinewidth\":0,\"ticks\":\"\"}},\"type\":\"scatterternary\"}],\"surface\":[{\"colorbar\":{\"outlinewidth\":0,\"ticks\":\"\"},\"colorscale\":[[0.0,\"#0d0887\"],[0.1111111111111111,\"#46039f\"],[0.2222222222222222,\"#7201a8\"],[0.3333333333333333,\"#9c179e\"],[0.4444444444444444,\"#bd3786\"],[0.5555555555555556,\"#d8576b\"],[0.6666666666666666,\"#ed7953\"],[0.7777777777777778,\"#fb9f3a\"],[0.8888888888888888,\"#fdca26\"],[1.0,\"#f0f921\"]],\"type\":\"surface\"}],\"table\":[{\"cells\":{\"fill\":{\"color\":\"#EBF0F8\"},\"line\":{\"color\":\"white\"}},\"header\":{\"fill\":{\"color\":\"#C8D4E3\"},\"line\":{\"color\":\"white\"}},\"type\":\"table\"}]},\"layout\":{\"annotationdefaults\":{\"arrowcolor\":\"#2a3f5f\",\"arrowhead\":0,\"arrowwidth\":1},\"autotypenumbers\":\"strict\",\"coloraxis\":{\"colorbar\":{\"outlinewidth\":0,\"ticks\":\"\"}},\"colorscale\":{\"diverging\":[[0,\"#8e0152\"],[0.1,\"#c51b7d\"],[0.2,\"#de77ae\"],[0.3,\"#f1b6da\"],[0.4,\"#fde0ef\"],[0.5,\"#f7f7f7\"],[0.6,\"#e6f5d0\"],[0.7,\"#b8e186\"],[0.8,\"#7fbc41\"],[0.9,\"#4d9221\"],[1,\"#276419\"]],\"sequential\":[[0.0,\"#0d0887\"],[0.1111111111111111,\"#46039f\"],[0.2222222222222222,\"#7201a8\"],[0.3333333333333333,\"#9c179e\"],[0.4444444444444444,\"#bd3786\"],[0.5555555555555556,\"#d8576b\"],[0.6666666666666666,\"#ed7953\"],[0.7777777777777778,\"#fb9f3a\"],[0.8888888888888888,\"#fdca26\"],[1.0,\"#f0f921\"]],\"sequentialminus\":[[0.0,\"#0d0887\"],[0.1111111111111111,\"#46039f\"],[0.2222222222222222,\"#7201a8\"],[0.3333333333333333,\"#9c179e\"],[0.4444444444444444,\"#bd3786\"],[0.5555555555555556,\"#d8576b\"],[0.6666666666666666,\"#ed7953\"],[0.7777777777777778,\"#fb9f3a\"],[0.8888888888888888,\"#fdca26\"],[1.0,\"#f0f921\"]]},\"colorway\":[\"#636efa\",\"#EF553B\",\"#00cc96\",\"#ab63fa\",\"#FFA15A\",\"#19d3f3\",\"#FF6692\",\"#B6E880\",\"#FF97FF\",\"#FECB52\"],\"font\":{\"color\":\"#2a3f5f\"},\"geo\":{\"bgcolor\":\"white\",\"lakecolor\":\"white\",\"landcolor\":\"#E5ECF6\",\"showlakes\":true,\"showland\":true,\"subunitcolor\":\"white\"},\"hoverlabel\":{\"align\":\"left\"},\"hovermode\":\"closest\",\"mapbox\":{\"style\":\"light\"},\"paper_bgcolor\":\"white\",\"plot_bgcolor\":\"#E5ECF6\",\"polar\":{\"angularaxis\":{\"gridcolor\":\"white\",\"linecolor\":\"white\",\"ticks\":\"\"},\"bgcolor\":\"#E5ECF6\",\"radialaxis\":{\"gridcolor\":\"white\",\"linecolor\":\"white\",\"ticks\":\"\"}},\"scene\":{\"xaxis\":{\"backgroundcolor\":\"#E5ECF6\",\"gridcolor\":\"white\",\"gridwidth\":2,\"linecolor\":\"white\",\"showbackground\":true,\"ticks\":\"\",\"zerolinecolor\":\"white\"},\"yaxis\":{\"backgroundcolor\":\"#E5ECF6\",\"gridcolor\":\"white\",\"gridwidth\":2,\"linecolor\":\"white\",\"showbackground\":true,\"ticks\":\"\",\"zerolinecolor\":\"white\"},\"zaxis\":{\"backgroundcolor\":\"#E5ECF6\",\"gridcolor\":\"white\",\"gridwidth\":2,\"linecolor\":\"white\",\"showbackground\":true,\"ticks\":\"\",\"zerolinecolor\":\"white\"}},\"shapedefaults\":{\"line\":{\"color\":\"#2a3f5f\"}},\"ternary\":{\"aaxis\":{\"gridcolor\":\"white\",\"linecolor\":\"white\",\"ticks\":\"\"},\"baxis\":{\"gridcolor\":\"white\",\"linecolor\":\"white\",\"ticks\":\"\"},\"bgcolor\":\"#E5ECF6\",\"caxis\":{\"gridcolor\":\"white\",\"linecolor\":\"white\",\"ticks\":\"\"}},\"title\":{\"x\":0.05},\"xaxis\":{\"automargin\":true,\"gridcolor\":\"white\",\"linecolor\":\"white\",\"ticks\":\"\",\"title\":{\"standoff\":15},\"zerolinecolor\":\"white\",\"zerolinewidth\":2},\"yaxis\":{\"automargin\":true,\"gridcolor\":\"white\",\"linecolor\":\"white\",\"ticks\":\"\",\"title\":{\"standoff\":15},\"zerolinecolor\":\"white\",\"zerolinewidth\":2}}},\"xaxis\":{\"anchor\":\"y\",\"categoryarray\":[\"Mats Hummels\",\"Thiago Alc\\u00e1ntara\",\"W\\u00edlmar Barrios\",\"Sven Bender\",\"Fabi\\u00e1n Ruiz\",\"Nicol\\u00e1s Tagliafico\",\"Maximilian W\\u00f6ber\",\"Marquinhos\",\"Miralem Pjani\\u0107\",\"Jos\\u00e9 Luis Palomino\"],\"categoryorder\":\"array\",\"domain\":[0.0,1.0],\"title\":{\"text\":\"name\"}},\"yaxis\":{\"anchor\":\"x\",\"domain\":[0.0,1.0],\"title\":{\"text\":\"interceptions\"}}},                        {\"responsive\": true}                    ).then(function(){\n",
       "                            \n",
       "var gd = document.getElementById('4df10ed0-d918-4b5c-80d0-a0cec6f5c824');\n",
       "var x = new MutationObserver(function (mutations, observer) {{\n",
       "        var display = window.getComputedStyle(gd).display;\n",
       "        if (!display || display === 'none') {{\n",
       "            console.log([gd, 'removed!']);\n",
       "            Plotly.purge(gd);\n",
       "            observer.disconnect();\n",
       "        }}\n",
       "}});\n",
       "\n",
       "// Listen for the removal of the full notebook cells\n",
       "var notebookContainer = gd.closest('#notebook-container');\n",
       "if (notebookContainer) {{\n",
       "    x.observe(notebookContainer, {childList: true});\n",
       "}}\n",
       "\n",
       "// Listen for the clearing of the current output cell\n",
       "var outputEl = gd.closest('.output');\n",
       "if (outputEl) {{\n",
       "    x.observe(outputEl, {childList: true});\n",
       "}}\n",
       "\n",
       "                        })                };                });            </script>        </div>"
      ]
     },
     "metadata": {},
     "output_type": "display_data"
    }
   ],
   "source": [
    "fig = px.box(top_10_defenders, x=\"name\", y=\"interceptions\",color='name', notched=True)\n",
    "fig.show()"
   ]
  },
  {
   "cell_type": "code",
   "execution_count": 1287,
   "id": "d9a3960a",
   "metadata": {},
   "outputs": [],
   "source": [
    "top_10_keepers = value_player_list.nlargest(10,'saves')"
   ]
  },
  {
   "cell_type": "code",
   "execution_count": 1288,
   "id": "186b0ffa",
   "metadata": {},
   "outputs": [
    {
     "data": {
      "text/html": [
       "<div>\n",
       "<style scoped>\n",
       "    .dataframe tbody tr th:only-of-type {\n",
       "        vertical-align: middle;\n",
       "    }\n",
       "\n",
       "    .dataframe tbody tr th {\n",
       "        vertical-align: top;\n",
       "    }\n",
       "\n",
       "    .dataframe thead th {\n",
       "        text-align: right;\n",
       "    }\n",
       "</style>\n",
       "<table border=\"1\" class=\"dataframe\">\n",
       "  <thead>\n",
       "    <tr style=\"text-align: right;\">\n",
       "      <th></th>\n",
       "      <th>name</th>\n",
       "      <th>saves</th>\n",
       "    </tr>\n",
       "  </thead>\n",
       "  <tbody>\n",
       "    <tr>\n",
       "      <th>1548</th>\n",
       "      <td>Fernando Muslera</td>\n",
       "      <td>33.0</td>\n",
       "    </tr>\n",
       "    <tr>\n",
       "      <th>1815</th>\n",
       "      <td>Péter Gulácsi</td>\n",
       "      <td>33.0</td>\n",
       "    </tr>\n",
       "    <tr>\n",
       "      <th>2823</th>\n",
       "      <td>Milan Borjan</td>\n",
       "      <td>33.0</td>\n",
       "    </tr>\n",
       "    <tr>\n",
       "      <th>1590</th>\n",
       "      <td>Guilherme Marinato</td>\n",
       "      <td>29.0</td>\n",
       "    </tr>\n",
       "    <tr>\n",
       "      <th>499</th>\n",
       "      <td>Manuel Neuer</td>\n",
       "      <td>28.0</td>\n",
       "    </tr>\n",
       "    <tr>\n",
       "      <th>2924</th>\n",
       "      <td>Marc-André ter Stegen</td>\n",
       "      <td>27.0</td>\n",
       "    </tr>\n",
       "    <tr>\n",
       "      <th>5099</th>\n",
       "      <td>André Onana</td>\n",
       "      <td>26.0</td>\n",
       "    </tr>\n",
       "    <tr>\n",
       "      <th>5707</th>\n",
       "      <td>Ondrej Kolar</td>\n",
       "      <td>26.0</td>\n",
       "    </tr>\n",
       "    <tr>\n",
       "      <th>1839</th>\n",
       "      <td>Roman Bürki</td>\n",
       "      <td>26.0</td>\n",
       "    </tr>\n",
       "    <tr>\n",
       "      <th>2684</th>\n",
       "      <td>Jan Oblak</td>\n",
       "      <td>23.0</td>\n",
       "    </tr>\n",
       "  </tbody>\n",
       "</table>\n",
       "</div>"
      ],
      "text/plain": [
       "                       name  saves\n",
       "1548       Fernando Muslera   33.0\n",
       "1815          Péter Gulácsi   33.0\n",
       "2823           Milan Borjan   33.0\n",
       "1590     Guilherme Marinato   29.0\n",
       "499            Manuel Neuer   28.0\n",
       "2924  Marc-André ter Stegen   27.0\n",
       "5099            André Onana   26.0\n",
       "5707           Ondrej Kolar   26.0\n",
       "1839            Roman Bürki   26.0\n",
       "2684              Jan Oblak   23.0"
      ]
     },
     "execution_count": 1288,
     "metadata": {},
     "output_type": "execute_result"
    }
   ],
   "source": [
    "top_10_keepers[['name','saves']]"
   ]
  },
  {
   "cell_type": "code",
   "execution_count": 1289,
   "id": "239cadeb",
   "metadata": {},
   "outputs": [
    {
     "data": {
      "application/vnd.plotly.v1+json": {
       "config": {
        "plotlyServerURL": "https://plot.ly"
       },
       "data": [
        {
         "alignmentgroup": "True",
         "hovertemplate": "name=%{x}<br>saves=%{y}<extra></extra>",
         "legendgroup": "Fernando Muslera",
         "marker": {
          "color": "#636efa"
         },
         "name": "Fernando Muslera",
         "notched": true,
         "offsetgroup": "Fernando Muslera",
         "orientation": "v",
         "showlegend": true,
         "type": "box",
         "x": [
          "Fernando Muslera"
         ],
         "x0": " ",
         "xaxis": "x",
         "y": [
          33
         ],
         "y0": " ",
         "yaxis": "y"
        },
        {
         "alignmentgroup": "True",
         "hovertemplate": "name=%{x}<br>saves=%{y}<extra></extra>",
         "legendgroup": "Péter Gulácsi",
         "marker": {
          "color": "#EF553B"
         },
         "name": "Péter Gulácsi",
         "notched": true,
         "offsetgroup": "Péter Gulácsi",
         "orientation": "v",
         "showlegend": true,
         "type": "box",
         "x": [
          "Péter Gulácsi"
         ],
         "x0": " ",
         "xaxis": "x",
         "y": [
          33
         ],
         "y0": " ",
         "yaxis": "y"
        },
        {
         "alignmentgroup": "True",
         "hovertemplate": "name=%{x}<br>saves=%{y}<extra></extra>",
         "legendgroup": "Milan Borjan",
         "marker": {
          "color": "#00cc96"
         },
         "name": "Milan Borjan",
         "notched": true,
         "offsetgroup": "Milan Borjan",
         "orientation": "v",
         "showlegend": true,
         "type": "box",
         "x": [
          "Milan Borjan"
         ],
         "x0": " ",
         "xaxis": "x",
         "y": [
          33
         ],
         "y0": " ",
         "yaxis": "y"
        },
        {
         "alignmentgroup": "True",
         "hovertemplate": "name=%{x}<br>saves=%{y}<extra></extra>",
         "legendgroup": "Guilherme Marinato",
         "marker": {
          "color": "#ab63fa"
         },
         "name": "Guilherme Marinato",
         "notched": true,
         "offsetgroup": "Guilherme Marinato",
         "orientation": "v",
         "showlegend": true,
         "type": "box",
         "x": [
          "Guilherme Marinato"
         ],
         "x0": " ",
         "xaxis": "x",
         "y": [
          29
         ],
         "y0": " ",
         "yaxis": "y"
        },
        {
         "alignmentgroup": "True",
         "hovertemplate": "name=%{x}<br>saves=%{y}<extra></extra>",
         "legendgroup": "Manuel Neuer",
         "marker": {
          "color": "#FFA15A"
         },
         "name": "Manuel Neuer",
         "notched": true,
         "offsetgroup": "Manuel Neuer",
         "orientation": "v",
         "showlegend": true,
         "type": "box",
         "x": [
          "Manuel Neuer"
         ],
         "x0": " ",
         "xaxis": "x",
         "y": [
          28
         ],
         "y0": " ",
         "yaxis": "y"
        },
        {
         "alignmentgroup": "True",
         "hovertemplate": "name=%{x}<br>saves=%{y}<extra></extra>",
         "legendgroup": "Marc-André ter Stegen",
         "marker": {
          "color": "#19d3f3"
         },
         "name": "Marc-André ter Stegen",
         "notched": true,
         "offsetgroup": "Marc-André ter Stegen",
         "orientation": "v",
         "showlegend": true,
         "type": "box",
         "x": [
          "Marc-André ter Stegen"
         ],
         "x0": " ",
         "xaxis": "x",
         "y": [
          27
         ],
         "y0": " ",
         "yaxis": "y"
        },
        {
         "alignmentgroup": "True",
         "hovertemplate": "name=%{x}<br>saves=%{y}<extra></extra>",
         "legendgroup": "André Onana",
         "marker": {
          "color": "#FF6692"
         },
         "name": "André Onana",
         "notched": true,
         "offsetgroup": "André Onana",
         "orientation": "v",
         "showlegend": true,
         "type": "box",
         "x": [
          "André Onana"
         ],
         "x0": " ",
         "xaxis": "x",
         "y": [
          26
         ],
         "y0": " ",
         "yaxis": "y"
        },
        {
         "alignmentgroup": "True",
         "hovertemplate": "name=%{x}<br>saves=%{y}<extra></extra>",
         "legendgroup": "Ondrej Kolar",
         "marker": {
          "color": "#B6E880"
         },
         "name": "Ondrej Kolar",
         "notched": true,
         "offsetgroup": "Ondrej Kolar",
         "orientation": "v",
         "showlegend": true,
         "type": "box",
         "x": [
          "Ondrej Kolar"
         ],
         "x0": " ",
         "xaxis": "x",
         "y": [
          26
         ],
         "y0": " ",
         "yaxis": "y"
        },
        {
         "alignmentgroup": "True",
         "hovertemplate": "name=%{x}<br>saves=%{y}<extra></extra>",
         "legendgroup": "Roman Bürki",
         "marker": {
          "color": "#FF97FF"
         },
         "name": "Roman Bürki",
         "notched": true,
         "offsetgroup": "Roman Bürki",
         "orientation": "v",
         "showlegend": true,
         "type": "box",
         "x": [
          "Roman Bürki"
         ],
         "x0": " ",
         "xaxis": "x",
         "y": [
          26
         ],
         "y0": " ",
         "yaxis": "y"
        },
        {
         "alignmentgroup": "True",
         "hovertemplate": "name=%{x}<br>saves=%{y}<extra></extra>",
         "legendgroup": "Jan Oblak",
         "marker": {
          "color": "#FECB52"
         },
         "name": "Jan Oblak",
         "notched": true,
         "offsetgroup": "Jan Oblak",
         "orientation": "v",
         "showlegend": true,
         "type": "box",
         "x": [
          "Jan Oblak"
         ],
         "x0": " ",
         "xaxis": "x",
         "y": [
          23
         ],
         "y0": " ",
         "yaxis": "y"
        }
       ],
       "layout": {
        "boxmode": "overlay",
        "legend": {
         "title": {
          "text": "name"
         },
         "tracegroupgap": 0
        },
        "margin": {
         "t": 60
        },
        "template": {
         "data": {
          "bar": [
           {
            "error_x": {
             "color": "#2a3f5f"
            },
            "error_y": {
             "color": "#2a3f5f"
            },
            "marker": {
             "line": {
              "color": "#E5ECF6",
              "width": 0.5
             },
             "pattern": {
              "fillmode": "overlay",
              "size": 10,
              "solidity": 0.2
             }
            },
            "type": "bar"
           }
          ],
          "barpolar": [
           {
            "marker": {
             "line": {
              "color": "#E5ECF6",
              "width": 0.5
             },
             "pattern": {
              "fillmode": "overlay",
              "size": 10,
              "solidity": 0.2
             }
            },
            "type": "barpolar"
           }
          ],
          "carpet": [
           {
            "aaxis": {
             "endlinecolor": "#2a3f5f",
             "gridcolor": "white",
             "linecolor": "white",
             "minorgridcolor": "white",
             "startlinecolor": "#2a3f5f"
            },
            "baxis": {
             "endlinecolor": "#2a3f5f",
             "gridcolor": "white",
             "linecolor": "white",
             "minorgridcolor": "white",
             "startlinecolor": "#2a3f5f"
            },
            "type": "carpet"
           }
          ],
          "choropleth": [
           {
            "colorbar": {
             "outlinewidth": 0,
             "ticks": ""
            },
            "type": "choropleth"
           }
          ],
          "contour": [
           {
            "colorbar": {
             "outlinewidth": 0,
             "ticks": ""
            },
            "colorscale": [
             [
              0,
              "#0d0887"
             ],
             [
              0.1111111111111111,
              "#46039f"
             ],
             [
              0.2222222222222222,
              "#7201a8"
             ],
             [
              0.3333333333333333,
              "#9c179e"
             ],
             [
              0.4444444444444444,
              "#bd3786"
             ],
             [
              0.5555555555555556,
              "#d8576b"
             ],
             [
              0.6666666666666666,
              "#ed7953"
             ],
             [
              0.7777777777777778,
              "#fb9f3a"
             ],
             [
              0.8888888888888888,
              "#fdca26"
             ],
             [
              1,
              "#f0f921"
             ]
            ],
            "type": "contour"
           }
          ],
          "contourcarpet": [
           {
            "colorbar": {
             "outlinewidth": 0,
             "ticks": ""
            },
            "type": "contourcarpet"
           }
          ],
          "heatmap": [
           {
            "colorbar": {
             "outlinewidth": 0,
             "ticks": ""
            },
            "colorscale": [
             [
              0,
              "#0d0887"
             ],
             [
              0.1111111111111111,
              "#46039f"
             ],
             [
              0.2222222222222222,
              "#7201a8"
             ],
             [
              0.3333333333333333,
              "#9c179e"
             ],
             [
              0.4444444444444444,
              "#bd3786"
             ],
             [
              0.5555555555555556,
              "#d8576b"
             ],
             [
              0.6666666666666666,
              "#ed7953"
             ],
             [
              0.7777777777777778,
              "#fb9f3a"
             ],
             [
              0.8888888888888888,
              "#fdca26"
             ],
             [
              1,
              "#f0f921"
             ]
            ],
            "type": "heatmap"
           }
          ],
          "heatmapgl": [
           {
            "colorbar": {
             "outlinewidth": 0,
             "ticks": ""
            },
            "colorscale": [
             [
              0,
              "#0d0887"
             ],
             [
              0.1111111111111111,
              "#46039f"
             ],
             [
              0.2222222222222222,
              "#7201a8"
             ],
             [
              0.3333333333333333,
              "#9c179e"
             ],
             [
              0.4444444444444444,
              "#bd3786"
             ],
             [
              0.5555555555555556,
              "#d8576b"
             ],
             [
              0.6666666666666666,
              "#ed7953"
             ],
             [
              0.7777777777777778,
              "#fb9f3a"
             ],
             [
              0.8888888888888888,
              "#fdca26"
             ],
             [
              1,
              "#f0f921"
             ]
            ],
            "type": "heatmapgl"
           }
          ],
          "histogram": [
           {
            "marker": {
             "pattern": {
              "fillmode": "overlay",
              "size": 10,
              "solidity": 0.2
             }
            },
            "type": "histogram"
           }
          ],
          "histogram2d": [
           {
            "colorbar": {
             "outlinewidth": 0,
             "ticks": ""
            },
            "colorscale": [
             [
              0,
              "#0d0887"
             ],
             [
              0.1111111111111111,
              "#46039f"
             ],
             [
              0.2222222222222222,
              "#7201a8"
             ],
             [
              0.3333333333333333,
              "#9c179e"
             ],
             [
              0.4444444444444444,
              "#bd3786"
             ],
             [
              0.5555555555555556,
              "#d8576b"
             ],
             [
              0.6666666666666666,
              "#ed7953"
             ],
             [
              0.7777777777777778,
              "#fb9f3a"
             ],
             [
              0.8888888888888888,
              "#fdca26"
             ],
             [
              1,
              "#f0f921"
             ]
            ],
            "type": "histogram2d"
           }
          ],
          "histogram2dcontour": [
           {
            "colorbar": {
             "outlinewidth": 0,
             "ticks": ""
            },
            "colorscale": [
             [
              0,
              "#0d0887"
             ],
             [
              0.1111111111111111,
              "#46039f"
             ],
             [
              0.2222222222222222,
              "#7201a8"
             ],
             [
              0.3333333333333333,
              "#9c179e"
             ],
             [
              0.4444444444444444,
              "#bd3786"
             ],
             [
              0.5555555555555556,
              "#d8576b"
             ],
             [
              0.6666666666666666,
              "#ed7953"
             ],
             [
              0.7777777777777778,
              "#fb9f3a"
             ],
             [
              0.8888888888888888,
              "#fdca26"
             ],
             [
              1,
              "#f0f921"
             ]
            ],
            "type": "histogram2dcontour"
           }
          ],
          "mesh3d": [
           {
            "colorbar": {
             "outlinewidth": 0,
             "ticks": ""
            },
            "type": "mesh3d"
           }
          ],
          "parcoords": [
           {
            "line": {
             "colorbar": {
              "outlinewidth": 0,
              "ticks": ""
             }
            },
            "type": "parcoords"
           }
          ],
          "pie": [
           {
            "automargin": true,
            "type": "pie"
           }
          ],
          "scatter": [
           {
            "marker": {
             "colorbar": {
              "outlinewidth": 0,
              "ticks": ""
             }
            },
            "type": "scatter"
           }
          ],
          "scatter3d": [
           {
            "line": {
             "colorbar": {
              "outlinewidth": 0,
              "ticks": ""
             }
            },
            "marker": {
             "colorbar": {
              "outlinewidth": 0,
              "ticks": ""
             }
            },
            "type": "scatter3d"
           }
          ],
          "scattercarpet": [
           {
            "marker": {
             "colorbar": {
              "outlinewidth": 0,
              "ticks": ""
             }
            },
            "type": "scattercarpet"
           }
          ],
          "scattergeo": [
           {
            "marker": {
             "colorbar": {
              "outlinewidth": 0,
              "ticks": ""
             }
            },
            "type": "scattergeo"
           }
          ],
          "scattergl": [
           {
            "marker": {
             "colorbar": {
              "outlinewidth": 0,
              "ticks": ""
             }
            },
            "type": "scattergl"
           }
          ],
          "scattermapbox": [
           {
            "marker": {
             "colorbar": {
              "outlinewidth": 0,
              "ticks": ""
             }
            },
            "type": "scattermapbox"
           }
          ],
          "scatterpolar": [
           {
            "marker": {
             "colorbar": {
              "outlinewidth": 0,
              "ticks": ""
             }
            },
            "type": "scatterpolar"
           }
          ],
          "scatterpolargl": [
           {
            "marker": {
             "colorbar": {
              "outlinewidth": 0,
              "ticks": ""
             }
            },
            "type": "scatterpolargl"
           }
          ],
          "scatterternary": [
           {
            "marker": {
             "colorbar": {
              "outlinewidth": 0,
              "ticks": ""
             }
            },
            "type": "scatterternary"
           }
          ],
          "surface": [
           {
            "colorbar": {
             "outlinewidth": 0,
             "ticks": ""
            },
            "colorscale": [
             [
              0,
              "#0d0887"
             ],
             [
              0.1111111111111111,
              "#46039f"
             ],
             [
              0.2222222222222222,
              "#7201a8"
             ],
             [
              0.3333333333333333,
              "#9c179e"
             ],
             [
              0.4444444444444444,
              "#bd3786"
             ],
             [
              0.5555555555555556,
              "#d8576b"
             ],
             [
              0.6666666666666666,
              "#ed7953"
             ],
             [
              0.7777777777777778,
              "#fb9f3a"
             ],
             [
              0.8888888888888888,
              "#fdca26"
             ],
             [
              1,
              "#f0f921"
             ]
            ],
            "type": "surface"
           }
          ],
          "table": [
           {
            "cells": {
             "fill": {
              "color": "#EBF0F8"
             },
             "line": {
              "color": "white"
             }
            },
            "header": {
             "fill": {
              "color": "#C8D4E3"
             },
             "line": {
              "color": "white"
             }
            },
            "type": "table"
           }
          ]
         },
         "layout": {
          "annotationdefaults": {
           "arrowcolor": "#2a3f5f",
           "arrowhead": 0,
           "arrowwidth": 1
          },
          "autotypenumbers": "strict",
          "coloraxis": {
           "colorbar": {
            "outlinewidth": 0,
            "ticks": ""
           }
          },
          "colorscale": {
           "diverging": [
            [
             0,
             "#8e0152"
            ],
            [
             0.1,
             "#c51b7d"
            ],
            [
             0.2,
             "#de77ae"
            ],
            [
             0.3,
             "#f1b6da"
            ],
            [
             0.4,
             "#fde0ef"
            ],
            [
             0.5,
             "#f7f7f7"
            ],
            [
             0.6,
             "#e6f5d0"
            ],
            [
             0.7,
             "#b8e186"
            ],
            [
             0.8,
             "#7fbc41"
            ],
            [
             0.9,
             "#4d9221"
            ],
            [
             1,
             "#276419"
            ]
           ],
           "sequential": [
            [
             0,
             "#0d0887"
            ],
            [
             0.1111111111111111,
             "#46039f"
            ],
            [
             0.2222222222222222,
             "#7201a8"
            ],
            [
             0.3333333333333333,
             "#9c179e"
            ],
            [
             0.4444444444444444,
             "#bd3786"
            ],
            [
             0.5555555555555556,
             "#d8576b"
            ],
            [
             0.6666666666666666,
             "#ed7953"
            ],
            [
             0.7777777777777778,
             "#fb9f3a"
            ],
            [
             0.8888888888888888,
             "#fdca26"
            ],
            [
             1,
             "#f0f921"
            ]
           ],
           "sequentialminus": [
            [
             0,
             "#0d0887"
            ],
            [
             0.1111111111111111,
             "#46039f"
            ],
            [
             0.2222222222222222,
             "#7201a8"
            ],
            [
             0.3333333333333333,
             "#9c179e"
            ],
            [
             0.4444444444444444,
             "#bd3786"
            ],
            [
             0.5555555555555556,
             "#d8576b"
            ],
            [
             0.6666666666666666,
             "#ed7953"
            ],
            [
             0.7777777777777778,
             "#fb9f3a"
            ],
            [
             0.8888888888888888,
             "#fdca26"
            ],
            [
             1,
             "#f0f921"
            ]
           ]
          },
          "colorway": [
           "#636efa",
           "#EF553B",
           "#00cc96",
           "#ab63fa",
           "#FFA15A",
           "#19d3f3",
           "#FF6692",
           "#B6E880",
           "#FF97FF",
           "#FECB52"
          ],
          "font": {
           "color": "#2a3f5f"
          },
          "geo": {
           "bgcolor": "white",
           "lakecolor": "white",
           "landcolor": "#E5ECF6",
           "showlakes": true,
           "showland": true,
           "subunitcolor": "white"
          },
          "hoverlabel": {
           "align": "left"
          },
          "hovermode": "closest",
          "mapbox": {
           "style": "light"
          },
          "paper_bgcolor": "white",
          "plot_bgcolor": "#E5ECF6",
          "polar": {
           "angularaxis": {
            "gridcolor": "white",
            "linecolor": "white",
            "ticks": ""
           },
           "bgcolor": "#E5ECF6",
           "radialaxis": {
            "gridcolor": "white",
            "linecolor": "white",
            "ticks": ""
           }
          },
          "scene": {
           "xaxis": {
            "backgroundcolor": "#E5ECF6",
            "gridcolor": "white",
            "gridwidth": 2,
            "linecolor": "white",
            "showbackground": true,
            "ticks": "",
            "zerolinecolor": "white"
           },
           "yaxis": {
            "backgroundcolor": "#E5ECF6",
            "gridcolor": "white",
            "gridwidth": 2,
            "linecolor": "white",
            "showbackground": true,
            "ticks": "",
            "zerolinecolor": "white"
           },
           "zaxis": {
            "backgroundcolor": "#E5ECF6",
            "gridcolor": "white",
            "gridwidth": 2,
            "linecolor": "white",
            "showbackground": true,
            "ticks": "",
            "zerolinecolor": "white"
           }
          },
          "shapedefaults": {
           "line": {
            "color": "#2a3f5f"
           }
          },
          "ternary": {
           "aaxis": {
            "gridcolor": "white",
            "linecolor": "white",
            "ticks": ""
           },
           "baxis": {
            "gridcolor": "white",
            "linecolor": "white",
            "ticks": ""
           },
           "bgcolor": "#E5ECF6",
           "caxis": {
            "gridcolor": "white",
            "linecolor": "white",
            "ticks": ""
           }
          },
          "title": {
           "x": 0.05
          },
          "xaxis": {
           "automargin": true,
           "gridcolor": "white",
           "linecolor": "white",
           "ticks": "",
           "title": {
            "standoff": 15
           },
           "zerolinecolor": "white",
           "zerolinewidth": 2
          },
          "yaxis": {
           "automargin": true,
           "gridcolor": "white",
           "linecolor": "white",
           "ticks": "",
           "title": {
            "standoff": 15
           },
           "zerolinecolor": "white",
           "zerolinewidth": 2
          }
         }
        },
        "xaxis": {
         "anchor": "y",
         "categoryarray": [
          "Fernando Muslera",
          "Péter Gulácsi",
          "Milan Borjan",
          "Guilherme Marinato",
          "Manuel Neuer",
          "Marc-André ter Stegen",
          "André Onana",
          "Ondrej Kolar",
          "Roman Bürki",
          "Jan Oblak"
         ],
         "categoryorder": "array",
         "domain": [
          0,
          1
         ],
         "title": {
          "text": "name"
         }
        },
        "yaxis": {
         "anchor": "x",
         "domain": [
          0,
          1
         ],
         "title": {
          "text": "saves"
         }
        }
       }
      },
      "text/html": [
       "<div>                            <div id=\"85149ca6-856c-437f-a24a-fe4e9ef30e43\" class=\"plotly-graph-div\" style=\"height:525px; width:100%;\"></div>            <script type=\"text/javascript\">                require([\"plotly\"], function(Plotly) {                    window.PLOTLYENV=window.PLOTLYENV || {};                                    if (document.getElementById(\"85149ca6-856c-437f-a24a-fe4e9ef30e43\")) {                    Plotly.newPlot(                        \"85149ca6-856c-437f-a24a-fe4e9ef30e43\",                        [{\"alignmentgroup\":\"True\",\"hovertemplate\":\"name=%{x}<br>saves=%{y}<extra></extra>\",\"legendgroup\":\"Fernando Muslera\",\"marker\":{\"color\":\"#636efa\"},\"name\":\"Fernando Muslera\",\"notched\":true,\"offsetgroup\":\"Fernando Muslera\",\"orientation\":\"v\",\"showlegend\":true,\"type\":\"box\",\"x\":[\"Fernando Muslera\"],\"x0\":\" \",\"xaxis\":\"x\",\"y\":[33.0],\"y0\":\" \",\"yaxis\":\"y\"},{\"alignmentgroup\":\"True\",\"hovertemplate\":\"name=%{x}<br>saves=%{y}<extra></extra>\",\"legendgroup\":\"P\\u00e9ter Gul\\u00e1csi\",\"marker\":{\"color\":\"#EF553B\"},\"name\":\"P\\u00e9ter Gul\\u00e1csi\",\"notched\":true,\"offsetgroup\":\"P\\u00e9ter Gul\\u00e1csi\",\"orientation\":\"v\",\"showlegend\":true,\"type\":\"box\",\"x\":[\"P\\u00e9ter Gul\\u00e1csi\"],\"x0\":\" \",\"xaxis\":\"x\",\"y\":[33.0],\"y0\":\" \",\"yaxis\":\"y\"},{\"alignmentgroup\":\"True\",\"hovertemplate\":\"name=%{x}<br>saves=%{y}<extra></extra>\",\"legendgroup\":\"Milan Borjan\",\"marker\":{\"color\":\"#00cc96\"},\"name\":\"Milan Borjan\",\"notched\":true,\"offsetgroup\":\"Milan Borjan\",\"orientation\":\"v\",\"showlegend\":true,\"type\":\"box\",\"x\":[\"Milan Borjan\"],\"x0\":\" \",\"xaxis\":\"x\",\"y\":[33.0],\"y0\":\" \",\"yaxis\":\"y\"},{\"alignmentgroup\":\"True\",\"hovertemplate\":\"name=%{x}<br>saves=%{y}<extra></extra>\",\"legendgroup\":\"Guilherme Marinato\",\"marker\":{\"color\":\"#ab63fa\"},\"name\":\"Guilherme Marinato\",\"notched\":true,\"offsetgroup\":\"Guilherme Marinato\",\"orientation\":\"v\",\"showlegend\":true,\"type\":\"box\",\"x\":[\"Guilherme Marinato\"],\"x0\":\" \",\"xaxis\":\"x\",\"y\":[29.0],\"y0\":\" \",\"yaxis\":\"y\"},{\"alignmentgroup\":\"True\",\"hovertemplate\":\"name=%{x}<br>saves=%{y}<extra></extra>\",\"legendgroup\":\"Manuel Neuer\",\"marker\":{\"color\":\"#FFA15A\"},\"name\":\"Manuel Neuer\",\"notched\":true,\"offsetgroup\":\"Manuel Neuer\",\"orientation\":\"v\",\"showlegend\":true,\"type\":\"box\",\"x\":[\"Manuel Neuer\"],\"x0\":\" \",\"xaxis\":\"x\",\"y\":[28.0],\"y0\":\" \",\"yaxis\":\"y\"},{\"alignmentgroup\":\"True\",\"hovertemplate\":\"name=%{x}<br>saves=%{y}<extra></extra>\",\"legendgroup\":\"Marc-Andr\\u00e9 ter Stegen\",\"marker\":{\"color\":\"#19d3f3\"},\"name\":\"Marc-Andr\\u00e9 ter Stegen\",\"notched\":true,\"offsetgroup\":\"Marc-Andr\\u00e9 ter Stegen\",\"orientation\":\"v\",\"showlegend\":true,\"type\":\"box\",\"x\":[\"Marc-Andr\\u00e9 ter Stegen\"],\"x0\":\" \",\"xaxis\":\"x\",\"y\":[27.0],\"y0\":\" \",\"yaxis\":\"y\"},{\"alignmentgroup\":\"True\",\"hovertemplate\":\"name=%{x}<br>saves=%{y}<extra></extra>\",\"legendgroup\":\"Andr\\u00e9 Onana\",\"marker\":{\"color\":\"#FF6692\"},\"name\":\"Andr\\u00e9 Onana\",\"notched\":true,\"offsetgroup\":\"Andr\\u00e9 Onana\",\"orientation\":\"v\",\"showlegend\":true,\"type\":\"box\",\"x\":[\"Andr\\u00e9 Onana\"],\"x0\":\" \",\"xaxis\":\"x\",\"y\":[26.0],\"y0\":\" \",\"yaxis\":\"y\"},{\"alignmentgroup\":\"True\",\"hovertemplate\":\"name=%{x}<br>saves=%{y}<extra></extra>\",\"legendgroup\":\"Ondrej Kolar\",\"marker\":{\"color\":\"#B6E880\"},\"name\":\"Ondrej Kolar\",\"notched\":true,\"offsetgroup\":\"Ondrej Kolar\",\"orientation\":\"v\",\"showlegend\":true,\"type\":\"box\",\"x\":[\"Ondrej Kolar\"],\"x0\":\" \",\"xaxis\":\"x\",\"y\":[26.0],\"y0\":\" \",\"yaxis\":\"y\"},{\"alignmentgroup\":\"True\",\"hovertemplate\":\"name=%{x}<br>saves=%{y}<extra></extra>\",\"legendgroup\":\"Roman B\\u00fcrki\",\"marker\":{\"color\":\"#FF97FF\"},\"name\":\"Roman B\\u00fcrki\",\"notched\":true,\"offsetgroup\":\"Roman B\\u00fcrki\",\"orientation\":\"v\",\"showlegend\":true,\"type\":\"box\",\"x\":[\"Roman B\\u00fcrki\"],\"x0\":\" \",\"xaxis\":\"x\",\"y\":[26.0],\"y0\":\" \",\"yaxis\":\"y\"},{\"alignmentgroup\":\"True\",\"hovertemplate\":\"name=%{x}<br>saves=%{y}<extra></extra>\",\"legendgroup\":\"Jan Oblak\",\"marker\":{\"color\":\"#FECB52\"},\"name\":\"Jan Oblak\",\"notched\":true,\"offsetgroup\":\"Jan Oblak\",\"orientation\":\"v\",\"showlegend\":true,\"type\":\"box\",\"x\":[\"Jan Oblak\"],\"x0\":\" \",\"xaxis\":\"x\",\"y\":[23.0],\"y0\":\" \",\"yaxis\":\"y\"}],                        {\"boxmode\":\"overlay\",\"legend\":{\"title\":{\"text\":\"name\"},\"tracegroupgap\":0},\"margin\":{\"t\":60},\"template\":{\"data\":{\"bar\":[{\"error_x\":{\"color\":\"#2a3f5f\"},\"error_y\":{\"color\":\"#2a3f5f\"},\"marker\":{\"line\":{\"color\":\"#E5ECF6\",\"width\":0.5},\"pattern\":{\"fillmode\":\"overlay\",\"size\":10,\"solidity\":0.2}},\"type\":\"bar\"}],\"barpolar\":[{\"marker\":{\"line\":{\"color\":\"#E5ECF6\",\"width\":0.5},\"pattern\":{\"fillmode\":\"overlay\",\"size\":10,\"solidity\":0.2}},\"type\":\"barpolar\"}],\"carpet\":[{\"aaxis\":{\"endlinecolor\":\"#2a3f5f\",\"gridcolor\":\"white\",\"linecolor\":\"white\",\"minorgridcolor\":\"white\",\"startlinecolor\":\"#2a3f5f\"},\"baxis\":{\"endlinecolor\":\"#2a3f5f\",\"gridcolor\":\"white\",\"linecolor\":\"white\",\"minorgridcolor\":\"white\",\"startlinecolor\":\"#2a3f5f\"},\"type\":\"carpet\"}],\"choropleth\":[{\"colorbar\":{\"outlinewidth\":0,\"ticks\":\"\"},\"type\":\"choropleth\"}],\"contour\":[{\"colorbar\":{\"outlinewidth\":0,\"ticks\":\"\"},\"colorscale\":[[0.0,\"#0d0887\"],[0.1111111111111111,\"#46039f\"],[0.2222222222222222,\"#7201a8\"],[0.3333333333333333,\"#9c179e\"],[0.4444444444444444,\"#bd3786\"],[0.5555555555555556,\"#d8576b\"],[0.6666666666666666,\"#ed7953\"],[0.7777777777777778,\"#fb9f3a\"],[0.8888888888888888,\"#fdca26\"],[1.0,\"#f0f921\"]],\"type\":\"contour\"}],\"contourcarpet\":[{\"colorbar\":{\"outlinewidth\":0,\"ticks\":\"\"},\"type\":\"contourcarpet\"}],\"heatmap\":[{\"colorbar\":{\"outlinewidth\":0,\"ticks\":\"\"},\"colorscale\":[[0.0,\"#0d0887\"],[0.1111111111111111,\"#46039f\"],[0.2222222222222222,\"#7201a8\"],[0.3333333333333333,\"#9c179e\"],[0.4444444444444444,\"#bd3786\"],[0.5555555555555556,\"#d8576b\"],[0.6666666666666666,\"#ed7953\"],[0.7777777777777778,\"#fb9f3a\"],[0.8888888888888888,\"#fdca26\"],[1.0,\"#f0f921\"]],\"type\":\"heatmap\"}],\"heatmapgl\":[{\"colorbar\":{\"outlinewidth\":0,\"ticks\":\"\"},\"colorscale\":[[0.0,\"#0d0887\"],[0.1111111111111111,\"#46039f\"],[0.2222222222222222,\"#7201a8\"],[0.3333333333333333,\"#9c179e\"],[0.4444444444444444,\"#bd3786\"],[0.5555555555555556,\"#d8576b\"],[0.6666666666666666,\"#ed7953\"],[0.7777777777777778,\"#fb9f3a\"],[0.8888888888888888,\"#fdca26\"],[1.0,\"#f0f921\"]],\"type\":\"heatmapgl\"}],\"histogram\":[{\"marker\":{\"pattern\":{\"fillmode\":\"overlay\",\"size\":10,\"solidity\":0.2}},\"type\":\"histogram\"}],\"histogram2d\":[{\"colorbar\":{\"outlinewidth\":0,\"ticks\":\"\"},\"colorscale\":[[0.0,\"#0d0887\"],[0.1111111111111111,\"#46039f\"],[0.2222222222222222,\"#7201a8\"],[0.3333333333333333,\"#9c179e\"],[0.4444444444444444,\"#bd3786\"],[0.5555555555555556,\"#d8576b\"],[0.6666666666666666,\"#ed7953\"],[0.7777777777777778,\"#fb9f3a\"],[0.8888888888888888,\"#fdca26\"],[1.0,\"#f0f921\"]],\"type\":\"histogram2d\"}],\"histogram2dcontour\":[{\"colorbar\":{\"outlinewidth\":0,\"ticks\":\"\"},\"colorscale\":[[0.0,\"#0d0887\"],[0.1111111111111111,\"#46039f\"],[0.2222222222222222,\"#7201a8\"],[0.3333333333333333,\"#9c179e\"],[0.4444444444444444,\"#bd3786\"],[0.5555555555555556,\"#d8576b\"],[0.6666666666666666,\"#ed7953\"],[0.7777777777777778,\"#fb9f3a\"],[0.8888888888888888,\"#fdca26\"],[1.0,\"#f0f921\"]],\"type\":\"histogram2dcontour\"}],\"mesh3d\":[{\"colorbar\":{\"outlinewidth\":0,\"ticks\":\"\"},\"type\":\"mesh3d\"}],\"parcoords\":[{\"line\":{\"colorbar\":{\"outlinewidth\":0,\"ticks\":\"\"}},\"type\":\"parcoords\"}],\"pie\":[{\"automargin\":true,\"type\":\"pie\"}],\"scatter\":[{\"marker\":{\"colorbar\":{\"outlinewidth\":0,\"ticks\":\"\"}},\"type\":\"scatter\"}],\"scatter3d\":[{\"line\":{\"colorbar\":{\"outlinewidth\":0,\"ticks\":\"\"}},\"marker\":{\"colorbar\":{\"outlinewidth\":0,\"ticks\":\"\"}},\"type\":\"scatter3d\"}],\"scattercarpet\":[{\"marker\":{\"colorbar\":{\"outlinewidth\":0,\"ticks\":\"\"}},\"type\":\"scattercarpet\"}],\"scattergeo\":[{\"marker\":{\"colorbar\":{\"outlinewidth\":0,\"ticks\":\"\"}},\"type\":\"scattergeo\"}],\"scattergl\":[{\"marker\":{\"colorbar\":{\"outlinewidth\":0,\"ticks\":\"\"}},\"type\":\"scattergl\"}],\"scattermapbox\":[{\"marker\":{\"colorbar\":{\"outlinewidth\":0,\"ticks\":\"\"}},\"type\":\"scattermapbox\"}],\"scatterpolar\":[{\"marker\":{\"colorbar\":{\"outlinewidth\":0,\"ticks\":\"\"}},\"type\":\"scatterpolar\"}],\"scatterpolargl\":[{\"marker\":{\"colorbar\":{\"outlinewidth\":0,\"ticks\":\"\"}},\"type\":\"scatterpolargl\"}],\"scatterternary\":[{\"marker\":{\"colorbar\":{\"outlinewidth\":0,\"ticks\":\"\"}},\"type\":\"scatterternary\"}],\"surface\":[{\"colorbar\":{\"outlinewidth\":0,\"ticks\":\"\"},\"colorscale\":[[0.0,\"#0d0887\"],[0.1111111111111111,\"#46039f\"],[0.2222222222222222,\"#7201a8\"],[0.3333333333333333,\"#9c179e\"],[0.4444444444444444,\"#bd3786\"],[0.5555555555555556,\"#d8576b\"],[0.6666666666666666,\"#ed7953\"],[0.7777777777777778,\"#fb9f3a\"],[0.8888888888888888,\"#fdca26\"],[1.0,\"#f0f921\"]],\"type\":\"surface\"}],\"table\":[{\"cells\":{\"fill\":{\"color\":\"#EBF0F8\"},\"line\":{\"color\":\"white\"}},\"header\":{\"fill\":{\"color\":\"#C8D4E3\"},\"line\":{\"color\":\"white\"}},\"type\":\"table\"}]},\"layout\":{\"annotationdefaults\":{\"arrowcolor\":\"#2a3f5f\",\"arrowhead\":0,\"arrowwidth\":1},\"autotypenumbers\":\"strict\",\"coloraxis\":{\"colorbar\":{\"outlinewidth\":0,\"ticks\":\"\"}},\"colorscale\":{\"diverging\":[[0,\"#8e0152\"],[0.1,\"#c51b7d\"],[0.2,\"#de77ae\"],[0.3,\"#f1b6da\"],[0.4,\"#fde0ef\"],[0.5,\"#f7f7f7\"],[0.6,\"#e6f5d0\"],[0.7,\"#b8e186\"],[0.8,\"#7fbc41\"],[0.9,\"#4d9221\"],[1,\"#276419\"]],\"sequential\":[[0.0,\"#0d0887\"],[0.1111111111111111,\"#46039f\"],[0.2222222222222222,\"#7201a8\"],[0.3333333333333333,\"#9c179e\"],[0.4444444444444444,\"#bd3786\"],[0.5555555555555556,\"#d8576b\"],[0.6666666666666666,\"#ed7953\"],[0.7777777777777778,\"#fb9f3a\"],[0.8888888888888888,\"#fdca26\"],[1.0,\"#f0f921\"]],\"sequentialminus\":[[0.0,\"#0d0887\"],[0.1111111111111111,\"#46039f\"],[0.2222222222222222,\"#7201a8\"],[0.3333333333333333,\"#9c179e\"],[0.4444444444444444,\"#bd3786\"],[0.5555555555555556,\"#d8576b\"],[0.6666666666666666,\"#ed7953\"],[0.7777777777777778,\"#fb9f3a\"],[0.8888888888888888,\"#fdca26\"],[1.0,\"#f0f921\"]]},\"colorway\":[\"#636efa\",\"#EF553B\",\"#00cc96\",\"#ab63fa\",\"#FFA15A\",\"#19d3f3\",\"#FF6692\",\"#B6E880\",\"#FF97FF\",\"#FECB52\"],\"font\":{\"color\":\"#2a3f5f\"},\"geo\":{\"bgcolor\":\"white\",\"lakecolor\":\"white\",\"landcolor\":\"#E5ECF6\",\"showlakes\":true,\"showland\":true,\"subunitcolor\":\"white\"},\"hoverlabel\":{\"align\":\"left\"},\"hovermode\":\"closest\",\"mapbox\":{\"style\":\"light\"},\"paper_bgcolor\":\"white\",\"plot_bgcolor\":\"#E5ECF6\",\"polar\":{\"angularaxis\":{\"gridcolor\":\"white\",\"linecolor\":\"white\",\"ticks\":\"\"},\"bgcolor\":\"#E5ECF6\",\"radialaxis\":{\"gridcolor\":\"white\",\"linecolor\":\"white\",\"ticks\":\"\"}},\"scene\":{\"xaxis\":{\"backgroundcolor\":\"#E5ECF6\",\"gridcolor\":\"white\",\"gridwidth\":2,\"linecolor\":\"white\",\"showbackground\":true,\"ticks\":\"\",\"zerolinecolor\":\"white\"},\"yaxis\":{\"backgroundcolor\":\"#E5ECF6\",\"gridcolor\":\"white\",\"gridwidth\":2,\"linecolor\":\"white\",\"showbackground\":true,\"ticks\":\"\",\"zerolinecolor\":\"white\"},\"zaxis\":{\"backgroundcolor\":\"#E5ECF6\",\"gridcolor\":\"white\",\"gridwidth\":2,\"linecolor\":\"white\",\"showbackground\":true,\"ticks\":\"\",\"zerolinecolor\":\"white\"}},\"shapedefaults\":{\"line\":{\"color\":\"#2a3f5f\"}},\"ternary\":{\"aaxis\":{\"gridcolor\":\"white\",\"linecolor\":\"white\",\"ticks\":\"\"},\"baxis\":{\"gridcolor\":\"white\",\"linecolor\":\"white\",\"ticks\":\"\"},\"bgcolor\":\"#E5ECF6\",\"caxis\":{\"gridcolor\":\"white\",\"linecolor\":\"white\",\"ticks\":\"\"}},\"title\":{\"x\":0.05},\"xaxis\":{\"automargin\":true,\"gridcolor\":\"white\",\"linecolor\":\"white\",\"ticks\":\"\",\"title\":{\"standoff\":15},\"zerolinecolor\":\"white\",\"zerolinewidth\":2},\"yaxis\":{\"automargin\":true,\"gridcolor\":\"white\",\"linecolor\":\"white\",\"ticks\":\"\",\"title\":{\"standoff\":15},\"zerolinecolor\":\"white\",\"zerolinewidth\":2}}},\"xaxis\":{\"anchor\":\"y\",\"categoryarray\":[\"Fernando Muslera\",\"P\\u00e9ter Gul\\u00e1csi\",\"Milan Borjan\",\"Guilherme Marinato\",\"Manuel Neuer\",\"Marc-Andr\\u00e9 ter Stegen\",\"Andr\\u00e9 Onana\",\"Ondrej Kolar\",\"Roman B\\u00fcrki\",\"Jan Oblak\"],\"categoryorder\":\"array\",\"domain\":[0.0,1.0],\"title\":{\"text\":\"name\"}},\"yaxis\":{\"anchor\":\"x\",\"domain\":[0.0,1.0],\"title\":{\"text\":\"saves\"}}},                        {\"responsive\": true}                    ).then(function(){\n",
       "                            \n",
       "var gd = document.getElementById('85149ca6-856c-437f-a24a-fe4e9ef30e43');\n",
       "var x = new MutationObserver(function (mutations, observer) {{\n",
       "        var display = window.getComputedStyle(gd).display;\n",
       "        if (!display || display === 'none') {{\n",
       "            console.log([gd, 'removed!']);\n",
       "            Plotly.purge(gd);\n",
       "            observer.disconnect();\n",
       "        }}\n",
       "}});\n",
       "\n",
       "// Listen for the removal of the full notebook cells\n",
       "var notebookContainer = gd.closest('#notebook-container');\n",
       "if (notebookContainer) {{\n",
       "    x.observe(notebookContainer, {childList: true});\n",
       "}}\n",
       "\n",
       "// Listen for the clearing of the current output cell\n",
       "var outputEl = gd.closest('.output');\n",
       "if (outputEl) {{\n",
       "    x.observe(outputEl, {childList: true});\n",
       "}}\n",
       "\n",
       "                        })                };                });            </script>        </div>"
      ]
     },
     "metadata": {},
     "output_type": "display_data"
    }
   ],
   "source": [
    "fig = px.box(top_10_keepers, x=\"name\", y=\"saves\",color='name', notched=True)\n",
    "fig.show()"
   ]
  },
  {
   "cell_type": "code",
   "execution_count": 1290,
   "id": "b125717e",
   "metadata": {},
   "outputs": [
    {
     "data": {
      "text/html": [
       "<div>\n",
       "<style scoped>\n",
       "    .dataframe tbody tr th:only-of-type {\n",
       "        vertical-align: middle;\n",
       "    }\n",
       "\n",
       "    .dataframe tbody tr th {\n",
       "        vertical-align: top;\n",
       "    }\n",
       "\n",
       "    .dataframe thead th {\n",
       "        text-align: right;\n",
       "    }\n",
       "</style>\n",
       "<table border=\"1\" class=\"dataframe\">\n",
       "  <thead>\n",
       "    <tr style=\"text-align: right;\">\n",
       "      <th></th>\n",
       "      <th>Unnamed: 0</th>\n",
       "      <th>homeTeam</th>\n",
       "      <th>homeScore</th>\n",
       "      <th>awayteam</th>\n",
       "      <th>awayscore</th>\n",
       "      <th>round</th>\n",
       "      <th>group</th>\n",
       "      <th>date</th>\n",
       "      <th>year</th>\n",
       "    </tr>\n",
       "  </thead>\n",
       "  <tbody>\n",
       "    <tr>\n",
       "      <th>1526</th>\n",
       "      <td>1526</td>\n",
       "      <td>Club Brugge</td>\n",
       "      <td>0</td>\n",
       "      <td>Galatasaray</td>\n",
       "      <td>0</td>\n",
       "      <td>round : 1</td>\n",
       "      <td>A</td>\n",
       "      <td>2019-09-18</td>\n",
       "      <td>2019</td>\n",
       "    </tr>\n",
       "    <tr>\n",
       "      <th>1527</th>\n",
       "      <td>1527</td>\n",
       "      <td>Paris Saint-Germain</td>\n",
       "      <td>3</td>\n",
       "      <td>Real Madrid</td>\n",
       "      <td>0</td>\n",
       "      <td>round : 1</td>\n",
       "      <td>A</td>\n",
       "      <td>2019-09-18</td>\n",
       "      <td>2019</td>\n",
       "    </tr>\n",
       "    <tr>\n",
       "      <th>1528</th>\n",
       "      <td>1528</td>\n",
       "      <td>Olympiacos</td>\n",
       "      <td>2</td>\n",
       "      <td>Tottenham</td>\n",
       "      <td>2</td>\n",
       "      <td>round : 1</td>\n",
       "      <td>B</td>\n",
       "      <td>2019-09-18</td>\n",
       "      <td>2019</td>\n",
       "    </tr>\n",
       "    <tr>\n",
       "      <th>1529</th>\n",
       "      <td>1529</td>\n",
       "      <td>Bayern München</td>\n",
       "      <td>3</td>\n",
       "      <td>FK Crvena zvezda</td>\n",
       "      <td>0</td>\n",
       "      <td>round : 1</td>\n",
       "      <td>B</td>\n",
       "      <td>2019-09-18</td>\n",
       "      <td>2019</td>\n",
       "    </tr>\n",
       "    <tr>\n",
       "      <th>1530</th>\n",
       "      <td>1530</td>\n",
       "      <td>GNK Dinamo Zagreb</td>\n",
       "      <td>4</td>\n",
       "      <td>Atalanta</td>\n",
       "      <td>0</td>\n",
       "      <td>round : 1</td>\n",
       "      <td>C</td>\n",
       "      <td>2019-09-18</td>\n",
       "      <td>2019</td>\n",
       "    </tr>\n",
       "  </tbody>\n",
       "</table>\n",
       "</div>"
      ],
      "text/plain": [
       "      Unnamed: 0             homeTeam homeScore          awayteam awayscore  \\\n",
       "1526        1526          Club Brugge         0       Galatasaray         0   \n",
       "1527        1527  Paris Saint-Germain         3       Real Madrid         0   \n",
       "1528        1528           Olympiacos         2         Tottenham         2   \n",
       "1529        1529       Bayern München         3  FK Crvena zvezda         0   \n",
       "1530        1530    GNK Dinamo Zagreb         4          Atalanta         0   \n",
       "\n",
       "          round group       date  year  \n",
       "1526  round : 1     A 2019-09-18  2019  \n",
       "1527  round : 1     A 2019-09-18  2019  \n",
       "1528  round : 1     B 2019-09-18  2019  \n",
       "1529  round : 1     B 2019-09-18  2019  \n",
       "1530  round : 1     C 2019-09-18  2019  "
      ]
     },
     "execution_count": 1290,
     "metadata": {},
     "output_type": "execute_result"
    }
   ],
   "source": [
    "uefa_group_stage_df.head()"
   ]
  },
  {
   "cell_type": "code",
   "execution_count": 1291,
   "id": "0a673b9f",
   "metadata": {},
   "outputs": [
    {
     "data": {
      "text/plain": [
       "(80, 9)"
      ]
     },
     "execution_count": 1291,
     "metadata": {},
     "output_type": "execute_result"
    }
   ],
   "source": [
    "uefa_group_stage_df.shape"
   ]
  },
  {
   "cell_type": "code",
   "execution_count": 1292,
   "id": "b8a5bd2f",
   "metadata": {},
   "outputs": [],
   "source": [
    "uefa_group_stage_df['month'] = uefa_group_stage_df['date'].dt.month"
   ]
  },
  {
   "cell_type": "code",
   "execution_count": 1293,
   "id": "369a2295",
   "metadata": {},
   "outputs": [
    {
     "data": {
      "text/html": [
       "<div>\n",
       "<style scoped>\n",
       "    .dataframe tbody tr th:only-of-type {\n",
       "        vertical-align: middle;\n",
       "    }\n",
       "\n",
       "    .dataframe tbody tr th {\n",
       "        vertical-align: top;\n",
       "    }\n",
       "\n",
       "    .dataframe thead th {\n",
       "        text-align: right;\n",
       "    }\n",
       "</style>\n",
       "<table border=\"1\" class=\"dataframe\">\n",
       "  <thead>\n",
       "    <tr style=\"text-align: right;\">\n",
       "      <th></th>\n",
       "      <th>Unnamed: 0</th>\n",
       "      <th>homeTeam</th>\n",
       "      <th>homeScore</th>\n",
       "      <th>awayteam</th>\n",
       "      <th>awayscore</th>\n",
       "      <th>round</th>\n",
       "      <th>group</th>\n",
       "      <th>date</th>\n",
       "      <th>year</th>\n",
       "      <th>month</th>\n",
       "    </tr>\n",
       "  </thead>\n",
       "  <tbody>\n",
       "    <tr>\n",
       "      <th>1526</th>\n",
       "      <td>1526</td>\n",
       "      <td>Club Brugge</td>\n",
       "      <td>0</td>\n",
       "      <td>Galatasaray</td>\n",
       "      <td>0</td>\n",
       "      <td>round : 1</td>\n",
       "      <td>A</td>\n",
       "      <td>2019-09-18</td>\n",
       "      <td>2019</td>\n",
       "      <td>9</td>\n",
       "    </tr>\n",
       "    <tr>\n",
       "      <th>1527</th>\n",
       "      <td>1527</td>\n",
       "      <td>Paris Saint-Germain</td>\n",
       "      <td>3</td>\n",
       "      <td>Real Madrid</td>\n",
       "      <td>0</td>\n",
       "      <td>round : 1</td>\n",
       "      <td>A</td>\n",
       "      <td>2019-09-18</td>\n",
       "      <td>2019</td>\n",
       "      <td>9</td>\n",
       "    </tr>\n",
       "    <tr>\n",
       "      <th>1528</th>\n",
       "      <td>1528</td>\n",
       "      <td>Olympiacos</td>\n",
       "      <td>2</td>\n",
       "      <td>Tottenham</td>\n",
       "      <td>2</td>\n",
       "      <td>round : 1</td>\n",
       "      <td>B</td>\n",
       "      <td>2019-09-18</td>\n",
       "      <td>2019</td>\n",
       "      <td>9</td>\n",
       "    </tr>\n",
       "    <tr>\n",
       "      <th>1529</th>\n",
       "      <td>1529</td>\n",
       "      <td>Bayern München</td>\n",
       "      <td>3</td>\n",
       "      <td>FK Crvena zvezda</td>\n",
       "      <td>0</td>\n",
       "      <td>round : 1</td>\n",
       "      <td>B</td>\n",
       "      <td>2019-09-18</td>\n",
       "      <td>2019</td>\n",
       "      <td>9</td>\n",
       "    </tr>\n",
       "    <tr>\n",
       "      <th>1530</th>\n",
       "      <td>1530</td>\n",
       "      <td>GNK Dinamo Zagreb</td>\n",
       "      <td>4</td>\n",
       "      <td>Atalanta</td>\n",
       "      <td>0</td>\n",
       "      <td>round : 1</td>\n",
       "      <td>C</td>\n",
       "      <td>2019-09-18</td>\n",
       "      <td>2019</td>\n",
       "      <td>9</td>\n",
       "    </tr>\n",
       "  </tbody>\n",
       "</table>\n",
       "</div>"
      ],
      "text/plain": [
       "      Unnamed: 0             homeTeam homeScore          awayteam awayscore  \\\n",
       "1526        1526          Club Brugge         0       Galatasaray         0   \n",
       "1527        1527  Paris Saint-Germain         3       Real Madrid         0   \n",
       "1528        1528           Olympiacos         2         Tottenham         2   \n",
       "1529        1529       Bayern München         3  FK Crvena zvezda         0   \n",
       "1530        1530    GNK Dinamo Zagreb         4          Atalanta         0   \n",
       "\n",
       "          round group       date  year  month  \n",
       "1526  round : 1     A 2019-09-18  2019      9  \n",
       "1527  round : 1     A 2019-09-18  2019      9  \n",
       "1528  round : 1     B 2019-09-18  2019      9  \n",
       "1529  round : 1     B 2019-09-18  2019      9  \n",
       "1530  round : 1     C 2019-09-18  2019      9  "
      ]
     },
     "execution_count": 1293,
     "metadata": {},
     "output_type": "execute_result"
    }
   ],
   "source": [
    "uefa_group_stage_df.head()"
   ]
  },
  {
   "cell_type": "code",
   "execution_count": 1294,
   "id": "3802d2f5",
   "metadata": {},
   "outputs": [],
   "source": [
    "uefa_group_stage_df['homeScore'] = uefa_group_stage_df['homeScore'].astype(int) \n",
    "#home_scores = uefa_group_stage_df[uefa_group_stage_df['homeTeam'] == 'GNK Dinamo Zagreb']\n",
    "#rr = uefa_group_stage_df.groupby('homeTeam')['homeScore']"
   ]
  },
  {
   "cell_type": "code",
   "execution_count": 1295,
   "id": "1c7ed67d",
   "metadata": {},
   "outputs": [],
   "source": [
    "uefa_group_stage_df['awayscore'] = uefa_group_stage_df['awayscore'].astype(int)"
   ]
  },
  {
   "cell_type": "code",
   "execution_count": 1296,
   "id": "4f9112e3",
   "metadata": {},
   "outputs": [],
   "source": [
    "home_scores = uefa_group_stage_df.groupby('homeTeam')['homeScore'].sum()"
   ]
  },
  {
   "cell_type": "code",
   "execution_count": 1297,
   "id": "fb200a74",
   "metadata": {},
   "outputs": [
    {
     "data": {
      "text/html": [
       "<div>\n",
       "<style scoped>\n",
       "    .dataframe tbody tr th:only-of-type {\n",
       "        vertical-align: middle;\n",
       "    }\n",
       "\n",
       "    .dataframe tbody tr th {\n",
       "        vertical-align: top;\n",
       "    }\n",
       "\n",
       "    .dataframe thead th {\n",
       "        text-align: right;\n",
       "    }\n",
       "</style>\n",
       "<table border=\"1\" class=\"dataframe\">\n",
       "  <thead>\n",
       "    <tr style=\"text-align: right;\">\n",
       "      <th></th>\n",
       "      <th>homeTeam</th>\n",
       "      <th>homeScore</th>\n",
       "    </tr>\n",
       "  </thead>\n",
       "  <tbody>\n",
       "    <tr>\n",
       "      <th>0</th>\n",
       "      <td>Ajax</td>\n",
       "      <td>3</td>\n",
       "    </tr>\n",
       "    <tr>\n",
       "      <th>1</th>\n",
       "      <td>Atalanta</td>\n",
       "      <td>4</td>\n",
       "    </tr>\n",
       "    <tr>\n",
       "      <th>2</th>\n",
       "      <td>Atlético Madrid</td>\n",
       "      <td>3</td>\n",
       "    </tr>\n",
       "    <tr>\n",
       "      <th>3</th>\n",
       "      <td>Barcelona</td>\n",
       "      <td>5</td>\n",
       "    </tr>\n",
       "    <tr>\n",
       "      <th>4</th>\n",
       "      <td>Bayer 04 Leverkusen</td>\n",
       "      <td>3</td>\n",
       "    </tr>\n",
       "    <tr>\n",
       "      <th>5</th>\n",
       "      <td>Bayern München</td>\n",
       "      <td>5</td>\n",
       "    </tr>\n",
       "    <tr>\n",
       "      <th>6</th>\n",
       "      <td>Borussia Dortmund</td>\n",
       "      <td>3</td>\n",
       "    </tr>\n",
       "    <tr>\n",
       "      <th>7</th>\n",
       "      <td>Chelsea</td>\n",
       "      <td>4</td>\n",
       "    </tr>\n",
       "    <tr>\n",
       "      <th>8</th>\n",
       "      <td>Club Brugge</td>\n",
       "      <td>0</td>\n",
       "    </tr>\n",
       "    <tr>\n",
       "      <th>9</th>\n",
       "      <td>FK Crvena zvezda</td>\n",
       "      <td>3</td>\n",
       "    </tr>\n",
       "    <tr>\n",
       "      <th>10</th>\n",
       "      <td>GNK Dinamo Zagreb</td>\n",
       "      <td>7</td>\n",
       "    </tr>\n",
       "    <tr>\n",
       "      <th>11</th>\n",
       "      <td>Galatasaray</td>\n",
       "      <td>1</td>\n",
       "    </tr>\n",
       "    <tr>\n",
       "      <th>12</th>\n",
       "      <td>Inter</td>\n",
       "      <td>3</td>\n",
       "    </tr>\n",
       "    <tr>\n",
       "      <th>13</th>\n",
       "      <td>Juventus</td>\n",
       "      <td>6</td>\n",
       "    </tr>\n",
       "    <tr>\n",
       "      <th>14</th>\n",
       "      <td>KRC Genk</td>\n",
       "      <td>2</td>\n",
       "    </tr>\n",
       "    <tr>\n",
       "      <th>15</th>\n",
       "      <td>Lille OSC</td>\n",
       "      <td>2</td>\n",
       "    </tr>\n",
       "    <tr>\n",
       "      <th>16</th>\n",
       "      <td>Liverpool</td>\n",
       "      <td>7</td>\n",
       "    </tr>\n",
       "    <tr>\n",
       "      <th>17</th>\n",
       "      <td>Lokomotiv Moscow</td>\n",
       "      <td>1</td>\n",
       "    </tr>\n",
       "    <tr>\n",
       "      <th>18</th>\n",
       "      <td>Manchester City</td>\n",
       "      <td>8</td>\n",
       "    </tr>\n",
       "    <tr>\n",
       "      <th>19</th>\n",
       "      <td>Napoli</td>\n",
       "      <td>3</td>\n",
       "    </tr>\n",
       "    <tr>\n",
       "      <th>20</th>\n",
       "      <td>Olympiacos</td>\n",
       "      <td>4</td>\n",
       "    </tr>\n",
       "    <tr>\n",
       "      <th>21</th>\n",
       "      <td>Olympique Lyonnais</td>\n",
       "      <td>4</td>\n",
       "    </tr>\n",
       "    <tr>\n",
       "      <th>22</th>\n",
       "      <td>Paris Saint-Germain</td>\n",
       "      <td>4</td>\n",
       "    </tr>\n",
       "    <tr>\n",
       "      <th>23</th>\n",
       "      <td>RB Leipzig</td>\n",
       "      <td>4</td>\n",
       "    </tr>\n",
       "    <tr>\n",
       "      <th>24</th>\n",
       "      <td>Real Madrid</td>\n",
       "      <td>10</td>\n",
       "    </tr>\n",
       "    <tr>\n",
       "      <th>25</th>\n",
       "      <td>Red Bull Salzburg</td>\n",
       "      <td>8</td>\n",
       "    </tr>\n",
       "    <tr>\n",
       "      <th>26</th>\n",
       "      <td>SL Benfica</td>\n",
       "      <td>3</td>\n",
       "    </tr>\n",
       "    <tr>\n",
       "      <th>27</th>\n",
       "      <td>Shakhtar Donetsk</td>\n",
       "      <td>2</td>\n",
       "    </tr>\n",
       "    <tr>\n",
       "      <th>28</th>\n",
       "      <td>Slavia Praha</td>\n",
       "      <td>2</td>\n",
       "    </tr>\n",
       "    <tr>\n",
       "      <th>29</th>\n",
       "      <td>Tottenham</td>\n",
       "      <td>11</td>\n",
       "    </tr>\n",
       "    <tr>\n",
       "      <th>30</th>\n",
       "      <td>Valencia</td>\n",
       "      <td>6</td>\n",
       "    </tr>\n",
       "    <tr>\n",
       "      <th>31</th>\n",
       "      <td>Zenit St. Petersburg</td>\n",
       "      <td>5</td>\n",
       "    </tr>\n",
       "  </tbody>\n",
       "</table>\n",
       "</div>"
      ],
      "text/plain": [
       "                homeTeam  homeScore\n",
       "0                   Ajax          3\n",
       "1               Atalanta          4\n",
       "2        Atlético Madrid          3\n",
       "3              Barcelona          5\n",
       "4    Bayer 04 Leverkusen          3\n",
       "5         Bayern München          5\n",
       "6      Borussia Dortmund          3\n",
       "7                Chelsea          4\n",
       "8            Club Brugge          0\n",
       "9       FK Crvena zvezda          3\n",
       "10     GNK Dinamo Zagreb          7\n",
       "11           Galatasaray          1\n",
       "12                 Inter          3\n",
       "13              Juventus          6\n",
       "14              KRC Genk          2\n",
       "15             Lille OSC          2\n",
       "16             Liverpool          7\n",
       "17      Lokomotiv Moscow          1\n",
       "18       Manchester City          8\n",
       "19                Napoli          3\n",
       "20            Olympiacos          4\n",
       "21    Olympique Lyonnais          4\n",
       "22   Paris Saint-Germain          4\n",
       "23            RB Leipzig          4\n",
       "24           Real Madrid         10\n",
       "25     Red Bull Salzburg          8\n",
       "26            SL Benfica          3\n",
       "27      Shakhtar Donetsk          2\n",
       "28          Slavia Praha          2\n",
       "29             Tottenham         11\n",
       "30              Valencia          6\n",
       "31  Zenit St. Petersburg          5"
      ]
     },
     "execution_count": 1297,
     "metadata": {},
     "output_type": "execute_result"
    }
   ],
   "source": [
    "home_scores.reset_index()"
   ]
  },
  {
   "cell_type": "code",
   "execution_count": 1298,
   "id": "fe1f0f19",
   "metadata": {},
   "outputs": [],
   "source": [
    "away_scores = uefa_group_stage_df.groupby('awayteam')['awayscore'].sum()"
   ]
  },
  {
   "cell_type": "code",
   "execution_count": 1299,
   "id": "21592b79",
   "metadata": {},
   "outputs": [
    {
     "data": {
      "text/html": [
       "<div>\n",
       "<style scoped>\n",
       "    .dataframe tbody tr th:only-of-type {\n",
       "        vertical-align: middle;\n",
       "    }\n",
       "\n",
       "    .dataframe tbody tr th {\n",
       "        vertical-align: top;\n",
       "    }\n",
       "\n",
       "    .dataframe thead th {\n",
       "        text-align: right;\n",
       "    }\n",
       "</style>\n",
       "<table border=\"1\" class=\"dataframe\">\n",
       "  <thead>\n",
       "    <tr style=\"text-align: right;\">\n",
       "      <th></th>\n",
       "      <th>awayteam</th>\n",
       "      <th>awayscore</th>\n",
       "    </tr>\n",
       "  </thead>\n",
       "  <tbody>\n",
       "    <tr>\n",
       "      <th>0</th>\n",
       "      <td>Ajax</td>\n",
       "      <td>9</td>\n",
       "    </tr>\n",
       "    <tr>\n",
       "      <th>1</th>\n",
       "      <td>Atalanta</td>\n",
       "      <td>1</td>\n",
       "    </tr>\n",
       "    <tr>\n",
       "      <th>2</th>\n",
       "      <td>Atlético Madrid</td>\n",
       "      <td>3</td>\n",
       "    </tr>\n",
       "    <tr>\n",
       "      <th>3</th>\n",
       "      <td>Barcelona</td>\n",
       "      <td>2</td>\n",
       "    </tr>\n",
       "    <tr>\n",
       "      <th>4</th>\n",
       "      <td>Bayer 04 Leverkusen</td>\n",
       "      <td>2</td>\n",
       "    </tr>\n",
       "    <tr>\n",
       "      <th>5</th>\n",
       "      <td>Bayern München</td>\n",
       "      <td>16</td>\n",
       "    </tr>\n",
       "    <tr>\n",
       "      <th>6</th>\n",
       "      <td>Borussia Dortmund</td>\n",
       "      <td>3</td>\n",
       "    </tr>\n",
       "    <tr>\n",
       "      <th>7</th>\n",
       "      <td>Chelsea</td>\n",
       "      <td>5</td>\n",
       "    </tr>\n",
       "    <tr>\n",
       "      <th>8</th>\n",
       "      <td>Club Brugge</td>\n",
       "      <td>3</td>\n",
       "    </tr>\n",
       "    <tr>\n",
       "      <th>9</th>\n",
       "      <td>FK Crvena zvezda</td>\n",
       "      <td>0</td>\n",
       "    </tr>\n",
       "    <tr>\n",
       "      <th>10</th>\n",
       "      <td>GNK Dinamo Zagreb</td>\n",
       "      <td>2</td>\n",
       "    </tr>\n",
       "    <tr>\n",
       "      <th>11</th>\n",
       "      <td>Galatasaray</td>\n",
       "      <td>0</td>\n",
       "    </tr>\n",
       "    <tr>\n",
       "      <th>12</th>\n",
       "      <td>Inter</td>\n",
       "      <td>6</td>\n",
       "    </tr>\n",
       "    <tr>\n",
       "      <th>13</th>\n",
       "      <td>Juventus</td>\n",
       "      <td>4</td>\n",
       "    </tr>\n",
       "    <tr>\n",
       "      <th>14</th>\n",
       "      <td>KRC Genk</td>\n",
       "      <td>3</td>\n",
       "    </tr>\n",
       "    <tr>\n",
       "      <th>15</th>\n",
       "      <td>Lille OSC</td>\n",
       "      <td>1</td>\n",
       "    </tr>\n",
       "    <tr>\n",
       "      <th>16</th>\n",
       "      <td>Liverpool</td>\n",
       "      <td>4</td>\n",
       "    </tr>\n",
       "    <tr>\n",
       "      <th>17</th>\n",
       "      <td>Lokomotiv Moscow</td>\n",
       "      <td>3</td>\n",
       "    </tr>\n",
       "    <tr>\n",
       "      <th>18</th>\n",
       "      <td>Manchester City</td>\n",
       "      <td>4</td>\n",
       "    </tr>\n",
       "    <tr>\n",
       "      <th>19</th>\n",
       "      <td>Napoli</td>\n",
       "      <td>4</td>\n",
       "    </tr>\n",
       "    <tr>\n",
       "      <th>20</th>\n",
       "      <td>Olympiacos</td>\n",
       "      <td>3</td>\n",
       "    </tr>\n",
       "    <tr>\n",
       "      <th>21</th>\n",
       "      <td>Olympique Lyonnais</td>\n",
       "      <td>3</td>\n",
       "    </tr>\n",
       "    <tr>\n",
       "      <th>22</th>\n",
       "      <td>Paris Saint-Germain</td>\n",
       "      <td>8</td>\n",
       "    </tr>\n",
       "    <tr>\n",
       "      <th>23</th>\n",
       "      <td>RB Leipzig</td>\n",
       "      <td>4</td>\n",
       "    </tr>\n",
       "    <tr>\n",
       "      <th>24</th>\n",
       "      <td>Real Madrid</td>\n",
       "      <td>1</td>\n",
       "    </tr>\n",
       "    <tr>\n",
       "      <th>25</th>\n",
       "      <td>Red Bull Salzburg</td>\n",
       "      <td>8</td>\n",
       "    </tr>\n",
       "    <tr>\n",
       "      <th>26</th>\n",
       "      <td>SL Benfica</td>\n",
       "      <td>4</td>\n",
       "    </tr>\n",
       "    <tr>\n",
       "      <th>27</th>\n",
       "      <td>Shakhtar Donetsk</td>\n",
       "      <td>6</td>\n",
       "    </tr>\n",
       "    <tr>\n",
       "      <th>28</th>\n",
       "      <td>Slavia Praha</td>\n",
       "      <td>1</td>\n",
       "    </tr>\n",
       "    <tr>\n",
       "      <th>29</th>\n",
       "      <td>Tottenham</td>\n",
       "      <td>6</td>\n",
       "    </tr>\n",
       "    <tr>\n",
       "      <th>30</th>\n",
       "      <td>Valencia</td>\n",
       "      <td>2</td>\n",
       "    </tr>\n",
       "    <tr>\n",
       "      <th>31</th>\n",
       "      <td>Zenit St. Petersburg</td>\n",
       "      <td>2</td>\n",
       "    </tr>\n",
       "  </tbody>\n",
       "</table>\n",
       "</div>"
      ],
      "text/plain": [
       "                awayteam  awayscore\n",
       "0                   Ajax          9\n",
       "1               Atalanta          1\n",
       "2        Atlético Madrid          3\n",
       "3              Barcelona          2\n",
       "4    Bayer 04 Leverkusen          2\n",
       "5         Bayern München         16\n",
       "6      Borussia Dortmund          3\n",
       "7                Chelsea          5\n",
       "8            Club Brugge          3\n",
       "9       FK Crvena zvezda          0\n",
       "10     GNK Dinamo Zagreb          2\n",
       "11           Galatasaray          0\n",
       "12                 Inter          6\n",
       "13              Juventus          4\n",
       "14              KRC Genk          3\n",
       "15             Lille OSC          1\n",
       "16             Liverpool          4\n",
       "17      Lokomotiv Moscow          3\n",
       "18       Manchester City          4\n",
       "19                Napoli          4\n",
       "20            Olympiacos          3\n",
       "21    Olympique Lyonnais          3\n",
       "22   Paris Saint-Germain          8\n",
       "23            RB Leipzig          4\n",
       "24           Real Madrid          1\n",
       "25     Red Bull Salzburg          8\n",
       "26            SL Benfica          4\n",
       "27      Shakhtar Donetsk          6\n",
       "28          Slavia Praha          1\n",
       "29             Tottenham          6\n",
       "30              Valencia          2\n",
       "31  Zenit St. Petersburg          2"
      ]
     },
     "execution_count": 1299,
     "metadata": {},
     "output_type": "execute_result"
    }
   ],
   "source": [
    "away_scores.reset_index()"
   ]
  },
  {
   "cell_type": "code",
   "execution_count": null,
   "id": "118225ed",
   "metadata": {},
   "outputs": [],
   "source": []
  },
  {
   "cell_type": "code",
   "execution_count": null,
   "id": "dbf95492",
   "metadata": {},
   "outputs": [],
   "source": []
  },
  {
   "cell_type": "code",
   "execution_count": null,
   "id": "4286e15b",
   "metadata": {},
   "outputs": [],
   "source": []
  },
  {
   "cell_type": "code",
   "execution_count": 1300,
   "id": "936a25b9",
   "metadata": {},
   "outputs": [],
   "source": [
    "total_scores_scored_by_team = pd.merge(home_scores,away_scores,left_index=True,right_index=True,how='left')"
   ]
  },
  {
   "cell_type": "code",
   "execution_count": 1301,
   "id": "0c0aa7c7",
   "metadata": {},
   "outputs": [
    {
     "data": {
      "text/html": [
       "<div>\n",
       "<style scoped>\n",
       "    .dataframe tbody tr th:only-of-type {\n",
       "        vertical-align: middle;\n",
       "    }\n",
       "\n",
       "    .dataframe tbody tr th {\n",
       "        vertical-align: top;\n",
       "    }\n",
       "\n",
       "    .dataframe thead th {\n",
       "        text-align: right;\n",
       "    }\n",
       "</style>\n",
       "<table border=\"1\" class=\"dataframe\">\n",
       "  <thead>\n",
       "    <tr style=\"text-align: right;\">\n",
       "      <th></th>\n",
       "      <th>homeTeam</th>\n",
       "      <th>homeScore</th>\n",
       "      <th>awayscore</th>\n",
       "    </tr>\n",
       "  </thead>\n",
       "  <tbody>\n",
       "    <tr>\n",
       "      <th>0</th>\n",
       "      <td>Ajax</td>\n",
       "      <td>3</td>\n",
       "      <td>9</td>\n",
       "    </tr>\n",
       "    <tr>\n",
       "      <th>1</th>\n",
       "      <td>Atalanta</td>\n",
       "      <td>4</td>\n",
       "      <td>1</td>\n",
       "    </tr>\n",
       "    <tr>\n",
       "      <th>2</th>\n",
       "      <td>Atlético Madrid</td>\n",
       "      <td>3</td>\n",
       "      <td>3</td>\n",
       "    </tr>\n",
       "    <tr>\n",
       "      <th>3</th>\n",
       "      <td>Barcelona</td>\n",
       "      <td>5</td>\n",
       "      <td>2</td>\n",
       "    </tr>\n",
       "    <tr>\n",
       "      <th>4</th>\n",
       "      <td>Bayer 04 Leverkusen</td>\n",
       "      <td>3</td>\n",
       "      <td>2</td>\n",
       "    </tr>\n",
       "    <tr>\n",
       "      <th>5</th>\n",
       "      <td>Bayern München</td>\n",
       "      <td>5</td>\n",
       "      <td>16</td>\n",
       "    </tr>\n",
       "    <tr>\n",
       "      <th>6</th>\n",
       "      <td>Borussia Dortmund</td>\n",
       "      <td>3</td>\n",
       "      <td>3</td>\n",
       "    </tr>\n",
       "    <tr>\n",
       "      <th>7</th>\n",
       "      <td>Chelsea</td>\n",
       "      <td>4</td>\n",
       "      <td>5</td>\n",
       "    </tr>\n",
       "    <tr>\n",
       "      <th>8</th>\n",
       "      <td>Club Brugge</td>\n",
       "      <td>0</td>\n",
       "      <td>3</td>\n",
       "    </tr>\n",
       "    <tr>\n",
       "      <th>9</th>\n",
       "      <td>FK Crvena zvezda</td>\n",
       "      <td>3</td>\n",
       "      <td>0</td>\n",
       "    </tr>\n",
       "    <tr>\n",
       "      <th>10</th>\n",
       "      <td>GNK Dinamo Zagreb</td>\n",
       "      <td>7</td>\n",
       "      <td>2</td>\n",
       "    </tr>\n",
       "    <tr>\n",
       "      <th>11</th>\n",
       "      <td>Galatasaray</td>\n",
       "      <td>1</td>\n",
       "      <td>0</td>\n",
       "    </tr>\n",
       "    <tr>\n",
       "      <th>12</th>\n",
       "      <td>Inter</td>\n",
       "      <td>3</td>\n",
       "      <td>6</td>\n",
       "    </tr>\n",
       "    <tr>\n",
       "      <th>13</th>\n",
       "      <td>Juventus</td>\n",
       "      <td>6</td>\n",
       "      <td>4</td>\n",
       "    </tr>\n",
       "    <tr>\n",
       "      <th>14</th>\n",
       "      <td>KRC Genk</td>\n",
       "      <td>2</td>\n",
       "      <td>3</td>\n",
       "    </tr>\n",
       "    <tr>\n",
       "      <th>15</th>\n",
       "      <td>Lille OSC</td>\n",
       "      <td>2</td>\n",
       "      <td>1</td>\n",
       "    </tr>\n",
       "    <tr>\n",
       "      <th>16</th>\n",
       "      <td>Liverpool</td>\n",
       "      <td>7</td>\n",
       "      <td>4</td>\n",
       "    </tr>\n",
       "    <tr>\n",
       "      <th>17</th>\n",
       "      <td>Lokomotiv Moscow</td>\n",
       "      <td>1</td>\n",
       "      <td>3</td>\n",
       "    </tr>\n",
       "    <tr>\n",
       "      <th>18</th>\n",
       "      <td>Manchester City</td>\n",
       "      <td>8</td>\n",
       "      <td>4</td>\n",
       "    </tr>\n",
       "    <tr>\n",
       "      <th>19</th>\n",
       "      <td>Napoli</td>\n",
       "      <td>3</td>\n",
       "      <td>4</td>\n",
       "    </tr>\n",
       "    <tr>\n",
       "      <th>20</th>\n",
       "      <td>Olympiacos</td>\n",
       "      <td>4</td>\n",
       "      <td>3</td>\n",
       "    </tr>\n",
       "    <tr>\n",
       "      <th>21</th>\n",
       "      <td>Olympique Lyonnais</td>\n",
       "      <td>4</td>\n",
       "      <td>3</td>\n",
       "    </tr>\n",
       "    <tr>\n",
       "      <th>22</th>\n",
       "      <td>Paris Saint-Germain</td>\n",
       "      <td>4</td>\n",
       "      <td>8</td>\n",
       "    </tr>\n",
       "    <tr>\n",
       "      <th>23</th>\n",
       "      <td>RB Leipzig</td>\n",
       "      <td>4</td>\n",
       "      <td>4</td>\n",
       "    </tr>\n",
       "    <tr>\n",
       "      <th>24</th>\n",
       "      <td>Real Madrid</td>\n",
       "      <td>10</td>\n",
       "      <td>1</td>\n",
       "    </tr>\n",
       "    <tr>\n",
       "      <th>25</th>\n",
       "      <td>Red Bull Salzburg</td>\n",
       "      <td>8</td>\n",
       "      <td>8</td>\n",
       "    </tr>\n",
       "    <tr>\n",
       "      <th>26</th>\n",
       "      <td>SL Benfica</td>\n",
       "      <td>3</td>\n",
       "      <td>4</td>\n",
       "    </tr>\n",
       "    <tr>\n",
       "      <th>27</th>\n",
       "      <td>Shakhtar Donetsk</td>\n",
       "      <td>2</td>\n",
       "      <td>6</td>\n",
       "    </tr>\n",
       "    <tr>\n",
       "      <th>28</th>\n",
       "      <td>Slavia Praha</td>\n",
       "      <td>2</td>\n",
       "      <td>1</td>\n",
       "    </tr>\n",
       "    <tr>\n",
       "      <th>29</th>\n",
       "      <td>Tottenham</td>\n",
       "      <td>11</td>\n",
       "      <td>6</td>\n",
       "    </tr>\n",
       "    <tr>\n",
       "      <th>30</th>\n",
       "      <td>Valencia</td>\n",
       "      <td>6</td>\n",
       "      <td>2</td>\n",
       "    </tr>\n",
       "    <tr>\n",
       "      <th>31</th>\n",
       "      <td>Zenit St. Petersburg</td>\n",
       "      <td>5</td>\n",
       "      <td>2</td>\n",
       "    </tr>\n",
       "  </tbody>\n",
       "</table>\n",
       "</div>"
      ],
      "text/plain": [
       "                homeTeam  homeScore  awayscore\n",
       "0                   Ajax          3          9\n",
       "1               Atalanta          4          1\n",
       "2        Atlético Madrid          3          3\n",
       "3              Barcelona          5          2\n",
       "4    Bayer 04 Leverkusen          3          2\n",
       "5         Bayern München          5         16\n",
       "6      Borussia Dortmund          3          3\n",
       "7                Chelsea          4          5\n",
       "8            Club Brugge          0          3\n",
       "9       FK Crvena zvezda          3          0\n",
       "10     GNK Dinamo Zagreb          7          2\n",
       "11           Galatasaray          1          0\n",
       "12                 Inter          3          6\n",
       "13              Juventus          6          4\n",
       "14              KRC Genk          2          3\n",
       "15             Lille OSC          2          1\n",
       "16             Liverpool          7          4\n",
       "17      Lokomotiv Moscow          1          3\n",
       "18       Manchester City          8          4\n",
       "19                Napoli          3          4\n",
       "20            Olympiacos          4          3\n",
       "21    Olympique Lyonnais          4          3\n",
       "22   Paris Saint-Germain          4          8\n",
       "23            RB Leipzig          4          4\n",
       "24           Real Madrid         10          1\n",
       "25     Red Bull Salzburg          8          8\n",
       "26            SL Benfica          3          4\n",
       "27      Shakhtar Donetsk          2          6\n",
       "28          Slavia Praha          2          1\n",
       "29             Tottenham         11          6\n",
       "30              Valencia          6          2\n",
       "31  Zenit St. Petersburg          5          2"
      ]
     },
     "execution_count": 1301,
     "metadata": {},
     "output_type": "execute_result"
    }
   ],
   "source": [
    "total_scores_scored_by_team.reset_index()"
   ]
  },
  {
   "cell_type": "code",
   "execution_count": 1302,
   "id": "db7bee65",
   "metadata": {},
   "outputs": [],
   "source": [
    "total_scores_scored_by_team['totalScored'] = total_scores_scored_by_team['homeScore'] + total_scores_scored_by_team['awayscore']"
   ]
  },
  {
   "cell_type": "code",
   "execution_count": 1303,
   "id": "2991d807",
   "metadata": {},
   "outputs": [
    {
     "data": {
      "text/html": [
       "<div>\n",
       "<style scoped>\n",
       "    .dataframe tbody tr th:only-of-type {\n",
       "        vertical-align: middle;\n",
       "    }\n",
       "\n",
       "    .dataframe tbody tr th {\n",
       "        vertical-align: top;\n",
       "    }\n",
       "\n",
       "    .dataframe thead th {\n",
       "        text-align: right;\n",
       "    }\n",
       "</style>\n",
       "<table border=\"1\" class=\"dataframe\">\n",
       "  <thead>\n",
       "    <tr style=\"text-align: right;\">\n",
       "      <th></th>\n",
       "      <th>homeTeam</th>\n",
       "      <th>homeScore</th>\n",
       "      <th>awayscore</th>\n",
       "      <th>totalScored</th>\n",
       "    </tr>\n",
       "  </thead>\n",
       "  <tbody>\n",
       "    <tr>\n",
       "      <th>0</th>\n",
       "      <td>Ajax</td>\n",
       "      <td>3</td>\n",
       "      <td>9</td>\n",
       "      <td>12</td>\n",
       "    </tr>\n",
       "    <tr>\n",
       "      <th>1</th>\n",
       "      <td>Atalanta</td>\n",
       "      <td>4</td>\n",
       "      <td>1</td>\n",
       "      <td>5</td>\n",
       "    </tr>\n",
       "    <tr>\n",
       "      <th>2</th>\n",
       "      <td>Atlético Madrid</td>\n",
       "      <td>3</td>\n",
       "      <td>3</td>\n",
       "      <td>6</td>\n",
       "    </tr>\n",
       "    <tr>\n",
       "      <th>3</th>\n",
       "      <td>Barcelona</td>\n",
       "      <td>5</td>\n",
       "      <td>2</td>\n",
       "      <td>7</td>\n",
       "    </tr>\n",
       "    <tr>\n",
       "      <th>4</th>\n",
       "      <td>Bayer 04 Leverkusen</td>\n",
       "      <td>3</td>\n",
       "      <td>2</td>\n",
       "      <td>5</td>\n",
       "    </tr>\n",
       "    <tr>\n",
       "      <th>5</th>\n",
       "      <td>Bayern München</td>\n",
       "      <td>5</td>\n",
       "      <td>16</td>\n",
       "      <td>21</td>\n",
       "    </tr>\n",
       "    <tr>\n",
       "      <th>6</th>\n",
       "      <td>Borussia Dortmund</td>\n",
       "      <td>3</td>\n",
       "      <td>3</td>\n",
       "      <td>6</td>\n",
       "    </tr>\n",
       "    <tr>\n",
       "      <th>7</th>\n",
       "      <td>Chelsea</td>\n",
       "      <td>4</td>\n",
       "      <td>5</td>\n",
       "      <td>9</td>\n",
       "    </tr>\n",
       "    <tr>\n",
       "      <th>8</th>\n",
       "      <td>Club Brugge</td>\n",
       "      <td>0</td>\n",
       "      <td>3</td>\n",
       "      <td>3</td>\n",
       "    </tr>\n",
       "    <tr>\n",
       "      <th>9</th>\n",
       "      <td>FK Crvena zvezda</td>\n",
       "      <td>3</td>\n",
       "      <td>0</td>\n",
       "      <td>3</td>\n",
       "    </tr>\n",
       "    <tr>\n",
       "      <th>10</th>\n",
       "      <td>GNK Dinamo Zagreb</td>\n",
       "      <td>7</td>\n",
       "      <td>2</td>\n",
       "      <td>9</td>\n",
       "    </tr>\n",
       "    <tr>\n",
       "      <th>11</th>\n",
       "      <td>Galatasaray</td>\n",
       "      <td>1</td>\n",
       "      <td>0</td>\n",
       "      <td>1</td>\n",
       "    </tr>\n",
       "    <tr>\n",
       "      <th>12</th>\n",
       "      <td>Inter</td>\n",
       "      <td>3</td>\n",
       "      <td>6</td>\n",
       "      <td>9</td>\n",
       "    </tr>\n",
       "    <tr>\n",
       "      <th>13</th>\n",
       "      <td>Juventus</td>\n",
       "      <td>6</td>\n",
       "      <td>4</td>\n",
       "      <td>10</td>\n",
       "    </tr>\n",
       "    <tr>\n",
       "      <th>14</th>\n",
       "      <td>KRC Genk</td>\n",
       "      <td>2</td>\n",
       "      <td>3</td>\n",
       "      <td>5</td>\n",
       "    </tr>\n",
       "    <tr>\n",
       "      <th>15</th>\n",
       "      <td>Lille OSC</td>\n",
       "      <td>2</td>\n",
       "      <td>1</td>\n",
       "      <td>3</td>\n",
       "    </tr>\n",
       "    <tr>\n",
       "      <th>16</th>\n",
       "      <td>Liverpool</td>\n",
       "      <td>7</td>\n",
       "      <td>4</td>\n",
       "      <td>11</td>\n",
       "    </tr>\n",
       "    <tr>\n",
       "      <th>17</th>\n",
       "      <td>Lokomotiv Moscow</td>\n",
       "      <td>1</td>\n",
       "      <td>3</td>\n",
       "      <td>4</td>\n",
       "    </tr>\n",
       "    <tr>\n",
       "      <th>18</th>\n",
       "      <td>Manchester City</td>\n",
       "      <td>8</td>\n",
       "      <td>4</td>\n",
       "      <td>12</td>\n",
       "    </tr>\n",
       "    <tr>\n",
       "      <th>19</th>\n",
       "      <td>Napoli</td>\n",
       "      <td>3</td>\n",
       "      <td>4</td>\n",
       "      <td>7</td>\n",
       "    </tr>\n",
       "    <tr>\n",
       "      <th>20</th>\n",
       "      <td>Olympiacos</td>\n",
       "      <td>4</td>\n",
       "      <td>3</td>\n",
       "      <td>7</td>\n",
       "    </tr>\n",
       "    <tr>\n",
       "      <th>21</th>\n",
       "      <td>Olympique Lyonnais</td>\n",
       "      <td>4</td>\n",
       "      <td>3</td>\n",
       "      <td>7</td>\n",
       "    </tr>\n",
       "    <tr>\n",
       "      <th>22</th>\n",
       "      <td>Paris Saint-Germain</td>\n",
       "      <td>4</td>\n",
       "      <td>8</td>\n",
       "      <td>12</td>\n",
       "    </tr>\n",
       "    <tr>\n",
       "      <th>23</th>\n",
       "      <td>RB Leipzig</td>\n",
       "      <td>4</td>\n",
       "      <td>4</td>\n",
       "      <td>8</td>\n",
       "    </tr>\n",
       "    <tr>\n",
       "      <th>24</th>\n",
       "      <td>Real Madrid</td>\n",
       "      <td>10</td>\n",
       "      <td>1</td>\n",
       "      <td>11</td>\n",
       "    </tr>\n",
       "    <tr>\n",
       "      <th>25</th>\n",
       "      <td>Red Bull Salzburg</td>\n",
       "      <td>8</td>\n",
       "      <td>8</td>\n",
       "      <td>16</td>\n",
       "    </tr>\n",
       "    <tr>\n",
       "      <th>26</th>\n",
       "      <td>SL Benfica</td>\n",
       "      <td>3</td>\n",
       "      <td>4</td>\n",
       "      <td>7</td>\n",
       "    </tr>\n",
       "    <tr>\n",
       "      <th>27</th>\n",
       "      <td>Shakhtar Donetsk</td>\n",
       "      <td>2</td>\n",
       "      <td>6</td>\n",
       "      <td>8</td>\n",
       "    </tr>\n",
       "    <tr>\n",
       "      <th>28</th>\n",
       "      <td>Slavia Praha</td>\n",
       "      <td>2</td>\n",
       "      <td>1</td>\n",
       "      <td>3</td>\n",
       "    </tr>\n",
       "    <tr>\n",
       "      <th>29</th>\n",
       "      <td>Tottenham</td>\n",
       "      <td>11</td>\n",
       "      <td>6</td>\n",
       "      <td>17</td>\n",
       "    </tr>\n",
       "    <tr>\n",
       "      <th>30</th>\n",
       "      <td>Valencia</td>\n",
       "      <td>6</td>\n",
       "      <td>2</td>\n",
       "      <td>8</td>\n",
       "    </tr>\n",
       "    <tr>\n",
       "      <th>31</th>\n",
       "      <td>Zenit St. Petersburg</td>\n",
       "      <td>5</td>\n",
       "      <td>2</td>\n",
       "      <td>7</td>\n",
       "    </tr>\n",
       "  </tbody>\n",
       "</table>\n",
       "</div>"
      ],
      "text/plain": [
       "                homeTeam  homeScore  awayscore  totalScored\n",
       "0                   Ajax          3          9           12\n",
       "1               Atalanta          4          1            5\n",
       "2        Atlético Madrid          3          3            6\n",
       "3              Barcelona          5          2            7\n",
       "4    Bayer 04 Leverkusen          3          2            5\n",
       "5         Bayern München          5         16           21\n",
       "6      Borussia Dortmund          3          3            6\n",
       "7                Chelsea          4          5            9\n",
       "8            Club Brugge          0          3            3\n",
       "9       FK Crvena zvezda          3          0            3\n",
       "10     GNK Dinamo Zagreb          7          2            9\n",
       "11           Galatasaray          1          0            1\n",
       "12                 Inter          3          6            9\n",
       "13              Juventus          6          4           10\n",
       "14              KRC Genk          2          3            5\n",
       "15             Lille OSC          2          1            3\n",
       "16             Liverpool          7          4           11\n",
       "17      Lokomotiv Moscow          1          3            4\n",
       "18       Manchester City          8          4           12\n",
       "19                Napoli          3          4            7\n",
       "20            Olympiacos          4          3            7\n",
       "21    Olympique Lyonnais          4          3            7\n",
       "22   Paris Saint-Germain          4          8           12\n",
       "23            RB Leipzig          4          4            8\n",
       "24           Real Madrid         10          1           11\n",
       "25     Red Bull Salzburg          8          8           16\n",
       "26            SL Benfica          3          4            7\n",
       "27      Shakhtar Donetsk          2          6            8\n",
       "28          Slavia Praha          2          1            3\n",
       "29             Tottenham         11          6           17\n",
       "30              Valencia          6          2            8\n",
       "31  Zenit St. Petersburg          5          2            7"
      ]
     },
     "execution_count": 1303,
     "metadata": {},
     "output_type": "execute_result"
    }
   ],
   "source": [
    "total_scores_scored_by_team.reset_index()"
   ]
  },
  {
   "cell_type": "code",
   "execution_count": null,
   "id": "c29d4273",
   "metadata": {},
   "outputs": [],
   "source": []
  },
  {
   "cell_type": "code",
   "execution_count": null,
   "id": "94a74f4c",
   "metadata": {},
   "outputs": [],
   "source": []
  },
  {
   "cell_type": "code",
   "execution_count": 1310,
   "id": "8fc94d54",
   "metadata": {},
   "outputs": [
    {
     "data": {
      "text/plain": [
       "<AxesSubplot:xlabel='homeTeam', ylabel='totalScored'>"
      ]
     },
     "execution_count": 1310,
     "metadata": {},
     "output_type": "execute_result"
    },
    {
     "data": {
      "image/png": "[encoded data removed]",
      "text/plain": [
       "<Figure size 2880x1440 with 1 Axes>"
      ]
     },
     "metadata": {
      "needs_background": "light"
     },
     "output_type": "display_data"
    }
   ],
   "source": [
    "plt.figure(figsize=(40,20))\n",
    "sns.barplot(x=total_scores_scored_by_team.index, y=\"totalScored\", data=total_scores_scored_by_team)"
   ]
  },
  {
   "cell_type": "code",
   "execution_count": 1311,
   "id": "0b8804d8",
   "metadata": {},
   "outputs": [
    {
     "data": {
      "application/vnd.plotly.v1+json": {
       "config": {
        "plotlyServerURL": "https://plot.ly"
       },
       "data": [
        {
         "hovertemplate": "homeTeam=%{x}<br>totalScored=%{y}<extra></extra>",
         "legendgroup": "",
         "line": {
          "color": "#636efa",
          "dash": "solid"
         },
         "marker": {
          "symbol": "circle"
         },
         "mode": "lines",
         "name": "",
         "orientation": "v",
         "showlegend": false,
         "type": "scatter",
         "x": [
          "Ajax",
          "Atalanta",
          "Atlético Madrid",
          "Barcelona",
          "Bayer 04 Leverkusen",
          "Bayern München",
          "Borussia Dortmund",
          "Chelsea",
          "Club Brugge",
          "FK Crvena zvezda",
          "GNK Dinamo Zagreb",
          "Galatasaray",
          "Inter",
          "Juventus",
          "KRC Genk",
          "Lille OSC",
          "Liverpool",
          "Lokomotiv Moscow",
          "Manchester City",
          "Napoli",
          "Olympiacos",
          "Olympique Lyonnais",
          "Paris Saint-Germain",
          "RB Leipzig",
          "Real Madrid",
          "Red Bull Salzburg",
          "SL Benfica",
          "Shakhtar Donetsk",
          "Slavia Praha",
          "Tottenham",
          "Valencia",
          "Zenit St. Petersburg"
         ],
         "xaxis": "x",
         "y": [
          12,
          5,
          6,
          7,
          5,
          21,
          6,
          9,
          3,
          3,
          9,
          1,
          9,
          10,
          5,
          3,
          11,
          4,
          12,
          7,
          7,
          7,
          12,
          8,
          11,
          16,
          7,
          8,
          3,
          17,
          8,
          7
         ],
         "yaxis": "y"
        }
       ],
       "layout": {
        "legend": {
         "tracegroupgap": 0
        },
        "template": {
         "data": {
          "bar": [
           {
            "error_x": {
             "color": "#2a3f5f"
            },
            "error_y": {
             "color": "#2a3f5f"
            },
            "marker": {
             "line": {
              "color": "#E5ECF6",
              "width": 0.5
             },
             "pattern": {
              "fillmode": "overlay",
              "size": 10,
              "solidity": 0.2
             }
            },
            "type": "bar"
           }
          ],
          "barpolar": [
           {
            "marker": {
             "line": {
              "color": "#E5ECF6",
              "width": 0.5
             },
             "pattern": {
              "fillmode": "overlay",
              "size": 10,
              "solidity": 0.2
             }
            },
            "type": "barpolar"
           }
          ],
          "carpet": [
           {
            "aaxis": {
             "endlinecolor": "#2a3f5f",
             "gridcolor": "white",
             "linecolor": "white",
             "minorgridcolor": "white",
             "startlinecolor": "#2a3f5f"
            },
            "baxis": {
             "endlinecolor": "#2a3f5f",
             "gridcolor": "white",
             "linecolor": "white",
             "minorgridcolor": "white",
             "startlinecolor": "#2a3f5f"
            },
            "type": "carpet"
           }
          ],
          "choropleth": [
           {
            "colorbar": {
             "outlinewidth": 0,
             "ticks": ""
            },
            "type": "choropleth"
           }
          ],
          "contour": [
           {
            "colorbar": {
             "outlinewidth": 0,
             "ticks": ""
            },
            "colorscale": [
             [
              0,
              "#0d0887"
             ],
             [
              0.1111111111111111,
              "#46039f"
             ],
             [
              0.2222222222222222,
              "#7201a8"
             ],
             [
              0.3333333333333333,
              "#9c179e"
             ],
             [
              0.4444444444444444,
              "#bd3786"
             ],
             [
              0.5555555555555556,
              "#d8576b"
             ],
             [
              0.6666666666666666,
              "#ed7953"
             ],
             [
              0.7777777777777778,
              "#fb9f3a"
             ],
             [
              0.8888888888888888,
              "#fdca26"
             ],
             [
              1,
              "#f0f921"
             ]
            ],
            "type": "contour"
           }
          ],
          "contourcarpet": [
           {
            "colorbar": {
             "outlinewidth": 0,
             "ticks": ""
            },
            "type": "contourcarpet"
           }
          ],
          "heatmap": [
           {
            "colorbar": {
             "outlinewidth": 0,
             "ticks": ""
            },
            "colorscale": [
             [
              0,
              "#0d0887"
             ],
             [
              0.1111111111111111,
              "#46039f"
             ],
             [
              0.2222222222222222,
              "#7201a8"
             ],
             [
              0.3333333333333333,
              "#9c179e"
             ],
             [
              0.4444444444444444,
              "#bd3786"
             ],
             [
              0.5555555555555556,
              "#d8576b"
             ],
             [
              0.6666666666666666,
              "#ed7953"
             ],
             [
              0.7777777777777778,
              "#fb9f3a"
             ],
             [
              0.8888888888888888,
              "#fdca26"
             ],
             [
              1,
              "#f0f921"
             ]
            ],
            "type": "heatmap"
           }
          ],
          "heatmapgl": [
           {
            "colorbar": {
             "outlinewidth": 0,
             "ticks": ""
            },
            "colorscale": [
             [
              0,
              "#0d0887"
             ],
             [
              0.1111111111111111,
              "#46039f"
             ],
             [
              0.2222222222222222,
              "#7201a8"
             ],
             [
              0.3333333333333333,
              "#9c179e"
             ],
             [
              0.4444444444444444,
              "#bd3786"
             ],
             [
              0.5555555555555556,
              "#d8576b"
             ],
             [
              0.6666666666666666,
              "#ed7953"
             ],
             [
              0.7777777777777778,
              "#fb9f3a"
             ],
             [
              0.8888888888888888,
              "#fdca26"
             ],
             [
              1,
              "#f0f921"
             ]
            ],
            "type": "heatmapgl"
           }
          ],
          "histogram": [
           {
            "marker": {
             "pattern": {
              "fillmode": "overlay",
              "size": 10,
              "solidity": 0.2
             }
            },
            "type": "histogram"
           }
          ],
          "histogram2d": [
           {
            "colorbar": {
             "outlinewidth": 0,
             "ticks": ""
            },
            "colorscale": [
             [
              0,
              "#0d0887"
             ],
             [
              0.1111111111111111,
              "#46039f"
             ],
             [
              0.2222222222222222,
              "#7201a8"
             ],
             [
              0.3333333333333333,
              "#9c179e"
             ],
             [
              0.4444444444444444,
              "#bd3786"
             ],
             [
              0.5555555555555556,
              "#d8576b"
             ],
             [
              0.6666666666666666,
              "#ed7953"
             ],
             [
              0.7777777777777778,
              "#fb9f3a"
             ],
             [
              0.8888888888888888,
              "#fdca26"
             ],
             [
              1,
              "#f0f921"
             ]
            ],
            "type": "histogram2d"
           }
          ],
          "histogram2dcontour": [
           {
            "colorbar": {
             "outlinewidth": 0,
             "ticks": ""
            },
            "colorscale": [
             [
              0,
              "#0d0887"
             ],
             [
              0.1111111111111111,
              "#46039f"
             ],
             [
              0.2222222222222222,
              "#7201a8"
             ],
             [
              0.3333333333333333,
              "#9c179e"
             ],
             [
              0.4444444444444444,
              "#bd3786"
             ],
             [
              0.5555555555555556,
              "#d8576b"
             ],
             [
              0.6666666666666666,
              "#ed7953"
             ],
             [
              0.7777777777777778,
              "#fb9f3a"
             ],
             [
              0.8888888888888888,
              "#fdca26"
             ],
             [
              1,
              "#f0f921"
             ]
            ],
            "type": "histogram2dcontour"
           }
          ],
          "mesh3d": [
           {
            "colorbar": {
             "outlinewidth": 0,
             "ticks": ""
            },
            "type": "mesh3d"
           }
          ],
          "parcoords": [
           {
            "line": {
             "colorbar": {
              "outlinewidth": 0,
              "ticks": ""
             }
            },
            "type": "parcoords"
           }
          ],
          "pie": [
           {
            "automargin": true,
            "type": "pie"
           }
          ],
          "scatter": [
           {
            "marker": {
             "colorbar": {
              "outlinewidth": 0,
              "ticks": ""
             }
            },
            "type": "scatter"
           }
          ],
          "scatter3d": [
           {
            "line": {
             "colorbar": {
              "outlinewidth": 0,
              "ticks": ""
             }
            },
            "marker": {
             "colorbar": {
              "outlinewidth": 0,
              "ticks": ""
             }
            },
            "type": "scatter3d"
           }
          ],
          "scattercarpet": [
           {
            "marker": {
             "colorbar": {
              "outlinewidth": 0,
              "ticks": ""
             }
            },
            "type": "scattercarpet"
           }
          ],
          "scattergeo": [
           {
            "marker": {
             "colorbar": {
              "outlinewidth": 0,
              "ticks": ""
             }
            },
            "type": "scattergeo"
           }
          ],
          "scattergl": [
           {
            "marker": {
             "colorbar": {
              "outlinewidth": 0,
              "ticks": ""
             }
            },
            "type": "scattergl"
           }
          ],
          "scattermapbox": [
           {
            "marker": {
             "colorbar": {
              "outlinewidth": 0,
              "ticks": ""
             }
            },
            "type": "scattermapbox"
           }
          ],
          "scatterpolar": [
           {
            "marker": {
             "colorbar": {
              "outlinewidth": 0,
              "ticks": ""
             }
            },
            "type": "scatterpolar"
           }
          ],
          "scatterpolargl": [
           {
            "marker": {
             "colorbar": {
              "outlinewidth": 0,
              "ticks": ""
             }
            },
            "type": "scatterpolargl"
           }
          ],
          "scatterternary": [
           {
            "marker": {
             "colorbar": {
              "outlinewidth": 0,
              "ticks": ""
             }
            },
            "type": "scatterternary"
           }
          ],
          "surface": [
           {
            "colorbar": {
             "outlinewidth": 0,
             "ticks": ""
            },
            "colorscale": [
             [
              0,
              "#0d0887"
             ],
             [
              0.1111111111111111,
              "#46039f"
             ],
             [
              0.2222222222222222,
              "#7201a8"
             ],
             [
              0.3333333333333333,
              "#9c179e"
             ],
             [
              0.4444444444444444,
              "#bd3786"
             ],
             [
              0.5555555555555556,
              "#d8576b"
             ],
             [
              0.6666666666666666,
              "#ed7953"
             ],
             [
              0.7777777777777778,
              "#fb9f3a"
             ],
             [
              0.8888888888888888,
              "#fdca26"
             ],
             [
              1,
              "#f0f921"
             ]
            ],
            "type": "surface"
           }
          ],
          "table": [
           {
            "cells": {
             "fill": {
              "color": "#EBF0F8"
             },
             "line": {
              "color": "white"
             }
            },
            "header": {
             "fill": {
              "color": "#C8D4E3"
             },
             "line": {
              "color": "white"
             }
            },
            "type": "table"
           }
          ]
         },
         "layout": {
          "annotationdefaults": {
           "arrowcolor": "#2a3f5f",
           "arrowhead": 0,
           "arrowwidth": 1
          },
          "autotypenumbers": "strict",
          "coloraxis": {
           "colorbar": {
            "outlinewidth": 0,
            "ticks": ""
           }
          },
          "colorscale": {
           "diverging": [
            [
             0,
             "#8e0152"
            ],
            [
             0.1,
             "#c51b7d"
            ],
            [
             0.2,
             "#de77ae"
            ],
            [
             0.3,
             "#f1b6da"
            ],
            [
             0.4,
             "#fde0ef"
            ],
            [
             0.5,
             "#f7f7f7"
            ],
            [
             0.6,
             "#e6f5d0"
            ],
            [
             0.7,
             "#b8e186"
            ],
            [
             0.8,
             "#7fbc41"
            ],
            [
             0.9,
             "#4d9221"
            ],
            [
             1,
             "#276419"
            ]
           ],
           "sequential": [
            [
             0,
             "#0d0887"
            ],
            [
             0.1111111111111111,
             "#46039f"
            ],
            [
             0.2222222222222222,
             "#7201a8"
            ],
            [
             0.3333333333333333,
             "#9c179e"
            ],
            [
             0.4444444444444444,
             "#bd3786"
            ],
            [
             0.5555555555555556,
             "#d8576b"
            ],
            [
             0.6666666666666666,
             "#ed7953"
            ],
            [
             0.7777777777777778,
             "#fb9f3a"
            ],
            [
             0.8888888888888888,
             "#fdca26"
            ],
            [
             1,
             "#f0f921"
            ]
           ],
           "sequentialminus": [
            [
             0,
             "#0d0887"
            ],
            [
             0.1111111111111111,
             "#46039f"
            ],
            [
             0.2222222222222222,
             "#7201a8"
            ],
            [
             0.3333333333333333,
             "#9c179e"
            ],
            [
             0.4444444444444444,
             "#bd3786"
            ],
            [
             0.5555555555555556,
             "#d8576b"
            ],
            [
             0.6666666666666666,
             "#ed7953"
            ],
            [
             0.7777777777777778,
             "#fb9f3a"
            ],
            [
             0.8888888888888888,
             "#fdca26"
            ],
            [
             1,
             "#f0f921"
            ]
           ]
          },
          "colorway": [
           "#636efa",
           "#EF553B",
           "#00cc96",
           "#ab63fa",
           "#FFA15A",
           "#19d3f3",
           "#FF6692",
           "#B6E880",
           "#FF97FF",
           "#FECB52"
          ],
          "font": {
           "color": "#2a3f5f"
          },
          "geo": {
           "bgcolor": "white",
           "lakecolor": "white",
           "landcolor": "#E5ECF6",
           "showlakes": true,
           "showland": true,
           "subunitcolor": "white"
          },
          "hoverlabel": {
           "align": "left"
          },
          "hovermode": "closest",
          "mapbox": {
           "style": "light"
          },
          "paper_bgcolor": "white",
          "plot_bgcolor": "#E5ECF6",
          "polar": {
           "angularaxis": {
            "gridcolor": "white",
            "linecolor": "white",
            "ticks": ""
           },
           "bgcolor": "#E5ECF6",
           "radialaxis": {
            "gridcolor": "white",
            "linecolor": "white",
            "ticks": ""
           }
          },
          "scene": {
           "xaxis": {
            "backgroundcolor": "#E5ECF6",
            "gridcolor": "white",
            "gridwidth": 2,
            "linecolor": "white",
            "showbackground": true,
            "ticks": "",
            "zerolinecolor": "white"
           },
           "yaxis": {
            "backgroundcolor": "#E5ECF6",
            "gridcolor": "white",
            "gridwidth": 2,
            "linecolor": "white",
            "showbackground": true,
            "ticks": "",
            "zerolinecolor": "white"
           },
           "zaxis": {
            "backgroundcolor": "#E5ECF6",
            "gridcolor": "white",
            "gridwidth": 2,
            "linecolor": "white",
            "showbackground": true,
            "ticks": "",
            "zerolinecolor": "white"
           }
          },
          "shapedefaults": {
           "line": {
            "color": "#2a3f5f"
           }
          },
          "ternary": {
           "aaxis": {
            "gridcolor": "white",
            "linecolor": "white",
            "ticks": ""
           },
           "baxis": {
            "gridcolor": "white",
            "linecolor": "white",
            "ticks": ""
           },
           "bgcolor": "#E5ECF6",
           "caxis": {
            "gridcolor": "white",
            "linecolor": "white",
            "ticks": ""
           }
          },
          "title": {
           "x": 0.05
          },
          "xaxis": {
           "automargin": true,
           "gridcolor": "white",
           "linecolor": "white",
           "ticks": "",
           "title": {
            "standoff": 15
           },
           "zerolinecolor": "white",
           "zerolinewidth": 2
          },
          "yaxis": {
           "automargin": true,
           "gridcolor": "white",
           "linecolor": "white",
           "ticks": "",
           "title": {
            "standoff": 15
           },
           "zerolinecolor": "white",
           "zerolinewidth": 2
          }
         }
        },
        "title": {
         "text": "Most Goals Scored by a Team in Group Stages "
        },
        "xaxis": {
         "anchor": "y",
         "domain": [
          0,
          1
         ],
         "title": {
          "text": "homeTeam"
         }
        },
        "yaxis": {
         "anchor": "x",
         "domain": [
          0,
          1
         ],
         "title": {
          "text": "totalScored"
         }
        }
       }
      },
      "text/html": [
       "<div>                            <div id=\"52c70aad-05a7-4449-9846-2fd30e61939b\" class=\"plotly-graph-div\" style=\"height:525px; width:100%;\"></div>            <script type=\"text/javascript\">                require([\"plotly\"], function(Plotly) {                    window.PLOTLYENV=window.PLOTLYENV || {};                                    if (document.getElementById(\"52c70aad-05a7-4449-9846-2fd30e61939b\")) {                    Plotly.newPlot(                        \"52c70aad-05a7-4449-9846-2fd30e61939b\",                        [{\"hovertemplate\":\"homeTeam=%{x}<br>totalScored=%{y}<extra></extra>\",\"legendgroup\":\"\",\"line\":{\"color\":\"#636efa\",\"dash\":\"solid\"},\"marker\":{\"symbol\":\"circle\"},\"mode\":\"lines\",\"name\":\"\",\"orientation\":\"v\",\"showlegend\":false,\"type\":\"scatter\",\"x\":[\"Ajax\",\"Atalanta\",\"Atl\\u00e9tico Madrid\",\"Barcelona\",\"Bayer 04 Leverkusen\",\"Bayern M\\u00fcnchen\",\"Borussia Dortmund\",\"Chelsea\",\"Club Brugge\",\"FK Crvena zvezda\",\"GNK Dinamo Zagreb\",\"Galatasaray\",\"Inter\",\"Juventus\",\"KRC Genk\",\"Lille OSC\",\"Liverpool\",\"Lokomotiv Moscow\",\"Manchester City\",\"Napoli\",\"Olympiacos\",\"Olympique Lyonnais\",\"Paris Saint-Germain\",\"RB Leipzig\",\"Real Madrid\",\"Red Bull Salzburg\",\"SL Benfica\",\"Shakhtar Donetsk\",\"Slavia Praha\",\"Tottenham\",\"Valencia\",\"Zenit St. Petersburg\"],\"xaxis\":\"x\",\"y\":[12,5,6,7,5,21,6,9,3,3,9,1,9,10,5,3,11,4,12,7,7,7,12,8,11,16,7,8,3,17,8,7],\"yaxis\":\"y\"}],                        {\"legend\":{\"tracegroupgap\":0},\"template\":{\"data\":{\"bar\":[{\"error_x\":{\"color\":\"#2a3f5f\"},\"error_y\":{\"color\":\"#2a3f5f\"},\"marker\":{\"line\":{\"color\":\"#E5ECF6\",\"width\":0.5},\"pattern\":{\"fillmode\":\"overlay\",\"size\":10,\"solidity\":0.2}},\"type\":\"bar\"}],\"barpolar\":[{\"marker\":{\"line\":{\"color\":\"#E5ECF6\",\"width\":0.5},\"pattern\":{\"fillmode\":\"overlay\",\"size\":10,\"solidity\":0.2}},\"type\":\"barpolar\"}],\"carpet\":[{\"aaxis\":{\"endlinecolor\":\"#2a3f5f\",\"gridcolor\":\"white\",\"linecolor\":\"white\",\"minorgridcolor\":\"white\",\"startlinecolor\":\"#2a3f5f\"},\"baxis\":{\"endlinecolor\":\"#2a3f5f\",\"gridcolor\":\"white\",\"linecolor\":\"white\",\"minorgridcolor\":\"white\",\"startlinecolor\":\"#2a3f5f\"},\"type\":\"carpet\"}],\"choropleth\":[{\"colorbar\":{\"outlinewidth\":0,\"ticks\":\"\"},\"type\":\"choropleth\"}],\"contour\":[{\"colorbar\":{\"outlinewidth\":0,\"ticks\":\"\"},\"colorscale\":[[0.0,\"#0d0887\"],[0.1111111111111111,\"#46039f\"],[0.2222222222222222,\"#7201a8\"],[0.3333333333333333,\"#9c179e\"],[0.4444444444444444,\"#bd3786\"],[0.5555555555555556,\"#d8576b\"],[0.6666666666666666,\"#ed7953\"],[0.7777777777777778,\"#fb9f3a\"],[0.8888888888888888,\"#fdca26\"],[1.0,\"#f0f921\"]],\"type\":\"contour\"}],\"contourcarpet\":[{\"colorbar\":{\"outlinewidth\":0,\"ticks\":\"\"},\"type\":\"contourcarpet\"}],\"heatmap\":[{\"colorbar\":{\"outlinewidth\":0,\"ticks\":\"\"},\"colorscale\":[[0.0,\"#0d0887\"],[0.1111111111111111,\"#46039f\"],[0.2222222222222222,\"#7201a8\"],[0.3333333333333333,\"#9c179e\"],[0.4444444444444444,\"#bd3786\"],[0.5555555555555556,\"#d8576b\"],[0.6666666666666666,\"#ed7953\"],[0.7777777777777778,\"#fb9f3a\"],[0.8888888888888888,\"#fdca26\"],[1.0,\"#f0f921\"]],\"type\":\"heatmap\"}],\"heatmapgl\":[{\"colorbar\":{\"outlinewidth\":0,\"ticks\":\"\"},\"colorscale\":[[0.0,\"#0d0887\"],[0.1111111111111111,\"#46039f\"],[0.2222222222222222,\"#7201a8\"],[0.3333333333333333,\"#9c179e\"],[0.4444444444444444,\"#bd3786\"],[0.5555555555555556,\"#d8576b\"],[0.6666666666666666,\"#ed7953\"],[0.7777777777777778,\"#fb9f3a\"],[0.8888888888888888,\"#fdca26\"],[1.0,\"#f0f921\"]],\"type\":\"heatmapgl\"}],\"histogram\":[{\"marker\":{\"pattern\":{\"fillmode\":\"overlay\",\"size\":10,\"solidity\":0.2}},\"type\":\"histogram\"}],\"histogram2d\":[{\"colorbar\":{\"outlinewidth\":0,\"ticks\":\"\"},\"colorscale\":[[0.0,\"#0d0887\"],[0.1111111111111111,\"#46039f\"],[0.2222222222222222,\"#7201a8\"],[0.3333333333333333,\"#9c179e\"],[0.4444444444444444,\"#bd3786\"],[0.5555555555555556,\"#d8576b\"],[0.6666666666666666,\"#ed7953\"],[0.7777777777777778,\"#fb9f3a\"],[0.8888888888888888,\"#fdca26\"],[1.0,\"#f0f921\"]],\"type\":\"histogram2d\"}],\"histogram2dcontour\":[{\"colorbar\":{\"outlinewidth\":0,\"ticks\":\"\"},\"colorscale\":[[0.0,\"#0d0887\"],[0.1111111111111111,\"#46039f\"],[0.2222222222222222,\"#7201a8\"],[0.3333333333333333,\"#9c179e\"],[0.4444444444444444,\"#bd3786\"],[0.5555555555555556,\"#d8576b\"],[0.6666666666666666,\"#ed7953\"],[0.7777777777777778,\"#fb9f3a\"],[0.8888888888888888,\"#fdca26\"],[1.0,\"#f0f921\"]],\"type\":\"histogram2dcontour\"}],\"mesh3d\":[{\"colorbar\":{\"outlinewidth\":0,\"ticks\":\"\"},\"type\":\"mesh3d\"}],\"parcoords\":[{\"line\":{\"colorbar\":{\"outlinewidth\":0,\"ticks\":\"\"}},\"type\":\"parcoords\"}],\"pie\":[{\"automargin\":true,\"type\":\"pie\"}],\"scatter\":[{\"marker\":{\"colorbar\":{\"outlinewidth\":0,\"ticks\":\"\"}},\"type\":\"scatter\"}],\"scatter3d\":[{\"line\":{\"colorbar\":{\"outlinewidth\":0,\"ticks\":\"\"}},\"marker\":{\"colorbar\":{\"outlinewidth\":0,\"ticks\":\"\"}},\"type\":\"scatter3d\"}],\"scattercarpet\":[{\"marker\":{\"colorbar\":{\"outlinewidth\":0,\"ticks\":\"\"}},\"type\":\"scattercarpet\"}],\"scattergeo\":[{\"marker\":{\"colorbar\":{\"outlinewidth\":0,\"ticks\":\"\"}},\"type\":\"scattergeo\"}],\"scattergl\":[{\"marker\":{\"colorbar\":{\"outlinewidth\":0,\"ticks\":\"\"}},\"type\":\"scattergl\"}],\"scattermapbox\":[{\"marker\":{\"colorbar\":{\"outlinewidth\":0,\"ticks\":\"\"}},\"type\":\"scattermapbox\"}],\"scatterpolar\":[{\"marker\":{\"colorbar\":{\"outlinewidth\":0,\"ticks\":\"\"}},\"type\":\"scatterpolar\"}],\"scatterpolargl\":[{\"marker\":{\"colorbar\":{\"outlinewidth\":0,\"ticks\":\"\"}},\"type\":\"scatterpolargl\"}],\"scatterternary\":[{\"marker\":{\"colorbar\":{\"outlinewidth\":0,\"ticks\":\"\"}},\"type\":\"scatterternary\"}],\"surface\":[{\"colorbar\":{\"outlinewidth\":0,\"ticks\":\"\"},\"colorscale\":[[0.0,\"#0d0887\"],[0.1111111111111111,\"#46039f\"],[0.2222222222222222,\"#7201a8\"],[0.3333333333333333,\"#9c179e\"],[0.4444444444444444,\"#bd3786\"],[0.5555555555555556,\"#d8576b\"],[0.6666666666666666,\"#ed7953\"],[0.7777777777777778,\"#fb9f3a\"],[0.8888888888888888,\"#fdca26\"],[1.0,\"#f0f921\"]],\"type\":\"surface\"}],\"table\":[{\"cells\":{\"fill\":{\"color\":\"#EBF0F8\"},\"line\":{\"color\":\"white\"}},\"header\":{\"fill\":{\"color\":\"#C8D4E3\"},\"line\":{\"color\":\"white\"}},\"type\":\"table\"}]},\"layout\":{\"annotationdefaults\":{\"arrowcolor\":\"#2a3f5f\",\"arrowhead\":0,\"arrowwidth\":1},\"autotypenumbers\":\"strict\",\"coloraxis\":{\"colorbar\":{\"outlinewidth\":0,\"ticks\":\"\"}},\"colorscale\":{\"diverging\":[[0,\"#8e0152\"],[0.1,\"#c51b7d\"],[0.2,\"#de77ae\"],[0.3,\"#f1b6da\"],[0.4,\"#fde0ef\"],[0.5,\"#f7f7f7\"],[0.6,\"#e6f5d0\"],[0.7,\"#b8e186\"],[0.8,\"#7fbc41\"],[0.9,\"#4d9221\"],[1,\"#276419\"]],\"sequential\":[[0.0,\"#0d0887\"],[0.1111111111111111,\"#46039f\"],[0.2222222222222222,\"#7201a8\"],[0.3333333333333333,\"#9c179e\"],[0.4444444444444444,\"#bd3786\"],[0.5555555555555556,\"#d8576b\"],[0.6666666666666666,\"#ed7953\"],[0.7777777777777778,\"#fb9f3a\"],[0.8888888888888888,\"#fdca26\"],[1.0,\"#f0f921\"]],\"sequentialminus\":[[0.0,\"#0d0887\"],[0.1111111111111111,\"#46039f\"],[0.2222222222222222,\"#7201a8\"],[0.3333333333333333,\"#9c179e\"],[0.4444444444444444,\"#bd3786\"],[0.5555555555555556,\"#d8576b\"],[0.6666666666666666,\"#ed7953\"],[0.7777777777777778,\"#fb9f3a\"],[0.8888888888888888,\"#fdca26\"],[1.0,\"#f0f921\"]]},\"colorway\":[\"#636efa\",\"#EF553B\",\"#00cc96\",\"#ab63fa\",\"#FFA15A\",\"#19d3f3\",\"#FF6692\",\"#B6E880\",\"#FF97FF\",\"#FECB52\"],\"font\":{\"color\":\"#2a3f5f\"},\"geo\":{\"bgcolor\":\"white\",\"lakecolor\":\"white\",\"landcolor\":\"#E5ECF6\",\"showlakes\":true,\"showland\":true,\"subunitcolor\":\"white\"},\"hoverlabel\":{\"align\":\"left\"},\"hovermode\":\"closest\",\"mapbox\":{\"style\":\"light\"},\"paper_bgcolor\":\"white\",\"plot_bgcolor\":\"#E5ECF6\",\"polar\":{\"angularaxis\":{\"gridcolor\":\"white\",\"linecolor\":\"white\",\"ticks\":\"\"},\"bgcolor\":\"#E5ECF6\",\"radialaxis\":{\"gridcolor\":\"white\",\"linecolor\":\"white\",\"ticks\":\"\"}},\"scene\":{\"xaxis\":{\"backgroundcolor\":\"#E5ECF6\",\"gridcolor\":\"white\",\"gridwidth\":2,\"linecolor\":\"white\",\"showbackground\":true,\"ticks\":\"\",\"zerolinecolor\":\"white\"},\"yaxis\":{\"backgroundcolor\":\"#E5ECF6\",\"gridcolor\":\"white\",\"gridwidth\":2,\"linecolor\":\"white\",\"showbackground\":true,\"ticks\":\"\",\"zerolinecolor\":\"white\"},\"zaxis\":{\"backgroundcolor\":\"#E5ECF6\",\"gridcolor\":\"white\",\"gridwidth\":2,\"linecolor\":\"white\",\"showbackground\":true,\"ticks\":\"\",\"zerolinecolor\":\"white\"}},\"shapedefaults\":{\"line\":{\"color\":\"#2a3f5f\"}},\"ternary\":{\"aaxis\":{\"gridcolor\":\"white\",\"linecolor\":\"white\",\"ticks\":\"\"},\"baxis\":{\"gridcolor\":\"white\",\"linecolor\":\"white\",\"ticks\":\"\"},\"bgcolor\":\"#E5ECF6\",\"caxis\":{\"gridcolor\":\"white\",\"linecolor\":\"white\",\"ticks\":\"\"}},\"title\":{\"x\":0.05},\"xaxis\":{\"automargin\":true,\"gridcolor\":\"white\",\"linecolor\":\"white\",\"ticks\":\"\",\"title\":{\"standoff\":15},\"zerolinecolor\":\"white\",\"zerolinewidth\":2},\"yaxis\":{\"automargin\":true,\"gridcolor\":\"white\",\"linecolor\":\"white\",\"ticks\":\"\",\"title\":{\"standoff\":15},\"zerolinecolor\":\"white\",\"zerolinewidth\":2}}},\"title\":{\"text\":\"Most Goals Scored by a Team in Group Stages \"},\"xaxis\":{\"anchor\":\"y\",\"domain\":[0.0,1.0],\"title\":{\"text\":\"homeTeam\"}},\"yaxis\":{\"anchor\":\"x\",\"domain\":[0.0,1.0],\"title\":{\"text\":\"totalScored\"}}},                        {\"responsive\": true}                    ).then(function(){\n",
       "                            \n",
       "var gd = document.getElementById('52c70aad-05a7-4449-9846-2fd30e61939b');\n",
       "var x = new MutationObserver(function (mutations, observer) {{\n",
       "        var display = window.getComputedStyle(gd).display;\n",
       "        if (!display || display === 'none') {{\n",
       "            console.log([gd, 'removed!']);\n",
       "            Plotly.purge(gd);\n",
       "            observer.disconnect();\n",
       "        }}\n",
       "}});\n",
       "\n",
       "// Listen for the removal of the full notebook cells\n",
       "var notebookContainer = gd.closest('#notebook-container');\n",
       "if (notebookContainer) {{\n",
       "    x.observe(notebookContainer, {childList: true});\n",
       "}}\n",
       "\n",
       "// Listen for the clearing of the current output cell\n",
       "var outputEl = gd.closest('.output');\n",
       "if (outputEl) {{\n",
       "    x.observe(outputEl, {childList: true});\n",
       "}}\n",
       "\n",
       "                        })                };                });            </script>        </div>"
      ]
     },
     "metadata": {},
     "output_type": "display_data"
    }
   ],
   "source": [
    "fig = px.line(total_scores_scored_by_team, x=total_scores_scored_by_team.index, y=\"totalScored\", title='Most Goals Scored by a Team in Group Stages ')\n",
    "fig.show()"
   ]
  },
  {
   "cell_type": "code",
   "execution_count": 1313,
   "id": "47a66224",
   "metadata": {},
   "outputs": [
    {
     "data": {
      "application/vnd.plotly.v1+json": {
       "config": {
        "plotlyServerURL": "https://plot.ly"
       },
       "data": [
        {
         "alignmentgroup": "True",
         "hovertemplate": "homeTeam=%{x}<br>totalScored=%{y}<extra></extra>",
         "legendgroup": "Ajax",
         "marker": {
          "color": "#636efa",
          "pattern": {
           "shape": ""
          }
         },
         "name": "Ajax",
         "offsetgroup": "Ajax",
         "orientation": "v",
         "showlegend": true,
         "textposition": "auto",
         "type": "bar",
         "x": [
          "Ajax"
         ],
         "xaxis": "x",
         "y": [
          12
         ],
         "yaxis": "y"
        },
        {
         "alignmentgroup": "True",
         "hovertemplate": "homeTeam=%{x}<br>totalScored=%{y}<extra></extra>",
         "legendgroup": "Atalanta",
         "marker": {
          "color": "#EF553B",
          "pattern": {
           "shape": ""
          }
         },
         "name": "Atalanta",
         "offsetgroup": "Atalanta",
         "orientation": "v",
         "showlegend": true,
         "textposition": "auto",
         "type": "bar",
         "x": [
          "Atalanta"
         ],
         "xaxis": "x",
         "y": [
          5
         ],
         "yaxis": "y"
        },
        {
         "alignmentgroup": "True",
         "hovertemplate": "homeTeam=%{x}<br>totalScored=%{y}<extra></extra>",
         "legendgroup": "Atlético Madrid",
         "marker": {
          "color": "#00cc96",
          "pattern": {
           "shape": ""
          }
         },
         "name": "Atlético Madrid",
         "offsetgroup": "Atlético Madrid",
         "orientation": "v",
         "showlegend": true,
         "textposition": "auto",
         "type": "bar",
         "x": [
          "Atlético Madrid"
         ],
         "xaxis": "x",
         "y": [
          6
         ],
         "yaxis": "y"
        },
        {
         "alignmentgroup": "True",
         "hovertemplate": "homeTeam=%{x}<br>totalScored=%{y}<extra></extra>",
         "legendgroup": "Barcelona",
         "marker": {
          "color": "#ab63fa",
          "pattern": {
           "shape": ""
          }
         },
         "name": "Barcelona",
         "offsetgroup": "Barcelona",
         "orientation": "v",
         "showlegend": true,
         "textposition": "auto",
         "type": "bar",
         "x": [
          "Barcelona"
         ],
         "xaxis": "x",
         "y": [
          7
         ],
         "yaxis": "y"
        },
        {
         "alignmentgroup": "True",
         "hovertemplate": "homeTeam=%{x}<br>totalScored=%{y}<extra></extra>",
         "legendgroup": "Bayer 04 Leverkusen",
         "marker": {
          "color": "#FFA15A",
          "pattern": {
           "shape": ""
          }
         },
         "name": "Bayer 04 Leverkusen",
         "offsetgroup": "Bayer 04 Leverkusen",
         "orientation": "v",
         "showlegend": true,
         "textposition": "auto",
         "type": "bar",
         "x": [
          "Bayer 04 Leverkusen"
         ],
         "xaxis": "x",
         "y": [
          5
         ],
         "yaxis": "y"
        },
        {
         "alignmentgroup": "True",
         "hovertemplate": "homeTeam=%{x}<br>totalScored=%{y}<extra></extra>",
         "legendgroup": "Bayern München",
         "marker": {
          "color": "#19d3f3",
          "pattern": {
           "shape": ""
          }
         },
         "name": "Bayern München",
         "offsetgroup": "Bayern München",
         "orientation": "v",
         "showlegend": true,
         "textposition": "auto",
         "type": "bar",
         "x": [
          "Bayern München"
         ],
         "xaxis": "x",
         "y": [
          21
         ],
         "yaxis": "y"
        },
        {
         "alignmentgroup": "True",
         "hovertemplate": "homeTeam=%{x}<br>totalScored=%{y}<extra></extra>",
         "legendgroup": "Borussia Dortmund",
         "marker": {
          "color": "#FF6692",
          "pattern": {
           "shape": ""
          }
         },
         "name": "Borussia Dortmund",
         "offsetgroup": "Borussia Dortmund",
         "orientation": "v",
         "showlegend": true,
         "textposition": "auto",
         "type": "bar",
         "x": [
          "Borussia Dortmund"
         ],
         "xaxis": "x",
         "y": [
          6
         ],
         "yaxis": "y"
        },
        {
         "alignmentgroup": "True",
         "hovertemplate": "homeTeam=%{x}<br>totalScored=%{y}<extra></extra>",
         "legendgroup": "Chelsea",
         "marker": {
          "color": "#B6E880",
          "pattern": {
           "shape": ""
          }
         },
         "name": "Chelsea",
         "offsetgroup": "Chelsea",
         "orientation": "v",
         "showlegend": true,
         "textposition": "auto",
         "type": "bar",
         "x": [
          "Chelsea"
         ],
         "xaxis": "x",
         "y": [
          9
         ],
         "yaxis": "y"
        },
        {
         "alignmentgroup": "True",
         "hovertemplate": "homeTeam=%{x}<br>totalScored=%{y}<extra></extra>",
         "legendgroup": "Club Brugge",
         "marker": {
          "color": "#FF97FF",
          "pattern": {
           "shape": ""
          }
         },
         "name": "Club Brugge",
         "offsetgroup": "Club Brugge",
         "orientation": "v",
         "showlegend": true,
         "textposition": "auto",
         "type": "bar",
         "x": [
          "Club Brugge"
         ],
         "xaxis": "x",
         "y": [
          3
         ],
         "yaxis": "y"
        },
        {
         "alignmentgroup": "True",
         "hovertemplate": "homeTeam=%{x}<br>totalScored=%{y}<extra></extra>",
         "legendgroup": "FK Crvena zvezda",
         "marker": {
          "color": "#FECB52",
          "pattern": {
           "shape": ""
          }
         },
         "name": "FK Crvena zvezda",
         "offsetgroup": "FK Crvena zvezda",
         "orientation": "v",
         "showlegend": true,
         "textposition": "auto",
         "type": "bar",
         "x": [
          "FK Crvena zvezda"
         ],
         "xaxis": "x",
         "y": [
          3
         ],
         "yaxis": "y"
        },
        {
         "alignmentgroup": "True",
         "hovertemplate": "homeTeam=%{x}<br>totalScored=%{y}<extra></extra>",
         "legendgroup": "GNK Dinamo Zagreb",
         "marker": {
          "color": "#636efa",
          "pattern": {
           "shape": ""
          }
         },
         "name": "GNK Dinamo Zagreb",
         "offsetgroup": "GNK Dinamo Zagreb",
         "orientation": "v",
         "showlegend": true,
         "textposition": "auto",
         "type": "bar",
         "x": [
          "GNK Dinamo Zagreb"
         ],
         "xaxis": "x",
         "y": [
          9
         ],
         "yaxis": "y"
        },
        {
         "alignmentgroup": "True",
         "hovertemplate": "homeTeam=%{x}<br>totalScored=%{y}<extra></extra>",
         "legendgroup": "Galatasaray",
         "marker": {
          "color": "#EF553B",
          "pattern": {
           "shape": ""
          }
         },
         "name": "Galatasaray",
         "offsetgroup": "Galatasaray",
         "orientation": "v",
         "showlegend": true,
         "textposition": "auto",
         "type": "bar",
         "x": [
          "Galatasaray"
         ],
         "xaxis": "x",
         "y": [
          1
         ],
         "yaxis": "y"
        },
        {
         "alignmentgroup": "True",
         "hovertemplate": "homeTeam=%{x}<br>totalScored=%{y}<extra></extra>",
         "legendgroup": "Inter",
         "marker": {
          "color": "#00cc96",
          "pattern": {
           "shape": ""
          }
         },
         "name": "Inter",
         "offsetgroup": "Inter",
         "orientation": "v",
         "showlegend": true,
         "textposition": "auto",
         "type": "bar",
         "x": [
          "Inter"
         ],
         "xaxis": "x",
         "y": [
          9
         ],
         "yaxis": "y"
        },
        {
         "alignmentgroup": "True",
         "hovertemplate": "homeTeam=%{x}<br>totalScored=%{y}<extra></extra>",
         "legendgroup": "Juventus",
         "marker": {
          "color": "#ab63fa",
          "pattern": {
           "shape": ""
          }
         },
         "name": "Juventus",
         "offsetgroup": "Juventus",
         "orientation": "v",
         "showlegend": true,
         "textposition": "auto",
         "type": "bar",
         "x": [
          "Juventus"
         ],
         "xaxis": "x",
         "y": [
          10
         ],
         "yaxis": "y"
        },
        {
         "alignmentgroup": "True",
         "hovertemplate": "homeTeam=%{x}<br>totalScored=%{y}<extra></extra>",
         "legendgroup": "KRC Genk",
         "marker": {
          "color": "#FFA15A",
          "pattern": {
           "shape": ""
          }
         },
         "name": "KRC Genk",
         "offsetgroup": "KRC Genk",
         "orientation": "v",
         "showlegend": true,
         "textposition": "auto",
         "type": "bar",
         "x": [
          "KRC Genk"
         ],
         "xaxis": "x",
         "y": [
          5
         ],
         "yaxis": "y"
        },
        {
         "alignmentgroup": "True",
         "hovertemplate": "homeTeam=%{x}<br>totalScored=%{y}<extra></extra>",
         "legendgroup": "Lille OSC",
         "marker": {
          "color": "#19d3f3",
          "pattern": {
           "shape": ""
          }
         },
         "name": "Lille OSC",
         "offsetgroup": "Lille OSC",
         "orientation": "v",
         "showlegend": true,
         "textposition": "auto",
         "type": "bar",
         "x": [
          "Lille OSC"
         ],
         "xaxis": "x",
         "y": [
          3
         ],
         "yaxis": "y"
        },
        {
         "alignmentgroup": "True",
         "hovertemplate": "homeTeam=%{x}<br>totalScored=%{y}<extra></extra>",
         "legendgroup": "Liverpool",
         "marker": {
          "color": "#FF6692",
          "pattern": {
           "shape": ""
          }
         },
         "name": "Liverpool",
         "offsetgroup": "Liverpool",
         "orientation": "v",
         "showlegend": true,
         "textposition": "auto",
         "type": "bar",
         "x": [
          "Liverpool"
         ],
         "xaxis": "x",
         "y": [
          11
         ],
         "yaxis": "y"
        },
        {
         "alignmentgroup": "True",
         "hovertemplate": "homeTeam=%{x}<br>totalScored=%{y}<extra></extra>",
         "legendgroup": "Lokomotiv Moscow",
         "marker": {
          "color": "#B6E880",
          "pattern": {
           "shape": ""
          }
         },
         "name": "Lokomotiv Moscow",
         "offsetgroup": "Lokomotiv Moscow",
         "orientation": "v",
         "showlegend": true,
         "textposition": "auto",
         "type": "bar",
         "x": [
          "Lokomotiv Moscow"
         ],
         "xaxis": "x",
         "y": [
          4
         ],
         "yaxis": "y"
        },
        {
         "alignmentgroup": "True",
         "hovertemplate": "homeTeam=%{x}<br>totalScored=%{y}<extra></extra>",
         "legendgroup": "Manchester City",
         "marker": {
          "color": "#FF97FF",
          "pattern": {
           "shape": ""
          }
         },
         "name": "Manchester City",
         "offsetgroup": "Manchester City",
         "orientation": "v",
         "showlegend": true,
         "textposition": "auto",
         "type": "bar",
         "x": [
          "Manchester City"
         ],
         "xaxis": "x",
         "y": [
          12
         ],
         "yaxis": "y"
        },
        {
         "alignmentgroup": "True",
         "hovertemplate": "homeTeam=%{x}<br>totalScored=%{y}<extra></extra>",
         "legendgroup": "Napoli",
         "marker": {
          "color": "#FECB52",
          "pattern": {
           "shape": ""
          }
         },
         "name": "Napoli",
         "offsetgroup": "Napoli",
         "orientation": "v",
         "showlegend": true,
         "textposition": "auto",
         "type": "bar",
         "x": [
          "Napoli"
         ],
         "xaxis": "x",
         "y": [
          7
         ],
         "yaxis": "y"
        },
        {
         "alignmentgroup": "True",
         "hovertemplate": "homeTeam=%{x}<br>totalScored=%{y}<extra></extra>",
         "legendgroup": "Olympiacos",
         "marker": {
          "color": "#636efa",
          "pattern": {
           "shape": ""
          }
         },
         "name": "Olympiacos",
         "offsetgroup": "Olympiacos",
         "orientation": "v",
         "showlegend": true,
         "textposition": "auto",
         "type": "bar",
         "x": [
          "Olympiacos"
         ],
         "xaxis": "x",
         "y": [
          7
         ],
         "yaxis": "y"
        },
        {
         "alignmentgroup": "True",
         "hovertemplate": "homeTeam=%{x}<br>totalScored=%{y}<extra></extra>",
         "legendgroup": "Olympique Lyonnais",
         "marker": {
          "color": "#EF553B",
          "pattern": {
           "shape": ""
          }
         },
         "name": "Olympique Lyonnais",
         "offsetgroup": "Olympique Lyonnais",
         "orientation": "v",
         "showlegend": true,
         "textposition": "auto",
         "type": "bar",
         "x": [
          "Olympique Lyonnais"
         ],
         "xaxis": "x",
         "y": [
          7
         ],
         "yaxis": "y"
        },
        {
         "alignmentgroup": "True",
         "hovertemplate": "homeTeam=%{x}<br>totalScored=%{y}<extra></extra>",
         "legendgroup": "Paris Saint-Germain",
         "marker": {
          "color": "#00cc96",
          "pattern": {
           "shape": ""
          }
         },
         "name": "Paris Saint-Germain",
         "offsetgroup": "Paris Saint-Germain",
         "orientation": "v",
         "showlegend": true,
         "textposition": "auto",
         "type": "bar",
         "x": [
          "Paris Saint-Germain"
         ],
         "xaxis": "x",
         "y": [
          12
         ],
         "yaxis": "y"
        },
        {
         "alignmentgroup": "True",
         "hovertemplate": "homeTeam=%{x}<br>totalScored=%{y}<extra></extra>",
         "legendgroup": "RB Leipzig",
         "marker": {
          "color": "#ab63fa",
          "pattern": {
           "shape": ""
          }
         },
         "name": "RB Leipzig",
         "offsetgroup": "RB Leipzig",
         "orientation": "v",
         "showlegend": true,
         "textposition": "auto",
         "type": "bar",
         "x": [
          "RB Leipzig"
         ],
         "xaxis": "x",
         "y": [
          8
         ],
         "yaxis": "y"
        },
        {
         "alignmentgroup": "True",
         "hovertemplate": "homeTeam=%{x}<br>totalScored=%{y}<extra></extra>",
         "legendgroup": "Real Madrid",
         "marker": {
          "color": "#FFA15A",
          "pattern": {
           "shape": ""
          }
         },
         "name": "Real Madrid",
         "offsetgroup": "Real Madrid",
         "orientation": "v",
         "showlegend": true,
         "textposition": "auto",
         "type": "bar",
         "x": [
          "Real Madrid"
         ],
         "xaxis": "x",
         "y": [
          11
         ],
         "yaxis": "y"
        },
        {
         "alignmentgroup": "True",
         "hovertemplate": "homeTeam=%{x}<br>totalScored=%{y}<extra></extra>",
         "legendgroup": "Red Bull Salzburg",
         "marker": {
          "color": "#19d3f3",
          "pattern": {
           "shape": ""
          }
         },
         "name": "Red Bull Salzburg",
         "offsetgroup": "Red Bull Salzburg",
         "orientation": "v",
         "showlegend": true,
         "textposition": "auto",
         "type": "bar",
         "x": [
          "Red Bull Salzburg"
         ],
         "xaxis": "x",
         "y": [
          16
         ],
         "yaxis": "y"
        },
        {
         "alignmentgroup": "True",
         "hovertemplate": "homeTeam=%{x}<br>totalScored=%{y}<extra></extra>",
         "legendgroup": "SL Benfica",
         "marker": {
          "color": "#FF6692",
          "pattern": {
           "shape": ""
          }
         },
         "name": "SL Benfica",
         "offsetgroup": "SL Benfica",
         "orientation": "v",
         "showlegend": true,
         "textposition": "auto",
         "type": "bar",
         "x": [
          "SL Benfica"
         ],
         "xaxis": "x",
         "y": [
          7
         ],
         "yaxis": "y"
        },
        {
         "alignmentgroup": "True",
         "hovertemplate": "homeTeam=%{x}<br>totalScored=%{y}<extra></extra>",
         "legendgroup": "Shakhtar Donetsk",
         "marker": {
          "color": "#B6E880",
          "pattern": {
           "shape": ""
          }
         },
         "name": "Shakhtar Donetsk",
         "offsetgroup": "Shakhtar Donetsk",
         "orientation": "v",
         "showlegend": true,
         "textposition": "auto",
         "type": "bar",
         "x": [
          "Shakhtar Donetsk"
         ],
         "xaxis": "x",
         "y": [
          8
         ],
         "yaxis": "y"
        },
        {
         "alignmentgroup": "True",
         "hovertemplate": "homeTeam=%{x}<br>totalScored=%{y}<extra></extra>",
         "legendgroup": "Slavia Praha",
         "marker": {
          "color": "#FF97FF",
          "pattern": {
           "shape": ""
          }
         },
         "name": "Slavia Praha",
         "offsetgroup": "Slavia Praha",
         "orientation": "v",
         "showlegend": true,
         "textposition": "auto",
         "type": "bar",
         "x": [
          "Slavia Praha"
         ],
         "xaxis": "x",
         "y": [
          3
         ],
         "yaxis": "y"
        },
        {
         "alignmentgroup": "True",
         "hovertemplate": "homeTeam=%{x}<br>totalScored=%{y}<extra></extra>",
         "legendgroup": "Tottenham",
         "marker": {
          "color": "#FECB52",
          "pattern": {
           "shape": ""
          }
         },
         "name": "Tottenham",
         "offsetgroup": "Tottenham",
         "orientation": "v",
         "showlegend": true,
         "textposition": "auto",
         "type": "bar",
         "x": [
          "Tottenham"
         ],
         "xaxis": "x",
         "y": [
          17
         ],
         "yaxis": "y"
        },
        {
         "alignmentgroup": "True",
         "hovertemplate": "homeTeam=%{x}<br>totalScored=%{y}<extra></extra>",
         "legendgroup": "Valencia",
         "marker": {
          "color": "#636efa",
          "pattern": {
           "shape": ""
          }
         },
         "name": "Valencia",
         "offsetgroup": "Valencia",
         "orientation": "v",
         "showlegend": true,
         "textposition": "auto",
         "type": "bar",
         "x": [
          "Valencia"
         ],
         "xaxis": "x",
         "y": [
          8
         ],
         "yaxis": "y"
        },
        {
         "alignmentgroup": "True",
         "hovertemplate": "homeTeam=%{x}<br>totalScored=%{y}<extra></extra>",
         "legendgroup": "Zenit St. Petersburg",
         "marker": {
          "color": "#EF553B",
          "pattern": {
           "shape": ""
          }
         },
         "name": "Zenit St. Petersburg",
         "offsetgroup": "Zenit St. Petersburg",
         "orientation": "v",
         "showlegend": true,
         "textposition": "auto",
         "type": "bar",
         "x": [
          "Zenit St. Petersburg"
         ],
         "xaxis": "x",
         "y": [
          7
         ],
         "yaxis": "y"
        }
       ],
       "layout": {
        "barmode": "relative",
        "legend": {
         "title": {
          "text": "homeTeam"
         },
         "tracegroupgap": 0
        },
        "template": {
         "data": {
          "bar": [
           {
            "error_x": {
             "color": "#2a3f5f"
            },
            "error_y": {
             "color": "#2a3f5f"
            },
            "marker": {
             "line": {
              "color": "#E5ECF6",
              "width": 0.5
             },
             "pattern": {
              "fillmode": "overlay",
              "size": 10,
              "solidity": 0.2
             }
            },
            "type": "bar"
           }
          ],
          "barpolar": [
           {
            "marker": {
             "line": {
              "color": "#E5ECF6",
              "width": 0.5
             },
             "pattern": {
              "fillmode": "overlay",
              "size": 10,
              "solidity": 0.2
             }
            },
            "type": "barpolar"
           }
          ],
          "carpet": [
           {
            "aaxis": {
             "endlinecolor": "#2a3f5f",
             "gridcolor": "white",
             "linecolor": "white",
             "minorgridcolor": "white",
             "startlinecolor": "#2a3f5f"
            },
            "baxis": {
             "endlinecolor": "#2a3f5f",
             "gridcolor": "white",
             "linecolor": "white",
             "minorgridcolor": "white",
             "startlinecolor": "#2a3f5f"
            },
            "type": "carpet"
           }
          ],
          "choropleth": [
           {
            "colorbar": {
             "outlinewidth": 0,
             "ticks": ""
            },
            "type": "choropleth"
           }
          ],
          "contour": [
           {
            "colorbar": {
             "outlinewidth": 0,
             "ticks": ""
            },
            "colorscale": [
             [
              0,
              "#0d0887"
             ],
             [
              0.1111111111111111,
              "#46039f"
             ],
             [
              0.2222222222222222,
              "#7201a8"
             ],
             [
              0.3333333333333333,
              "#9c179e"
             ],
             [
              0.4444444444444444,
              "#bd3786"
             ],
             [
              0.5555555555555556,
              "#d8576b"
             ],
             [
              0.6666666666666666,
              "#ed7953"
             ],
             [
              0.7777777777777778,
              "#fb9f3a"
             ],
             [
              0.8888888888888888,
              "#fdca26"
             ],
             [
              1,
              "#f0f921"
             ]
            ],
            "type": "contour"
           }
          ],
          "contourcarpet": [
           {
            "colorbar": {
             "outlinewidth": 0,
             "ticks": ""
            },
            "type": "contourcarpet"
           }
          ],
          "heatmap": [
           {
            "colorbar": {
             "outlinewidth": 0,
             "ticks": ""
            },
            "colorscale": [
             [
              0,
              "#0d0887"
             ],
             [
              0.1111111111111111,
              "#46039f"
             ],
             [
              0.2222222222222222,
              "#7201a8"
             ],
             [
              0.3333333333333333,
              "#9c179e"
             ],
             [
              0.4444444444444444,
              "#bd3786"
             ],
             [
              0.5555555555555556,
              "#d8576b"
             ],
             [
              0.6666666666666666,
              "#ed7953"
             ],
             [
              0.7777777777777778,
              "#fb9f3a"
             ],
             [
              0.8888888888888888,
              "#fdca26"
             ],
             [
              1,
              "#f0f921"
             ]
            ],
            "type": "heatmap"
           }
          ],
          "heatmapgl": [
           {
            "colorbar": {
             "outlinewidth": 0,
             "ticks": ""
            },
            "colorscale": [
             [
              0,
              "#0d0887"
             ],
             [
              0.1111111111111111,
              "#46039f"
             ],
             [
              0.2222222222222222,
              "#7201a8"
             ],
             [
              0.3333333333333333,
              "#9c179e"
             ],
             [
              0.4444444444444444,
              "#bd3786"
             ],
             [
              0.5555555555555556,
              "#d8576b"
             ],
             [
              0.6666666666666666,
              "#ed7953"
             ],
             [
              0.7777777777777778,
              "#fb9f3a"
             ],
             [
              0.8888888888888888,
              "#fdca26"
             ],
             [
              1,
              "#f0f921"
             ]
            ],
            "type": "heatmapgl"
           }
          ],
          "histogram": [
           {
            "marker": {
             "pattern": {
              "fillmode": "overlay",
              "size": 10,
              "solidity": 0.2
             }
            },
            "type": "histogram"
           }
          ],
          "histogram2d": [
           {
            "colorbar": {
             "outlinewidth": 0,
             "ticks": ""
            },
            "colorscale": [
             [
              0,
              "#0d0887"
             ],
             [
              0.1111111111111111,
              "#46039f"
             ],
             [
              0.2222222222222222,
              "#7201a8"
             ],
             [
              0.3333333333333333,
              "#9c179e"
             ],
             [
              0.4444444444444444,
              "#bd3786"
             ],
             [
              0.5555555555555556,
              "#d8576b"
             ],
             [
              0.6666666666666666,
              "#ed7953"
             ],
             [
              0.7777777777777778,
              "#fb9f3a"
             ],
             [
              0.8888888888888888,
              "#fdca26"
             ],
             [
              1,
              "#f0f921"
             ]
            ],
            "type": "histogram2d"
           }
          ],
          "histogram2dcontour": [
           {
            "colorbar": {
             "outlinewidth": 0,
             "ticks": ""
            },
            "colorscale": [
             [
              0,
              "#0d0887"
             ],
             [
              0.1111111111111111,
              "#46039f"
             ],
             [
              0.2222222222222222,
              "#7201a8"
             ],
             [
              0.3333333333333333,
              "#9c179e"
             ],
             [
              0.4444444444444444,
              "#bd3786"
             ],
             [
              0.5555555555555556,
              "#d8576b"
             ],
             [
              0.6666666666666666,
              "#ed7953"
             ],
             [
              0.7777777777777778,
              "#fb9f3a"
             ],
             [
              0.8888888888888888,
              "#fdca26"
             ],
             [
              1,
              "#f0f921"
             ]
            ],
            "type": "histogram2dcontour"
           }
          ],
          "mesh3d": [
           {
            "colorbar": {
             "outlinewidth": 0,
             "ticks": ""
            },
            "type": "mesh3d"
           }
          ],
          "parcoords": [
           {
            "line": {
             "colorbar": {
              "outlinewidth": 0,
              "ticks": ""
             }
            },
            "type": "parcoords"
           }
          ],
          "pie": [
           {
            "automargin": true,
            "type": "pie"
           }
          ],
          "scatter": [
           {
            "marker": {
             "colorbar": {
              "outlinewidth": 0,
              "ticks": ""
             }
            },
            "type": "scatter"
           }
          ],
          "scatter3d": [
           {
            "line": {
             "colorbar": {
              "outlinewidth": 0,
              "ticks": ""
             }
            },
            "marker": {
             "colorbar": {
              "outlinewidth": 0,
              "ticks": ""
             }
            },
            "type": "scatter3d"
           }
          ],
          "scattercarpet": [
           {
            "marker": {
             "colorbar": {
              "outlinewidth": 0,
              "ticks": ""
             }
            },
            "type": "scattercarpet"
           }
          ],
          "scattergeo": [
           {
            "marker": {
             "colorbar": {
              "outlinewidth": 0,
              "ticks": ""
             }
            },
            "type": "scattergeo"
           }
          ],
          "scattergl": [
           {
            "marker": {
             "colorbar": {
              "outlinewidth": 0,
              "ticks": ""
             }
            },
            "type": "scattergl"
           }
          ],
          "scattermapbox": [
           {
            "marker": {
             "colorbar": {
              "outlinewidth": 0,
              "ticks": ""
             }
            },
            "type": "scattermapbox"
           }
          ],
          "scatterpolar": [
           {
            "marker": {
             "colorbar": {
              "outlinewidth": 0,
              "ticks": ""
             }
            },
            "type": "scatterpolar"
           }
          ],
          "scatterpolargl": [
           {
            "marker": {
             "colorbar": {
              "outlinewidth": 0,
              "ticks": ""
             }
            },
            "type": "scatterpolargl"
           }
          ],
          "scatterternary": [
           {
            "marker": {
             "colorbar": {
              "outlinewidth": 0,
              "ticks": ""
             }
            },
            "type": "scatterternary"
           }
          ],
          "surface": [
           {
            "colorbar": {
             "outlinewidth": 0,
             "ticks": ""
            },
            "colorscale": [
             [
              0,
              "#0d0887"
             ],
             [
              0.1111111111111111,
              "#46039f"
             ],
             [
              0.2222222222222222,
              "#7201a8"
             ],
             [
              0.3333333333333333,
              "#9c179e"
             ],
             [
              0.4444444444444444,
              "#bd3786"
             ],
             [
              0.5555555555555556,
              "#d8576b"
             ],
             [
              0.6666666666666666,
              "#ed7953"
             ],
             [
              0.7777777777777778,
              "#fb9f3a"
             ],
             [
              0.8888888888888888,
              "#fdca26"
             ],
             [
              1,
              "#f0f921"
             ]
            ],
            "type": "surface"
           }
          ],
          "table": [
           {
            "cells": {
             "fill": {
              "color": "#EBF0F8"
             },
             "line": {
              "color": "white"
             }
            },
            "header": {
             "fill": {
              "color": "#C8D4E3"
             },
             "line": {
              "color": "white"
             }
            },
            "type": "table"
           }
          ]
         },
         "layout": {
          "annotationdefaults": {
           "arrowcolor": "#2a3f5f",
           "arrowhead": 0,
           "arrowwidth": 1
          },
          "autotypenumbers": "strict",
          "coloraxis": {
           "colorbar": {
            "outlinewidth": 0,
            "ticks": ""
           }
          },
          "colorscale": {
           "diverging": [
            [
             0,
             "#8e0152"
            ],
            [
             0.1,
             "#c51b7d"
            ],
            [
             0.2,
             "#de77ae"
            ],
            [
             0.3,
             "#f1b6da"
            ],
            [
             0.4,
             "#fde0ef"
            ],
            [
             0.5,
             "#f7f7f7"
            ],
            [
             0.6,
             "#e6f5d0"
            ],
            [
             0.7,
             "#b8e186"
            ],
            [
             0.8,
             "#7fbc41"
            ],
            [
             0.9,
             "#4d9221"
            ],
            [
             1,
             "#276419"
            ]
           ],
           "sequential": [
            [
             0,
             "#0d0887"
            ],
            [
             0.1111111111111111,
             "#46039f"
            ],
            [
             0.2222222222222222,
             "#7201a8"
            ],
            [
             0.3333333333333333,
             "#9c179e"
            ],
            [
             0.4444444444444444,
             "#bd3786"
            ],
            [
             0.5555555555555556,
             "#d8576b"
            ],
            [
             0.6666666666666666,
             "#ed7953"
            ],
            [
             0.7777777777777778,
             "#fb9f3a"
            ],
            [
             0.8888888888888888,
             "#fdca26"
            ],
            [
             1,
             "#f0f921"
            ]
           ],
           "sequentialminus": [
            [
             0,
             "#0d0887"
            ],
            [
             0.1111111111111111,
             "#46039f"
            ],
            [
             0.2222222222222222,
             "#7201a8"
            ],
            [
             0.3333333333333333,
             "#9c179e"
            ],
            [
             0.4444444444444444,
             "#bd3786"
            ],
            [
             0.5555555555555556,
             "#d8576b"
            ],
            [
             0.6666666666666666,
             "#ed7953"
            ],
            [
             0.7777777777777778,
             "#fb9f3a"
            ],
            [
             0.8888888888888888,
             "#fdca26"
            ],
            [
             1,
             "#f0f921"
            ]
           ]
          },
          "colorway": [
           "#636efa",
           "#EF553B",
           "#00cc96",
           "#ab63fa",
           "#FFA15A",
           "#19d3f3",
           "#FF6692",
           "#B6E880",
           "#FF97FF",
           "#FECB52"
          ],
          "font": {
           "color": "#2a3f5f"
          },
          "geo": {
           "bgcolor": "white",
           "lakecolor": "white",
           "landcolor": "#E5ECF6",
           "showlakes": true,
           "showland": true,
           "subunitcolor": "white"
          },
          "hoverlabel": {
           "align": "left"
          },
          "hovermode": "closest",
          "mapbox": {
           "style": "light"
          },
          "paper_bgcolor": "white",
          "plot_bgcolor": "#E5ECF6",
          "polar": {
           "angularaxis": {
            "gridcolor": "white",
            "linecolor": "white",
            "ticks": ""
           },
           "bgcolor": "#E5ECF6",
           "radialaxis": {
            "gridcolor": "white",
            "linecolor": "white",
            "ticks": ""
           }
          },
          "scene": {
           "xaxis": {
            "backgroundcolor": "#E5ECF6",
            "gridcolor": "white",
            "gridwidth": 2,
            "linecolor": "white",
            "showbackground": true,
            "ticks": "",
            "zerolinecolor": "white"
           },
           "yaxis": {
            "backgroundcolor": "#E5ECF6",
            "gridcolor": "white",
            "gridwidth": 2,
            "linecolor": "white",
            "showbackground": true,
            "ticks": "",
            "zerolinecolor": "white"
           },
           "zaxis": {
            "backgroundcolor": "#E5ECF6",
            "gridcolor": "white",
            "gridwidth": 2,
            "linecolor": "white",
            "showbackground": true,
            "ticks": "",
            "zerolinecolor": "white"
           }
          },
          "shapedefaults": {
           "line": {
            "color": "#2a3f5f"
           }
          },
          "ternary": {
           "aaxis": {
            "gridcolor": "white",
            "linecolor": "white",
            "ticks": ""
           },
           "baxis": {
            "gridcolor": "white",
            "linecolor": "white",
            "ticks": ""
           },
           "bgcolor": "#E5ECF6",
           "caxis": {
            "gridcolor": "white",
            "linecolor": "white",
            "ticks": ""
           }
          },
          "title": {
           "x": 0.05
          },
          "xaxis": {
           "automargin": true,
           "gridcolor": "white",
           "linecolor": "white",
           "ticks": "",
           "title": {
            "standoff": 15
           },
           "zerolinecolor": "white",
           "zerolinewidth": 2
          },
          "yaxis": {
           "automargin": true,
           "gridcolor": "white",
           "linecolor": "white",
           "ticks": "",
           "title": {
            "standoff": 15
           },
           "zerolinecolor": "white",
           "zerolinewidth": 2
          }
         }
        },
        "title": {
         "text": "Most Goals Scored by a Team in Group Stages "
        },
        "xaxis": {
         "anchor": "y",
         "categoryarray": [
          "Ajax",
          "Atalanta",
          "Atlético Madrid",
          "Barcelona",
          "Bayer 04 Leverkusen",
          "Bayern München",
          "Borussia Dortmund",
          "Chelsea",
          "Club Brugge",
          "FK Crvena zvezda",
          "GNK Dinamo Zagreb",
          "Galatasaray",
          "Inter",
          "Juventus",
          "KRC Genk",
          "Lille OSC",
          "Liverpool",
          "Lokomotiv Moscow",
          "Manchester City",
          "Napoli",
          "Olympiacos",
          "Olympique Lyonnais",
          "Paris Saint-Germain",
          "RB Leipzig",
          "Real Madrid",
          "Red Bull Salzburg",
          "SL Benfica",
          "Shakhtar Donetsk",
          "Slavia Praha",
          "Tottenham",
          "Valencia",
          "Zenit St. Petersburg"
         ],
         "categoryorder": "array",
         "domain": [
          0,
          1
         ],
         "title": {
          "text": "homeTeam"
         }
        },
        "yaxis": {
         "anchor": "x",
         "domain": [
          0,
          1
         ],
         "title": {
          "text": "totalScored"
         }
        }
       }
      },
      "text/html": [
       "<div>                            <div id=\"0323d14b-8fcc-4be7-87e3-6ffd28143bf4\" class=\"plotly-graph-div\" style=\"height:525px; width:100%;\"></div>            <script type=\"text/javascript\">                require([\"plotly\"], function(Plotly) {                    window.PLOTLYENV=window.PLOTLYENV || {};                                    if (document.getElementById(\"0323d14b-8fcc-4be7-87e3-6ffd28143bf4\")) {                    Plotly.newPlot(                        \"0323d14b-8fcc-4be7-87e3-6ffd28143bf4\",                        [{\"alignmentgroup\":\"True\",\"hovertemplate\":\"homeTeam=%{x}<br>totalScored=%{y}<extra></extra>\",\"legendgroup\":\"Ajax\",\"marker\":{\"color\":\"#636efa\",\"pattern\":{\"shape\":\"\"}},\"name\":\"Ajax\",\"offsetgroup\":\"Ajax\",\"orientation\":\"v\",\"showlegend\":true,\"textposition\":\"auto\",\"type\":\"bar\",\"x\":[\"Ajax\"],\"xaxis\":\"x\",\"y\":[12],\"yaxis\":\"y\"},{\"alignmentgroup\":\"True\",\"hovertemplate\":\"homeTeam=%{x}<br>totalScored=%{y}<extra></extra>\",\"legendgroup\":\"Atalanta\",\"marker\":{\"color\":\"#EF553B\",\"pattern\":{\"shape\":\"\"}},\"name\":\"Atalanta\",\"offsetgroup\":\"Atalanta\",\"orientation\":\"v\",\"showlegend\":true,\"textposition\":\"auto\",\"type\":\"bar\",\"x\":[\"Atalanta\"],\"xaxis\":\"x\",\"y\":[5],\"yaxis\":\"y\"},{\"alignmentgroup\":\"True\",\"hovertemplate\":\"homeTeam=%{x}<br>totalScored=%{y}<extra></extra>\",\"legendgroup\":\"Atl\\u00e9tico Madrid\",\"marker\":{\"color\":\"#00cc96\",\"pattern\":{\"shape\":\"\"}},\"name\":\"Atl\\u00e9tico Madrid\",\"offsetgroup\":\"Atl\\u00e9tico Madrid\",\"orientation\":\"v\",\"showlegend\":true,\"textposition\":\"auto\",\"type\":\"bar\",\"x\":[\"Atl\\u00e9tico Madrid\"],\"xaxis\":\"x\",\"y\":[6],\"yaxis\":\"y\"},{\"alignmentgroup\":\"True\",\"hovertemplate\":\"homeTeam=%{x}<br>totalScored=%{y}<extra></extra>\",\"legendgroup\":\"Barcelona\",\"marker\":{\"color\":\"#ab63fa\",\"pattern\":{\"shape\":\"\"}},\"name\":\"Barcelona\",\"offsetgroup\":\"Barcelona\",\"orientation\":\"v\",\"showlegend\":true,\"textposition\":\"auto\",\"type\":\"bar\",\"x\":[\"Barcelona\"],\"xaxis\":\"x\",\"y\":[7],\"yaxis\":\"y\"},{\"alignmentgroup\":\"True\",\"hovertemplate\":\"homeTeam=%{x}<br>totalScored=%{y}<extra></extra>\",\"legendgroup\":\"Bayer 04 Leverkusen\",\"marker\":{\"color\":\"#FFA15A\",\"pattern\":{\"shape\":\"\"}},\"name\":\"Bayer 04 Leverkusen\",\"offsetgroup\":\"Bayer 04 Leverkusen\",\"orientation\":\"v\",\"showlegend\":true,\"textposition\":\"auto\",\"type\":\"bar\",\"x\":[\"Bayer 04 Leverkusen\"],\"xaxis\":\"x\",\"y\":[5],\"yaxis\":\"y\"},{\"alignmentgroup\":\"True\",\"hovertemplate\":\"homeTeam=%{x}<br>totalScored=%{y}<extra></extra>\",\"legendgroup\":\"Bayern M\\u00fcnchen\",\"marker\":{\"color\":\"#19d3f3\",\"pattern\":{\"shape\":\"\"}},\"name\":\"Bayern M\\u00fcnchen\",\"offsetgroup\":\"Bayern M\\u00fcnchen\",\"orientation\":\"v\",\"showlegend\":true,\"textposition\":\"auto\",\"type\":\"bar\",\"x\":[\"Bayern M\\u00fcnchen\"],\"xaxis\":\"x\",\"y\":[21],\"yaxis\":\"y\"},{\"alignmentgroup\":\"True\",\"hovertemplate\":\"homeTeam=%{x}<br>totalScored=%{y}<extra></extra>\",\"legendgroup\":\"Borussia Dortmund\",\"marker\":{\"color\":\"#FF6692\",\"pattern\":{\"shape\":\"\"}},\"name\":\"Borussia Dortmund\",\"offsetgroup\":\"Borussia Dortmund\",\"orientation\":\"v\",\"showlegend\":true,\"textposition\":\"auto\",\"type\":\"bar\",\"x\":[\"Borussia Dortmund\"],\"xaxis\":\"x\",\"y\":[6],\"yaxis\":\"y\"},{\"alignmentgroup\":\"True\",\"hovertemplate\":\"homeTeam=%{x}<br>totalScored=%{y}<extra></extra>\",\"legendgroup\":\"Chelsea\",\"marker\":{\"color\":\"#B6E880\",\"pattern\":{\"shape\":\"\"}},\"name\":\"Chelsea\",\"offsetgroup\":\"Chelsea\",\"orientation\":\"v\",\"showlegend\":true,\"textposition\":\"auto\",\"type\":\"bar\",\"x\":[\"Chelsea\"],\"xaxis\":\"x\",\"y\":[9],\"yaxis\":\"y\"},{\"alignmentgroup\":\"True\",\"hovertemplate\":\"homeTeam=%{x}<br>totalScored=%{y}<extra></extra>\",\"legendgroup\":\"Club Brugge\",\"marker\":{\"color\":\"#FF97FF\",\"pattern\":{\"shape\":\"\"}},\"name\":\"Club Brugge\",\"offsetgroup\":\"Club Brugge\",\"orientation\":\"v\",\"showlegend\":true,\"textposition\":\"auto\",\"type\":\"bar\",\"x\":[\"Club Brugge\"],\"xaxis\":\"x\",\"y\":[3],\"yaxis\":\"y\"},{\"alignmentgroup\":\"True\",\"hovertemplate\":\"homeTeam=%{x}<br>totalScored=%{y}<extra></extra>\",\"legendgroup\":\"FK Crvena zvezda\",\"marker\":{\"color\":\"#FECB52\",\"pattern\":{\"shape\":\"\"}},\"name\":\"FK Crvena zvezda\",\"offsetgroup\":\"FK Crvena zvezda\",\"orientation\":\"v\",\"showlegend\":true,\"textposition\":\"auto\",\"type\":\"bar\",\"x\":[\"FK Crvena zvezda\"],\"xaxis\":\"x\",\"y\":[3],\"yaxis\":\"y\"},{\"alignmentgroup\":\"True\",\"hovertemplate\":\"homeTeam=%{x}<br>totalScored=%{y}<extra></extra>\",\"legendgroup\":\"GNK Dinamo Zagreb\",\"marker\":{\"color\":\"#636efa\",\"pattern\":{\"shape\":\"\"}},\"name\":\"GNK Dinamo Zagreb\",\"offsetgroup\":\"GNK Dinamo Zagreb\",\"orientation\":\"v\",\"showlegend\":true,\"textposition\":\"auto\",\"type\":\"bar\",\"x\":[\"GNK Dinamo Zagreb\"],\"xaxis\":\"x\",\"y\":[9],\"yaxis\":\"y\"},{\"alignmentgroup\":\"True\",\"hovertemplate\":\"homeTeam=%{x}<br>totalScored=%{y}<extra></extra>\",\"legendgroup\":\"Galatasaray\",\"marker\":{\"color\":\"#EF553B\",\"pattern\":{\"shape\":\"\"}},\"name\":\"Galatasaray\",\"offsetgroup\":\"Galatasaray\",\"orientation\":\"v\",\"showlegend\":true,\"textposition\":\"auto\",\"type\":\"bar\",\"x\":[\"Galatasaray\"],\"xaxis\":\"x\",\"y\":[1],\"yaxis\":\"y\"},{\"alignmentgroup\":\"True\",\"hovertemplate\":\"homeTeam=%{x}<br>totalScored=%{y}<extra></extra>\",\"legendgroup\":\"Inter\",\"marker\":{\"color\":\"#00cc96\",\"pattern\":{\"shape\":\"\"}},\"name\":\"Inter\",\"offsetgroup\":\"Inter\",\"orientation\":\"v\",\"showlegend\":true,\"textposition\":\"auto\",\"type\":\"bar\",\"x\":[\"Inter\"],\"xaxis\":\"x\",\"y\":[9],\"yaxis\":\"y\"},{\"alignmentgroup\":\"True\",\"hovertemplate\":\"homeTeam=%{x}<br>totalScored=%{y}<extra></extra>\",\"legendgroup\":\"Juventus\",\"marker\":{\"color\":\"#ab63fa\",\"pattern\":{\"shape\":\"\"}},\"name\":\"Juventus\",\"offsetgroup\":\"Juventus\",\"orientation\":\"v\",\"showlegend\":true,\"textposition\":\"auto\",\"type\":\"bar\",\"x\":[\"Juventus\"],\"xaxis\":\"x\",\"y\":[10],\"yaxis\":\"y\"},{\"alignmentgroup\":\"True\",\"hovertemplate\":\"homeTeam=%{x}<br>totalScored=%{y}<extra></extra>\",\"legendgroup\":\"KRC Genk\",\"marker\":{\"color\":\"#FFA15A\",\"pattern\":{\"shape\":\"\"}},\"name\":\"KRC Genk\",\"offsetgroup\":\"KRC Genk\",\"orientation\":\"v\",\"showlegend\":true,\"textposition\":\"auto\",\"type\":\"bar\",\"x\":[\"KRC Genk\"],\"xaxis\":\"x\",\"y\":[5],\"yaxis\":\"y\"},{\"alignmentgroup\":\"True\",\"hovertemplate\":\"homeTeam=%{x}<br>totalScored=%{y}<extra></extra>\",\"legendgroup\":\"Lille OSC\",\"marker\":{\"color\":\"#19d3f3\",\"pattern\":{\"shape\":\"\"}},\"name\":\"Lille OSC\",\"offsetgroup\":\"Lille OSC\",\"orientation\":\"v\",\"showlegend\":true,\"textposition\":\"auto\",\"type\":\"bar\",\"x\":[\"Lille OSC\"],\"xaxis\":\"x\",\"y\":[3],\"yaxis\":\"y\"},{\"alignmentgroup\":\"True\",\"hovertemplate\":\"homeTeam=%{x}<br>totalScored=%{y}<extra></extra>\",\"legendgroup\":\"Liverpool\",\"marker\":{\"color\":\"#FF6692\",\"pattern\":{\"shape\":\"\"}},\"name\":\"Liverpool\",\"offsetgroup\":\"Liverpool\",\"orientation\":\"v\",\"showlegend\":true,\"textposition\":\"auto\",\"type\":\"bar\",\"x\":[\"Liverpool\"],\"xaxis\":\"x\",\"y\":[11],\"yaxis\":\"y\"},{\"alignmentgroup\":\"True\",\"hovertemplate\":\"homeTeam=%{x}<br>totalScored=%{y}<extra></extra>\",\"legendgroup\":\"Lokomotiv Moscow\",\"marker\":{\"color\":\"#B6E880\",\"pattern\":{\"shape\":\"\"}},\"name\":\"Lokomotiv Moscow\",\"offsetgroup\":\"Lokomotiv Moscow\",\"orientation\":\"v\",\"showlegend\":true,\"textposition\":\"auto\",\"type\":\"bar\",\"x\":[\"Lokomotiv Moscow\"],\"xaxis\":\"x\",\"y\":[4],\"yaxis\":\"y\"},{\"alignmentgroup\":\"True\",\"hovertemplate\":\"homeTeam=%{x}<br>totalScored=%{y}<extra></extra>\",\"legendgroup\":\"Manchester City\",\"marker\":{\"color\":\"#FF97FF\",\"pattern\":{\"shape\":\"\"}},\"name\":\"Manchester City\",\"offsetgroup\":\"Manchester City\",\"orientation\":\"v\",\"showlegend\":true,\"textposition\":\"auto\",\"type\":\"bar\",\"x\":[\"Manchester City\"],\"xaxis\":\"x\",\"y\":[12],\"yaxis\":\"y\"},{\"alignmentgroup\":\"True\",\"hovertemplate\":\"homeTeam=%{x}<br>totalScored=%{y}<extra></extra>\",\"legendgroup\":\"Napoli\",\"marker\":{\"color\":\"#FECB52\",\"pattern\":{\"shape\":\"\"}},\"name\":\"Napoli\",\"offsetgroup\":\"Napoli\",\"orientation\":\"v\",\"showlegend\":true,\"textposition\":\"auto\",\"type\":\"bar\",\"x\":[\"Napoli\"],\"xaxis\":\"x\",\"y\":[7],\"yaxis\":\"y\"},{\"alignmentgroup\":\"True\",\"hovertemplate\":\"homeTeam=%{x}<br>totalScored=%{y}<extra></extra>\",\"legendgroup\":\"Olympiacos\",\"marker\":{\"color\":\"#636efa\",\"pattern\":{\"shape\":\"\"}},\"name\":\"Olympiacos\",\"offsetgroup\":\"Olympiacos\",\"orientation\":\"v\",\"showlegend\":true,\"textposition\":\"auto\",\"type\":\"bar\",\"x\":[\"Olympiacos\"],\"xaxis\":\"x\",\"y\":[7],\"yaxis\":\"y\"},{\"alignmentgroup\":\"True\",\"hovertemplate\":\"homeTeam=%{x}<br>totalScored=%{y}<extra></extra>\",\"legendgroup\":\"Olympique Lyonnais\",\"marker\":{\"color\":\"#EF553B\",\"pattern\":{\"shape\":\"\"}},\"name\":\"Olympique Lyonnais\",\"offsetgroup\":\"Olympique Lyonnais\",\"orientation\":\"v\",\"showlegend\":true,\"textposition\":\"auto\",\"type\":\"bar\",\"x\":[\"Olympique Lyonnais\"],\"xaxis\":\"x\",\"y\":[7],\"yaxis\":\"y\"},{\"alignmentgroup\":\"True\",\"hovertemplate\":\"homeTeam=%{x}<br>totalScored=%{y}<extra></extra>\",\"legendgroup\":\"Paris Saint-Germain\",\"marker\":{\"color\":\"#00cc96\",\"pattern\":{\"shape\":\"\"}},\"name\":\"Paris Saint-Germain\",\"offsetgroup\":\"Paris Saint-Germain\",\"orientation\":\"v\",\"showlegend\":true,\"textposition\":\"auto\",\"type\":\"bar\",\"x\":[\"Paris Saint-Germain\"],\"xaxis\":\"x\",\"y\":[12],\"yaxis\":\"y\"},{\"alignmentgroup\":\"True\",\"hovertemplate\":\"homeTeam=%{x}<br>totalScored=%{y}<extra></extra>\",\"legendgroup\":\"RB Leipzig\",\"marker\":{\"color\":\"#ab63fa\",\"pattern\":{\"shape\":\"\"}},\"name\":\"RB Leipzig\",\"offsetgroup\":\"RB Leipzig\",\"orientation\":\"v\",\"showlegend\":true,\"textposition\":\"auto\",\"type\":\"bar\",\"x\":[\"RB Leipzig\"],\"xaxis\":\"x\",\"y\":[8],\"yaxis\":\"y\"},{\"alignmentgroup\":\"True\",\"hovertemplate\":\"homeTeam=%{x}<br>totalScored=%{y}<extra></extra>\",\"legendgroup\":\"Real Madrid\",\"marker\":{\"color\":\"#FFA15A\",\"pattern\":{\"shape\":\"\"}},\"name\":\"Real Madrid\",\"offsetgroup\":\"Real Madrid\",\"orientation\":\"v\",\"showlegend\":true,\"textposition\":\"auto\",\"type\":\"bar\",\"x\":[\"Real Madrid\"],\"xaxis\":\"x\",\"y\":[11],\"yaxis\":\"y\"},{\"alignmentgroup\":\"True\",\"hovertemplate\":\"homeTeam=%{x}<br>totalScored=%{y}<extra></extra>\",\"legendgroup\":\"Red Bull Salzburg\",\"marker\":{\"color\":\"#19d3f3\",\"pattern\":{\"shape\":\"\"}},\"name\":\"Red Bull Salzburg\",\"offsetgroup\":\"Red Bull Salzburg\",\"orientation\":\"v\",\"showlegend\":true,\"textposition\":\"auto\",\"type\":\"bar\",\"x\":[\"Red Bull Salzburg\"],\"xaxis\":\"x\",\"y\":[16],\"yaxis\":\"y\"},{\"alignmentgroup\":\"True\",\"hovertemplate\":\"homeTeam=%{x}<br>totalScored=%{y}<extra></extra>\",\"legendgroup\":\"SL Benfica\",\"marker\":{\"color\":\"#FF6692\",\"pattern\":{\"shape\":\"\"}},\"name\":\"SL Benfica\",\"offsetgroup\":\"SL Benfica\",\"orientation\":\"v\",\"showlegend\":true,\"textposition\":\"auto\",\"type\":\"bar\",\"x\":[\"SL Benfica\"],\"xaxis\":\"x\",\"y\":[7],\"yaxis\":\"y\"},{\"alignmentgroup\":\"True\",\"hovertemplate\":\"homeTeam=%{x}<br>totalScored=%{y}<extra></extra>\",\"legendgroup\":\"Shakhtar Donetsk\",\"marker\":{\"color\":\"#B6E880\",\"pattern\":{\"shape\":\"\"}},\"name\":\"Shakhtar Donetsk\",\"offsetgroup\":\"Shakhtar Donetsk\",\"orientation\":\"v\",\"showlegend\":true,\"textposition\":\"auto\",\"type\":\"bar\",\"x\":[\"Shakhtar Donetsk\"],\"xaxis\":\"x\",\"y\":[8],\"yaxis\":\"y\"},{\"alignmentgroup\":\"True\",\"hovertemplate\":\"homeTeam=%{x}<br>totalScored=%{y}<extra></extra>\",\"legendgroup\":\"Slavia Praha\",\"marker\":{\"color\":\"#FF97FF\",\"pattern\":{\"shape\":\"\"}},\"name\":\"Slavia Praha\",\"offsetgroup\":\"Slavia Praha\",\"orientation\":\"v\",\"showlegend\":true,\"textposition\":\"auto\",\"type\":\"bar\",\"x\":[\"Slavia Praha\"],\"xaxis\":\"x\",\"y\":[3],\"yaxis\":\"y\"},{\"alignmentgroup\":\"True\",\"hovertemplate\":\"homeTeam=%{x}<br>totalScored=%{y}<extra></extra>\",\"legendgroup\":\"Tottenham\",\"marker\":{\"color\":\"#FECB52\",\"pattern\":{\"shape\":\"\"}},\"name\":\"Tottenham\",\"offsetgroup\":\"Tottenham\",\"orientation\":\"v\",\"showlegend\":true,\"textposition\":\"auto\",\"type\":\"bar\",\"x\":[\"Tottenham\"],\"xaxis\":\"x\",\"y\":[17],\"yaxis\":\"y\"},{\"alignmentgroup\":\"True\",\"hovertemplate\":\"homeTeam=%{x}<br>totalScored=%{y}<extra></extra>\",\"legendgroup\":\"Valencia\",\"marker\":{\"color\":\"#636efa\",\"pattern\":{\"shape\":\"\"}},\"name\":\"Valencia\",\"offsetgroup\":\"Valencia\",\"orientation\":\"v\",\"showlegend\":true,\"textposition\":\"auto\",\"type\":\"bar\",\"x\":[\"Valencia\"],\"xaxis\":\"x\",\"y\":[8],\"yaxis\":\"y\"},{\"alignmentgroup\":\"True\",\"hovertemplate\":\"homeTeam=%{x}<br>totalScored=%{y}<extra></extra>\",\"legendgroup\":\"Zenit St. Petersburg\",\"marker\":{\"color\":\"#EF553B\",\"pattern\":{\"shape\":\"\"}},\"name\":\"Zenit St. Petersburg\",\"offsetgroup\":\"Zenit St. Petersburg\",\"orientation\":\"v\",\"showlegend\":true,\"textposition\":\"auto\",\"type\":\"bar\",\"x\":[\"Zenit St. Petersburg\"],\"xaxis\":\"x\",\"y\":[7],\"yaxis\":\"y\"}],                        {\"barmode\":\"relative\",\"legend\":{\"title\":{\"text\":\"homeTeam\"},\"tracegroupgap\":0},\"template\":{\"data\":{\"bar\":[{\"error_x\":{\"color\":\"#2a3f5f\"},\"error_y\":{\"color\":\"#2a3f5f\"},\"marker\":{\"line\":{\"color\":\"#E5ECF6\",\"width\":0.5},\"pattern\":{\"fillmode\":\"overlay\",\"size\":10,\"solidity\":0.2}},\"type\":\"bar\"}],\"barpolar\":[{\"marker\":{\"line\":{\"color\":\"#E5ECF6\",\"width\":0.5},\"pattern\":{\"fillmode\":\"overlay\",\"size\":10,\"solidity\":0.2}},\"type\":\"barpolar\"}],\"carpet\":[{\"aaxis\":{\"endlinecolor\":\"#2a3f5f\",\"gridcolor\":\"white\",\"linecolor\":\"white\",\"minorgridcolor\":\"white\",\"startlinecolor\":\"#2a3f5f\"},\"baxis\":{\"endlinecolor\":\"#2a3f5f\",\"gridcolor\":\"white\",\"linecolor\":\"white\",\"minorgridcolor\":\"white\",\"startlinecolor\":\"#2a3f5f\"},\"type\":\"carpet\"}],\"choropleth\":[{\"colorbar\":{\"outlinewidth\":0,\"ticks\":\"\"},\"type\":\"choropleth\"}],\"contour\":[{\"colorbar\":{\"outlinewidth\":0,\"ticks\":\"\"},\"colorscale\":[[0.0,\"#0d0887\"],[0.1111111111111111,\"#46039f\"],[0.2222222222222222,\"#7201a8\"],[0.3333333333333333,\"#9c179e\"],[0.4444444444444444,\"#bd3786\"],[0.5555555555555556,\"#d8576b\"],[0.6666666666666666,\"#ed7953\"],[0.7777777777777778,\"#fb9f3a\"],[0.8888888888888888,\"#fdca26\"],[1.0,\"#f0f921\"]],\"type\":\"contour\"}],\"contourcarpet\":[{\"colorbar\":{\"outlinewidth\":0,\"ticks\":\"\"},\"type\":\"contourcarpet\"}],\"heatmap\":[{\"colorbar\":{\"outlinewidth\":0,\"ticks\":\"\"},\"colorscale\":[[0.0,\"#0d0887\"],[0.1111111111111111,\"#46039f\"],[0.2222222222222222,\"#7201a8\"],[0.3333333333333333,\"#9c179e\"],[0.4444444444444444,\"#bd3786\"],[0.5555555555555556,\"#d8576b\"],[0.6666666666666666,\"#ed7953\"],[0.7777777777777778,\"#fb9f3a\"],[0.8888888888888888,\"#fdca26\"],[1.0,\"#f0f921\"]],\"type\":\"heatmap\"}],\"heatmapgl\":[{\"colorbar\":{\"outlinewidth\":0,\"ticks\":\"\"},\"colorscale\":[[0.0,\"#0d0887\"],[0.1111111111111111,\"#46039f\"],[0.2222222222222222,\"#7201a8\"],[0.3333333333333333,\"#9c179e\"],[0.4444444444444444,\"#bd3786\"],[0.5555555555555556,\"#d8576b\"],[0.6666666666666666,\"#ed7953\"],[0.7777777777777778,\"#fb9f3a\"],[0.8888888888888888,\"#fdca26\"],[1.0,\"#f0f921\"]],\"type\":\"heatmapgl\"}],\"histogram\":[{\"marker\":{\"pattern\":{\"fillmode\":\"overlay\",\"size\":10,\"solidity\":0.2}},\"type\":\"histogram\"}],\"histogram2d\":[{\"colorbar\":{\"outlinewidth\":0,\"ticks\":\"\"},\"colorscale\":[[0.0,\"#0d0887\"],[0.1111111111111111,\"#46039f\"],[0.2222222222222222,\"#7201a8\"],[0.3333333333333333,\"#9c179e\"],[0.4444444444444444,\"#bd3786\"],[0.5555555555555556,\"#d8576b\"],[0.6666666666666666,\"#ed7953\"],[0.7777777777777778,\"#fb9f3a\"],[0.8888888888888888,\"#fdca26\"],[1.0,\"#f0f921\"]],\"type\":\"histogram2d\"}],\"histogram2dcontour\":[{\"colorbar\":{\"outlinewidth\":0,\"ticks\":\"\"},\"colorscale\":[[0.0,\"#0d0887\"],[0.1111111111111111,\"#46039f\"],[0.2222222222222222,\"#7201a8\"],[0.3333333333333333,\"#9c179e\"],[0.4444444444444444,\"#bd3786\"],[0.5555555555555556,\"#d8576b\"],[0.6666666666666666,\"#ed7953\"],[0.7777777777777778,\"#fb9f3a\"],[0.8888888888888888,\"#fdca26\"],[1.0,\"#f0f921\"]],\"type\":\"histogram2dcontour\"}],\"mesh3d\":[{\"colorbar\":{\"outlinewidth\":0,\"ticks\":\"\"},\"type\":\"mesh3d\"}],\"parcoords\":[{\"line\":{\"colorbar\":{\"outlinewidth\":0,\"ticks\":\"\"}},\"type\":\"parcoords\"}],\"pie\":[{\"automargin\":true,\"type\":\"pie\"}],\"scatter\":[{\"marker\":{\"colorbar\":{\"outlinewidth\":0,\"ticks\":\"\"}},\"type\":\"scatter\"}],\"scatter3d\":[{\"line\":{\"colorbar\":{\"outlinewidth\":0,\"ticks\":\"\"}},\"marker\":{\"colorbar\":{\"outlinewidth\":0,\"ticks\":\"\"}},\"type\":\"scatter3d\"}],\"scattercarpet\":[{\"marker\":{\"colorbar\":{\"outlinewidth\":0,\"ticks\":\"\"}},\"type\":\"scattercarpet\"}],\"scattergeo\":[{\"marker\":{\"colorbar\":{\"outlinewidth\":0,\"ticks\":\"\"}},\"type\":\"scattergeo\"}],\"scattergl\":[{\"marker\":{\"colorbar\":{\"outlinewidth\":0,\"ticks\":\"\"}},\"type\":\"scattergl\"}],\"scattermapbox\":[{\"marker\":{\"colorbar\":{\"outlinewidth\":0,\"ticks\":\"\"}},\"type\":\"scattermapbox\"}],\"scatterpolar\":[{\"marker\":{\"colorbar\":{\"outlinewidth\":0,\"ticks\":\"\"}},\"type\":\"scatterpolar\"}],\"scatterpolargl\":[{\"marker\":{\"colorbar\":{\"outlinewidth\":0,\"ticks\":\"\"}},\"type\":\"scatterpolargl\"}],\"scatterternary\":[{\"marker\":{\"colorbar\":{\"outlinewidth\":0,\"ticks\":\"\"}},\"type\":\"scatterternary\"}],\"surface\":[{\"colorbar\":{\"outlinewidth\":0,\"ticks\":\"\"},\"colorscale\":[[0.0,\"#0d0887\"],[0.1111111111111111,\"#46039f\"],[0.2222222222222222,\"#7201a8\"],[0.3333333333333333,\"#9c179e\"],[0.4444444444444444,\"#bd3786\"],[0.5555555555555556,\"#d8576b\"],[0.6666666666666666,\"#ed7953\"],[0.7777777777777778,\"#fb9f3a\"],[0.8888888888888888,\"#fdca26\"],[1.0,\"#f0f921\"]],\"type\":\"surface\"}],\"table\":[{\"cells\":{\"fill\":{\"color\":\"#EBF0F8\"},\"line\":{\"color\":\"white\"}},\"header\":{\"fill\":{\"color\":\"#C8D4E3\"},\"line\":{\"color\":\"white\"}},\"type\":\"table\"}]},\"layout\":{\"annotationdefaults\":{\"arrowcolor\":\"#2a3f5f\",\"arrowhead\":0,\"arrowwidth\":1},\"autotypenumbers\":\"strict\",\"coloraxis\":{\"colorbar\":{\"outlinewidth\":0,\"ticks\":\"\"}},\"colorscale\":{\"diverging\":[[0,\"#8e0152\"],[0.1,\"#c51b7d\"],[0.2,\"#de77ae\"],[0.3,\"#f1b6da\"],[0.4,\"#fde0ef\"],[0.5,\"#f7f7f7\"],[0.6,\"#e6f5d0\"],[0.7,\"#b8e186\"],[0.8,\"#7fbc41\"],[0.9,\"#4d9221\"],[1,\"#276419\"]],\"sequential\":[[0.0,\"#0d0887\"],[0.1111111111111111,\"#46039f\"],[0.2222222222222222,\"#7201a8\"],[0.3333333333333333,\"#9c179e\"],[0.4444444444444444,\"#bd3786\"],[0.5555555555555556,\"#d8576b\"],[0.6666666666666666,\"#ed7953\"],[0.7777777777777778,\"#fb9f3a\"],[0.8888888888888888,\"#fdca26\"],[1.0,\"#f0f921\"]],\"sequentialminus\":[[0.0,\"#0d0887\"],[0.1111111111111111,\"#46039f\"],[0.2222222222222222,\"#7201a8\"],[0.3333333333333333,\"#9c179e\"],[0.4444444444444444,\"#bd3786\"],[0.5555555555555556,\"#d8576b\"],[0.6666666666666666,\"#ed7953\"],[0.7777777777777778,\"#fb9f3a\"],[0.8888888888888888,\"#fdca26\"],[1.0,\"#f0f921\"]]},\"colorway\":[\"#636efa\",\"#EF553B\",\"#00cc96\",\"#ab63fa\",\"#FFA15A\",\"#19d3f3\",\"#FF6692\",\"#B6E880\",\"#FF97FF\",\"#FECB52\"],\"font\":{\"color\":\"#2a3f5f\"},\"geo\":{\"bgcolor\":\"white\",\"lakecolor\":\"white\",\"landcolor\":\"#E5ECF6\",\"showlakes\":true,\"showland\":true,\"subunitcolor\":\"white\"},\"hoverlabel\":{\"align\":\"left\"},\"hovermode\":\"closest\",\"mapbox\":{\"style\":\"light\"},\"paper_bgcolor\":\"white\",\"plot_bgcolor\":\"#E5ECF6\",\"polar\":{\"angularaxis\":{\"gridcolor\":\"white\",\"linecolor\":\"white\",\"ticks\":\"\"},\"bgcolor\":\"#E5ECF6\",\"radialaxis\":{\"gridcolor\":\"white\",\"linecolor\":\"white\",\"ticks\":\"\"}},\"scene\":{\"xaxis\":{\"backgroundcolor\":\"#E5ECF6\",\"gridcolor\":\"white\",\"gridwidth\":2,\"linecolor\":\"white\",\"showbackground\":true,\"ticks\":\"\",\"zerolinecolor\":\"white\"},\"yaxis\":{\"backgroundcolor\":\"#E5ECF6\",\"gridcolor\":\"white\",\"gridwidth\":2,\"linecolor\":\"white\",\"showbackground\":true,\"ticks\":\"\",\"zerolinecolor\":\"white\"},\"zaxis\":{\"backgroundcolor\":\"#E5ECF6\",\"gridcolor\":\"white\",\"gridwidth\":2,\"linecolor\":\"white\",\"showbackground\":true,\"ticks\":\"\",\"zerolinecolor\":\"white\"}},\"shapedefaults\":{\"line\":{\"color\":\"#2a3f5f\"}},\"ternary\":{\"aaxis\":{\"gridcolor\":\"white\",\"linecolor\":\"white\",\"ticks\":\"\"},\"baxis\":{\"gridcolor\":\"white\",\"linecolor\":\"white\",\"ticks\":\"\"},\"bgcolor\":\"#E5ECF6\",\"caxis\":{\"gridcolor\":\"white\",\"linecolor\":\"white\",\"ticks\":\"\"}},\"title\":{\"x\":0.05},\"xaxis\":{\"automargin\":true,\"gridcolor\":\"white\",\"linecolor\":\"white\",\"ticks\":\"\",\"title\":{\"standoff\":15},\"zerolinecolor\":\"white\",\"zerolinewidth\":2},\"yaxis\":{\"automargin\":true,\"gridcolor\":\"white\",\"linecolor\":\"white\",\"ticks\":\"\",\"title\":{\"standoff\":15},\"zerolinecolor\":\"white\",\"zerolinewidth\":2}}},\"title\":{\"text\":\"Most Goals Scored by a Team in Group Stages \"},\"xaxis\":{\"anchor\":\"y\",\"categoryarray\":[\"Ajax\",\"Atalanta\",\"Atl\\u00e9tico Madrid\",\"Barcelona\",\"Bayer 04 Leverkusen\",\"Bayern M\\u00fcnchen\",\"Borussia Dortmund\",\"Chelsea\",\"Club Brugge\",\"FK Crvena zvezda\",\"GNK Dinamo Zagreb\",\"Galatasaray\",\"Inter\",\"Juventus\",\"KRC Genk\",\"Lille OSC\",\"Liverpool\",\"Lokomotiv Moscow\",\"Manchester City\",\"Napoli\",\"Olympiacos\",\"Olympique Lyonnais\",\"Paris Saint-Germain\",\"RB Leipzig\",\"Real Madrid\",\"Red Bull Salzburg\",\"SL Benfica\",\"Shakhtar Donetsk\",\"Slavia Praha\",\"Tottenham\",\"Valencia\",\"Zenit St. Petersburg\"],\"categoryorder\":\"array\",\"domain\":[0.0,1.0],\"title\":{\"text\":\"homeTeam\"}},\"yaxis\":{\"anchor\":\"x\",\"domain\":[0.0,1.0],\"title\":{\"text\":\"totalScored\"}}},                        {\"responsive\": true}                    ).then(function(){\n",
       "                            \n",
       "var gd = document.getElementById('0323d14b-8fcc-4be7-87e3-6ffd28143bf4');\n",
       "var x = new MutationObserver(function (mutations, observer) {{\n",
       "        var display = window.getComputedStyle(gd).display;\n",
       "        if (!display || display === 'none') {{\n",
       "            console.log([gd, 'removed!']);\n",
       "            Plotly.purge(gd);\n",
       "            observer.disconnect();\n",
       "        }}\n",
       "}});\n",
       "\n",
       "// Listen for the removal of the full notebook cells\n",
       "var notebookContainer = gd.closest('#notebook-container');\n",
       "if (notebookContainer) {{\n",
       "    x.observe(notebookContainer, {childList: true});\n",
       "}}\n",
       "\n",
       "// Listen for the clearing of the current output cell\n",
       "var outputEl = gd.closest('.output');\n",
       "if (outputEl) {{\n",
       "    x.observe(outputEl, {childList: true});\n",
       "}}\n",
       "\n",
       "                        })                };                });            </script>        </div>"
      ]
     },
     "metadata": {},
     "output_type": "display_data"
    }
   ],
   "source": [
    "fig = px.bar(total_scores_scored_by_team, x=total_scores_scored_by_team.index, y=\"totalScored\", title='Most Goals Scored by a Team in Group Stages ',color=total_scores_scored_by_team.index)\n",
    "fig.show()"
   ]
  },
  {
   "cell_type": "code",
   "execution_count": 1315,
   "id": "513ce3bb",
   "metadata": {},
   "outputs": [
    {
     "data": {
      "application/vnd.plotly.v1+json": {
       "config": {
        "plotlyServerURL": "https://plot.ly"
       },
       "data": [
        {
         "alignmentgroup": "True",
         "hovertemplate": "homeTeam=%{x}<br>totalScored=%{y}<extra></extra>",
         "legendgroup": "Ajax",
         "marker": {
          "color": "#636efa"
         },
         "name": "Ajax",
         "notched": true,
         "offsetgroup": "Ajax",
         "orientation": "v",
         "showlegend": true,
         "type": "box",
         "x": [
          "Ajax"
         ],
         "x0": " ",
         "xaxis": "x",
         "y": [
          12
         ],
         "y0": " ",
         "yaxis": "y"
        },
        {
         "alignmentgroup": "True",
         "hovertemplate": "homeTeam=%{x}<br>totalScored=%{y}<extra></extra>",
         "legendgroup": "Atalanta",
         "marker": {
          "color": "#EF553B"
         },
         "name": "Atalanta",
         "notched": true,
         "offsetgroup": "Atalanta",
         "orientation": "v",
         "showlegend": true,
         "type": "box",
         "x": [
          "Atalanta"
         ],
         "x0": " ",
         "xaxis": "x",
         "y": [
          5
         ],
         "y0": " ",
         "yaxis": "y"
        },
        {
         "alignmentgroup": "True",
         "hovertemplate": "homeTeam=%{x}<br>totalScored=%{y}<extra></extra>",
         "legendgroup": "Atlético Madrid",
         "marker": {
          "color": "#00cc96"
         },
         "name": "Atlético Madrid",
         "notched": true,
         "offsetgroup": "Atlético Madrid",
         "orientation": "v",
         "showlegend": true,
         "type": "box",
         "x": [
          "Atlético Madrid"
         ],
         "x0": " ",
         "xaxis": "x",
         "y": [
          6
         ],
         "y0": " ",
         "yaxis": "y"
        },
        {
         "alignmentgroup": "True",
         "hovertemplate": "homeTeam=%{x}<br>totalScored=%{y}<extra></extra>",
         "legendgroup": "Barcelona",
         "marker": {
          "color": "#ab63fa"
         },
         "name": "Barcelona",
         "notched": true,
         "offsetgroup": "Barcelona",
         "orientation": "v",
         "showlegend": true,
         "type": "box",
         "x": [
          "Barcelona"
         ],
         "x0": " ",
         "xaxis": "x",
         "y": [
          7
         ],
         "y0": " ",
         "yaxis": "y"
        },
        {
         "alignmentgroup": "True",
         "hovertemplate": "homeTeam=%{x}<br>totalScored=%{y}<extra></extra>",
         "legendgroup": "Bayer 04 Leverkusen",
         "marker": {
          "color": "#FFA15A"
         },
         "name": "Bayer 04 Leverkusen",
         "notched": true,
         "offsetgroup": "Bayer 04 Leverkusen",
         "orientation": "v",
         "showlegend": true,
         "type": "box",
         "x": [
          "Bayer 04 Leverkusen"
         ],
         "x0": " ",
         "xaxis": "x",
         "y": [
          5
         ],
         "y0": " ",
         "yaxis": "y"
        },
        {
         "alignmentgroup": "True",
         "hovertemplate": "homeTeam=%{x}<br>totalScored=%{y}<extra></extra>",
         "legendgroup": "Bayern München",
         "marker": {
          "color": "#19d3f3"
         },
         "name": "Bayern München",
         "notched": true,
         "offsetgroup": "Bayern München",
         "orientation": "v",
         "showlegend": true,
         "type": "box",
         "x": [
          "Bayern München"
         ],
         "x0": " ",
         "xaxis": "x",
         "y": [
          21
         ],
         "y0": " ",
         "yaxis": "y"
        },
        {
         "alignmentgroup": "True",
         "hovertemplate": "homeTeam=%{x}<br>totalScored=%{y}<extra></extra>",
         "legendgroup": "Borussia Dortmund",
         "marker": {
          "color": "#FF6692"
         },
         "name": "Borussia Dortmund",
         "notched": true,
         "offsetgroup": "Borussia Dortmund",
         "orientation": "v",
         "showlegend": true,
         "type": "box",
         "x": [
          "Borussia Dortmund"
         ],
         "x0": " ",
         "xaxis": "x",
         "y": [
          6
         ],
         "y0": " ",
         "yaxis": "y"
        },
        {
         "alignmentgroup": "True",
         "hovertemplate": "homeTeam=%{x}<br>totalScored=%{y}<extra></extra>",
         "legendgroup": "Chelsea",
         "marker": {
          "color": "#B6E880"
         },
         "name": "Chelsea",
         "notched": true,
         "offsetgroup": "Chelsea",
         "orientation": "v",
         "showlegend": true,
         "type": "box",
         "x": [
          "Chelsea"
         ],
         "x0": " ",
         "xaxis": "x",
         "y": [
          9
         ],
         "y0": " ",
         "yaxis": "y"
        },
        {
         "alignmentgroup": "True",
         "hovertemplate": "homeTeam=%{x}<br>totalScored=%{y}<extra></extra>",
         "legendgroup": "Club Brugge",
         "marker": {
          "color": "#FF97FF"
         },
         "name": "Club Brugge",
         "notched": true,
         "offsetgroup": "Club Brugge",
         "orientation": "v",
         "showlegend": true,
         "type": "box",
         "x": [
          "Club Brugge"
         ],
         "x0": " ",
         "xaxis": "x",
         "y": [
          3
         ],
         "y0": " ",
         "yaxis": "y"
        },
        {
         "alignmentgroup": "True",
         "hovertemplate": "homeTeam=%{x}<br>totalScored=%{y}<extra></extra>",
         "legendgroup": "FK Crvena zvezda",
         "marker": {
          "color": "#FECB52"
         },
         "name": "FK Crvena zvezda",
         "notched": true,
         "offsetgroup": "FK Crvena zvezda",
         "orientation": "v",
         "showlegend": true,
         "type": "box",
         "x": [
          "FK Crvena zvezda"
         ],
         "x0": " ",
         "xaxis": "x",
         "y": [
          3
         ],
         "y0": " ",
         "yaxis": "y"
        },
        {
         "alignmentgroup": "True",
         "hovertemplate": "homeTeam=%{x}<br>totalScored=%{y}<extra></extra>",
         "legendgroup": "GNK Dinamo Zagreb",
         "marker": {
          "color": "#636efa"
         },
         "name": "GNK Dinamo Zagreb",
         "notched": true,
         "offsetgroup": "GNK Dinamo Zagreb",
         "orientation": "v",
         "showlegend": true,
         "type": "box",
         "x": [
          "GNK Dinamo Zagreb"
         ],
         "x0": " ",
         "xaxis": "x",
         "y": [
          9
         ],
         "y0": " ",
         "yaxis": "y"
        },
        {
         "alignmentgroup": "True",
         "hovertemplate": "homeTeam=%{x}<br>totalScored=%{y}<extra></extra>",
         "legendgroup": "Galatasaray",
         "marker": {
          "color": "#EF553B"
         },
         "name": "Galatasaray",
         "notched": true,
         "offsetgroup": "Galatasaray",
         "orientation": "v",
         "showlegend": true,
         "type": "box",
         "x": [
          "Galatasaray"
         ],
         "x0": " ",
         "xaxis": "x",
         "y": [
          1
         ],
         "y0": " ",
         "yaxis": "y"
        },
        {
         "alignmentgroup": "True",
         "hovertemplate": "homeTeam=%{x}<br>totalScored=%{y}<extra></extra>",
         "legendgroup": "Inter",
         "marker": {
          "color": "#00cc96"
         },
         "name": "Inter",
         "notched": true,
         "offsetgroup": "Inter",
         "orientation": "v",
         "showlegend": true,
         "type": "box",
         "x": [
          "Inter"
         ],
         "x0": " ",
         "xaxis": "x",
         "y": [
          9
         ],
         "y0": " ",
         "yaxis": "y"
        },
        {
         "alignmentgroup": "True",
         "hovertemplate": "homeTeam=%{x}<br>totalScored=%{y}<extra></extra>",
         "legendgroup": "Juventus",
         "marker": {
          "color": "#ab63fa"
         },
         "name": "Juventus",
         "notched": true,
         "offsetgroup": "Juventus",
         "orientation": "v",
         "showlegend": true,
         "type": "box",
         "x": [
          "Juventus"
         ],
         "x0": " ",
         "xaxis": "x",
         "y": [
          10
         ],
         "y0": " ",
         "yaxis": "y"
        },
        {
         "alignmentgroup": "True",
         "hovertemplate": "homeTeam=%{x}<br>totalScored=%{y}<extra></extra>",
         "legendgroup": "KRC Genk",
         "marker": {
          "color": "#FFA15A"
         },
         "name": "KRC Genk",
         "notched": true,
         "offsetgroup": "KRC Genk",
         "orientation": "v",
         "showlegend": true,
         "type": "box",
         "x": [
          "KRC Genk"
         ],
         "x0": " ",
         "xaxis": "x",
         "y": [
          5
         ],
         "y0": " ",
         "yaxis": "y"
        },
        {
         "alignmentgroup": "True",
         "hovertemplate": "homeTeam=%{x}<br>totalScored=%{y}<extra></extra>",
         "legendgroup": "Lille OSC",
         "marker": {
          "color": "#19d3f3"
         },
         "name": "Lille OSC",
         "notched": true,
         "offsetgroup": "Lille OSC",
         "orientation": "v",
         "showlegend": true,
         "type": "box",
         "x": [
          "Lille OSC"
         ],
         "x0": " ",
         "xaxis": "x",
         "y": [
          3
         ],
         "y0": " ",
         "yaxis": "y"
        },
        {
         "alignmentgroup": "True",
         "hovertemplate": "homeTeam=%{x}<br>totalScored=%{y}<extra></extra>",
         "legendgroup": "Liverpool",
         "marker": {
          "color": "#FF6692"
         },
         "name": "Liverpool",
         "notched": true,
         "offsetgroup": "Liverpool",
         "orientation": "v",
         "showlegend": true,
         "type": "box",
         "x": [
          "Liverpool"
         ],
         "x0": " ",
         "xaxis": "x",
         "y": [
          11
         ],
         "y0": " ",
         "yaxis": "y"
        },
        {
         "alignmentgroup": "True",
         "hovertemplate": "homeTeam=%{x}<br>totalScored=%{y}<extra></extra>",
         "legendgroup": "Lokomotiv Moscow",
         "marker": {
          "color": "#B6E880"
         },
         "name": "Lokomotiv Moscow",
         "notched": true,
         "offsetgroup": "Lokomotiv Moscow",
         "orientation": "v",
         "showlegend": true,
         "type": "box",
         "x": [
          "Lokomotiv Moscow"
         ],
         "x0": " ",
         "xaxis": "x",
         "y": [
          4
         ],
         "y0": " ",
         "yaxis": "y"
        },
        {
         "alignmentgroup": "True",
         "hovertemplate": "homeTeam=%{x}<br>totalScored=%{y}<extra></extra>",
         "legendgroup": "Manchester City",
         "marker": {
          "color": "#FF97FF"
         },
         "name": "Manchester City",
         "notched": true,
         "offsetgroup": "Manchester City",
         "orientation": "v",
         "showlegend": true,
         "type": "box",
         "x": [
          "Manchester City"
         ],
         "x0": " ",
         "xaxis": "x",
         "y": [
          12
         ],
         "y0": " ",
         "yaxis": "y"
        },
        {
         "alignmentgroup": "True",
         "hovertemplate": "homeTeam=%{x}<br>totalScored=%{y}<extra></extra>",
         "legendgroup": "Napoli",
         "marker": {
          "color": "#FECB52"
         },
         "name": "Napoli",
         "notched": true,
         "offsetgroup": "Napoli",
         "orientation": "v",
         "showlegend": true,
         "type": "box",
         "x": [
          "Napoli"
         ],
         "x0": " ",
         "xaxis": "x",
         "y": [
          7
         ],
         "y0": " ",
         "yaxis": "y"
        },
        {
         "alignmentgroup": "True",
         "hovertemplate": "homeTeam=%{x}<br>totalScored=%{y}<extra></extra>",
         "legendgroup": "Olympiacos",
         "marker": {
          "color": "#636efa"
         },
         "name": "Olympiacos",
         "notched": true,
         "offsetgroup": "Olympiacos",
         "orientation": "v",
         "showlegend": true,
         "type": "box",
         "x": [
          "Olympiacos"
         ],
         "x0": " ",
         "xaxis": "x",
         "y": [
          7
         ],
         "y0": " ",
         "yaxis": "y"
        },
        {
         "alignmentgroup": "True",
         "hovertemplate": "homeTeam=%{x}<br>totalScored=%{y}<extra></extra>",
         "legendgroup": "Olympique Lyonnais",
         "marker": {
          "color": "#EF553B"
         },
         "name": "Olympique Lyonnais",
         "notched": true,
         "offsetgroup": "Olympique Lyonnais",
         "orientation": "v",
         "showlegend": true,
         "type": "box",
         "x": [
          "Olympique Lyonnais"
         ],
         "x0": " ",
         "xaxis": "x",
         "y": [
          7
         ],
         "y0": " ",
         "yaxis": "y"
        },
        {
         "alignmentgroup": "True",
         "hovertemplate": "homeTeam=%{x}<br>totalScored=%{y}<extra></extra>",
         "legendgroup": "Paris Saint-Germain",
         "marker": {
          "color": "#00cc96"
         },
         "name": "Paris Saint-Germain",
         "notched": true,
         "offsetgroup": "Paris Saint-Germain",
         "orientation": "v",
         "showlegend": true,
         "type": "box",
         "x": [
          "Paris Saint-Germain"
         ],
         "x0": " ",
         "xaxis": "x",
         "y": [
          12
         ],
         "y0": " ",
         "yaxis": "y"
        },
        {
         "alignmentgroup": "True",
         "hovertemplate": "homeTeam=%{x}<br>totalScored=%{y}<extra></extra>",
         "legendgroup": "RB Leipzig",
         "marker": {
          "color": "#ab63fa"
         },
         "name": "RB Leipzig",
         "notched": true,
         "offsetgroup": "RB Leipzig",
         "orientation": "v",
         "showlegend": true,
         "type": "box",
         "x": [
          "RB Leipzig"
         ],
         "x0": " ",
         "xaxis": "x",
         "y": [
          8
         ],
         "y0": " ",
         "yaxis": "y"
        },
        {
         "alignmentgroup": "True",
         "hovertemplate": "homeTeam=%{x}<br>totalScored=%{y}<extra></extra>",
         "legendgroup": "Real Madrid",
         "marker": {
          "color": "#FFA15A"
         },
         "name": "Real Madrid",
         "notched": true,
         "offsetgroup": "Real Madrid",
         "orientation": "v",
         "showlegend": true,
         "type": "box",
         "x": [
          "Real Madrid"
         ],
         "x0": " ",
         "xaxis": "x",
         "y": [
          11
         ],
         "y0": " ",
         "yaxis": "y"
        },
        {
         "alignmentgroup": "True",
         "hovertemplate": "homeTeam=%{x}<br>totalScored=%{y}<extra></extra>",
         "legendgroup": "Red Bull Salzburg",
         "marker": {
          "color": "#19d3f3"
         },
         "name": "Red Bull Salzburg",
         "notched": true,
         "offsetgroup": "Red Bull Salzburg",
         "orientation": "v",
         "showlegend": true,
         "type": "box",
         "x": [
          "Red Bull Salzburg"
         ],
         "x0": " ",
         "xaxis": "x",
         "y": [
          16
         ],
         "y0": " ",
         "yaxis": "y"
        },
        {
         "alignmentgroup": "True",
         "hovertemplate": "homeTeam=%{x}<br>totalScored=%{y}<extra></extra>",
         "legendgroup": "SL Benfica",
         "marker": {
          "color": "#FF6692"
         },
         "name": "SL Benfica",
         "notched": true,
         "offsetgroup": "SL Benfica",
         "orientation": "v",
         "showlegend": true,
         "type": "box",
         "x": [
          "SL Benfica"
         ],
         "x0": " ",
         "xaxis": "x",
         "y": [
          7
         ],
         "y0": " ",
         "yaxis": "y"
        },
        {
         "alignmentgroup": "True",
         "hovertemplate": "homeTeam=%{x}<br>totalScored=%{y}<extra></extra>",
         "legendgroup": "Shakhtar Donetsk",
         "marker": {
          "color": "#B6E880"
         },
         "name": "Shakhtar Donetsk",
         "notched": true,
         "offsetgroup": "Shakhtar Donetsk",
         "orientation": "v",
         "showlegend": true,
         "type": "box",
         "x": [
          "Shakhtar Donetsk"
         ],
         "x0": " ",
         "xaxis": "x",
         "y": [
          8
         ],
         "y0": " ",
         "yaxis": "y"
        },
        {
         "alignmentgroup": "True",
         "hovertemplate": "homeTeam=%{x}<br>totalScored=%{y}<extra></extra>",
         "legendgroup": "Slavia Praha",
         "marker": {
          "color": "#FF97FF"
         },
         "name": "Slavia Praha",
         "notched": true,
         "offsetgroup": "Slavia Praha",
         "orientation": "v",
         "showlegend": true,
         "type": "box",
         "x": [
          "Slavia Praha"
         ],
         "x0": " ",
         "xaxis": "x",
         "y": [
          3
         ],
         "y0": " ",
         "yaxis": "y"
        },
        {
         "alignmentgroup": "True",
         "hovertemplate": "homeTeam=%{x}<br>totalScored=%{y}<extra></extra>",
         "legendgroup": "Tottenham",
         "marker": {
          "color": "#FECB52"
         },
         "name": "Tottenham",
         "notched": true,
         "offsetgroup": "Tottenham",
         "orientation": "v",
         "showlegend": true,
         "type": "box",
         "x": [
          "Tottenham"
         ],
         "x0": " ",
         "xaxis": "x",
         "y": [
          17
         ],
         "y0": " ",
         "yaxis": "y"
        },
        {
         "alignmentgroup": "True",
         "hovertemplate": "homeTeam=%{x}<br>totalScored=%{y}<extra></extra>",
         "legendgroup": "Valencia",
         "marker": {
          "color": "#636efa"
         },
         "name": "Valencia",
         "notched": true,
         "offsetgroup": "Valencia",
         "orientation": "v",
         "showlegend": true,
         "type": "box",
         "x": [
          "Valencia"
         ],
         "x0": " ",
         "xaxis": "x",
         "y": [
          8
         ],
         "y0": " ",
         "yaxis": "y"
        },
        {
         "alignmentgroup": "True",
         "hovertemplate": "homeTeam=%{x}<br>totalScored=%{y}<extra></extra>",
         "legendgroup": "Zenit St. Petersburg",
         "marker": {
          "color": "#EF553B"
         },
         "name": "Zenit St. Petersburg",
         "notched": true,
         "offsetgroup": "Zenit St. Petersburg",
         "orientation": "v",
         "showlegend": true,
         "type": "box",
         "x": [
          "Zenit St. Petersburg"
         ],
         "x0": " ",
         "xaxis": "x",
         "y": [
          7
         ],
         "y0": " ",
         "yaxis": "y"
        }
       ],
       "layout": {
        "boxmode": "overlay",
        "legend": {
         "title": {
          "text": "homeTeam"
         },
         "tracegroupgap": 0
        },
        "margin": {
         "t": 60
        },
        "template": {
         "data": {
          "bar": [
           {
            "error_x": {
             "color": "#2a3f5f"
            },
            "error_y": {
             "color": "#2a3f5f"
            },
            "marker": {
             "line": {
              "color": "#E5ECF6",
              "width": 0.5
             },
             "pattern": {
              "fillmode": "overlay",
              "size": 10,
              "solidity": 0.2
             }
            },
            "type": "bar"
           }
          ],
          "barpolar": [
           {
            "marker": {
             "line": {
              "color": "#E5ECF6",
              "width": 0.5
             },
             "pattern": {
              "fillmode": "overlay",
              "size": 10,
              "solidity": 0.2
             }
            },
            "type": "barpolar"
           }
          ],
          "carpet": [
           {
            "aaxis": {
             "endlinecolor": "#2a3f5f",
             "gridcolor": "white",
             "linecolor": "white",
             "minorgridcolor": "white",
             "startlinecolor": "#2a3f5f"
            },
            "baxis": {
             "endlinecolor": "#2a3f5f",
             "gridcolor": "white",
             "linecolor": "white",
             "minorgridcolor": "white",
             "startlinecolor": "#2a3f5f"
            },
            "type": "carpet"
           }
          ],
          "choropleth": [
           {
            "colorbar": {
             "outlinewidth": 0,
             "ticks": ""
            },
            "type": "choropleth"
           }
          ],
          "contour": [
           {
            "colorbar": {
             "outlinewidth": 0,
             "ticks": ""
            },
            "colorscale": [
             [
              0,
              "#0d0887"
             ],
             [
              0.1111111111111111,
              "#46039f"
             ],
             [
              0.2222222222222222,
              "#7201a8"
             ],
             [
              0.3333333333333333,
              "#9c179e"
             ],
             [
              0.4444444444444444,
              "#bd3786"
             ],
             [
              0.5555555555555556,
              "#d8576b"
             ],
             [
              0.6666666666666666,
              "#ed7953"
             ],
             [
              0.7777777777777778,
              "#fb9f3a"
             ],
             [
              0.8888888888888888,
              "#fdca26"
             ],
             [
              1,
              "#f0f921"
             ]
            ],
            "type": "contour"
           }
          ],
          "contourcarpet": [
           {
            "colorbar": {
             "outlinewidth": 0,
             "ticks": ""
            },
            "type": "contourcarpet"
           }
          ],
          "heatmap": [
           {
            "colorbar": {
             "outlinewidth": 0,
             "ticks": ""
            },
            "colorscale": [
             [
              0,
              "#0d0887"
             ],
             [
              0.1111111111111111,
              "#46039f"
             ],
             [
              0.2222222222222222,
              "#7201a8"
             ],
             [
              0.3333333333333333,
              "#9c179e"
             ],
             [
              0.4444444444444444,
              "#bd3786"
             ],
             [
              0.5555555555555556,
              "#d8576b"
             ],
             [
              0.6666666666666666,
              "#ed7953"
             ],
             [
              0.7777777777777778,
              "#fb9f3a"
             ],
             [
              0.8888888888888888,
              "#fdca26"
             ],
             [
              1,
              "#f0f921"
             ]
            ],
            "type": "heatmap"
           }
          ],
          "heatmapgl": [
           {
            "colorbar": {
             "outlinewidth": 0,
             "ticks": ""
            },
            "colorscale": [
             [
              0,
              "#0d0887"
             ],
             [
              0.1111111111111111,
              "#46039f"
             ],
             [
              0.2222222222222222,
              "#7201a8"
             ],
             [
              0.3333333333333333,
              "#9c179e"
             ],
             [
              0.4444444444444444,
              "#bd3786"
             ],
             [
              0.5555555555555556,
              "#d8576b"
             ],
             [
              0.6666666666666666,
              "#ed7953"
             ],
             [
              0.7777777777777778,
              "#fb9f3a"
             ],
             [
              0.8888888888888888,
              "#fdca26"
             ],
             [
              1,
              "#f0f921"
             ]
            ],
            "type": "heatmapgl"
           }
          ],
          "histogram": [
           {
            "marker": {
             "pattern": {
              "fillmode": "overlay",
              "size": 10,
              "solidity": 0.2
             }
            },
            "type": "histogram"
           }
          ],
          "histogram2d": [
           {
            "colorbar": {
             "outlinewidth": 0,
             "ticks": ""
            },
            "colorscale": [
             [
              0,
              "#0d0887"
             ],
             [
              0.1111111111111111,
              "#46039f"
             ],
             [
              0.2222222222222222,
              "#7201a8"
             ],
             [
              0.3333333333333333,
              "#9c179e"
             ],
             [
              0.4444444444444444,
              "#bd3786"
             ],
             [
              0.5555555555555556,
              "#d8576b"
             ],
             [
              0.6666666666666666,
              "#ed7953"
             ],
             [
              0.7777777777777778,
              "#fb9f3a"
             ],
             [
              0.8888888888888888,
              "#fdca26"
             ],
             [
              1,
              "#f0f921"
             ]
            ],
            "type": "histogram2d"
           }
          ],
          "histogram2dcontour": [
           {
            "colorbar": {
             "outlinewidth": 0,
             "ticks": ""
            },
            "colorscale": [
             [
              0,
              "#0d0887"
             ],
             [
              0.1111111111111111,
              "#46039f"
             ],
             [
              0.2222222222222222,
              "#7201a8"
             ],
             [
              0.3333333333333333,
              "#9c179e"
             ],
             [
              0.4444444444444444,
              "#bd3786"
             ],
             [
              0.5555555555555556,
              "#d8576b"
             ],
             [
              0.6666666666666666,
              "#ed7953"
             ],
             [
              0.7777777777777778,
              "#fb9f3a"
             ],
             [
              0.8888888888888888,
              "#fdca26"
             ],
             [
              1,
              "#f0f921"
             ]
            ],
            "type": "histogram2dcontour"
           }
          ],
          "mesh3d": [
           {
            "colorbar": {
             "outlinewidth": 0,
             "ticks": ""
            },
            "type": "mesh3d"
           }
          ],
          "parcoords": [
           {
            "line": {
             "colorbar": {
              "outlinewidth": 0,
              "ticks": ""
             }
            },
            "type": "parcoords"
           }
          ],
          "pie": [
           {
            "automargin": true,
            "type": "pie"
           }
          ],
          "scatter": [
           {
            "marker": {
             "colorbar": {
              "outlinewidth": 0,
              "ticks": ""
             }
            },
            "type": "scatter"
           }
          ],
          "scatter3d": [
           {
            "line": {
             "colorbar": {
              "outlinewidth": 0,
              "ticks": ""
             }
            },
            "marker": {
             "colorbar": {
              "outlinewidth": 0,
              "ticks": ""
             }
            },
            "type": "scatter3d"
           }
          ],
          "scattercarpet": [
           {
            "marker": {
             "colorbar": {
              "outlinewidth": 0,
              "ticks": ""
             }
            },
            "type": "scattercarpet"
           }
          ],
          "scattergeo": [
           {
            "marker": {
             "colorbar": {
              "outlinewidth": 0,
              "ticks": ""
             }
            },
            "type": "scattergeo"
           }
          ],
          "scattergl": [
           {
            "marker": {
             "colorbar": {
              "outlinewidth": 0,
              "ticks": ""
             }
            },
            "type": "scattergl"
           }
          ],
          "scattermapbox": [
           {
            "marker": {
             "colorbar": {
              "outlinewidth": 0,
              "ticks": ""
             }
            },
            "type": "scattermapbox"
           }
          ],
          "scatterpolar": [
           {
            "marker": {
             "colorbar": {
              "outlinewidth": 0,
              "ticks": ""
             }
            },
            "type": "scatterpolar"
           }
          ],
          "scatterpolargl": [
           {
            "marker": {
             "colorbar": {
              "outlinewidth": 0,
              "ticks": ""
             }
            },
            "type": "scatterpolargl"
           }
          ],
          "scatterternary": [
           {
            "marker": {
             "colorbar": {
              "outlinewidth": 0,
              "ticks": ""
             }
            },
            "type": "scatterternary"
           }
          ],
          "surface": [
           {
            "colorbar": {
             "outlinewidth": 0,
             "ticks": ""
            },
            "colorscale": [
             [
              0,
              "#0d0887"
             ],
             [
              0.1111111111111111,
              "#46039f"
             ],
             [
              0.2222222222222222,
              "#7201a8"
             ],
             [
              0.3333333333333333,
              "#9c179e"
             ],
             [
              0.4444444444444444,
              "#bd3786"
             ],
             [
              0.5555555555555556,
              "#d8576b"
             ],
             [
              0.6666666666666666,
              "#ed7953"
             ],
             [
              0.7777777777777778,
              "#fb9f3a"
             ],
             [
              0.8888888888888888,
              "#fdca26"
             ],
             [
              1,
              "#f0f921"
             ]
            ],
            "type": "surface"
           }
          ],
          "table": [
           {
            "cells": {
             "fill": {
              "color": "#EBF0F8"
             },
             "line": {
              "color": "white"
             }
            },
            "header": {
             "fill": {
              "color": "#C8D4E3"
             },
             "line": {
              "color": "white"
             }
            },
            "type": "table"
           }
          ]
         },
         "layout": {
          "annotationdefaults": {
           "arrowcolor": "#2a3f5f",
           "arrowhead": 0,
           "arrowwidth": 1
          },
          "autotypenumbers": "strict",
          "coloraxis": {
           "colorbar": {
            "outlinewidth": 0,
            "ticks": ""
           }
          },
          "colorscale": {
           "diverging": [
            [
             0,
             "#8e0152"
            ],
            [
             0.1,
             "#c51b7d"
            ],
            [
             0.2,
             "#de77ae"
            ],
            [
             0.3,
             "#f1b6da"
            ],
            [
             0.4,
             "#fde0ef"
            ],
            [
             0.5,
             "#f7f7f7"
            ],
            [
             0.6,
             "#e6f5d0"
            ],
            [
             0.7,
             "#b8e186"
            ],
            [
             0.8,
             "#7fbc41"
            ],
            [
             0.9,
             "#4d9221"
            ],
            [
             1,
             "#276419"
            ]
           ],
           "sequential": [
            [
             0,
             "#0d0887"
            ],
            [
             0.1111111111111111,
             "#46039f"
            ],
            [
             0.2222222222222222,
             "#7201a8"
            ],
            [
             0.3333333333333333,
             "#9c179e"
            ],
            [
             0.4444444444444444,
             "#bd3786"
            ],
            [
             0.5555555555555556,
             "#d8576b"
            ],
            [
             0.6666666666666666,
             "#ed7953"
            ],
            [
             0.7777777777777778,
             "#fb9f3a"
            ],
            [
             0.8888888888888888,
             "#fdca26"
            ],
            [
             1,
             "#f0f921"
            ]
           ],
           "sequentialminus": [
            [
             0,
             "#0d0887"
            ],
            [
             0.1111111111111111,
             "#46039f"
            ],
            [
             0.2222222222222222,
             "#7201a8"
            ],
            [
             0.3333333333333333,
             "#9c179e"
            ],
            [
             0.4444444444444444,
             "#bd3786"
            ],
            [
             0.5555555555555556,
             "#d8576b"
            ],
            [
             0.6666666666666666,
             "#ed7953"
            ],
            [
             0.7777777777777778,
             "#fb9f3a"
            ],
            [
             0.8888888888888888,
             "#fdca26"
            ],
            [
             1,
             "#f0f921"
            ]
           ]
          },
          "colorway": [
           "#636efa",
           "#EF553B",
           "#00cc96",
           "#ab63fa",
           "#FFA15A",
           "#19d3f3",
           "#FF6692",
           "#B6E880",
           "#FF97FF",
           "#FECB52"
          ],
          "font": {
           "color": "#2a3f5f"
          },
          "geo": {
           "bgcolor": "white",
           "lakecolor": "white",
           "landcolor": "#E5ECF6",
           "showlakes": true,
           "showland": true,
           "subunitcolor": "white"
          },
          "hoverlabel": {
           "align": "left"
          },
          "hovermode": "closest",
          "mapbox": {
           "style": "light"
          },
          "paper_bgcolor": "white",
          "plot_bgcolor": "#E5ECF6",
          "polar": {
           "angularaxis": {
            "gridcolor": "white",
            "linecolor": "white",
            "ticks": ""
           },
           "bgcolor": "#E5ECF6",
           "radialaxis": {
            "gridcolor": "white",
            "linecolor": "white",
            "ticks": ""
           }
          },
          "scene": {
           "xaxis": {
            "backgroundcolor": "#E5ECF6",
            "gridcolor": "white",
            "gridwidth": 2,
            "linecolor": "white",
            "showbackground": true,
            "ticks": "",
            "zerolinecolor": "white"
           },
           "yaxis": {
            "backgroundcolor": "#E5ECF6",
            "gridcolor": "white",
            "gridwidth": 2,
            "linecolor": "white",
            "showbackground": true,
            "ticks": "",
            "zerolinecolor": "white"
           },
           "zaxis": {
            "backgroundcolor": "#E5ECF6",
            "gridcolor": "white",
            "gridwidth": 2,
            "linecolor": "white",
            "showbackground": true,
            "ticks": "",
            "zerolinecolor": "white"
           }
          },
          "shapedefaults": {
           "line": {
            "color": "#2a3f5f"
           }
          },
          "ternary": {
           "aaxis": {
            "gridcolor": "white",
            "linecolor": "white",
            "ticks": ""
           },
           "baxis": {
            "gridcolor": "white",
            "linecolor": "white",
            "ticks": ""
           },
           "bgcolor": "#E5ECF6",
           "caxis": {
            "gridcolor": "white",
            "linecolor": "white",
            "ticks": ""
           }
          },
          "title": {
           "x": 0.05
          },
          "xaxis": {
           "automargin": true,
           "gridcolor": "white",
           "linecolor": "white",
           "ticks": "",
           "title": {
            "standoff": 15
           },
           "zerolinecolor": "white",
           "zerolinewidth": 2
          },
          "yaxis": {
           "automargin": true,
           "gridcolor": "white",
           "linecolor": "white",
           "ticks": "",
           "title": {
            "standoff": 15
           },
           "zerolinecolor": "white",
           "zerolinewidth": 2
          }
         }
        },
        "xaxis": {
         "anchor": "y",
         "categoryarray": [
          "Ajax",
          "Atalanta",
          "Atlético Madrid",
          "Barcelona",
          "Bayer 04 Leverkusen",
          "Bayern München",
          "Borussia Dortmund",
          "Chelsea",
          "Club Brugge",
          "FK Crvena zvezda",
          "GNK Dinamo Zagreb",
          "Galatasaray",
          "Inter",
          "Juventus",
          "KRC Genk",
          "Lille OSC",
          "Liverpool",
          "Lokomotiv Moscow",
          "Manchester City",
          "Napoli",
          "Olympiacos",
          "Olympique Lyonnais",
          "Paris Saint-Germain",
          "RB Leipzig",
          "Real Madrid",
          "Red Bull Salzburg",
          "SL Benfica",
          "Shakhtar Donetsk",
          "Slavia Praha",
          "Tottenham",
          "Valencia",
          "Zenit St. Petersburg"
         ],
         "categoryorder": "array",
         "domain": [
          0,
          1
         ],
         "title": {
          "text": "homeTeam"
         }
        },
        "yaxis": {
         "anchor": "x",
         "domain": [
          0,
          1
         ],
         "title": {
          "text": "totalScored"
         }
        }
       }
      },
      "text/html": [
       "<div>                            <div id=\"28f16fe9-17f8-46f9-ab13-ec1c61bce052\" class=\"plotly-graph-div\" style=\"height:525px; width:100%;\"></div>            <script type=\"text/javascript\">                require([\"plotly\"], function(Plotly) {                    window.PLOTLYENV=window.PLOTLYENV || {};                                    if (document.getElementById(\"28f16fe9-17f8-46f9-ab13-ec1c61bce052\")) {                    Plotly.newPlot(                        \"28f16fe9-17f8-46f9-ab13-ec1c61bce052\",                        [{\"alignmentgroup\":\"True\",\"hovertemplate\":\"homeTeam=%{x}<br>totalScored=%{y}<extra></extra>\",\"legendgroup\":\"Ajax\",\"marker\":{\"color\":\"#636efa\"},\"name\":\"Ajax\",\"notched\":true,\"offsetgroup\":\"Ajax\",\"orientation\":\"v\",\"showlegend\":true,\"type\":\"box\",\"x\":[\"Ajax\"],\"x0\":\" \",\"xaxis\":\"x\",\"y\":[12],\"y0\":\" \",\"yaxis\":\"y\"},{\"alignmentgroup\":\"True\",\"hovertemplate\":\"homeTeam=%{x}<br>totalScored=%{y}<extra></extra>\",\"legendgroup\":\"Atalanta\",\"marker\":{\"color\":\"#EF553B\"},\"name\":\"Atalanta\",\"notched\":true,\"offsetgroup\":\"Atalanta\",\"orientation\":\"v\",\"showlegend\":true,\"type\":\"box\",\"x\":[\"Atalanta\"],\"x0\":\" \",\"xaxis\":\"x\",\"y\":[5],\"y0\":\" \",\"yaxis\":\"y\"},{\"alignmentgroup\":\"True\",\"hovertemplate\":\"homeTeam=%{x}<br>totalScored=%{y}<extra></extra>\",\"legendgroup\":\"Atl\\u00e9tico Madrid\",\"marker\":{\"color\":\"#00cc96\"},\"name\":\"Atl\\u00e9tico Madrid\",\"notched\":true,\"offsetgroup\":\"Atl\\u00e9tico Madrid\",\"orientation\":\"v\",\"showlegend\":true,\"type\":\"box\",\"x\":[\"Atl\\u00e9tico Madrid\"],\"x0\":\" \",\"xaxis\":\"x\",\"y\":[6],\"y0\":\" \",\"yaxis\":\"y\"},{\"alignmentgroup\":\"True\",\"hovertemplate\":\"homeTeam=%{x}<br>totalScored=%{y}<extra></extra>\",\"legendgroup\":\"Barcelona\",\"marker\":{\"color\":\"#ab63fa\"},\"name\":\"Barcelona\",\"notched\":true,\"offsetgroup\":\"Barcelona\",\"orientation\":\"v\",\"showlegend\":true,\"type\":\"box\",\"x\":[\"Barcelona\"],\"x0\":\" \",\"xaxis\":\"x\",\"y\":[7],\"y0\":\" \",\"yaxis\":\"y\"},{\"alignmentgroup\":\"True\",\"hovertemplate\":\"homeTeam=%{x}<br>totalScored=%{y}<extra></extra>\",\"legendgroup\":\"Bayer 04 Leverkusen\",\"marker\":{\"color\":\"#FFA15A\"},\"name\":\"Bayer 04 Leverkusen\",\"notched\":true,\"offsetgroup\":\"Bayer 04 Leverkusen\",\"orientation\":\"v\",\"showlegend\":true,\"type\":\"box\",\"x\":[\"Bayer 04 Leverkusen\"],\"x0\":\" \",\"xaxis\":\"x\",\"y\":[5],\"y0\":\" \",\"yaxis\":\"y\"},{\"alignmentgroup\":\"True\",\"hovertemplate\":\"homeTeam=%{x}<br>totalScored=%{y}<extra></extra>\",\"legendgroup\":\"Bayern M\\u00fcnchen\",\"marker\":{\"color\":\"#19d3f3\"},\"name\":\"Bayern M\\u00fcnchen\",\"notched\":true,\"offsetgroup\":\"Bayern M\\u00fcnchen\",\"orientation\":\"v\",\"showlegend\":true,\"type\":\"box\",\"x\":[\"Bayern M\\u00fcnchen\"],\"x0\":\" \",\"xaxis\":\"x\",\"y\":[21],\"y0\":\" \",\"yaxis\":\"y\"},{\"alignmentgroup\":\"True\",\"hovertemplate\":\"homeTeam=%{x}<br>totalScored=%{y}<extra></extra>\",\"legendgroup\":\"Borussia Dortmund\",\"marker\":{\"color\":\"#FF6692\"},\"name\":\"Borussia Dortmund\",\"notched\":true,\"offsetgroup\":\"Borussia Dortmund\",\"orientation\":\"v\",\"showlegend\":true,\"type\":\"box\",\"x\":[\"Borussia Dortmund\"],\"x0\":\" \",\"xaxis\":\"x\",\"y\":[6],\"y0\":\" \",\"yaxis\":\"y\"},{\"alignmentgroup\":\"True\",\"hovertemplate\":\"homeTeam=%{x}<br>totalScored=%{y}<extra></extra>\",\"legendgroup\":\"Chelsea\",\"marker\":{\"color\":\"#B6E880\"},\"name\":\"Chelsea\",\"notched\":true,\"offsetgroup\":\"Chelsea\",\"orientation\":\"v\",\"showlegend\":true,\"type\":\"box\",\"x\":[\"Chelsea\"],\"x0\":\" \",\"xaxis\":\"x\",\"y\":[9],\"y0\":\" \",\"yaxis\":\"y\"},{\"alignmentgroup\":\"True\",\"hovertemplate\":\"homeTeam=%{x}<br>totalScored=%{y}<extra></extra>\",\"legendgroup\":\"Club Brugge\",\"marker\":{\"color\":\"#FF97FF\"},\"name\":\"Club Brugge\",\"notched\":true,\"offsetgroup\":\"Club Brugge\",\"orientation\":\"v\",\"showlegend\":true,\"type\":\"box\",\"x\":[\"Club Brugge\"],\"x0\":\" \",\"xaxis\":\"x\",\"y\":[3],\"y0\":\" \",\"yaxis\":\"y\"},{\"alignmentgroup\":\"True\",\"hovertemplate\":\"homeTeam=%{x}<br>totalScored=%{y}<extra></extra>\",\"legendgroup\":\"FK Crvena zvezda\",\"marker\":{\"color\":\"#FECB52\"},\"name\":\"FK Crvena zvezda\",\"notched\":true,\"offsetgroup\":\"FK Crvena zvezda\",\"orientation\":\"v\",\"showlegend\":true,\"type\":\"box\",\"x\":[\"FK Crvena zvezda\"],\"x0\":\" \",\"xaxis\":\"x\",\"y\":[3],\"y0\":\" \",\"yaxis\":\"y\"},{\"alignmentgroup\":\"True\",\"hovertemplate\":\"homeTeam=%{x}<br>totalScored=%{y}<extra></extra>\",\"legendgroup\":\"GNK Dinamo Zagreb\",\"marker\":{\"color\":\"#636efa\"},\"name\":\"GNK Dinamo Zagreb\",\"notched\":true,\"offsetgroup\":\"GNK Dinamo Zagreb\",\"orientation\":\"v\",\"showlegend\":true,\"type\":\"box\",\"x\":[\"GNK Dinamo Zagreb\"],\"x0\":\" \",\"xaxis\":\"x\",\"y\":[9],\"y0\":\" \",\"yaxis\":\"y\"},{\"alignmentgroup\":\"True\",\"hovertemplate\":\"homeTeam=%{x}<br>totalScored=%{y}<extra></extra>\",\"legendgroup\":\"Galatasaray\",\"marker\":{\"color\":\"#EF553B\"},\"name\":\"Galatasaray\",\"notched\":true,\"offsetgroup\":\"Galatasaray\",\"orientation\":\"v\",\"showlegend\":true,\"type\":\"box\",\"x\":[\"Galatasaray\"],\"x0\":\" \",\"xaxis\":\"x\",\"y\":[1],\"y0\":\" \",\"yaxis\":\"y\"},{\"alignmentgroup\":\"True\",\"hovertemplate\":\"homeTeam=%{x}<br>totalScored=%{y}<extra></extra>\",\"legendgroup\":\"Inter\",\"marker\":{\"color\":\"#00cc96\"},\"name\":\"Inter\",\"notched\":true,\"offsetgroup\":\"Inter\",\"orientation\":\"v\",\"showlegend\":true,\"type\":\"box\",\"x\":[\"Inter\"],\"x0\":\" \",\"xaxis\":\"x\",\"y\":[9],\"y0\":\" \",\"yaxis\":\"y\"},{\"alignmentgroup\":\"True\",\"hovertemplate\":\"homeTeam=%{x}<br>totalScored=%{y}<extra></extra>\",\"legendgroup\":\"Juventus\",\"marker\":{\"color\":\"#ab63fa\"},\"name\":\"Juventus\",\"notched\":true,\"offsetgroup\":\"Juventus\",\"orientation\":\"v\",\"showlegend\":true,\"type\":\"box\",\"x\":[\"Juventus\"],\"x0\":\" \",\"xaxis\":\"x\",\"y\":[10],\"y0\":\" \",\"yaxis\":\"y\"},{\"alignmentgroup\":\"True\",\"hovertemplate\":\"homeTeam=%{x}<br>totalScored=%{y}<extra></extra>\",\"legendgroup\":\"KRC Genk\",\"marker\":{\"color\":\"#FFA15A\"},\"name\":\"KRC Genk\",\"notched\":true,\"offsetgroup\":\"KRC Genk\",\"orientation\":\"v\",\"showlegend\":true,\"type\":\"box\",\"x\":[\"KRC Genk\"],\"x0\":\" \",\"xaxis\":\"x\",\"y\":[5],\"y0\":\" \",\"yaxis\":\"y\"},{\"alignmentgroup\":\"True\",\"hovertemplate\":\"homeTeam=%{x}<br>totalScored=%{y}<extra></extra>\",\"legendgroup\":\"Lille OSC\",\"marker\":{\"color\":\"#19d3f3\"},\"name\":\"Lille OSC\",\"notched\":true,\"offsetgroup\":\"Lille OSC\",\"orientation\":\"v\",\"showlegend\":true,\"type\":\"box\",\"x\":[\"Lille OSC\"],\"x0\":\" \",\"xaxis\":\"x\",\"y\":[3],\"y0\":\" \",\"yaxis\":\"y\"},{\"alignmentgroup\":\"True\",\"hovertemplate\":\"homeTeam=%{x}<br>totalScored=%{y}<extra></extra>\",\"legendgroup\":\"Liverpool\",\"marker\":{\"color\":\"#FF6692\"},\"name\":\"Liverpool\",\"notched\":true,\"offsetgroup\":\"Liverpool\",\"orientation\":\"v\",\"showlegend\":true,\"type\":\"box\",\"x\":[\"Liverpool\"],\"x0\":\" \",\"xaxis\":\"x\",\"y\":[11],\"y0\":\" \",\"yaxis\":\"y\"},{\"alignmentgroup\":\"True\",\"hovertemplate\":\"homeTeam=%{x}<br>totalScored=%{y}<extra></extra>\",\"legendgroup\":\"Lokomotiv Moscow\",\"marker\":{\"color\":\"#B6E880\"},\"name\":\"Lokomotiv Moscow\",\"notched\":true,\"offsetgroup\":\"Lokomotiv Moscow\",\"orientation\":\"v\",\"showlegend\":true,\"type\":\"box\",\"x\":[\"Lokomotiv Moscow\"],\"x0\":\" \",\"xaxis\":\"x\",\"y\":[4],\"y0\":\" \",\"yaxis\":\"y\"},{\"alignmentgroup\":\"True\",\"hovertemplate\":\"homeTeam=%{x}<br>totalScored=%{y}<extra></extra>\",\"legendgroup\":\"Manchester City\",\"marker\":{\"color\":\"#FF97FF\"},\"name\":\"Manchester City\",\"notched\":true,\"offsetgroup\":\"Manchester City\",\"orientation\":\"v\",\"showlegend\":true,\"type\":\"box\",\"x\":[\"Manchester City\"],\"x0\":\" \",\"xaxis\":\"x\",\"y\":[12],\"y0\":\" \",\"yaxis\":\"y\"},{\"alignmentgroup\":\"True\",\"hovertemplate\":\"homeTeam=%{x}<br>totalScored=%{y}<extra></extra>\",\"legendgroup\":\"Napoli\",\"marker\":{\"color\":\"#FECB52\"},\"name\":\"Napoli\",\"notched\":true,\"offsetgroup\":\"Napoli\",\"orientation\":\"v\",\"showlegend\":true,\"type\":\"box\",\"x\":[\"Napoli\"],\"x0\":\" \",\"xaxis\":\"x\",\"y\":[7],\"y0\":\" \",\"yaxis\":\"y\"},{\"alignmentgroup\":\"True\",\"hovertemplate\":\"homeTeam=%{x}<br>totalScored=%{y}<extra></extra>\",\"legendgroup\":\"Olympiacos\",\"marker\":{\"color\":\"#636efa\"},\"name\":\"Olympiacos\",\"notched\":true,\"offsetgroup\":\"Olympiacos\",\"orientation\":\"v\",\"showlegend\":true,\"type\":\"box\",\"x\":[\"Olympiacos\"],\"x0\":\" \",\"xaxis\":\"x\",\"y\":[7],\"y0\":\" \",\"yaxis\":\"y\"},{\"alignmentgroup\":\"True\",\"hovertemplate\":\"homeTeam=%{x}<br>totalScored=%{y}<extra></extra>\",\"legendgroup\":\"Olympique Lyonnais\",\"marker\":{\"color\":\"#EF553B\"},\"name\":\"Olympique Lyonnais\",\"notched\":true,\"offsetgroup\":\"Olympique Lyonnais\",\"orientation\":\"v\",\"showlegend\":true,\"type\":\"box\",\"x\":[\"Olympique Lyonnais\"],\"x0\":\" \",\"xaxis\":\"x\",\"y\":[7],\"y0\":\" \",\"yaxis\":\"y\"},{\"alignmentgroup\":\"True\",\"hovertemplate\":\"homeTeam=%{x}<br>totalScored=%{y}<extra></extra>\",\"legendgroup\":\"Paris Saint-Germain\",\"marker\":{\"color\":\"#00cc96\"},\"name\":\"Paris Saint-Germain\",\"notched\":true,\"offsetgroup\":\"Paris Saint-Germain\",\"orientation\":\"v\",\"showlegend\":true,\"type\":\"box\",\"x\":[\"Paris Saint-Germain\"],\"x0\":\" \",\"xaxis\":\"x\",\"y\":[12],\"y0\":\" \",\"yaxis\":\"y\"},{\"alignmentgroup\":\"True\",\"hovertemplate\":\"homeTeam=%{x}<br>totalScored=%{y}<extra></extra>\",\"legendgroup\":\"RB Leipzig\",\"marker\":{\"color\":\"#ab63fa\"},\"name\":\"RB Leipzig\",\"notched\":true,\"offsetgroup\":\"RB Leipzig\",\"orientation\":\"v\",\"showlegend\":true,\"type\":\"box\",\"x\":[\"RB Leipzig\"],\"x0\":\" \",\"xaxis\":\"x\",\"y\":[8],\"y0\":\" \",\"yaxis\":\"y\"},{\"alignmentgroup\":\"True\",\"hovertemplate\":\"homeTeam=%{x}<br>totalScored=%{y}<extra></extra>\",\"legendgroup\":\"Real Madrid\",\"marker\":{\"color\":\"#FFA15A\"},\"name\":\"Real Madrid\",\"notched\":true,\"offsetgroup\":\"Real Madrid\",\"orientation\":\"v\",\"showlegend\":true,\"type\":\"box\",\"x\":[\"Real Madrid\"],\"x0\":\" \",\"xaxis\":\"x\",\"y\":[11],\"y0\":\" \",\"yaxis\":\"y\"},{\"alignmentgroup\":\"True\",\"hovertemplate\":\"homeTeam=%{x}<br>totalScored=%{y}<extra></extra>\",\"legendgroup\":\"Red Bull Salzburg\",\"marker\":{\"color\":\"#19d3f3\"},\"name\":\"Red Bull Salzburg\",\"notched\":true,\"offsetgroup\":\"Red Bull Salzburg\",\"orientation\":\"v\",\"showlegend\":true,\"type\":\"box\",\"x\":[\"Red Bull Salzburg\"],\"x0\":\" \",\"xaxis\":\"x\",\"y\":[16],\"y0\":\" \",\"yaxis\":\"y\"},{\"alignmentgroup\":\"True\",\"hovertemplate\":\"homeTeam=%{x}<br>totalScored=%{y}<extra></extra>\",\"legendgroup\":\"SL Benfica\",\"marker\":{\"color\":\"#FF6692\"},\"name\":\"SL Benfica\",\"notched\":true,\"offsetgroup\":\"SL Benfica\",\"orientation\":\"v\",\"showlegend\":true,\"type\":\"box\",\"x\":[\"SL Benfica\"],\"x0\":\" \",\"xaxis\":\"x\",\"y\":[7],\"y0\":\" \",\"yaxis\":\"y\"},{\"alignmentgroup\":\"True\",\"hovertemplate\":\"homeTeam=%{x}<br>totalScored=%{y}<extra></extra>\",\"legendgroup\":\"Shakhtar Donetsk\",\"marker\":{\"color\":\"#B6E880\"},\"name\":\"Shakhtar Donetsk\",\"notched\":true,\"offsetgroup\":\"Shakhtar Donetsk\",\"orientation\":\"v\",\"showlegend\":true,\"type\":\"box\",\"x\":[\"Shakhtar Donetsk\"],\"x0\":\" \",\"xaxis\":\"x\",\"y\":[8],\"y0\":\" \",\"yaxis\":\"y\"},{\"alignmentgroup\":\"True\",\"hovertemplate\":\"homeTeam=%{x}<br>totalScored=%{y}<extra></extra>\",\"legendgroup\":\"Slavia Praha\",\"marker\":{\"color\":\"#FF97FF\"},\"name\":\"Slavia Praha\",\"notched\":true,\"offsetgroup\":\"Slavia Praha\",\"orientation\":\"v\",\"showlegend\":true,\"type\":\"box\",\"x\":[\"Slavia Praha\"],\"x0\":\" \",\"xaxis\":\"x\",\"y\":[3],\"y0\":\" \",\"yaxis\":\"y\"},{\"alignmentgroup\":\"True\",\"hovertemplate\":\"homeTeam=%{x}<br>totalScored=%{y}<extra></extra>\",\"legendgroup\":\"Tottenham\",\"marker\":{\"color\":\"#FECB52\"},\"name\":\"Tottenham\",\"notched\":true,\"offsetgroup\":\"Tottenham\",\"orientation\":\"v\",\"showlegend\":true,\"type\":\"box\",\"x\":[\"Tottenham\"],\"x0\":\" \",\"xaxis\":\"x\",\"y\":[17],\"y0\":\" \",\"yaxis\":\"y\"},{\"alignmentgroup\":\"True\",\"hovertemplate\":\"homeTeam=%{x}<br>totalScored=%{y}<extra></extra>\",\"legendgroup\":\"Valencia\",\"marker\":{\"color\":\"#636efa\"},\"name\":\"Valencia\",\"notched\":true,\"offsetgroup\":\"Valencia\",\"orientation\":\"v\",\"showlegend\":true,\"type\":\"box\",\"x\":[\"Valencia\"],\"x0\":\" \",\"xaxis\":\"x\",\"y\":[8],\"y0\":\" \",\"yaxis\":\"y\"},{\"alignmentgroup\":\"True\",\"hovertemplate\":\"homeTeam=%{x}<br>totalScored=%{y}<extra></extra>\",\"legendgroup\":\"Zenit St. Petersburg\",\"marker\":{\"color\":\"#EF553B\"},\"name\":\"Zenit St. Petersburg\",\"notched\":true,\"offsetgroup\":\"Zenit St. Petersburg\",\"orientation\":\"v\",\"showlegend\":true,\"type\":\"box\",\"x\":[\"Zenit St. Petersburg\"],\"x0\":\" \",\"xaxis\":\"x\",\"y\":[7],\"y0\":\" \",\"yaxis\":\"y\"}],                        {\"boxmode\":\"overlay\",\"legend\":{\"title\":{\"text\":\"homeTeam\"},\"tracegroupgap\":0},\"margin\":{\"t\":60},\"template\":{\"data\":{\"bar\":[{\"error_x\":{\"color\":\"#2a3f5f\"},\"error_y\":{\"color\":\"#2a3f5f\"},\"marker\":{\"line\":{\"color\":\"#E5ECF6\",\"width\":0.5},\"pattern\":{\"fillmode\":\"overlay\",\"size\":10,\"solidity\":0.2}},\"type\":\"bar\"}],\"barpolar\":[{\"marker\":{\"line\":{\"color\":\"#E5ECF6\",\"width\":0.5},\"pattern\":{\"fillmode\":\"overlay\",\"size\":10,\"solidity\":0.2}},\"type\":\"barpolar\"}],\"carpet\":[{\"aaxis\":{\"endlinecolor\":\"#2a3f5f\",\"gridcolor\":\"white\",\"linecolor\":\"white\",\"minorgridcolor\":\"white\",\"startlinecolor\":\"#2a3f5f\"},\"baxis\":{\"endlinecolor\":\"#2a3f5f\",\"gridcolor\":\"white\",\"linecolor\":\"white\",\"minorgridcolor\":\"white\",\"startlinecolor\":\"#2a3f5f\"},\"type\":\"carpet\"}],\"choropleth\":[{\"colorbar\":{\"outlinewidth\":0,\"ticks\":\"\"},\"type\":\"choropleth\"}],\"contour\":[{\"colorbar\":{\"outlinewidth\":0,\"ticks\":\"\"},\"colorscale\":[[0.0,\"#0d0887\"],[0.1111111111111111,\"#46039f\"],[0.2222222222222222,\"#7201a8\"],[0.3333333333333333,\"#9c179e\"],[0.4444444444444444,\"#bd3786\"],[0.5555555555555556,\"#d8576b\"],[0.6666666666666666,\"#ed7953\"],[0.7777777777777778,\"#fb9f3a\"],[0.8888888888888888,\"#fdca26\"],[1.0,\"#f0f921\"]],\"type\":\"contour\"}],\"contourcarpet\":[{\"colorbar\":{\"outlinewidth\":0,\"ticks\":\"\"},\"type\":\"contourcarpet\"}],\"heatmap\":[{\"colorbar\":{\"outlinewidth\":0,\"ticks\":\"\"},\"colorscale\":[[0.0,\"#0d0887\"],[0.1111111111111111,\"#46039f\"],[0.2222222222222222,\"#7201a8\"],[0.3333333333333333,\"#9c179e\"],[0.4444444444444444,\"#bd3786\"],[0.5555555555555556,\"#d8576b\"],[0.6666666666666666,\"#ed7953\"],[0.7777777777777778,\"#fb9f3a\"],[0.8888888888888888,\"#fdca26\"],[1.0,\"#f0f921\"]],\"type\":\"heatmap\"}],\"heatmapgl\":[{\"colorbar\":{\"outlinewidth\":0,\"ticks\":\"\"},\"colorscale\":[[0.0,\"#0d0887\"],[0.1111111111111111,\"#46039f\"],[0.2222222222222222,\"#7201a8\"],[0.3333333333333333,\"#9c179e\"],[0.4444444444444444,\"#bd3786\"],[0.5555555555555556,\"#d8576b\"],[0.6666666666666666,\"#ed7953\"],[0.7777777777777778,\"#fb9f3a\"],[0.8888888888888888,\"#fdca26\"],[1.0,\"#f0f921\"]],\"type\":\"heatmapgl\"}],\"histogram\":[{\"marker\":{\"pattern\":{\"fillmode\":\"overlay\",\"size\":10,\"solidity\":0.2}},\"type\":\"histogram\"}],\"histogram2d\":[{\"colorbar\":{\"outlinewidth\":0,\"ticks\":\"\"},\"colorscale\":[[0.0,\"#0d0887\"],[0.1111111111111111,\"#46039f\"],[0.2222222222222222,\"#7201a8\"],[0.3333333333333333,\"#9c179e\"],[0.4444444444444444,\"#bd3786\"],[0.5555555555555556,\"#d8576b\"],[0.6666666666666666,\"#ed7953\"],[0.7777777777777778,\"#fb9f3a\"],[0.8888888888888888,\"#fdca26\"],[1.0,\"#f0f921\"]],\"type\":\"histogram2d\"}],\"histogram2dcontour\":[{\"colorbar\":{\"outlinewidth\":0,\"ticks\":\"\"},\"colorscale\":[[0.0,\"#0d0887\"],[0.1111111111111111,\"#46039f\"],[0.2222222222222222,\"#7201a8\"],[0.3333333333333333,\"#9c179e\"],[0.4444444444444444,\"#bd3786\"],[0.5555555555555556,\"#d8576b\"],[0.6666666666666666,\"#ed7953\"],[0.7777777777777778,\"#fb9f3a\"],[0.8888888888888888,\"#fdca26\"],[1.0,\"#f0f921\"]],\"type\":\"histogram2dcontour\"}],\"mesh3d\":[{\"colorbar\":{\"outlinewidth\":0,\"ticks\":\"\"},\"type\":\"mesh3d\"}],\"parcoords\":[{\"line\":{\"colorbar\":{\"outlinewidth\":0,\"ticks\":\"\"}},\"type\":\"parcoords\"}],\"pie\":[{\"automargin\":true,\"type\":\"pie\"}],\"scatter\":[{\"marker\":{\"colorbar\":{\"outlinewidth\":0,\"ticks\":\"\"}},\"type\":\"scatter\"}],\"scatter3d\":[{\"line\":{\"colorbar\":{\"outlinewidth\":0,\"ticks\":\"\"}},\"marker\":{\"colorbar\":{\"outlinewidth\":0,\"ticks\":\"\"}},\"type\":\"scatter3d\"}],\"scattercarpet\":[{\"marker\":{\"colorbar\":{\"outlinewidth\":0,\"ticks\":\"\"}},\"type\":\"scattercarpet\"}],\"scattergeo\":[{\"marker\":{\"colorbar\":{\"outlinewidth\":0,\"ticks\":\"\"}},\"type\":\"scattergeo\"}],\"scattergl\":[{\"marker\":{\"colorbar\":{\"outlinewidth\":0,\"ticks\":\"\"}},\"type\":\"scattergl\"}],\"scattermapbox\":[{\"marker\":{\"colorbar\":{\"outlinewidth\":0,\"ticks\":\"\"}},\"type\":\"scattermapbox\"}],\"scatterpolar\":[{\"marker\":{\"colorbar\":{\"outlinewidth\":0,\"ticks\":\"\"}},\"type\":\"scatterpolar\"}],\"scatterpolargl\":[{\"marker\":{\"colorbar\":{\"outlinewidth\":0,\"ticks\":\"\"}},\"type\":\"scatterpolargl\"}],\"scatterternary\":[{\"marker\":{\"colorbar\":{\"outlinewidth\":0,\"ticks\":\"\"}},\"type\":\"scatterternary\"}],\"surface\":[{\"colorbar\":{\"outlinewidth\":0,\"ticks\":\"\"},\"colorscale\":[[0.0,\"#0d0887\"],[0.1111111111111111,\"#46039f\"],[0.2222222222222222,\"#7201a8\"],[0.3333333333333333,\"#9c179e\"],[0.4444444444444444,\"#bd3786\"],[0.5555555555555556,\"#d8576b\"],[0.6666666666666666,\"#ed7953\"],[0.7777777777777778,\"#fb9f3a\"],[0.8888888888888888,\"#fdca26\"],[1.0,\"#f0f921\"]],\"type\":\"surface\"}],\"table\":[{\"cells\":{\"fill\":{\"color\":\"#EBF0F8\"},\"line\":{\"color\":\"white\"}},\"header\":{\"fill\":{\"color\":\"#C8D4E3\"},\"line\":{\"color\":\"white\"}},\"type\":\"table\"}]},\"layout\":{\"annotationdefaults\":{\"arrowcolor\":\"#2a3f5f\",\"arrowhead\":0,\"arrowwidth\":1},\"autotypenumbers\":\"strict\",\"coloraxis\":{\"colorbar\":{\"outlinewidth\":0,\"ticks\":\"\"}},\"colorscale\":{\"diverging\":[[0,\"#8e0152\"],[0.1,\"#c51b7d\"],[0.2,\"#de77ae\"],[0.3,\"#f1b6da\"],[0.4,\"#fde0ef\"],[0.5,\"#f7f7f7\"],[0.6,\"#e6f5d0\"],[0.7,\"#b8e186\"],[0.8,\"#7fbc41\"],[0.9,\"#4d9221\"],[1,\"#276419\"]],\"sequential\":[[0.0,\"#0d0887\"],[0.1111111111111111,\"#46039f\"],[0.2222222222222222,\"#7201a8\"],[0.3333333333333333,\"#9c179e\"],[0.4444444444444444,\"#bd3786\"],[0.5555555555555556,\"#d8576b\"],[0.6666666666666666,\"#ed7953\"],[0.7777777777777778,\"#fb9f3a\"],[0.8888888888888888,\"#fdca26\"],[1.0,\"#f0f921\"]],\"sequentialminus\":[[0.0,\"#0d0887\"],[0.1111111111111111,\"#46039f\"],[0.2222222222222222,\"#7201a8\"],[0.3333333333333333,\"#9c179e\"],[0.4444444444444444,\"#bd3786\"],[0.5555555555555556,\"#d8576b\"],[0.6666666666666666,\"#ed7953\"],[0.7777777777777778,\"#fb9f3a\"],[0.8888888888888888,\"#fdca26\"],[1.0,\"#f0f921\"]]},\"colorway\":[\"#636efa\",\"#EF553B\",\"#00cc96\",\"#ab63fa\",\"#FFA15A\",\"#19d3f3\",\"#FF6692\",\"#B6E880\",\"#FF97FF\",\"#FECB52\"],\"font\":{\"color\":\"#2a3f5f\"},\"geo\":{\"bgcolor\":\"white\",\"lakecolor\":\"white\",\"landcolor\":\"#E5ECF6\",\"showlakes\":true,\"showland\":true,\"subunitcolor\":\"white\"},\"hoverlabel\":{\"align\":\"left\"},\"hovermode\":\"closest\",\"mapbox\":{\"style\":\"light\"},\"paper_bgcolor\":\"white\",\"plot_bgcolor\":\"#E5ECF6\",\"polar\":{\"angularaxis\":{\"gridcolor\":\"white\",\"linecolor\":\"white\",\"ticks\":\"\"},\"bgcolor\":\"#E5ECF6\",\"radialaxis\":{\"gridcolor\":\"white\",\"linecolor\":\"white\",\"ticks\":\"\"}},\"scene\":{\"xaxis\":{\"backgroundcolor\":\"#E5ECF6\",\"gridcolor\":\"white\",\"gridwidth\":2,\"linecolor\":\"white\",\"showbackground\":true,\"ticks\":\"\",\"zerolinecolor\":\"white\"},\"yaxis\":{\"backgroundcolor\":\"#E5ECF6\",\"gridcolor\":\"white\",\"gridwidth\":2,\"linecolor\":\"white\",\"showbackground\":true,\"ticks\":\"\",\"zerolinecolor\":\"white\"},\"zaxis\":{\"backgroundcolor\":\"#E5ECF6\",\"gridcolor\":\"white\",\"gridwidth\":2,\"linecolor\":\"white\",\"showbackground\":true,\"ticks\":\"\",\"zerolinecolor\":\"white\"}},\"shapedefaults\":{\"line\":{\"color\":\"#2a3f5f\"}},\"ternary\":{\"aaxis\":{\"gridcolor\":\"white\",\"linecolor\":\"white\",\"ticks\":\"\"},\"baxis\":{\"gridcolor\":\"white\",\"linecolor\":\"white\",\"ticks\":\"\"},\"bgcolor\":\"#E5ECF6\",\"caxis\":{\"gridcolor\":\"white\",\"linecolor\":\"white\",\"ticks\":\"\"}},\"title\":{\"x\":0.05},\"xaxis\":{\"automargin\":true,\"gridcolor\":\"white\",\"linecolor\":\"white\",\"ticks\":\"\",\"title\":{\"standoff\":15},\"zerolinecolor\":\"white\",\"zerolinewidth\":2},\"yaxis\":{\"automargin\":true,\"gridcolor\":\"white\",\"linecolor\":\"white\",\"ticks\":\"\",\"title\":{\"standoff\":15},\"zerolinecolor\":\"white\",\"zerolinewidth\":2}}},\"xaxis\":{\"anchor\":\"y\",\"categoryarray\":[\"Ajax\",\"Atalanta\",\"Atl\\u00e9tico Madrid\",\"Barcelona\",\"Bayer 04 Leverkusen\",\"Bayern M\\u00fcnchen\",\"Borussia Dortmund\",\"Chelsea\",\"Club Brugge\",\"FK Crvena zvezda\",\"GNK Dinamo Zagreb\",\"Galatasaray\",\"Inter\",\"Juventus\",\"KRC Genk\",\"Lille OSC\",\"Liverpool\",\"Lokomotiv Moscow\",\"Manchester City\",\"Napoli\",\"Olympiacos\",\"Olympique Lyonnais\",\"Paris Saint-Germain\",\"RB Leipzig\",\"Real Madrid\",\"Red Bull Salzburg\",\"SL Benfica\",\"Shakhtar Donetsk\",\"Slavia Praha\",\"Tottenham\",\"Valencia\",\"Zenit St. Petersburg\"],\"categoryorder\":\"array\",\"domain\":[0.0,1.0],\"title\":{\"text\":\"homeTeam\"}},\"yaxis\":{\"anchor\":\"x\",\"domain\":[0.0,1.0],\"title\":{\"text\":\"totalScored\"}}},                        {\"responsive\": true}                    ).then(function(){\n",
       "                            \n",
       "var gd = document.getElementById('28f16fe9-17f8-46f9-ab13-ec1c61bce052');\n",
       "var x = new MutationObserver(function (mutations, observer) {{\n",
       "        var display = window.getComputedStyle(gd).display;\n",
       "        if (!display || display === 'none') {{\n",
       "            console.log([gd, 'removed!']);\n",
       "            Plotly.purge(gd);\n",
       "            observer.disconnect();\n",
       "        }}\n",
       "}});\n",
       "\n",
       "// Listen for the removal of the full notebook cells\n",
       "var notebookContainer = gd.closest('#notebook-container');\n",
       "if (notebookContainer) {{\n",
       "    x.observe(notebookContainer, {childList: true});\n",
       "}}\n",
       "\n",
       "// Listen for the clearing of the current output cell\n",
       "var outputEl = gd.closest('.output');\n",
       "if (outputEl) {{\n",
       "    x.observe(outputEl, {childList: true});\n",
       "}}\n",
       "\n",
       "                        })                };                });            </script>        </div>"
      ]
     },
     "metadata": {},
     "output_type": "display_data"
    }
   ],
   "source": [
    "fig = px.box(total_scores_scored_by_team, x=total_scores_scored_by_team.index, y=\"totalScored\",color=total_scores_scored_by_team.index, notched=True)\n",
    "fig.show()"
   ]
  },
  {
   "cell_type": "code",
   "execution_count": null,
   "id": "367eec01",
   "metadata": {},
   "outputs": [],
   "source": []
  }
 ],
 "metadata": {
  "kernelspec": {
   "display_name": "Python 3",
   "language": "python",
   "name": "python3"
  },
  "language_info": {
   "codemirror_mode": {
    "name": "ipython",
    "version": 3
   },
   "file_extension": ".py",
   "mimetype": "text/x-python",
   "name": "python",
   "nbconvert_exporter": "python",
   "pygments_lexer": "ipython3",
   "version": "3.8.8"
  }
 },
 "nbformat": 4,
 "nbformat_minor": 5
}
